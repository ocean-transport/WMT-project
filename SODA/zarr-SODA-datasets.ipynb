{
 "cells": [
  {
   "cell_type": "markdown",
   "id": "alpine-twenty",
   "metadata": {},
   "source": [
    "# Zarr SODA 3.4.2 ds"
   ]
  },
  {
   "cell_type": "code",
   "execution_count": null,
   "id": "handy-corner",
   "metadata": {},
   "outputs": [],
   "source": [
    "from dask_gateway import GatewayCluster\n",
    "\n",
    "cluster = GatewayCluster()\n",
    "cluster.scale(20)\n",
    "#cluster.adapt(minimum=2, maximum=10)  # or cluster.scale(n) to a fixed size.\n",
    "client = cluster.get_client()"
   ]
  },
  {
   "cell_type": "code",
   "execution_count": null,
   "id": "confidential-cooling",
   "metadata": {},
   "outputs": [],
   "source": [
    "client"
   ]
  },
  {
   "cell_type": "code",
   "execution_count": null,
   "id": "critical-scholarship",
   "metadata": {},
   "outputs": [],
   "source": [
    "client.close()\n",
    "cluster.close()"
   ]
  },
  {
   "cell_type": "code",
   "execution_count": 1,
   "id": "arranged-ridge",
   "metadata": {},
   "outputs": [],
   "source": [
    "import xarray as xr\n",
    "from matplotlib import pyplot as plt\n",
    "import gcsfs\n",
    "import dask\n",
    "import dask.array as dsa\n",
    "import numpy as np\n",
    "import fsspec\n",
    "%matplotlib inline\n",
    "xr.set_options(display_style='text');"
   ]
  },
  {
   "cell_type": "code",
   "execution_count": 2,
   "id": "alert-chuck",
   "metadata": {},
   "outputs": [],
   "source": [
    "url_ocean = 'gs://pangeo-forge-us-central1/pangeo-forge/soda/soda3.4.2_5dy_ocean_or'\n",
    "url_transport = 'gs://pangeo-forge-us-central1/pangeo-forge/soda/soda3.4.2_10dy_transport_or'\n",
    "#url_ice = 'gs://pangeo-forge-us-central1/pangeo-forge/soda/soda3.4.2_5dy_ice_or'\n",
    "\n",
    "fs = gcsfs.GCSFileSystem()\n",
    "ocean = xr.open_zarr(fs.get_mapper(url_ocean), consolidated=True)\n",
    "transport = xr.open_zarr(fs.get_mapper(url_transport), consolidated=True)\n",
    "#ice = xr.open_zarr(fs.get_mapper(url_ice), consolidated=True)"
   ]
  },
  {
   "cell_type": "code",
   "execution_count": null,
   "id": "incorporate-favorite",
   "metadata": {},
   "outputs": [],
   "source": [
    "import zarr\n",
    "zgroup = zarr.open_consolidated(fs.get_mapper(url_ocean))\n",
    "zgroup.info"
   ]
  },
  {
   "cell_type": "code",
   "execution_count": null,
   "id": "dominant-scanning",
   "metadata": {},
   "outputs": [],
   "source": [
    "zgroup.time.size"
   ]
  },
  {
   "cell_type": "code",
   "execution_count": null,
   "id": "meaningful-smith",
   "metadata": {},
   "outputs": [],
   "source": [
    "zgroup.time_bounds.size"
   ]
  },
  {
   "cell_type": "code",
   "execution_count": null,
   "id": "effective-mining",
   "metadata": {},
   "outputs": [],
   "source": [
    "time_array = zgroup.time\n",
    "time_array.info"
   ]
  },
  {
   "cell_type": "code",
   "execution_count": null,
   "id": "enabling-british",
   "metadata": {},
   "outputs": [],
   "source": [
    "dict(time_array.attrs)"
   ]
  },
  {
   "cell_type": "code",
   "execution_count": 3,
   "id": "union-olive",
   "metadata": {},
   "outputs": [],
   "source": [
    "ds = xr.open_zarr(fs.get_mapper(url_ocean), consolidated=True, decode_times=False)"
   ]
  },
  {
   "cell_type": "code",
   "execution_count": 4,
   "id": "official-anger",
   "metadata": {},
   "outputs": [],
   "source": [
    "ds_dec = xr.open_zarr(fs.get_mapper(url_ocean), consolidated=True, decode_times=True)"
   ]
  },
  {
   "cell_type": "code",
   "execution_count": null,
   "id": "partial-compromise",
   "metadata": {},
   "outputs": [],
   "source": [
    "ds.time.isel(time=1893)"
   ]
  },
  {
   "cell_type": "code",
   "execution_count": null,
   "id": "through-illness",
   "metadata": {},
   "outputs": [],
   "source": [
    "ds.time.isel(time=1894)"
   ]
  },
  {
   "cell_type": "code",
   "execution_count": null,
   "id": "searching-corruption",
   "metadata": {},
   "outputs": [],
   "source": [
    "ds.time.isel(time=1895)"
   ]
  },
  {
   "cell_type": "code",
   "execution_count": null,
   "id": "conventional-importance",
   "metadata": {},
   "outputs": [],
   "source": [
    "#encoded time\n",
    "#this index should have value of 9480\n",
    "ds.time.isel(time=1896).values = 9480"
   ]
  },
  {
   "cell_type": "code",
   "execution_count": null,
   "id": "referenced-formation",
   "metadata": {},
   "outputs": [],
   "source": [
    "#this index should have value of 9485\n",
    "ds.time.isel(time=1897).values = 9485"
   ]
  },
  {
   "cell_type": "code",
   "execution_count": null,
   "id": "immediate-compiler",
   "metadata": {},
   "outputs": [],
   "source": [
    "ds['time'][1896] = 9480"
   ]
  },
  {
   "cell_type": "code",
   "execution_count": null,
   "id": "macro-logan",
   "metadata": {},
   "outputs": [],
   "source": [
    "ds.time"
   ]
  },
  {
   "cell_type": "code",
   "execution_count": null,
   "id": "gorgeous-universal",
   "metadata": {},
   "outputs": [],
   "source": [
    "ds_dec.time"
   ]
  },
  {
   "cell_type": "code",
   "execution_count": null,
   "id": "foreign-organic",
   "metadata": {},
   "outputs": [],
   "source": [
    "xr.decode_cf(ds).time"
   ]
  },
  {
   "cell_type": "code",
   "execution_count": 5,
   "id": "opposite-edward",
   "metadata": {},
   "outputs": [
    {
     "data": {
      "text/plain": [
       "array([   0,    5,   10, ..., 9835, 9840, 9845])"
      ]
     },
     "execution_count": 5,
     "metadata": {},
     "output_type": "execute_result"
    }
   ],
   "source": [
    "#ds.time.data[-1] + 5 to get stop value\n",
    "data = np.arange(0, 9850, 5)\n",
    "data"
   ]
  },
  {
   "cell_type": "code",
   "execution_count": 6,
   "id": "miniature-retention",
   "metadata": {},
   "outputs": [
    {
     "data": {
      "text/plain": [
       "[<matplotlib.lines.Line2D at 0x7f47f7652160>]"
      ]
     },
     "execution_count": 6,
     "metadata": {},
     "output_type": "execute_result"
    },
    {
     "data": {
      "image/png": "[encoded data removed]",
      "text/plain": [
       "<Figure size 432x288 with 1 Axes>"
      ]
     },
     "metadata": {
      "needs_background": "light"
     },
     "output_type": "display_data"
    }
   ],
   "source": [
    "plt.plot(data)"
   ]
  },
  {
   "cell_type": "code",
   "execution_count": 7,
   "id": "married-winter",
   "metadata": {},
   "outputs": [
    {
     "data": {
      "text/plain": [
       "[<matplotlib.lines.Line2D at 0x7f47f7679b80>]"
      ]
     },
     "execution_count": 7,
     "metadata": {},
     "output_type": "execute_result"
    },
    {
     "data": {
      "image/png": "[encoded data removed]",
      "text/plain": [
       "<Figure size 432x288 with 1 Axes>"
      ]
     },
     "metadata": {
      "needs_background": "light"
     },
     "output_type": "display_data"
    }
   ],
   "source": [
    "plt.plot(ds.time.data)"
   ]
  },
  {
   "cell_type": "code",
   "execution_count": 8,
   "id": "flush-council",
   "metadata": {},
   "outputs": [
    {
     "data": {
      "text/plain": [
       "array([   0,    5,   10, ..., 9835, 9840, 9845])"
      ]
     },
     "execution_count": 8,
     "metadata": {},
     "output_type": "execute_result"
    }
   ],
   "source": [
    "ds.time.data"
   ]
  },
  {
   "cell_type": "code",
   "execution_count": 9,
   "id": "known-north",
   "metadata": {},
   "outputs": [
    {
     "data": {
      "text/plain": [
       "array([   0,    5,   10, ..., 9835, 9840, 9845])"
      ]
     },
     "execution_count": 9,
     "metadata": {},
     "output_type": "execute_result"
    }
   ],
   "source": [
    "data"
   ]
  },
  {
   "cell_type": "code",
   "execution_count": 10,
   "id": "large-delhi",
   "metadata": {},
   "outputs": [
    {
     "data": {
      "text/html": [
       "<pre>&lt;xarray.DataArray &#x27;time&#x27; (time: 1970)&gt;\n",
       "array([   0,    5,   10, ..., 9835, 9840, 9845])\n",
       "Coordinates:\n",
       "  * time     (time) int64 0 5 10 15 20 25 30 ... 9820 9825 9830 9835 9840 9845\n",
       "Attributes:\n",
       "    bounds:          time_bounds\n",
       "    calendar:        julian\n",
       "    calendar_type:   JULIAN\n",
       "    cartesian_axis:  T\n",
       "    long_name:       time\n",
       "    units:           days since 1993-01-04 13:00:00.000000</pre>"
      ],
      "text/plain": [
       "<xarray.DataArray 'time' (time: 1970)>\n",
       "array([   0,    5,   10, ..., 9835, 9840, 9845])\n",
       "Coordinates:\n",
       "  * time     (time) int64 0 5 10 15 20 25 30 ... 9820 9825 9830 9835 9840 9845\n",
       "Attributes:\n",
       "    bounds:          time_bounds\n",
       "    calendar:        julian\n",
       "    calendar_type:   JULIAN\n",
       "    cartesian_axis:  T\n",
       "    long_name:       time\n",
       "    units:           days since 1993-01-04 13:00:00.000000"
      ]
     },
     "execution_count": 10,
     "metadata": {},
     "output_type": "execute_result"
    }
   ],
   "source": [
    "ds.time"
   ]
  },
  {
   "cell_type": "markdown",
   "id": "patent-canyon",
   "metadata": {},
   "source": [
    "### Mark 1"
   ]
  },
  {
   "cell_type": "code",
   "execution_count": 11,
   "id": "pressed-brave",
   "metadata": {},
   "outputs": [],
   "source": [
    "time_data_test = xr.DataArray(data=data, dims=['time'], coords=dict(time=('time',data)))"
   ]
  },
  {
   "cell_type": "code",
   "execution_count": 12,
   "id": "proprietary-mineral",
   "metadata": {},
   "outputs": [],
   "source": [
    "time_data_ds = time_data_test.to_dataset(name='time_new')"
   ]
  },
  {
   "cell_type": "code",
   "execution_count": 13,
   "id": "accessory-density",
   "metadata": {},
   "outputs": [
    {
     "data": {
      "text/html": [
       "<pre>&lt;xarray.Dataset&gt;\n",
       "Dimensions:   (time: 1970)\n",
       "Coordinates:\n",
       "  * time      (time) int64 0 5 10 15 20 25 30 ... 9820 9825 9830 9835 9840 9845\n",
       "Data variables:\n",
       "    time_new  (time) int64 0 5 10 15 20 25 30 ... 9820 9825 9830 9835 9840 9845</pre>"
      ],
      "text/plain": [
       "<xarray.Dataset>\n",
       "Dimensions:   (time: 1970)\n",
       "Coordinates:\n",
       "  * time      (time) int64 0 5 10 15 20 25 30 ... 9820 9825 9830 9835 9840 9845\n",
       "Data variables:\n",
       "    time_new  (time) int64 0 5 10 15 20 25 30 ... 9820 9825 9830 9835 9840 9845"
      ]
     },
     "execution_count": 13,
     "metadata": {},
     "output_type": "execute_result"
    }
   ],
   "source": [
    "time_data_ds"
   ]
  },
  {
   "cell_type": "code",
   "execution_count": 14,
   "id": "monetary-brother",
   "metadata": {},
   "outputs": [
    {
     "data": {
      "text/html": [
       "<pre>&lt;xarray.DataArray &#x27;time_new&#x27; (time: 1970)&gt;\n",
       "array([   0,    5,   10, ..., 9835, 9840, 9845])\n",
       "Coordinates:\n",
       "  * time     (time) int64 0 5 10 15 20 25 30 ... 9820 9825 9830 9835 9840 9845</pre>"
      ],
      "text/plain": [
       "<xarray.DataArray 'time_new' (time: 1970)>\n",
       "array([   0,    5,   10, ..., 9835, 9840, 9845])\n",
       "Coordinates:\n",
       "  * time     (time) int64 0 5 10 15 20 25 30 ... 9820 9825 9830 9835 9840 9845"
      ]
     },
     "execution_count": 14,
     "metadata": {},
     "output_type": "execute_result"
    }
   ],
   "source": [
    "xr.decode_cf(time_data_ds).time_new"
   ]
  },
  {
   "cell_type": "code",
   "execution_count": 15,
   "id": "tutorial-constitution",
   "metadata": {},
   "outputs": [
    {
     "data": {
      "text/html": [
       "<pre>&lt;xarray.DataArray &#x27;time&#x27; (time: 1970)&gt;\n",
       "array([   0,    5,   10, ..., 9835, 9840, 9845])\n",
       "Coordinates:\n",
       "  * time     (time) int64 0 5 10 15 20 25 30 ... 9820 9825 9830 9835 9840 9845</pre>"
      ],
      "text/plain": [
       "<xarray.DataArray 'time' (time: 1970)>\n",
       "array([   0,    5,   10, ..., 9835, 9840, 9845])\n",
       "Coordinates:\n",
       "  * time     (time) int64 0 5 10 15 20 25 30 ... 9820 9825 9830 9835 9840 9845"
      ]
     },
     "execution_count": 15,
     "metadata": {},
     "output_type": "execute_result"
    }
   ],
   "source": [
    "xr.decode_cf(time_data_ds).time"
   ]
  },
  {
   "cell_type": "markdown",
   "id": "daily-powder",
   "metadata": {},
   "source": [
    "### Mark 2"
   ]
  },
  {
   "cell_type": "code",
   "execution_count": 16,
   "id": "spare-tissue",
   "metadata": {},
   "outputs": [
    {
     "data": {
      "text/html": [
       "<pre>&lt;xarray.DataArray &#x27;time&#x27; (time: 1970)&gt;\n",
       "array([   0,    5,   10, ..., 9835, 9840, 9845])\n",
       "Coordinates:\n",
       "  * time     (time) int64 0 5 10 15 20 25 30 ... 9820 9825 9830 9835 9840 9845\n",
       "Attributes:\n",
       "    bounds:          time_bounds\n",
       "    calendar:        julian\n",
       "    calendar_type:   JULIAN\n",
       "    cartesian_axis:  T\n",
       "    long_name:       time\n",
       "    units:           days since 1993-01-04 13:00:00.000000</pre>"
      ],
      "text/plain": [
       "<xarray.DataArray 'time' (time: 1970)>\n",
       "array([   0,    5,   10, ..., 9835, 9840, 9845])\n",
       "Coordinates:\n",
       "  * time     (time) int64 0 5 10 15 20 25 30 ... 9820 9825 9830 9835 9840 9845\n",
       "Attributes:\n",
       "    bounds:          time_bounds\n",
       "    calendar:        julian\n",
       "    calendar_type:   JULIAN\n",
       "    cartesian_axis:  T\n",
       "    long_name:       time\n",
       "    units:           days since 1993-01-04 13:00:00.000000"
      ]
     },
     "execution_count": 16,
     "metadata": {},
     "output_type": "execute_result"
    }
   ],
   "source": [
    "ds.time"
   ]
  },
  {
   "cell_type": "code",
   "execution_count": 17,
   "id": "bright-coral",
   "metadata": {},
   "outputs": [
    {
     "data": {
      "text/html": [
       "<pre>&lt;xarray.DataArray &#x27;time&#x27; (time: 1970)&gt;\n",
       "array([cftime.DatetimeJulian(1993, 1, 4, 13, 0, 0, 0),\n",
       "       cftime.DatetimeJulian(1993, 1, 9, 13, 0, 0, 0),\n",
       "       cftime.DatetimeJulian(1993, 1, 14, 13, 0, 0, 0), ...,\n",
       "       cftime.DatetimeJulian(2019, 12, 9, 13, 0, 0, 0),\n",
       "       cftime.DatetimeJulian(2019, 12, 14, 13, 0, 0, 0),\n",
       "       cftime.DatetimeJulian(2019, 12, 19, 13, 0, 0, 0)], dtype=object)\n",
       "Coordinates:\n",
       "  * time     (time) object 1993-01-04 13:00:00 ... 2019-12-19 13:00:00\n",
       "Attributes:\n",
       "    bounds:          time_bounds\n",
       "    calendar_type:   JULIAN\n",
       "    cartesian_axis:  T\n",
       "    long_name:       time</pre>"
      ],
      "text/plain": [
       "<xarray.DataArray 'time' (time: 1970)>\n",
       "array([cftime.DatetimeJulian(1993, 1, 4, 13, 0, 0, 0),\n",
       "       cftime.DatetimeJulian(1993, 1, 9, 13, 0, 0, 0),\n",
       "       cftime.DatetimeJulian(1993, 1, 14, 13, 0, 0, 0), ...,\n",
       "       cftime.DatetimeJulian(2019, 12, 9, 13, 0, 0, 0),\n",
       "       cftime.DatetimeJulian(2019, 12, 14, 13, 0, 0, 0),\n",
       "       cftime.DatetimeJulian(2019, 12, 19, 13, 0, 0, 0)], dtype=object)\n",
       "Coordinates:\n",
       "  * time     (time) object 1993-01-04 13:00:00 ... 2019-12-19 13:00:00\n",
       "Attributes:\n",
       "    bounds:          time_bounds\n",
       "    calendar_type:   JULIAN\n",
       "    cartesian_axis:  T\n",
       "    long_name:       time"
      ]
     },
     "execution_count": 17,
     "metadata": {},
     "output_type": "execute_result"
    }
   ],
   "source": [
    "ds_dec.time"
   ]
  },
  {
   "cell_type": "code",
   "execution_count": 18,
   "id": "colonial-produce",
   "metadata": {},
   "outputs": [],
   "source": [
    "time_copy = ds.time.copy(deep=False)\n",
    "time_coord = time_copy.coords.to_dataset().reset_coords() \n",
    "#^separating time coord to be a ds itself so that can change values of it in next line but keep encoded time info\n",
    "time_coord_copy = time_coord.time.copy(data=data) \n",
    "#^rewriting the coord data for self-created data\n",
    "time_new_data_coord = time_copy.assign_coords(time=time_coord_copy) \n",
    "#^assigning new values for coord to copied time array"
   ]
  },
  {
   "cell_type": "code",
   "execution_count": null,
   "id": "advisory-chest",
   "metadata": {},
   "outputs": [],
   "source": [
    "time_coord"
   ]
  },
  {
   "cell_type": "code",
   "execution_count": 19,
   "id": "literary-flower",
   "metadata": {},
   "outputs": [
    {
     "data": {
      "text/html": [
       "<pre>&lt;xarray.DataArray &#x27;time&#x27; (time: 1970)&gt;\n",
       "array([   0,    5,   10, ..., 9835, 9840, 9845])\n",
       "Coordinates:\n",
       "  * time     (time) int64 0 5 10 15 20 25 30 ... 9820 9825 9830 9835 9840 9845\n",
       "Attributes:\n",
       "    bounds:          time_bounds\n",
       "    calendar:        julian\n",
       "    calendar_type:   JULIAN\n",
       "    cartesian_axis:  T\n",
       "    long_name:       time\n",
       "    units:           days since 1993-01-04 13:00:00.000000</pre>"
      ],
      "text/plain": [
       "<xarray.DataArray 'time' (time: 1970)>\n",
       "array([   0,    5,   10, ..., 9835, 9840, 9845])\n",
       "Coordinates:\n",
       "  * time     (time) int64 0 5 10 15 20 25 30 ... 9820 9825 9830 9835 9840 9845\n",
       "Attributes:\n",
       "    bounds:          time_bounds\n",
       "    calendar:        julian\n",
       "    calendar_type:   JULIAN\n",
       "    cartesian_axis:  T\n",
       "    long_name:       time\n",
       "    units:           days since 1993-01-04 13:00:00.000000"
      ]
     },
     "execution_count": 19,
     "metadata": {},
     "output_type": "execute_result"
    }
   ],
   "source": [
    "time_new_data_coord"
   ]
  },
  {
   "cell_type": "code",
   "execution_count": 20,
   "id": "planned-reset",
   "metadata": {},
   "outputs": [
    {
     "data": {
      "text/plain": [
       "[<matplotlib.lines.Line2D at 0x7f47f7fa9d60>]"
      ]
     },
     "execution_count": 20,
     "metadata": {},
     "output_type": "execute_result"
    },
    {
     "data": {
      "image/png": "[encoded data removed]",
      "text/plain": [
       "<Figure size 432x288 with 1 Axes>"
      ]
     },
     "metadata": {
      "needs_background": "light"
     },
     "output_type": "display_data"
    }
   ],
   "source": [
    "plt.plot(time_new_data_coord.time.values)"
   ]
  },
  {
   "cell_type": "code",
   "execution_count": 21,
   "id": "promotional-agent",
   "metadata": {},
   "outputs": [],
   "source": [
    "time_new = time_new_data_coord.to_dataset(name = 'time_new')"
   ]
  },
  {
   "cell_type": "code",
   "execution_count": 22,
   "id": "literary-lincoln",
   "metadata": {},
   "outputs": [
    {
     "data": {
      "text/html": [
       "<pre>&lt;xarray.Dataset&gt;\n",
       "Dimensions:   (time: 1970)\n",
       "Coordinates:\n",
       "  * time      (time) int64 0 5 10 15 20 25 30 ... 9820 9825 9830 9835 9840 9845\n",
       "Data variables:\n",
       "    time_new  (time) int64 0 5 10 15 20 25 30 ... 9820 9825 9830 9835 9840 9845</pre>"
      ],
      "text/plain": [
       "<xarray.Dataset>\n",
       "Dimensions:   (time: 1970)\n",
       "Coordinates:\n",
       "  * time      (time) int64 0 5 10 15 20 25 30 ... 9820 9825 9830 9835 9840 9845\n",
       "Data variables:\n",
       "    time_new  (time) int64 0 5 10 15 20 25 30 ... 9820 9825 9830 9835 9840 9845"
      ]
     },
     "execution_count": 22,
     "metadata": {},
     "output_type": "execute_result"
    }
   ],
   "source": [
    "time_new"
   ]
  },
  {
   "cell_type": "code",
   "execution_count": 23,
   "id": "aggressive-lottery",
   "metadata": {},
   "outputs": [],
   "source": [
    "time_new_dec = xr.decode_cf(time_new, decode_coords=True).time_new"
   ]
  },
  {
   "cell_type": "code",
   "execution_count": 24,
   "id": "assumed-celtic",
   "metadata": {},
   "outputs": [
    {
     "data": {
      "text/html": [
       "<pre>&lt;xarray.DataArray &#x27;time_new&#x27; (time: 1970)&gt;\n",
       "array([cftime.DatetimeJulian(1993, 1, 4, 13, 0, 0, 0),\n",
       "       cftime.DatetimeJulian(1993, 1, 9, 13, 0, 0, 0),\n",
       "       cftime.DatetimeJulian(1993, 1, 14, 13, 0, 0, 0), ...,\n",
       "       cftime.DatetimeJulian(2019, 12, 9, 13, 0, 0, 0),\n",
       "       cftime.DatetimeJulian(2019, 12, 14, 13, 0, 0, 0),\n",
       "       cftime.DatetimeJulian(2019, 12, 19, 13, 0, 0, 0)], dtype=object)\n",
       "Coordinates:\n",
       "  * time     (time) object 1993-01-04 13:00:00 ... 2019-12-19 13:00:00\n",
       "Attributes:\n",
       "    bounds:          time_bounds\n",
       "    calendar_type:   JULIAN\n",
       "    cartesian_axis:  T\n",
       "    long_name:       time</pre>"
      ],
      "text/plain": [
       "<xarray.DataArray 'time_new' (time: 1970)>\n",
       "array([cftime.DatetimeJulian(1993, 1, 4, 13, 0, 0, 0),\n",
       "       cftime.DatetimeJulian(1993, 1, 9, 13, 0, 0, 0),\n",
       "       cftime.DatetimeJulian(1993, 1, 14, 13, 0, 0, 0), ...,\n",
       "       cftime.DatetimeJulian(2019, 12, 9, 13, 0, 0, 0),\n",
       "       cftime.DatetimeJulian(2019, 12, 14, 13, 0, 0, 0),\n",
       "       cftime.DatetimeJulian(2019, 12, 19, 13, 0, 0, 0)], dtype=object)\n",
       "Coordinates:\n",
       "  * time     (time) object 1993-01-04 13:00:00 ... 2019-12-19 13:00:00\n",
       "Attributes:\n",
       "    bounds:          time_bounds\n",
       "    calendar_type:   JULIAN\n",
       "    cartesian_axis:  T\n",
       "    long_name:       time"
      ]
     },
     "execution_count": 24,
     "metadata": {},
     "output_type": "execute_result"
    }
   ],
   "source": [
    "time_new_dec"
   ]
  },
  {
   "cell_type": "code",
   "execution_count": 25,
   "id": "aware-column",
   "metadata": {},
   "outputs": [
    {
     "data": {
      "text/html": [
       "<pre>&lt;xarray.DataArray &#x27;time&#x27; (time: 1970)&gt;\n",
       "array([cftime.DatetimeJulian(1993, 1, 4, 13, 0, 0, 0),\n",
       "       cftime.DatetimeJulian(1993, 1, 9, 13, 0, 0, 0),\n",
       "       cftime.DatetimeJulian(1993, 1, 14, 13, 0, 0, 0), ...,\n",
       "       cftime.DatetimeJulian(2019, 12, 9, 13, 0, 0, 0),\n",
       "       cftime.DatetimeJulian(2019, 12, 14, 13, 0, 0, 0),\n",
       "       cftime.DatetimeJulian(2019, 12, 19, 13, 0, 0, 0)], dtype=object)\n",
       "Coordinates:\n",
       "  * time     (time) object 1993-01-04 13:00:00 ... 2019-12-19 13:00:00\n",
       "Attributes:\n",
       "    bounds:          time_bounds\n",
       "    calendar_type:   JULIAN\n",
       "    cartesian_axis:  T\n",
       "    long_name:       time</pre>"
      ],
      "text/plain": [
       "<xarray.DataArray 'time' (time: 1970)>\n",
       "array([cftime.DatetimeJulian(1993, 1, 4, 13, 0, 0, 0),\n",
       "       cftime.DatetimeJulian(1993, 1, 9, 13, 0, 0, 0),\n",
       "       cftime.DatetimeJulian(1993, 1, 14, 13, 0, 0, 0), ...,\n",
       "       cftime.DatetimeJulian(2019, 12, 9, 13, 0, 0, 0),\n",
       "       cftime.DatetimeJulian(2019, 12, 14, 13, 0, 0, 0),\n",
       "       cftime.DatetimeJulian(2019, 12, 19, 13, 0, 0, 0)], dtype=object)\n",
       "Coordinates:\n",
       "  * time     (time) object 1993-01-04 13:00:00 ... 2019-12-19 13:00:00\n",
       "Attributes:\n",
       "    bounds:          time_bounds\n",
       "    calendar_type:   JULIAN\n",
       "    cartesian_axis:  T\n",
       "    long_name:       time"
      ]
     },
     "execution_count": 25,
     "metadata": {},
     "output_type": "execute_result"
    }
   ],
   "source": [
    "ds_dec.time"
   ]
  },
  {
   "cell_type": "code",
   "execution_count": 26,
   "id": "desperate-welcome",
   "metadata": {},
   "outputs": [
    {
     "data": {
      "text/html": [
       "<pre>&lt;xarray.DataArray &#x27;time&#x27; (time: 1970)&gt;\n",
       "array([   0,    5,   10, ..., 9835, 9840, 9845])\n",
       "Coordinates:\n",
       "  * time     (time) int64 0 5 10 15 20 25 30 ... 9820 9825 9830 9835 9840 9845\n",
       "Attributes:\n",
       "    bounds:          time_bounds\n",
       "    calendar:        julian\n",
       "    calendar_type:   JULIAN\n",
       "    cartesian_axis:  T\n",
       "    long_name:       time\n",
       "    units:           days since 1993-01-04 13:00:00.000000</pre>"
      ],
      "text/plain": [
       "<xarray.DataArray 'time' (time: 1970)>\n",
       "array([   0,    5,   10, ..., 9835, 9840, 9845])\n",
       "Coordinates:\n",
       "  * time     (time) int64 0 5 10 15 20 25 30 ... 9820 9825 9830 9835 9840 9845\n",
       "Attributes:\n",
       "    bounds:          time_bounds\n",
       "    calendar:        julian\n",
       "    calendar_type:   JULIAN\n",
       "    cartesian_axis:  T\n",
       "    long_name:       time\n",
       "    units:           days since 1993-01-04 13:00:00.000000"
      ]
     },
     "execution_count": 26,
     "metadata": {},
     "output_type": "execute_result"
    }
   ],
   "source": [
    "ds.time"
   ]
  },
  {
   "cell_type": "code",
   "execution_count": 27,
   "id": "together-arthritis",
   "metadata": {},
   "outputs": [
    {
     "data": {
      "text/plain": [
       "[<matplotlib.lines.Line2D at 0x7f4800ced5e0>]"
      ]
     },
     "execution_count": 27,
     "metadata": {},
     "output_type": "execute_result"
    },
    {
     "data": {
      "image/png": "[encoded data removed]",
      "text/plain": [
       "<Figure size 432x288 with 1 Axes>"
      ]
     },
     "metadata": {
      "needs_background": "light"
     },
     "output_type": "display_data"
    }
   ],
   "source": [
    "plt.plot(time_new_dec.time.data)"
   ]
  },
  {
   "cell_type": "code",
   "execution_count": null,
   "id": "enclosed-treasurer",
   "metadata": {},
   "outputs": [],
   "source": [
    "import xgcm\n",
    "\n",
    "grid_ocean = xgcm.Grid(ocean, coords={'X': {'center': 'xt_ocean', 'right': 'xu_ocean'}, \n",
    "                                      'Y': {'center': 'yt_ocean', 'right': 'yu_ocean'},\n",
    "                                      'T': {'center': 'time'},\n",
    "                                      'Z': {'center': 'st_edges_ocean', 'right': 'st_ocean'},\n",
    "                                      'Zu': {'center': 'sw_edges_ocean', 'right': 'sw_ocean'}},\n",
    "                     periodic=['X'])\n",
    "grid_ocean"
   ]
  },
  {
   "cell_type": "code",
   "execution_count": null,
   "id": "threaded-fraction",
   "metadata": {},
   "outputs": [],
   "source": [
    "grid_transport = xgcm.Grid(transport, coords={'X': {'center': 'xt_ocean', 'right': 'xu_ocean'}, \n",
    "                                              'Y': {'center': 'yt_ocean', 'right': 'yu_ocean'},\n",
    "                                              'T': {'center': 'time'},\n",
    "                                              'Z': {'center': 'st_edges_ocean', 'right': 'st_ocean'},\n",
    "                                              'Zu': {'center': 'sw_edges_ocean', 'right': 'sw_ocean'}},\n",
    "                     periodic=['X'])\n",
    "grid_transport"
   ]
  },
  {
   "cell_type": "markdown",
   "id": "early-action",
   "metadata": {},
   "source": [
    "## Variables to create:\n",
    "\n",
    "- [ ] Vel terms for psi\n",
    "- [ ] Surf flux term (incl. sw penetration)\n",
    "- [ ] Total tendency term"
   ]
  },
  {
   "cell_type": "markdown",
   "id": "failing-porter",
   "metadata": {},
   "source": [
    "## <font color='Green'>Get cell area and volume in meters</font>"
   ]
  },
  {
   "cell_type": "code",
   "execution_count": null,
   "id": "complex-smell",
   "metadata": {},
   "outputs": [],
   "source": [
    "#calculating meters per latitudinal & longitudinal degree\n",
    "earth_radius = 6.371e6\n",
    "earth_circumference = 2*np.pi*earth_radius\n",
    "meters_per_degree = earth_circumference / 360\n",
    "meters_per_degree"
   ]
  },
  {
   "cell_type": "code",
   "execution_count": null,
   "id": "circular-energy",
   "metadata": {},
   "outputs": [],
   "source": [
    "#converting lat from degrees to meters\n",
    "delta_lat = grid_ocean.diff(ocean.yt_ocean, 'Y', boundary='fill', fill_value=np.nan)\n",
    "dy = delta_lat * meters_per_degree\n",
    "delta_lat_u = grid_ocean.diff(ocean.yu_ocean, 'Y', boundary='fill', fill_value=np.nan)\n",
    "dy_u = delta_lat_u * meters_per_degree\n",
    "\n",
    "#converting degrees lon to lon [meters] (pinching at the poles)\n",
    "delta_lon = grid_ocean.diff(ocean.xt_ocean, 'X', boundary_discontinuity=360)\n",
    "dx = delta_lon * meters_per_degree * np.cos(np.deg2rad(ocean.yt_ocean))\n",
    "delta_lon_u = grid_ocean.diff(ocean.xu_ocean, 'X', boundary_discontinuity=360)\n",
    "dx_u = delta_lon_u * meters_per_degree * np.cos(np.deg2rad(ocean.yu_ocean))"
   ]
  },
  {
   "cell_type": "code",
   "execution_count": null,
   "id": "micro-monaco",
   "metadata": {},
   "outputs": [],
   "source": [
    "dx"
   ]
  },
  {
   "cell_type": "code",
   "execution_count": null,
   "id": "oriental-checklist",
   "metadata": {},
   "outputs": [],
   "source": [
    "dx_u"
   ]
  },
  {
   "cell_type": "code",
   "execution_count": null,
   "id": "stone-blake",
   "metadata": {},
   "outputs": [],
   "source": [
    "dx.plot()"
   ]
  },
  {
   "cell_type": "code",
   "execution_count": null,
   "id": "certified-timeline",
   "metadata": {},
   "outputs": [],
   "source": [
    "dz = grid_ocean.diff(ocean.st_edges_ocean[1:], 'Z', boundary='fill', fill_value=0.)\n",
    "dz_u = grid_ocean.diff(ocean.sw_edges_ocean[1:], 'Zu', boundary='fill', fill_value=0.)"
   ]
  },
  {
   "cell_type": "code",
   "execution_count": null,
   "id": "efficient-pursuit",
   "metadata": {},
   "outputs": [],
   "source": [
    "cell_elements = xr.merge([dx.rename('dx'), dx_u.rename('dx_u'), \n",
    "                          dy.rename('dy'), dy_u.rename('dy_u'), \n",
    "                          dz.rename('dz'), dz_u.rename('dz_u')])"
   ]
  },
  {
   "cell_type": "code",
   "execution_count": null,
   "id": "stainless-merchant",
   "metadata": {},
   "outputs": [],
   "source": [
    "cell_elements"
   ]
  },
  {
   "cell_type": "markdown",
   "id": "faced-warner",
   "metadata": {},
   "source": [
    "## <font color='Green'>Slice to WG region</font>"
   ]
  },
  {
   "cell_type": "code",
   "execution_count": null,
   "id": "excess-remark",
   "metadata": {},
   "outputs": [],
   "source": [
    "#WG boundaries (80˚S, 62˚S, 65˚W, 30˚E)\n",
    "lower_lat = 0 #-80.02101494\n",
    "upper_lat = 169 #-62.01972704\n",
    "left_lon =  859 #-65.12\n",
    "right_lon = 1240 #30.12\n",
    "\n",
    "lower_lat_u = 0 #-79.96821565\n",
    "upper_lat_u = 169 #-61.96096874 python is right exclusive so will have -62.0 in array\n",
    "left_lon_u = 859 #-65.0\n",
    "right_lon_u = 1240 #30.25 python is right exclusive so will have 30.0˚E"
   ]
  },
  {
   "cell_type": "code",
   "execution_count": null,
   "id": "recognized-proposal",
   "metadata": {},
   "outputs": [],
   "source": [
    "#set the boundaries\n",
    "lat_range = dict(yt_ocean=slice(lower_lat, upper_lat), yu_ocean=slice(lower_lat_u, upper_lat_u))\n",
    "lon_range = dict(xt_ocean=slice(left_lon, right_lon), xu_ocean=slice(left_lon_u, right_lon_u))\n",
    "\n",
    "lat_range_no_u = dict(yt_ocean=slice(lower_lat, upper_lat))\n",
    "lon_range_no_u = dict(xt_ocean=slice(left_lon, right_lon))\n",
    "\n",
    "lat_range_u = dict(yu_ocean=slice(lower_lat_u, upper_lat_u))\n",
    "lon_range_u = dict(xu_ocean=slice(left_lon_u, right_lon_u))"
   ]
  },
  {
   "cell_type": "code",
   "execution_count": null,
   "id": "regional-trouble",
   "metadata": {},
   "outputs": [],
   "source": [
    "ocean_wg = ocean.isel(**lat_range, **lon_range)\n",
    "transport_wg = transport.isel(**lat_range, **lon_range)\n",
    "cells_wg = cell_elements.isel(**lat_range, **lon_range)"
   ]
  },
  {
   "cell_type": "code",
   "execution_count": null,
   "id": "higher-virus",
   "metadata": {},
   "outputs": [],
   "source": [
    "import xgcm\n",
    "\n",
    "grid_ocean_wg = xgcm.Grid(ocean_wg, coords={'X': {'center': 'xt_ocean', 'right': 'xu_ocean'}, \n",
    "                                      'Y': {'center': 'yt_ocean', 'right': 'yu_ocean'},\n",
    "                                      'T': {'center': 'time'},\n",
    "                                      'Z': {'center': 'st_edges_ocean', 'right': 'st_ocean'},\n",
    "                                      'Zu': {'center': 'sw_edges_ocean', 'right': 'sw_ocean'}},\n",
    "                     periodic=['X'])\n",
    "grid_ocean_wg"
   ]
  },
  {
   "cell_type": "code",
   "execution_count": null,
   "id": "hollow-restriction",
   "metadata": {},
   "outputs": [],
   "source": [
    "transport.tx_int[0].plot()"
   ]
  },
  {
   "cell_type": "code",
   "execution_count": null,
   "id": "reported-morgan",
   "metadata": {},
   "outputs": [],
   "source": [
    "transport_wg.tx_int[0].plot()"
   ]
  },
  {
   "cell_type": "markdown",
   "id": "elementary-bottom",
   "metadata": {},
   "source": [
    "## <font color='Green'>\\begin{equation*} Transport/Vel\\ terms \\end{equation*}</font>"
   ]
  },
  {
   "cell_type": "code",
   "execution_count": null,
   "id": "narrow-irish",
   "metadata": {},
   "outputs": [],
   "source": [
    "transport_wg.tx_trans.isel(xu_ocean=-1)"
   ]
  },
  {
   "cell_type": "code",
   "execution_count": null,
   "id": "green-character",
   "metadata": {},
   "outputs": [],
   "source": [
    "cells_wg.dz.coords"
   ]
  },
  {
   "cell_type": "code",
   "execution_count": null,
   "id": "representative-rider",
   "metadata": {},
   "outputs": [],
   "source": [
    "cells_wg.dy_u.coords"
   ]
  },
  {
   "cell_type": "code",
   "execution_count": null,
   "id": "sunrise-county",
   "metadata": {},
   "outputs": [],
   "source": [
    "transport_wg.ty_trans.coords"
   ]
  },
  {
   "cell_type": "code",
   "execution_count": null,
   "id": "breeding-bread",
   "metadata": {},
   "outputs": [],
   "source": [
    "cells_wg.dx_u.coords"
   ]
  },
  {
   "cell_type": "code",
   "execution_count": null,
   "id": "choice-management",
   "metadata": {},
   "outputs": [],
   "source": [
    "u_transport_right = (transport_wg.tx_trans * cells_wg.dz * cells_wg.dy_u).isel(xu_ocean=-1)\n",
    "u_transport_left = (transport_wg.tx_trans * cells_wg.dz * cells_wg.dy_u).isel(xu_ocean=0)\n",
    "\n",
    "v_transport = (transport_wg.ty_trans * cells_wg.dz * cells_wg.dx_u).isel(yu_ocean=-1)"
   ]
  },
  {
   "cell_type": "code",
   "execution_count": null,
   "id": "hybrid-acrylic",
   "metadata": {},
   "outputs": [],
   "source": [
    "ocean_wg.wt[0].coords"
   ]
  },
  {
   "cell_type": "code",
   "execution_count": null,
   "id": "thick-listening",
   "metadata": {},
   "outputs": [],
   "source": [
    "cells_wg.dy_u.coords"
   ]
  },
  {
   "cell_type": "code",
   "execution_count": null,
   "id": "unexpected-lambda",
   "metadata": {},
   "outputs": [],
   "source": [
    "dx_interp = grid_ocean_wg.interp(cells_wg.dx_u, 'Y', boundary='fill')"
   ]
  },
  {
   "cell_type": "code",
   "execution_count": null,
   "id": "adverse-reggae",
   "metadata": {},
   "outputs": [],
   "source": [
    "dx_interp.coords"
   ]
  },
  {
   "cell_type": "code",
   "execution_count": null,
   "id": "difficult-transcription",
   "metadata": {},
   "outputs": [],
   "source": [
    "w_transport = (ocean_wg.wt * dx_interp * cells_wg.dy_u).isel(sw_ocean=0)"
   ]
  },
  {
   "cell_type": "code",
   "execution_count": null,
   "id": "apart-rapid",
   "metadata": {},
   "outputs": [],
   "source": [
    "# constants\n",
    "heat_capacity_cp = 3.994e3\n",
    "runit2mass = 1.035e3 #rho\n",
    "\n",
    "#surf_transport = (ocean_wg.net_heating * dx_interp * cells_wg.dy_u) / (heat_capacity_cp * runit2mass)\n",
    "surf_transport = ocean_wg.net_heating  / (heat_capacity_cp * runit2mass)"
   ]
  },
  {
   "cell_type": "code",
   "execution_count": null,
   "id": "everyday-hollow",
   "metadata": {},
   "outputs": [],
   "source": [
    "u_transport_left[0]"
   ]
  },
  {
   "cell_type": "code",
   "execution_count": null,
   "id": "emerging-producer",
   "metadata": {},
   "outputs": [],
   "source": [
    "fig, (ax0,ax1,ax2) = plt.subplots(1,3, figsize=(20,5))\n",
    "\n",
    "(u_transport_left[0]/1e6).plot(yincrease=False, ax=ax0)\n",
    "ax0.set_title('U transport LEFT boundary')\n",
    "(u_transport_right[0]/1e6).plot(yincrease=False, ax=ax1) \n",
    "ax1.set_title('U transport RIGHT boundary')\n",
    "(v_transport[0]/1e6).plot(yincrease=False, ax=ax2)\n",
    "ax2.set_title('V transport northern boundary');"
   ]
  },
  {
   "cell_type": "code",
   "execution_count": null,
   "id": "infrared-death",
   "metadata": {},
   "outputs": [],
   "source": [
    "client"
   ]
  },
  {
   "cell_type": "code",
   "execution_count": null,
   "id": "verbal-witness",
   "metadata": {},
   "outputs": [],
   "source": [
    "fig, (ax0,ax1,ax2) = plt.subplots(1,3, figsize=(20,5))\n",
    "\n",
    "(u_transport_left.mean(dim='time')/1e6).plot(yincrease=False, ax=ax0)\n",
    "ax0.set_title('U transport LEFT boundary\\n time mean')\n",
    "(u_transport_right.mean(dim='time')/1e6).plot(yincrease=False, ax=ax1) \n",
    "ax1.set_title('U transport RIGHT boundary')\n",
    "(v_transport.mean(dim='time')/1e6).plot(yincrease=False, ax=ax2)\n",
    "ax2.set_title('V transport northern boundary');"
   ]
  },
  {
   "cell_type": "code",
   "execution_count": null,
   "id": "agricultural-natural",
   "metadata": {},
   "outputs": [],
   "source": [
    "client.restart()"
   ]
  },
  {
   "cell_type": "code",
   "execution_count": null,
   "id": "configured-ceramic",
   "metadata": {},
   "outputs": [],
   "source": [
    "u_transport_right"
   ]
  },
  {
   "cell_type": "code",
   "execution_count": null,
   "id": "covered-embassy",
   "metadata": {},
   "outputs": [],
   "source": [
    "u_transport_left"
   ]
  },
  {
   "cell_type": "code",
   "execution_count": null,
   "id": "indian-station",
   "metadata": {},
   "outputs": [],
   "source": [
    "v_transport"
   ]
  },
  {
   "cell_type": "code",
   "execution_count": null,
   "id": "covered-water",
   "metadata": {},
   "outputs": [],
   "source": [
    "w_transport"
   ]
  },
  {
   "cell_type": "code",
   "execution_count": null,
   "id": "western-christmas",
   "metadata": {},
   "outputs": [],
   "source": [
    "surf_transport"
   ]
  },
  {
   "cell_type": "code",
   "execution_count": null,
   "id": "caring-borough",
   "metadata": {},
   "outputs": [],
   "source": [
    "# BEST WAY TO DO IT\n",
    "u_transport_mean_value = (u_transport_right.fillna(0.).sum(dim=['yt_ocean', 'st_ocean']) -\n",
    "                          u_transport_left.fillna(0.).sum(dim=['yt_ocean', 'st_ocean'])).mean(dim='time')/1e6\n",
    "u_transport_mean_value.load()"
   ]
  },
  {
   "cell_type": "code",
   "execution_count": null,
   "id": "significant-stanford",
   "metadata": {},
   "outputs": [],
   "source": [
    "v_transport_mean_value = (v_transport).fillna(0.).sum(dim=['xt_ocean', 'st_ocean']).mean(dim='time')/1e6\n",
    "v_transport_mean_value.load()"
   ]
  },
  {
   "cell_type": "code",
   "execution_count": null,
   "id": "focused-submission",
   "metadata": {},
   "outputs": [],
   "source": [
    "w_transport_mean_value = (w_transport).fillna(0.).sum(dim=['xt_ocean', 'yt_ocean']).mean(dim='time')/1e6\n",
    "w_transport_mean_value.load()"
   ]
  },
  {
   "cell_type": "code",
   "execution_count": null,
   "id": "natural-conjunction",
   "metadata": {},
   "outputs": [],
   "source": [
    "surf_transport_mean_value = surf_transport.fillna(0.).sum(dim=['xt_ocean', 'yt_ocean']).mean(dim='time')\n",
    "surf_transport_mean_value.load()"
   ]
  },
  {
   "cell_type": "code",
   "execution_count": null,
   "id": "religious-leadership",
   "metadata": {},
   "outputs": [],
   "source": [
    "residual = u_transport_mean_value + v_transport_mean_value #+ surf_transport_mean_value\n",
    "residual"
   ]
  },
  {
   "cell_type": "markdown",
   "id": "positive-oregon",
   "metadata": {},
   "source": [
    "## <font color='Green'>\\begin{equation*} Surface\\ Fluxes \\end{equation*}</font>"
   ]
  },
  {
   "cell_type": "code",
   "execution_count": null,
   "id": "stuck-cheat",
   "metadata": {},
   "outputs": [],
   "source": [
    "ocean_wg.salt_flux_total"
   ]
  },
  {
   "cell_type": "code",
   "execution_count": null,
   "id": "sporting-three",
   "metadata": {},
   "outputs": [],
   "source": [
    "ocean_wg.hflux_total"
   ]
  },
  {
   "cell_type": "code",
   "execution_count": null,
   "id": "attached-heart",
   "metadata": {},
   "outputs": [],
   "source": [
    "heat_capacity_cp = 3.994e3 #J/kg/˚C\n",
    "runit2mass = 1.035e3 #rho\n",
    "\n",
    "surf_flux_th = (ocean_wg.hflux_total * dx_interp * dy_u) / (heat_capacity_cp * runit2mass) #˚C*m^3/s\n",
    "surf_flux_slt = (ocean_wg.salt_flux_total * dx_interp * dy_u) / runit2mass # psu*m^3/s"
   ]
  },
  {
   "cell_type": "code",
   "execution_count": null,
   "id": "correct-table",
   "metadata": {},
   "outputs": [],
   "source": [
    "surf_flux_th"
   ]
  },
  {
   "cell_type": "code",
   "execution_count": null,
   "id": "tight-barcelona",
   "metadata": {},
   "outputs": [],
   "source": [
    "surf_flux_slt"
   ]
  },
  {
   "cell_type": "code",
   "execution_count": null,
   "id": "equivalent-elevation",
   "metadata": {},
   "outputs": [],
   "source": [
    "fix, (ax0,ax1) = plt.subplots(1,2, figsize=(10,3))\n",
    "ocean_wg.hflux_total[0].plot(ax=ax0)\n",
    "ocean_wg.salt_flux_total[0].plot(ax=ax1)\n",
    "plt.tight_layout();"
   ]
  },
  {
   "cell_type": "code",
   "execution_count": null,
   "id": "other-harmony",
   "metadata": {},
   "outputs": [],
   "source": [
    "fix, (ax0,ax1) = plt.subplots(1,2, figsize=(10,3))\n",
    "(surf_flux_th[0]/1e6).plot(cmap='RdBu_r', ax=ax0)\n",
    "(surf_flux_slt[0]/1e6).plot(cmap='RdBu_r', ax=ax1)\n",
    "plt.suptitle('Surface fluxes at timestep 0', fontweight='bold')\n",
    "plt.tight_layout();"
   ]
  },
  {
   "cell_type": "code",
   "execution_count": null,
   "id": "nutritional-focus",
   "metadata": {},
   "outputs": [],
   "source": [
    "fix, (ax0,ax1) = plt.subplots(1,2, figsize=(10,3))\n",
    "(surf_flux_th/1e6).mean(dim='time').plot(cmap='RdBu_r', ax=ax0)\n",
    "(surf_flux_slt/1e6).mean(dim='time').plot(cmap='RdBu_r', ax=ax1)\n",
    "plt.suptitle('Mean surface fluxes', fontweight='bold')\n",
    "plt.tight_layout();"
   ]
  },
  {
   "cell_type": "code",
   "execution_count": null,
   "id": "sacred-sleeping",
   "metadata": {},
   "outputs": [],
   "source": [
    "ocean_wg.temp"
   ]
  },
  {
   "cell_type": "code",
   "execution_count": null,
   "id": "alpha-marsh",
   "metadata": {},
   "outputs": [],
   "source": [
    "def surface_to_3d(da):\n",
    "    da = da.copy()\n",
    "    da.coords['st_ocean'] = ocean_wg.st_ocean[0]\n",
    "    da = da.expand_dims(dim='st_ocean', axis=1)\n",
    "    da, _ = xr.align(da, ocean_wg.st_ocean, join='right')\n",
    "    return da.fillna(0.)"
   ]
  },
  {
   "cell_type": "code",
   "execution_count": null,
   "id": "aggressive-thermal",
   "metadata": {},
   "outputs": [],
   "source": [
    "surf_flux_th"
   ]
  },
  {
   "cell_type": "code",
   "execution_count": null,
   "id": "dynamic-canadian",
   "metadata": {},
   "outputs": [],
   "source": [
    "surf_flux_conv_TH = surface_to_3d(surf_flux_th)\n",
    "surf_flux_conv_SLT = surface_to_3d(surf_flux_slt)"
   ]
  },
  {
   "cell_type": "markdown",
   "id": "electric-hours",
   "metadata": {},
   "source": [
    "## SW flux penetration"
   ]
  },
  {
   "cell_type": "code",
   "execution_count": null,
   "id": "intermediate-element",
   "metadata": {},
   "outputs": [],
   "source": [
    "ocean_wg.swflx"
   ]
  },
  {
   "cell_type": "code",
   "execution_count": null,
   "id": "municipal-barrel",
   "metadata": {},
   "outputs": [],
   "source": [
    "#sw flux\n",
    "sw_flux = (ocean_wg.swflx * dx_interp * dy_u) / (heat_capacity_cp * runit2mass) #˚C*m^3/s"
   ]
  },
  {
   "cell_type": "markdown",
   "id": "imposed-genetics",
   "metadata": {},
   "source": [
    "### ^ Need to figure out how to treat swflx penetrating through cell levels\n",
    "__(PG 252 in MOM5 manual)__"
   ]
  },
  {
   "cell_type": "markdown",
   "id": "excess-perth",
   "metadata": {},
   "source": [
    "## <font color='Green'>\\begin{equation*} Total\\ Tendency \\end{equation*}</font>"
   ]
  },
  {
   "cell_type": "code",
   "execution_count": null,
   "id": "intended-international",
   "metadata": {},
   "outputs": [],
   "source": [
    "#creating new time dim-coord by dropping 1980-01-01 13:00:00 from indices 1896 & 1897\n",
    "#time is also missing 14th and 19th day for 2018 and 2019\n",
    "ocean_wg.coords['time_no1980'] = ocean_wg.time.where(ocean_wg.time != ocean_wg.time.isel(time=1896), drop=True)\n",
    "ocean_wg['time_no1980'] = ocean_wg.time.where(ocean_wg.time != ocean_wg.time.isel(time=1896), drop=True).values"
   ]
  },
  {
   "cell_type": "code",
   "execution_count": null,
   "id": "realistic-progress",
   "metadata": {},
   "outputs": [],
   "source": [
    "ocean_wg.time.where(ocean_wg.time != ocean_wg.time.isel(time=1896), drop=True)"
   ]
  },
  {
   "cell_type": "code",
   "execution_count": null,
   "id": "mounted-evening",
   "metadata": {},
   "outputs": [],
   "source": [
    "xr.decode_cf(ocean_wg.isel(time=1896)[['time']]).time"
   ]
  },
  {
   "cell_type": "code",
   "execution_count": null,
   "id": "declared-secret",
   "metadata": {},
   "outputs": [],
   "source": [
    "ocean_wg.time"
   ]
  },
  {
   "cell_type": "raw",
   "id": "ruled-halloween",
   "metadata": {},
   "source": [
    "dt_values = (ocean_wg.time.where(ocean_wg.time != ocean_wg.time.isel(time=1896), drop=True).diff('time') / 1e9).astype('f4')"
   ]
  },
  {
   "cell_type": "code",
   "execution_count": null,
   "id": "grave-intention",
   "metadata": {},
   "outputs": [],
   "source": [
    "ocean_wg.time.plot()"
   ]
  },
  {
   "cell_type": "code",
   "execution_count": null,
   "id": "assisted-plaza",
   "metadata": {},
   "outputs": [],
   "source": [
    "ocean_wg.time.sel(time='2019')"
   ]
  },
  {
   "cell_type": "code",
   "execution_count": null,
   "id": "certified-consultancy",
   "metadata": {},
   "outputs": [],
   "source": [
    "ocean_wg.time.sel(time=slice('1993', '2019'), method='nearest')"
   ]
  },
  {
   "cell_type": "code",
   "execution_count": null,
   "id": "trying-receipt",
   "metadata": {},
   "outputs": [],
   "source": [
    "plt.plot(ocean_wg.time.values)"
   ]
  },
  {
   "cell_type": "code",
   "execution_count": null,
   "id": "checked-quarterly",
   "metadata": {},
   "outputs": [],
   "source": [
    "ocean_wg.time_no1980"
   ]
  },
  {
   "cell_type": "code",
   "execution_count": null,
   "id": "recovered-plumbing",
   "metadata": {},
   "outputs": [],
   "source": [
    "dt_values = (ocean_wg.time_no1980.diff('time_no1980') / 1e9).astype('f4')\n",
    "dt = xr.DataArray(dt_values, dims=['time_no1980'], \n",
    "                  coords={'time_no1980': (['time_no1980'], ocean_wg.time_no1980.values[1:])}) #shaves off first time stamp in `ocean_wg.time_no1980`\n",
    "ocean_wg.coords['dt'] = dt"
   ]
  },
  {
   "cell_type": "code",
   "execution_count": null,
   "id": "adequate-insulation",
   "metadata": {},
   "outputs": [],
   "source": [
    "ocean_wg.time_no1980[0:5].plot(color='r', marker='.')\n",
    "dt_values.time_no1980[0:5].plot(color='k', linestyle='dashed')"
   ]
  },
  {
   "cell_type": "code",
   "execution_count": null,
   "id": "worldwide-watson",
   "metadata": {},
   "outputs": [],
   "source": [
    "ocean_wg.time_no1980[-5:].plot(color='r', marker='.')\n",
    "dt_values.time_no1980[-5:].plot(color='k', linestyle='dashed')"
   ]
  },
  {
   "cell_type": "markdown",
   "id": "permanent-michael",
   "metadata": {},
   "source": [
    "**Theta Tendency Term**"
   ]
  },
  {
   "cell_type": "code",
   "execution_count": null,
   "id": "general-cambodia",
   "metadata": {},
   "outputs": [],
   "source": [
    "ocean_wg.temp"
   ]
  },
  {
   "cell_type": "code",
   "execution_count": null,
   "id": "demanding-stanford",
   "metadata": {},
   "outputs": [],
   "source": [
    "ocean_wg.temp[1896][0].plot()"
   ]
  },
  {
   "cell_type": "code",
   "execution_count": null,
   "id": "single-visit",
   "metadata": {},
   "outputs": [],
   "source": [
    "ocean_wg.temp[1897][0].plot()"
   ]
  },
  {
   "cell_type": "code",
   "execution_count": null,
   "id": "ordinary-discount",
   "metadata": {},
   "outputs": [],
   "source": [
    "ocean_wg.time[1896]"
   ]
  },
  {
   "cell_type": "code",
   "execution_count": null,
   "id": "returning-lover",
   "metadata": {},
   "outputs": [],
   "source": [
    "ocean_wg.temp.time"
   ]
  },
  {
   "cell_type": "code",
   "execution_count": null,
   "id": "practical-courtesy",
   "metadata": {},
   "outputs": [],
   "source": [
    "#create new temp var w/ no 1980\n",
    "temp = ocean_wg.temp.where(ocean_wg.temp.time != ocean_wg.time.isel(time=1896), drop=True)"
   ]
  },
  {
   "cell_type": "code",
   "execution_count": null,
   "id": "annoying-faith",
   "metadata": {},
   "outputs": [],
   "source": [
    "client"
   ]
  },
  {
   "cell_type": "code",
   "execution_count": null,
   "id": "stunning-florist",
   "metadata": {},
   "outputs": [],
   "source": [
    "temp[0,0].plot()"
   ]
  },
  {
   "cell_type": "code",
   "execution_count": null,
   "id": "union-layout",
   "metadata": {},
   "outputs": [],
   "source": [
    "delta_theta = temp.diff('time')#.load()"
   ]
  },
  {
   "cell_type": "code",
   "execution_count": null,
   "id": "quarterly-premises",
   "metadata": {},
   "outputs": [],
   "source": [
    "delta_theta.time.plot()\n",
    "ocean_wg.dt[1:].plot()"
   ]
  },
  {
   "cell_type": "code",
   "execution_count": null,
   "id": "attractive-salon",
   "metadata": {},
   "outputs": [],
   "source": [
    "ocean_wg.dt[1:]"
   ]
  },
  {
   "cell_type": "raw",
   "id": "opened-superior",
   "metadata": {},
   "source": [
    "#forcing delta_theta to have same timestamp as ds.dt by creating new data array called \"theta_scaled\"\n",
    "delta_theta = xr.DataArray(delta_theta.data, dims=['time','st_ocean','yt_ocean','xt_ocean'], \n",
    "                            coords={'time': coords_wg.dt[1:].time.data,\n",
    "                                    'level': coords_wg.level,\n",
    "                                    'lat': coords_wg.lat,\n",
    "                                    'lon': coords_wg.lon})\n",
    "delta_theta"
   ]
  },
  {
   "cell_type": "code",
   "execution_count": null,
   "id": "fourth-grass",
   "metadata": {},
   "outputs": [],
   "source": [
    "ocean_wg.dt.time_no1980[1:]"
   ]
  },
  {
   "cell_type": "code",
   "execution_count": null,
   "id": "frequent-potato",
   "metadata": {},
   "outputs": [],
   "source": [
    "delta_theta"
   ]
  },
  {
   "cell_type": "code",
   "execution_count": null,
   "id": "animated-startup",
   "metadata": {},
   "outputs": [],
   "source": [
    "theta_tend = (delta_theta / ocean_wg.dt[1:])#.load()"
   ]
  },
  {
   "cell_type": "code",
   "execution_count": null,
   "id": "corrected-dispatch",
   "metadata": {},
   "outputs": [],
   "source": [
    "theta_tend"
   ]
  },
  {
   "cell_type": "code",
   "execution_count": null,
   "id": "living-duncan",
   "metadata": {},
   "outputs": [],
   "source": [
    "ocean_wg.swflx"
   ]
  },
  {
   "cell_type": "code",
   "execution_count": null,
   "id": "arabic-japanese",
   "metadata": {},
   "outputs": [],
   "source": [
    "theta_tend[0,0].plot()"
   ]
  },
  {
   "cell_type": "code",
   "execution_count": null,
   "id": "champion-plate",
   "metadata": {},
   "outputs": [],
   "source": [
    "client"
   ]
  },
  {
   "cell_type": "code",
   "execution_count": null,
   "id": "herbal-madonna",
   "metadata": {},
   "outputs": [],
   "source": [
    "theta_tend.coords#[:,1:,1:,1:]"
   ]
  },
  {
   "cell_type": "code",
   "execution_count": null,
   "id": "quality-smoke",
   "metadata": {},
   "outputs": [],
   "source": [
    "dx_u_wg_interp.coords"
   ]
  },
  {
   "cell_type": "code",
   "execution_count": null,
   "id": "desirable-prototype",
   "metadata": {},
   "outputs": [],
   "source": [
    "dy_u_wg.coords"
   ]
  },
  {
   "cell_type": "code",
   "execution_count": null,
   "id": "incomplete-capitol",
   "metadata": {},
   "outputs": [],
   "source": [
    "dz.coords"
   ]
  },
  {
   "cell_type": "code",
   "execution_count": null,
   "id": "photographic-closing",
   "metadata": {},
   "outputs": [],
   "source": [
    "totttend = theta_tend * dx_u_wg_interp * dy_u_wg * dz"
   ]
  },
  {
   "cell_type": "code",
   "execution_count": null,
   "id": "irish-friday",
   "metadata": {},
   "outputs": [],
   "source": [
    "(totttend[0,0]/1e6).plot()"
   ]
  },
  {
   "cell_type": "markdown",
   "id": "hollow-genetics",
   "metadata": {},
   "source": [
    "**Salt Tendency Term**"
   ]
  },
  {
   "cell_type": "code",
   "execution_count": null,
   "id": "responsible-samuel",
   "metadata": {},
   "outputs": [],
   "source": [
    "delta_salt = salt.diff('time')"
   ]
  },
  {
   "cell_type": "code",
   "execution_count": null,
   "id": "alive-problem",
   "metadata": {},
   "outputs": [],
   "source": [
    "#forcing delta_salt to have same timestamp as ds.dt by creating new data array called \"salt_scaled\"\n",
    "delta_salt = xr.DataArray(delta_salt.data, dims=['time','level','lat','lon'], \n",
    "                            coords={'time': coords_wg.dt[0:-1].time.data,\n",
    "                                    'level': coords_wg.level,\n",
    "                                    'lat': coords_wg.lat,\n",
    "                                    'lon': coords_wg.lon})\n",
    "delta_salt"
   ]
  },
  {
   "cell_type": "code",
   "execution_count": null,
   "id": "collective-works",
   "metadata": {},
   "outputs": [],
   "source": [
    "salt_tend = (delta_salt / coords.dt[0:-1])"
   ]
  },
  {
   "cell_type": "code",
   "execution_count": null,
   "id": "unlike-drama",
   "metadata": {},
   "outputs": [],
   "source": [
    "salt_tend[0,0].plot()"
   ]
  },
  {
   "cell_type": "code",
   "execution_count": null,
   "id": "unlimited-birthday",
   "metadata": {},
   "outputs": [],
   "source": [
    "salt_tend.coords"
   ]
  },
  {
   "cell_type": "code",
   "execution_count": null,
   "id": "criminal-ottawa",
   "metadata": {},
   "outputs": [],
   "source": [
    "totstend = salt_tend * dx_u_wg_interp * dy_u_wg * dz"
   ]
  },
  {
   "cell_type": "code",
   "execution_count": null,
   "id": "relevant-complexity",
   "metadata": {},
   "outputs": [],
   "source": [
    "fix, (ax0,ax1) = plt.subplots(1,2, figsize=(10,3))\n",
    "(totttend[0,0]/1e6).plot(cmap='RdBu_r', ax=ax0)\n",
    "(totstend[0,0]/1e6).plot(cmap='RdBu_r', ax=ax1)\n",
    "plt.tight_layout();"
   ]
  },
  {
   "cell_type": "code",
   "execution_count": null,
   "id": "modular-procedure",
   "metadata": {},
   "outputs": [],
   "source": [
    "fix, (ax0,ax1) = plt.subplots(1,2, figsize=(10,3))\n",
    "(totttend.isel(time=slice(0,-1), level=0)/1e6).mean(dim='time').plot(cmap='RdBu_r', ax=ax0)\n",
    "(totstend.isel(time=slice(0,-1), level=0)/1e6).mean(dim='time').plot(cmap='RdBu_r', ax=ax1)\n",
    "plt.tight_layout();"
   ]
  },
  {
   "cell_type": "code",
   "execution_count": null,
   "id": "after-software",
   "metadata": {},
   "outputs": [],
   "source": [
    "((temp[-3,0, 1:, 1:] - temp[0,0, 1:, 1:])/1e6).plot(cmap='RdBu_r', vmax=0)#, vmin=-6e-5)"
   ]
  },
  {
   "cell_type": "code",
   "execution_count": null,
   "id": "polished-sperm",
   "metadata": {},
   "outputs": [],
   "source": [
    "(temp[-3, 0] - temp[0, 0]).plot()"
   ]
  },
  {
   "cell_type": "code",
   "execution_count": null,
   "id": "motivated-stevens",
   "metadata": {},
   "outputs": [],
   "source": []
  }
 ],
 "metadata": {
  "kernelspec": {
   "display_name": "Python 3",
   "language": "python",
   "name": "python3"
  },
  "language_info": {
   "codemirror_mode": {
    "name": "ipython",
    "version": 3
   },
   "file_extension": ".py",
   "mimetype": "text/x-python",
   "name": "python",
   "nbconvert_exporter": "python",
   "pygments_lexer": "ipython3",
   "version": "3.8.6"
  }
 },
 "nbformat": 4,
 "nbformat_minor": 5
}
