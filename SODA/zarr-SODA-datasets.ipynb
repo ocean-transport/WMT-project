{
 "cells": [
  {
   "cell_type": "markdown",
   "id": "unavailable-andrews",
   "metadata": {},
   "source": [
    "# Zarr SODA 3.4.2 ds"
   ]
  },
  {
   "cell_type": "code",
   "execution_count": null,
   "id": "short-stuff",
   "metadata": {},
   "outputs": [],
   "source": [
    "from dask_gateway import GatewayCluster\n",
    "\n",
    "cluster = GatewayCluster()\n",
    "cluster.scale(20)\n",
    "#cluster.adapt(minimum=2, maximum=10)  # or cluster.scale(n) to a fixed size.\n",
    "client = cluster.get_client()"
   ]
  },
  {
   "cell_type": "code",
   "execution_count": null,
   "id": "broke-patrol",
   "metadata": {},
   "outputs": [],
   "source": [
    "client"
   ]
  },
  {
   "cell_type": "code",
   "execution_count": null,
   "id": "royal-alexander",
   "metadata": {},
   "outputs": [],
   "source": [
    "client.close()\n",
    "cluster.close()"
   ]
  },
  {
   "cell_type": "code",
   "execution_count": 1,
   "id": "impossible-sussex",
   "metadata": {},
   "outputs": [],
   "source": [
    "import xarray as xr\n",
    "from matplotlib import pyplot as plt\n",
    "import gcsfs\n",
    "import dask\n",
    "import dask.array as dsa\n",
    "import numpy as np\n",
    "import fsspec\n",
    "%matplotlib inline\n",
    "xr.set_options(display_style='text');"
   ]
  },
  {
   "cell_type": "code",
   "execution_count": 2,
   "id": "fantastic-savings",
   "metadata": {},
   "outputs": [],
   "source": [
    "url_ocean = 'gs://pangeo-forge-us-central1/pangeo-forge/soda/soda3.4.2_5dy_ocean_or'\n",
    "url_transport = 'gs://pangeo-forge-us-central1/pangeo-forge/soda/soda3.4.2_10dy_transport_or'\n",
    "#url_ice = 'gs://pangeo-forge-us-central1/pangeo-forge/soda/soda3.4.2_5dy_ice_or'\n",
    "\n",
    "fs = gcsfs.GCSFileSystem()\n",
    "ocean = xr.open_zarr(fs.get_mapper(url_ocean), consolidated=True)\n",
    "transport = xr.open_zarr(fs.get_mapper(url_transport), consolidated=True)\n",
    "#ice = xr.open_zarr(fs.get_mapper(url_ice), consolidated=True)"
   ]
  },
  {
   "cell_type": "code",
   "execution_count": null,
   "id": "sharing-possibility",
   "metadata": {},
   "outputs": [],
   "source": [
    "import zarr\n",
    "zgroup = zarr.open_consolidated(fs.get_mapper(url_ocean))\n",
    "zgroup.info"
   ]
  },
  {
   "cell_type": "code",
   "execution_count": null,
   "id": "bigger-civilian",
   "metadata": {},
   "outputs": [],
   "source": [
    "zgroup.time.size"
   ]
  },
  {
   "cell_type": "code",
   "execution_count": null,
   "id": "commercial-planner",
   "metadata": {},
   "outputs": [],
   "source": [
    "zgroup.time_bounds.size"
   ]
  },
  {
   "cell_type": "code",
   "execution_count": null,
   "id": "warming-france",
   "metadata": {},
   "outputs": [],
   "source": [
    "time_array = zgroup.time\n",
    "time_array.info"
   ]
  },
  {
   "cell_type": "code",
   "execution_count": null,
   "id": "durable-belarus",
   "metadata": {},
   "outputs": [],
   "source": [
    "dict(time_array.attrs)"
   ]
  },
  {
   "cell_type": "code",
   "execution_count": 3,
   "id": "uniform-capital",
   "metadata": {},
   "outputs": [],
   "source": [
    "ds = xr.open_zarr(fs.get_mapper(url_ocean), consolidated=True, decode_times=False)"
   ]
  },
  {
   "cell_type": "code",
   "execution_count": 4,
   "id": "asian-hughes",
   "metadata": {},
   "outputs": [],
   "source": [
    "ds_dec = xr.open_zarr(fs.get_mapper(url_ocean), consolidated=True, decode_times=True)"
   ]
  },
  {
   "cell_type": "code",
   "execution_count": null,
   "id": "charming-hebrew",
   "metadata": {},
   "outputs": [],
   "source": [
    "ds.time.isel(time=1893)"
   ]
  },
  {
   "cell_type": "code",
   "execution_count": null,
   "id": "australian-mexican",
   "metadata": {},
   "outputs": [],
   "source": [
    "ds.time.isel(time=1894)"
   ]
  },
  {
   "cell_type": "code",
   "execution_count": null,
   "id": "competent-omaha",
   "metadata": {},
   "outputs": [],
   "source": [
    "ds.time.isel(time=1895)"
   ]
  },
  {
   "cell_type": "code",
   "execution_count": null,
   "id": "blind-elements",
   "metadata": {},
   "outputs": [],
   "source": [
    "#encoded time\n",
    "#this index should have value of 9480\n",
    "ds.time.isel(time=1896).values = 9480"
   ]
  },
  {
   "cell_type": "code",
   "execution_count": null,
   "id": "parliamentary-national",
   "metadata": {},
   "outputs": [],
   "source": [
    "#this index should have value of 9485\n",
    "ds.time.isel(time=1897).values = 9485"
   ]
  },
  {
   "cell_type": "code",
   "execution_count": null,
   "id": "congressional-convertible",
   "metadata": {},
   "outputs": [],
   "source": [
    "ds['time'][1896] = 9480"
   ]
  },
  {
   "cell_type": "code",
   "execution_count": null,
   "id": "loaded-argument",
   "metadata": {},
   "outputs": [],
   "source": [
    "ds.time"
   ]
  },
  {
   "cell_type": "code",
   "execution_count": null,
   "id": "forbidden-steering",
   "metadata": {},
   "outputs": [],
   "source": [
    "ds_dec.time"
   ]
  },
  {
   "cell_type": "code",
   "execution_count": null,
   "id": "independent-arabic",
   "metadata": {},
   "outputs": [],
   "source": [
    "xr.decode_cf(ds).time"
   ]
  },
  {
   "cell_type": "code",
   "execution_count": 5,
   "id": "private-listing",
   "metadata": {},
   "outputs": [
    {
     "data": {
      "text/plain": [
       "array([   0,    5,   10, ..., 9835, 9840, 9845])"
      ]
     },
     "execution_count": 5,
     "metadata": {},
     "output_type": "execute_result"
    }
   ],
   "source": [
    "#ds.time.data[-1] + 5 to get stop value\n",
    "data = np.arange(0, 9850, 5)\n",
    "data"
   ]
  },
  {
   "cell_type": "code",
   "execution_count": 6,
   "id": "modified-month",
   "metadata": {},
   "outputs": [
    {
     "data": {
      "text/plain": [
       "[<matplotlib.lines.Line2D at 0x7f47f7652160>]"
      ]
     },
     "execution_count": 6,
     "metadata": {},
     "output_type": "execute_result"
    },
    {
     "data": {
      "image/png": "[encoded data removed]",
      "text/plain": [
       "<Figure size 432x288 with 1 Axes>"
      ]
     },
     "metadata": {
      "needs_background": "light"
     },
     "output_type": "display_data"
    }
   ],
   "source": [
    "plt.plot(data)"
   ]
  },
  {
   "cell_type": "code",
   "execution_count": 7,
   "id": "listed-support",
   "metadata": {},
   "outputs": [
    {
     "data": {
      "text/plain": [
       "[<matplotlib.lines.Line2D at 0x7f47f7679b80>]"
      ]
     },
     "execution_count": 7,
     "metadata": {},
     "output_type": "execute_result"
    },
    {
     "data": {
      "image/png": "[encoded data removed]",
      "text/plain": [
       "<Figure size 432x288 with 1 Axes>"
      ]
     },
     "metadata": {
      "needs_background": "light"
     },
     "output_type": "display_data"
    }
   ],
   "source": [
    "plt.plot(ds.time.data)"
   ]
  },
  {
   "cell_type": "code",
   "execution_count": 8,
   "id": "remarkable-blair",
   "metadata": {},
   "outputs": [
    {
     "data": {
      "text/plain": [
       "array([   0,    5,   10, ..., 9835, 9840, 9845])"
      ]
     },
     "execution_count": 8,
     "metadata": {},
     "output_type": "execute_result"
    }
   ],
   "source": [
    "ds.time.data"
   ]
  },
  {
   "cell_type": "code",
   "execution_count": 9,
   "id": "contemporary-nelson",
   "metadata": {},
   "outputs": [
    {
     "data": {
      "text/plain": [
       "array([   0,    5,   10, ..., 9835, 9840, 9845])"
      ]
     },
     "execution_count": 9,
     "metadata": {},
     "output_type": "execute_result"
    }
   ],
   "source": [
    "data"
   ]
  },
  {
   "cell_type": "code",
   "execution_count": 10,
   "id": "fitting-branch",
   "metadata": {},
   "outputs": [
    {
     "data": {
      "text/html": [
       "<pre>&lt;xarray.DataArray &#x27;time&#x27; (time: 1970)&gt;\n",
       "array([   0,    5,   10, ..., 9835, 9840, 9845])\n",
       "Coordinates:\n",
       "  * time     (time) int64 0 5 10 15 20 25 30 ... 9820 9825 9830 9835 9840 9845\n",
       "Attributes:\n",
       "    bounds:          time_bounds\n",
       "    calendar:        julian\n",
       "    calendar_type:   JULIAN\n",
       "    cartesian_axis:  T\n",
       "    long_name:       time\n",
       "    units:           days since 1993-01-04 13:00:00.000000</pre>"
      ],
      "text/plain": [
       "<xarray.DataArray 'time' (time: 1970)>\n",
       "array([   0,    5,   10, ..., 9835, 9840, 9845])\n",
       "Coordinates:\n",
       "  * time     (time) int64 0 5 10 15 20 25 30 ... 9820 9825 9830 9835 9840 9845\n",
       "Attributes:\n",
       "    bounds:          time_bounds\n",
       "    calendar:        julian\n",
       "    calendar_type:   JULIAN\n",
       "    cartesian_axis:  T\n",
       "    long_name:       time\n",
       "    units:           days since 1993-01-04 13:00:00.000000"
      ]
     },
     "execution_count": 10,
     "metadata": {},
     "output_type": "execute_result"
    }
   ],
   "source": [
    "ds.time"
   ]
  },
  {
   "cell_type": "markdown",
   "id": "initial-custody",
   "metadata": {},
   "source": [
    "### Mark 1"
   ]
  },
  {
   "cell_type": "code",
   "execution_count": 11,
   "id": "meaningful-helping",
   "metadata": {},
   "outputs": [],
   "source": [
    "time_data_test = xr.DataArray(data=data, dims=['time'], coords=dict(time=('time',data)))"
   ]
  },
  {
   "cell_type": "code",
   "execution_count": 12,
   "id": "controlling-stadium",
   "metadata": {},
   "outputs": [],
   "source": [
    "time_data_ds = time_data_test.to_dataset(name='time_new')"
   ]
  },
  {
   "cell_type": "code",
   "execution_count": 13,
   "id": "fifty-dayton",
   "metadata": {},
   "outputs": [
    {
     "data": {
      "text/html": [
       "<pre>&lt;xarray.Dataset&gt;\n",
       "Dimensions:   (time: 1970)\n",
       "Coordinates:\n",
       "  * time      (time) int64 0 5 10 15 20 25 30 ... 9820 9825 9830 9835 9840 9845\n",
       "Data variables:\n",
       "    time_new  (time) int64 0 5 10 15 20 25 30 ... 9820 9825 9830 9835 9840 9845</pre>"
      ],
      "text/plain": [
       "<xarray.Dataset>\n",
       "Dimensions:   (time: 1970)\n",
       "Coordinates:\n",
       "  * time      (time) int64 0 5 10 15 20 25 30 ... 9820 9825 9830 9835 9840 9845\n",
       "Data variables:\n",
       "    time_new  (time) int64 0 5 10 15 20 25 30 ... 9820 9825 9830 9835 9840 9845"
      ]
     },
     "execution_count": 13,
     "metadata": {},
     "output_type": "execute_result"
    }
   ],
   "source": [
    "time_data_ds"
   ]
  },
  {
   "cell_type": "code",
   "execution_count": 14,
   "id": "cubic-instruction",
   "metadata": {},
   "outputs": [
    {
     "data": {
      "text/html": [
       "<pre>&lt;xarray.DataArray &#x27;time_new&#x27; (time: 1970)&gt;\n",
       "array([   0,    5,   10, ..., 9835, 9840, 9845])\n",
       "Coordinates:\n",
       "  * time     (time) int64 0 5 10 15 20 25 30 ... 9820 9825 9830 9835 9840 9845</pre>"
      ],
      "text/plain": [
       "<xarray.DataArray 'time_new' (time: 1970)>\n",
       "array([   0,    5,   10, ..., 9835, 9840, 9845])\n",
       "Coordinates:\n",
       "  * time     (time) int64 0 5 10 15 20 25 30 ... 9820 9825 9830 9835 9840 9845"
      ]
     },
     "execution_count": 14,
     "metadata": {},
     "output_type": "execute_result"
    }
   ],
   "source": [
    "xr.decode_cf(time_data_ds).time_new"
   ]
  },
  {
   "cell_type": "code",
   "execution_count": 15,
   "id": "designing-edition",
   "metadata": {},
   "outputs": [
    {
     "data": {
      "text/html": [
       "<pre>&lt;xarray.DataArray &#x27;time&#x27; (time: 1970)&gt;\n",
       "array([   0,    5,   10, ..., 9835, 9840, 9845])\n",
       "Coordinates:\n",
       "  * time     (time) int64 0 5 10 15 20 25 30 ... 9820 9825 9830 9835 9840 9845</pre>"
      ],
      "text/plain": [
       "<xarray.DataArray 'time' (time: 1970)>\n",
       "array([   0,    5,   10, ..., 9835, 9840, 9845])\n",
       "Coordinates:\n",
       "  * time     (time) int64 0 5 10 15 20 25 30 ... 9820 9825 9830 9835 9840 9845"
      ]
     },
     "execution_count": 15,
     "metadata": {},
     "output_type": "execute_result"
    }
   ],
   "source": [
    "xr.decode_cf(time_data_ds).time"
   ]
  },
  {
   "cell_type": "markdown",
   "id": "dominant-orientation",
   "metadata": {},
   "source": [
    "### Mark 2"
   ]
  },
  {
   "cell_type": "code",
   "execution_count": 16,
   "id": "floral-mediterranean",
   "metadata": {},
   "outputs": [
    {
     "data": {
      "text/html": [
       "<pre>&lt;xarray.DataArray &#x27;time&#x27; (time: 1970)&gt;\n",
       "array([   0,    5,   10, ..., 9835, 9840, 9845])\n",
       "Coordinates:\n",
       "  * time     (time) int64 0 5 10 15 20 25 30 ... 9820 9825 9830 9835 9840 9845\n",
       "Attributes:\n",
       "    bounds:          time_bounds\n",
       "    calendar:        julian\n",
       "    calendar_type:   JULIAN\n",
       "    cartesian_axis:  T\n",
       "    long_name:       time\n",
       "    units:           days since 1993-01-04 13:00:00.000000</pre>"
      ],
      "text/plain": [
       "<xarray.DataArray 'time' (time: 1970)>\n",
       "array([   0,    5,   10, ..., 9835, 9840, 9845])\n",
       "Coordinates:\n",
       "  * time     (time) int64 0 5 10 15 20 25 30 ... 9820 9825 9830 9835 9840 9845\n",
       "Attributes:\n",
       "    bounds:          time_bounds\n",
       "    calendar:        julian\n",
       "    calendar_type:   JULIAN\n",
       "    cartesian_axis:  T\n",
       "    long_name:       time\n",
       "    units:           days since 1993-01-04 13:00:00.000000"
      ]
     },
     "execution_count": 16,
     "metadata": {},
     "output_type": "execute_result"
    }
   ],
   "source": [
    "ds.time"
   ]
  },
  {
   "cell_type": "code",
   "execution_count": 17,
   "id": "legendary-audio",
   "metadata": {},
   "outputs": [
    {
     "data": {
      "text/html": [
       "<pre>&lt;xarray.DataArray &#x27;time&#x27; (time: 1970)&gt;\n",
       "array([cftime.DatetimeJulian(1993, 1, 4, 13, 0, 0, 0),\n",
       "       cftime.DatetimeJulian(1993, 1, 9, 13, 0, 0, 0),\n",
       "       cftime.DatetimeJulian(1993, 1, 14, 13, 0, 0, 0), ...,\n",
       "       cftime.DatetimeJulian(2019, 12, 9, 13, 0, 0, 0),\n",
       "       cftime.DatetimeJulian(2019, 12, 14, 13, 0, 0, 0),\n",
       "       cftime.DatetimeJulian(2019, 12, 19, 13, 0, 0, 0)], dtype=object)\n",
       "Coordinates:\n",
       "  * time     (time) object 1993-01-04 13:00:00 ... 2019-12-19 13:00:00\n",
       "Attributes:\n",
       "    bounds:          time_bounds\n",
       "    calendar_type:   JULIAN\n",
       "    cartesian_axis:  T\n",
       "    long_name:       time</pre>"
      ],
      "text/plain": [
       "<xarray.DataArray 'time' (time: 1970)>\n",
       "array([cftime.DatetimeJulian(1993, 1, 4, 13, 0, 0, 0),\n",
       "       cftime.DatetimeJulian(1993, 1, 9, 13, 0, 0, 0),\n",
       "       cftime.DatetimeJulian(1993, 1, 14, 13, 0, 0, 0), ...,\n",
       "       cftime.DatetimeJulian(2019, 12, 9, 13, 0, 0, 0),\n",
       "       cftime.DatetimeJulian(2019, 12, 14, 13, 0, 0, 0),\n",
       "       cftime.DatetimeJulian(2019, 12, 19, 13, 0, 0, 0)], dtype=object)\n",
       "Coordinates:\n",
       "  * time     (time) object 1993-01-04 13:00:00 ... 2019-12-19 13:00:00\n",
       "Attributes:\n",
       "    bounds:          time_bounds\n",
       "    calendar_type:   JULIAN\n",
       "    cartesian_axis:  T\n",
       "    long_name:       time"
      ]
     },
     "execution_count": 17,
     "metadata": {},
     "output_type": "execute_result"
    }
   ],
   "source": [
    "ds_dec.time"
   ]
  },
  {
   "cell_type": "code",
   "execution_count": 18,
   "id": "previous-tuner",
   "metadata": {},
   "outputs": [],
   "source": [
    "time_copy = ds.time.copy(deep=False)\n",
    "time_coord = time_copy.coords.to_dataset().reset_coords() \n",
    "#^separating time coord to be a ds itself so that can change values of it in next line but keep encoded time info\n",
    "time_coord_copy = time_coord.time.copy(data=data) \n",
    "#^rewriting the coord data for self-created data\n",
    "time_new_data_coord = time_copy.assign_coords(time=time_coord_copy) \n",
    "#^assigning new values for coord to copied time array"
   ]
  },
  {
   "cell_type": "code",
   "execution_count": null,
   "id": "sustained-handling",
   "metadata": {},
   "outputs": [],
   "source": [
    "time_coord"
   ]
  },
  {
   "cell_type": "code",
   "execution_count": 19,
   "id": "above-bhutan",
   "metadata": {},
   "outputs": [
    {
     "data": {
      "text/html": [
       "<pre>&lt;xarray.DataArray &#x27;time&#x27; (time: 1970)&gt;\n",
       "array([   0,    5,   10, ..., 9835, 9840, 9845])\n",
       "Coordinates:\n",
       "  * time     (time) int64 0 5 10 15 20 25 30 ... 9820 9825 9830 9835 9840 9845\n",
       "Attributes:\n",
       "    bounds:          time_bounds\n",
       "    calendar:        julian\n",
       "    calendar_type:   JULIAN\n",
       "    cartesian_axis:  T\n",
       "    long_name:       time\n",
       "    units:           days since 1993-01-04 13:00:00.000000</pre>"
      ],
      "text/plain": [
       "<xarray.DataArray 'time' (time: 1970)>\n",
       "array([   0,    5,   10, ..., 9835, 9840, 9845])\n",
       "Coordinates:\n",
       "  * time     (time) int64 0 5 10 15 20 25 30 ... 9820 9825 9830 9835 9840 9845\n",
       "Attributes:\n",
       "    bounds:          time_bounds\n",
       "    calendar:        julian\n",
       "    calendar_type:   JULIAN\n",
       "    cartesian_axis:  T\n",
       "    long_name:       time\n",
       "    units:           days since 1993-01-04 13:00:00.000000"
      ]
     },
     "execution_count": 19,
     "metadata": {},
     "output_type": "execute_result"
    }
   ],
   "source": [
    "time_new_data_coord"
   ]
  },
  {
   "cell_type": "code",
   "execution_count": 20,
   "id": "coordinate-capital",
   "metadata": {},
   "outputs": [
    {
     "data": {
      "text/plain": [
       "[<matplotlib.lines.Line2D at 0x7f47f7fa9d60>]"
      ]
     },
     "execution_count": 20,
     "metadata": {},
     "output_type": "execute_result"
    },
    {
     "data": {
      "image/png": "[encoded data removed]",
      "text/plain": [
       "<Figure size 432x288 with 1 Axes>"
      ]
     },
     "metadata": {
      "needs_background": "light"
     },
     "output_type": "display_data"
    }
   ],
   "source": [
    "plt.plot(time_new_data_coord.time.values)"
   ]
  },
  {
   "cell_type": "code",
   "execution_count": 21,
   "id": "romantic-investor",
   "metadata": {},
   "outputs": [],
   "source": [
    "time_new = time_new_data_coord.to_dataset(name = 'time_new')"
   ]
  },
  {
   "cell_type": "code",
   "execution_count": 22,
   "id": "precise-pearl",
   "metadata": {},
   "outputs": [
    {
     "data": {
      "text/html": [
       "<pre>&lt;xarray.Dataset&gt;\n",
       "Dimensions:   (time: 1970)\n",
       "Coordinates:\n",
       "  * time      (time) int64 0 5 10 15 20 25 30 ... 9820 9825 9830 9835 9840 9845\n",
       "Data variables:\n",
       "    time_new  (time) int64 0 5 10 15 20 25 30 ... 9820 9825 9830 9835 9840 9845</pre>"
      ],
      "text/plain": [
       "<xarray.Dataset>\n",
       "Dimensions:   (time: 1970)\n",
       "Coordinates:\n",
       "  * time      (time) int64 0 5 10 15 20 25 30 ... 9820 9825 9830 9835 9840 9845\n",
       "Data variables:\n",
       "    time_new  (time) int64 0 5 10 15 20 25 30 ... 9820 9825 9830 9835 9840 9845"
      ]
     },
     "execution_count": 22,
     "metadata": {},
     "output_type": "execute_result"
    }
   ],
   "source": [
    "time_new"
   ]
  },
  {
   "cell_type": "code",
   "execution_count": 23,
   "id": "finite-third",
   "metadata": {},
   "outputs": [],
   "source": [
    "time_new_dec = xr.decode_cf(time_new, decode_coords=True).time_new"
   ]
  },
  {
   "cell_type": "code",
   "execution_count": 24,
   "id": "demonstrated-gateway",
   "metadata": {},
   "outputs": [
    {
     "data": {
      "text/html": [
       "<pre>&lt;xarray.DataArray &#x27;time_new&#x27; (time: 1970)&gt;\n",
       "array([cftime.DatetimeJulian(1993, 1, 4, 13, 0, 0, 0),\n",
       "       cftime.DatetimeJulian(1993, 1, 9, 13, 0, 0, 0),\n",
       "       cftime.DatetimeJulian(1993, 1, 14, 13, 0, 0, 0), ...,\n",
       "       cftime.DatetimeJulian(2019, 12, 9, 13, 0, 0, 0),\n",
       "       cftime.DatetimeJulian(2019, 12, 14, 13, 0, 0, 0),\n",
       "       cftime.DatetimeJulian(2019, 12, 19, 13, 0, 0, 0)], dtype=object)\n",
       "Coordinates:\n",
       "  * time     (time) object 1993-01-04 13:00:00 ... 2019-12-19 13:00:00\n",
       "Attributes:\n",
       "    bounds:          time_bounds\n",
       "    calendar_type:   JULIAN\n",
       "    cartesian_axis:  T\n",
       "    long_name:       time</pre>"
      ],
      "text/plain": [
       "<xarray.DataArray 'time_new' (time: 1970)>\n",
       "array([cftime.DatetimeJulian(1993, 1, 4, 13, 0, 0, 0),\n",
       "       cftime.DatetimeJulian(1993, 1, 9, 13, 0, 0, 0),\n",
       "       cftime.DatetimeJulian(1993, 1, 14, 13, 0, 0, 0), ...,\n",
       "       cftime.DatetimeJulian(2019, 12, 9, 13, 0, 0, 0),\n",
       "       cftime.DatetimeJulian(2019, 12, 14, 13, 0, 0, 0),\n",
       "       cftime.DatetimeJulian(2019, 12, 19, 13, 0, 0, 0)], dtype=object)\n",
       "Coordinates:\n",
       "  * time     (time) object 1993-01-04 13:00:00 ... 2019-12-19 13:00:00\n",
       "Attributes:\n",
       "    bounds:          time_bounds\n",
       "    calendar_type:   JULIAN\n",
       "    cartesian_axis:  T\n",
       "    long_name:       time"
      ]
     },
     "execution_count": 24,
     "metadata": {},
     "output_type": "execute_result"
    }
   ],
   "source": [
    "time_new_dec"
   ]
  },
  {
   "cell_type": "code",
   "execution_count": 25,
   "id": "saving-measurement",
   "metadata": {},
   "outputs": [
    {
     "data": {
      "text/html": [
       "<pre>&lt;xarray.DataArray &#x27;time&#x27; (time: 1970)&gt;\n",
       "array([cftime.DatetimeJulian(1993, 1, 4, 13, 0, 0, 0),\n",
       "       cftime.DatetimeJulian(1993, 1, 9, 13, 0, 0, 0),\n",
       "       cftime.DatetimeJulian(1993, 1, 14, 13, 0, 0, 0), ...,\n",
       "       cftime.DatetimeJulian(2019, 12, 9, 13, 0, 0, 0),\n",
       "       cftime.DatetimeJulian(2019, 12, 14, 13, 0, 0, 0),\n",
       "       cftime.DatetimeJulian(2019, 12, 19, 13, 0, 0, 0)], dtype=object)\n",
       "Coordinates:\n",
       "  * time     (time) object 1993-01-04 13:00:00 ... 2019-12-19 13:00:00\n",
       "Attributes:\n",
       "    bounds:          time_bounds\n",
       "    calendar_type:   JULIAN\n",
       "    cartesian_axis:  T\n",
       "    long_name:       time</pre>"
      ],
      "text/plain": [
       "<xarray.DataArray 'time' (time: 1970)>\n",
       "array([cftime.DatetimeJulian(1993, 1, 4, 13, 0, 0, 0),\n",
       "       cftime.DatetimeJulian(1993, 1, 9, 13, 0, 0, 0),\n",
       "       cftime.DatetimeJulian(1993, 1, 14, 13, 0, 0, 0), ...,\n",
       "       cftime.DatetimeJulian(2019, 12, 9, 13, 0, 0, 0),\n",
       "       cftime.DatetimeJulian(2019, 12, 14, 13, 0, 0, 0),\n",
       "       cftime.DatetimeJulian(2019, 12, 19, 13, 0, 0, 0)], dtype=object)\n",
       "Coordinates:\n",
       "  * time     (time) object 1993-01-04 13:00:00 ... 2019-12-19 13:00:00\n",
       "Attributes:\n",
       "    bounds:          time_bounds\n",
       "    calendar_type:   JULIAN\n",
       "    cartesian_axis:  T\n",
       "    long_name:       time"
      ]
     },
     "execution_count": 25,
     "metadata": {},
     "output_type": "execute_result"
    }
   ],
   "source": [
    "ds_dec.time"
   ]
  },
  {
   "cell_type": "code",
   "execution_count": 26,
   "id": "illegal-renaissance",
   "metadata": {},
   "outputs": [
    {
     "data": {
      "text/html": [
       "<pre>&lt;xarray.DataArray &#x27;time&#x27; (time: 1970)&gt;\n",
       "array([   0,    5,   10, ..., 9835, 9840, 9845])\n",
       "Coordinates:\n",
       "  * time     (time) int64 0 5 10 15 20 25 30 ... 9820 9825 9830 9835 9840 9845\n",
       "Attributes:\n",
       "    bounds:          time_bounds\n",
       "    calendar:        julian\n",
       "    calendar_type:   JULIAN\n",
       "    cartesian_axis:  T\n",
       "    long_name:       time\n",
       "    units:           days since 1993-01-04 13:00:00.000000</pre>"
      ],
      "text/plain": [
       "<xarray.DataArray 'time' (time: 1970)>\n",
       "array([   0,    5,   10, ..., 9835, 9840, 9845])\n",
       "Coordinates:\n",
       "  * time     (time) int64 0 5 10 15 20 25 30 ... 9820 9825 9830 9835 9840 9845\n",
       "Attributes:\n",
       "    bounds:          time_bounds\n",
       "    calendar:        julian\n",
       "    calendar_type:   JULIAN\n",
       "    cartesian_axis:  T\n",
       "    long_name:       time\n",
       "    units:           days since 1993-01-04 13:00:00.000000"
      ]
     },
     "execution_count": 26,
     "metadata": {},
     "output_type": "execute_result"
    }
   ],
   "source": [
    "ds.time"
   ]
  },
  {
   "cell_type": "code",
   "execution_count": 85,
   "id": "nuclear-occupation",
   "metadata": {},
   "outputs": [
    {
     "data": {
      "text/html": [
       "<pre>&lt;xarray.DataArray &#x27;time_new&#x27; (time: 1970)&gt;\n",
       "array([cftime.DatetimeJulian(1993, 1, 4, 13, 0, 0, 0),\n",
       "       cftime.DatetimeJulian(1993, 1, 9, 13, 0, 0, 0),\n",
       "       cftime.DatetimeJulian(1993, 1, 14, 13, 0, 0, 0), ...,\n",
       "       cftime.DatetimeJulian(2019, 12, 9, 13, 0, 0, 0),\n",
       "       cftime.DatetimeJulian(2019, 12, 14, 13, 0, 0, 0),\n",
       "       cftime.DatetimeJulian(2019, 12, 19, 13, 0, 0, 0)], dtype=object)\n",
       "Coordinates:\n",
       "  * time     (time) object 1993-01-04 13:00:00 ... 2019-12-19 13:00:00\n",
       "Attributes:\n",
       "    bounds:          time_bounds\n",
       "    calendar_type:   JULIAN\n",
       "    cartesian_axis:  T\n",
       "    long_name:       time</pre>"
      ],
      "text/plain": [
       "<xarray.DataArray 'time_new' (time: 1970)>\n",
       "array([cftime.DatetimeJulian(1993, 1, 4, 13, 0, 0, 0),\n",
       "       cftime.DatetimeJulian(1993, 1, 9, 13, 0, 0, 0),\n",
       "       cftime.DatetimeJulian(1993, 1, 14, 13, 0, 0, 0), ...,\n",
       "       cftime.DatetimeJulian(2019, 12, 9, 13, 0, 0, 0),\n",
       "       cftime.DatetimeJulian(2019, 12, 14, 13, 0, 0, 0),\n",
       "       cftime.DatetimeJulian(2019, 12, 19, 13, 0, 0, 0)], dtype=object)\n",
       "Coordinates:\n",
       "  * time     (time) object 1993-01-04 13:00:00 ... 2019-12-19 13:00:00\n",
       "Attributes:\n",
       "    bounds:          time_bounds\n",
       "    calendar_type:   JULIAN\n",
       "    cartesian_axis:  T\n",
       "    long_name:       time"
      ]
     },
     "execution_count": 85,
     "metadata": {},
     "output_type": "execute_result"
    }
   ],
   "source": [
    "time_new_dec"
   ]
  },
  {
   "cell_type": "code",
   "execution_count": 80,
   "id": "median-sheriff",
   "metadata": {},
   "outputs": [
    {
     "data": {
      "text/plain": [
       "[<matplotlib.lines.Line2D at 0x7f47d9c054f0>]"
      ]
     },
     "execution_count": 80,
     "metadata": {},
     "output_type": "execute_result"
    },
    {
     "data": {
      "image/png": "[encoded data removed]",
      "text/plain": [
       "<Figure size 432x288 with 1 Axes>"
      ]
     },
     "metadata": {
      "needs_background": "light"
     },
     "output_type": "display_data"
    }
   ],
   "source": [
    "plt.plot(time_new_dec.time.data)"
   ]
  },
  {
   "cell_type": "markdown",
   "id": "painful-harassment",
   "metadata": {},
   "source": [
    "### Add `Mark 2`'s time obj to original ds"
   ]
  },
  {
   "cell_type": "code",
   "execution_count": 182,
   "id": "surprised-jacksonville",
   "metadata": {},
   "outputs": [],
   "source": [
    "ds_new = ds.drop_vars('time').assign_coords({'time': ('time', time_new_dec.time.values)})"
   ]
  },
  {
   "cell_type": "code",
   "execution_count": 183,
   "id": "specified-rubber",
   "metadata": {},
   "outputs": [
    {
     "data": {
      "text/html": [
       "<pre>&lt;xarray.Dataset&gt;\n",
       "Dimensions:          (nv: 2, st_edges_ocean: 51, st_ocean: 50, sw_edges_ocean: 51, sw_ocean: 50, time: 1970, xt_ocean: 1440, xu_ocean: 1440, yt_ocean: 1070, yu_ocean: 1070)\n",
       "Coordinates:\n",
       "  * nv               (nv) float64 1.0 2.0\n",
       "  * st_edges_ocean   (st_edges_ocean) float64 0.0 10.07 ... 5.29e+03 5.5e+03\n",
       "  * st_ocean         (st_ocean) float64 5.034 15.1 25.22 ... 5.185e+03 5.395e+03\n",
       "  * sw_edges_ocean   (sw_edges_ocean) float64 5.034 15.1 ... 5.395e+03 5.5e+03\n",
       "  * sw_ocean         (sw_ocean) float64 10.07 20.16 30.29 ... 5.29e+03 5.5e+03\n",
       "  * xt_ocean         (xt_ocean) float64 -279.9 -279.6 -279.4 ... 79.62 79.88\n",
       "  * xu_ocean         (xu_ocean) float64 -279.8 -279.5 -279.2 ... 79.5 79.75 80.0\n",
       "  * yt_ocean         (yt_ocean) float64 -80.02 -79.92 -79.81 ... 89.84 89.95\n",
       "  * yu_ocean         (yu_ocean) float64 -79.97 -79.86 -79.76 ... 89.89 90.0\n",
       "  * time             (time) object 1993-01-04 13:00:00 ... 2019-12-19 13:00:00\n",
       "Data variables:\n",
       "    anompb           (time, yt_ocean, xt_ocean) float32 dask.array&lt;chunksize=(1, 1070, 1440), meta=np.ndarray&gt;\n",
       "    average_DT       (time) timedelta64[ns] dask.array&lt;chunksize=(1,), meta=np.ndarray&gt;\n",
       "    average_T1       (time) datetime64[ns] dask.array&lt;chunksize=(1,), meta=np.ndarray&gt;\n",
       "    average_T2       (time) datetime64[ns] dask.array&lt;chunksize=(1,), meta=np.ndarray&gt;\n",
       "    evap_heat        (time, yt_ocean, xt_ocean) float32 dask.array&lt;chunksize=(1, 1070, 1440), meta=np.ndarray&gt;\n",
       "    hflux_cpl        (time, yt_ocean, xt_ocean) float32 dask.array&lt;chunksize=(1, 1070, 1440), meta=np.ndarray&gt;\n",
       "    hflux_pme        (time, yt_ocean, xt_ocean) float32 dask.array&lt;chunksize=(1, 1070, 1440), meta=np.ndarray&gt;\n",
       "    hflux_total      (time, yt_ocean, xt_ocean) float32 dask.array&lt;chunksize=(1, 1070, 1440), meta=np.ndarray&gt;\n",
       "    lw_heat          (time, yt_ocean, xt_ocean) float32 dask.array&lt;chunksize=(1, 1070, 1440), meta=np.ndarray&gt;\n",
       "    mlp              (time, yt_ocean, xt_ocean) float32 dask.array&lt;chunksize=(1, 1070, 1440), meta=np.ndarray&gt;\n",
       "    mls              (time, yt_ocean, xt_ocean) float32 dask.array&lt;chunksize=(1, 1070, 1440), meta=np.ndarray&gt;\n",
       "    mlt              (time, yt_ocean, xt_ocean) float32 dask.array&lt;chunksize=(1, 1070, 1440), meta=np.ndarray&gt;\n",
       "    net_heating      (time, yt_ocean, xt_ocean) float32 dask.array&lt;chunksize=(1, 1070, 1440), meta=np.ndarray&gt;\n",
       "    prho             (time, st_ocean, yt_ocean, xt_ocean) float32 dask.array&lt;chunksize=(1, 50, 1070, 1440), meta=np.ndarray&gt;\n",
       "    salt             (time, st_ocean, yt_ocean, xt_ocean) float32 dask.array&lt;chunksize=(1, 50, 1070, 1440), meta=np.ndarray&gt;\n",
       "    salt_flux_rstr   (time, yt_ocean, xt_ocean) float32 dask.array&lt;chunksize=(1, 1070, 1440), meta=np.ndarray&gt;\n",
       "    salt_flux_total  (time, yt_ocean, xt_ocean) float32 dask.array&lt;chunksize=(1, 1070, 1440), meta=np.ndarray&gt;\n",
       "    sbd              (time, yt_ocean, xt_ocean) float32 dask.array&lt;chunksize=(1, 1070, 1440), meta=np.ndarray&gt;\n",
       "    sbd_dhdt         (time, yt_ocean, xt_ocean) float32 dask.array&lt;chunksize=(1, 1070, 1440), meta=np.ndarray&gt;\n",
       "    sbd_horz         (time, yt_ocean, xt_ocean) float32 dask.array&lt;chunksize=(1, 1070, 1440), meta=np.ndarray&gt;\n",
       "    sbd_mld          (time, yt_ocean, xt_ocean) float32 dask.array&lt;chunksize=(1, 1070, 1440), meta=np.ndarray&gt;\n",
       "    sbd_vert         (time, yt_ocean, xt_ocean) float32 dask.array&lt;chunksize=(1, 1070, 1440), meta=np.ndarray&gt;\n",
       "    sens_heat        (time, yt_ocean, xt_ocean) float32 dask.array&lt;chunksize=(1, 1070, 1440), meta=np.ndarray&gt;\n",
       "    ssh              (time, yt_ocean, xt_ocean) float32 dask.array&lt;chunksize=(1, 1070, 1440), meta=np.ndarray&gt;\n",
       "    swflx            (time, yt_ocean, xt_ocean) float32 dask.array&lt;chunksize=(1, 1070, 1440), meta=np.ndarray&gt;\n",
       "    taux             (time, yu_ocean, xu_ocean) float32 dask.array&lt;chunksize=(1, 1070, 1440), meta=np.ndarray&gt;\n",
       "    tauy             (time, yu_ocean, xu_ocean) float32 dask.array&lt;chunksize=(1, 1070, 1440), meta=np.ndarray&gt;\n",
       "    temp             (time, st_ocean, yt_ocean, xt_ocean) float32 dask.array&lt;chunksize=(1, 50, 1070, 1440), meta=np.ndarray&gt;\n",
       "    time_bounds      (time, nv) int64 dask.array&lt;chunksize=(1, 2), meta=np.ndarray&gt;\n",
       "    u                (time, st_ocean, yu_ocean, xu_ocean) float32 dask.array&lt;chunksize=(1, 50, 1070, 1440), meta=np.ndarray&gt;\n",
       "    v                (time, st_ocean, yu_ocean, xu_ocean) float32 dask.array&lt;chunksize=(1, 50, 1070, 1440), meta=np.ndarray&gt;\n",
       "    wt               (time, sw_ocean, yt_ocean, xt_ocean) float32 dask.array&lt;chunksize=(1, 50, 1070, 1440), meta=np.ndarray&gt;\n",
       "Attributes:\n",
       "    filename:   soda3.4.2_5dy_ocean_or_1993_01_04.nc\n",
       "    grid_tile:  1\n",
       "    grid_type:  mosaic\n",
       "    title:      MOM5_SODA_3.4.2</pre>"
      ],
      "text/plain": [
       "<xarray.Dataset>\n",
       "Dimensions:          (nv: 2, st_edges_ocean: 51, st_ocean: 50, sw_edges_ocean: 51, sw_ocean: 50, time: 1970, xt_ocean: 1440, xu_ocean: 1440, yt_ocean: 1070, yu_ocean: 1070)\n",
       "Coordinates:\n",
       "  * nv               (nv) float64 1.0 2.0\n",
       "  * st_edges_ocean   (st_edges_ocean) float64 0.0 10.07 ... 5.29e+03 5.5e+03\n",
       "  * st_ocean         (st_ocean) float64 5.034 15.1 25.22 ... 5.185e+03 5.395e+03\n",
       "  * sw_edges_ocean   (sw_edges_ocean) float64 5.034 15.1 ... 5.395e+03 5.5e+03\n",
       "  * sw_ocean         (sw_ocean) float64 10.07 20.16 30.29 ... 5.29e+03 5.5e+03\n",
       "  * xt_ocean         (xt_ocean) float64 -279.9 -279.6 -279.4 ... 79.62 79.88\n",
       "  * xu_ocean         (xu_ocean) float64 -279.8 -279.5 -279.2 ... 79.5 79.75 80.0\n",
       "  * yt_ocean         (yt_ocean) float64 -80.02 -79.92 -79.81 ... 89.84 89.95\n",
       "  * yu_ocean         (yu_ocean) float64 -79.97 -79.86 -79.76 ... 89.89 90.0\n",
       "  * time             (time) object 1993-01-04 13:00:00 ... 2019-12-19 13:00:00\n",
       "Data variables:\n",
       "    anompb           (time, yt_ocean, xt_ocean) float32 dask.array<chunksize=(1, 1070, 1440), meta=np.ndarray>\n",
       "    average_DT       (time) timedelta64[ns] dask.array<chunksize=(1,), meta=np.ndarray>\n",
       "    average_T1       (time) datetime64[ns] dask.array<chunksize=(1,), meta=np.ndarray>\n",
       "    average_T2       (time) datetime64[ns] dask.array<chunksize=(1,), meta=np.ndarray>\n",
       "    evap_heat        (time, yt_ocean, xt_ocean) float32 dask.array<chunksize=(1, 1070, 1440), meta=np.ndarray>\n",
       "    hflux_cpl        (time, yt_ocean, xt_ocean) float32 dask.array<chunksize=(1, 1070, 1440), meta=np.ndarray>\n",
       "    hflux_pme        (time, yt_ocean, xt_ocean) float32 dask.array<chunksize=(1, 1070, 1440), meta=np.ndarray>\n",
       "    hflux_total      (time, yt_ocean, xt_ocean) float32 dask.array<chunksize=(1, 1070, 1440), meta=np.ndarray>\n",
       "    lw_heat          (time, yt_ocean, xt_ocean) float32 dask.array<chunksize=(1, 1070, 1440), meta=np.ndarray>\n",
       "    mlp              (time, yt_ocean, xt_ocean) float32 dask.array<chunksize=(1, 1070, 1440), meta=np.ndarray>\n",
       "    mls              (time, yt_ocean, xt_ocean) float32 dask.array<chunksize=(1, 1070, 1440), meta=np.ndarray>\n",
       "    mlt              (time, yt_ocean, xt_ocean) float32 dask.array<chunksize=(1, 1070, 1440), meta=np.ndarray>\n",
       "    net_heating      (time, yt_ocean, xt_ocean) float32 dask.array<chunksize=(1, 1070, 1440), meta=np.ndarray>\n",
       "    prho             (time, st_ocean, yt_ocean, xt_ocean) float32 dask.array<chunksize=(1, 50, 1070, 1440), meta=np.ndarray>\n",
       "    salt             (time, st_ocean, yt_ocean, xt_ocean) float32 dask.array<chunksize=(1, 50, 1070, 1440), meta=np.ndarray>\n",
       "    salt_flux_rstr   (time, yt_ocean, xt_ocean) float32 dask.array<chunksize=(1, 1070, 1440), meta=np.ndarray>\n",
       "    salt_flux_total  (time, yt_ocean, xt_ocean) float32 dask.array<chunksize=(1, 1070, 1440), meta=np.ndarray>\n",
       "    sbd              (time, yt_ocean, xt_ocean) float32 dask.array<chunksize=(1, 1070, 1440), meta=np.ndarray>\n",
       "    sbd_dhdt         (time, yt_ocean, xt_ocean) float32 dask.array<chunksize=(1, 1070, 1440), meta=np.ndarray>\n",
       "    sbd_horz         (time, yt_ocean, xt_ocean) float32 dask.array<chunksize=(1, 1070, 1440), meta=np.ndarray>\n",
       "    sbd_mld          (time, yt_ocean, xt_ocean) float32 dask.array<chunksize=(1, 1070, 1440), meta=np.ndarray>\n",
       "    sbd_vert         (time, yt_ocean, xt_ocean) float32 dask.array<chunksize=(1, 1070, 1440), meta=np.ndarray>\n",
       "    sens_heat        (time, yt_ocean, xt_ocean) float32 dask.array<chunksize=(1, 1070, 1440), meta=np.ndarray>\n",
       "    ssh              (time, yt_ocean, xt_ocean) float32 dask.array<chunksize=(1, 1070, 1440), meta=np.ndarray>\n",
       "    swflx            (time, yt_ocean, xt_ocean) float32 dask.array<chunksize=(1, 1070, 1440), meta=np.ndarray>\n",
       "    taux             (time, yu_ocean, xu_ocean) float32 dask.array<chunksize=(1, 1070, 1440), meta=np.ndarray>\n",
       "    tauy             (time, yu_ocean, xu_ocean) float32 dask.array<chunksize=(1, 1070, 1440), meta=np.ndarray>\n",
       "    temp             (time, st_ocean, yt_ocean, xt_ocean) float32 dask.array<chunksize=(1, 50, 1070, 1440), meta=np.ndarray>\n",
       "    time_bounds      (time, nv) int64 dask.array<chunksize=(1, 2), meta=np.ndarray>\n",
       "    u                (time, st_ocean, yu_ocean, xu_ocean) float32 dask.array<chunksize=(1, 50, 1070, 1440), meta=np.ndarray>\n",
       "    v                (time, st_ocean, yu_ocean, xu_ocean) float32 dask.array<chunksize=(1, 50, 1070, 1440), meta=np.ndarray>\n",
       "    wt               (time, sw_ocean, yt_ocean, xt_ocean) float32 dask.array<chunksize=(1, 50, 1070, 1440), meta=np.ndarray>\n",
       "Attributes:\n",
       "    filename:   soda3.4.2_5dy_ocean_or_1993_01_04.nc\n",
       "    grid_tile:  1\n",
       "    grid_type:  mosaic\n",
       "    title:      MOM5_SODA_3.4.2"
      ]
     },
     "execution_count": 183,
     "metadata": {},
     "output_type": "execute_result"
    }
   ],
   "source": [
    "ds_new"
   ]
  },
  {
   "cell_type": "code",
   "execution_count": 186,
   "id": "independent-typing",
   "metadata": {},
   "outputs": [
    {
     "data": {
      "text/plain": [
       "[<matplotlib.lines.Line2D at 0x7f47eb844b50>]"
      ]
     },
     "execution_count": 186,
     "metadata": {},
     "output_type": "execute_result"
    },
    {
     "data": {
      "image/png": "[encoded data removed]",
      "text/plain": [
       "<Figure size 432x288 with 1 Axes>"
      ]
     },
     "metadata": {
      "needs_background": "light"
     },
     "output_type": "display_data"
    }
   ],
   "source": [
    "plt.plot(time_new_dec.values)"
   ]
  },
  {
   "cell_type": "code",
   "execution_count": 187,
   "id": "mexican-david",
   "metadata": {},
   "outputs": [
    {
     "data": {
      "text/plain": [
       "[<matplotlib.lines.Line2D at 0x7f47eb818d60>]"
      ]
     },
     "execution_count": 187,
     "metadata": {},
     "output_type": "execute_result"
    },
    {
     "data": {
      "image/png": "[encoded data removed]",
      "text/plain": [
       "<Figure size 432x288 with 1 Axes>"
      ]
     },
     "metadata": {
      "needs_background": "light"
     },
     "output_type": "display_data"
    }
   ],
   "source": [
    "plt.plot(ds_new.time.values)"
   ]
  },
  {
   "cell_type": "code",
   "execution_count": 188,
   "id": "indian-fifty",
   "metadata": {},
   "outputs": [
    {
     "data": {
      "text/html": [
       "<pre>&lt;xarray.DataArray &#x27;time&#x27; (time: 1970)&gt;\n",
       "array([cftime.DatetimeJulian(1993, 1, 4, 13, 0, 0, 0),\n",
       "       cftime.DatetimeJulian(1993, 1, 9, 13, 0, 0, 0),\n",
       "       cftime.DatetimeJulian(1993, 1, 14, 13, 0, 0, 0), ...,\n",
       "       cftime.DatetimeJulian(2019, 12, 9, 13, 0, 0, 0),\n",
       "       cftime.DatetimeJulian(2019, 12, 14, 13, 0, 0, 0),\n",
       "       cftime.DatetimeJulian(2019, 12, 19, 13, 0, 0, 0)], dtype=object)\n",
       "Coordinates:\n",
       "  * time     (time) object 1993-01-04 13:00:00 ... 2019-12-19 13:00:00</pre>"
      ],
      "text/plain": [
       "<xarray.DataArray 'time' (time: 1970)>\n",
       "array([cftime.DatetimeJulian(1993, 1, 4, 13, 0, 0, 0),\n",
       "       cftime.DatetimeJulian(1993, 1, 9, 13, 0, 0, 0),\n",
       "       cftime.DatetimeJulian(1993, 1, 14, 13, 0, 0, 0), ...,\n",
       "       cftime.DatetimeJulian(2019, 12, 9, 13, 0, 0, 0),\n",
       "       cftime.DatetimeJulian(2019, 12, 14, 13, 0, 0, 0),\n",
       "       cftime.DatetimeJulian(2019, 12, 19, 13, 0, 0, 0)], dtype=object)\n",
       "Coordinates:\n",
       "  * time     (time) object 1993-01-04 13:00:00 ... 2019-12-19 13:00:00"
      ]
     },
     "execution_count": 188,
     "metadata": {},
     "output_type": "execute_result"
    }
   ],
   "source": [
    "ds_new.time"
   ]
  },
  {
   "cell_type": "code",
   "execution_count": 189,
   "id": "promising-supply",
   "metadata": {},
   "outputs": [
    {
     "data": {
      "text/plain": [
       "[<matplotlib.lines.Line2D at 0x7f47eb780250>]"
      ]
     },
     "execution_count": 189,
     "metadata": {},
     "output_type": "execute_result"
    },
    {
     "data": {
      "image/png": "[encoded data removed]",
      "text/plain": [
       "<Figure size 432x288 with 1 Axes>"
      ]
     },
     "metadata": {
      "needs_background": "light"
     },
     "output_type": "display_data"
    }
   ],
   "source": [
    "ds_new.time.plot()"
   ]
  },
  {
   "cell_type": "code",
   "execution_count": 192,
   "id": "intense-blanket",
   "metadata": {},
   "outputs": [
    {
     "data": {
      "text/plain": [
       "[<matplotlib.lines.Line2D at 0x7f47eb6f2940>]"
      ]
     },
     "execution_count": 192,
     "metadata": {},
     "output_type": "execute_result"
    },
    {
     "data": {
      "image/png": "[encoded data removed]",
      "text/plain": [
       "<Figure size 432x288 with 1 Axes>"
      ]
     },
     "metadata": {
      "needs_background": "light"
     },
     "output_type": "display_data"
    }
   ],
   "source": [
    "plt.plot(ds_new.time.data)"
   ]
  },
  {
   "cell_type": "code",
   "execution_count": 194,
   "id": "dynamic-watts",
   "metadata": {},
   "outputs": [
    {
     "data": {
      "text/html": [
       "<pre>&lt;xarray.DataArray &#x27;time&#x27; ()&gt;\n",
       "array(cftime.DatetimeJulian(2018, 12, 24, 13, 0, 0, 0), dtype=object)\n",
       "Coordinates:\n",
       "    time     object 2018-12-24 13:00:00</pre>"
      ],
      "text/plain": [
       "<xarray.DataArray 'time' ()>\n",
       "array(cftime.DatetimeJulian(2018, 12, 24, 13, 0, 0, 0), dtype=object)\n",
       "Coordinates:\n",
       "    time     object 2018-12-24 13:00:00"
      ]
     },
     "execution_count": 194,
     "metadata": {},
     "output_type": "execute_result"
    }
   ],
   "source": [
    "ds_new.time[1897]"
   ]
  },
  {
   "cell_type": "code",
   "execution_count": 130,
   "id": "existing-elizabeth",
   "metadata": {},
   "outputs": [
    {
     "data": {
      "text/plain": [
       "[<matplotlib.lines.Line2D at 0x7f47eba94b20>]"
      ]
     },
     "execution_count": 130,
     "metadata": {},
     "output_type": "execute_result"
    },
    {
     "data": {
      "image/png": "[encoded data removed]",
      "text/plain": [
       "<Figure size 432x288 with 1 Axes>"
      ]
     },
     "metadata": {
      "needs_background": "light"
     },
     "output_type": "display_data"
    }
   ],
   "source": [
    "plt.plot(time_new_dec.time.data)"
   ]
  },
  {
   "cell_type": "code",
   "execution_count": 200,
   "id": "rising-trade",
   "metadata": {},
   "outputs": [
    {
     "data": {
      "text/html": [
       "<pre>&lt;xarray.DataArray &#x27;time&#x27; ()&gt;\n",
       "array(cftime.DatetimeJulian(1980, 1, 1, 13, 0, 0, 0), dtype=object)\n",
       "Coordinates:\n",
       "    time     object 1980-01-01 13:00:00</pre>"
      ],
      "text/plain": [
       "<xarray.DataArray 'time' ()>\n",
       "array(cftime.DatetimeJulian(1980, 1, 1, 13, 0, 0, 0), dtype=object)\n",
       "Coordinates:\n",
       "    time     object 1980-01-01 13:00:00"
      ]
     },
     "execution_count": 200,
     "metadata": {},
     "output_type": "execute_result"
    }
   ],
   "source": [
    "ds.time[1896]"
   ]
  },
  {
   "cell_type": "code",
   "execution_count": 201,
   "id": "dried-horizon",
   "metadata": {},
   "outputs": [
    {
     "data": {
      "text/html": [
       "<pre>&lt;xarray.DataArray &#x27;time&#x27; ()&gt;\n",
       "array(cftime.DatetimeJulian(1980, 1, 1, 13, 0, 0, 0), dtype=object)\n",
       "Coordinates:\n",
       "    time     object 1980-01-01 13:00:00</pre>"
      ],
      "text/plain": [
       "<xarray.DataArray 'time' ()>\n",
       "array(cftime.DatetimeJulian(1980, 1, 1, 13, 0, 0, 0), dtype=object)\n",
       "Coordinates:\n",
       "    time     object 1980-01-01 13:00:00"
      ]
     },
     "execution_count": 201,
     "metadata": {},
     "output_type": "execute_result"
    }
   ],
   "source": [
    "ds.time[1897]"
   ]
  },
  {
   "cell_type": "code",
   "execution_count": 213,
   "id": "consolidated-flashing",
   "metadata": {},
   "outputs": [
    {
     "data": {
      "text/plain": [
       "(array([11066508., 11728264.,  3324410.,  2609242.,  2211332.,  1679436.,\n",
       "         1420327.,  1141572.,  1078128.,   209248.]),\n",
       " array([-2.2516625,  1.2208495,  4.6933613,  8.165874 , 11.638386 ,\n",
       "        15.110897 , 18.58341  , 22.055922 , 25.528433 , 29.000946 ,\n",
       "        32.473457 ], dtype=float32),\n",
       " <BarContainer object of 10 artists>)"
      ]
     },
     "execution_count": 213,
     "metadata": {},
     "output_type": "execute_result"
    },
    {
     "data": {
      "image/png": "[encoded data removed]",
      "text/plain": [
       "<Figure size 432x288 with 1 Axes>"
      ]
     },
     "metadata": {
      "needs_background": "light"
     },
     "output_type": "display_data"
    }
   ],
   "source": [
    "#vars in old ds and new ds time match\n",
    "ds.temp[1896].plot(color='red', alpha=0.8)\n",
    "ds_new.temp[1896].plot(color='blue', alpha=0.4)"
   ]
  },
  {
   "cell_type": "code",
   "execution_count": 214,
   "id": "descending-compact",
   "metadata": {},
   "outputs": [
    {
     "data": {
      "text/plain": [
       "(array([0., 0., 0., 0., 0., 0., 0., 0., 0., 0.]),\n",
       " array([0. , 0.1, 0.2, 0.3, 0.4, 0.5, 0.6, 0.7, 0.8, 0.9, 1. ]),\n",
       " <BarContainer object of 10 artists>)"
      ]
     },
     "execution_count": 214,
     "metadata": {},
     "output_type": "execute_result"
    },
    {
     "data": {
      "image/png": "[encoded data removed]",
      "text/plain": [
       "<Figure size 432x288 with 1 Axes>"
      ]
     },
     "metadata": {
      "needs_background": "light"
     },
     "output_type": "display_data"
    }
   ],
   "source": [
    "#vars in old ds and new ds time match\n",
    "ds.temp[1897].plot(color='red', alpha=0.8)\n",
    "ds_new.temp[1897].plot(color='blue', alpha=0.4)"
   ]
  },
  {
   "cell_type": "code",
   "execution_count": null,
   "id": "together-folks",
   "metadata": {},
   "outputs": [],
   "source": [
    "import xgcm\n",
    "\n",
    "grid_ocean = xgcm.Grid(ocean, coords={'X': {'center': 'xt_ocean', 'right': 'xu_ocean'}, \n",
    "                                      'Y': {'center': 'yt_ocean', 'right': 'yu_ocean'},\n",
    "                                      'T': {'center': 'time'},\n",
    "                                      'Z': {'center': 'st_edges_ocean', 'right': 'st_ocean'},\n",
    "                                      'Zu': {'center': 'sw_edges_ocean', 'right': 'sw_ocean'}},\n",
    "                     periodic=['X'])\n",
    "grid_ocean"
   ]
  },
  {
   "cell_type": "code",
   "execution_count": null,
   "id": "satisfied-vaccine",
   "metadata": {},
   "outputs": [],
   "source": [
    "grid_transport = xgcm.Grid(transport, coords={'X': {'center': 'xt_ocean', 'right': 'xu_ocean'}, \n",
    "                                              'Y': {'center': 'yt_ocean', 'right': 'yu_ocean'},\n",
    "                                              'T': {'center': 'time'},\n",
    "                                              'Z': {'center': 'st_edges_ocean', 'right': 'st_ocean'},\n",
    "                                              'Zu': {'center': 'sw_edges_ocean', 'right': 'sw_ocean'}},\n",
    "                     periodic=['X'])\n",
    "grid_transport"
   ]
  },
  {
   "cell_type": "markdown",
   "id": "abandoned-resident",
   "metadata": {},
   "source": [
    "## Variables to create:\n",
    "\n",
    "- [ ] Vel terms for psi\n",
    "- [ ] Surf flux term (incl. sw penetration)\n",
    "- [ ] Total tendency term"
   ]
  },
  {
   "cell_type": "markdown",
   "id": "brief-guitar",
   "metadata": {},
   "source": [
    "## <font color='Green'>Get cell area and volume in meters</font>"
   ]
  },
  {
   "cell_type": "code",
   "execution_count": null,
   "id": "corporate-boxing",
   "metadata": {},
   "outputs": [],
   "source": [
    "#calculating meters per latitudinal & longitudinal degree\n",
    "earth_radius = 6.371e6\n",
    "earth_circumference = 2*np.pi*earth_radius\n",
    "meters_per_degree = earth_circumference / 360\n",
    "meters_per_degree"
   ]
  },
  {
   "cell_type": "code",
   "execution_count": null,
   "id": "adjusted-blood",
   "metadata": {},
   "outputs": [],
   "source": [
    "#converting lat from degrees to meters\n",
    "delta_lat = grid_ocean.diff(ocean.yt_ocean, 'Y', boundary='fill', fill_value=np.nan)\n",
    "dy = delta_lat * meters_per_degree\n",
    "delta_lat_u = grid_ocean.diff(ocean.yu_ocean, 'Y', boundary='fill', fill_value=np.nan)\n",
    "dy_u = delta_lat_u * meters_per_degree\n",
    "\n",
    "#converting degrees lon to lon [meters] (pinching at the poles)\n",
    "delta_lon = grid_ocean.diff(ocean.xt_ocean, 'X', boundary_discontinuity=360)\n",
    "dx = delta_lon * meters_per_degree * np.cos(np.deg2rad(ocean.yt_ocean))\n",
    "delta_lon_u = grid_ocean.diff(ocean.xu_ocean, 'X', boundary_discontinuity=360)\n",
    "dx_u = delta_lon_u * meters_per_degree * np.cos(np.deg2rad(ocean.yu_ocean))"
   ]
  },
  {
   "cell_type": "code",
   "execution_count": null,
   "id": "unexpected-communication",
   "metadata": {},
   "outputs": [],
   "source": [
    "dx"
   ]
  },
  {
   "cell_type": "code",
   "execution_count": null,
   "id": "alpine-haven",
   "metadata": {},
   "outputs": [],
   "source": [
    "dx_u"
   ]
  },
  {
   "cell_type": "code",
   "execution_count": null,
   "id": "billion-reggae",
   "metadata": {},
   "outputs": [],
   "source": [
    "dx.plot()"
   ]
  },
  {
   "cell_type": "code",
   "execution_count": null,
   "id": "electronic-creek",
   "metadata": {},
   "outputs": [],
   "source": [
    "dz = grid_ocean.diff(ocean.st_edges_ocean[1:], 'Z', boundary='fill', fill_value=0.)\n",
    "dz_u = grid_ocean.diff(ocean.sw_edges_ocean[1:], 'Zu', boundary='fill', fill_value=0.)"
   ]
  },
  {
   "cell_type": "code",
   "execution_count": null,
   "id": "renewable-syntax",
   "metadata": {},
   "outputs": [],
   "source": [
    "cell_elements = xr.merge([dx.rename('dx'), dx_u.rename('dx_u'), \n",
    "                          dy.rename('dy'), dy_u.rename('dy_u'), \n",
    "                          dz.rename('dz'), dz_u.rename('dz_u')])"
   ]
  },
  {
   "cell_type": "code",
   "execution_count": null,
   "id": "italian-document",
   "metadata": {},
   "outputs": [],
   "source": [
    "cell_elements"
   ]
  },
  {
   "cell_type": "markdown",
   "id": "severe-cooperation",
   "metadata": {},
   "source": [
    "## <font color='Green'>Slice to WG region</font>"
   ]
  },
  {
   "cell_type": "code",
   "execution_count": null,
   "id": "spoken-mustang",
   "metadata": {},
   "outputs": [],
   "source": [
    "#WG boundaries (80˚S, 62˚S, 65˚W, 30˚E)\n",
    "lower_lat = 0 #-80.02101494\n",
    "upper_lat = 169 #-62.01972704\n",
    "left_lon =  859 #-65.12\n",
    "right_lon = 1240 #30.12\n",
    "\n",
    "lower_lat_u = 0 #-79.96821565\n",
    "upper_lat_u = 169 #-61.96096874 python is right exclusive so will have -62.0 in array\n",
    "left_lon_u = 859 #-65.0\n",
    "right_lon_u = 1240 #30.25 python is right exclusive so will have 30.0˚E"
   ]
  },
  {
   "cell_type": "code",
   "execution_count": null,
   "id": "varied-expression",
   "metadata": {},
   "outputs": [],
   "source": [
    "#set the boundaries\n",
    "lat_range = dict(yt_ocean=slice(lower_lat, upper_lat), yu_ocean=slice(lower_lat_u, upper_lat_u))\n",
    "lon_range = dict(xt_ocean=slice(left_lon, right_lon), xu_ocean=slice(left_lon_u, right_lon_u))\n",
    "\n",
    "lat_range_no_u = dict(yt_ocean=slice(lower_lat, upper_lat))\n",
    "lon_range_no_u = dict(xt_ocean=slice(left_lon, right_lon))\n",
    "\n",
    "lat_range_u = dict(yu_ocean=slice(lower_lat_u, upper_lat_u))\n",
    "lon_range_u = dict(xu_ocean=slice(left_lon_u, right_lon_u))"
   ]
  },
  {
   "cell_type": "code",
   "execution_count": null,
   "id": "uniform-soccer",
   "metadata": {},
   "outputs": [],
   "source": [
    "ocean_wg = ocean.isel(**lat_range, **lon_range)\n",
    "transport_wg = transport.isel(**lat_range, **lon_range)\n",
    "cells_wg = cell_elements.isel(**lat_range, **lon_range)"
   ]
  },
  {
   "cell_type": "code",
   "execution_count": null,
   "id": "smaller-tiffany",
   "metadata": {},
   "outputs": [],
   "source": [
    "import xgcm\n",
    "\n",
    "grid_ocean_wg = xgcm.Grid(ocean_wg, coords={'X': {'center': 'xt_ocean', 'right': 'xu_ocean'}, \n",
    "                                      'Y': {'center': 'yt_ocean', 'right': 'yu_ocean'},\n",
    "                                      'T': {'center': 'time'},\n",
    "                                      'Z': {'center': 'st_edges_ocean', 'right': 'st_ocean'},\n",
    "                                      'Zu': {'center': 'sw_edges_ocean', 'right': 'sw_ocean'}},\n",
    "                     periodic=['X'])\n",
    "grid_ocean_wg"
   ]
  },
  {
   "cell_type": "code",
   "execution_count": null,
   "id": "south-delivery",
   "metadata": {},
   "outputs": [],
   "source": [
    "transport.tx_int[0].plot()"
   ]
  },
  {
   "cell_type": "code",
   "execution_count": null,
   "id": "cosmetic-stereo",
   "metadata": {},
   "outputs": [],
   "source": [
    "transport_wg.tx_int[0].plot()"
   ]
  },
  {
   "cell_type": "markdown",
   "id": "assumed-running",
   "metadata": {},
   "source": [
    "## <font color='Green'>\\begin{equation*} Transport/Vel\\ terms \\end{equation*}</font>"
   ]
  },
  {
   "cell_type": "code",
   "execution_count": null,
   "id": "fundamental-density",
   "metadata": {},
   "outputs": [],
   "source": [
    "transport_wg.tx_trans.isel(xu_ocean=-1)"
   ]
  },
  {
   "cell_type": "code",
   "execution_count": null,
   "id": "enabling-checkout",
   "metadata": {},
   "outputs": [],
   "source": [
    "cells_wg.dz.coords"
   ]
  },
  {
   "cell_type": "code",
   "execution_count": null,
   "id": "increased-interaction",
   "metadata": {},
   "outputs": [],
   "source": [
    "cells_wg.dy_u.coords"
   ]
  },
  {
   "cell_type": "code",
   "execution_count": null,
   "id": "surrounded-fellow",
   "metadata": {},
   "outputs": [],
   "source": [
    "transport_wg.ty_trans.coords"
   ]
  },
  {
   "cell_type": "code",
   "execution_count": null,
   "id": "talented-bumper",
   "metadata": {},
   "outputs": [],
   "source": [
    "cells_wg.dx_u.coords"
   ]
  },
  {
   "cell_type": "code",
   "execution_count": null,
   "id": "sporting-vegetable",
   "metadata": {},
   "outputs": [],
   "source": [
    "u_transport_right = (transport_wg.tx_trans * cells_wg.dz * cells_wg.dy_u).isel(xu_ocean=-1)\n",
    "u_transport_left = (transport_wg.tx_trans * cells_wg.dz * cells_wg.dy_u).isel(xu_ocean=0)\n",
    "\n",
    "v_transport = (transport_wg.ty_trans * cells_wg.dz * cells_wg.dx_u).isel(yu_ocean=-1)"
   ]
  },
  {
   "cell_type": "code",
   "execution_count": null,
   "id": "seven-bishop",
   "metadata": {},
   "outputs": [],
   "source": [
    "ocean_wg.wt[0].coords"
   ]
  },
  {
   "cell_type": "code",
   "execution_count": null,
   "id": "destroyed-finder",
   "metadata": {},
   "outputs": [],
   "source": [
    "cells_wg.dy_u.coords"
   ]
  },
  {
   "cell_type": "code",
   "execution_count": null,
   "id": "supreme-property",
   "metadata": {},
   "outputs": [],
   "source": [
    "dx_interp = grid_ocean_wg.interp(cells_wg.dx_u, 'Y', boundary='fill')"
   ]
  },
  {
   "cell_type": "code",
   "execution_count": null,
   "id": "adjustable-township",
   "metadata": {},
   "outputs": [],
   "source": [
    "dx_interp.coords"
   ]
  },
  {
   "cell_type": "code",
   "execution_count": null,
   "id": "confused-reaction",
   "metadata": {},
   "outputs": [],
   "source": [
    "w_transport = (ocean_wg.wt * dx_interp * cells_wg.dy_u).isel(sw_ocean=0)"
   ]
  },
  {
   "cell_type": "code",
   "execution_count": null,
   "id": "empty-independence",
   "metadata": {},
   "outputs": [],
   "source": [
    "# constants\n",
    "heat_capacity_cp = 3.994e3\n",
    "runit2mass = 1.035e3 #rho\n",
    "\n",
    "#surf_transport = (ocean_wg.net_heating * dx_interp * cells_wg.dy_u) / (heat_capacity_cp * runit2mass)\n",
    "surf_transport = ocean_wg.net_heating  / (heat_capacity_cp * runit2mass)"
   ]
  },
  {
   "cell_type": "code",
   "execution_count": null,
   "id": "described-movement",
   "metadata": {},
   "outputs": [],
   "source": [
    "u_transport_left[0]"
   ]
  },
  {
   "cell_type": "code",
   "execution_count": null,
   "id": "indian-defense",
   "metadata": {},
   "outputs": [],
   "source": [
    "fig, (ax0,ax1,ax2) = plt.subplots(1,3, figsize=(20,5))\n",
    "\n",
    "(u_transport_left[0]/1e6).plot(yincrease=False, ax=ax0)\n",
    "ax0.set_title('U transport LEFT boundary')\n",
    "(u_transport_right[0]/1e6).plot(yincrease=False, ax=ax1) \n",
    "ax1.set_title('U transport RIGHT boundary')\n",
    "(v_transport[0]/1e6).plot(yincrease=False, ax=ax2)\n",
    "ax2.set_title('V transport northern boundary');"
   ]
  },
  {
   "cell_type": "code",
   "execution_count": null,
   "id": "precious-digit",
   "metadata": {},
   "outputs": [],
   "source": [
    "client"
   ]
  },
  {
   "cell_type": "code",
   "execution_count": null,
   "id": "talented-coverage",
   "metadata": {},
   "outputs": [],
   "source": [
    "fig, (ax0,ax1,ax2) = plt.subplots(1,3, figsize=(20,5))\n",
    "\n",
    "(u_transport_left.mean(dim='time')/1e6).plot(yincrease=False, ax=ax0)\n",
    "ax0.set_title('U transport LEFT boundary\\n time mean')\n",
    "(u_transport_right.mean(dim='time')/1e6).plot(yincrease=False, ax=ax1) \n",
    "ax1.set_title('U transport RIGHT boundary')\n",
    "(v_transport.mean(dim='time')/1e6).plot(yincrease=False, ax=ax2)\n",
    "ax2.set_title('V transport northern boundary');"
   ]
  },
  {
   "cell_type": "code",
   "execution_count": null,
   "id": "sharp-contributor",
   "metadata": {},
   "outputs": [],
   "source": [
    "client.restart()"
   ]
  },
  {
   "cell_type": "code",
   "execution_count": null,
   "id": "thousand-rental",
   "metadata": {},
   "outputs": [],
   "source": [
    "u_transport_right"
   ]
  },
  {
   "cell_type": "code",
   "execution_count": null,
   "id": "coupled-internet",
   "metadata": {},
   "outputs": [],
   "source": [
    "u_transport_left"
   ]
  },
  {
   "cell_type": "code",
   "execution_count": null,
   "id": "extra-publication",
   "metadata": {},
   "outputs": [],
   "source": [
    "v_transport"
   ]
  },
  {
   "cell_type": "code",
   "execution_count": null,
   "id": "hundred-macedonia",
   "metadata": {},
   "outputs": [],
   "source": [
    "w_transport"
   ]
  },
  {
   "cell_type": "code",
   "execution_count": null,
   "id": "assured-kansas",
   "metadata": {},
   "outputs": [],
   "source": [
    "surf_transport"
   ]
  },
  {
   "cell_type": "code",
   "execution_count": null,
   "id": "minus-depth",
   "metadata": {},
   "outputs": [],
   "source": [
    "# BEST WAY TO DO IT\n",
    "u_transport_mean_value = (u_transport_right.fillna(0.).sum(dim=['yt_ocean', 'st_ocean']) -\n",
    "                          u_transport_left.fillna(0.).sum(dim=['yt_ocean', 'st_ocean'])).mean(dim='time')/1e6\n",
    "u_transport_mean_value.load()"
   ]
  },
  {
   "cell_type": "code",
   "execution_count": null,
   "id": "continuing-terry",
   "metadata": {},
   "outputs": [],
   "source": [
    "v_transport_mean_value = (v_transport).fillna(0.).sum(dim=['xt_ocean', 'st_ocean']).mean(dim='time')/1e6\n",
    "v_transport_mean_value.load()"
   ]
  },
  {
   "cell_type": "code",
   "execution_count": null,
   "id": "portable-hawaiian",
   "metadata": {},
   "outputs": [],
   "source": [
    "w_transport_mean_value = (w_transport).fillna(0.).sum(dim=['xt_ocean', 'yt_ocean']).mean(dim='time')/1e6\n",
    "w_transport_mean_value.load()"
   ]
  },
  {
   "cell_type": "code",
   "execution_count": null,
   "id": "beginning-singles",
   "metadata": {},
   "outputs": [],
   "source": [
    "surf_transport_mean_value = surf_transport.fillna(0.).sum(dim=['xt_ocean', 'yt_ocean']).mean(dim='time')\n",
    "surf_transport_mean_value.load()"
   ]
  },
  {
   "cell_type": "code",
   "execution_count": null,
   "id": "surprised-still",
   "metadata": {},
   "outputs": [],
   "source": [
    "residual = u_transport_mean_value + v_transport_mean_value #+ surf_transport_mean_value\n",
    "residual"
   ]
  },
  {
   "cell_type": "markdown",
   "id": "ethical-suffering",
   "metadata": {},
   "source": [
    "## <font color='Green'>\\begin{equation*} Surface\\ Fluxes \\end{equation*}</font>"
   ]
  },
  {
   "cell_type": "code",
   "execution_count": null,
   "id": "colonial-rachel",
   "metadata": {},
   "outputs": [],
   "source": [
    "ocean_wg.salt_flux_total"
   ]
  },
  {
   "cell_type": "code",
   "execution_count": null,
   "id": "accurate-arbor",
   "metadata": {},
   "outputs": [],
   "source": [
    "ocean_wg.hflux_total"
   ]
  },
  {
   "cell_type": "code",
   "execution_count": null,
   "id": "comprehensive-irish",
   "metadata": {},
   "outputs": [],
   "source": [
    "heat_capacity_cp = 3.994e3 #J/kg/˚C\n",
    "runit2mass = 1.035e3 #rho\n",
    "\n",
    "surf_flux_th = (ocean_wg.hflux_total * dx_interp * dy_u) / (heat_capacity_cp * runit2mass) #˚C*m^3/s\n",
    "surf_flux_slt = (ocean_wg.salt_flux_total * dx_interp * dy_u) / runit2mass # psu*m^3/s"
   ]
  },
  {
   "cell_type": "code",
   "execution_count": null,
   "id": "incorporate-museum",
   "metadata": {},
   "outputs": [],
   "source": [
    "surf_flux_th"
   ]
  },
  {
   "cell_type": "code",
   "execution_count": null,
   "id": "weird-universal",
   "metadata": {},
   "outputs": [],
   "source": [
    "surf_flux_slt"
   ]
  },
  {
   "cell_type": "code",
   "execution_count": null,
   "id": "toxic-preliminary",
   "metadata": {},
   "outputs": [],
   "source": [
    "fix, (ax0,ax1) = plt.subplots(1,2, figsize=(10,3))\n",
    "ocean_wg.hflux_total[0].plot(ax=ax0)\n",
    "ocean_wg.salt_flux_total[0].plot(ax=ax1)\n",
    "plt.tight_layout();"
   ]
  },
  {
   "cell_type": "code",
   "execution_count": null,
   "id": "emerging-hepatitis",
   "metadata": {},
   "outputs": [],
   "source": [
    "fix, (ax0,ax1) = plt.subplots(1,2, figsize=(10,3))\n",
    "(surf_flux_th[0]/1e6).plot(cmap='RdBu_r', ax=ax0)\n",
    "(surf_flux_slt[0]/1e6).plot(cmap='RdBu_r', ax=ax1)\n",
    "plt.suptitle('Surface fluxes at timestep 0', fontweight='bold')\n",
    "plt.tight_layout();"
   ]
  },
  {
   "cell_type": "code",
   "execution_count": null,
   "id": "baking-gather",
   "metadata": {},
   "outputs": [],
   "source": [
    "fix, (ax0,ax1) = plt.subplots(1,2, figsize=(10,3))\n",
    "(surf_flux_th/1e6).mean(dim='time').plot(cmap='RdBu_r', ax=ax0)\n",
    "(surf_flux_slt/1e6).mean(dim='time').plot(cmap='RdBu_r', ax=ax1)\n",
    "plt.suptitle('Mean surface fluxes', fontweight='bold')\n",
    "plt.tight_layout();"
   ]
  },
  {
   "cell_type": "code",
   "execution_count": null,
   "id": "human-bennett",
   "metadata": {},
   "outputs": [],
   "source": [
    "ocean_wg.temp"
   ]
  },
  {
   "cell_type": "code",
   "execution_count": null,
   "id": "atomic-weather",
   "metadata": {},
   "outputs": [],
   "source": [
    "def surface_to_3d(da):\n",
    "    da = da.copy()\n",
    "    da.coords['st_ocean'] = ocean_wg.st_ocean[0]\n",
    "    da = da.expand_dims(dim='st_ocean', axis=1)\n",
    "    da, _ = xr.align(da, ocean_wg.st_ocean, join='right')\n",
    "    return da.fillna(0.)"
   ]
  },
  {
   "cell_type": "code",
   "execution_count": null,
   "id": "following-bridge",
   "metadata": {},
   "outputs": [],
   "source": [
    "surf_flux_th"
   ]
  },
  {
   "cell_type": "code",
   "execution_count": null,
   "id": "organizational-polls",
   "metadata": {},
   "outputs": [],
   "source": [
    "surf_flux_conv_TH = surface_to_3d(surf_flux_th)\n",
    "surf_flux_conv_SLT = surface_to_3d(surf_flux_slt)"
   ]
  },
  {
   "cell_type": "markdown",
   "id": "exposed-hearing",
   "metadata": {},
   "source": [
    "## SW flux penetration"
   ]
  },
  {
   "cell_type": "code",
   "execution_count": null,
   "id": "exclusive-moment",
   "metadata": {},
   "outputs": [],
   "source": [
    "ocean_wg.swflx"
   ]
  },
  {
   "cell_type": "code",
   "execution_count": null,
   "id": "discrete-reflection",
   "metadata": {},
   "outputs": [],
   "source": [
    "#sw flux\n",
    "sw_flux = (ocean_wg.swflx * dx_interp * dy_u) / (heat_capacity_cp * runit2mass) #˚C*m^3/s"
   ]
  },
  {
   "cell_type": "markdown",
   "id": "bacterial-victor",
   "metadata": {},
   "source": [
    "### ^ Need to figure out how to treat swflx penetrating through cell levels\n",
    "__(PG 252 in MOM5 manual)__"
   ]
  },
  {
   "cell_type": "markdown",
   "id": "creative-appreciation",
   "metadata": {},
   "source": [
    "## <font color='Green'>\\begin{equation*} Total\\ Tendency \\end{equation*}</font>"
   ]
  },
  {
   "cell_type": "code",
   "execution_count": null,
   "id": "excellent-validity",
   "metadata": {},
   "outputs": [],
   "source": [
    "#creating new time dim-coord by dropping 1980-01-01 13:00:00 from indices 1896 & 1897\n",
    "#time is also missing 14th and 19th day for 2018 and 2019\n",
    "ocean_wg.coords['time_no1980'] = ocean_wg.time.where(ocean_wg.time != ocean_wg.time.isel(time=1896), drop=True)\n",
    "ocean_wg['time_no1980'] = ocean_wg.time.where(ocean_wg.time != ocean_wg.time.isel(time=1896), drop=True).values"
   ]
  },
  {
   "cell_type": "code",
   "execution_count": null,
   "id": "sudden-bundle",
   "metadata": {},
   "outputs": [],
   "source": [
    "ocean_wg.time.where(ocean_wg.time != ocean_wg.time.isel(time=1896), drop=True)"
   ]
  },
  {
   "cell_type": "code",
   "execution_count": null,
   "id": "younger-apparatus",
   "metadata": {},
   "outputs": [],
   "source": [
    "xr.decode_cf(ocean_wg.isel(time=1896)[['time']]).time"
   ]
  },
  {
   "cell_type": "code",
   "execution_count": null,
   "id": "trying-yemen",
   "metadata": {},
   "outputs": [],
   "source": [
    "ocean_wg.time"
   ]
  },
  {
   "cell_type": "raw",
   "id": "forbidden-genesis",
   "metadata": {},
   "source": [
    "dt_values = (ocean_wg.time.where(ocean_wg.time != ocean_wg.time.isel(time=1896), drop=True).diff('time') / 1e9).astype('f4')"
   ]
  },
  {
   "cell_type": "code",
   "execution_count": null,
   "id": "forbidden-range",
   "metadata": {},
   "outputs": [],
   "source": [
    "ocean_wg.time.plot()"
   ]
  },
  {
   "cell_type": "code",
   "execution_count": null,
   "id": "enormous-vatican",
   "metadata": {},
   "outputs": [],
   "source": [
    "ocean_wg.time.sel(time='2019')"
   ]
  },
  {
   "cell_type": "code",
   "execution_count": null,
   "id": "documentary-catch",
   "metadata": {},
   "outputs": [],
   "source": [
    "ocean_wg.time.sel(time=slice('1993', '2019'), method='nearest')"
   ]
  },
  {
   "cell_type": "code",
   "execution_count": null,
   "id": "promising-pharmacy",
   "metadata": {},
   "outputs": [],
   "source": [
    "plt.plot(ocean_wg.time.values)"
   ]
  },
  {
   "cell_type": "code",
   "execution_count": null,
   "id": "intensive-disposal",
   "metadata": {},
   "outputs": [],
   "source": [
    "ocean_wg.time_no1980"
   ]
  },
  {
   "cell_type": "code",
   "execution_count": null,
   "id": "apart-commander",
   "metadata": {},
   "outputs": [],
   "source": [
    "dt_values = (ocean_wg.time_no1980.diff('time_no1980') / 1e9).astype('f4')\n",
    "dt = xr.DataArray(dt_values, dims=['time_no1980'], \n",
    "                  coords={'time_no1980': (['time_no1980'], ocean_wg.time_no1980.values[1:])}) #shaves off first time stamp in `ocean_wg.time_no1980`\n",
    "ocean_wg.coords['dt'] = dt"
   ]
  },
  {
   "cell_type": "code",
   "execution_count": null,
   "id": "roman-wilderness",
   "metadata": {},
   "outputs": [],
   "source": [
    "ocean_wg.time_no1980[0:5].plot(color='r', marker='.')\n",
    "dt_values.time_no1980[0:5].plot(color='k', linestyle='dashed')"
   ]
  },
  {
   "cell_type": "code",
   "execution_count": null,
   "id": "tired-minnesota",
   "metadata": {},
   "outputs": [],
   "source": [
    "ocean_wg.time_no1980[-5:].plot(color='r', marker='.')\n",
    "dt_values.time_no1980[-5:].plot(color='k', linestyle='dashed')"
   ]
  },
  {
   "cell_type": "markdown",
   "id": "opposite-serbia",
   "metadata": {},
   "source": [
    "**Theta Tendency Term**"
   ]
  },
  {
   "cell_type": "code",
   "execution_count": null,
   "id": "welcome-immunology",
   "metadata": {},
   "outputs": [],
   "source": [
    "ocean_wg.temp"
   ]
  },
  {
   "cell_type": "code",
   "execution_count": null,
   "id": "furnished-absolute",
   "metadata": {},
   "outputs": [],
   "source": [
    "ocean_wg.temp[1896][0].plot()"
   ]
  },
  {
   "cell_type": "code",
   "execution_count": null,
   "id": "knowing-reproduction",
   "metadata": {},
   "outputs": [],
   "source": [
    "ocean_wg.temp[1897][0].plot()"
   ]
  },
  {
   "cell_type": "code",
   "execution_count": null,
   "id": "figured-bibliography",
   "metadata": {},
   "outputs": [],
   "source": [
    "ocean_wg.time[1896]"
   ]
  },
  {
   "cell_type": "code",
   "execution_count": null,
   "id": "defined-progressive",
   "metadata": {},
   "outputs": [],
   "source": [
    "ocean_wg.temp.time"
   ]
  },
  {
   "cell_type": "code",
   "execution_count": null,
   "id": "biblical-meter",
   "metadata": {},
   "outputs": [],
   "source": [
    "#create new temp var w/ no 1980\n",
    "temp = ocean_wg.temp.where(ocean_wg.temp.time != ocean_wg.time.isel(time=1896), drop=True)"
   ]
  },
  {
   "cell_type": "code",
   "execution_count": null,
   "id": "academic-shannon",
   "metadata": {},
   "outputs": [],
   "source": [
    "client"
   ]
  },
  {
   "cell_type": "code",
   "execution_count": null,
   "id": "unknown-dubai",
   "metadata": {},
   "outputs": [],
   "source": [
    "temp[0,0].plot()"
   ]
  },
  {
   "cell_type": "code",
   "execution_count": null,
   "id": "chemical-requirement",
   "metadata": {},
   "outputs": [],
   "source": [
    "delta_theta = temp.diff('time')#.load()"
   ]
  },
  {
   "cell_type": "code",
   "execution_count": null,
   "id": "light-activity",
   "metadata": {},
   "outputs": [],
   "source": [
    "delta_theta.time.plot()\n",
    "ocean_wg.dt[1:].plot()"
   ]
  },
  {
   "cell_type": "code",
   "execution_count": null,
   "id": "continuing-afghanistan",
   "metadata": {},
   "outputs": [],
   "source": [
    "ocean_wg.dt[1:]"
   ]
  },
  {
   "cell_type": "raw",
   "id": "moderate-bidding",
   "metadata": {},
   "source": [
    "#forcing delta_theta to have same timestamp as ds.dt by creating new data array called \"theta_scaled\"\n",
    "delta_theta = xr.DataArray(delta_theta.data, dims=['time','st_ocean','yt_ocean','xt_ocean'], \n",
    "                            coords={'time': coords_wg.dt[1:].time.data,\n",
    "                                    'level': coords_wg.level,\n",
    "                                    'lat': coords_wg.lat,\n",
    "                                    'lon': coords_wg.lon})\n",
    "delta_theta"
   ]
  },
  {
   "cell_type": "code",
   "execution_count": null,
   "id": "normal-housing",
   "metadata": {},
   "outputs": [],
   "source": [
    "ocean_wg.dt.time_no1980[1:]"
   ]
  },
  {
   "cell_type": "code",
   "execution_count": null,
   "id": "severe-occasion",
   "metadata": {},
   "outputs": [],
   "source": [
    "delta_theta"
   ]
  },
  {
   "cell_type": "code",
   "execution_count": null,
   "id": "limited-ozone",
   "metadata": {},
   "outputs": [],
   "source": [
    "theta_tend = (delta_theta / ocean_wg.dt[1:])#.load()"
   ]
  },
  {
   "cell_type": "code",
   "execution_count": null,
   "id": "better-brush",
   "metadata": {},
   "outputs": [],
   "source": [
    "theta_tend"
   ]
  },
  {
   "cell_type": "code",
   "execution_count": null,
   "id": "whole-louis",
   "metadata": {},
   "outputs": [],
   "source": [
    "ocean_wg.swflx"
   ]
  },
  {
   "cell_type": "code",
   "execution_count": null,
   "id": "veterinary-camera",
   "metadata": {},
   "outputs": [],
   "source": [
    "theta_tend[0,0].plot()"
   ]
  },
  {
   "cell_type": "code",
   "execution_count": null,
   "id": "eight-rocket",
   "metadata": {},
   "outputs": [],
   "source": [
    "client"
   ]
  },
  {
   "cell_type": "code",
   "execution_count": null,
   "id": "unique-anatomy",
   "metadata": {},
   "outputs": [],
   "source": [
    "theta_tend.coords#[:,1:,1:,1:]"
   ]
  },
  {
   "cell_type": "code",
   "execution_count": null,
   "id": "worth-proposition",
   "metadata": {},
   "outputs": [],
   "source": [
    "dx_u_wg_interp.coords"
   ]
  },
  {
   "cell_type": "code",
   "execution_count": null,
   "id": "arbitrary-tension",
   "metadata": {},
   "outputs": [],
   "source": [
    "dy_u_wg.coords"
   ]
  },
  {
   "cell_type": "code",
   "execution_count": null,
   "id": "composed-insight",
   "metadata": {},
   "outputs": [],
   "source": [
    "dz.coords"
   ]
  },
  {
   "cell_type": "code",
   "execution_count": null,
   "id": "alternate-neighborhood",
   "metadata": {},
   "outputs": [],
   "source": [
    "totttend = theta_tend * dx_u_wg_interp * dy_u_wg * dz"
   ]
  },
  {
   "cell_type": "code",
   "execution_count": null,
   "id": "norwegian-cemetery",
   "metadata": {},
   "outputs": [],
   "source": [
    "(totttend[0,0]/1e6).plot()"
   ]
  },
  {
   "cell_type": "markdown",
   "id": "verified-richmond",
   "metadata": {},
   "source": [
    "**Salt Tendency Term**"
   ]
  },
  {
   "cell_type": "code",
   "execution_count": null,
   "id": "stunning-richmond",
   "metadata": {},
   "outputs": [],
   "source": [
    "delta_salt = salt.diff('time')"
   ]
  },
  {
   "cell_type": "code",
   "execution_count": null,
   "id": "humanitarian-sender",
   "metadata": {},
   "outputs": [],
   "source": [
    "#forcing delta_salt to have same timestamp as ds.dt by creating new data array called \"salt_scaled\"\n",
    "delta_salt = xr.DataArray(delta_salt.data, dims=['time','level','lat','lon'], \n",
    "                            coords={'time': coords_wg.dt[0:-1].time.data,\n",
    "                                    'level': coords_wg.level,\n",
    "                                    'lat': coords_wg.lat,\n",
    "                                    'lon': coords_wg.lon})\n",
    "delta_salt"
   ]
  },
  {
   "cell_type": "code",
   "execution_count": null,
   "id": "immune-barcelona",
   "metadata": {},
   "outputs": [],
   "source": [
    "salt_tend = (delta_salt / coords.dt[0:-1])"
   ]
  },
  {
   "cell_type": "code",
   "execution_count": null,
   "id": "regular-guarantee",
   "metadata": {},
   "outputs": [],
   "source": [
    "salt_tend[0,0].plot()"
   ]
  },
  {
   "cell_type": "code",
   "execution_count": null,
   "id": "early-hayes",
   "metadata": {},
   "outputs": [],
   "source": [
    "salt_tend.coords"
   ]
  },
  {
   "cell_type": "code",
   "execution_count": null,
   "id": "rural-subject",
   "metadata": {},
   "outputs": [],
   "source": [
    "totstend = salt_tend * dx_u_wg_interp * dy_u_wg * dz"
   ]
  },
  {
   "cell_type": "code",
   "execution_count": null,
   "id": "convertible-simple",
   "metadata": {},
   "outputs": [],
   "source": [
    "fix, (ax0,ax1) = plt.subplots(1,2, figsize=(10,3))\n",
    "(totttend[0,0]/1e6).plot(cmap='RdBu_r', ax=ax0)\n",
    "(totstend[0,0]/1e6).plot(cmap='RdBu_r', ax=ax1)\n",
    "plt.tight_layout();"
   ]
  },
  {
   "cell_type": "code",
   "execution_count": null,
   "id": "optional-story",
   "metadata": {},
   "outputs": [],
   "source": [
    "fix, (ax0,ax1) = plt.subplots(1,2, figsize=(10,3))\n",
    "(totttend.isel(time=slice(0,-1), level=0)/1e6).mean(dim='time').plot(cmap='RdBu_r', ax=ax0)\n",
    "(totstend.isel(time=slice(0,-1), level=0)/1e6).mean(dim='time').plot(cmap='RdBu_r', ax=ax1)\n",
    "plt.tight_layout();"
   ]
  },
  {
   "cell_type": "code",
   "execution_count": null,
   "id": "stone-myrtle",
   "metadata": {},
   "outputs": [],
   "source": [
    "((temp[-3,0, 1:, 1:] - temp[0,0, 1:, 1:])/1e6).plot(cmap='RdBu_r', vmax=0)#, vmin=-6e-5)"
   ]
  },
  {
   "cell_type": "code",
   "execution_count": null,
   "id": "marine-judgment",
   "metadata": {},
   "outputs": [],
   "source": [
    "(temp[-3, 0] - temp[0, 0]).plot()"
   ]
  },
  {
   "cell_type": "code",
   "execution_count": null,
   "id": "enclosed-bunny",
   "metadata": {},
   "outputs": [],
   "source": []
  }
 ],
 "metadata": {
  "kernelspec": {
   "display_name": "Python 3",
   "language": "python",
   "name": "python3"
  },
  "language_info": {
   "codemirror_mode": {
    "name": "ipython",
    "version": 3
   },
   "file_extension": ".py",
   "mimetype": "text/x-python",
   "name": "python",
   "nbconvert_exporter": "python",
   "pygments_lexer": "ipython3",
   "version": "3.8.6"
  }
 },
 "nbformat": 4,
 "nbformat_minor": 5
}
