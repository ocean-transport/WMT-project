{
 "cells": [
  {
   "cell_type": "markdown",
   "id": "premier-currency",
   "metadata": {},
   "source": [
    "# SIGMA \\begin{equation*} \\frac{\\partial V}{\\partial t} = \\Psi + \\Omega \\end{equation*}\n",
    "## **SODA 3.4.2**"
   ]
  },
  {
   "cell_type": "code",
   "execution_count": 1,
   "id": "outdoor-bracket",
   "metadata": {},
   "outputs": [],
   "source": [
    "from dask_gateway import GatewayCluster\n",
    "\n",
    "cluster = GatewayCluster()\n",
    "cluster.scale(20)\n",
    "#cluster.adapt(minimum=2, maximum=10)  # or cluster.scale(n) to a fixed size.\n",
    "client = cluster.get_client()"
   ]
  },
  {
   "cell_type": "raw",
   "id": "experimental-biology",
   "metadata": {},
   "source": [
    "from dask_gateway import Gateway\n",
    "g = Gateway()\n",
    "g.list_clusters()[0].name"
   ]
  },
  {
   "cell_type": "raw",
   "id": "mobile-comparison",
   "metadata": {},
   "source": [
    "client = g.connect('prod.8c11946e73e64a8390a1961882e3b99c')"
   ]
  },
  {
   "cell_type": "code",
   "execution_count": 3,
   "id": "varied-vertical",
   "metadata": {},
   "outputs": [
    {
     "data": {
      "text/html": [
       "<table style=\"border: 2px solid white;\">\n",
       "<tr>\n",
       "<td style=\"vertical-align: top; border: 0px solid white\">\n",
       "<h3 style=\"text-align: left;\">Client</h3>\n",
       "<ul style=\"text-align: left; list-style: none; margin: 0; padding: 0;\">\n",
       "  <li><b>Scheduler: </b>gateway://traefik-gcp-uscentral1b-prod-dask-gateway.prod:80/prod.7bdc6a8f773844f9a1a399ddd27399ba</li>\n",
       "  <li><b>Dashboard: </b><a href='/services/dask-gateway/clusters/prod.7bdc6a8f773844f9a1a399ddd27399ba/status' target='_blank'>/services/dask-gateway/clusters/prod.7bdc6a8f773844f9a1a399ddd27399ba/status</a></li>\n",
       "</ul>\n",
       "</td>\n",
       "<td style=\"vertical-align: top; border: 0px solid white\">\n",
       "<h3 style=\"text-align: left;\">Cluster</h3>\n",
       "<ul style=\"text-align: left; list-style:none; margin: 0; padding: 0;\">\n",
       "  <li><b>Workers: </b>1</li>\n",
       "  <li><b>Cores: </b>2</li>\n",
       "  <li><b>Memory: </b>8.59 GB</li>\n",
       "</ul>\n",
       "</td>\n",
       "</tr>\n",
       "</table>"
      ],
      "text/plain": [
       "<Client: 'tls://10.37.10.190:8786' processes=1 threads=2, memory=8.59 GB>"
      ]
     },
     "execution_count": 3,
     "metadata": {},
     "output_type": "execute_result"
    }
   ],
   "source": [
    "client"
   ]
  },
  {
   "cell_type": "raw",
   "id": "delayed-journalism",
   "metadata": {},
   "source": [
    "client.close()\n",
    "cluster.close()"
   ]
  },
  {
   "cell_type": "code",
   "execution_count": 1,
   "id": "dangerous-juice",
   "metadata": {},
   "outputs": [],
   "source": [
    "import xarray as xr\n",
    "from matplotlib import pyplot as plt\n",
    "import gcsfs\n",
    "import dask\n",
    "import dask.array as dsa\n",
    "import numpy as np\n",
    "import fsspec\n",
    "%matplotlib inline\n",
    "xr.set_options(display_style='text');"
   ]
  },
  {
   "cell_type": "code",
   "execution_count": 2,
   "id": "becoming-mission",
   "metadata": {},
   "outputs": [],
   "source": [
    "url_ocean = 'gs://pangeo-forge-us-central1/pangeo-forge/soda/soda3.4.2_5dy_ocean_or'\n",
    "fs = gcsfs.GCSFileSystem()\n",
    "ocean = xr.open_zarr(fs.get_mapper(url_ocean), consolidated=True)"
   ]
  },
  {
   "cell_type": "code",
   "execution_count": 10,
   "id": "perceived-package",
   "metadata": {},
   "outputs": [],
   "source": [
    "path = 'pangeo-tmp/stb2145/SODA/datasets/'\n",
    "\n",
    "transport = xr.open_zarr(gcsfs.GCSMap(path + 'transport_wg.zarr'))\n",
    "cells = xr.open_zarr(gcsfs.GCSMap(path + 'cells_wg.zarr'))\n",
    "surf = xr.open_zarr(gcsfs.GCSMap(path + 'surf_terms.zarr'))\n",
    "totend = xr.open_zarr(gcsfs.GCSMap(path + 'totend.zarr'))"
   ]
  },
  {
   "cell_type": "code",
   "execution_count": 11,
   "id": "heard-oakland",
   "metadata": {},
   "outputs": [
    {
     "data": {
      "text/html": [
       "<pre>&lt;xarray.Dataset&gt;\n",
       "Dimensions:         (nv: 2, st_edges_ocean: 51, st_ocean: 50, time: 985, xt_ocean: 381, xu_ocean: 381, yt_ocean: 169, yu_ocean: 169)\n",
       "Coordinates:\n",
       "  * nv              (nv) float64 1.0 2.0\n",
       "  * st_edges_ocean  (st_edges_ocean) float64 0.0 10.07 ... 5.29e+03 5.5e+03\n",
       "  * st_ocean        (st_ocean) float64 5.034 15.1 25.22 ... 5.185e+03 5.395e+03\n",
       "  * time            (time) object 1993-01-07 01:00:00 ... 2019-12-17 01:00:00\n",
       "  * xt_ocean        (xt_ocean) float64 -65.12 -64.88 -64.62 ... 29.62 29.88\n",
       "  * xu_ocean        (xu_ocean) float64 -65.0 -64.75 -64.5 ... 29.5 29.75 30.0\n",
       "  * yt_ocean        (yt_ocean) float64 -80.02 -79.92 -79.81 ... -62.25 -62.14\n",
       "  * yu_ocean        (yu_ocean) float64 -79.97 -79.86 -79.76 ... -62.2 -62.08\n",
       "Data variables:\n",
       "    average_DT      (time) timedelta64[ns] dask.array&lt;chunksize=(1,), meta=np.ndarray&gt;\n",
       "    average_T1      (time) datetime64[ns] dask.array&lt;chunksize=(1,), meta=np.ndarray&gt;\n",
       "    average_T2      (time) datetime64[ns] dask.array&lt;chunksize=(1,), meta=np.ndarray&gt;\n",
       "    time_bounds     (time, nv) int64 dask.array&lt;chunksize=(1, 2), meta=np.ndarray&gt;\n",
       "    tx_int          (time, yt_ocean, xu_ocean) float32 dask.array&lt;chunksize=(1, 169, 381), meta=np.ndarray&gt;\n",
       "    tx_trans        (time, st_ocean, yt_ocean, xu_ocean) float32 dask.array&lt;chunksize=(1, 50, 169, 381), meta=np.ndarray&gt;\n",
       "    ty_int          (time, yu_ocean, xt_ocean) float32 dask.array&lt;chunksize=(1, 169, 381), meta=np.ndarray&gt;\n",
       "    ty_trans        (time, st_ocean, yu_ocean, xt_ocean) float32 dask.array&lt;chunksize=(1, 50, 169, 381), meta=np.ndarray&gt;\n",
       "Attributes:\n",
       "    filename:   soda3.4.2_10dy_transport_or_1993_01_07.nc\n",
       "    grid_tile:  1\n",
       "    grid_type:  mosaic\n",
       "    title:      MOM5_SODA_3.4.2</pre>"
      ],
      "text/plain": [
       "<xarray.Dataset>\n",
       "Dimensions:         (nv: 2, st_edges_ocean: 51, st_ocean: 50, time: 985, xt_ocean: 381, xu_ocean: 381, yt_ocean: 169, yu_ocean: 169)\n",
       "Coordinates:\n",
       "  * nv              (nv) float64 1.0 2.0\n",
       "  * st_edges_ocean  (st_edges_ocean) float64 0.0 10.07 ... 5.29e+03 5.5e+03\n",
       "  * st_ocean        (st_ocean) float64 5.034 15.1 25.22 ... 5.185e+03 5.395e+03\n",
       "  * time            (time) object 1993-01-07 01:00:00 ... 2019-12-17 01:00:00\n",
       "  * xt_ocean        (xt_ocean) float64 -65.12 -64.88 -64.62 ... 29.62 29.88\n",
       "  * xu_ocean        (xu_ocean) float64 -65.0 -64.75 -64.5 ... 29.5 29.75 30.0\n",
       "  * yt_ocean        (yt_ocean) float64 -80.02 -79.92 -79.81 ... -62.25 -62.14\n",
       "  * yu_ocean        (yu_ocean) float64 -79.97 -79.86 -79.76 ... -62.2 -62.08\n",
       "Data variables:\n",
       "    average_DT      (time) timedelta64[ns] dask.array<chunksize=(1,), meta=np.ndarray>\n",
       "    average_T1      (time) datetime64[ns] dask.array<chunksize=(1,), meta=np.ndarray>\n",
       "    average_T2      (time) datetime64[ns] dask.array<chunksize=(1,), meta=np.ndarray>\n",
       "    time_bounds     (time, nv) int64 dask.array<chunksize=(1, 2), meta=np.ndarray>\n",
       "    tx_int          (time, yt_ocean, xu_ocean) float32 dask.array<chunksize=(1, 169, 381), meta=np.ndarray>\n",
       "    tx_trans        (time, st_ocean, yt_ocean, xu_ocean) float32 dask.array<chunksize=(1, 50, 169, 381), meta=np.ndarray>\n",
       "    ty_int          (time, yu_ocean, xt_ocean) float32 dask.array<chunksize=(1, 169, 381), meta=np.ndarray>\n",
       "    ty_trans        (time, st_ocean, yu_ocean, xt_ocean) float32 dask.array<chunksize=(1, 50, 169, 381), meta=np.ndarray>\n",
       "Attributes:\n",
       "    filename:   soda3.4.2_10dy_transport_or_1993_01_07.nc\n",
       "    grid_tile:  1\n",
       "    grid_type:  mosaic\n",
       "    title:      MOM5_SODA_3.4.2"
      ]
     },
     "execution_count": 11,
     "metadata": {},
     "output_type": "execute_result"
    }
   ],
   "source": [
    "transport"
   ]
  },
  {
   "cell_type": "markdown",
   "id": "formed-litigation",
   "metadata": {},
   "source": [
    "## <font color='Green'>Slice to WG region</font>"
   ]
  },
  {
   "cell_type": "code",
   "execution_count": 3,
   "id": "standing-judgment",
   "metadata": {},
   "outputs": [],
   "source": [
    "#WG boundaries (80˚S, 62˚S, 65˚W, 30˚E)\n",
    "lower_lat = 0 #-80.02101494\n",
    "upper_lat = 169 #-62.01972704\n",
    "left_lon =  859 #-65.12\n",
    "right_lon = 1240 #30.12\n",
    "\n",
    "lower_lat_u = 0 #-79.96821565\n",
    "upper_lat_u = 169 #-61.96096874 python is right exclusive so will have -62.0 in array\n",
    "left_lon_u = 859 #-65.0\n",
    "right_lon_u = 1240 #30.25 python is right exclusive so will have 30.0˚E"
   ]
  },
  {
   "cell_type": "code",
   "execution_count": 4,
   "id": "monthly-thickness",
   "metadata": {},
   "outputs": [],
   "source": [
    "#set the boundaries\n",
    "lat_range = dict(yt_ocean=slice(lower_lat, upper_lat), yu_ocean=slice(lower_lat_u, upper_lat_u))\n",
    "lon_range = dict(xt_ocean=slice(left_lon, right_lon), xu_ocean=slice(left_lon_u, right_lon_u))\n",
    "\n",
    "lat_range_no_u = dict(yt_ocean=slice(lower_lat, upper_lat))\n",
    "lon_range_no_u = dict(xt_ocean=slice(left_lon, right_lon))\n",
    "\n",
    "lat_range_u = dict(yu_ocean=slice(lower_lat_u, upper_lat_u))\n",
    "lon_range_u = dict(xu_ocean=slice(left_lon_u, right_lon_u))"
   ]
  },
  {
   "cell_type": "code",
   "execution_count": 7,
   "id": "indian-willow",
   "metadata": {},
   "outputs": [],
   "source": [
    "ds_wg = ocean.isel(**lat_range, **lon_range)"
   ]
  },
  {
   "cell_type": "code",
   "execution_count": 8,
   "id": "stuffed-photograph",
   "metadata": {},
   "outputs": [
    {
     "data": {
      "text/plain": [
       "<xgcm.Grid>\n",
       "X Axis (periodic, boundary=None):\n",
       "  * center   xt_ocean --> right\n",
       "  * right    xu_ocean --> center\n",
       "Y Axis (not periodic, boundary=None):\n",
       "  * center   yt_ocean --> right\n",
       "  * right    yu_ocean --> center\n",
       "T Axis (not periodic, boundary=None):\n",
       "  * center   time\n",
       "Z Axis (not periodic, boundary=None):\n",
       "  * center   st_edges_ocean --> right\n",
       "  * right    st_ocean --> center\n",
       "Zu Axis (not periodic, boundary=None):\n",
       "  * center   sw_edges_ocean --> right\n",
       "  * right    sw_ocean --> center"
      ]
     },
     "execution_count": 8,
     "metadata": {},
     "output_type": "execute_result"
    }
   ],
   "source": [
    "import xgcm\n",
    "\n",
    "grid_wg = xgcm.Grid(ds_wg, coords={'X': {'center': 'xt_ocean', 'right': 'xu_ocean'}, \n",
    "                                      'Y': {'center': 'yt_ocean', 'right': 'yu_ocean'},\n",
    "                                      'T': {'center': 'time'},\n",
    "                                      'Z': {'center': 'st_edges_ocean', 'right': 'st_ocean'},\n",
    "                                      'Zu': {'center': 'sw_edges_ocean', 'right': 'sw_ocean'}},\n",
    "                     periodic=['X'])\n",
    "grid_wg"
   ]
  },
  {
   "cell_type": "code",
   "execution_count": null,
   "id": "genuine-suspension",
   "metadata": {},
   "outputs": [],
   "source": [
    "#resample ocean ds to have same time stamp as transport ds\n",
    "ocean_resample = ds_wg.resample(time='10D').mean()"
   ]
  },
  {
   "cell_type": "code",
   "execution_count": null,
   "id": "acting-bandwidth",
   "metadata": {},
   "outputs": [],
   "source": []
  }
 ],
 "metadata": {
  "kernelspec": {
   "display_name": "Python 3",
   "language": "python",
   "name": "python3"
  },
  "language_info": {
   "codemirror_mode": {
    "name": "ipython",
    "version": 3
   },
   "file_extension": ".py",
   "mimetype": "text/x-python",
   "name": "python",
   "nbconvert_exporter": "python",
   "pygments_lexer": "ipython3",
   "version": "3.8.6"
  }
 },
 "nbformat": 4,
 "nbformat_minor": 5
}
