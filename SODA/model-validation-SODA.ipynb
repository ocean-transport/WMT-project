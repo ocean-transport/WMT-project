{
 "cells": [
  {
   "cell_type": "markdown",
   "id": "7ab52fb4-e00f-45d1-953d-fc73a2ca5fad",
   "metadata": {},
   "source": [
    "# Comparing SODA an WOA datasets\n",
    "for model validation"
   ]
  },
  {
   "cell_type": "markdown",
   "id": "2853bb61-0861-41d6-b4e9-7a2a190213a5",
   "metadata": {},
   "source": [
    "# <span style='color:Green'> SODA 3.4.2"
   ]
  },
  {
   "cell_type": "code",
   "execution_count": 13,
   "id": "ed840e22-92f4-410e-a300-37da1e3429d9",
   "metadata": {
    "tags": []
   },
   "outputs": [],
   "source": [
    "from dask_gateway import GatewayCluster\n",
    "\n",
    "cluster = GatewayCluster()\n",
    "cluster.scale(20)\n",
    "#cluster.adapt(minimum=2, maximum=10)  # or cluster.scale(n) to a fixed size.\n",
    "client = cluster.get_client()"
   ]
  },
  {
   "cell_type": "raw",
   "id": "85d2f65f-944f-4933-a056-c7d2f72a751b",
   "metadata": {},
   "source": [
    "from dask_gateway import Gateway\n",
    "g = Gateway()\n",
    "cluster = g.connect(g.list_clusters()[0].name)\n",
    "client = cluster.get_client()"
   ]
  },
  {
   "cell_type": "raw",
   "id": "f9077bcb-8a1d-4cc9-bc17-4937d10713e3",
   "metadata": {},
   "source": [
    "client.close()\n",
    "cluster.close()"
   ]
  },
  {
   "cell_type": "code",
   "execution_count": 14,
   "id": "51ddab5c-0bfd-4e55-9917-3df3e4cfb330",
   "metadata": {},
   "outputs": [
    {
     "data": {
      "text/html": [
       "<table style=\"border: 2px solid white;\">\n",
       "<tr>\n",
       "<td style=\"vertical-align: top; border: 0px solid white\">\n",
       "<h3 style=\"text-align: left;\">Client</h3>\n",
       "<ul style=\"text-align: left; list-style: none; margin: 0; padding: 0;\">\n",
       "  <li><b>Scheduler: </b>gateway://traefik-gcp-uscentral1b-staging-dask-gateway.staging:80/staging.456bb54e74d04c8987c3ffef60d83951</li>\n",
       "  <li><b>Dashboard: </b><a href='/services/dask-gateway/clusters/staging.456bb54e74d04c8987c3ffef60d83951/status' target='_blank'>/services/dask-gateway/clusters/staging.456bb54e74d04c8987c3ffef60d83951/status</a></li>\n",
       "</ul>\n",
       "</td>\n",
       "<td style=\"vertical-align: top; border: 0px solid white\">\n",
       "<h3 style=\"text-align: left;\">Cluster</h3>\n",
       "<ul style=\"text-align: left; list-style:none; margin: 0; padding: 0;\">\n",
       "  <li><b>Workers: </b>8</li>\n",
       "  <li><b>Cores: </b>16</li>\n",
       "  <li><b>Memory: </b>64.00 GiB</li>\n",
       "</ul>\n",
       "</td>\n",
       "</tr>\n",
       "</table>"
      ],
      "text/plain": [
       "<Client: 'tls://10.38.110.2:8786' processes=8 threads=16, memory=64.00 GiB>"
      ]
     },
     "execution_count": 14,
     "metadata": {},
     "output_type": "execute_result"
    }
   ],
   "source": [
    "client"
   ]
  },
  {
   "cell_type": "code",
   "execution_count": 34,
   "id": "86673d61-3aba-40db-a83c-d64967d1dde9",
   "metadata": {},
   "outputs": [],
   "source": [
    "import xarray as xr\n",
    "from matplotlib import pyplot as plt\n",
    "import gcsfs\n",
    "import dask\n",
    "import dask.array as dsa\n",
    "import numpy as np\n",
    "%matplotlib inline\n",
    "from matplotlib.colors import LogNorm\n",
    "from matplotlib.colors import SymLogNorm\n",
    "import gsw\n",
    "from xhistogram.xarray import histogram\n",
    "import fastjmd95 "
   ]
  },
  {
   "cell_type": "code",
   "execution_count": 2,
   "id": "699c6145-b427-40ed-b92b-b03f2f5ea1d6",
   "metadata": {},
   "outputs": [
    {
     "data": {
      "text/plain": [
       "<xarray.core.options.set_options at 0x7fc24ce96220>"
      ]
     },
     "execution_count": 2,
     "metadata": {},
     "output_type": "execute_result"
    }
   ],
   "source": [
    "xr.set_options(display_style='text')"
   ]
  },
  {
   "cell_type": "code",
   "execution_count": 5,
   "id": "f3db33a1-a714-43c8-b230-e37b0e743345",
   "metadata": {},
   "outputs": [],
   "source": [
    "woa_8110 = xr.open_dataarray('/home/jovyan/WMT-project/WOA/ts_hist_8110.nc')\n",
    "woa_0517 = xr.open_dataarray('/home/jovyan/WMT-project/WOA/ts_hist_0517.nc')"
   ]
  },
  {
   "cell_type": "code",
   "execution_count": 17,
   "id": "0e682a45-23da-4f51-a2a1-32e0803a8892",
   "metadata": {},
   "outputs": [],
   "source": [
    "url_ocean = 'gs://pangeo-forge-us-central1/pangeo-forge/soda/soda3.4.2_5dy_ocean_or'\n",
    "fs = gcsfs.GCSFileSystem()\n",
    "ocean = xr.open_zarr(fs.get_mapper(url_ocean), consolidated=True, decode_times=False)\n",
    "cells = xr.open_zarr(gcsfs.GCSMap('pangeo-tmp/stb2145/SODA/datasets/cells_wg.zarr'))\n",
    "#with fs.open('gs://pangeo-tmp/stb2145/SODA/datasets/topog.nc') as fp:\n",
    "#    topo = xr.open_dataset(fp)"
   ]
  },
  {
   "cell_type": "code",
   "execution_count": 18,
   "id": "0f241c62-0969-4922-b711-eb1d69b7e8ee",
   "metadata": {},
   "outputs": [],
   "source": [
    "#fix time dim (1898/1897 indices are 1980-01-01)\n",
    "test_time = xr.cftime_range('1993-01-04 13:00:00', freq='5D', periods=1970, calendar='julian')\n",
    "ocean_test = ocean.copy()\n",
    "ocean_test = ocean.assign_coords(coords={'time': test_time})\n",
    "#ocean_test = ocean.assign_attrs(ocean.time.attrs)\n",
    "ocean['time'] = ocean_test.time"
   ]
  },
  {
   "cell_type": "markdown",
   "id": "04d14094-e6b7-4d09-bf24-7f5c21cfc768",
   "metadata": {},
   "source": [
    "## <font color='Green'>Slice to WG region</font>"
   ]
  },
  {
   "cell_type": "code",
   "execution_count": 8,
   "id": "d0dae077-a511-471c-b05e-640931dc57d1",
   "metadata": {},
   "outputs": [],
   "source": [
    "#WG boundaries (80˚S, 62˚S, 65˚W, 30˚E)\n",
    "lower_lat = 0 #-80.02101494\n",
    "upper_lat = 169 #-62.01972704\n",
    "left_lon =  859 #-65.12\n",
    "right_lon = 1240 #30.12\n",
    "\n",
    "lower_lat_u = 0 #-79.96821565\n",
    "upper_lat_u = 169 #-61.96096874 python is right exclusive so will have -62.0 in array\n",
    "left_lon_u = 859 #-65.0\n",
    "right_lon_u = 1240 #30.25 python is right exclusive so will have 30.0˚E"
   ]
  },
  {
   "cell_type": "code",
   "execution_count": 9,
   "id": "49c92718-dea2-48cc-8548-8009e15dce3a",
   "metadata": {},
   "outputs": [],
   "source": [
    "#set the boundaries\n",
    "lat_range = dict(yt_ocean=slice(lower_lat, upper_lat), yu_ocean=slice(lower_lat_u, upper_lat_u))\n",
    "lon_range = dict(xt_ocean=slice(left_lon, right_lon), xu_ocean=slice(left_lon_u, right_lon_u))\n",
    "\n",
    "lat_range_no_u = dict(yt_ocean=slice(lower_lat, upper_lat))\n",
    "lon_range_no_u = dict(xt_ocean=slice(left_lon, right_lon))\n",
    "\n",
    "lat_range_u = dict(yu_ocean=slice(lower_lat_u, upper_lat_u))\n",
    "lon_range_u = dict(xu_ocean=slice(left_lon_u, right_lon_u))\n",
    "\n",
    "lat_range_top = dict(grid_y_T=slice(lower_lat, upper_lat))\n",
    "lon_range_top = dict(grid_x_T=slice(left_lon, right_lon))"
   ]
  },
  {
   "cell_type": "code",
   "execution_count": 10,
   "id": "369e9738-f24f-446f-8776-dd1c54ae2aa5",
   "metadata": {},
   "outputs": [],
   "source": [
    "ds_wg = ocean.isel(**lat_range, **lon_range)"
   ]
  },
  {
   "cell_type": "code",
   "execution_count": 58,
   "id": "08311a22-5319-4c4c-a01e-c0639c258184",
   "metadata": {},
   "outputs": [],
   "source": [
    "mask = ds_wg.time != ds_wg.time.sel(time='2018-12-24').values\n",
    "salt_mask = ds_wg.salt.where(mask)#.load()\n",
    "temp_mask = ds_wg.temp.where(mask)#.load()"
   ]
  },
  {
   "cell_type": "code",
   "execution_count": 22,
   "id": "f63b8e89-3144-49f3-97dd-f345acb8ab1b",
   "metadata": {},
   "outputs": [],
   "source": [
    "#salt_bins = np.linspace(31.5, 35.5, 100)\n",
    "#theta_bins = np.linspace(-2, 4, 100)\n",
    "salt_bins = np.linspace(31, 35, 100)\n",
    "theta_bins = np.linspace(-2.5, 8, 100)\n",
    "delta_salt = salt_bins[1] - salt_bins[0]\n",
    "delta_theta = theta_bins[1] - theta_bins[0]\n",
    "\n",
    "vol = cells.dx_interp * cells.dy_u * cells.dz"
   ]
  },
  {
   "cell_type": "code",
   "execution_count": 37,
   "id": "b1a3d14b-4c23-4b05-a3e0-8adff1f99e9d",
   "metadata": {},
   "outputs": [],
   "source": [
    "pref=2000\n",
    "sigma2 = fastjmd95.rho(salt, temp, pref)\n",
    "# define bins (ECCO & SOSE bin size 1000)\n",
    "delta_sigma = 0.01\n",
    "sigma_bins = np.arange(1032.0, 1039.0, delta_sigma)"
   ]
  },
  {
   "cell_type": "code",
   "execution_count": 43,
   "id": "0456a446-d8ca-44fb-8c5f-340cd05dd5b7",
   "metadata": {},
   "outputs": [
    {
     "data": {
      "text/html": [
       "<pre>&lt;xarray.DataArray &#x27;histogram_sigma2&#x27; (time: 1970, sigma2_bin: 699)&gt;\n",
       "dask.array&lt;getitem, shape=(1970, 699), dtype=float64, chunksize=(1, 699), chunktype=numpy.ndarray&gt;\n",
       "Coordinates:\n",
       "  * time        (time) object 1993-01-04 13:00:00 ... 2019-12-19 13:00:00\n",
       "  * sigma2_bin  (sigma2_bin) float64 1.032e+03 1.032e+03 ... 1.039e+03 1.039e+03</pre>"
      ],
      "text/plain": [
       "<xarray.DataArray 'histogram_sigma2' (time: 1970, sigma2_bin: 699)>\n",
       "dask.array<getitem, shape=(1970, 699), dtype=float64, chunksize=(1, 699), chunktype=numpy.ndarray>\n",
       "Coordinates:\n",
       "  * time        (time) object 1993-01-04 13:00:00 ... 2019-12-19 13:00:00\n",
       "  * sigma2_bin  (sigma2_bin) float64 1.032e+03 1.032e+03 ... 1.039e+03 1.039e+03"
      ]
     },
     "execution_count": 43,
     "metadata": {},
     "output_type": "execute_result"
    }
   ],
   "source": [
    "histogram(sigma2.rename('sigma2'), bins=[sigma_bins], \n",
    "          weights=vol.fillna(0.), dim=['xt_ocean', 'yt_ocean', 'st_ocean'])"
   ]
  },
  {
   "cell_type": "code",
   "execution_count": 57,
   "id": "c43191d4-6fbb-4531-a07d-c3cb0848f19f",
   "metadata": {},
   "outputs": [
    {
     "data": {
      "text/html": [
       "<pre>&lt;xarray.DataArray &#x27;temp&#x27; (time: 1970, st_ocean: 50, yt_ocean: 169, xt_ocean: 381)&gt;\n",
       "dask.array&lt;getitem, shape=(1970, 50, 169, 381), dtype=float32, chunksize=(1, 50, 169, 381), chunktype=numpy.ndarray&gt;\n",
       "Coordinates:\n",
       "  * st_ocean  (st_ocean) float64 5.034 15.1 25.22 ... 5.185e+03 5.395e+03\n",
       "  * time      (time) object 1993-01-04 13:00:00 ... 2019-12-19 13:00:00\n",
       "  * xt_ocean  (xt_ocean) float64 -65.12 -64.88 -64.62 ... 29.38 29.62 29.88\n",
       "  * yt_ocean  (yt_ocean) float64 -80.02 -79.92 -79.81 ... -62.37 -62.25 -62.14\n",
       "Attributes:\n",
       "    cell_methods:   time: mean\n",
       "    coordinates:    geolon_t geolat_t\n",
       "    long_name:      Potential temperature\n",
       "    standard_name:  sea_water_potential_temperature\n",
       "    time_avg_info:  average_T1,average_T2,average_DT\n",
       "    units:          degrees C\n",
       "    valid_range:    [-10.0, 500.0]</pre>"
      ],
      "text/plain": [
       "<xarray.DataArray 'temp' (time: 1970, st_ocean: 50, yt_ocean: 169, xt_ocean: 381)>\n",
       "dask.array<getitem, shape=(1970, 50, 169, 381), dtype=float32, chunksize=(1, 50, 169, 381), chunktype=numpy.ndarray>\n",
       "Coordinates:\n",
       "  * st_ocean  (st_ocean) float64 5.034 15.1 25.22 ... 5.185e+03 5.395e+03\n",
       "  * time      (time) object 1993-01-04 13:00:00 ... 2019-12-19 13:00:00\n",
       "  * xt_ocean  (xt_ocean) float64 -65.12 -64.88 -64.62 ... 29.38 29.62 29.88\n",
       "  * yt_ocean  (yt_ocean) float64 -80.02 -79.92 -79.81 ... -62.37 -62.25 -62.14\n",
       "Attributes:\n",
       "    cell_methods:   time: mean\n",
       "    coordinates:    geolon_t geolat_t\n",
       "    long_name:      Potential temperature\n",
       "    standard_name:  sea_water_potential_temperature\n",
       "    time_avg_info:  average_T1,average_T2,average_DT\n",
       "    units:          degrees C\n",
       "    valid_range:    [-10.0, 500.0]"
      ]
     },
     "execution_count": 57,
     "metadata": {},
     "output_type": "execute_result"
    }
   ],
   "source": [
    "temp.map_blocks()"
   ]
  },
  {
   "cell_type": "code",
   "execution_count": 60,
   "id": "9c24c24f-9cfb-4581-88ec-9e32d486ce52",
   "metadata": {},
   "outputs": [
    {
     "ename": "AttributeError",
     "evalue": "'list' object has no attribute 'map_blocks'",
     "output_type": "error",
     "traceback": [
      "\u001b[0;31m---------------------------------------------------------------------------\u001b[0m",
      "\u001b[0;31mAttributeError\u001b[0m                            Traceback (most recent call last)",
      "\u001b[0;32m<ipython-input-60-a3628581c60b>\u001b[0m in \u001b[0;36m<module>\u001b[0;34m\u001b[0m\n\u001b[0;32m----> 1\u001b[0;31m ts_hist = histogram(temp_mask, salt_mask, \n\u001b[0m\u001b[1;32m      2\u001b[0m                     \u001b[0mbins\u001b[0m\u001b[0;34m=\u001b[0m\u001b[0;34m[\u001b[0m\u001b[0mtheta_bins\u001b[0m\u001b[0;34m,\u001b[0m \u001b[0msalt_bins\u001b[0m\u001b[0;34m]\u001b[0m\u001b[0;34m,\u001b[0m\u001b[0;34m\u001b[0m\u001b[0;34m\u001b[0m\u001b[0m\n\u001b[1;32m      3\u001b[0m                     \u001b[0mweights\u001b[0m\u001b[0;34m=\u001b[0m\u001b[0mvol\u001b[0m\u001b[0;34m,\u001b[0m\u001b[0;34m\u001b[0m\u001b[0;34m\u001b[0m\u001b[0m\n\u001b[1;32m      4\u001b[0m                     dim=['xt_ocean', 'yt_ocean', 'st_ocean']).rename({'THETA_bin':'theta_bin',\n\u001b[1;32m      5\u001b[0m                                                               'SALT_bin':'salt_bin'}) / (delta_salt * delta_theta)\n",
      "\u001b[0;32m/srv/conda/envs/notebook/lib/python3.8/site-packages/xhistogram/xarray.py\u001b[0m in \u001b[0;36mhistogram\u001b[0;34m(bins, dim, weights, density, block_size, keep_coords, bin_dim_suffix, bin_edge_suffix, *args)\u001b[0m\n\u001b[1;32m    138\u001b[0m         \u001b[0maxis\u001b[0m \u001b[0;34m=\u001b[0m \u001b[0;32mNone\u001b[0m\u001b[0;34m\u001b[0m\u001b[0;34m\u001b[0m\u001b[0m\n\u001b[1;32m    139\u001b[0m \u001b[0;34m\u001b[0m\u001b[0m\n\u001b[0;32m--> 140\u001b[0;31m     h_data = _histogram(\n\u001b[0m\u001b[1;32m    141\u001b[0m         \u001b[0;34m*\u001b[0m\u001b[0margs_data\u001b[0m\u001b[0;34m,\u001b[0m\u001b[0;34m\u001b[0m\u001b[0;34m\u001b[0m\u001b[0m\n\u001b[1;32m    142\u001b[0m         \u001b[0mweights\u001b[0m\u001b[0;34m=\u001b[0m\u001b[0mweights_data\u001b[0m\u001b[0;34m,\u001b[0m\u001b[0;34m\u001b[0m\u001b[0;34m\u001b[0m\u001b[0m\n",
      "\u001b[0;32m/srv/conda/envs/notebook/lib/python3.8/site-packages/xhistogram/core.py\u001b[0m in \u001b[0;36mhistogram\u001b[0;34m(bins, axis, weights, density, block_size, *args)\u001b[0m\n\u001b[1;32m    264\u001b[0m     \u001b[0mbins\u001b[0m \u001b[0;34m=\u001b[0m \u001b[0m_ensure_bins_is_a_list_of_arrays\u001b[0m\u001b[0;34m(\u001b[0m\u001b[0mbins\u001b[0m\u001b[0;34m,\u001b[0m \u001b[0mn_inputs\u001b[0m\u001b[0;34m)\u001b[0m\u001b[0;34m\u001b[0m\u001b[0;34m\u001b[0m\u001b[0m\n\u001b[1;32m    265\u001b[0m \u001b[0;34m\u001b[0m\u001b[0m\n\u001b[0;32m--> 266\u001b[0;31m     bin_counts = _histogram_2d_vectorized(\n\u001b[0m\u001b[1;32m    267\u001b[0m         \u001b[0;34m*\u001b[0m\u001b[0mall_args_reshaped\u001b[0m\u001b[0;34m,\u001b[0m\u001b[0;34m\u001b[0m\u001b[0;34m\u001b[0m\u001b[0m\n\u001b[1;32m    268\u001b[0m         \u001b[0mbins\u001b[0m\u001b[0;34m=\u001b[0m\u001b[0mbins\u001b[0m\u001b[0;34m,\u001b[0m\u001b[0;34m\u001b[0m\u001b[0;34m\u001b[0m\u001b[0m\n",
      "\u001b[0;32m/srv/conda/envs/notebook/lib/python3.8/site-packages/xhistogram/core.py\u001b[0m in \u001b[0;36m_histogram_2d_vectorized\u001b[0;34m(bins, weights, density, right, block_size, *args)\u001b[0m\n\u001b[1;32m    129\u001b[0m     \u001b[0;31m# product of the bins gives the joint distribution\u001b[0m\u001b[0;34m\u001b[0m\u001b[0;34m\u001b[0m\u001b[0;34m\u001b[0m\u001b[0m\n\u001b[1;32m    130\u001b[0m     \u001b[0;32mif\u001b[0m \u001b[0mN_inputs\u001b[0m \u001b[0;34m>\u001b[0m \u001b[0;36m1\u001b[0m\u001b[0;34m:\u001b[0m\u001b[0;34m\u001b[0m\u001b[0;34m\u001b[0m\u001b[0m\n\u001b[0;32m--> 131\u001b[0;31m         \u001b[0mbin_indices\u001b[0m \u001b[0;34m=\u001b[0m \u001b[0mravel_multi_index\u001b[0m\u001b[0;34m(\u001b[0m\u001b[0meach_bin_indices\u001b[0m\u001b[0;34m,\u001b[0m \u001b[0mhist_shapes\u001b[0m\u001b[0;34m)\u001b[0m\u001b[0;34m\u001b[0m\u001b[0;34m\u001b[0m\u001b[0m\n\u001b[0m\u001b[1;32m    132\u001b[0m     \u001b[0;32melse\u001b[0m\u001b[0;34m:\u001b[0m\u001b[0;34m\u001b[0m\u001b[0;34m\u001b[0m\u001b[0m\n\u001b[1;32m    133\u001b[0m         \u001b[0mbin_indices\u001b[0m \u001b[0;34m=\u001b[0m \u001b[0meach_bin_indices\u001b[0m\u001b[0;34m[\u001b[0m\u001b[0;36m0\u001b[0m\u001b[0;34m]\u001b[0m\u001b[0;34m\u001b[0m\u001b[0;34m\u001b[0m\u001b[0m\n",
      "\u001b[0;32m/srv/conda/envs/notebook/lib/python3.8/site-packages/xhistogram/duck_array_ops.py\u001b[0m in \u001b[0;36mf\u001b[0;34m(*args, **kwargs)\u001b[0m\n\u001b[1;32m     22\u001b[0m             \u001b[0;32melse\u001b[0m\u001b[0;34m:\u001b[0m\u001b[0;34m\u001b[0m\u001b[0;34m\u001b[0m\u001b[0m\n\u001b[1;32m     23\u001b[0m                 \u001b[0mmodule\u001b[0m \u001b[0;34m=\u001b[0m \u001b[0meager_module\u001b[0m\u001b[0;34m\u001b[0m\u001b[0;34m\u001b[0m\u001b[0m\n\u001b[0;32m---> 24\u001b[0;31m             \u001b[0;32mreturn\u001b[0m \u001b[0mgetattr\u001b[0m\u001b[0;34m(\u001b[0m\u001b[0mmodule\u001b[0m\u001b[0;34m,\u001b[0m \u001b[0mname\u001b[0m\u001b[0;34m)\u001b[0m\u001b[0;34m(\u001b[0m\u001b[0;34m*\u001b[0m\u001b[0margs\u001b[0m\u001b[0;34m,\u001b[0m \u001b[0;34m**\u001b[0m\u001b[0mkwargs\u001b[0m\u001b[0;34m)\u001b[0m\u001b[0;34m\u001b[0m\u001b[0;34m\u001b[0m\u001b[0m\n\u001b[0m\u001b[1;32m     25\u001b[0m \u001b[0;34m\u001b[0m\u001b[0m\n\u001b[1;32m     26\u001b[0m     \u001b[0;32melse\u001b[0m\u001b[0;34m:\u001b[0m\u001b[0;34m\u001b[0m\u001b[0;34m\u001b[0m\u001b[0m\n",
      "\u001b[0;32m<__array_function__ internals>\u001b[0m in \u001b[0;36mravel_multi_index\u001b[0;34m(*args, **kwargs)\u001b[0m\n",
      "\u001b[0;32m/srv/conda/envs/notebook/lib/python3.8/site-packages/dask/array/core.py\u001b[0m in \u001b[0;36m__array_function__\u001b[0;34m(self, func, types, args, kwargs)\u001b[0m\n\u001b[1;32m   1523\u001b[0m         \u001b[0;32mif\u001b[0m \u001b[0mda_func\u001b[0m \u001b[0;32mis\u001b[0m \u001b[0mfunc\u001b[0m\u001b[0;34m:\u001b[0m\u001b[0;34m\u001b[0m\u001b[0;34m\u001b[0m\u001b[0m\n\u001b[1;32m   1524\u001b[0m             \u001b[0;32mreturn\u001b[0m \u001b[0mhandle_nonmatching_names\u001b[0m\u001b[0;34m(\u001b[0m\u001b[0mfunc\u001b[0m\u001b[0;34m,\u001b[0m \u001b[0margs\u001b[0m\u001b[0;34m,\u001b[0m \u001b[0mkwargs\u001b[0m\u001b[0;34m)\u001b[0m\u001b[0;34m\u001b[0m\u001b[0;34m\u001b[0m\u001b[0m\n\u001b[0;32m-> 1525\u001b[0;31m         \u001b[0;32mreturn\u001b[0m \u001b[0mda_func\u001b[0m\u001b[0;34m(\u001b[0m\u001b[0;34m*\u001b[0m\u001b[0margs\u001b[0m\u001b[0;34m,\u001b[0m \u001b[0;34m**\u001b[0m\u001b[0mkwargs\u001b[0m\u001b[0;34m)\u001b[0m\u001b[0;34m\u001b[0m\u001b[0;34m\u001b[0m\u001b[0m\n\u001b[0m\u001b[1;32m   1526\u001b[0m \u001b[0;34m\u001b[0m\u001b[0m\n\u001b[1;32m   1527\u001b[0m     \u001b[0;34m@\u001b[0m\u001b[0mproperty\u001b[0m\u001b[0;34m\u001b[0m\u001b[0;34m\u001b[0m\u001b[0m\n",
      "\u001b[0;32m/srv/conda/envs/notebook/lib/python3.8/site-packages/dask/array/routines.py\u001b[0m in \u001b[0;36mravel_multi_index\u001b[0;34m(multi_index, dims, mode, order)\u001b[0m\n\u001b[1;32m   1754\u001b[0m \u001b[0;34m@\u001b[0m\u001b[0mwraps\u001b[0m\u001b[0;34m(\u001b[0m\u001b[0mnp\u001b[0m\u001b[0;34m.\u001b[0m\u001b[0mravel_multi_index\u001b[0m\u001b[0;34m)\u001b[0m\u001b[0;34m\u001b[0m\u001b[0;34m\u001b[0m\u001b[0m\n\u001b[1;32m   1755\u001b[0m \u001b[0;32mdef\u001b[0m \u001b[0mravel_multi_index\u001b[0m\u001b[0;34m(\u001b[0m\u001b[0mmulti_index\u001b[0m\u001b[0;34m,\u001b[0m \u001b[0mdims\u001b[0m\u001b[0;34m,\u001b[0m \u001b[0mmode\u001b[0m\u001b[0;34m=\u001b[0m\u001b[0;34m\"raise\"\u001b[0m\u001b[0;34m,\u001b[0m \u001b[0morder\u001b[0m\u001b[0;34m=\u001b[0m\u001b[0;34m\"C\"\u001b[0m\u001b[0;34m)\u001b[0m\u001b[0;34m:\u001b[0m\u001b[0;34m\u001b[0m\u001b[0;34m\u001b[0m\u001b[0m\n\u001b[0;32m-> 1756\u001b[0;31m     return multi_index.map_blocks(\n\u001b[0m\u001b[1;32m   1757\u001b[0m         \u001b[0m_ravel_multi_index_kernel\u001b[0m\u001b[0;34m,\u001b[0m\u001b[0;34m\u001b[0m\u001b[0;34m\u001b[0m\u001b[0m\n\u001b[1;32m   1758\u001b[0m         \u001b[0mdtype\u001b[0m\u001b[0;34m=\u001b[0m\u001b[0mnp\u001b[0m\u001b[0;34m.\u001b[0m\u001b[0mintp\u001b[0m\u001b[0;34m,\u001b[0m\u001b[0;34m\u001b[0m\u001b[0;34m\u001b[0m\u001b[0m\n",
      "\u001b[0;31mAttributeError\u001b[0m: 'list' object has no attribute 'map_blocks'"
     ]
    }
   ],
   "source": [
    "ts_hist = histogram(temp_mask, salt_mask, \n",
    "                    bins=[theta_bins, salt_bins],\n",
    "                    weights=vol, \n",
    "                    dim=['xt_ocean', 'yt_ocean', 'st_ocean']).rename({'THETA_bin':'theta_bin',\n",
    "                                                              'SALT_bin':'salt_bin'}) / (delta_salt * delta_theta)\n",
    "ts_hist"
   ]
  },
  {
   "cell_type": "code",
   "execution_count": 15,
   "id": "9ac73e08-6021-4208-91ac-b1200f04cc69",
   "metadata": {},
   "outputs": [],
   "source": [
    "#taking hist mean over `time` takes average (notice the scales are diff in either plots)\n",
    "ts_hist_mean = ts_hist.mean(dim='time')"
   ]
  },
  {
   "cell_type": "markdown",
   "id": "b91a5a3b-e734-49f6-9225-f570bd060329",
   "metadata": {},
   "source": [
    "# <span style='background :yellow'> Difference between ECCO and WOA (1981-2010) </span>"
   ]
  },
  {
   "cell_type": "code",
   "execution_count": 5,
   "id": "6f855fe3-f930-4245-af71-b46dc3c3dc61",
   "metadata": {},
   "outputs": [
    {
     "name": "stderr",
     "output_type": "stream",
     "text": [
      "/srv/conda/envs/notebook/lib/python3.7/site-packages/matplotlib/colors.py:1110: RuntimeWarning: invalid value encountered in less_equal\n",
      "  mask |= resdat <= 0\n"
     ]
    },
    {
     "data": {
      "image/png": "[encoded data removed]",
      "text/plain": [
       "<Figure size 864x288 with 4 Axes>"
      ]
     },
     "metadata": {
      "needs_background": "light"
     },
     "output_type": "display_data"
    }
   ],
   "source": [
    "fig, (ax0,ax1) = plt.subplots(1,2, figsize=(12,4))\n",
    "\n",
    "ecco.where(ecco>0).plot(norm=LogNorm(), cmap='Blues', vmin=1e12, vmax=1e18,\n",
    "                        cbar_kwargs={'shrink':0.8, 'label': r'volume [$\\frac{m^3}{psu ˚C}$]'}, ax=ax0)\n",
    "ax0.set_title('ECCO')\n",
    "\n",
    "woa_8110.where(woa_8110>0).plot(norm=LogNorm(), cmap='Blues', vmin=1e12, vmax=1e18,\n",
    "                        cbar_kwargs={'shrink':0.8, 'label': r'volume [$\\frac{m^3}{psu ˚C}$]'}, ax=ax1)\n",
    "ax1.set_title('WOA (1981-2010)')\n",
    "\n",
    "plt.tight_layout();"
   ]
  }
 ],
 "metadata": {
  "kernelspec": {
   "display_name": "Python 3",
   "language": "python",
   "name": "python3"
  },
  "language_info": {
   "codemirror_mode": {
    "name": "ipython",
    "version": 3
   },
   "file_extension": ".py",
   "mimetype": "text/x-python",
   "name": "python",
   "nbconvert_exporter": "python",
   "pygments_lexer": "ipython3",
   "version": "3.8.8"
  }
 },
 "nbformat": 4,
 "nbformat_minor": 5
}
