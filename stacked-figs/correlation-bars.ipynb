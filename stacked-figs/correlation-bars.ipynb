{
 "cells": [
  {
   "cell_type": "markdown",
   "id": "5a87b9f7-2dde-4a41-887c-aff3be6bfb49",
   "metadata": {},
   "source": [
    "# Correlation bars of the 3 models WMT budget terms"
   ]
  },
  {
   "cell_type": "code",
   "execution_count": 1,
   "id": "a4664244-8171-4f5e-8888-87ff83e6699b",
   "metadata": {},
   "outputs": [],
   "source": [
    "import xarray as xr\n",
    "import pandas as pd\n",
    "from matplotlib import pyplot as plt\n",
    "import gcsfs\n",
    "import numpy as np\n",
    "import json"
   ]
  },
  {
   "cell_type": "code",
   "execution_count": 2,
   "id": "5299f6ef-aaff-4ae0-8484-1928315268c2",
   "metadata": {},
   "outputs": [],
   "source": [
    "with open('/home/jovyan/pangeo-181919-f141378dc975.json') as token_file:\n",
    "    token = json.load(token_file)\n",
    "gcfs_w_token = gcsfs.GCSFileSystem(token=token)"
   ]
  },
  {
   "cell_type": "code",
   "execution_count": 3,
   "id": "c0b262f7-8569-4d95-bfd4-2d81f026af63",
   "metadata": {},
   "outputs": [],
   "source": [
    "e = pd.read_csv('/home/jovyan/WMT-project/ECCO-budgets/ecco_budgt_ind', index_col='time')\n",
    "ss = pd.read_csv('/home/jovyan/WMT-project/SOSE-budgets/sose_budgt_ind', index_col='time')\n",
    "sd = pd.read_csv('/home/jovyan/WMT-project/SODA/soda_budgt_ind', index_col='time')"
   ]
  },
  {
   "cell_type": "code",
   "execution_count": 4,
   "id": "282560ca-f8f4-4170-9b98-d36f3707dd86",
   "metadata": {},
   "outputs": [
    {
     "data": {
      "text/html": [
       "<div>\n",
       "<style scoped>\n",
       "    .dataframe tbody tr th:only-of-type {\n",
       "        vertical-align: middle;\n",
       "    }\n",
       "\n",
       "    .dataframe tbody tr th {\n",
       "        vertical-align: top;\n",
       "    }\n",
       "\n",
       "    .dataframe thead th {\n",
       "        text-align: right;\n",
       "    }\n",
       "</style>\n",
       "<table border=\"1\" class=\"dataframe\">\n",
       "  <thead>\n",
       "    <tr style=\"text-align: right;\">\n",
       "      <th></th>\n",
       "      <th>dvdt</th>\n",
       "      <th>psi</th>\n",
       "      <th>omega*</th>\n",
       "      <th>ecco</th>\n",
       "      <th>enso</th>\n",
       "      <th>fw_flx</th>\n",
       "      <th>heat_flx</th>\n",
       "      <th>sam</th>\n",
       "      <th>windstress_curl</th>\n",
       "    </tr>\n",
       "    <tr>\n",
       "      <th>time</th>\n",
       "      <th></th>\n",
       "      <th></th>\n",
       "      <th></th>\n",
       "      <th></th>\n",
       "      <th></th>\n",
       "      <th></th>\n",
       "      <th></th>\n",
       "      <th></th>\n",
       "      <th></th>\n",
       "    </tr>\n",
       "  </thead>\n",
       "  <tbody>\n",
       "    <tr>\n",
       "      <th>1992-01-15</th>\n",
       "      <td>NaN</td>\n",
       "      <td>NaN</td>\n",
       "      <td>NaN</td>\n",
       "      <td>-1.170194</td>\n",
       "      <td>1.883747</td>\n",
       "      <td>-1.300427</td>\n",
       "      <td>0.001594</td>\n",
       "      <td>-0.122525</td>\n",
       "      <td>-0.219413</td>\n",
       "    </tr>\n",
       "    <tr>\n",
       "      <th>1992-02-13</th>\n",
       "      <td>NaN</td>\n",
       "      <td>NaN</td>\n",
       "      <td>NaN</td>\n",
       "      <td>-0.488146</td>\n",
       "      <td>1.786449</td>\n",
       "      <td>-0.869125</td>\n",
       "      <td>-0.867469</td>\n",
       "      <td>-0.885817</td>\n",
       "      <td>1.102549</td>\n",
       "    </tr>\n",
       "    <tr>\n",
       "      <th>1992-03-15</th>\n",
       "      <td>NaN</td>\n",
       "      <td>NaN</td>\n",
       "      <td>NaN</td>\n",
       "      <td>0.556974</td>\n",
       "      <td>1.614739</td>\n",
       "      <td>-2.230632</td>\n",
       "      <td>-1.918516</td>\n",
       "      <td>-0.616002</td>\n",
       "      <td>-0.435378</td>\n",
       "    </tr>\n",
       "    <tr>\n",
       "      <th>1992-04-14</th>\n",
       "      <td>NaN</td>\n",
       "      <td>NaN</td>\n",
       "      <td>NaN</td>\n",
       "      <td>1.153485</td>\n",
       "      <td>1.408937</td>\n",
       "      <td>-0.181473</td>\n",
       "      <td>0.300216</td>\n",
       "      <td>0.213964</td>\n",
       "      <td>0.524290</td>\n",
       "    </tr>\n",
       "    <tr>\n",
       "      <th>1992-05-15</th>\n",
       "      <td>NaN</td>\n",
       "      <td>NaN</td>\n",
       "      <td>NaN</td>\n",
       "      <td>0.758463</td>\n",
       "      <td>1.166296</td>\n",
       "      <td>-0.546701</td>\n",
       "      <td>0.713055</td>\n",
       "      <td>-1.179878</td>\n",
       "      <td>1.575049</td>\n",
       "    </tr>\n",
       "    <tr>\n",
       "      <th>...</th>\n",
       "      <td>...</td>\n",
       "      <td>...</td>\n",
       "      <td>...</td>\n",
       "      <td>...</td>\n",
       "      <td>...</td>\n",
       "      <td>...</td>\n",
       "      <td>...</td>\n",
       "      <td>...</td>\n",
       "      <td>...</td>\n",
       "    </tr>\n",
       "    <tr>\n",
       "      <th>2015-08-15</th>\n",
       "      <td>1.395031</td>\n",
       "      <td>0.980479</td>\n",
       "      <td>-0.241854</td>\n",
       "      <td>0.559372</td>\n",
       "      <td>2.045500</td>\n",
       "      <td>0.225318</td>\n",
       "      <td>-0.579957</td>\n",
       "      <td>1.083196</td>\n",
       "      <td>-1.076998</td>\n",
       "    </tr>\n",
       "    <tr>\n",
       "      <th>2015-09-14</th>\n",
       "      <td>2.642567</td>\n",
       "      <td>1.705306</td>\n",
       "      <td>0.198210</td>\n",
       "      <td>0.380170</td>\n",
       "      <td>2.336527</td>\n",
       "      <td>-0.677235</td>\n",
       "      <td>-0.413434</td>\n",
       "      <td>1.039752</td>\n",
       "      <td>-0.643988</td>\n",
       "    </tr>\n",
       "    <tr>\n",
       "      <th>2015-10-15</th>\n",
       "      <td>2.116256</td>\n",
       "      <td>1.567715</td>\n",
       "      <td>0.032802</td>\n",
       "      <td>0.957576</td>\n",
       "      <td>2.599419</td>\n",
       "      <td>0.302553</td>\n",
       "      <td>-0.738937</td>\n",
       "      <td>-0.384399</td>\n",
       "      <td>1.538923</td>\n",
       "    </tr>\n",
       "    <tr>\n",
       "      <th>2015-11-14</th>\n",
       "      <td>2.101443</td>\n",
       "      <td>1.530638</td>\n",
       "      <td>0.010844</td>\n",
       "      <td>0.743491</td>\n",
       "      <td>2.746488</td>\n",
       "      <td>0.399466</td>\n",
       "      <td>-0.144605</td>\n",
       "      <td>0.833789</td>\n",
       "      <td>-0.529735</td>\n",
       "    </tr>\n",
       "    <tr>\n",
       "      <th>2015-12-14</th>\n",
       "      <td>NaN</td>\n",
       "      <td>NaN</td>\n",
       "      <td>NaN</td>\n",
       "      <td>-2.925005</td>\n",
       "      <td>2.794896</td>\n",
       "      <td>1.555206</td>\n",
       "      <td>5.150780</td>\n",
       "      <td>0.318706</td>\n",
       "      <td>0.287670</td>\n",
       "    </tr>\n",
       "  </tbody>\n",
       "</table>\n",
       "<p>288 rows × 9 columns</p>\n",
       "</div>"
      ],
      "text/plain": [
       "                dvdt       psi    omega*      ecco      enso    fw_flx  \\\n",
       "time                                                                     \n",
       "1992-01-15       NaN       NaN       NaN -1.170194  1.883747 -1.300427   \n",
       "1992-02-13       NaN       NaN       NaN -0.488146  1.786449 -0.869125   \n",
       "1992-03-15       NaN       NaN       NaN  0.556974  1.614739 -2.230632   \n",
       "1992-04-14       NaN       NaN       NaN  1.153485  1.408937 -0.181473   \n",
       "1992-05-15       NaN       NaN       NaN  0.758463  1.166296 -0.546701   \n",
       "...              ...       ...       ...       ...       ...       ...   \n",
       "2015-08-15  1.395031  0.980479 -0.241854  0.559372  2.045500  0.225318   \n",
       "2015-09-14  2.642567  1.705306  0.198210  0.380170  2.336527 -0.677235   \n",
       "2015-10-15  2.116256  1.567715  0.032802  0.957576  2.599419  0.302553   \n",
       "2015-11-14  2.101443  1.530638  0.010844  0.743491  2.746488  0.399466   \n",
       "2015-12-14       NaN       NaN       NaN -2.925005  2.794896  1.555206   \n",
       "\n",
       "            heat_flx       sam  windstress_curl  \n",
       "time                                             \n",
       "1992-01-15  0.001594 -0.122525        -0.219413  \n",
       "1992-02-13 -0.867469 -0.885817         1.102549  \n",
       "1992-03-15 -1.918516 -0.616002        -0.435378  \n",
       "1992-04-14  0.300216  0.213964         0.524290  \n",
       "1992-05-15  0.713055 -1.179878         1.575049  \n",
       "...              ...       ...              ...  \n",
       "2015-08-15 -0.579957  1.083196        -1.076998  \n",
       "2015-09-14 -0.413434  1.039752        -0.643988  \n",
       "2015-10-15 -0.738937 -0.384399         1.538923  \n",
       "2015-11-14 -0.144605  0.833789        -0.529735  \n",
       "2015-12-14  5.150780  0.318706         0.287670  \n",
       "\n",
       "[288 rows x 9 columns]"
      ]
     },
     "execution_count": 4,
     "metadata": {},
     "output_type": "execute_result"
    }
   ],
   "source": [
    "e"
   ]
  },
  {
   "cell_type": "code",
   "execution_count": 5,
   "id": "eeb97f23-d3f8-4618-b9e4-6698df343209",
   "metadata": {},
   "outputs": [],
   "source": [
    "ecco = e.corr()\n",
    "sose = ss.corr()\n",
    "soda = sd.corr()"
   ]
  },
  {
   "cell_type": "code",
   "execution_count": 6,
   "id": "abc52b29-3202-4ace-83f4-db43d78a3106",
   "metadata": {},
   "outputs": [
    {
     "data": {
      "text/html": [
       "<div>\n",
       "<style scoped>\n",
       "    .dataframe tbody tr th:only-of-type {\n",
       "        vertical-align: middle;\n",
       "    }\n",
       "\n",
       "    .dataframe tbody tr th {\n",
       "        vertical-align: top;\n",
       "    }\n",
       "\n",
       "    .dataframe thead th {\n",
       "        text-align: right;\n",
       "    }\n",
       "</style>\n",
       "<table border=\"1\" class=\"dataframe\">\n",
       "  <thead>\n",
       "    <tr style=\"text-align: right;\">\n",
       "      <th></th>\n",
       "      <th>dvdt</th>\n",
       "      <th>psi</th>\n",
       "      <th>omega</th>\n",
       "    </tr>\n",
       "  </thead>\n",
       "  <tbody>\n",
       "    <tr>\n",
       "      <th>dvdt</th>\n",
       "      <td>1.000000</td>\n",
       "      <td>-0.118190</td>\n",
       "      <td>0.972394</td>\n",
       "    </tr>\n",
       "    <tr>\n",
       "      <th>psi</th>\n",
       "      <td>-0.118190</td>\n",
       "      <td>1.000000</td>\n",
       "      <td>-0.346638</td>\n",
       "    </tr>\n",
       "    <tr>\n",
       "      <th>omega</th>\n",
       "      <td>0.972394</td>\n",
       "      <td>-0.346638</td>\n",
       "      <td>1.000000</td>\n",
       "    </tr>\n",
       "    <tr>\n",
       "      <th>soda</th>\n",
       "      <td>-0.185393</td>\n",
       "      <td>0.448088</td>\n",
       "      <td>-0.280423</td>\n",
       "    </tr>\n",
       "    <tr>\n",
       "      <th>enso</th>\n",
       "      <td>-0.175301</td>\n",
       "      <td>0.277924</td>\n",
       "      <td>-0.230903</td>\n",
       "    </tr>\n",
       "    <tr>\n",
       "      <th>sam</th>\n",
       "      <td>0.051816</td>\n",
       "      <td>0.059293</td>\n",
       "      <td>0.035012</td>\n",
       "    </tr>\n",
       "  </tbody>\n",
       "</table>\n",
       "</div>"
      ],
      "text/plain": [
       "           dvdt       psi     omega\n",
       "dvdt   1.000000 -0.118190  0.972394\n",
       "psi   -0.118190  1.000000 -0.346638\n",
       "omega  0.972394 -0.346638  1.000000\n",
       "soda  -0.185393  0.448088 -0.280423\n",
       "enso  -0.175301  0.277924 -0.230903\n",
       "sam    0.051816  0.059293  0.035012"
      ]
     },
     "execution_count": 6,
     "metadata": {},
     "output_type": "execute_result"
    }
   ],
   "source": [
    "soda.iloc[:, :3]"
   ]
  },
  {
   "cell_type": "code",
   "execution_count": 7,
   "id": "0fc574d1-c307-49b4-b9cc-3810b55e320c",
   "metadata": {},
   "outputs": [
    {
     "data": {
      "text/plain": [
       "-0.346638197010356"
      ]
     },
     "execution_count": 7,
     "metadata": {},
     "output_type": "execute_result"
    }
   ],
   "source": [
    "soda.iloc[2, 1]"
   ]
  },
  {
   "cell_type": "code",
   "execution_count": 8,
   "id": "66280312-526b-45bd-9fa8-fba64ee65844",
   "metadata": {},
   "outputs": [],
   "source": [
    "ecco_dvdt_psi = ecco.iloc[0, 1]\n",
    "ecco_dvdt_omega = ecco.iloc[0, 2]\n",
    "ecco_psi_omega = ecco.iloc[2, 1]\n",
    "\n",
    "sose_dvdt_psi = sose.iloc[0, 1]\n",
    "sose_dvdt_omega = sose.iloc[0, 2]\n",
    "sose_psi_omega = sose.iloc[2, 1]\n",
    "\n",
    "soda_dvdt_psi = soda.iloc[0, 1]\n",
    "soda_dvdt_omega = soda.iloc[0, 2]\n",
    "soda_psi_omega = soda.iloc[2, 1]"
   ]
  },
  {
   "cell_type": "code",
   "execution_count": 9,
   "id": "bb1dd011-2817-4816-bc80-4f8d87cf98be",
   "metadata": {},
   "outputs": [
    {
     "data": {
      "image/png": "[encoded data removed]",
      "text/plain": [
       "<Figure size 864x216 with 1 Axes>"
      ]
     },
     "metadata": {
      "needs_background": "light"
     },
     "output_type": "display_data"
    }
   ],
   "source": [
    "fig, ax = plt.subplots(1,1, figsize=(12,3))\n",
    "\n",
    "ax.bar(x=r'ECCO($\\frac{\\partial V}{\\partial t}/\\Psi$)', height = ecco_dvdt_psi, color='green')\n",
    "ax.bar(x=r'ECCO($\\frac{\\partial V}{\\partial t}/\\Omega^*$)', height = ecco_dvdt_omega, color='green')\n",
    "ax.bar(x=r'ECCO($\\Psi/\\Omega^*$)', height= ecco_psi_omega, color='green')\n",
    "\n",
    "ax.bar(x=r'SOSE($\\frac{\\partial V}{\\partial t}/\\Psi$)', height = sose_dvdt_psi, color='red')\n",
    "ax.bar(x=r'SOSE($\\frac{\\partial V}{\\partial t}/\\Omega^*$)', height = sose_dvdt_omega, color='red')\n",
    "ax.bar(x=r'SOSE($\\Psi/\\Omega^*$)', height= sose_psi_omega, color='red')\n",
    "\n",
    "ax.bar(x=r'SODA($\\frac{\\partial V}{\\partial t}/\\Psi$)', height = soda_dvdt_psi, color='orange')\n",
    "ax.bar(x=r'SODA($\\frac{\\partial V}{\\partial t}/\\Omega^*$)', height = soda_dvdt_omega, color='orange')\n",
    "ax.bar(x=r'SODA($\\Psi/\\Omega^*$)', height= soda_psi_omega, color='orange')\n",
    "\n",
    "ax.axhline(y=0, color='k')\n",
    "ax.set_title(r'Budget term correlation values from all three models', fontsize=12, pad=15)\n",
    "ax.set_ylabel('')\n",
    "ax.grid()\n",
    "ax.set_ylim(-1,1)\n",
    "plt.tight_layout();"
   ]
  },
  {
   "cell_type": "code",
   "execution_count": 34,
   "id": "02cfd834-95dd-4309-8725-0d9dab1d69f4",
   "metadata": {},
   "outputs": [
    {
     "data": {
      "text/plain": [
       "array([0.125, 1.125, 2.125])"
      ]
     },
     "execution_count": 34,
     "metadata": {},
     "output_type": "execute_result"
    }
   ],
   "source": [
    "X + 0.25 / 2"
   ]
  },
  {
   "cell_type": "code",
   "execution_count": 48,
   "id": "11c82df2-fd10-4bc1-9b23-ef74f455bf57",
   "metadata": {},
   "outputs": [],
   "source": []
  },
  {
   "cell_type": "code",
   "execution_count": 61,
   "id": "0352735c-a027-4bfd-a31a-66832ba04510",
   "metadata": {},
   "outputs": [
    {
     "data": {
      "image/png": "[encoded data removed]",
      "text/plain": [
       "<Figure size 864x216 with 1 Axes>"
      ]
     },
     "metadata": {
      "needs_background": "light"
     },
     "output_type": "display_data"
    }
   ],
   "source": [
    "fig, ax = plt.subplots(1,1, figsize=(12,3))\n",
    "\n",
    "data = [[ecco_dvdt_psi, ecco_dvdt_omega, ecco_psi_omega],\n",
    "        [sose_dvdt_psi, sose_dvdt_omega, sose_psi_omega],\n",
    "        [soda_dvdt_psi, soda_dvdt_omega, soda_psi_omega]]\n",
    "X = np.arange(3)\n",
    "\n",
    "ax.bar(X + 0.00, data[0], color = 'g', width = 0.25, label='ECCO')\n",
    "ax.bar(X + 0.25, data[1], color = 'r', width = 0.25, label='SOSE')\n",
    "ax.bar(X + 0.50, data[2], color = 'orange', width = 0.25, label='SODA')\n",
    "\n",
    "ax.axhline(y=0, color='k')\n",
    "ticks = [r\"$\\frac{\\partial V}{\\partial t}/\\Psi$\", \n",
    "         r\"$\\frac{\\partial V}{\\partial t}/\\Omega^*$\", \n",
    "         r\"$\\Psi/\\Omega^*$\"]\n",
    "ax.set_xticks(X + 0.25)\n",
    "ax.set_xticklabels(ticks, fontsize=12)\n",
    "ax.set_title(\"Correlation values from all three models' budget terms\", fontsize=14, pad=25)\n",
    "ax.set_ylabel('')\n",
    "ax.grid()\n",
    "ax.set_ylim(-1,1)\n",
    "plt.tight_layout()\n",
    "plt.legend(loc='best');"
   ]
  },
  {
   "cell_type": "code",
   "execution_count": null,
   "id": "f3253773-7fe5-452d-8c78-176011ffb5eb",
   "metadata": {},
   "outputs": [],
   "source": []
  }
 ],
 "metadata": {
  "kernelspec": {
   "display_name": "Python 3 (ipykernel)",
   "language": "python",
   "name": "python3"
  },
  "language_info": {
   "codemirror_mode": {
    "name": "ipython",
    "version": 3
   },
   "file_extension": ".py",
   "mimetype": "text/x-python",
   "name": "python",
   "nbconvert_exporter": "python",
   "pygments_lexer": "ipython3",
   "version": "3.9.7"
  }
 },
 "nbformat": 4,
 "nbformat_minor": 5
}
