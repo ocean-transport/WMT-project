{
 "cells": [
  {
   "cell_type": "markdown",
   "metadata": {},
   "source": [
    "# SODA Data used for Temperature Budget in WG Region"
   ]
  },
  {
   "cell_type": "code",
   "execution_count": 1,
   "metadata": {},
   "outputs": [],
   "source": [
    "import xarray as xr\n",
    "from matplotlib import pyplot as plt\n",
    "import gcsfs\n",
    "import dask\n",
    "import dask.array as dsa\n",
    "import numpy as np\n",
    "%matplotlib inline"
   ]
  },
  {
   "cell_type": "code",
   "execution_count": 2,
   "metadata": {},
   "outputs": [
    {
     "name": "stderr",
     "output_type": "stream",
     "text": [
      "/home/sbailey/.conda/envs/pangeo/lib/python3.6/site-packages/distributed/bokeh/core.py:57: UserWarning: \n",
      "Port 8787 is already in use. \n",
      "Perhaps you already have a cluster running?\n",
      "Hosting the diagnostics dashboard on a random port instead.\n",
      "  warnings.warn('\\n' + msg)\n"
     ]
    },
    {
     "data": {
      "text/html": [
       "<table style=\"border: 2px solid white;\">\n",
       "<tr>\n",
       "<td style=\"vertical-align: top; border: 0px solid white\">\n",
       "<h3>Client</h3>\n",
       "<ul>\n",
       "  <li><b>Scheduler: </b>tcp://129.236.21.48:35888\n",
       "  <li><b>Dashboard: </b><a href='http://129.236.21.48:35495/status' target='_blank'>http://129.236.21.48:35495/status</a>\n",
       "</ul>\n",
       "</td>\n",
       "<td style=\"vertical-align: top; border: 0px solid white\">\n",
       "<h3>Cluster</h3>\n",
       "<ul>\n",
       "  <li><b>Workers: </b>4</li>\n",
       "  <li><b>Cores: </b>32</li>\n",
       "  <li><b>Memory: </b>480.84 GB</li>\n",
       "</ul>\n",
       "</td>\n",
       "</tr>\n",
       "</table>"
      ],
      "text/plain": [
       "<Client: scheduler='tcp://129.236.21.48:35888' processes=4 cores=32>"
      ]
     },
     "execution_count": 2,
     "metadata": {},
     "output_type": "execute_result"
    }
   ],
   "source": [
    "from dask.distributed import Client, LocalCluster, progress\n",
    "cluster = LocalCluster(n_workers=4, threads_per_worker=8, ip='*')\n",
    "client = Client(cluster)\n",
    "client"
   ]
  },
  {
   "cell_type": "code",
   "execution_count": 4,
   "metadata": {},
   "outputs": [
    {
     "data": {
      "text/plain": [
       "<xarray.Dataset>\n",
       "Dimensions:  (lat: 330, lev: 50, lon: 720, time: 2628)\n",
       "Coordinates:\n",
       "  * time     (time) datetime64[ns] 1980-01-03 1980-01-08 ... 2015-12-20\n",
       "  * lev      (lev) float64 5.034 15.1 25.22 ... 4.975e+03 5.185e+03 5.395e+03\n",
       "  * lat      (lat) float64 -74.75 -74.25 -73.75 -73.25 ... 88.75 89.25 89.75\n",
       "  * lon      (lon) float64 0.25 0.75 1.25 1.75 2.25 ... 358.2 358.8 359.2 359.8\n",
       "Data variables:\n",
       "    temp     (time, lev, lat, lon) float32 ...\n",
       "    salt     (time, lev, lat, lon) float32 ...\n",
       "    wt       (time, lev, lat, lon) float32 ...\n",
       "    ssh      (time, lat, lon) float32 ...\n",
       "    mlt      (time, lat, lon) float32 ...\n",
       "    mlp      (time, lat, lon) float32 ...\n",
       "    mls      (time, lat, lon) float32 ...\n",
       "    anompb   (time, lat, lon) float32 ...\n",
       "    nh       (time, lat, lon) float32 ...\n",
       "    sft      (time, lat, lon) float32 ...\n",
       "    prho     (time, lev, lat, lon) float32 ...\n",
       "Attributes:\n",
       "    title:          SODA v3.3.1 5 day means t-grid\n",
       "    Conventions:    COARDS\\nGrADS\n",
       "    dataType:       Grid\n",
       "    documentation:  http://apdrc.soest.hawaii.edu/datadoc/soda_3.3.1.php\n",
       "    history:        Wed May 08 13:25:46 HST 2019 : imported by GrADS Data Ser..."
      ]
     },
     "execution_count": 4,
     "metadata": {},
     "output_type": "execute_result"
    }
   ],
   "source": [
    "url = \"http://apdrc.soest.hawaii.edu:80/dods/public_data/SODA/soda_3.3.1/5day_t\"\n",
    "ds = xr.open_dataset(url)\n",
    "ds"
   ]
  },
  {
   "cell_type": "markdown",
   "metadata": {},
   "source": [
    "## Heat component of buoyancy budget integrated over Weddell Sea Region\n",
    "Here, $\\mathcal{V}$, represents the closed system of the Weddell Sea.\n",
    "\n",
    "$$\n",
    "\\int_{R}{\\frac{\\partial{\\theta}}{\\partial{t}}}d\\mathcal{V} = -\\int_{NB}F^{\\theta}_{adv,y}dA - \\int_{NB} F^{\\theta}_{diff,y}dA - \\int_{surf}F^{\\theta}_{surf}\\vert_{z=0}dA\n",
    "$$\n",
    "\n",
    "where 'NB' denotes northern boundary of region R; 'surf' represents the boundary closed by the ocean surface; and $F^{\\theta}_{surf}$ term includes the above $G^{\\theta}_{surf}$ and $G^{\\theta}_{sw}$. Both the first term and second term represents the the northern boundary crossing of the meridional advective flux and meridional diffusive flux, respectively; and the last term represents the surface flux crossing the ocean surface area."
   ]
  },
  {
   "cell_type": "code",
   "execution_count": null,
   "metadata": {},
   "outputs": [],
   "source": []
  }
 ],
 "metadata": {
  "kernelspec": {
   "display_name": "Python [conda env:pangeo]",
   "language": "python",
   "name": "conda-env-pangeo-py"
  },
  "language_info": {
   "codemirror_mode": {
    "name": "ipython",
    "version": 3
   },
   "file_extension": ".py",
   "mimetype": "text/x-python",
   "name": "python",
   "nbconvert_exporter": "python",
   "pygments_lexer": "ipython3",
   "version": "3.6.7"
  }
 },
 "nbformat": 4,
 "nbformat_minor": 2
}
