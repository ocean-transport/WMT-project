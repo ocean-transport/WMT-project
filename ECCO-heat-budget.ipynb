{
 "cells": [
  {
   "cell_type": "markdown",
   "metadata": {},
   "source": [
    "# ECCO HEAT BUDGET"
   ]
  },
  {
   "cell_type": "markdown",
   "metadata": {},
   "source": [
    "### 13-tile native lat-lon-cap 90 grid\n",
    "The lat-lon-cap (llc) is the decomposition of the spherical Earth into a Cartesian curvilinear coordinate system . It is a topologically non-trivial cubed-sphere rendering in the northern hemisphere and a dipolar grid in the southern hemisphere. Between 70°S and ~57°N, model grid cells are approximately oriented to lines of latitude and longitude. A special Arctic “cap” is situated north of ~57°N.\n",
    "\n",
    "The Cartesian curvilinear coordinate system is divided into 13 tiles, each consisting of 90x90 grid cells in the horizontal and 50 vertical levels. Horizontal model grid resolution varies spatially from 22km to 110km, with the highest resolutions at high latitudes and lowest resolution in mid latitudes. Vertical grid spacing increases with depth from 10m to 456.5m. The bottom of the deepest model grid cell is 6145m below the surface."
   ]
  },
  {
   "cell_type": "code",
   "execution_count": null,
   "metadata": {},
   "outputs": [],
   "source": [
    "from dask.distributed import Client\n",
    "\n",
    "client = Client(\"tcp://10.32.60.114:36039\")\n",
    "client"
   ]
  },
  {
   "cell_type": "code",
   "execution_count": 2,
   "metadata": {},
   "outputs": [
    {
     "name": "stderr",
     "output_type": "stream",
     "text": [
      "/srv/conda/envs/notebook/lib/python3.6/site-packages/tqdm/autonotebook/__init__.py:14: TqdmExperimentalWarning: Using `tqdm.autonotebook.tqdm` in notebook mode. Use `tqdm.tqdm` instead to force console mode (e.g. in jupyter console)\n",
      "  \" (e.g. in jupyter console)\", TqdmExperimentalWarning)\n"
     ]
    }
   ],
   "source": [
    "import xarray as xr\n",
    "from matplotlib import pyplot as plt\n",
    "import gcsfs\n",
    "import dask\n",
    "import dask.array as dsa\n",
    "import numpy as np\n",
    "import intake\n",
    "%matplotlib inline"
   ]
  },
  {
   "cell_type": "code",
   "execution_count": 6,
   "metadata": {},
   "outputs": [],
   "source": [
    "from xmitgcm.llcreader.llcmodel import faces_dataset_to_latlon"
   ]
  },
  {
   "cell_type": "code",
   "execution_count": 3,
   "metadata": {},
   "outputs": [
    {
     "data": {
      "text/plain": [
       "<xarray.Dataset>\n",
       "Dimensions:    (face: 13, i: 90, i_g: 90, j: 90, j_g: 90, k: 50, k_l: 50, k_p1: 51, k_u: 50, time: 288, time_snp: 287)\n",
       "Coordinates:\n",
       "    Depth      (face, j, i) float32 dask.array<shape=(13, 90, 90), chunksize=(13, 90, 90)>\n",
       "    PHrefC     (k) float32 dask.array<shape=(50,), chunksize=(50,)>\n",
       "    PHrefF     (k_p1) float32 dask.array<shape=(51,), chunksize=(51,)>\n",
       "    XC         (face, j, i) float32 dask.array<shape=(13, 90, 90), chunksize=(13, 90, 90)>\n",
       "    XG         (face, j_g, i_g) float32 dask.array<shape=(13, 90, 90), chunksize=(13, 90, 90)>\n",
       "    YC         (face, j, i) float32 dask.array<shape=(13, 90, 90), chunksize=(13, 90, 90)>\n",
       "    YG         (face, j_g, i_g) float32 dask.array<shape=(13, 90, 90), chunksize=(13, 90, 90)>\n",
       "    Z          (k) float32 dask.array<shape=(50,), chunksize=(50,)>\n",
       "    Zl         (k_l) float32 dask.array<shape=(50,), chunksize=(50,)>\n",
       "    Zp1        (k_p1) float32 dask.array<shape=(51,), chunksize=(51,)>\n",
       "    Zu         (k_u) float32 dask.array<shape=(50,), chunksize=(50,)>\n",
       "    drC        (k_p1) float32 dask.array<shape=(51,), chunksize=(51,)>\n",
       "    drF        (k) float32 dask.array<shape=(50,), chunksize=(50,)>\n",
       "    dxC        (face, j, i_g) float32 dask.array<shape=(13, 90, 90), chunksize=(13, 90, 90)>\n",
       "    dxG        (face, j_g, i) float32 dask.array<shape=(13, 90, 90), chunksize=(13, 90, 90)>\n",
       "    dyC        (face, j_g, i) float32 dask.array<shape=(13, 90, 90), chunksize=(13, 90, 90)>\n",
       "    dyG        (face, j, i_g) float32 dask.array<shape=(13, 90, 90), chunksize=(13, 90, 90)>\n",
       "  * face       (face) int64 0 1 2 3 4 5 6 7 8 9 10 11 12\n",
       "    hFacC      (k, face, j, i) float32 dask.array<shape=(50, 13, 90, 90), chunksize=(50, 13, 90, 90)>\n",
       "    hFacS      (k, face, j_g, i) float32 dask.array<shape=(50, 13, 90, 90), chunksize=(50, 13, 90, 90)>\n",
       "    hFacW      (k, face, j, i_g) float32 dask.array<shape=(50, 13, 90, 90), chunksize=(50, 13, 90, 90)>\n",
       "  * i          (i) int64 0 1 2 3 4 5 6 7 8 9 ... 80 81 82 83 84 85 86 87 88 89\n",
       "  * i_g        (i_g) int64 0 1 2 3 4 5 6 7 8 9 ... 80 81 82 83 84 85 86 87 88 89\n",
       "    iter       (time) int64 dask.array<shape=(288,), chunksize=(1,)>\n",
       "    iter_snp   (time_snp) int64 dask.array<shape=(287,), chunksize=(1,)>\n",
       "  * j          (j) int64 0 1 2 3 4 5 6 7 8 9 ... 80 81 82 83 84 85 86 87 88 89\n",
       "  * j_g        (j_g) int64 0 1 2 3 4 5 6 7 8 9 ... 80 81 82 83 84 85 86 87 88 89\n",
       "  * k          (k) int64 0 1 2 3 4 5 6 7 8 9 ... 40 41 42 43 44 45 46 47 48 49\n",
       "  * k_l        (k_l) int64 0 1 2 3 4 5 6 7 8 9 ... 40 41 42 43 44 45 46 47 48 49\n",
       "  * k_p1       (k_p1) int64 0 1 2 3 4 5 6 7 8 9 ... 42 43 44 45 46 47 48 49 50\n",
       "  * k_u        (k_u) int64 0 1 2 3 4 5 6 7 8 9 ... 40 41 42 43 44 45 46 47 48 49\n",
       "    rA         (face, j, i) float32 dask.array<shape=(13, 90, 90), chunksize=(13, 90, 90)>\n",
       "    rAs        (face, j_g, i) float32 dask.array<shape=(13, 90, 90), chunksize=(13, 90, 90)>\n",
       "    rAw        (face, j, i_g) float32 dask.array<shape=(13, 90, 90), chunksize=(13, 90, 90)>\n",
       "    rAz        (face, j_g, i_g) float32 dask.array<shape=(13, 90, 90), chunksize=(13, 90, 90)>\n",
       "  * time       (time) datetime64[ns] 1992-01-15 1992-02-13 ... 2015-12-14\n",
       "  * time_snp   (time_snp) datetime64[ns] 1992-02-01 1992-03-01 ... 2015-12-01\n",
       "Data variables:\n",
       "    ADVr_SLT   (time, k_l, face, j, i) float32 dask.array<shape=(288, 50, 13, 90, 90), chunksize=(1, 50, 13, 90, 90)>\n",
       "    ADVr_TH    (time, k_l, face, j, i) float32 dask.array<shape=(288, 50, 13, 90, 90), chunksize=(1, 50, 13, 90, 90)>\n",
       "    ADVx_SLT   (time, k, face, j, i_g) float32 dask.array<shape=(288, 50, 13, 90, 90), chunksize=(1, 50, 13, 90, 90)>\n",
       "    ADVx_TH    (time, k, face, j, i_g) float32 dask.array<shape=(288, 50, 13, 90, 90), chunksize=(1, 50, 13, 90, 90)>\n",
       "    ADVy_SLT   (time, k, face, j_g, i) float32 dask.array<shape=(288, 50, 13, 90, 90), chunksize=(1, 50, 13, 90, 90)>\n",
       "    ADVy_TH    (time, k, face, j_g, i) float32 dask.array<shape=(288, 50, 13, 90, 90), chunksize=(1, 50, 13, 90, 90)>\n",
       "    DFrE_SLT   (time, k_l, face, j, i) float32 dask.array<shape=(288, 50, 13, 90, 90), chunksize=(1, 50, 13, 90, 90)>\n",
       "    DFrE_TH    (time, k_l, face, j, i) float32 dask.array<shape=(288, 50, 13, 90, 90), chunksize=(1, 50, 13, 90, 90)>\n",
       "    DFrI_SLT   (time, k_l, face, j, i) float32 dask.array<shape=(288, 50, 13, 90, 90), chunksize=(1, 50, 13, 90, 90)>\n",
       "    DFrI_TH    (time, k_l, face, j, i) float32 dask.array<shape=(288, 50, 13, 90, 90), chunksize=(1, 50, 13, 90, 90)>\n",
       "    DFxE_SLT   (time, k, face, j, i_g) float32 dask.array<shape=(288, 50, 13, 90, 90), chunksize=(1, 50, 13, 90, 90)>\n",
       "    DFxE_TH    (time, k, face, j, i_g) float32 dask.array<shape=(288, 50, 13, 90, 90), chunksize=(1, 50, 13, 90, 90)>\n",
       "    DFyE_SLT   (time, k, face, j_g, i) float32 dask.array<shape=(288, 50, 13, 90, 90), chunksize=(1, 50, 13, 90, 90)>\n",
       "    DFyE_TH    (time, k, face, j_g, i) float32 dask.array<shape=(288, 50, 13, 90, 90), chunksize=(1, 50, 13, 90, 90)>\n",
       "    ETAN       (time, face, j, i) float32 dask.array<shape=(288, 13, 90, 90), chunksize=(1, 13, 90, 90)>\n",
       "    ETAN_snp   (time_snp, face, j, i) float32 dask.array<shape=(287, 13, 90, 90), chunksize=(1, 13, 90, 90)>\n",
       "    GEOFLX     (face, j, i) float32 dask.array<shape=(13, 90, 90), chunksize=(7, 90, 90)>\n",
       "    SALT       (time, k, face, j, i) float32 dask.array<shape=(288, 50, 13, 90, 90), chunksize=(1, 50, 13, 90, 90)>\n",
       "    SALT_snp   (time_snp, k, face, j, i) float32 dask.array<shape=(287, 50, 13, 90, 90), chunksize=(1, 50, 13, 90, 90)>\n",
       "    SFLUX      (time, face, j, i) float32 dask.array<shape=(288, 13, 90, 90), chunksize=(1, 13, 90, 90)>\n",
       "    TFLUX      (time, face, j, i) float32 dask.array<shape=(288, 13, 90, 90), chunksize=(1, 13, 90, 90)>\n",
       "    THETA      (time, k, face, j, i) float32 dask.array<shape=(288, 50, 13, 90, 90), chunksize=(1, 50, 13, 90, 90)>\n",
       "    THETA_snp  (time_snp, k, face, j, i) float32 dask.array<shape=(287, 50, 13, 90, 90), chunksize=(1, 50, 13, 90, 90)>\n",
       "    UVELMASS   (time, k, face, j, i_g) float32 dask.array<shape=(288, 50, 13, 90, 90), chunksize=(1, 50, 13, 90, 90)>\n",
       "    VVELMASS   (time, k, face, j_g, i) float32 dask.array<shape=(288, 50, 13, 90, 90), chunksize=(1, 50, 13, 90, 90)>\n",
       "    WVELMASS   (time, k_l, face, j, i) float32 dask.array<shape=(288, 50, 13, 90, 90), chunksize=(1, 50, 13, 90, 90)>\n",
       "    oceFWflx   (time, face, j, i) float32 dask.array<shape=(288, 13, 90, 90), chunksize=(1, 13, 90, 90)>\n",
       "    oceQsw     (time, face, j, i) float32 dask.array<shape=(288, 13, 90, 90), chunksize=(1, 13, 90, 90)>\n",
       "    oceSPtnd   (time, k, face, j, i) float32 dask.array<shape=(288, 50, 13, 90, 90), chunksize=(1, 50, 13, 90, 90)>"
      ]
     },
     "execution_count": 3,
     "metadata": {},
     "output_type": "execute_result"
    }
   ],
   "source": [
    "ecco_url = 'https://raw.githubusercontent.com/pangeo-data/pangeo-datastore/master/intake-catalogs/ocean.yaml'\n",
    "ecco_cat = intake.Catalog(ecco_url)\n",
    "ds = ecco_cat[\"ECCOv4r3\"].to_dask()\n",
    "ds"
   ]
  },
  {
   "cell_type": "code",
   "execution_count": 7,
   "metadata": {},
   "outputs": [
    {
     "data": {
      "text/plain": [
       "<xarray.Dataset>\n",
       "Dimensions:    (face: 13, i: 360, i_g: 360, j: 270, j_g: 270, k: 50, k_l: 50, k_p1: 51, k_u: 50, time: 288, time_snp: 287)\n",
       "Coordinates:\n",
       "  * time       (time) datetime64[ns] 1992-01-15 1992-02-13 ... 2015-12-14\n",
       "  * i_g        (i_g) int64 0 1 2 3 4 5 6 7 8 ... 352 353 354 355 356 357 358 359\n",
       "  * k_u        (k_u) int64 0 1 2 3 4 5 6 7 8 9 ... 40 41 42 43 44 45 46 47 48 49\n",
       "  * j_g        (j_g) int64 0 1 2 3 4 5 6 7 8 ... 262 263 264 265 266 267 268 269\n",
       "  * k_l        (k_l) int64 0 1 2 3 4 5 6 7 8 9 ... 40 41 42 43 44 45 46 47 48 49\n",
       "  * k          (k) int64 0 1 2 3 4 5 6 7 8 9 ... 40 41 42 43 44 45 46 47 48 49\n",
       "  * k_p1       (k_p1) int64 0 1 2 3 4 5 6 7 8 9 ... 42 43 44 45 46 47 48 49 50\n",
       "  * face       (face) int64 0 1 2 3 4 5 6 7 8 9 10 11 12\n",
       "  * i          (i) int64 0 1 2 3 4 5 6 7 8 ... 352 353 354 355 356 357 358 359\n",
       "  * j          (j) int64 0 1 2 3 4 5 6 7 8 ... 262 263 264 265 266 267 268 269\n",
       "  * time_snp   (time_snp) datetime64[ns] 1992-02-01 1992-03-01 ... 2015-12-01\n",
       "    Depth      (j, i) float32 dask.array<shape=(270, 360), chunksize=(90, 90)>\n",
       "    PHrefC     (k) float32 dask.array<shape=(50,), chunksize=(50,)>\n",
       "    PHrefF     (k_p1) float32 dask.array<shape=(51,), chunksize=(51,)>\n",
       "    XC         (j, i) float32 dask.array<shape=(270, 360), chunksize=(90, 90)>\n",
       "    XG         (j_g, i_g) float32 dask.array<shape=(270, 360), chunksize=(90, 90)>\n",
       "    YC         (j, i) float32 dask.array<shape=(270, 360), chunksize=(90, 90)>\n",
       "    YG         (j_g, i_g) float32 dask.array<shape=(270, 360), chunksize=(90, 90)>\n",
       "    Z          (k) float32 dask.array<shape=(50,), chunksize=(50,)>\n",
       "    Zl         (k_l) float32 dask.array<shape=(50,), chunksize=(50,)>\n",
       "    Zp1        (k_p1) float32 dask.array<shape=(51,), chunksize=(51,)>\n",
       "    Zu         (k_u) float32 dask.array<shape=(50,), chunksize=(50,)>\n",
       "    drC        (k_p1) float32 dask.array<shape=(51,), chunksize=(51,)>\n",
       "    drF        (k) float32 dask.array<shape=(50,), chunksize=(50,)>\n",
       "    hFacC      (k, j, i) float32 dask.array<shape=(50, 270, 360), chunksize=(50, 90, 90)>\n",
       "    hFacS      (k, j_g, i) float32 dask.array<shape=(50, 270, 360), chunksize=(50, 90, 90)>\n",
       "    hFacW      (k, j, i_g) float32 dask.array<shape=(50, 270, 360), chunksize=(50, 90, 90)>\n",
       "    iter       (time) int64 dask.array<shape=(288,), chunksize=(1,)>\n",
       "    iter_snp   (time_snp) int64 dask.array<shape=(287,), chunksize=(1,)>\n",
       "    rA         (j, i) float32 dask.array<shape=(270, 360), chunksize=(90, 90)>\n",
       "    rAs        (j_g, i) float32 dask.array<shape=(270, 360), chunksize=(90, 90)>\n",
       "    rAw        (j, i_g) float32 dask.array<shape=(270, 360), chunksize=(90, 90)>\n",
       "    rAz        (j_g, i_g) float32 dask.array<shape=(270, 360), chunksize=(90, 90)>\n",
       "    dxC        (j, i_g) float32 dask.array<shape=(270, 360), chunksize=(90, 90)>\n",
       "    dyC        (j_g, i) float32 dask.array<shape=(270, 360), chunksize=(1, 90)>\n",
       "    dyG        (j, i_g) float32 dask.array<shape=(270, 360), chunksize=(90, 90)>\n",
       "    dxG        (j_g, i) float32 dask.array<shape=(270, 360), chunksize=(1, 90)>\n",
       "Data variables:\n",
       "    ADVr_SLT   (time, k_l, j, i) float32 dask.array<shape=(288, 50, 270, 360), chunksize=(1, 50, 90, 90)>\n",
       "    ADVr_TH    (time, k_l, j, i) float32 dask.array<shape=(288, 50, 270, 360), chunksize=(1, 50, 90, 90)>\n",
       "    DFrE_SLT   (time, k_l, j, i) float32 dask.array<shape=(288, 50, 270, 360), chunksize=(1, 50, 90, 90)>\n",
       "    DFrE_TH    (time, k_l, j, i) float32 dask.array<shape=(288, 50, 270, 360), chunksize=(1, 50, 90, 90)>\n",
       "    DFrI_SLT   (time, k_l, j, i) float32 dask.array<shape=(288, 50, 270, 360), chunksize=(1, 50, 90, 90)>\n",
       "    DFrI_TH    (time, k_l, j, i) float32 dask.array<shape=(288, 50, 270, 360), chunksize=(1, 50, 90, 90)>\n",
       "    ETAN       (time, j, i) float32 dask.array<shape=(288, 270, 360), chunksize=(1, 90, 90)>\n",
       "    ETAN_snp   (time_snp, j, i) float32 dask.array<shape=(287, 270, 360), chunksize=(1, 90, 90)>\n",
       "    GEOFLX     (j, i) float32 dask.array<shape=(270, 360), chunksize=(90, 90)>\n",
       "    SALT       (time, k, j, i) float32 dask.array<shape=(288, 50, 270, 360), chunksize=(1, 50, 90, 90)>\n",
       "    SALT_snp   (time_snp, k, j, i) float32 dask.array<shape=(287, 50, 270, 360), chunksize=(1, 50, 90, 90)>\n",
       "    SFLUX      (time, j, i) float32 dask.array<shape=(288, 270, 360), chunksize=(1, 90, 90)>\n",
       "    TFLUX      (time, j, i) float32 dask.array<shape=(288, 270, 360), chunksize=(1, 90, 90)>\n",
       "    THETA      (time, k, j, i) float32 dask.array<shape=(288, 50, 270, 360), chunksize=(1, 50, 90, 90)>\n",
       "    THETA_snp  (time_snp, k, j, i) float32 dask.array<shape=(287, 50, 270, 360), chunksize=(1, 50, 90, 90)>\n",
       "    WVELMASS   (time, k_l, j, i) float32 dask.array<shape=(288, 50, 270, 360), chunksize=(1, 50, 90, 90)>\n",
       "    oceFWflx   (time, j, i) float32 dask.array<shape=(288, 270, 360), chunksize=(1, 90, 90)>\n",
       "    oceQsw     (time, j, i) float32 dask.array<shape=(288, 270, 360), chunksize=(1, 90, 90)>\n",
       "    oceSPtnd   (time, k, j, i) float32 dask.array<shape=(288, 50, 270, 360), chunksize=(1, 50, 90, 90)>\n",
       "    ADVx_SLT   (time, k, j, i_g) float32 dask.array<shape=(288, 50, 270, 360), chunksize=(1, 50, 90, 90)>\n",
       "    ADVy_SLT   (time, k, j_g, i) float32 dask.array<shape=(288, 50, 270, 360), chunksize=(1, 50, 1, 90)>\n",
       "    ADVx_TH    (time, k, j, i_g) float32 dask.array<shape=(288, 50, 270, 360), chunksize=(1, 50, 90, 90)>\n",
       "    ADVy_TH    (time, k, j_g, i) float32 dask.array<shape=(288, 50, 270, 360), chunksize=(1, 50, 1, 90)>\n",
       "    DFxE_SLT   (time, k, j, i_g) float32 dask.array<shape=(288, 50, 270, 360), chunksize=(1, 50, 90, 90)>\n",
       "    DFyE_SLT   (time, k, j_g, i) float32 dask.array<shape=(288, 50, 270, 360), chunksize=(1, 50, 1, 90)>\n",
       "    DFxE_TH    (time, k, j, i_g) float32 dask.array<shape=(288, 50, 270, 360), chunksize=(1, 50, 90, 90)>\n",
       "    DFyE_TH    (time, k, j_g, i) float32 dask.array<shape=(288, 50, 270, 360), chunksize=(1, 50, 1, 90)>\n",
       "    UVELMASS   (time, k, j, i_g) float32 dask.array<shape=(288, 50, 270, 360), chunksize=(1, 50, 90, 90)>\n",
       "    VVELMASS   (time, k, j_g, i) float32 dask.array<shape=(288, 50, 270, 360), chunksize=(1, 50, 1, 90)>"
      ]
     },
     "execution_count": 7,
     "metadata": {},
     "output_type": "execute_result"
    }
   ],
   "source": [
    "ds_ll = faces_dataset_to_latlon(ds)\n",
    "ds_ll"
   ]
  },
  {
   "cell_type": "code",
   "execution_count": 8,
   "metadata": {},
   "outputs": [
    {
     "data": {
      "text/plain": [
       "<xarray.Dataset>\n",
       "Dimensions:    (face: 13, i: 360, i_g: 360, j: 270, j_g: 270, k: 50, k_l: 50, k_p1: 51, k_u: 50, time: 288, time_snp: 287)\n",
       "Coordinates:\n",
       "  * time       (time) datetime64[ns] 1992-01-15 1992-02-13 ... 2015-12-14\n",
       "  * i_g        (i_g) int64 0 1 2 3 4 5 6 7 8 ... 352 353 354 355 356 357 358 359\n",
       "  * k_u        (k_u) int64 0 1 2 3 4 5 6 7 8 9 ... 40 41 42 43 44 45 46 47 48 49\n",
       "  * j_g        (j_g) int64 0 1 2 3 4 5 6 7 8 ... 262 263 264 265 266 267 268 269\n",
       "  * k_l        (k_l) int64 0 1 2 3 4 5 6 7 8 9 ... 40 41 42 43 44 45 46 47 48 49\n",
       "  * k          (k) int64 0 1 2 3 4 5 6 7 8 9 ... 40 41 42 43 44 45 46 47 48 49\n",
       "  * k_p1       (k_p1) int64 0 1 2 3 4 5 6 7 8 9 ... 42 43 44 45 46 47 48 49 50\n",
       "  * face       (face) int64 0 1 2 3 4 5 6 7 8 9 10 11 12\n",
       "  * i          (i) int64 0 1 2 3 4 5 6 7 8 ... 352 353 354 355 356 357 358 359\n",
       "  * j          (j) int64 0 1 2 3 4 5 6 7 8 ... 262 263 264 265 266 267 268 269\n",
       "  * time_snp   (time_snp) datetime64[ns] 1992-02-01 1992-03-01 ... 2015-12-01\n",
       "Data variables:\n",
       "    ADVr_SLT   (time, k_l, j, i) float32 dask.array<shape=(288, 50, 270, 360), chunksize=(1, 50, 90, 90)>\n",
       "    ADVr_TH    (time, k_l, j, i) float32 dask.array<shape=(288, 50, 270, 360), chunksize=(1, 50, 90, 90)>\n",
       "    DFrE_SLT   (time, k_l, j, i) float32 dask.array<shape=(288, 50, 270, 360), chunksize=(1, 50, 90, 90)>\n",
       "    DFrE_TH    (time, k_l, j, i) float32 dask.array<shape=(288, 50, 270, 360), chunksize=(1, 50, 90, 90)>\n",
       "    DFrI_SLT   (time, k_l, j, i) float32 dask.array<shape=(288, 50, 270, 360), chunksize=(1, 50, 90, 90)>\n",
       "    DFrI_TH    (time, k_l, j, i) float32 dask.array<shape=(288, 50, 270, 360), chunksize=(1, 50, 90, 90)>\n",
       "    ETAN       (time, j, i) float32 dask.array<shape=(288, 270, 360), chunksize=(1, 90, 90)>\n",
       "    ETAN_snp   (time_snp, j, i) float32 dask.array<shape=(287, 270, 360), chunksize=(1, 90, 90)>\n",
       "    GEOFLX     (j, i) float32 dask.array<shape=(270, 360), chunksize=(90, 90)>\n",
       "    SALT       (time, k, j, i) float32 dask.array<shape=(288, 50, 270, 360), chunksize=(1, 50, 90, 90)>\n",
       "    SALT_snp   (time_snp, k, j, i) float32 dask.array<shape=(287, 50, 270, 360), chunksize=(1, 50, 90, 90)>\n",
       "    SFLUX      (time, j, i) float32 dask.array<shape=(288, 270, 360), chunksize=(1, 90, 90)>\n",
       "    TFLUX      (time, j, i) float32 dask.array<shape=(288, 270, 360), chunksize=(1, 90, 90)>\n",
       "    THETA      (time, k, j, i) float32 dask.array<shape=(288, 50, 270, 360), chunksize=(1, 50, 90, 90)>\n",
       "    THETA_snp  (time_snp, k, j, i) float32 dask.array<shape=(287, 50, 270, 360), chunksize=(1, 50, 90, 90)>\n",
       "    WVELMASS   (time, k_l, j, i) float32 dask.array<shape=(288, 50, 270, 360), chunksize=(1, 50, 90, 90)>\n",
       "    oceFWflx   (time, j, i) float32 dask.array<shape=(288, 270, 360), chunksize=(1, 90, 90)>\n",
       "    oceQsw     (time, j, i) float32 dask.array<shape=(288, 270, 360), chunksize=(1, 90, 90)>\n",
       "    oceSPtnd   (time, k, j, i) float32 dask.array<shape=(288, 50, 270, 360), chunksize=(1, 50, 90, 90)>\n",
       "    ADVx_SLT   (time, k, j, i_g) float32 dask.array<shape=(288, 50, 270, 360), chunksize=(1, 50, 90, 90)>\n",
       "    ADVy_SLT   (time, k, j_g, i) float32 dask.array<shape=(288, 50, 270, 360), chunksize=(1, 50, 1, 90)>\n",
       "    ADVx_TH    (time, k, j, i_g) float32 dask.array<shape=(288, 50, 270, 360), chunksize=(1, 50, 90, 90)>\n",
       "    ADVy_TH    (time, k, j_g, i) float32 dask.array<shape=(288, 50, 270, 360), chunksize=(1, 50, 1, 90)>\n",
       "    DFxE_SLT   (time, k, j, i_g) float32 dask.array<shape=(288, 50, 270, 360), chunksize=(1, 50, 90, 90)>\n",
       "    DFyE_SLT   (time, k, j_g, i) float32 dask.array<shape=(288, 50, 270, 360), chunksize=(1, 50, 1, 90)>\n",
       "    DFxE_TH    (time, k, j, i_g) float32 dask.array<shape=(288, 50, 270, 360), chunksize=(1, 50, 90, 90)>\n",
       "    DFyE_TH    (time, k, j_g, i) float32 dask.array<shape=(288, 50, 270, 360), chunksize=(1, 50, 1, 90)>\n",
       "    UVELMASS   (time, k, j, i_g) float32 dask.array<shape=(288, 50, 270, 360), chunksize=(1, 50, 90, 90)>\n",
       "    VVELMASS   (time, k, j_g, i) float32 dask.array<shape=(288, 50, 270, 360), chunksize=(1, 50, 1, 90)>"
      ]
     },
     "execution_count": 8,
     "metadata": {},
     "output_type": "execute_result"
    }
   ],
   "source": [
    "# a trick to make things work a bit faster\n",
    "coords = ds_ll.coords.to_dataset().reset_coords()\n",
    "ds = ds_ll.reset_coords(drop=True)\n",
    "ds"
   ]
  },
  {
   "cell_type": "code",
   "execution_count": 9,
   "metadata": {},
   "outputs": [
    {
     "data": {
      "text/plain": [
       "<xarray.Dataset>\n",
       "Dimensions:   (face: 13, i: 360, i_g: 360, j: 270, j_g: 270, k: 50, k_l: 50, k_p1: 51, k_u: 50, time: 288, time_snp: 287)\n",
       "Coordinates:\n",
       "  * time      (time) datetime64[ns] 1992-01-15 1992-02-13 ... 2015-12-14\n",
       "  * i_g       (i_g) int64 0 1 2 3 4 5 6 7 8 ... 352 353 354 355 356 357 358 359\n",
       "  * k_u       (k_u) int64 0 1 2 3 4 5 6 7 8 9 ... 40 41 42 43 44 45 46 47 48 49\n",
       "  * j_g       (j_g) int64 0 1 2 3 4 5 6 7 8 ... 262 263 264 265 266 267 268 269\n",
       "  * k_l       (k_l) int64 0 1 2 3 4 5 6 7 8 9 ... 40 41 42 43 44 45 46 47 48 49\n",
       "  * k         (k) int64 0 1 2 3 4 5 6 7 8 9 10 ... 40 41 42 43 44 45 46 47 48 49\n",
       "  * k_p1      (k_p1) int64 0 1 2 3 4 5 6 7 8 9 ... 41 42 43 44 45 46 47 48 49 50\n",
       "  * face      (face) int64 0 1 2 3 4 5 6 7 8 9 10 11 12\n",
       "  * i         (i) int64 0 1 2 3 4 5 6 7 8 ... 352 353 354 355 356 357 358 359\n",
       "  * j         (j) int64 0 1 2 3 4 5 6 7 8 ... 262 263 264 265 266 267 268 269\n",
       "  * time_snp  (time_snp) datetime64[ns] 1992-02-01 1992-03-01 ... 2015-12-01\n",
       "Data variables:\n",
       "    rAz       (j_g, i_g) float32 dask.array<shape=(270, 360), chunksize=(90, 90)>\n",
       "    hFacS     (k, j_g, i) float32 dask.array<shape=(50, 270, 360), chunksize=(50, 90, 90)>\n",
       "    rAs       (j_g, i) float32 dask.array<shape=(270, 360), chunksize=(90, 90)>\n",
       "    iter_snp  (time_snp) int64 dask.array<shape=(287,), chunksize=(1,)>\n",
       "    XC        (j, i) float32 dask.array<shape=(270, 360), chunksize=(90, 90)>\n",
       "    Zl        (k_l) float32 dask.array<shape=(50,), chunksize=(50,)>\n",
       "    hFacW     (k, j, i_g) float32 dask.array<shape=(50, 270, 360), chunksize=(50, 90, 90)>\n",
       "    dxC       (j, i_g) float32 dask.array<shape=(270, 360), chunksize=(90, 90)>\n",
       "    Zp1       (k_p1) float32 dask.array<shape=(51,), chunksize=(51,)>\n",
       "    rA        (j, i) float32 dask.array<shape=(270, 360), chunksize=(90, 90)>\n",
       "    Zu        (k_u) float32 dask.array<shape=(50,), chunksize=(50,)>\n",
       "    drF       (k) float32 dask.array<shape=(50,), chunksize=(50,)>\n",
       "    Depth     (j, i) float32 dask.array<shape=(270, 360), chunksize=(90, 90)>\n",
       "    dyC       (j_g, i) float32 dask.array<shape=(270, 360), chunksize=(1, 90)>\n",
       "    YG        (j_g, i_g) float32 dask.array<shape=(270, 360), chunksize=(90, 90)>\n",
       "    Z         (k) float32 dask.array<shape=(50,), chunksize=(50,)>\n",
       "    XG        (j_g, i_g) float32 dask.array<shape=(270, 360), chunksize=(90, 90)>\n",
       "    hFacC     (k, j, i) float32 dask.array<shape=(50, 270, 360), chunksize=(50, 90, 90)>\n",
       "    drC       (k_p1) float32 dask.array<shape=(51,), chunksize=(51,)>\n",
       "    YC        (j, i) float32 dask.array<shape=(270, 360), chunksize=(90, 90)>\n",
       "    dyG       (j, i_g) float32 dask.array<shape=(270, 360), chunksize=(90, 90)>\n",
       "    dxG       (j_g, i) float32 dask.array<shape=(270, 360), chunksize=(1, 90)>\n",
       "    PHrefC    (k) float32 dask.array<shape=(50,), chunksize=(50,)>\n",
       "    iter      (time) int64 dask.array<shape=(288,), chunksize=(1,)>\n",
       "    rAw       (j, i_g) float32 dask.array<shape=(270, 360), chunksize=(90, 90)>\n",
       "    PHrefF    (k_p1) float32 dask.array<shape=(51,), chunksize=(51,)>"
      ]
     },
     "execution_count": 9,
     "metadata": {},
     "output_type": "execute_result"
    }
   ],
   "source": [
    "coords"
   ]
  },
  {
   "cell_type": "code",
   "execution_count": null,
   "metadata": {},
   "outputs": [],
   "source": [
    "coords.Depth.j"
   ]
  },
  {
   "cell_type": "code",
   "execution_count": null,
   "metadata": {},
   "outputs": [],
   "source": [
    "coords.Depth.i"
   ]
  },
  {
   "cell_type": "code",
   "execution_count": null,
   "metadata": {},
   "outputs": [],
   "source": [
    "ds.THETA_snp"
   ]
  },
  {
   "cell_type": "code",
   "execution_count": null,
   "metadata": {},
   "outputs": [],
   "source": [
    "ds.THETA"
   ]
  },
  {
   "cell_type": "code",
   "execution_count": 12,
   "metadata": {},
   "outputs": [],
   "source": [
    "sst_mean = ds.THETA.isel(k=0).mean(dim='time').load()\n",
    "sst_mean"
   ]
  },
  {
   "cell_type": "code",
   "execution_count": null,
   "metadata": {},
   "outputs": [],
   "source": [
    "sst_mean.i"
   ]
  },
  {
   "cell_type": "code",
   "execution_count": null,
   "metadata": {},
   "outputs": [],
   "source": [
    "sst_mean.j"
   ]
  },
  {
   "cell_type": "code",
   "execution_count": 13,
   "metadata": {},
   "outputs": [],
   "source": [
    "surface_mask = (coords.hFacC[0]>0).load()"
   ]
  },
  {
   "cell_type": "code",
   "execution_count": 14,
   "metadata": {},
   "outputs": [],
   "source": [
    "left_lon = 298\n",
    "upper_lat = -65\n",
    "right_lon = 360\n",
    "lower_lat =-80"
   ]
  },
  {
   "cell_type": "markdown",
   "metadata": {},
   "source": [
    "Maybe try projections?"
   ]
  },
  {
   "cell_type": "code",
   "execution_count": 15,
   "metadata": {},
   "outputs": [
    {
     "data": {
      "image/png": "[encoded data removed]",
      "text/plain": [
       "<Figure size 864x576 with 2 Axes>"
      ]
     },
     "metadata": {
      "needs_background": "light"
     },
     "output_type": "display_data"
    }
   ],
   "source": [
    "fig, ax = plt.subplots(figsize=(12, 8), subplot_kw={'facecolor': '0.5'})\n",
    "(sst_mean.where(surface_mask)).plot(ax=ax)#, vmin=-2, vmax=10)\n",
    "ax.plot([left_lon, right_lon], [upper_lat, upper_lat], color='w')\n",
    "ax.plot([right_lon, right_lon], [lower_lat, upper_lat], color='w')\n",
    "ax.plot([left_lon, left_lon], [lower_lat, upper_lat], color='w')\n",
    "ax.plot([left_lon, right_lon], [lower_lat, lower_lat], color='w')\n",
    "#ax.patch(xy=(-80, 290), width=70, height=20)\n",
    "#ax.patch(xy=(295,-80), width = 1, height = 1)\n",
    "ax.set_xlim([287, 362])\n",
    "ax.set_ylim([-80, -55])\n",
    "plt.title('Surface Mask @ surface\\nLat[290,360]\\nLon[-80,-63.5]');"
   ]
  },
  {
   "cell_type": "code",
   "execution_count": null,
   "metadata": {},
   "outputs": [],
   "source": []
  }
 ],
 "metadata": {
  "kernelspec": {
   "display_name": "Python 3",
   "language": "python",
   "name": "python3"
  },
  "language_info": {
   "codemirror_mode": {
    "name": "ipython",
    "version": 3
   },
   "file_extension": ".py",
   "mimetype": "text/x-python",
   "name": "python",
   "nbconvert_exporter": "python",
   "pygments_lexer": "ipython3",
   "version": "3.6.7"
  }
 },
 "nbformat": 4,
 "nbformat_minor": 2
}
