{
 "cells": [
  {
   "cell_type": "markdown",
   "metadata": {},
   "source": [
    "# ECCO HEAT BUDGET"
   ]
  },
  {
   "cell_type": "markdown",
   "metadata": {},
   "source": [
    "### 13-tile native lat-lon-cap 90 grid\n",
    "The lat-lon-cap (llc) is the decomposition of the spherical Earth into a Cartesian curvilinear coordinate system . It is a topologically non-trivial cubed-sphere rendering in the northern hemisphere and a dipolar grid in the southern hemisphere. Between 70°S and ~57°N, model grid cells are approximately oriented to lines of latitude and longitude. A special Arctic “cap” is situated north of ~57°N.\n",
    "\n",
    "The Cartesian curvilinear coordinate system is divided into 13 tiles, each consisting of 90x90 grid cells in the horizontal and 50 vertical levels. Horizontal model grid resolution varies spatially from 22km to 110km, with the highest resolutions at high latitudes and lowest resolution in mid latitudes. Vertical grid spacing increases with depth from 10m to 456.5m. The bottom of the deepest model grid cell is 6145m below the surface."
   ]
  },
  {
   "cell_type": "code",
   "execution_count": null,
   "metadata": {},
   "outputs": [],
   "source": [
    "from dask.distributed import Client\n",
    "\n",
    "client = Client(\"tcp://10.32.60.114:36039\")\n",
    "client"
   ]
  },
  {
   "cell_type": "code",
   "execution_count": 21,
   "metadata": {},
   "outputs": [],
   "source": [
    "import xarray as xr\n",
    "from matplotlib import pyplot as plt\n",
    "import gcsfs\n",
    "import dask\n",
    "import dask.array as dsa\n",
    "import numpy as np\n",
    "import intake\n",
    "%matplotlib inline"
   ]
  },
  {
   "cell_type": "code",
   "execution_count": 22,
   "metadata": {},
   "outputs": [],
   "source": [
    "from xmitgcm.llcreader.llcmodel import faces_dataset_to_latlon"
   ]
  },
  {
   "cell_type": "code",
   "execution_count": 23,
   "metadata": {},
   "outputs": [
    {
     "data": {
      "text/plain": [
       "<xarray.Dataset>\n",
       "Dimensions:    (face: 13, i: 90, i_g: 90, j: 90, j_g: 90, k: 50, k_l: 50, k_p1: 51, k_u: 50, time: 288, time_snp: 287)\n",
       "Coordinates:\n",
       "    Depth      (face, j, i) float32 dask.array<shape=(13, 90, 90), chunksize=(13, 90, 90)>\n",
       "    PHrefC     (k) float32 dask.array<shape=(50,), chunksize=(50,)>\n",
       "    PHrefF     (k_p1) float32 dask.array<shape=(51,), chunksize=(51,)>\n",
       "    XC         (face, j, i) float32 dask.array<shape=(13, 90, 90), chunksize=(13, 90, 90)>\n",
       "    XG         (face, j_g, i_g) float32 dask.array<shape=(13, 90, 90), chunksize=(13, 90, 90)>\n",
       "    YC         (face, j, i) float32 dask.array<shape=(13, 90, 90), chunksize=(13, 90, 90)>\n",
       "    YG         (face, j_g, i_g) float32 dask.array<shape=(13, 90, 90), chunksize=(13, 90, 90)>\n",
       "    Z          (k) float32 dask.array<shape=(50,), chunksize=(50,)>\n",
       "    Zl         (k_l) float32 dask.array<shape=(50,), chunksize=(50,)>\n",
       "    Zp1        (k_p1) float32 dask.array<shape=(51,), chunksize=(51,)>\n",
       "    Zu         (k_u) float32 dask.array<shape=(50,), chunksize=(50,)>\n",
       "    drC        (k_p1) float32 dask.array<shape=(51,), chunksize=(51,)>\n",
       "    drF        (k) float32 dask.array<shape=(50,), chunksize=(50,)>\n",
       "    dxC        (face, j, i_g) float32 dask.array<shape=(13, 90, 90), chunksize=(13, 90, 90)>\n",
       "    dxG        (face, j_g, i) float32 dask.array<shape=(13, 90, 90), chunksize=(13, 90, 90)>\n",
       "    dyC        (face, j_g, i) float32 dask.array<shape=(13, 90, 90), chunksize=(13, 90, 90)>\n",
       "    dyG        (face, j, i_g) float32 dask.array<shape=(13, 90, 90), chunksize=(13, 90, 90)>\n",
       "  * face       (face) int64 0 1 2 3 4 5 6 7 8 9 10 11 12\n",
       "    hFacC      (k, face, j, i) float32 dask.array<shape=(50, 13, 90, 90), chunksize=(50, 13, 90, 90)>\n",
       "    hFacS      (k, face, j_g, i) float32 dask.array<shape=(50, 13, 90, 90), chunksize=(50, 13, 90, 90)>\n",
       "    hFacW      (k, face, j, i_g) float32 dask.array<shape=(50, 13, 90, 90), chunksize=(50, 13, 90, 90)>\n",
       "  * i          (i) int64 0 1 2 3 4 5 6 7 8 9 ... 80 81 82 83 84 85 86 87 88 89\n",
       "  * i_g        (i_g) int64 0 1 2 3 4 5 6 7 8 9 ... 80 81 82 83 84 85 86 87 88 89\n",
       "    iter       (time) int64 dask.array<shape=(288,), chunksize=(1,)>\n",
       "    iter_snp   (time_snp) int64 dask.array<shape=(287,), chunksize=(1,)>\n",
       "  * j          (j) int64 0 1 2 3 4 5 6 7 8 9 ... 80 81 82 83 84 85 86 87 88 89\n",
       "  * j_g        (j_g) int64 0 1 2 3 4 5 6 7 8 9 ... 80 81 82 83 84 85 86 87 88 89\n",
       "  * k          (k) int64 0 1 2 3 4 5 6 7 8 9 ... 40 41 42 43 44 45 46 47 48 49\n",
       "  * k_l        (k_l) int64 0 1 2 3 4 5 6 7 8 9 ... 40 41 42 43 44 45 46 47 48 49\n",
       "  * k_p1       (k_p1) int64 0 1 2 3 4 5 6 7 8 9 ... 42 43 44 45 46 47 48 49 50\n",
       "  * k_u        (k_u) int64 0 1 2 3 4 5 6 7 8 9 ... 40 41 42 43 44 45 46 47 48 49\n",
       "    rA         (face, j, i) float32 dask.array<shape=(13, 90, 90), chunksize=(13, 90, 90)>\n",
       "    rAs        (face, j_g, i) float32 dask.array<shape=(13, 90, 90), chunksize=(13, 90, 90)>\n",
       "    rAw        (face, j, i_g) float32 dask.array<shape=(13, 90, 90), chunksize=(13, 90, 90)>\n",
       "    rAz        (face, j_g, i_g) float32 dask.array<shape=(13, 90, 90), chunksize=(13, 90, 90)>\n",
       "  * time       (time) datetime64[ns] 1992-01-15 1992-02-13 ... 2015-12-14\n",
       "  * time_snp   (time_snp) datetime64[ns] 1992-02-01 1992-03-01 ... 2015-12-01\n",
       "Data variables:\n",
       "    ADVr_SLT   (time, k_l, face, j, i) float32 dask.array<shape=(288, 50, 13, 90, 90), chunksize=(1, 50, 13, 90, 90)>\n",
       "    ADVr_TH    (time, k_l, face, j, i) float32 dask.array<shape=(288, 50, 13, 90, 90), chunksize=(1, 50, 13, 90, 90)>\n",
       "    ADVx_SLT   (time, k, face, j, i_g) float32 dask.array<shape=(288, 50, 13, 90, 90), chunksize=(1, 50, 13, 90, 90)>\n",
       "    ADVx_TH    (time, k, face, j, i_g) float32 dask.array<shape=(288, 50, 13, 90, 90), chunksize=(1, 50, 13, 90, 90)>\n",
       "    ADVy_SLT   (time, k, face, j_g, i) float32 dask.array<shape=(288, 50, 13, 90, 90), chunksize=(1, 50, 13, 90, 90)>\n",
       "    ADVy_TH    (time, k, face, j_g, i) float32 dask.array<shape=(288, 50, 13, 90, 90), chunksize=(1, 50, 13, 90, 90)>\n",
       "    DFrE_SLT   (time, k_l, face, j, i) float32 dask.array<shape=(288, 50, 13, 90, 90), chunksize=(1, 50, 13, 90, 90)>\n",
       "    DFrE_TH    (time, k_l, face, j, i) float32 dask.array<shape=(288, 50, 13, 90, 90), chunksize=(1, 50, 13, 90, 90)>\n",
       "    DFrI_SLT   (time, k_l, face, j, i) float32 dask.array<shape=(288, 50, 13, 90, 90), chunksize=(1, 50, 13, 90, 90)>\n",
       "    DFrI_TH    (time, k_l, face, j, i) float32 dask.array<shape=(288, 50, 13, 90, 90), chunksize=(1, 50, 13, 90, 90)>\n",
       "    DFxE_SLT   (time, k, face, j, i_g) float32 dask.array<shape=(288, 50, 13, 90, 90), chunksize=(1, 50, 13, 90, 90)>\n",
       "    DFxE_TH    (time, k, face, j, i_g) float32 dask.array<shape=(288, 50, 13, 90, 90), chunksize=(1, 50, 13, 90, 90)>\n",
       "    DFyE_SLT   (time, k, face, j_g, i) float32 dask.array<shape=(288, 50, 13, 90, 90), chunksize=(1, 50, 13, 90, 90)>\n",
       "    DFyE_TH    (time, k, face, j_g, i) float32 dask.array<shape=(288, 50, 13, 90, 90), chunksize=(1, 50, 13, 90, 90)>\n",
       "    ETAN       (time, face, j, i) float32 dask.array<shape=(288, 13, 90, 90), chunksize=(1, 13, 90, 90)>\n",
       "    ETAN_snp   (time_snp, face, j, i) float32 dask.array<shape=(287, 13, 90, 90), chunksize=(1, 13, 90, 90)>\n",
       "    GEOFLX     (face, j, i) float32 dask.array<shape=(13, 90, 90), chunksize=(7, 90, 90)>\n",
       "    SALT       (time, k, face, j, i) float32 dask.array<shape=(288, 50, 13, 90, 90), chunksize=(1, 50, 13, 90, 90)>\n",
       "    SALT_snp   (time_snp, k, face, j, i) float32 dask.array<shape=(287, 50, 13, 90, 90), chunksize=(1, 50, 13, 90, 90)>\n",
       "    SFLUX      (time, face, j, i) float32 dask.array<shape=(288, 13, 90, 90), chunksize=(1, 13, 90, 90)>\n",
       "    TFLUX      (time, face, j, i) float32 dask.array<shape=(288, 13, 90, 90), chunksize=(1, 13, 90, 90)>\n",
       "    THETA      (time, k, face, j, i) float32 dask.array<shape=(288, 50, 13, 90, 90), chunksize=(1, 50, 13, 90, 90)>\n",
       "    THETA_snp  (time_snp, k, face, j, i) float32 dask.array<shape=(287, 50, 13, 90, 90), chunksize=(1, 50, 13, 90, 90)>\n",
       "    UVELMASS   (time, k, face, j, i_g) float32 dask.array<shape=(288, 50, 13, 90, 90), chunksize=(1, 50, 13, 90, 90)>\n",
       "    VVELMASS   (time, k, face, j_g, i) float32 dask.array<shape=(288, 50, 13, 90, 90), chunksize=(1, 50, 13, 90, 90)>\n",
       "    WVELMASS   (time, k_l, face, j, i) float32 dask.array<shape=(288, 50, 13, 90, 90), chunksize=(1, 50, 13, 90, 90)>\n",
       "    oceFWflx   (time, face, j, i) float32 dask.array<shape=(288, 13, 90, 90), chunksize=(1, 13, 90, 90)>\n",
       "    oceQsw     (time, face, j, i) float32 dask.array<shape=(288, 13, 90, 90), chunksize=(1, 13, 90, 90)>\n",
       "    oceSPtnd   (time, k, face, j, i) float32 dask.array<shape=(288, 50, 13, 90, 90), chunksize=(1, 50, 13, 90, 90)>"
      ]
     },
     "execution_count": 23,
     "metadata": {},
     "output_type": "execute_result"
    }
   ],
   "source": [
    "ecco_url = 'https://raw.githubusercontent.com/pangeo-data/pangeo-datastore/master/intake-catalogs/ocean.yaml'\n",
    "ecco_cat = intake.Catalog(ecco_url)\n",
    "ds = ecco_cat[\"ECCOv4r3\"].to_dask()\n",
    "ds"
   ]
  },
  {
   "cell_type": "code",
   "execution_count": 24,
   "metadata": {},
   "outputs": [
    {
     "data": {
      "text/plain": [
       "<xarray.Dataset>\n",
       "Dimensions:    (face: 13, i: 360, i_g: 360, j: 270, j_g: 270, k: 50, k_l: 50, k_p1: 51, k_u: 50, time: 288, time_snp: 287)\n",
       "Coordinates:\n",
       "  * time       (time) datetime64[ns] 1992-01-15 1992-02-13 ... 2015-12-14\n",
       "  * i_g        (i_g) int64 0 1 2 3 4 5 6 7 8 ... 352 353 354 355 356 357 358 359\n",
       "  * k_u        (k_u) int64 0 1 2 3 4 5 6 7 8 9 ... 40 41 42 43 44 45 46 47 48 49\n",
       "  * j_g        (j_g) int64 0 1 2 3 4 5 6 7 8 ... 262 263 264 265 266 267 268 269\n",
       "  * k_l        (k_l) int64 0 1 2 3 4 5 6 7 8 9 ... 40 41 42 43 44 45 46 47 48 49\n",
       "  * k          (k) int64 0 1 2 3 4 5 6 7 8 9 ... 40 41 42 43 44 45 46 47 48 49\n",
       "  * k_p1       (k_p1) int64 0 1 2 3 4 5 6 7 8 9 ... 42 43 44 45 46 47 48 49 50\n",
       "  * face       (face) int64 0 1 2 3 4 5 6 7 8 9 10 11 12\n",
       "  * i          (i) int64 0 1 2 3 4 5 6 7 8 ... 352 353 354 355 356 357 358 359\n",
       "  * j          (j) int64 0 1 2 3 4 5 6 7 8 ... 262 263 264 265 266 267 268 269\n",
       "  * time_snp   (time_snp) datetime64[ns] 1992-02-01 1992-03-01 ... 2015-12-01\n",
       "    Depth      (j, i) float32 dask.array<shape=(270, 360), chunksize=(90, 90)>\n",
       "    PHrefC     (k) float32 dask.array<shape=(50,), chunksize=(50,)>\n",
       "    PHrefF     (k_p1) float32 dask.array<shape=(51,), chunksize=(51,)>\n",
       "    XC         (j, i) float32 dask.array<shape=(270, 360), chunksize=(90, 90)>\n",
       "    XG         (j_g, i_g) float32 dask.array<shape=(270, 360), chunksize=(90, 90)>\n",
       "    YC         (j, i) float32 dask.array<shape=(270, 360), chunksize=(90, 90)>\n",
       "    YG         (j_g, i_g) float32 dask.array<shape=(270, 360), chunksize=(90, 90)>\n",
       "    Z          (k) float32 dask.array<shape=(50,), chunksize=(50,)>\n",
       "    Zl         (k_l) float32 dask.array<shape=(50,), chunksize=(50,)>\n",
       "    Zp1        (k_p1) float32 dask.array<shape=(51,), chunksize=(51,)>\n",
       "    Zu         (k_u) float32 dask.array<shape=(50,), chunksize=(50,)>\n",
       "    drC        (k_p1) float32 dask.array<shape=(51,), chunksize=(51,)>\n",
       "    drF        (k) float32 dask.array<shape=(50,), chunksize=(50,)>\n",
       "    hFacC      (k, j, i) float32 dask.array<shape=(50, 270, 360), chunksize=(50, 90, 90)>\n",
       "    hFacS      (k, j_g, i) float32 dask.array<shape=(50, 270, 360), chunksize=(50, 90, 90)>\n",
       "    hFacW      (k, j, i_g) float32 dask.array<shape=(50, 270, 360), chunksize=(50, 90, 90)>\n",
       "    iter       (time) int64 dask.array<shape=(288,), chunksize=(1,)>\n",
       "    iter_snp   (time_snp) int64 dask.array<shape=(287,), chunksize=(1,)>\n",
       "    rA         (j, i) float32 dask.array<shape=(270, 360), chunksize=(90, 90)>\n",
       "    rAs        (j_g, i) float32 dask.array<shape=(270, 360), chunksize=(90, 90)>\n",
       "    rAw        (j, i_g) float32 dask.array<shape=(270, 360), chunksize=(90, 90)>\n",
       "    rAz        (j_g, i_g) float32 dask.array<shape=(270, 360), chunksize=(90, 90)>\n",
       "    dxC        (j, i_g) float32 dask.array<shape=(270, 360), chunksize=(90, 90)>\n",
       "    dyC        (j_g, i) float32 dask.array<shape=(270, 360), chunksize=(1, 90)>\n",
       "    dyG        (j, i_g) float32 dask.array<shape=(270, 360), chunksize=(90, 90)>\n",
       "    dxG        (j_g, i) float32 dask.array<shape=(270, 360), chunksize=(1, 90)>\n",
       "Data variables:\n",
       "    ADVr_SLT   (time, k_l, j, i) float32 dask.array<shape=(288, 50, 270, 360), chunksize=(1, 50, 90, 90)>\n",
       "    ADVr_TH    (time, k_l, j, i) float32 dask.array<shape=(288, 50, 270, 360), chunksize=(1, 50, 90, 90)>\n",
       "    DFrE_SLT   (time, k_l, j, i) float32 dask.array<shape=(288, 50, 270, 360), chunksize=(1, 50, 90, 90)>\n",
       "    DFrE_TH    (time, k_l, j, i) float32 dask.array<shape=(288, 50, 270, 360), chunksize=(1, 50, 90, 90)>\n",
       "    DFrI_SLT   (time, k_l, j, i) float32 dask.array<shape=(288, 50, 270, 360), chunksize=(1, 50, 90, 90)>\n",
       "    DFrI_TH    (time, k_l, j, i) float32 dask.array<shape=(288, 50, 270, 360), chunksize=(1, 50, 90, 90)>\n",
       "    ETAN       (time, j, i) float32 dask.array<shape=(288, 270, 360), chunksize=(1, 90, 90)>\n",
       "    ETAN_snp   (time_snp, j, i) float32 dask.array<shape=(287, 270, 360), chunksize=(1, 90, 90)>\n",
       "    GEOFLX     (j, i) float32 dask.array<shape=(270, 360), chunksize=(90, 90)>\n",
       "    SALT       (time, k, j, i) float32 dask.array<shape=(288, 50, 270, 360), chunksize=(1, 50, 90, 90)>\n",
       "    SALT_snp   (time_snp, k, j, i) float32 dask.array<shape=(287, 50, 270, 360), chunksize=(1, 50, 90, 90)>\n",
       "    SFLUX      (time, j, i) float32 dask.array<shape=(288, 270, 360), chunksize=(1, 90, 90)>\n",
       "    TFLUX      (time, j, i) float32 dask.array<shape=(288, 270, 360), chunksize=(1, 90, 90)>\n",
       "    THETA      (time, k, j, i) float32 dask.array<shape=(288, 50, 270, 360), chunksize=(1, 50, 90, 90)>\n",
       "    THETA_snp  (time_snp, k, j, i) float32 dask.array<shape=(287, 50, 270, 360), chunksize=(1, 50, 90, 90)>\n",
       "    WVELMASS   (time, k_l, j, i) float32 dask.array<shape=(288, 50, 270, 360), chunksize=(1, 50, 90, 90)>\n",
       "    oceFWflx   (time, j, i) float32 dask.array<shape=(288, 270, 360), chunksize=(1, 90, 90)>\n",
       "    oceQsw     (time, j, i) float32 dask.array<shape=(288, 270, 360), chunksize=(1, 90, 90)>\n",
       "    oceSPtnd   (time, k, j, i) float32 dask.array<shape=(288, 50, 270, 360), chunksize=(1, 50, 90, 90)>\n",
       "    ADVx_SLT   (time, k, j, i_g) float32 dask.array<shape=(288, 50, 270, 360), chunksize=(1, 50, 90, 90)>\n",
       "    ADVy_SLT   (time, k, j_g, i) float32 dask.array<shape=(288, 50, 270, 360), chunksize=(1, 50, 1, 90)>\n",
       "    ADVx_TH    (time, k, j, i_g) float32 dask.array<shape=(288, 50, 270, 360), chunksize=(1, 50, 90, 90)>\n",
       "    ADVy_TH    (time, k, j_g, i) float32 dask.array<shape=(288, 50, 270, 360), chunksize=(1, 50, 1, 90)>\n",
       "    DFxE_SLT   (time, k, j, i_g) float32 dask.array<shape=(288, 50, 270, 360), chunksize=(1, 50, 90, 90)>\n",
       "    DFyE_SLT   (time, k, j_g, i) float32 dask.array<shape=(288, 50, 270, 360), chunksize=(1, 50, 1, 90)>\n",
       "    DFxE_TH    (time, k, j, i_g) float32 dask.array<shape=(288, 50, 270, 360), chunksize=(1, 50, 90, 90)>\n",
       "    DFyE_TH    (time, k, j_g, i) float32 dask.array<shape=(288, 50, 270, 360), chunksize=(1, 50, 1, 90)>\n",
       "    UVELMASS   (time, k, j, i_g) float32 dask.array<shape=(288, 50, 270, 360), chunksize=(1, 50, 90, 90)>\n",
       "    VVELMASS   (time, k, j_g, i) float32 dask.array<shape=(288, 50, 270, 360), chunksize=(1, 50, 1, 90)>"
      ]
     },
     "execution_count": 24,
     "metadata": {},
     "output_type": "execute_result"
    }
   ],
   "source": [
    "ds_ll = faces_dataset_to_latlon(ds)\n",
    "ds_ll"
   ]
  },
  {
   "cell_type": "code",
   "execution_count": 25,
   "metadata": {},
   "outputs": [
    {
     "data": {
      "text/plain": [
       "<xarray.Dataset>\n",
       "Dimensions:    (face: 13, i: 360, i_g: 360, j: 270, j_g: 270, k: 50, k_l: 50, k_p1: 51, k_u: 50, time: 288, time_snp: 287)\n",
       "Coordinates:\n",
       "  * time       (time) datetime64[ns] 1992-01-15 1992-02-13 ... 2015-12-14\n",
       "  * i_g        (i_g) int64 0 1 2 3 4 5 6 7 8 ... 352 353 354 355 356 357 358 359\n",
       "  * k_u        (k_u) int64 0 1 2 3 4 5 6 7 8 9 ... 40 41 42 43 44 45 46 47 48 49\n",
       "  * j_g        (j_g) int64 0 1 2 3 4 5 6 7 8 ... 262 263 264 265 266 267 268 269\n",
       "  * k_l        (k_l) int64 0 1 2 3 4 5 6 7 8 9 ... 40 41 42 43 44 45 46 47 48 49\n",
       "  * k          (k) int64 0 1 2 3 4 5 6 7 8 9 ... 40 41 42 43 44 45 46 47 48 49\n",
       "  * k_p1       (k_p1) int64 0 1 2 3 4 5 6 7 8 9 ... 42 43 44 45 46 47 48 49 50\n",
       "  * face       (face) int64 0 1 2 3 4 5 6 7 8 9 10 11 12\n",
       "  * i          (i) int64 0 1 2 3 4 5 6 7 8 ... 352 353 354 355 356 357 358 359\n",
       "  * j          (j) int64 0 1 2 3 4 5 6 7 8 ... 262 263 264 265 266 267 268 269\n",
       "  * time_snp   (time_snp) datetime64[ns] 1992-02-01 1992-03-01 ... 2015-12-01\n",
       "Data variables:\n",
       "    ADVr_SLT   (time, k_l, j, i) float32 dask.array<shape=(288, 50, 270, 360), chunksize=(1, 50, 90, 90)>\n",
       "    ADVr_TH    (time, k_l, j, i) float32 dask.array<shape=(288, 50, 270, 360), chunksize=(1, 50, 90, 90)>\n",
       "    DFrE_SLT   (time, k_l, j, i) float32 dask.array<shape=(288, 50, 270, 360), chunksize=(1, 50, 90, 90)>\n",
       "    DFrE_TH    (time, k_l, j, i) float32 dask.array<shape=(288, 50, 270, 360), chunksize=(1, 50, 90, 90)>\n",
       "    DFrI_SLT   (time, k_l, j, i) float32 dask.array<shape=(288, 50, 270, 360), chunksize=(1, 50, 90, 90)>\n",
       "    DFrI_TH    (time, k_l, j, i) float32 dask.array<shape=(288, 50, 270, 360), chunksize=(1, 50, 90, 90)>\n",
       "    ETAN       (time, j, i) float32 dask.array<shape=(288, 270, 360), chunksize=(1, 90, 90)>\n",
       "    ETAN_snp   (time_snp, j, i) float32 dask.array<shape=(287, 270, 360), chunksize=(1, 90, 90)>\n",
       "    GEOFLX     (j, i) float32 dask.array<shape=(270, 360), chunksize=(90, 90)>\n",
       "    SALT       (time, k, j, i) float32 dask.array<shape=(288, 50, 270, 360), chunksize=(1, 50, 90, 90)>\n",
       "    SALT_snp   (time_snp, k, j, i) float32 dask.array<shape=(287, 50, 270, 360), chunksize=(1, 50, 90, 90)>\n",
       "    SFLUX      (time, j, i) float32 dask.array<shape=(288, 270, 360), chunksize=(1, 90, 90)>\n",
       "    TFLUX      (time, j, i) float32 dask.array<shape=(288, 270, 360), chunksize=(1, 90, 90)>\n",
       "    THETA      (time, k, j, i) float32 dask.array<shape=(288, 50, 270, 360), chunksize=(1, 50, 90, 90)>\n",
       "    THETA_snp  (time_snp, k, j, i) float32 dask.array<shape=(287, 50, 270, 360), chunksize=(1, 50, 90, 90)>\n",
       "    WVELMASS   (time, k_l, j, i) float32 dask.array<shape=(288, 50, 270, 360), chunksize=(1, 50, 90, 90)>\n",
       "    oceFWflx   (time, j, i) float32 dask.array<shape=(288, 270, 360), chunksize=(1, 90, 90)>\n",
       "    oceQsw     (time, j, i) float32 dask.array<shape=(288, 270, 360), chunksize=(1, 90, 90)>\n",
       "    oceSPtnd   (time, k, j, i) float32 dask.array<shape=(288, 50, 270, 360), chunksize=(1, 50, 90, 90)>\n",
       "    ADVx_SLT   (time, k, j, i_g) float32 dask.array<shape=(288, 50, 270, 360), chunksize=(1, 50, 90, 90)>\n",
       "    ADVy_SLT   (time, k, j_g, i) float32 dask.array<shape=(288, 50, 270, 360), chunksize=(1, 50, 1, 90)>\n",
       "    ADVx_TH    (time, k, j, i_g) float32 dask.array<shape=(288, 50, 270, 360), chunksize=(1, 50, 90, 90)>\n",
       "    ADVy_TH    (time, k, j_g, i) float32 dask.array<shape=(288, 50, 270, 360), chunksize=(1, 50, 1, 90)>\n",
       "    DFxE_SLT   (time, k, j, i_g) float32 dask.array<shape=(288, 50, 270, 360), chunksize=(1, 50, 90, 90)>\n",
       "    DFyE_SLT   (time, k, j_g, i) float32 dask.array<shape=(288, 50, 270, 360), chunksize=(1, 50, 1, 90)>\n",
       "    DFxE_TH    (time, k, j, i_g) float32 dask.array<shape=(288, 50, 270, 360), chunksize=(1, 50, 90, 90)>\n",
       "    DFyE_TH    (time, k, j_g, i) float32 dask.array<shape=(288, 50, 270, 360), chunksize=(1, 50, 1, 90)>\n",
       "    UVELMASS   (time, k, j, i_g) float32 dask.array<shape=(288, 50, 270, 360), chunksize=(1, 50, 90, 90)>\n",
       "    VVELMASS   (time, k, j_g, i) float32 dask.array<shape=(288, 50, 270, 360), chunksize=(1, 50, 1, 90)>"
      ]
     },
     "execution_count": 25,
     "metadata": {},
     "output_type": "execute_result"
    }
   ],
   "source": [
    "# a trick to make things work a bit faster\n",
    "coords = ds_ll.coords.to_dataset().reset_coords()\n",
    "ds = ds_ll.reset_coords(drop=True)\n",
    "ds"
   ]
  },
  {
   "cell_type": "code",
   "execution_count": 26,
   "metadata": {},
   "outputs": [
    {
     "data": {
      "text/plain": [
       "<xarray.Dataset>\n",
       "Dimensions:   (face: 13, i: 360, i_g: 360, j: 270, j_g: 270, k: 50, k_l: 50, k_p1: 51, k_u: 50, time: 288, time_snp: 287)\n",
       "Coordinates:\n",
       "  * time      (time) datetime64[ns] 1992-01-15 1992-02-13 ... 2015-12-14\n",
       "  * i_g       (i_g) int64 0 1 2 3 4 5 6 7 8 ... 352 353 354 355 356 357 358 359\n",
       "  * k_u       (k_u) int64 0 1 2 3 4 5 6 7 8 9 ... 40 41 42 43 44 45 46 47 48 49\n",
       "  * j_g       (j_g) int64 0 1 2 3 4 5 6 7 8 ... 262 263 264 265 266 267 268 269\n",
       "  * k_l       (k_l) int64 0 1 2 3 4 5 6 7 8 9 ... 40 41 42 43 44 45 46 47 48 49\n",
       "  * k         (k) int64 0 1 2 3 4 5 6 7 8 9 10 ... 40 41 42 43 44 45 46 47 48 49\n",
       "  * k_p1      (k_p1) int64 0 1 2 3 4 5 6 7 8 9 ... 41 42 43 44 45 46 47 48 49 50\n",
       "  * face      (face) int64 0 1 2 3 4 5 6 7 8 9 10 11 12\n",
       "  * i         (i) int64 0 1 2 3 4 5 6 7 8 ... 352 353 354 355 356 357 358 359\n",
       "  * j         (j) int64 0 1 2 3 4 5 6 7 8 ... 262 263 264 265 266 267 268 269\n",
       "  * time_snp  (time_snp) datetime64[ns] 1992-02-01 1992-03-01 ... 2015-12-01\n",
       "Data variables:\n",
       "    rAz       (j_g, i_g) float32 dask.array<shape=(270, 360), chunksize=(90, 90)>\n",
       "    hFacS     (k, j_g, i) float32 dask.array<shape=(50, 270, 360), chunksize=(50, 90, 90)>\n",
       "    rAs       (j_g, i) float32 dask.array<shape=(270, 360), chunksize=(90, 90)>\n",
       "    iter_snp  (time_snp) int64 dask.array<shape=(287,), chunksize=(1,)>\n",
       "    XC        (j, i) float32 dask.array<shape=(270, 360), chunksize=(90, 90)>\n",
       "    Zl        (k_l) float32 dask.array<shape=(50,), chunksize=(50,)>\n",
       "    hFacW     (k, j, i_g) float32 dask.array<shape=(50, 270, 360), chunksize=(50, 90, 90)>\n",
       "    dxC       (j, i_g) float32 dask.array<shape=(270, 360), chunksize=(90, 90)>\n",
       "    Zp1       (k_p1) float32 dask.array<shape=(51,), chunksize=(51,)>\n",
       "    rA        (j, i) float32 dask.array<shape=(270, 360), chunksize=(90, 90)>\n",
       "    Zu        (k_u) float32 dask.array<shape=(50,), chunksize=(50,)>\n",
       "    drF       (k) float32 dask.array<shape=(50,), chunksize=(50,)>\n",
       "    Depth     (j, i) float32 dask.array<shape=(270, 360), chunksize=(90, 90)>\n",
       "    dyC       (j_g, i) float32 dask.array<shape=(270, 360), chunksize=(1, 90)>\n",
       "    YG        (j_g, i_g) float32 dask.array<shape=(270, 360), chunksize=(90, 90)>\n",
       "    Z         (k) float32 dask.array<shape=(50,), chunksize=(50,)>\n",
       "    XG        (j_g, i_g) float32 dask.array<shape=(270, 360), chunksize=(90, 90)>\n",
       "    hFacC     (k, j, i) float32 dask.array<shape=(50, 270, 360), chunksize=(50, 90, 90)>\n",
       "    drC       (k_p1) float32 dask.array<shape=(51,), chunksize=(51,)>\n",
       "    YC        (j, i) float32 dask.array<shape=(270, 360), chunksize=(90, 90)>\n",
       "    dyG       (j, i_g) float32 dask.array<shape=(270, 360), chunksize=(90, 90)>\n",
       "    dxG       (j_g, i) float32 dask.array<shape=(270, 360), chunksize=(1, 90)>\n",
       "    PHrefC    (k) float32 dask.array<shape=(50,), chunksize=(50,)>\n",
       "    iter      (time) int64 dask.array<shape=(288,), chunksize=(1,)>\n",
       "    rAw       (j, i_g) float32 dask.array<shape=(270, 360), chunksize=(90, 90)>\n",
       "    PHrefF    (k_p1) float32 dask.array<shape=(51,), chunksize=(51,)>"
      ]
     },
     "execution_count": 26,
     "metadata": {},
     "output_type": "execute_result"
    }
   ],
   "source": [
    "coords"
   ]
  },
  {
   "cell_type": "code",
   "execution_count": 29,
   "metadata": {},
   "outputs": [
    {
     "data": {
      "text/plain": [
       "<xarray.DataArray 'j' (j: 270)>\n",
       "array([  0,   1,   2, ..., 267, 268, 269])\n",
       "Coordinates:\n",
       "  * j        (j) int64 0 1 2 3 4 5 6 7 8 ... 261 262 263 264 265 266 267 268 269\n",
       "Attributes:\n",
       "    axis:           Y\n",
       "    long_name:      y-dimension of the t grid\n",
       "    standard_name:  y_grid_index\n",
       "    swap_dim:       YC"
      ]
     },
     "execution_count": 29,
     "metadata": {},
     "output_type": "execute_result"
    }
   ],
   "source": [
    "coords.Depth.j"
   ]
  },
  {
   "cell_type": "code",
   "execution_count": null,
   "metadata": {},
   "outputs": [],
   "source": [
    "coords.Depth.i"
   ]
  },
  {
   "cell_type": "code",
   "execution_count": null,
   "metadata": {},
   "outputs": [],
   "source": [
    "ds.THETA_snp"
   ]
  },
  {
   "cell_type": "code",
   "execution_count": null,
   "metadata": {},
   "outputs": [],
   "source": [
    "ds.THETA"
   ]
  },
  {
   "cell_type": "code",
   "execution_count": 97,
   "metadata": {},
   "outputs": [
    {
     "data": {
      "text/plain": [
       "<xarray.DataArray 'THETA' (j: 270, i: 360)>\n",
       "array([[0., 0., 0., ..., 0., 0., 0.],\n",
       "       [0., 0., 0., ..., 0., 0., 0.],\n",
       "       [0., 0., 0., ..., 0., 0., 0.],\n",
       "       ...,\n",
       "       [0., 0., 0., ..., 0., 0., 0.],\n",
       "       [0., 0., 0., ..., 0., 0., 0.],\n",
       "       [0., 0., 0., ..., 0., 0., 0.]], dtype=float32)\n",
       "Coordinates:\n",
       "    k        int64 0\n",
       "  * i        (i) int64 0 1 2 3 4 5 6 7 8 9 10 ... -10 -9 -8 -7 -6 -5 -4 -3 -2 -1\n",
       "  * j        (j) int64 0 1 2 3 4 5 6 7 8 ... 261 262 263 264 265 266 267 268 269"
      ]
     },
     "execution_count": 97,
     "metadata": {},
     "output_type": "execute_result"
    }
   ],
   "source": [
    "sst_mean_crude = ds.THETA.isel(k=0).mean(dim='time').load()\n",
    "sst_mean_crude"
   ]
  },
  {
   "cell_type": "code",
   "execution_count": 98,
   "metadata": {},
   "outputs": [
    {
     "data": {
      "text/plain": [
       "<xarray.DataArray 'i' (i: 360)>\n",
       "array([ 0,  1,  2, ..., -3, -2, -1])\n",
       "Coordinates:\n",
       "    k        int64 0\n",
       "  * i        (i) int64 0 1 2 3 4 5 6 7 8 9 10 ... -10 -9 -8 -7 -6 -5 -4 -3 -2 -1\n",
       "Attributes:\n",
       "    axis:           X\n",
       "    long_name:      x-dimension of the t grid\n",
       "    standard_name:  x_grid_index\n",
       "    swap_dim:       XC"
      ]
     },
     "execution_count": 98,
     "metadata": {},
     "output_type": "execute_result"
    }
   ],
   "source": [
    "sst_mean_crude.i"
   ]
  },
  {
   "cell_type": "code",
   "execution_count": 132,
   "metadata": {},
   "outputs": [],
   "source": [
    "surface_mask_crude = (coords.hFacC[0]>0)\n",
    "surface_mask = surface_mask.roll(i=179).load()"
   ]
  },
  {
   "cell_type": "code",
   "execution_count": 36,
   "metadata": {},
   "outputs": [
    {
     "data": {
      "image/png": "[encoded data removed]",
      "text/plain": [
       "<Figure size 864x432 with 2 Axes>"
      ]
     },
     "metadata": {
      "needs_background": "light"
     },
     "output_type": "display_data"
    }
   ],
   "source": [
    "sst_mean_crude.where(surface_mask).plot(figsize=(12,6))\n",
    "plt.grid();"
   ]
  },
  {
   "cell_type": "code",
   "execution_count": 99,
   "metadata": {},
   "outputs": [
    {
     "data": {
      "text/plain": [
       "array([  0,   1,   2,   3,   4,   5,   6,   7,   8,   9,  10,  11,  12,\n",
       "        13,  14,  15,  16,  17,  18,  19,  20,  21,  22,  23,  24,  25,\n",
       "        26,  27,  28,  29,  30,  31,  32,  33,  34,  35,  36,  37,  38,\n",
       "        39,  40,  41,  42,  43,  44,  45,  46,  47,  48,  49,  50,  51,\n",
       "        52,  53,  54,  55,  56,  57,  58,  59,  60,  61,  62,  63,  64,\n",
       "        65,  66,  67,  68,  69,  70,  71,  72,  73,  74,  75,  76,  77,\n",
       "        78,  79,  80,  81,  82,  83,  84,  85,  86,  87,  88,  89,  90,\n",
       "        91,  92,  93,  94,  95,  96,  97,  98,  99, 100, 101, 102, 103,\n",
       "       104, 105, 106, 107, 108, 109, 110, 111, 112, 113, 114, 115, 116,\n",
       "       117, 118, 119, 120, 121, 122, 123, 124, 125, 126, 127, 128, 129,\n",
       "       130, 131, 132, 133, 134, 135, 136, 137, 138, 139, 140, 141, 142,\n",
       "       143, 144, 145, 146, 147, 148, 149, 150, 151, 152, 153, 154, 155,\n",
       "       156, 157, 158, 159, 160, 161, 162, 163, 164, 165, 166, 167, 168,\n",
       "       169, 170, 171, 172, 173, 174, 175, 176, 177, 178, 179, 180, 181,\n",
       "       182, 183, 184, 185, 186, 187, 188, 189, 190, 191, 192, 193, 194,\n",
       "       195, 196, 197, 198, 199, 200, 201, 202, 203, 204, 205, 206, 207,\n",
       "       208, 209, 210, 211, 212, 213, 214, 215, 216, 217, 218, 219, 220,\n",
       "       221, 222, 223, 224, 225, 226, 227, 228, 229, 230, 231, 232, 233,\n",
       "       234, 235, 236, 237, 238, 239, 240, 241, 242, 243, 244, 245, 246,\n",
       "       247, 248, 249, 250, 251, 252, 253, 254, 255, 256, 257, 258, 259,\n",
       "       260, 261, 262, 263, 264, 265, 266, 267, 268, 269])"
      ]
     },
     "execution_count": 99,
     "metadata": {},
     "output_type": "execute_result"
    }
   ],
   "source": [
    "sst_mean_crude.j.data"
   ]
  },
  {
   "cell_type": "code",
   "execution_count": 100,
   "metadata": {},
   "outputs": [
    {
     "data": {
      "text/plain": [
       "array([   0,    1,    2,    3,    4,    5,    6,    7,    8,    9,   10,\n",
       "         11,   12,   13,   14,   15,   16,   17,   18,   19,   20,   21,\n",
       "         22,   23,   24,   25,   26,   27,   28,   29,   30,   31,   32,\n",
       "         33,   34,   35,   36,   37,   38,   39,   40,   41,   42,   43,\n",
       "         44,   45,   46,   47,   48,   49,   50,   51,   52,   53,   54,\n",
       "         55,   56,   57,   58,   59,   60,   61,   62,   63,   64,   65,\n",
       "         66,   67,   68,   69,   70,   71,   72,   73,   74,   75,   76,\n",
       "         77,   78,   79,   80,   81,   82,   83,   84,   85,   86,   87,\n",
       "         88,   89,   90,   91,   92,   93,   94,   95,   96,   97,   98,\n",
       "         99,  100,  101,  102,  103,  104,  105,  106,  107,  108,  109,\n",
       "        110,  111,  112,  113,  114,  115,  116,  117,  118,  119,  120,\n",
       "        121,  122,  123,  124,  125,  126,  127,  128,  129,  130,  131,\n",
       "        132,  133,  134,  135,  136,  137,  138,  139,  140,  141,  142,\n",
       "        143,  144,  145,  146,  147,  148,  149,  150,  151,  152,  153,\n",
       "        154,  155,  156,  157,  158,  159,  160,  161,  162,  163,  164,\n",
       "        165,  166,  167,  168,  169,  170,  171,  172,  173,  174,  175,\n",
       "        176,  177,  178,  179,  180, -179, -178, -177, -176, -175, -174,\n",
       "       -173, -172, -171, -170, -169, -168, -167, -166, -165, -164, -163,\n",
       "       -162, -161, -160, -159, -158, -157, -156, -155, -154, -153, -152,\n",
       "       -151, -150, -149, -148, -147, -146, -145, -144, -143, -142, -141,\n",
       "       -140, -139, -138, -137, -136, -135, -134, -133, -132, -131, -130,\n",
       "       -129, -128, -127, -126, -125, -124, -123, -122, -121, -120, -119,\n",
       "       -118, -117, -116, -115, -114, -113, -112, -111, -110, -109, -108,\n",
       "       -107, -106, -105, -104, -103, -102, -101, -100,  -99,  -98,  -97,\n",
       "        -96,  -95,  -94,  -93,  -92,  -91,  -90,  -89,  -88,  -87,  -86,\n",
       "        -85,  -84,  -83,  -82,  -81,  -80,  -79,  -78,  -77,  -76,  -75,\n",
       "        -74,  -73,  -72,  -71,  -70,  -69,  -68,  -67,  -66,  -65,  -64,\n",
       "        -63,  -62,  -61,  -60,  -59,  -58,  -57,  -56,  -55,  -54,  -53,\n",
       "        -52,  -51,  -50,  -49,  -48,  -47,  -46,  -45,  -44,  -43,  -42,\n",
       "        -41,  -40,  -39,  -38,  -37,  -36,  -35,  -34,  -33,  -32,  -31,\n",
       "        -30,  -29,  -28,  -27,  -26,  -25,  -24,  -23,  -22,  -21,  -20,\n",
       "        -19,  -18,  -17,  -16,  -15,  -14,  -13,  -12,  -11,  -10,   -9,\n",
       "         -8,   -7,   -6,   -5,   -4,   -3,   -2,   -1])"
      ]
     },
     "execution_count": 100,
     "metadata": {},
     "output_type": "execute_result"
    }
   ],
   "source": [
    "sst_mean_crude.i.data"
   ]
  },
  {
   "cell_type": "code",
   "execution_count": 139,
   "metadata": {},
   "outputs": [
    {
     "data": {
      "text/plain": [
       "<xarray.DataArray 'THETA' (j: 270, i: 360)>\n",
       "array([[0., 0., 0., ..., 0., 0., 0.],\n",
       "       [0., 0., 0., ..., 0., 0., 0.],\n",
       "       [0., 0., 0., ..., 0., 0., 0.],\n",
       "       ...,\n",
       "       [0., 0., 0., ..., 0., 0., 0.],\n",
       "       [0., 0., 0., ..., 0., 0., 0.],\n",
       "       [0., 0., 0., ..., 0., 0., 0.]], dtype=float32)\n",
       "Coordinates:\n",
       "    k        int64 0\n",
       "  * i        (i) int64 -179 -178 -177 -176 -175 -174 ... 175 176 177 178 179 180\n",
       "  * j        (j) int64 0 1 2 3 4 5 6 7 8 ... 261 262 263 264 265 266 267 268 269"
      ]
     },
     "execution_count": 139,
     "metadata": {},
     "output_type": "execute_result"
    }
   ],
   "source": [
    "#rolling lon to start from negative to positive\n",
    "sst_mean = sst_mean_crude.roll(i=179)\n",
    "sst_mean"
   ]
  },
  {
   "cell_type": "code",
   "execution_count": 140,
   "metadata": {},
   "outputs": [
    {
     "data": {
      "text/plain": [
       "<matplotlib.collections.QuadMesh at 0x7f6354589630>"
      ]
     },
     "execution_count": 140,
     "metadata": {},
     "output_type": "execute_result"
    },
    {
     "data": {
      "image/png": "[encoded data removed]",
      "text/plain": [
       "<Figure size 432x288 with 2 Axes>"
      ]
     },
     "metadata": {
      "needs_background": "light"
     },
     "output_type": "display_data"
    }
   ],
   "source": [
    "sst_mean_wg = sst_mean.sel(i=slice(-30, 50), j=slice(30, 80))\n",
    "sst_mean_wg.where(surface_mask).plot()"
   ]
  },
  {
   "cell_type": "code",
   "execution_count": 141,
   "metadata": {},
   "outputs": [
    {
     "data": {
      "text/plain": [
       "<matplotlib.collections.QuadMesh at 0x7f6354520d68>"
      ]
     },
     "execution_count": 141,
     "metadata": {},
     "output_type": "execute_result"
    },
    {
     "data": {
      "image/png": "[encoded data removed]",
      "text/plain": [
       "<Figure size 864x432 with 2 Axes>"
      ]
     },
     "metadata": {
      "needs_background": "light"
     },
     "output_type": "display_data"
    }
   ],
   "source": [
    "sst_mean.sel(i=slice(-30, 50), j=slice(30, 80)).plot(figsize=(12,6))"
   ]
  },
  {
   "cell_type": "code",
   "execution_count": 166,
   "metadata": {},
   "outputs": [
    {
     "data": {
      "text/plain": [
       "<matplotlib.collections.QuadMesh at 0x7f6353a64048>"
      ]
     },
     "execution_count": 166,
     "metadata": {},
     "output_type": "execute_result"
    },
    {
     "data": {
      "image/png": "[encoded data removed]",
      "text/plain": [
       "<Figure size 864x432 with 2 Axes>"
      ]
     },
     "metadata": {
      "needs_background": "light"
     },
     "output_type": "display_data"
    }
   ],
   "source": [
    "sst_mean.where(surface_mask).sel(i=slice(-25, 30), j=slice(38, 74)).plot(figsize=(12,6))"
   ]
  },
  {
   "cell_type": "code",
   "execution_count": 170,
   "metadata": {},
   "outputs": [
    {
     "data": {
      "text/plain": [
       "<xarray.DataArray 'j' (j: 270)>\n",
       "array([  0,   1,   2, ..., 267, 268, 269])\n",
       "Coordinates:\n",
       "    k        int64 0\n",
       "  * j        (j) int64 0 1 2 3 4 5 6 7 8 ... 261 262 263 264 265 266 267 268 269\n",
       "Attributes:\n",
       "    axis:           Y\n",
       "    long_name:      y-dimension of the t grid\n",
       "    standard_name:  y_grid_index\n",
       "    swap_dim:       YC"
      ]
     },
     "execution_count": 170,
     "metadata": {},
     "output_type": "execute_result"
    }
   ],
   "source": [
    "sst_mean.j.data"
   ]
  },
  {
   "cell_type": "code",
   "execution_count": 184,
   "metadata": {},
   "outputs": [],
   "source": [
    "left_i = -24\n",
    "right_i = 30\n",
    "upper_j = 74\n",
    "lower_j = 38"
   ]
  },
  {
   "cell_type": "code",
   "execution_count": 196,
   "metadata": {},
   "outputs": [
    {
     "data": {
      "image/png": "[encoded data removed]",
      "text/plain": [
       "<Figure size 1080x576 with 2 Axes>"
      ]
     },
     "metadata": {
      "needs_background": "light"
     },
     "output_type": "display_data"
    }
   ],
   "source": [
    "fig, ax = plt.subplots(figsize=(15, 8), subplot_kw={'facecolor': '0.5'})\n",
    "sst_mean.where(surface_mask).plot(ax=ax,  vmin=-2, vmax=10)\n",
    "ax.plot([left_i, right_i], [upper_j, upper_j], color='k')\n",
    "ax.plot([right_i, right_i], [lower_j, upper_j], color='k')\n",
    "ax.plot([left_i, left_i], [lower_j, upper_j], color='k')\n",
    "ax.plot([left_i, right_i], [lower_j, lower_j], color='k')\n",
    "\n",
    "ax.set_xlim([-40, 55])\n",
    "ax.set_ylim([25, 85])\n",
    "plt.title('SST\\nLat[-71.5, -65.5]\\nLon[-62, 30]');"
   ]
  },
  {
   "cell_type": "code",
   "execution_count": 207,
   "metadata": {},
   "outputs": [],
   "source": [
    "#set the boundaries\n",
    "lat_range = dict(j=slice(lower_j, upper_j))\n",
    "lon_range = dict(i=slice(left_i, right_i))"
   ]
  },
  {
   "cell_type": "code",
   "execution_count": 199,
   "metadata": {},
   "outputs": [
    {
     "data": {
      "text/plain": [
       "<xarray.DataArray 'ADVr_TH' (time: 288, k_l: 50, i: 360)>\n",
       "dask.array<shape=(288, 50, 360), dtype=float32, chunksize=(1, 50, 90)>\n",
       "Coordinates:\n",
       "  * time     (time) datetime64[ns] 1992-01-15 1992-02-13 ... 2015-12-14\n",
       "  * k_l      (k_l) int64 0 1 2 3 4 5 6 7 8 9 ... 40 41 42 43 44 45 46 47 48 49\n",
       "  * i        (i) int64 0 1 2 3 4 5 6 7 8 9 10 ... -10 -9 -8 -7 -6 -5 -4 -3 -2 -1\n",
       "    j        int64 74\n",
       "Attributes:\n",
       "    long_name:      Vertical   Advective Flux of Pot.Temperature\n",
       "    standard_name:  ADVr_TH\n",
       "    units:          degC.m^3/s"
      ]
     },
     "execution_count": 199,
     "metadata": {},
     "output_type": "execute_result"
    }
   ],
   "source": [
    "ds.ADVr_TH.sel(j=upper_j, method='nearest')"
   ]
  },
  {
   "cell_type": "code",
   "execution_count": 204,
   "metadata": {},
   "outputs": [
    {
     "data": {
      "text/plain": [
       "<xarray.DataArray 'ADVy_TH' (time: 288, k: 50, j_g: 270, i: 360)>\n",
       "dask.array<shape=(288, 50, 270, 360), dtype=float32, chunksize=(1, 50, 1, 90)>\n",
       "Coordinates:\n",
       "  * time     (time) datetime64[ns] 1992-01-15 1992-02-13 ... 2015-12-14\n",
       "  * j_g      (j_g) int64 0 1 2 3 4 5 6 7 8 ... 262 263 264 265 266 267 268 269\n",
       "  * k        (k) int64 0 1 2 3 4 5 6 7 8 9 10 ... 40 41 42 43 44 45 46 47 48 49\n",
       "  * i        (i) int64 0 1 2 3 4 5 6 7 8 9 10 ... -10 -9 -8 -7 -6 -5 -4 -3 -2 -1\n",
       "Attributes:\n",
       "    long_name:      Meridional Advective Flux of Pot.Temperature\n",
       "    mate:           ADVx_TH\n",
       "    standard_name:  ADVy_TH\n",
       "    units:          degC.m^3/s"
      ]
     },
     "execution_count": 204,
     "metadata": {},
     "output_type": "execute_result"
    }
   ],
   "source": [
    "ds.ADVy_TH"
   ]
  },
  {
   "cell_type": "code",
   "execution_count": 205,
   "metadata": {},
   "outputs": [
    {
     "data": {
      "text/plain": [
       "<xarray.DataArray 'ADVx_TH' (time: 288, k: 50, j: 270, i_g: 360)>\n",
       "dask.array<shape=(288, 50, 270, 360), dtype=float32, chunksize=(1, 50, 90, 90)>\n",
       "Coordinates:\n",
       "  * time     (time) datetime64[ns] 1992-01-15 1992-02-13 ... 2015-12-14\n",
       "  * i_g      (i_g) int64 0 1 2 3 4 5 6 7 8 ... 352 353 354 355 356 357 358 359\n",
       "  * k        (k) int64 0 1 2 3 4 5 6 7 8 9 10 ... 40 41 42 43 44 45 46 47 48 49\n",
       "  * j        (j) int64 0 1 2 3 4 5 6 7 8 ... 261 262 263 264 265 266 267 268 269\n",
       "Attributes:\n",
       "    long_name:      Zonal      Advective Flux of Pot.Temperature\n",
       "    mate:           ADVy_TH\n",
       "    standard_name:  ADVx_TH\n",
       "    units:          degC.m^3/s"
      ]
     },
     "execution_count": 205,
     "metadata": {},
     "output_type": "execute_result"
    }
   ],
   "source": [
    "ds.ADVx_TH"
   ]
  },
  {
   "cell_type": "code",
   "execution_count": 208,
   "metadata": {},
   "outputs": [
    {
     "data": {
      "text/plain": [
       "<xarray.DataArray (time: 288)>\n",
       "array([ 4157085.5,  3734443.5,  3715589.2, ..., -1848531.2, -1857463.8,\n",
       "       -2469476.2], dtype=float32)\n",
       "Coordinates:\n",
       "  * time     (time) datetime64[ns] 1992-01-15 1992-02-13 ... 2015-12-14\n",
       "    i_g      int64 30\n",
       "    j_g      int64 74"
      ]
     },
     "execution_count": 208,
     "metadata": {},
     "output_type": "execute_result"
    }
   ],
   "source": [
    "#advective flux\n",
    "adv_flux_y = ds.ADVy_TH.sel(**lon_range).sel(j_g=upper_j, method='nearest').sum(dim=['i', 'k']).load()\n",
    "adv_flux_x = ds.ADVx_TH.sel(**lat_range).sel(i_g=right_i, method='nearest').sum(dim=['j', 'k']).load()\n",
    "adv_flux = adv_flux_x + adv_flux_y\n",
    "adv_flux.load()\n",
    "#units: (˚C m^3)/s"
   ]
  },
  {
   "cell_type": "code",
   "execution_count": 212,
   "metadata": {},
   "outputs": [
    {
     "data": {
      "text/plain": [
       "<xarray.DataArray (time: 288)>\n",
       "array([-117970.16 , -122181.945, -132222.03 , ...,  -84748.29 ,  -83771.56 ,\n",
       "        -49667.133], dtype=float32)\n",
       "Coordinates:\n",
       "  * time     (time) datetime64[ns] 1992-01-15 1992-02-13 ... 2015-12-14\n",
       "    i_g      int64 30\n",
       "    j_g      int64 0"
      ]
     },
     "execution_count": 212,
     "metadata": {},
     "output_type": "execute_result"
    }
   ],
   "source": [
    "#diffusive flux\n",
    "diff_flux_y = ds.DFyE_TH.sel(**lon_range).sel(j_g=upper_lat, method='nearest').sum(dim=['i', 'k']).load()\n",
    "diff_flux_x = ds.DFxE_TH.sel(**lat_range).sel(i_g=right_i, method='nearest').sum(dim=['j', 'k']).load()\n",
    "diff_flux = diff_flux_x + diff_flux_y\n",
    "diff_flux.load()\n",
    "#units: (˚C m^3)/s"
   ]
  },
  {
   "cell_type": "code",
   "execution_count": 214,
   "metadata": {},
   "outputs": [
    {
     "data": {
      "text/plain": [
       "<xarray.DataArray (time: 288)>\n",
       "array([0., 0., 0., ..., 0., 0., 0.], dtype=float32)\n",
       "Coordinates:\n",
       "  * time     (time) datetime64[ns] 1992-01-15 1992-02-13 ... 2015-12-14"
      ]
     },
     "execution_count": 214,
     "metadata": {},
     "output_type": "execute_result"
    }
   ],
   "source": [
    "#vertical flux\n",
    "t_flux_z = (ds.TFLUX.sel(**lat_range, **lon_range) * coords.rA).sum(dim=['i','j'])\n",
    "t_flux_z.load()\n",
    "#units: W = (kg*m^2)/s^3"
   ]
  },
  {
   "cell_type": "code",
   "execution_count": null,
   "metadata": {},
   "outputs": [],
   "source": []
  }
 ],
 "metadata": {
  "kernelspec": {
   "display_name": "Python 3",
   "language": "python",
   "name": "python3"
  },
  "language_info": {
   "codemirror_mode": {
    "name": "ipython",
    "version": 3
   },
   "file_extension": ".py",
   "mimetype": "text/x-python",
   "name": "python",
   "nbconvert_exporter": "python",
   "pygments_lexer": "ipython3",
   "version": "3.6.7"
  }
 },
 "nbformat": 4,
 "nbformat_minor": 2
}
