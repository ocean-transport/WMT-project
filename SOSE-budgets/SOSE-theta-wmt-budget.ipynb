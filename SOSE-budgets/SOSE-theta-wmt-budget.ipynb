{
 "cells": [
  {
   "cell_type": "markdown",
   "metadata": {},
   "source": [
    "# WMT - $\\theta$ budget using xhistogram"
   ]
  },
  {
   "cell_type": "code",
   "execution_count": null,
   "metadata": {},
   "outputs": [],
   "source": [
    "import dask\n",
    "import dask.array as dsa\n",
    "import gcsfs\n",
    "import gsw\n",
    "from matplotlib import pyplot as plt\n",
    "import numpy as np\n",
    "%matplotlib inline\n",
    "import xarray as xr\n",
    "#import cartopy.crs as ccrs #cartopy coord ref sys\n",
    "#import cartopy\n",
    "#import cartopy.feature as cfeature"
   ]
  },
  {
   "cell_type": "raw",
   "metadata": {},
   "source": [
    "ocean_url = 'https://raw.githubusercontent.com/pangeo-data/pangeo-datastore/master/intake-catalogs/ocean.yaml'\n",
    "ocean_cat = intake.Catalog(ocean_url)\n",
    "ds_raw_coords = ocean_cat[\"SOSE\"].to_dask()\n",
    "ds_raw_coords"
   ]
  },
  {
   "cell_type": "raw",
   "metadata": {},
   "source": [
    "coords = ds_raw_coords.coords.to_dataset().reset_coords() #ds split into coords\n",
    "ds = ds_raw_coords.reset_coords(drop=True) #ds dropping coords so it just holds data variables\n",
    "ds"
   ]
  },
  {
   "cell_type": "code",
   "execution_count": null,
   "metadata": {},
   "outputs": [],
   "source": [
    "#loading flux ds\n",
    "ds_tmp = xr.open_zarr(gcsfs.GCSMap('pangeo-tmp/stb2145/SOSE/budget_th.zarr'))\n",
    "\n",
    "#loading surface term ds\n",
    "ds_tmp_surf_terms = xr.open_zarr(gcsfs.GCSMap('pangeo-tmp/stb2145/SOSE/budget_surf_th.zarr'))\n",
    "\n",
    "#loading theta and salt ds\n",
    "t_s = xr.open_zarr(gcsfs.GCSMap('pangeo-tmp/stb2145/SOSE/t_s.zarr'))"
   ]
  },
  {
   "cell_type": "code",
   "execution_count": null,
   "metadata": {},
   "outputs": [],
   "source": [
    "#merging datasets to be organized\n",
    "ds = xr.merge([ds_tmp, ds_tmp_surf_terms, t_s])\n",
    "ds"
   ]
  },
  {
   "cell_type": "code",
   "execution_count": null,
   "metadata": {},
   "outputs": [],
   "source": [
    "#rechunking by `chunksize=ds.shape` of each variable so xhistogram can be happy\n",
    "ds = ds.chunk({'XC': -1, 'YC': -1, 'Z': -1})\n",
    "ds"
   ]
  },
  {
   "cell_type": "markdown",
   "metadata": {},
   "source": [
    "## Tracer Budgets\n",
    "\n",
    "Here we will do the heat and salt budgets for SOSE. In integral form, these budgets can be written as\n",
    "\n",
    "$$\n",
    "\\mathcal{V} \\frac{\\partial S}{\\partial t} = G^S_{adv} + G^S_{diff} + G^S_{surf} + G^S_{linfs}\n",
    "$$\n",
    "\n",
    "\n",
    "$$\n",
    "\\mathcal{V} \\frac{\\partial \\theta}{\\partial t} = G^\\theta_{adv} + G^\\theta_{diff} + G^\\theta_{surf} + G^\\theta_{linfs} + G^\\theta_{sw}\n",
    "$$\n",
    "\n",
    "where $\\mathcal{V}$ is the volume of the grid cell. The terms on the right-hand side are called _tendencies_. They add up to the total tendency (the left hand side).\n",
    "\n",
    "The first term is the convergence of advective fluxes. The second is the convergence of diffusive fluxes. The third is the explicit surface flux. The fourth is the correction due to the linear free-surface approximation. The fifth is shortwave penetration (only for temperature).\n",
    "\n",
    "### Flux Divergence\n",
    "\n",
    "First we define a function to calculate the convergence of the advective and diffusive fluxes, since this has to be repeated for both tracers."
   ]
  },
  {
   "cell_type": "markdown",
   "metadata": {},
   "source": [
    "**Do I need to `grid.diff(ds.THETA)`? I don't think so because we don't want to find the difference between each cell point for temperature right? Unless... we want to do that to make theta on the same coord as all the other fluxes**"
   ]
  },
  {
   "cell_type": "code",
   "execution_count": null,
   "metadata": {},
   "outputs": [],
   "source": [
    "from xhistogram.xarray import histogram\n",
    "#histogram?"
   ]
  },
  {
   "cell_type": "code",
   "execution_count": null,
   "metadata": {},
   "outputs": [],
   "source": [
    "theta_bins = np.arange(-2, 30, 0.5)\n",
    "theta_bins"
   ]
  },
  {
   "cell_type": "raw",
   "metadata": {},
   "source": [
    "def hist_var(direction, tendency, suffix):\n",
    "    \"\"\"Compute histogram of `tendency` flux of tracer `suffix`\n",
    "    where `tendency` is `ADV` or `DIFF`, `suffix` is `TH` or `SLT`,\n",
    "    and `direction` is `horiz` or `vert`. Return a new xarray.Dataset.\"\"\"\n",
    "    \n",
    "    hist_var = []\n",
    "    \n",
    "    for var in ds.data_vars:\n",
    "        var = 'conv_' + direction + '_' + tendency + '_flux_' + suffix\n",
    "        hist_var[var] = histogram(ds.THETA, bins=[theta_bins], weights=ds[var], dim=['XC', 'YC', 'Z'])\n",
    "    return hist_var"
   ]
  },
  {
   "cell_type": "code",
   "execution_count": null,
   "metadata": {},
   "outputs": [],
   "source": [
    "def hist_var(direction, tendency, suffix):\n",
    "    \"\"\"Compute histogram of `tendency` flux of tracer `suffix`\n",
    "    where `tendency` is `ADV` or `DIFF`, `suffix` is `TH` or `SLT`,\n",
    "    and `direction` is `horiz` or `vert`. Return a new xarray.Dataset.\"\"\"\n",
    "    \n",
    "    var = 'conv_' + direction + '_' + tendency + '_flux_' + suffix\n",
    "    hist_var = histogram(ds.THETA, bins=[theta_bins], weights=ds[var], dim=['XC', 'YC', 'Z'])\n",
    "    return hist_var"
   ]
  },
  {
   "cell_type": "code",
   "execution_count": null,
   "metadata": {},
   "outputs": [],
   "source": [
    "adv_vert_hist = hist_var('vert', 'adv', 'TH').load()\n",
    "adv_horiz_hist = hist_var('horiz', 'adv', 'TH').load()\n",
    "diff_vert_hist = hist_var('vert', 'diff', 'TH').load()\n",
    "diff_horiz_hist = hist_var('horiz', 'diff', 'TH').load()"
   ]
  },
  {
   "cell_type": "code",
   "execution_count": null,
   "metadata": {},
   "outputs": [],
   "source": [
    "surf_flux_hist = histogram(ds.THETA, bins=[theta_bins], weights=ds.surface_flux_conv_TH, dim=['XC', 'YC', 'Z']).load()\n",
    "lin_fs_hist = histogram(ds.THETA, bins=[theta_bins], weights=ds.lin_fs_correction_TH, dim=['XC', 'YC', 'Z']).load()\n",
    "sw_hist = histogram(ds.THETA, bins=[theta_bins], weights=ds.sw_flux_conv_TH, dim=['XC', 'YC', 'Z']).load()"
   ]
  },
  {
   "cell_type": "code",
   "execution_count": null,
   "metadata": {},
   "outputs": [],
   "source": [
    "ds_hist = xr.merge([adv_horiz_hist.rename('adv_horiz_hist'), \n",
    "                    adv_vert_hist.rename('adv_vert_hist'),\n",
    "                    diff_horiz_hist.rename('diff_horiz_hist'),\n",
    "                    diff_vert_hist.rename('diff_vert_hist'),\n",
    "                    surf_flux_hist.rename('surf_flux_hist'),\n",
    "                    lin_fs_hist.rename('lin_fs_hist'),\n",
    "                    sw_hist.rename('sw_hist')])\n",
    "ds_hist"
   ]
  },
  {
   "cell_type": "markdown",
   "metadata": {},
   "source": [
    "**How do I sum the variables in a dataset together and return a data array with same dimensions?**"
   ]
  },
  {
   "cell_type": "raw",
   "metadata": {},
   "source": [
    "total_tendency_hist = ds_hist.adv_horiz_hist\n",
    "for var in ds_hist:\n",
    "    total_tendency_hist[:,:] = total_tendency_hist[:,:] + ds_hist[var][:,:]"
   ]
  },
  {
   "cell_type": "raw",
   "metadata": {},
   "source": [
    "total_tendency_hist"
   ]
  },
  {
   "cell_type": "code",
   "execution_count": null,
   "metadata": {},
   "outputs": [],
   "source": [
    "total_tendency_hist = (ds_hist.adv_horiz_hist + ds_hist.adv_vert_hist + \n",
    "                       ds_hist.diff_horiz_hist + ds_hist.diff_vert_hist +\n",
    "                       ds_hist.surf_flux_hist + ds_hist.lin_fs_hist + \n",
    "                       ds_hist.sw_hist)"
   ]
  },
  {
   "cell_type": "code",
   "execution_count": null,
   "metadata": {},
   "outputs": [],
   "source": [
    "ds_hist['total_tendency_hist'] = total_tendency_hist"
   ]
  },
  {
   "cell_type": "code",
   "execution_count": null,
   "metadata": {},
   "outputs": [],
   "source": [
    "fig, axes = plt.subplots(nrows=4, ncols=2, sharex=True, figsize=(14,14))\n",
    "\n",
    "ds_hist.adv_horiz_hist.transpose().plot(ax=axes[0,0], cmap='seismic')\n",
    "ds_hist.diff_horiz_hist.transpose().plot(ax=axes[0,1], cmap='seismic')\n",
    "ds_hist.adv_vert_hist.transpose().plot(ax=axes[1,0], cmap='seismic')\n",
    "ds_hist.diff_vert_hist.transpose().plot(ax=axes[1,1], cmap='seismic')\n",
    "ds_hist.surf_flux_hist.transpose().plot(ax=axes[2,0], cmap='seismic')\n",
    "ds_hist.lin_fs_hist.transpose().plot(ax=axes[2,1], cmap='seismic')\n",
    "ds_hist.sw_hist.transpose().plot(ax=axes[3,0], cmap='seismic')\n",
    "ds_hist.total_tendency_hist.transpose().plot(ax=axes[3,1], cmap='seismic')\n",
    "\n",
    "fig.suptitle('Tendency terms binned', fontsize=18, fontweight='bold')\n",
    "\n",
    "axes[0,0].title.set_text('Horizontal Advective Flux Term')\n",
    "axes[0,1].title.set_text('Horizontal Diffusive Flux Term')\n",
    "axes[1,0].title.set_text('Vertical Advective Flux Term')\n",
    "axes[1,1].title.set_text('Vertical Diffusive Flux Term')\n",
    "axes[2,0].title.set_text('Surface Flux Term')\n",
    "axes[2,1].title.set_text('Linear free-surface correction Term')\n",
    "axes[3,0].title.set_text('Shortwave Term')\n",
    "axes[3,1].title.set_text('Total Tendency Term')\n",
    "\n",
    "plt.show() #this seems to work to make suptitle displayed neatly above\n",
    "plt.tight_layout();"
   ]
  },
  {
   "cell_type": "markdown",
   "metadata": {},
   "source": [
    "#### Notes:\n",
    "- red colors/positive values represent temperature getting warmer and negative (blue) values represent temperature getting cooler (refer to figure Ryan drew on board and you copied down in 12/16/19 notes). To see if the temperature-watermass is growing in volume or not is to look at total tendency term. Individual terms won't tell you if watermass is growing or not, only their respective influence on its temperature profile.\n",
    "- easier to look at time average first then look at temporal variability\n",
    "- add air-sea flux (lin_fs_correction, surface_terms, sw_term)\n",
    "- **Don't forget about ECCO!**"
   ]
  },
  {
   "cell_type": "markdown",
   "metadata": {},
   "source": [
    "## Entire WG column budget"
   ]
  },
  {
   "cell_type": "code",
   "execution_count": null,
   "metadata": {},
   "outputs": [],
   "source": [
    "lower_lat = 0\n",
    "upper_lat = 78\n",
    "left_lon = 1788\n",
    "right_lon = 2159"
   ]
  },
  {
   "cell_type": "code",
   "execution_count": null,
   "metadata": {},
   "outputs": [],
   "source": [
    "#set the boundaries\n",
    "lat_range = dict(YC=slice(lower_lat, upper_lat))\n",
    "lon_range = dict(XC=slice(left_lon, right_lon))"
   ]
  },
  {
   "cell_type": "code",
   "execution_count": null,
   "metadata": {},
   "outputs": [],
   "source": [
    "ds_wg = ds.isel(**lat_range, **lon_range)\n",
    "ds_wg"
   ]
  },
  {
   "cell_type": "code",
   "execution_count": null,
   "metadata": {},
   "outputs": [],
   "source": [
    "def hist_var(direction, tendency, suffix):\n",
    "    \"\"\"Compute histogram of `tendency` flux of tracer `suffix`\n",
    "    where `tendency` is `ADV` or `DIFF`, `suffix` is `TH` or `SLT`,\n",
    "    and `direction` is `horiz` or `vert`. Return a new xarray.Dataset.\"\"\"\n",
    "    \n",
    "    var = 'conv_' + direction + '_' + tendency + '_flux_' + suffix\n",
    "    hist_var = histogram(ds_wg.THETA, bins=[theta_bins], weights=ds_wg[var], \n",
    "                         dim=['XC', 'YC', 'Z'])\n",
    "    return hist_var"
   ]
  },
  {
   "cell_type": "code",
   "execution_count": null,
   "metadata": {},
   "outputs": [],
   "source": [
    "adv_vert_hist_wg = hist_var('vert', 'adv', 'TH').load()\n",
    "adv_horiz_hist_wg = hist_var('horiz', 'adv', 'TH').load()\n",
    "diff_vert_hist_wg = hist_var('vert', 'diff', 'TH').load()\n",
    "diff_horiz_hist_wg = hist_var('horiz', 'diff', 'TH').load()"
   ]
  },
  {
   "cell_type": "code",
   "execution_count": null,
   "metadata": {},
   "outputs": [],
   "source": [
    "surf_flux_hist_wg = histogram(ds_wg.THETA, bins=[theta_bins], \n",
    "                              weights=ds_wg.surface_flux_conv_TH, dim=['XC', 'YC', 'Z']).load()\n",
    "lin_fs_hist_wg = histogram(ds_wg.THETA, bins=[theta_bins], \n",
    "                           weights=ds_wg.lin_fs_correction_TH, dim=['XC', 'YC', 'Z']).load()\n",
    "sw_hist_wg = histogram(ds_wg.THETA, bins=[theta_bins], \n",
    "                       weights=ds_wg.sw_flux_conv_TH, dim=['XC', 'YC', 'Z']).load()"
   ]
  },
  {
   "cell_type": "code",
   "execution_count": null,
   "metadata": {},
   "outputs": [],
   "source": [
    "tot_tend_truth_hist_wg = histogram(ds_wg.THETA, bins=[theta_bins],\n",
    "                                   weights=ds_wg.total_tendency_TH_truth, dim=['XC', 'YC', 'Z']).load()"
   ]
  },
  {
   "cell_type": "code",
   "execution_count": null,
   "metadata": {},
   "outputs": [],
   "source": [
    "ds_hist_wg = xr.merge([adv_horiz_hist_wg.rename('adv_horiz_hist_wg'), \n",
    "                       adv_vert_hist_wg.rename('adv_vert_hist_wg'),\n",
    "                       diff_horiz_hist_wg.rename('diff_horiz_hist_wg'),\n",
    "                       diff_vert_hist_wg.rename('diff_vert_hist_wg'),\n",
    "                       surf_flux_hist_wg.rename('surf_flux_hist_wg'),\n",
    "                       lin_fs_hist_wg.rename('lin_fs_hist_wg'),\n",
    "                       sw_hist_wg.rename('sw_hist_wg'),\n",
    "                       tot_tend_truth_hist_wg.rename('tot_tend_truth_hist_wg')])\n",
    "ds_hist_wg"
   ]
  },
  {
   "cell_type": "code",
   "execution_count": null,
   "metadata": {},
   "outputs": [],
   "source": [
    "tot_tend_hist_wg = (ds_hist_wg.adv_horiz_hist_wg + ds_hist_wg.adv_vert_hist_wg + \n",
    "                    ds_hist_wg.diff_horiz_hist_wg + ds_hist_wg.diff_vert_hist_wg +\n",
    "                    ds_hist_wg.surf_flux_hist_wg + ds_hist_wg.lin_fs_hist_wg + \n",
    "                    ds_hist_wg.sw_hist_wg)"
   ]
  },
  {
   "cell_type": "code",
   "execution_count": null,
   "metadata": {},
   "outputs": [],
   "source": [
    "ds_hist_wg['tot_tend_hist_wg'] = tot_tend_hist_wg"
   ]
  },
  {
   "cell_type": "code",
   "execution_count": null,
   "metadata": {},
   "outputs": [],
   "source": [
    "ds_hist_wg"
   ]
  },
  {
   "cell_type": "code",
   "execution_count": null,
   "metadata": {},
   "outputs": [],
   "source": [
    "fig, axes = plt.subplots(nrows=4, ncols=2, sharex=True, figsize=(14,14))\n",
    "\n",
    "ds_hist_wg.adv_horiz_hist_wg.transpose().plot(ax=axes[0,0], cmap='seismic')\n",
    "ds_hist_wg.diff_horiz_hist_wg.transpose().plot(ax=axes[0,1], cmap='seismic')\n",
    "ds_hist_wg.adv_vert_hist_wg.transpose().plot(ax=axes[1,0], cmap='seismic')\n",
    "ds_hist_wg.diff_vert_hist_wg.transpose().plot(ax=axes[1,1], cmap='seismic')\n",
    "ds_hist_wg.surf_flux_hist_wg.transpose().plot(ax=axes[2,0], cmap='seismic')\n",
    "ds_hist_wg.lin_fs_hist_wg.transpose().plot(ax=axes[2,1], cmap='seismic')\n",
    "ds_hist_wg.sw_hist_wg.transpose().plot(ax=axes[3,0], cmap='seismic')\n",
    "ds_hist_wg.tot_tend_hist_wg.transpose().plot(ax=axes[3,1], cmap='seismic')\n",
    "\n",
    "axes[0,0].set_ylim(-2, 5)\n",
    "axes[0,1].set_ylim(-2, 5)\n",
    "axes[1,0].set_ylim(-2, 5)\n",
    "axes[1,1].set_ylim(-2, 5)\n",
    "axes[2,0].set_ylim(-2, 5)\n",
    "axes[2,1].set_ylim(-2, 5)\n",
    "axes[3,0].set_ylim(-2, 5)\n",
    "axes[3,1].set_ylim(-2, 5)\n",
    "\n",
    "fig.suptitle('Tendency terms binned in WG region', fontsize=18, fontweight='bold')\n",
    "\n",
    "axes[0,0].title.set_text('Horizontal Advective Flux Term')\n",
    "axes[0,1].title.set_text('Horizontal Diffusive Flux Term')\n",
    "axes[1,0].title.set_text('Vertical Advective Flux Term')\n",
    "axes[1,1].title.set_text('Vertical Diffusive Flux Term')\n",
    "axes[2,0].title.set_text('Surface Flux Term')\n",
    "axes[2,1].title.set_text('Linear free-surface correction Term')\n",
    "axes[3,0].title.set_text('Shortwave Term')\n",
    "axes[3,1].title.set_text('Total Tendency Term')\n",
    "\n",
    "plt.show() #this seems to work to make suptitle displayed neatly above\n",
    "plt.tight_layout();"
   ]
  },
  {
   "cell_type": "markdown",
   "metadata": {},
   "source": [
    "#### Time-Avged"
   ]
  },
  {
   "cell_type": "code",
   "execution_count": null,
   "metadata": {},
   "outputs": [],
   "source": [
    "ds_hist_wg_mean = ds_hist_wg.mean(dim='time')\n",
    "ds_hist_wg_mean"
   ]
  },
  {
   "cell_type": "code",
   "execution_count": null,
   "metadata": {},
   "outputs": [],
   "source": [
    "fig, axes = plt.subplots(nrows=4, ncols=2, sharex=True, figsize=(14,14))\n",
    "\n",
    "ds_hist_wg_mean.adv_horiz_hist_wg.transpose().plot(ax=axes[0,0])#, cmap='seismic')\n",
    "ds_hist_wg_mean.diff_horiz_hist_wg.transpose().plot(ax=axes[0,1])#, cmap='seismic')\n",
    "ds_hist_wg_mean.adv_vert_hist_wg.transpose().plot(ax=axes[1,0])#, cmap='seismic')\n",
    "ds_hist_wg_mean.diff_vert_hist_wg.transpose().plot(ax=axes[1,1])#, cmap='seismic')\n",
    "ds_hist_wg_mean.surf_flux_hist_wg.transpose().plot(ax=axes[2,0])#, cmap='seismic')\n",
    "ds_hist_wg_mean.lin_fs_hist_wg.transpose().plot(ax=axes[2,1])#, cmap='seismic')\n",
    "ds_hist_wg_mean.sw_hist_wg.transpose().plot(ax=axes[3,0])#, cmap='seismic')\n",
    "ds_hist_wg_mean.tot_tend_hist_wg.transpose().plot(ax=axes[3,1])#, cmap='seismic')\n",
    "\n",
    "#axes[0,0].set_ylim(-2, 5)\n",
    "#axes[0,1].set_ylim(-2, 5)\n",
    "#axes[1,0].set_ylim(-2, 5)\n",
    "#axes[1,1].set_ylim(-2, 5)\n",
    "#axes[2,0].set_ylim(-2, 5)\n",
    "#axes[2,1].set_ylim(-2, 5)\n",
    "#axes[3,0].set_ylim(-2, 5)\n",
    "#axes[3,1].set_ylim(-2, 5)\n",
    "\n",
    "fig.suptitle('Time-averaged tendency terms binned in WG region', fontsize=18, fontweight='bold')\n",
    "\n",
    "axes[0,0].title.set_text('Horizontal Advective Flux Term')\n",
    "axes[0,1].title.set_text('Horizontal Diffusive Flux Term')\n",
    "axes[1,0].title.set_text('Vertical Advective Flux Term')\n",
    "axes[1,1].title.set_text('Vertical Diffusive Flux Term')\n",
    "axes[2,0].title.set_text('Surface Flux Term')\n",
    "axes[2,1].title.set_text('Linear free-surface correction Term')\n",
    "axes[3,0].title.set_text('Shortwave Term')\n",
    "axes[3,1].title.set_text('Total Tendency Term')\n",
    "\n",
    "plt.show() #this seems to work to make suptitle displayed neatly above\n",
    "plt.tight_layout();"
   ]
  },
  {
   "cell_type": "code",
   "execution_count": null,
   "metadata": {},
   "outputs": [],
   "source": [
    "plt.figure(figsize=(12,6))\n",
    "ds_hist_wg_mean.to_array().plot.line(x='THETA_bin')\n",
    "plt.title('Time-averaged tendency terms in\\n full WG water column');"
   ]
  },
  {
   "cell_type": "code",
   "execution_count": null,
   "metadata": {},
   "outputs": [],
   "source": [
    "ds_hist_wg_mean.tot_tend_hist_wg.plot(label='rhs')\n",
    "ds_hist_wg_mean.tot_tend_truth_hist_wg.plot(label='lhs')\n",
    "plt.legend();"
   ]
  },
  {
   "cell_type": "markdown",
   "metadata": {},
   "source": [
    "## Interior WG column"
   ]
  },
  {
   "cell_type": "code",
   "execution_count": null,
   "metadata": {},
   "outputs": [],
   "source": [
    "#index locations corresponding to above lat/lon coordinates\n",
    "lower_lat_lower = 0\n",
    "upper_lat_lower = 71\n",
    "left_lon_lower = 1794\n",
    "right_lon_lower = 2159\n",
    "\n",
    "lower_cell_range = dict(Zl=[27, 42])\n",
    "lower_cell_range_z = dict(Z=slice(27, 42))"
   ]
  },
  {
   "cell_type": "code",
   "execution_count": null,
   "metadata": {},
   "outputs": [],
   "source": [
    "#set the boundaries\n",
    "lat_range_lower = dict(YC=slice(lower_lat_lower, upper_lat_lower))\n",
    "lon_range_lower = dict(XC=slice(left_lon_lower, right_lon_lower))"
   ]
  },
  {
   "cell_type": "code",
   "execution_count": null,
   "metadata": {},
   "outputs": [],
   "source": [
    "ds_wg_lower = ds.isel(**lat_range_lower, **lon_range_lower, **lower_cell_range_z)\n",
    "ds_wg_lower"
   ]
  },
  {
   "cell_type": "code",
   "execution_count": null,
   "metadata": {},
   "outputs": [],
   "source": [
    "def hist_var(direction, tendency, suffix):\n",
    "    \"\"\"Compute histogram of `tendency` flux of tracer `suffix`\n",
    "    where `tendency` is `ADV` or `DIFF`, `suffix` is `TH` or `SLT`,\n",
    "    and `direction` is `horiz` or `vert`. Return a new xarray.Dataset.\"\"\"\n",
    "    \n",
    "    var = 'conv_' + direction + '_' + tendency + '_flux_' + suffix\n",
    "    hist_var = histogram(ds_wg_lower.THETA, bins=[theta_bins], weights=ds_wg_lower[var], dim=['XC', 'YC', 'Z'])\n",
    "    return hist_var"
   ]
  },
  {
   "cell_type": "code",
   "execution_count": null,
   "metadata": {},
   "outputs": [],
   "source": [
    "adv_vert_hist_wg_lower = hist_var('vert', 'adv', 'TH').load()\n",
    "adv_horiz_hist_wg_lower = hist_var('horiz', 'adv', 'TH').load()\n",
    "diff_vert_hist_wg_lower = hist_var('vert', 'diff', 'TH').load()\n",
    "diff_horiz_hist_wg_lower = hist_var('horiz', 'diff', 'TH').load()"
   ]
  },
  {
   "cell_type": "code",
   "execution_count": null,
   "metadata": {},
   "outputs": [],
   "source": [
    "total_tendency_truth_hist_wg_lower = histogram(ds_wg_lower.THETA, bins=[theta_bins], \n",
    "                                      weights=ds_wg_lower.total_tendency_TH_truth, \n",
    "                                      dim=['XC', 'YC', 'Z']).load()"
   ]
  },
  {
   "cell_type": "code",
   "execution_count": null,
   "metadata": {},
   "outputs": [],
   "source": [
    "ds_hist_wg_lower = xr.merge([adv_horiz_hist_wg_lower.rename('adv_horiz_hist_wg_lower'), \n",
    "                             adv_vert_hist_wg_lower.rename('adv_vert_hist_wg_lower'),\n",
    "                             diff_horiz_hist_wg_lower.rename('diff_horiz_hist_wg_lower'),\n",
    "                             diff_vert_hist_wg_lower.rename('diff_vert_hist_wg_lower'),\n",
    "                             total_tendency_truth_hist_wg_lower.rename('tot_tend_truth_hist_wg_lower')])\n",
    "ds_hist_wg_lower"
   ]
  },
  {
   "cell_type": "code",
   "execution_count": null,
   "metadata": {},
   "outputs": [],
   "source": [
    "total_tendency_hist_wg_lower = (ds_hist_wg_lower.adv_horiz_hist_wg_lower + \n",
    "                                ds_hist_wg_lower.adv_vert_hist_wg_lower + \n",
    "                                ds_hist_wg_lower.diff_horiz_hist_wg_lower + \n",
    "                                ds_hist_wg_lower.diff_vert_hist_wg_lower)"
   ]
  },
  {
   "cell_type": "code",
   "execution_count": null,
   "metadata": {},
   "outputs": [],
   "source": [
    "ds_hist_wg_lower['tot_tend_hist_wg_lower'] = total_tendency_hist_wg_lower"
   ]
  },
  {
   "cell_type": "code",
   "execution_count": null,
   "metadata": {},
   "outputs": [],
   "source": [
    "fig, axes = plt.subplots(nrows=3, ncols=2, sharex=True, figsize=(14,14))\n",
    "\n",
    "ds_hist_wg_lower.adv_horiz_hist_wg_lower.transpose().plot(ax=axes[0,0], cmap='seismic')\n",
    "ds_hist_wg_lower.diff_horiz_hist_wg_lower.transpose().plot(ax=axes[0,1], cmap='seismic')\n",
    "ds_hist_wg_lower.adv_vert_hist_wg_lower.transpose().plot(ax=axes[1,0], cmap='seismic')\n",
    "ds_hist_wg_lower.diff_vert_hist_wg_lower.transpose().plot(ax=axes[1,1], cmap='seismic')\n",
    "ds_hist_wg_lower.tot_tend_hist_wg_lower.transpose().plot(ax=axes[2,0], cmap='seismic')\n",
    "ds_hist_wg_lower.tot_tend_truth_hist_wg_lower.transpose().plot(ax=axes[2,1], cmap='seismic')\n",
    "\n",
    "axes[0,0].set_ylim(-2, 5)\n",
    "axes[0,1].set_ylim(-2, 5)\n",
    "axes[1,0].set_ylim(-2, 5)\n",
    "axes[1,1].set_ylim(-2, 5)\n",
    "axes[2,0].set_ylim(-2, 5)\n",
    "\n",
    "fig.suptitle('Tendency terms binned in interior WG region', fontsize=18, fontweight='bold')\n",
    "\n",
    "axes[0,0].title.set_text('Horizontal Advective Flux Term')\n",
    "axes[0,1].title.set_text('Horizontal Diffusive Flux Term')\n",
    "axes[1,0].title.set_text('Vertical Advective Flux Term')\n",
    "axes[1,1].title.set_text('Vertical Diffusive Flux Term')\n",
    "axes[2,0].title.set_text('Total Tendency Term')\n",
    "axes[2,1].title.set_text('True Total Tendency Term')\n",
    "#axes[2,1].title.set_text('Linear free-surface correction Term')\n",
    "#axes[3,0].title.set_text('Shortwave Term')\n",
    "#axes[3,1].title.set_text('Total Tendency Term')\n",
    "\n",
    "plt.show() #this seems to work to make suptitle displayed neatly above\n",
    "plt.tight_layout();"
   ]
  },
  {
   "cell_type": "markdown",
   "metadata": {},
   "source": [
    "#### Time-Avged"
   ]
  },
  {
   "cell_type": "code",
   "execution_count": null,
   "metadata": {},
   "outputs": [],
   "source": [
    "ds_hist_wg_lower_mean = ds_hist_wg_lower.mean(dim='time')\n",
    "ds_hist_wg_lower_mean"
   ]
  },
  {
   "cell_type": "code",
   "execution_count": null,
   "metadata": {},
   "outputs": [],
   "source": [
    "fig, axes = plt.subplots(nrows=3, ncols=2, sharex=True, figsize=(14,14))\n",
    "\n",
    "ds_hist_wg_lower_mean.adv_horiz_hist_wg_lower.transpose().plot(ax=axes[0,0])\n",
    "ds_hist_wg_lower_mean.diff_horiz_hist_wg_lower.transpose().plot(ax=axes[0,1])\n",
    "ds_hist_wg_lower_mean.adv_vert_hist_wg_lower.transpose().plot(ax=axes[1,0])\n",
    "ds_hist_wg_lower_mean.diff_vert_hist_wg_lower.transpose().plot(ax=axes[1,1])\n",
    "ds_hist_wg_lower_mean.total_tendency_hist_wg_lower.transpose().plot(ax=axes[2,0])\n",
    "\n",
    "fig.suptitle('Tendency terms binned in interior WG region', fontsize=18, fontweight='bold')\n",
    "\n",
    "axes[0,0].title.set_text('Horizontal Advective Flux Term')\n",
    "axes[0,1].title.set_text('Horizontal Diffusive Flux Term')\n",
    "axes[1,0].title.set_text('Vertical Advective Flux Term')\n",
    "axes[1,1].title.set_text('Vertical Diffusive Flux Term')\n",
    "axes[2,0].title.set_text('Total Tendency Term')\n",
    "#axes[2,1].title.set_text('Linear free-surface correction Term')\n",
    "#axes[3,0].title.set_text('Shortwave Term')\n",
    "#axes[3,1].title.set_text('Total Tendency Term')\n",
    "\n",
    "plt.show() #this seems to work to make suptitle displayed neatly above\n",
    "plt.tight_layout();"
   ]
  },
  {
   "cell_type": "code",
   "execution_count": null,
   "metadata": {},
   "outputs": [],
   "source": [
    "plt.figure(figsize=(12,6))\n",
    "ds_hist_wg_lower_mean.to_array().plot.line(x='THETA_bin')\n",
    "plt.title('Time-averaged tendency terms in\\n interior WG water column');"
   ]
  },
  {
   "cell_type": "code",
   "execution_count": null,
   "metadata": {},
   "outputs": [],
   "source": [
    "plt.figure(figsize=(12,6))\n",
    "ds_hist_wg_lower_mean.tot_tend_hist_wg_lower.plot(label='rhs')\n",
    "ds_hist_wg_lower_mean.tot_tend_truth_hist_wg_lower.plot(label='lhs')\n",
    "plt.legend();"
   ]
  },
  {
   "cell_type": "code",
   "execution_count": null,
   "metadata": {},
   "outputs": [],
   "source": []
  },
  {
   "cell_type": "code",
   "execution_count": null,
   "metadata": {},
   "outputs": [],
   "source": []
  },
  {
   "cell_type": "code",
   "execution_count": null,
   "metadata": {},
   "outputs": [],
   "source": []
  },
  {
   "cell_type": "code",
   "execution_count": null,
   "metadata": {},
   "outputs": [],
   "source": []
  },
  {
   "cell_type": "code",
   "execution_count": null,
   "metadata": {},
   "outputs": [],
   "source": [
    "sst = ds.THETA.isel(Z=0)\n",
    "sss = ds.SALT.isel(Z=0)"
   ]
  },
  {
   "cell_type": "code",
   "execution_count": null,
   "metadata": {},
   "outputs": [],
   "source": [
    "#converting practical salinity to absolute salinity\n",
    "sa = xr.apply_ufunc(gsw.SA_from_SP, sss, 0, ds.XC, ds.YC,\n",
    "                    output_dtypes=[sss.dtype],\n",
    "                    dask='parallelized').reset_coords(drop=True)\n",
    "sa"
   ]
  },
  {
   "cell_type": "markdown",
   "metadata": {},
   "source": [
    "## Temperature component of global WMT budget"
   ]
  },
  {
   "cell_type": "code",
   "execution_count": null,
   "metadata": {},
   "outputs": [],
   "source": [
    "#vertical flux\n",
    "#ds.TFLUX.isel(**lat_range, **lon_range)\n",
    "t_flux_z = (ds.TFLUX * coords.rA)#.sum(dim=['XC','YC'])\n",
    "t_flux_z\n",
    "#units: W = (kg*m^2)/s^3"
   ]
  },
  {
   "cell_type": "code",
   "execution_count": null,
   "metadata": {},
   "outputs": [],
   "source": [
    "tflux_hist = histogram(sst, bins=[theta_bins], weights=t_flux_z, dim=['XC', 'YC'])\n",
    "tflux_hist"
   ]
  },
  {
   "cell_type": "code",
   "execution_count": null,
   "metadata": {},
   "outputs": [],
   "source": [
    "tflux_hist.load()"
   ]
  },
  {
   "cell_type": "code",
   "execution_count": null,
   "metadata": {},
   "outputs": [],
   "source": [
    "tflux_hist.transpose().plot()\n",
    "plt.ylim([-2, 10])"
   ]
  },
  {
   "cell_type": "code",
   "execution_count": null,
   "metadata": {},
   "outputs": [],
   "source": [
    "sst_hist = histogram(sst, bins=[theta_bins], dim=['XC', 'YC'])\n",
    "sst_hist.load()"
   ]
  },
  {
   "cell_type": "code",
   "execution_count": null,
   "metadata": {},
   "outputs": [],
   "source": [
    "sst_hist.transpose().plot()\n",
    "plt.ylim([-2, 10])"
   ]
  },
  {
   "cell_type": "code",
   "execution_count": null,
   "metadata": {},
   "outputs": [],
   "source": [
    "sst[0].isnull().plot()"
   ]
  },
  {
   "cell_type": "code",
   "execution_count": null,
   "metadata": {},
   "outputs": [],
   "source": [
    "sst_hist.mean(dim='time').plot()"
   ]
  },
  {
   "cell_type": "code",
   "execution_count": null,
   "metadata": {},
   "outputs": [],
   "source": [
    "surface_weights = coords.rA*coords.hFacC[0]"
   ]
  },
  {
   "cell_type": "code",
   "execution_count": null,
   "metadata": {},
   "outputs": [],
   "source": [
    "sst_hist = histogram(sst, bins=[theta_bins], weights=surface_weights, dim=['XC', 'YC'])\n",
    "sst_hist.load()"
   ]
  },
  {
   "cell_type": "code",
   "execution_count": null,
   "metadata": {},
   "outputs": [],
   "source": [
    "(sst_hist.mean(dim='time')/surface_weights.sum()).plot()"
   ]
  },
  {
   "cell_type": "code",
   "execution_count": null,
   "metadata": {},
   "outputs": [],
   "source": [
    "# volume tendency term\n",
    "vol_c = coords.hFacC * coords.rA * coords.drF\n",
    "theta_vol = ds.THETA\n",
    "\n",
    "# define bins\n",
    "delta_theta = 0.1\n",
    "theta_bins = np.arange(-2, 20, delta_theta)\n",
    "\n",
    "theta_dist = histogram(ds.THETA, bins=[theta_bins],\n",
    "                       weights=vol_c, dim=['XC', 'YC', 'Z'])\n",
    "theta_dist"
   ]
  },
  {
   "cell_type": "code",
   "execution_count": null,
   "metadata": {},
   "outputs": [],
   "source": [
    "theta_dist.load()"
   ]
  },
  {
   "cell_type": "code",
   "execution_count": null,
   "metadata": {},
   "outputs": [],
   "source": [
    "# most of the world's ocean is ~2˚C\n",
    "# very little variability in temp distribution\n",
    "theta_dist.plot(x='time')"
   ]
  },
  {
   "cell_type": "code",
   "execution_count": null,
   "metadata": {},
   "outputs": [],
   "source": [
    "# most of the world's ocean is cold (centered ~2˚C)\n",
    "theta_dist.mean(dim='time').plot()"
   ]
  },
  {
   "cell_type": "code",
   "execution_count": null,
   "metadata": {},
   "outputs": [],
   "source": [
    "# thets distribution anomaly\n",
    "(theta_dist - theta_dist.mean(dim='time')).plot(x='time')\n",
    "plt.ylim([-2, 5])"
   ]
  },
  {
   "cell_type": "code",
   "execution_count": null,
   "metadata": {},
   "outputs": [],
   "source": [
    "# cumulative volume\n",
    "V = theta_dist.cumsum(dim='THETA_bin')\n",
    "V.plot()"
   ]
  },
  {
   "cell_type": "code",
   "execution_count": null,
   "metadata": {},
   "outputs": [],
   "source": [
    "# avg of cumulative volume\n",
    "V_mean = V.mean(dim='time')\n",
    "V_mean.plot()"
   ]
  },
  {
   "cell_type": "code",
   "execution_count": null,
   "metadata": {},
   "outputs": [],
   "source": [
    "# cumulative volume anomaly\n",
    "V_anom = V - V_mean\n",
    "V_anom.plot(x='time')\n",
    "plt.ylim(-2, 7)"
   ]
  },
  {
   "cell_type": "code",
   "execution_count": null,
   "metadata": {},
   "outputs": [],
   "source": [
    "delta_t = 5*24*60*60\n",
    "dVdt = V_anom.diff(dim='time') / delta_t\n",
    "#dV/dt\n",
    "dVdt.plot(x='time', vmax=200e6)\n",
    "plt.ylim(-2, 7)"
   ]
  },
  {
   "cell_type": "code",
   "execution_count": null,
   "metadata": {},
   "outputs": [],
   "source": [
    "(dVdt.mean(dim='time') / 1e6).plot()"
   ]
  },
  {
   "cell_type": "code",
   "execution_count": null,
   "metadata": {},
   "outputs": [],
   "source": [
    "# one WMT term\n",
    "\n",
    "runit2mass = 1.035e3 #rho_not\n",
    "heat_capacity_cp = 3.994e3 #J/˚K/kg\n",
    "Omega_tflux = tflux_hist / (runit2mass * heat_capacity_cp) / delta_theta\n",
    "\n",
    "Omega_tflux.plot(x='time', vmax=200e6)"
   ]
  },
  {
   "cell_type": "code",
   "execution_count": null,
   "metadata": {},
   "outputs": [],
   "source": [
    "# psi - side flux term\n",
    "V_volflux = ds.VVEL.isel(YG=-1) * coords.hFacS.isel(YG=-1) * coords.drF * coords.dxG.isel(YG=-1)\n",
    "V_volflux"
   ]
  },
  {
   "cell_type": "code",
   "execution_count": null,
   "metadata": {},
   "outputs": [],
   "source": [
    "import xgcm\n",
    "grid = xgcm.Grid(coords, periodic=['X'])\n",
    "grid"
   ]
  },
  {
   "cell_type": "code",
   "execution_count": null,
   "metadata": {},
   "outputs": [],
   "source": [
    "theta_s = grid.interp(ds.THETA, 'Y', boundary='extrapolate')\n",
    "theta_s"
   ]
  },
  {
   "cell_type": "code",
   "execution_count": null,
   "metadata": {},
   "outputs": [],
   "source": [
    "theta_s.data"
   ]
  },
  {
   "cell_type": "code",
   "execution_count": null,
   "metadata": {},
   "outputs": [],
   "source": [
    "# just use cell center for binning transport (rather than interpolating to cell face)\n",
    "Theta_nb = ds.THETA.isel(YC=-1).reset_coords(drop=True)\n",
    "Theta_nb"
   ]
  },
  {
   "cell_type": "code",
   "execution_count": null,
   "metadata": {},
   "outputs": [],
   "source": [
    "V_binned = histogram(Theta_nb, bins=[theta_bins], weights=V_volflux, dim=['XC', 'Z'])\n",
    "V_binned"
   ]
  },
  {
   "cell_type": "code",
   "execution_count": null,
   "metadata": {},
   "outputs": [],
   "source": [
    "V_binned.load()"
   ]
  },
  {
   "cell_type": "code",
   "execution_count": null,
   "metadata": {},
   "outputs": [],
   "source": [
    "V_binned.plot(x='time')"
   ]
  },
  {
   "cell_type": "code",
   "execution_count": null,
   "metadata": {},
   "outputs": [],
   "source": [
    "V_binned.mean(dim='time').plot()"
   ]
  },
  {
   "cell_type": "markdown",
   "metadata": {},
   "source": [
    "## Temperature component of WG WMT budget"
   ]
  },
  {
   "cell_type": "code",
   "execution_count": null,
   "metadata": {},
   "outputs": [],
   "source": [
    "sst_mean = ds.THETA.isel(Z=0).mean(dim='time')#.load()"
   ]
  },
  {
   "cell_type": "code",
   "execution_count": null,
   "metadata": {},
   "outputs": [],
   "source": [
    "surface_mask = (coords.hFacC[0]>0)#.load()"
   ]
  },
  {
   "cell_type": "code",
   "execution_count": null,
   "metadata": {},
   "outputs": [],
   "source": [
    "sst_mean.where(surface_mask).plot()"
   ]
  },
  {
   "cell_type": "code",
   "execution_count": null,
   "metadata": {},
   "outputs": [],
   "source": [
    "left_lon = 298\n",
    "upper_lat = -65\n",
    "right_lon = 360\n",
    "lower_lat = -78"
   ]
  },
  {
   "cell_type": "code",
   "execution_count": null,
   "metadata": {},
   "outputs": [],
   "source": [
    "fig, ax = plt.subplots(figsize=(12,8), subplot_kw={'facecolor': '0.5'})\n",
    "(sst_mean.where(surface_mask)).plot(ax=ax, vmin=-2, vmax=10)\n",
    "ax.plot([left_lon, right_lon], [upper_lat, upper_lat], color='w')\n",
    "ax.plot([right_lon, right_lon], [lower_lat, upper_lat], color='w')\n",
    "ax.plot([left_lon, left_lon], [lower_lat, upper_lat], color='w')\n",
    "ax.plot([left_lon, right_lon], [lower_lat, lower_lat], color='w')\n",
    "#ax.patch(xy=(-80, 290), width=70, height=20)\n",
    "#ax.patch(xy=(295,-80), width = 1, height = 1)\n",
    "ax.set_xlim([287, 362])\n",
    "ax.set_ylim([-80, -55])\n",
    "plt.title('Surface Mask @ ~2km\\nLat[290,360]\\nLon[-80,-63.5]');"
   ]
  },
  {
   "cell_type": "code",
   "execution_count": null,
   "metadata": {},
   "outputs": [],
   "source": [
    "lower_lat = 0\n",
    "upper_lat = 78\n",
    "left_lon = 1788\n",
    "right_lon = 2159"
   ]
  },
  {
   "cell_type": "code",
   "execution_count": null,
   "metadata": {},
   "outputs": [],
   "source": [
    "#set the boundaries\n",
    "lat_range = dict(YC=slice(lower_lat, upper_lat))\n",
    "lon_range = dict(XC=slice(left_lon, right_lon))"
   ]
  },
  {
   "cell_type": "code",
   "execution_count": null,
   "metadata": {},
   "outputs": [],
   "source": [
    "sst_wg = ds.THETA.isel(**lat_range, **lon_range, Z=0)\n",
    "sst_wg"
   ]
  },
  {
   "cell_type": "code",
   "execution_count": null,
   "metadata": {},
   "outputs": [],
   "source": [
    "#vertical flux\n",
    "t_flux_z_wg = (ds.TFLUX.isel(**lat_range, **lon_range) * coords.rA)\n",
    "t_flux_z_wg\n",
    "#units: W = (kg*m^2)/s^3"
   ]
  },
  {
   "cell_type": "code",
   "execution_count": null,
   "metadata": {},
   "outputs": [],
   "source": [
    "tflux_hist_wg = histogram(sst_wg, bins=[theta_bins], \n",
    "                          weights=t_flux_z_wg, dim=['XC', 'YC'])\n",
    "tflux_hist_wg"
   ]
  },
  {
   "cell_type": "code",
   "execution_count": null,
   "metadata": {},
   "outputs": [],
   "source": [
    "tflux_hist_wg.load()"
   ]
  },
  {
   "cell_type": "code",
   "execution_count": null,
   "metadata": {},
   "outputs": [],
   "source": [
    "tflux_hist_wg.transpose().plot()\n",
    "plt.ylim([-2, 10])"
   ]
  },
  {
   "cell_type": "code",
   "execution_count": null,
   "metadata": {},
   "outputs": [],
   "source": [
    "sst_hist_wg = histogram(sst_wg, bins=[theta_bins], dim=['XC', 'YC'])\n",
    "sst_hist_wg.load()"
   ]
  },
  {
   "cell_type": "code",
   "execution_count": null,
   "metadata": {},
   "outputs": [],
   "source": [
    "sst_hist_wg.transpose().plot()\n",
    "plt.ylim([-2, 10])"
   ]
  },
  {
   "cell_type": "code",
   "execution_count": null,
   "metadata": {},
   "outputs": [],
   "source": [
    "#WG surface water is mainly made up of waters of -1˚C and -0.2˚C\n",
    "sst_hist_wg.mean(dim='time').plot()\n",
    "plt.xlim(-2, 2)"
   ]
  },
  {
   "cell_type": "code",
   "execution_count": null,
   "metadata": {},
   "outputs": [],
   "source": [
    "surface_weights_wg = (coords.rA.isel(**lat_range, **lon_range) *\n",
    "                   coords.hFacC[0].isel(**lat_range, **lon_range))"
   ]
  },
  {
   "cell_type": "code",
   "execution_count": null,
   "metadata": {},
   "outputs": [],
   "source": [
    "sst_hist_wg_surfweights = histogram(sst_wg, bins=[theta_bins], \n",
    "                                    weights=surface_weights_wg, dim=['XC', 'YC'])\n",
    "sst_hist_wg_surfweights.load()"
   ]
  },
  {
   "cell_type": "code",
   "execution_count": null,
   "metadata": {},
   "outputs": [],
   "source": [
    "(sst_hist_wg_surfweights.mean(dim='time')/surface_weights_wg.sum()).plot()\n",
    "plt.xlim(-2,-1.3)"
   ]
  },
  {
   "cell_type": "code",
   "execution_count": null,
   "metadata": {},
   "outputs": [],
   "source": [
    "# volume tendency term in WG\n",
    "vol_c_wg = (coords.hFacC * coords.rA * coords.drF).isel(**lat_range, **lon_range)\n",
    "theta_vol_wg = ds.THETA\n",
    "\n",
    "# theta distribution in WG\n",
    "theta_dist_wg = histogram(ds.THETA.isel(**lat_range, **lon_range), bins=[theta_bins],\n",
    "                       weights=vol_c_wg, dim=['XC', 'YC', 'Z'])\n",
    "theta_dist_wg"
   ]
  },
  {
   "cell_type": "code",
   "execution_count": null,
   "metadata": {},
   "outputs": [],
   "source": [
    "theta_dist_wg.load()"
   ]
  },
  {
   "cell_type": "code",
   "execution_count": null,
   "metadata": {},
   "outputs": [],
   "source": [
    "# most of the wg ocean is between -1.0˚C < wg < 1.0˚C\n",
    "# little variability in temp distribution\n",
    "theta_dist_wg.plot(x='time')\n",
    "plt.ylim(-2, 2)"
   ]
  },
  {
   "cell_type": "code",
   "execution_count": null,
   "metadata": {},
   "outputs": [],
   "source": [
    "# most of the wg ocean is cold (centered ~-0.3˚C)\n",
    "theta_dist_wg.mean(dim='time').plot()\n",
    "plt.xlim(-2, 2)"
   ]
  },
  {
   "cell_type": "code",
   "execution_count": null,
   "metadata": {},
   "outputs": [],
   "source": [
    "# theta distribution anomaly\n",
    "(theta_dist_wg - theta_dist_wg.mean(dim='time')).plot(x='time')\n",
    "plt.ylim([-2, 1.5])"
   ]
  },
  {
   "cell_type": "code",
   "execution_count": null,
   "metadata": {},
   "outputs": [],
   "source": []
  },
  {
   "cell_type": "code",
   "execution_count": null,
   "metadata": {},
   "outputs": [],
   "source": [
    "# cumulative volume\n",
    "V_wg = theta_dist_wg.cumsum(dim='THETA_bin')\n",
    "V_wg.transpose().plot()"
   ]
  },
  {
   "cell_type": "code",
   "execution_count": null,
   "metadata": {},
   "outputs": [],
   "source": [
    "# avg of cumulative volume\n",
    "V_wg_mean = V_wg.mean(dim='time')\n",
    "V_wg_mean.plot()"
   ]
  },
  {
   "cell_type": "code",
   "execution_count": null,
   "metadata": {},
   "outputs": [],
   "source": [
    "# cumulative volume anomaly\n",
    "V_wg_anom = V_wg - V_wg_mean\n",
    "V_wg_anom.plot(x='time', vmax=6e14)\n",
    "plt.ylim(-2, 7)"
   ]
  },
  {
   "cell_type": "code",
   "execution_count": null,
   "metadata": {},
   "outputs": [],
   "source": [
    "delta_t = 5*24*60*60 #in nanoseconds like the dataset time\n",
    "dVdt_wg = V_wg_anom.diff(dim='time') / delta_t\n",
    "\n",
    "dVdt_wg.plot(x='time', vmin=-2e8, vmax=2e8)\n",
    "plt.ylim(-2, 7)"
   ]
  },
  {
   "cell_type": "code",
   "execution_count": null,
   "metadata": {},
   "outputs": [],
   "source": [
    "#does this mean the main watermass being transformed has temperature of 0˚C\n",
    "#or does it mean that most water is being transformed to this property\n",
    "(dVdt_wg.mean(dim='time') / 1e6).plot() # in SV"
   ]
  },
  {
   "cell_type": "markdown",
   "metadata": {},
   "source": [
    "### diff term\n",
    "\n",
    "Want to calculate convergence of horizontal diffusive fluxes\n",
    "\n",
    "$$ - \\frac{\\partial}{\\partial x} F^x_{diff} - \\frac{\\partial}{\\partial y} F^y_{diff} $$"
   ]
  },
  {
   "cell_type": "code",
   "execution_count": null,
   "metadata": {},
   "outputs": [],
   "source": [
    "lat_range = dict(YC=slice(lower_lat, upper_lat))\n",
    "lon_range = dict(XC=slice(left_lon, right_lon))\n",
    "\n",
    "ds_wg = ds.isel(YC=slice(lower_lat, upper_lat), YG=slice(lower_lat, upper_lat),\n",
    "                XC=slice(left_lon, right_lon), XG=slice(left_lon, right_lon))\n",
    "\n",
    "import xgcm\n",
    "grid_wg = xgcm.Grid(ds_wg, periodic=False)\n",
    "grid_wg"
   ]
  },
  {
   "cell_type": "code",
   "execution_count": null,
   "metadata": {},
   "outputs": [],
   "source": [
    "horizontal_diffusive_heat_flux_convergence = (\n",
    "    - grid_wg.diff(ds_wg.DFyE_TH, 'Y', boundary='fill')\n",
    "    - grid_wg.diff(ds_wg.DFxE_TH, 'X', boundary='fill') )\n",
    "\n",
    "horizontal_diffusive_heat_flux_convergence = \\\n",
    "  horizontal_diffusive_heat_flux_convergence.chunk({'YC': ds_wg.dims['YC'],\n",
    "                                                    'XC': ds_wg.dims['XC']})\n",
    "\n",
    "horizontal_diffusive_heat_flux_convergence"
   ]
  },
  {
   "cell_type": "code",
   "execution_count": null,
   "metadata": {},
   "outputs": [],
   "source": [
    "horizontal_diffusive_heat_flux_convergence.data"
   ]
  },
  {
   "cell_type": "code",
   "execution_count": null,
   "metadata": {},
   "outputs": [],
   "source": [
    "horizontal_diffusive_flux_wmt_term = \\\n",
    "   histogram(ds_wg.THETA,\n",
    "             bins=[theta_bins],\n",
    "             weights=horizontal_diffusive_heat_flux_convergence,\n",
    "             dim=['XC', 'YC', 'Z'])\n",
    "\n",
    "horizontal_diffusive_flux_wmt_term"
   ]
  },
  {
   "cell_type": "code",
   "execution_count": null,
   "metadata": {},
   "outputs": [],
   "source": [
    "horizontal_diffusive_flux_wmt_term.load()"
   ]
  },
  {
   "cell_type": "code",
   "execution_count": null,
   "metadata": {},
   "outputs": [],
   "source": [
    "horizontal_diffusive_flux_wmt_term.plot(x='time', vmax=1e6)\n",
    "plt.ylim([-2, 2])"
   ]
  },
  {
   "cell_type": "code",
   "execution_count": null,
   "metadata": {},
   "outputs": [],
   "source": [
    "\n",
    "ds_wg.DFyE_TH.diff('YG')"
   ]
  },
  {
   "cell_type": "code",
   "execution_count": null,
   "metadata": {},
   "outputs": [],
   "source": [
    "diff_flux.nbytes / 1e9"
   ]
  },
  {
   "cell_type": "code",
   "execution_count": null,
   "metadata": {},
   "outputs": [],
   "source": [
    "#diffusive flux\n",
    "#don't sum over dimensions because you need to bin later\n",
    "diff_flux_y = ds.DFyE_TH.isel(**lon_range, YG=upper_lat)\n",
    "diff_flux_x = ds.DFxE_TH.isel(**lat_range, XG=right_lon)\n",
    "print(diff_flux_y.dims)\n",
    "print(diff_flux_x.dims)"
   ]
  },
  {
   "cell_type": "code",
   "execution_count": null,
   "metadata": {},
   "outputs": [],
   "source": [
    "diff_flux = diff_flux_x + diff_flux_y\n",
    "diff_flux.load()\n",
    "#units: (˚C m^3)/s"
   ]
  },
  {
   "cell_type": "code",
   "execution_count": null,
   "metadata": {},
   "outputs": [],
   "source": [
    "vol_c_wg"
   ]
  },
  {
   "cell_type": "code",
   "execution_count": null,
   "metadata": {},
   "outputs": [],
   "source": [
    "diff_dist = histogram(diff_flux, bins=[theta_bins], weights=vol_c_wg, dim=['XG', 'YG', 'Z'])"
   ]
  },
  {
   "cell_type": "markdown",
   "metadata": {},
   "source": []
  },
  {
   "cell_type": "code",
   "execution_count": null,
   "metadata": {},
   "outputs": [],
   "source": [
    "diff_dist = histogram(, bins=[teht])"
   ]
  },
  {
   "cell_type": "code",
   "execution_count": null,
   "metadata": {},
   "outputs": [],
   "source": [
    "diff_dist.load()"
   ]
  },
  {
   "cell_type": "code",
   "execution_count": null,
   "metadata": {},
   "outputs": [],
   "source": [
    "# most of the world's ocean is ~2˚C\n",
    "# very little variability in temp distribution\n",
    "diff_dist.plot(x='time')"
   ]
  },
  {
   "cell_type": "code",
   "execution_count": null,
   "metadata": {},
   "outputs": [],
   "source": [
    "# most of the world's ocean is cold (centered ~2˚C)\n",
    "diff_dist.mean(dim='time').plot()"
   ]
  },
  {
   "cell_type": "code",
   "execution_count": null,
   "metadata": {},
   "outputs": [],
   "source": [
    "# thets distribution anomaly\n",
    "(diff_dist - diff_dist.mean(dim='time')).plot(x='time')\n",
    "#plt.ylim([-2, 5])"
   ]
  },
  {
   "cell_type": "code",
   "execution_count": null,
   "metadata": {},
   "outputs": [],
   "source": []
  }
 ],
 "metadata": {
  "kernelspec": {
   "display_name": "Python 3",
   "language": "python",
   "name": "python3"
  },
  "language_info": {
   "codemirror_mode": {
    "name": "ipython",
    "version": 3
   },
   "file_extension": ".py",
   "mimetype": "text/x-python",
   "name": "python",
   "nbconvert_exporter": "python",
   "pygments_lexer": "ipython3",
   "version": "3.7.3"
  }
 },
 "nbformat": 4,
 "nbformat_minor": 4
}
