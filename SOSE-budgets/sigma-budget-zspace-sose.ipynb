{
 "cells": [
  {
   "cell_type": "markdown",
   "metadata": {},
   "source": [
    "# \\begin{equation*} \\frac{D \\sigma}{D t} = \\dot\\sigma_{\\theta} = \\frac{\\partial \\sigma_{\\theta}}{\\partial \\theta} \\dot\\theta + \\frac{\\partial \\sigma_{\\theta}}{\\partial S} \\dot S \\end{equation*}\n",
    "## **SOSE**"
   ]
  },
  {
   "cell_type": "code",
   "execution_count": 1,
   "metadata": {},
   "outputs": [],
   "source": [
    "from dask_gateway import GatewayCluster\n",
    "\n",
    "cluster = GatewayCluster()\n",
    "#cluster.scale(10)\n",
    "cluster.adapt(minimum=2, maximum=25)  # or cluster.scale(n) to a fixed size.\n",
    "client = cluster.get_client()"
   ]
  },
  {
   "cell_type": "code",
   "execution_count": 2,
   "metadata": {},
   "outputs": [
    {
     "data": {
      "text/html": [
       "<table style=\"border: 2px solid white;\">\n",
       "<tr>\n",
       "<td style=\"vertical-align: top; border: 0px solid white\">\n",
       "<h3 style=\"text-align: left;\">Client</h3>\n",
       "<ul style=\"text-align: left; list-style: none; margin: 0; padding: 0;\">\n",
       "  <li><b>Scheduler: </b>gateway://traefik-gcp-uscentral1b-prod-dask-gateway.prod:80/prod.b558a3d6c7954a8dadbe888404d28b8b</li>\n",
       "  <li><b>Dashboard: </b><a href='/services/dask-gateway/clusters/prod.b558a3d6c7954a8dadbe888404d28b8b/status' target='_blank'>/services/dask-gateway/clusters/prod.b558a3d6c7954a8dadbe888404d28b8b/status</a></li>\n",
       "</ul>\n",
       "</td>\n",
       "<td style=\"vertical-align: top; border: 0px solid white\">\n",
       "<h3 style=\"text-align: left;\">Cluster</h3>\n",
       "<ul style=\"text-align: left; list-style:none; margin: 0; padding: 0;\">\n",
       "  <li><b>Workers: </b>2</li>\n",
       "  <li><b>Cores: </b>4</li>\n",
       "  <li><b>Memory: </b>17.18 GB</li>\n",
       "</ul>\n",
       "</td>\n",
       "</tr>\n",
       "</table>"
      ],
      "text/plain": [
       "<Client: 'tls://10.36.28.114:8786' processes=2 threads=4, memory=17.18 GB>"
      ]
     },
     "execution_count": 2,
     "metadata": {},
     "output_type": "execute_result"
    }
   ],
   "source": [
    "client"
   ]
  },
  {
   "cell_type": "code",
   "execution_count": 45,
   "metadata": {},
   "outputs": [],
   "source": [
    "cluster.close()"
   ]
  },
  {
   "cell_type": "code",
   "execution_count": 3,
   "metadata": {},
   "outputs": [],
   "source": [
    "import xarray as xr\n",
    "from matplotlib import pyplot as plt\n",
    "import gcsfs\n",
    "import dask\n",
    "import dask.array as dsa\n",
    "import numpy as np\n",
    "import fsspec\n",
    "%matplotlib inline"
   ]
  },
  {
   "cell_type": "code",
   "execution_count": 4,
   "metadata": {},
   "outputs": [
    {
     "data": {
      "text/plain": [
       "<xarray.core.options.set_options at 0x7fa5c65f2160>"
      ]
     },
     "execution_count": 4,
     "metadata": {},
     "output_type": "execute_result"
    }
   ],
   "source": [
    "xr.set_options(display_style='text')"
   ]
  },
  {
   "cell_type": "code",
   "execution_count": 30,
   "metadata": {},
   "outputs": [],
   "source": [
    "#coords = xr.open_zarr(gcsfs.GCSMap('pangeo-tmp/stb2145/SOSE/datasets/coords_wg.zarr')) not wg region\n",
    "coords = xr.open_zarr(gcsfs.GCSMap('pangeo-tmp/stb2145/SOSE/coords.zarr'))\n",
    "ds_tns = xr.open_zarr(gcsfs.GCSMap('pangeo-tmp/stb2145/SOSE/datasets/ds_tns.zarr'))\n",
    "#ds_slt = xr.open_zarr(gcsfs.GCSMap('pangeo-tmp/stb2145/SOSE/datasets/ds_slt_wg.zarr')) old ds, surf/lin-fs terms 2D\n",
    "#ds_tmp = xr.open_zarr(gcsfs.GCSMap('pangeo-tmp/stb2145/SOSE/datasets/ds_tmp_wg.zarr')) old ds, surf/lin-fs terms 2D\n",
    "ds_slt = xr.open_zarr(gcsfs.GCSMap('pangeo-tmp/stb2145/SOSE/budget_slt.zarr'))\n",
    "ds_tmp = xr.open_zarr(gcsfs.GCSMap('pangeo-tmp/stb2145/SOSE/budget_th.zarr'))\n",
    "ds_vel = xr.open_zarr(gcsfs.GCSMap('pangeo-tmp/stb2145/SOSE/datasets/ds_vel.zarr'))\n",
    "ds = xr.merge([ds_tns, ds_slt, ds_tmp, ds_vel])"
   ]
  },
  {
   "cell_type": "code",
   "execution_count": 31,
   "metadata": {},
   "outputs": [
    {
     "data": {
      "text/html": [
       "<pre>&lt;xarray.Dataset&gt;\n",
       "Dimensions:                   (XC: 2160, XG: 2160, YC: 320, YG: 320, Z: 42, Zl: 42, time: 438)\n",
       "Coordinates:\n",
       "  * XC                        (XC) float32 0.083333336 0.25 ... 359.75 359.9167\n",
       "  * YC                        (YC) float32 -77.87497 -77.7083 ... -24.7083\n",
       "  * Z                         (Z) float32 -5.0 -15.5 -27.0 ... -5325.0 -5575.0\n",
       "  * time                      (time) datetime64[ns] 2005-01-06 ... 2010-12-31\n",
       "  * XG                        (XG) float32 5.551115e-17 0.16666667 ... 359.83334\n",
       "  * YG                        (YG) float32 -77.9583 -77.79163 ... -24.791632\n",
       "  * Zl                        (Zl) float32 0.0 -10.0 -21.0 ... -5200.0 -5450.0\n",
       "Data variables:\n",
       "    SALT                      (time, Z, YC, XC) float32 dask.array&lt;chunksize=(1, 42, 320, 2160), meta=np.ndarray&gt;\n",
       "    THETA                     (time, Z, YC, XC) float32 dask.array&lt;chunksize=(1, 42, 320, 2160), meta=np.ndarray&gt;\n",
       "    conv_horiz_adv_flux_SLT   (time, Z, YC, XC) float32 dask.array&lt;chunksize=(1, 42, 320, 2160), meta=np.ndarray&gt;\n",
       "    conv_horiz_diff_flux_SLT  (time, Z, YC, XC) float32 dask.array&lt;chunksize=(1, 42, 320, 2160), meta=np.ndarray&gt;\n",
       "    conv_vert_adv_flux_SLT    (time, Z, YC, XC) float32 dask.array&lt;chunksize=(1, 42, 320, 2160), meta=np.ndarray&gt;\n",
       "    conv_vert_diff_flux_SLT   (time, Z, YC, XC) float32 dask.array&lt;chunksize=(1, 42, 320, 2160), meta=np.ndarray&gt;\n",
       "    lin_fs_correction_SLT     (time, Z, YC, XC) float32 dask.array&lt;chunksize=(1, 42, 320, 2160), meta=np.ndarray&gt;\n",
       "    surface_flux_conv_SLT     (time, Z, YC, XC) float32 dask.array&lt;chunksize=(1, 42, 320, 2160), meta=np.ndarray&gt;\n",
       "    total_tendency_SLT_truth  (time, Z, YC, XC) float64 dask.array&lt;chunksize=(1, 42, 320, 2160), meta=np.ndarray&gt;\n",
       "    conv_horiz_adv_flux_TH    (time, Z, YC, XC) float32 dask.array&lt;chunksize=(1, 42, 320, 2160), meta=np.ndarray&gt;\n",
       "    conv_horiz_diff_flux_TH   (time, Z, YC, XC) float32 dask.array&lt;chunksize=(1, 42, 320, 2160), meta=np.ndarray&gt;\n",
       "    conv_vert_adv_flux_TH     (time, Z, YC, XC) float32 dask.array&lt;chunksize=(1, 42, 320, 2160), meta=np.ndarray&gt;\n",
       "    conv_vert_diff_flux_TH    (time, Z, YC, XC) float32 dask.array&lt;chunksize=(1, 42, 320, 2160), meta=np.ndarray&gt;\n",
       "    lin_fs_correction_TH      (time, Z, YC, XC) float32 dask.array&lt;chunksize=(1, 42, 320, 2160), meta=np.ndarray&gt;\n",
       "    surface_flux_conv_TH      (time, Z, YC, XC) float32 dask.array&lt;chunksize=(1, 42, 320, 2160), meta=np.ndarray&gt;\n",
       "    sw_flux_conv_TH           (time, YC, XC, Z) float32 dask.array&lt;chunksize=(1, 320, 2160, 42), meta=np.ndarray&gt;\n",
       "    total_tendency_TH_truth   (time, Z, YC, XC) float64 dask.array&lt;chunksize=(1, 42, 320, 2160), meta=np.ndarray&gt;\n",
       "    UVEL                      (time, Z, YC, XG) float32 dask.array&lt;chunksize=(1, 42, 320, 2160), meta=np.ndarray&gt;\n",
       "    VVEL                      (time, Z, YG, XC) float32 dask.array&lt;chunksize=(1, 42, 320, 2160), meta=np.ndarray&gt;\n",
       "    WVEL                      (time, Zl, YC, XC) float32 dask.array&lt;chunksize=(1, 42, 320, 2160), meta=np.ndarray&gt;</pre>"
      ],
      "text/plain": [
       "<xarray.Dataset>\n",
       "Dimensions:                   (XC: 2160, XG: 2160, YC: 320, YG: 320, Z: 42, Zl: 42, time: 438)\n",
       "Coordinates:\n",
       "  * XC                        (XC) float32 0.083333336 0.25 ... 359.75 359.9167\n",
       "  * YC                        (YC) float32 -77.87497 -77.7083 ... -24.7083\n",
       "  * Z                         (Z) float32 -5.0 -15.5 -27.0 ... -5325.0 -5575.0\n",
       "  * time                      (time) datetime64[ns] 2005-01-06 ... 2010-12-31\n",
       "  * XG                        (XG) float32 5.551115e-17 0.16666667 ... 359.83334\n",
       "  * YG                        (YG) float32 -77.9583 -77.79163 ... -24.791632\n",
       "  * Zl                        (Zl) float32 0.0 -10.0 -21.0 ... -5200.0 -5450.0\n",
       "Data variables:\n",
       "    SALT                      (time, Z, YC, XC) float32 dask.array<chunksize=(1, 42, 320, 2160), meta=np.ndarray>\n",
       "    THETA                     (time, Z, YC, XC) float32 dask.array<chunksize=(1, 42, 320, 2160), meta=np.ndarray>\n",
       "    conv_horiz_adv_flux_SLT   (time, Z, YC, XC) float32 dask.array<chunksize=(1, 42, 320, 2160), meta=np.ndarray>\n",
       "    conv_horiz_diff_flux_SLT  (time, Z, YC, XC) float32 dask.array<chunksize=(1, 42, 320, 2160), meta=np.ndarray>\n",
       "    conv_vert_adv_flux_SLT    (time, Z, YC, XC) float32 dask.array<chunksize=(1, 42, 320, 2160), meta=np.ndarray>\n",
       "    conv_vert_diff_flux_SLT   (time, Z, YC, XC) float32 dask.array<chunksize=(1, 42, 320, 2160), meta=np.ndarray>\n",
       "    lin_fs_correction_SLT     (time, Z, YC, XC) float32 dask.array<chunksize=(1, 42, 320, 2160), meta=np.ndarray>\n",
       "    surface_flux_conv_SLT     (time, Z, YC, XC) float32 dask.array<chunksize=(1, 42, 320, 2160), meta=np.ndarray>\n",
       "    total_tendency_SLT_truth  (time, Z, YC, XC) float64 dask.array<chunksize=(1, 42, 320, 2160), meta=np.ndarray>\n",
       "    conv_horiz_adv_flux_TH    (time, Z, YC, XC) float32 dask.array<chunksize=(1, 42, 320, 2160), meta=np.ndarray>\n",
       "    conv_horiz_diff_flux_TH   (time, Z, YC, XC) float32 dask.array<chunksize=(1, 42, 320, 2160), meta=np.ndarray>\n",
       "    conv_vert_adv_flux_TH     (time, Z, YC, XC) float32 dask.array<chunksize=(1, 42, 320, 2160), meta=np.ndarray>\n",
       "    conv_vert_diff_flux_TH    (time, Z, YC, XC) float32 dask.array<chunksize=(1, 42, 320, 2160), meta=np.ndarray>\n",
       "    lin_fs_correction_TH      (time, Z, YC, XC) float32 dask.array<chunksize=(1, 42, 320, 2160), meta=np.ndarray>\n",
       "    surface_flux_conv_TH      (time, Z, YC, XC) float32 dask.array<chunksize=(1, 42, 320, 2160), meta=np.ndarray>\n",
       "    sw_flux_conv_TH           (time, YC, XC, Z) float32 dask.array<chunksize=(1, 320, 2160, 42), meta=np.ndarray>\n",
       "    total_tendency_TH_truth   (time, Z, YC, XC) float64 dask.array<chunksize=(1, 42, 320, 2160), meta=np.ndarray>\n",
       "    UVEL                      (time, Z, YC, XG) float32 dask.array<chunksize=(1, 42, 320, 2160), meta=np.ndarray>\n",
       "    VVEL                      (time, Z, YG, XC) float32 dask.array<chunksize=(1, 42, 320, 2160), meta=np.ndarray>\n",
       "    WVEL                      (time, Zl, YC, XC) float32 dask.array<chunksize=(1, 42, 320, 2160), meta=np.ndarray>"
      ]
     },
     "execution_count": 31,
     "metadata": {},
     "output_type": "execute_result"
    }
   ],
   "source": [
    "ds"
   ]
  },
  {
   "cell_type": "code",
   "execution_count": 10,
   "metadata": {},
   "outputs": [],
   "source": [
    "#WG bouDepthries (80˚S, 62˚S, 65˚W, 30˚E)\n",
    "#WG model's boundaries after .roll(XC=700) (-77.87497˚S, -62.041634˚S; 295.08334W, 30.083334E)\n",
    "lower_lat = 0\n",
    "upper_lat = 95\n",
    "left_lon =  310\n",
    "right_lon = 880"
   ]
  },
  {
   "cell_type": "code",
   "execution_count": 11,
   "metadata": {},
   "outputs": [],
   "source": [
    "#set the boundaries\n",
    "lat_range = dict(YC=slice(lower_lat, upper_lat))\n",
    "lon_range = dict(XC=slice(left_lon, right_lon))"
   ]
  },
  {
   "cell_type": "raw",
   "metadata": {},
   "source": [
    "#set the boundaries\n",
    "lat_range_noface = dict(j=slice(lower_lat, upper_lat))\n",
    "lon_range_noface = dict(i=slice(left_lon, right_lon))"
   ]
  },
  {
   "cell_type": "code",
   "execution_count": 10,
   "metadata": {},
   "outputs": [],
   "source": [
    "pref = 2000"
   ]
  },
  {
   "cell_type": "markdown",
   "metadata": {},
   "source": [
    "# <font color='Green'> \\begin{equation*} Temperature \\end{equation*} </font>"
   ]
  },
  {
   "cell_type": "markdown",
   "metadata": {},
   "source": [
    "## <font color='Green'> \\begin{equation*} \\frac{\\partial \\rho}{\\partial \\theta}\\end{equation*} </font>"
   ]
  },
  {
   "cell_type": "code",
   "execution_count": null,
   "metadata": {},
   "outputs": [],
   "source": []
  }
 ],
 "metadata": {
  "kernelspec": {
   "display_name": "Python 3",
   "language": "python",
   "name": "python3"
  },
  "language_info": {
   "codemirror_mode": {
    "name": "ipython",
    "version": 3
   },
   "file_extension": ".py",
   "mimetype": "text/x-python",
   "name": "python",
   "nbconvert_exporter": "python",
   "pygments_lexer": "ipython3",
   "version": "3.8.6"
  }
 },
 "nbformat": 4,
 "nbformat_minor": 4
}
