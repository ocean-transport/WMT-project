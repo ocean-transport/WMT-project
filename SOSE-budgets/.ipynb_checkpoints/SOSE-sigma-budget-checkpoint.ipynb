{
 "cells": [
  {
   "cell_type": "code",
   "execution_count": 1,
   "metadata": {},
   "outputs": [
    {
     "data": {
      "text/html": [
       "<table style=\"border: 2px solid white;\">\n",
       "<tr>\n",
       "<td style=\"vertical-align: top; border: 0px solid white\">\n",
       "<h3 style=\"text-align: left;\">Client</h3>\n",
       "<ul style=\"text-align: left; list-style: none; margin: 0; padding: 0;\">\n",
       "  <li><b>Scheduler: </b>tcp://10.32.78.211:43729</li>\n",
       "  <li><b>Dashboard: </b><a href='/user/0000-0002-8176-9465/proxy/8787/status' target='_blank'>/user/0000-0002-8176-9465/proxy/8787/status</a>\n",
       "</ul>\n",
       "</td>\n",
       "<td style=\"vertical-align: top; border: 0px solid white\">\n",
       "<h3 style=\"text-align: left;\">Cluster</h3>\n",
       "<ul style=\"text-align: left; list-style:none; margin: 0; padding: 0;\">\n",
       "  <li><b>Workers: </b>7</li>\n",
       "  <li><b>Cores: </b>14</li>\n",
       "  <li><b>Memory: </b>80.50 GB</li>\n",
       "</ul>\n",
       "</td>\n",
       "</tr>\n",
       "</table>"
      ],
      "text/plain": [
       "<Client: scheduler='tcp://10.32.78.211:43729' processes=7 cores=14>"
      ]
     },
     "execution_count": 1,
     "metadata": {},
     "output_type": "execute_result"
    }
   ],
   "source": [
    "from dask.distributed import Client\n",
    "\n",
    "client = Client(\"tcp://10.32.78.211:43729\")\n",
    "client"
   ]
  },
  {
   "cell_type": "markdown",
   "metadata": {},
   "source": [
    "# SOSE POTENTIAL DENSITY BUDGET"
   ]
  },
  {
   "cell_type": "code",
   "execution_count": 2,
   "metadata": {},
   "outputs": [],
   "source": [
    "import os\n",
    "\n",
    "#os.environ['NUMPY_EXPERIMENTAL_ARRAY_FUNCTION'] = '0'\n",
    "\n",
    "import xarray as xr\n",
    "import numpy as np\n",
    "import dask as dask\n",
    "from matplotlib import pyplot as plt\n",
    "%matplotlib inline\n",
    "import intake\n",
    "import pandas as pd\n",
    "import cartopy.crs as ccrs #cartopy coord ref sys\n",
    "import cartopy\n",
    "import cartopy.feature as cfeature\n",
    "import gsw"
   ]
  },
  {
   "cell_type": "code",
   "execution_count": 3,
   "metadata": {},
   "outputs": [
    {
     "data": {
      "text/plain": [
       "<xarray.Dataset>\n",
       "Dimensions:   (XC: 2160, XG: 2160, YC: 320, YG: 320, Z: 42, Zl: 42, Zp1: 43, Zu: 42, time: 438)\n",
       "Coordinates:\n",
       "    Depth     (YC, XC) float32 dask.array<shape=(320, 2160), chunksize=(320, 2160)>\n",
       "    PHrefC    (Z) float32 dask.array<shape=(42,), chunksize=(42,)>\n",
       "    PHrefF    (Zp1) float32 dask.array<shape=(43,), chunksize=(43,)>\n",
       "  * XC        (XC) float32 0.083333336 0.25 0.4166667 ... 359.75 359.9167\n",
       "  * XG        (XG) float32 5.551115e-17 0.16666667 ... 359.6667 359.83334\n",
       "  * YC        (YC) float32 -77.87497 -77.7083 -77.54163 ... -24.874966 -24.7083\n",
       "  * YG        (YG) float32 -77.9583 -77.79163 -77.62497 ... -24.9583 -24.791632\n",
       "  * Z         (Z) float32 -5.0 -15.5 -27.0 -39.5 ... -5075.0 -5325.0 -5575.0\n",
       "  * Zl        (Zl) float32 0.0 -10.0 -21.0 -33.0 ... -4950.0 -5200.0 -5450.0\n",
       "  * Zp1       (Zp1) float32 0.0 -10.0 -21.0 -33.0 ... -5200.0 -5450.0 -5700.0\n",
       "  * Zu        (Zu) float32 -10.0 -21.0 -33.0 -46.0 ... -5200.0 -5450.0 -5700.0\n",
       "    drC       (Zp1) float32 dask.array<shape=(43,), chunksize=(43,)>\n",
       "    drF       (Z) float32 dask.array<shape=(42,), chunksize=(42,)>\n",
       "    dxC       (YC, XG) float32 dask.array<shape=(320, 2160), chunksize=(320, 2160)>\n",
       "    dxG       (YG, XC) float32 dask.array<shape=(320, 2160), chunksize=(320, 2160)>\n",
       "    dyC       (YG, XC) float32 dask.array<shape=(320, 2160), chunksize=(320, 2160)>\n",
       "    dyG       (YC, XG) float32 dask.array<shape=(320, 2160), chunksize=(320, 2160)>\n",
       "    hFacC     (Z, YC, XC) float32 dask.array<shape=(42, 320, 2160), chunksize=(42, 320, 2160)>\n",
       "    hFacS     (Z, YG, XC) float32 dask.array<shape=(42, 320, 2160), chunksize=(42, 320, 2160)>\n",
       "    hFacW     (Z, YC, XG) float32 dask.array<shape=(42, 320, 2160), chunksize=(42, 320, 2160)>\n",
       "    iter      (time) int64 dask.array<shape=(438,), chunksize=(438,)>\n",
       "    rA        (YC, XC) float32 dask.array<shape=(320, 2160), chunksize=(320, 2160)>\n",
       "    rAs       (YG, XC) float32 dask.array<shape=(320, 2160), chunksize=(320, 2160)>\n",
       "    rAw       (YC, XG) float32 dask.array<shape=(320, 2160), chunksize=(320, 2160)>\n",
       "    rAz       (YG, XG) float32 dask.array<shape=(320, 2160), chunksize=(320, 2160)>\n",
       "  * time      (time) datetime64[ns] 2005-01-06 2005-01-11 ... 2010-12-31\n",
       "Data variables:\n",
       "    ADVr_SLT  (time, Zl, YC, XC) float32 dask.array<shape=(438, 42, 320, 2160), chunksize=(1, 42, 320, 2160)>\n",
       "    ADVr_TH   (time, Zl, YC, XC) float32 dask.array<shape=(438, 42, 320, 2160), chunksize=(1, 42, 320, 2160)>\n",
       "    ADVx_SLT  (time, Z, YC, XG) float32 dask.array<shape=(438, 42, 320, 2160), chunksize=(1, 42, 320, 2160)>\n",
       "    ADVx_TH   (time, Z, YC, XG) float32 dask.array<shape=(438, 42, 320, 2160), chunksize=(1, 42, 320, 2160)>\n",
       "    ADVy_SLT  (time, Z, YG, XC) float32 dask.array<shape=(438, 42, 320, 2160), chunksize=(1, 42, 320, 2160)>\n",
       "    ADVy_TH   (time, Z, YG, XC) float32 dask.array<shape=(438, 42, 320, 2160), chunksize=(1, 42, 320, 2160)>\n",
       "    DFrE_SLT  (time, Zl, YC, XC) float32 dask.array<shape=(438, 42, 320, 2160), chunksize=(1, 42, 320, 2160)>\n",
       "    DFrE_TH   (time, Zl, YC, XC) float32 dask.array<shape=(438, 42, 320, 2160), chunksize=(1, 42, 320, 2160)>\n",
       "    DFrI_SLT  (time, Zl, YC, XC) float32 dask.array<shape=(438, 42, 320, 2160), chunksize=(1, 42, 320, 2160)>\n",
       "    DFrI_TH   (time, Zl, YC, XC) float32 dask.array<shape=(438, 42, 320, 2160), chunksize=(1, 42, 320, 2160)>\n",
       "    DFxE_SLT  (time, Z, YC, XG) float32 dask.array<shape=(438, 42, 320, 2160), chunksize=(1, 42, 320, 2160)>\n",
       "    DFxE_TH   (time, Z, YC, XG) float32 dask.array<shape=(438, 42, 320, 2160), chunksize=(1, 42, 320, 2160)>\n",
       "    DFyE_SLT  (time, Z, YG, XC) float32 dask.array<shape=(438, 42, 320, 2160), chunksize=(1, 42, 320, 2160)>\n",
       "    DFyE_TH   (time, Z, YG, XC) float32 dask.array<shape=(438, 42, 320, 2160), chunksize=(1, 42, 320, 2160)>\n",
       "    DRHODR    (time, Zl, YC, XC) float32 dask.array<shape=(438, 42, 320, 2160), chunksize=(1, 42, 320, 2160)>\n",
       "    ETAN      (time, YC, XC) float32 dask.array<shape=(438, 320, 2160), chunksize=(1, 320, 2160)>\n",
       "    EXFswnet  (time, YC, XC) float32 dask.array<shape=(438, 320, 2160), chunksize=(1, 320, 2160)>\n",
       "    KPPg_SLT  (time, Zl, YC, XC) float32 dask.array<shape=(438, 42, 320, 2160), chunksize=(1, 42, 320, 2160)>\n",
       "    KPPg_TH   (time, Zl, YC, XC) float32 dask.array<shape=(438, 42, 320, 2160), chunksize=(1, 42, 320, 2160)>\n",
       "    PHIHYD    (time, Z, YC, XC) float32 dask.array<shape=(438, 42, 320, 2160), chunksize=(1, 42, 320, 2160)>\n",
       "    SALT      (time, Z, YC, XC) float32 dask.array<shape=(438, 42, 320, 2160), chunksize=(1, 42, 320, 2160)>\n",
       "    SFLUX     (time, YC, XC) float32 dask.array<shape=(438, 320, 2160), chunksize=(1, 320, 2160)>\n",
       "    SIarea    (time, YC, XC) float32 dask.array<shape=(438, 320, 2160), chunksize=(1, 320, 2160)>\n",
       "    SIatmFW   (time, YC, XC) float32 dask.array<shape=(438, 320, 2160), chunksize=(1, 320, 2160)>\n",
       "    SIatmQnt  (time, YC, XC) float32 dask.array<shape=(438, 320, 2160), chunksize=(1, 320, 2160)>\n",
       "    SIdHbATC  (time, YC, XC) float32 dask.array<shape=(438, 320, 2160), chunksize=(1, 320, 2160)>\n",
       "    SIdHbATO  (time, YC, XC) float32 dask.array<shape=(438, 320, 2160), chunksize=(1, 320, 2160)>\n",
       "    SIdHbOCN  (time, YC, XC) float32 dask.array<shape=(438, 320, 2160), chunksize=(1, 320, 2160)>\n",
       "    SIdSbATC  (time, YC, XC) float32 dask.array<shape=(438, 320, 2160), chunksize=(1, 320, 2160)>\n",
       "    SIdSbOCN  (time, YC, XC) float32 dask.array<shape=(438, 320, 2160), chunksize=(1, 320, 2160)>\n",
       "    SIempmr   (time, YC, XC) float32 dask.array<shape=(438, 320, 2160), chunksize=(1, 320, 2160)>\n",
       "    SIfu      (time, YC, XG) float32 dask.array<shape=(438, 320, 2160), chunksize=(1, 320, 2160)>\n",
       "    SIfv      (time, YG, XC) float32 dask.array<shape=(438, 320, 2160), chunksize=(1, 320, 2160)>\n",
       "    SIheff    (time, YC, XC) float32 dask.array<shape=(438, 320, 2160), chunksize=(1, 320, 2160)>\n",
       "    SIhsnow   (time, YC, XC) float32 dask.array<shape=(438, 320, 2160), chunksize=(1, 320, 2160)>\n",
       "    SIsnPrcp  (time, YC, XC) float32 dask.array<shape=(438, 320, 2160), chunksize=(1, 320, 2160)>\n",
       "    SItflux   (time, YC, XC) float32 dask.array<shape=(438, 320, 2160), chunksize=(1, 320, 2160)>\n",
       "    SIuheff   (time, YC, XG) float32 dask.array<shape=(438, 320, 2160), chunksize=(1, 320, 2160)>\n",
       "    SIuice    (time, YC, XG) float32 dask.array<shape=(438, 320, 2160), chunksize=(1, 320, 2160)>\n",
       "    SIvheff   (time, YG, XC) float32 dask.array<shape=(438, 320, 2160), chunksize=(1, 320, 2160)>\n",
       "    SIvice    (time, YG, XC) float32 dask.array<shape=(438, 320, 2160), chunksize=(1, 320, 2160)>\n",
       "    TFLUX     (time, YC, XC) float32 dask.array<shape=(438, 320, 2160), chunksize=(1, 320, 2160)>\n",
       "    THETA     (time, Z, YC, XC) float32 dask.array<shape=(438, 42, 320, 2160), chunksize=(1, 42, 320, 2160)>\n",
       "    TOTSTEND  (time, Z, YC, XC) float32 dask.array<shape=(438, 42, 320, 2160), chunksize=(1, 42, 320, 2160)>\n",
       "    TOTTTEND  (time, Z, YC, XC) float32 dask.array<shape=(438, 42, 320, 2160), chunksize=(1, 42, 320, 2160)>\n",
       "    UVEL      (time, Z, YC, XG) float32 dask.array<shape=(438, 42, 320, 2160), chunksize=(1, 42, 320, 2160)>\n",
       "    VVEL      (time, Z, YG, XC) float32 dask.array<shape=(438, 42, 320, 2160), chunksize=(1, 42, 320, 2160)>\n",
       "    WSLTMASS  (time, Zl, YC, XC) float32 dask.array<shape=(438, 42, 320, 2160), chunksize=(1, 42, 320, 2160)>\n",
       "    WTHMASS   (time, Zl, YC, XC) float32 dask.array<shape=(438, 42, 320, 2160), chunksize=(1, 42, 320, 2160)>\n",
       "    WVEL      (time, Zl, YC, XC) float32 dask.array<shape=(438, 42, 320, 2160), chunksize=(1, 42, 320, 2160)>\n",
       "    oceFreez  (time, YC, XC) float32 dask.array<shape=(438, 320, 2160), chunksize=(1, 320, 2160)>\n",
       "    oceQsw    (time, YC, XC) float32 dask.array<shape=(438, 320, 2160), chunksize=(1, 320, 2160)>\n",
       "    oceTAUX   (time, YC, XG) float32 dask.array<shape=(438, 320, 2160), chunksize=(1, 320, 2160)>\n",
       "    oceTAUY   (time, YG, XC) float32 dask.array<shape=(438, 320, 2160), chunksize=(1, 320, 2160)>\n",
       "    surForcS  (time, YC, XC) float32 dask.array<shape=(438, 320, 2160), chunksize=(1, 320, 2160)>\n",
       "    surForcT  (time, YC, XC) float32 dask.array<shape=(438, 320, 2160), chunksize=(1, 320, 2160)>"
      ]
     },
     "execution_count": 3,
     "metadata": {},
     "output_type": "execute_result"
    }
   ],
   "source": [
    "ocean_url = 'https://raw.githubusercontent.com/pangeo-data/pangeo-datastore/master/intake-catalogs/ocean.yaml'\n",
    "ocean_cat = intake.Catalog(ocean_url)\n",
    "ds_raw_coords = ocean_cat[\"SOSE\"].to_dask()\n",
    "ds_raw_coords"
   ]
  },
  {
   "cell_type": "code",
   "execution_count": 4,
   "metadata": {},
   "outputs": [
    {
     "data": {
      "text/plain": [
       "<xarray.Dataset>\n",
       "Dimensions:   (XC: 2160, XG: 2160, YC: 320, YG: 320, Z: 42, Zl: 42, Zp1: 43, Zu: 42, time: 438)\n",
       "Coordinates:\n",
       "  * XC        (XC) float32 0.083333336 0.25 0.4166667 ... 359.75 359.9167\n",
       "  * XG        (XG) float32 5.551115e-17 0.16666667 ... 359.6667 359.83334\n",
       "  * YC        (YC) float32 -77.87497 -77.7083 -77.54163 ... -24.874966 -24.7083\n",
       "  * YG        (YG) float32 -77.9583 -77.79163 -77.62497 ... -24.9583 -24.791632\n",
       "  * Z         (Z) float32 -5.0 -15.5 -27.0 -39.5 ... -5075.0 -5325.0 -5575.0\n",
       "  * Zl        (Zl) float32 0.0 -10.0 -21.0 -33.0 ... -4950.0 -5200.0 -5450.0\n",
       "  * Zp1       (Zp1) float32 0.0 -10.0 -21.0 -33.0 ... -5200.0 -5450.0 -5700.0\n",
       "  * Zu        (Zu) float32 -10.0 -21.0 -33.0 -46.0 ... -5200.0 -5450.0 -5700.0\n",
       "  * time      (time) datetime64[ns] 2005-01-06 2005-01-11 ... 2010-12-31\n",
       "Data variables:\n",
       "    ADVr_SLT  (time, Zl, YC, XC) float32 dask.array<shape=(438, 42, 320, 2160), chunksize=(1, 42, 320, 2160)>\n",
       "    ADVr_TH   (time, Zl, YC, XC) float32 dask.array<shape=(438, 42, 320, 2160), chunksize=(1, 42, 320, 2160)>\n",
       "    ADVx_SLT  (time, Z, YC, XG) float32 dask.array<shape=(438, 42, 320, 2160), chunksize=(1, 42, 320, 2160)>\n",
       "    ADVx_TH   (time, Z, YC, XG) float32 dask.array<shape=(438, 42, 320, 2160), chunksize=(1, 42, 320, 2160)>\n",
       "    ADVy_SLT  (time, Z, YG, XC) float32 dask.array<shape=(438, 42, 320, 2160), chunksize=(1, 42, 320, 2160)>\n",
       "    ADVy_TH   (time, Z, YG, XC) float32 dask.array<shape=(438, 42, 320, 2160), chunksize=(1, 42, 320, 2160)>\n",
       "    DFrE_SLT  (time, Zl, YC, XC) float32 dask.array<shape=(438, 42, 320, 2160), chunksize=(1, 42, 320, 2160)>\n",
       "    DFrE_TH   (time, Zl, YC, XC) float32 dask.array<shape=(438, 42, 320, 2160), chunksize=(1, 42, 320, 2160)>\n",
       "    DFrI_SLT  (time, Zl, YC, XC) float32 dask.array<shape=(438, 42, 320, 2160), chunksize=(1, 42, 320, 2160)>\n",
       "    DFrI_TH   (time, Zl, YC, XC) float32 dask.array<shape=(438, 42, 320, 2160), chunksize=(1, 42, 320, 2160)>\n",
       "    DFxE_SLT  (time, Z, YC, XG) float32 dask.array<shape=(438, 42, 320, 2160), chunksize=(1, 42, 320, 2160)>\n",
       "    DFxE_TH   (time, Z, YC, XG) float32 dask.array<shape=(438, 42, 320, 2160), chunksize=(1, 42, 320, 2160)>\n",
       "    DFyE_SLT  (time, Z, YG, XC) float32 dask.array<shape=(438, 42, 320, 2160), chunksize=(1, 42, 320, 2160)>\n",
       "    DFyE_TH   (time, Z, YG, XC) float32 dask.array<shape=(438, 42, 320, 2160), chunksize=(1, 42, 320, 2160)>\n",
       "    DRHODR    (time, Zl, YC, XC) float32 dask.array<shape=(438, 42, 320, 2160), chunksize=(1, 42, 320, 2160)>\n",
       "    ETAN      (time, YC, XC) float32 dask.array<shape=(438, 320, 2160), chunksize=(1, 320, 2160)>\n",
       "    EXFswnet  (time, YC, XC) float32 dask.array<shape=(438, 320, 2160), chunksize=(1, 320, 2160)>\n",
       "    KPPg_SLT  (time, Zl, YC, XC) float32 dask.array<shape=(438, 42, 320, 2160), chunksize=(1, 42, 320, 2160)>\n",
       "    KPPg_TH   (time, Zl, YC, XC) float32 dask.array<shape=(438, 42, 320, 2160), chunksize=(1, 42, 320, 2160)>\n",
       "    PHIHYD    (time, Z, YC, XC) float32 dask.array<shape=(438, 42, 320, 2160), chunksize=(1, 42, 320, 2160)>\n",
       "    SALT      (time, Z, YC, XC) float32 dask.array<shape=(438, 42, 320, 2160), chunksize=(1, 42, 320, 2160)>\n",
       "    SFLUX     (time, YC, XC) float32 dask.array<shape=(438, 320, 2160), chunksize=(1, 320, 2160)>\n",
       "    SIarea    (time, YC, XC) float32 dask.array<shape=(438, 320, 2160), chunksize=(1, 320, 2160)>\n",
       "    SIatmFW   (time, YC, XC) float32 dask.array<shape=(438, 320, 2160), chunksize=(1, 320, 2160)>\n",
       "    SIatmQnt  (time, YC, XC) float32 dask.array<shape=(438, 320, 2160), chunksize=(1, 320, 2160)>\n",
       "    SIdHbATC  (time, YC, XC) float32 dask.array<shape=(438, 320, 2160), chunksize=(1, 320, 2160)>\n",
       "    SIdHbATO  (time, YC, XC) float32 dask.array<shape=(438, 320, 2160), chunksize=(1, 320, 2160)>\n",
       "    SIdHbOCN  (time, YC, XC) float32 dask.array<shape=(438, 320, 2160), chunksize=(1, 320, 2160)>\n",
       "    SIdSbATC  (time, YC, XC) float32 dask.array<shape=(438, 320, 2160), chunksize=(1, 320, 2160)>\n",
       "    SIdSbOCN  (time, YC, XC) float32 dask.array<shape=(438, 320, 2160), chunksize=(1, 320, 2160)>\n",
       "    SIempmr   (time, YC, XC) float32 dask.array<shape=(438, 320, 2160), chunksize=(1, 320, 2160)>\n",
       "    SIfu      (time, YC, XG) float32 dask.array<shape=(438, 320, 2160), chunksize=(1, 320, 2160)>\n",
       "    SIfv      (time, YG, XC) float32 dask.array<shape=(438, 320, 2160), chunksize=(1, 320, 2160)>\n",
       "    SIheff    (time, YC, XC) float32 dask.array<shape=(438, 320, 2160), chunksize=(1, 320, 2160)>\n",
       "    SIhsnow   (time, YC, XC) float32 dask.array<shape=(438, 320, 2160), chunksize=(1, 320, 2160)>\n",
       "    SIsnPrcp  (time, YC, XC) float32 dask.array<shape=(438, 320, 2160), chunksize=(1, 320, 2160)>\n",
       "    SItflux   (time, YC, XC) float32 dask.array<shape=(438, 320, 2160), chunksize=(1, 320, 2160)>\n",
       "    SIuheff   (time, YC, XG) float32 dask.array<shape=(438, 320, 2160), chunksize=(1, 320, 2160)>\n",
       "    SIuice    (time, YC, XG) float32 dask.array<shape=(438, 320, 2160), chunksize=(1, 320, 2160)>\n",
       "    SIvheff   (time, YG, XC) float32 dask.array<shape=(438, 320, 2160), chunksize=(1, 320, 2160)>\n",
       "    SIvice    (time, YG, XC) float32 dask.array<shape=(438, 320, 2160), chunksize=(1, 320, 2160)>\n",
       "    TFLUX     (time, YC, XC) float32 dask.array<shape=(438, 320, 2160), chunksize=(1, 320, 2160)>\n",
       "    THETA     (time, Z, YC, XC) float32 dask.array<shape=(438, 42, 320, 2160), chunksize=(1, 42, 320, 2160)>\n",
       "    TOTSTEND  (time, Z, YC, XC) float32 dask.array<shape=(438, 42, 320, 2160), chunksize=(1, 42, 320, 2160)>\n",
       "    TOTTTEND  (time, Z, YC, XC) float32 dask.array<shape=(438, 42, 320, 2160), chunksize=(1, 42, 320, 2160)>\n",
       "    UVEL      (time, Z, YC, XG) float32 dask.array<shape=(438, 42, 320, 2160), chunksize=(1, 42, 320, 2160)>\n",
       "    VVEL      (time, Z, YG, XC) float32 dask.array<shape=(438, 42, 320, 2160), chunksize=(1, 42, 320, 2160)>\n",
       "    WSLTMASS  (time, Zl, YC, XC) float32 dask.array<shape=(438, 42, 320, 2160), chunksize=(1, 42, 320, 2160)>\n",
       "    WTHMASS   (time, Zl, YC, XC) float32 dask.array<shape=(438, 42, 320, 2160), chunksize=(1, 42, 320, 2160)>\n",
       "    WVEL      (time, Zl, YC, XC) float32 dask.array<shape=(438, 42, 320, 2160), chunksize=(1, 42, 320, 2160)>\n",
       "    oceFreez  (time, YC, XC) float32 dask.array<shape=(438, 320, 2160), chunksize=(1, 320, 2160)>\n",
       "    oceQsw    (time, YC, XC) float32 dask.array<shape=(438, 320, 2160), chunksize=(1, 320, 2160)>\n",
       "    oceTAUX   (time, YC, XG) float32 dask.array<shape=(438, 320, 2160), chunksize=(1, 320, 2160)>\n",
       "    oceTAUY   (time, YG, XC) float32 dask.array<shape=(438, 320, 2160), chunksize=(1, 320, 2160)>\n",
       "    surForcS  (time, YC, XC) float32 dask.array<shape=(438, 320, 2160), chunksize=(1, 320, 2160)>\n",
       "    surForcT  (time, YC, XC) float32 dask.array<shape=(438, 320, 2160), chunksize=(1, 320, 2160)>"
      ]
     },
     "execution_count": 4,
     "metadata": {},
     "output_type": "execute_result"
    }
   ],
   "source": [
    "coords = ds_raw_coords.coords.to_dataset().reset_coords() #ds split into coords\n",
    "ds = ds_raw_coords.reset_coords(drop=True) #ds dropping coords so it just holds data variables\n",
    "ds"
   ]
  },
  {
   "cell_type": "markdown",
   "metadata": {},
   "source": [
    "## Compute density flux\n",
    "(units of $\\frac{kg}{m^{2}s}$)\n",
    "$$\n",
    "F_{\\sigma} = F_{heat}\\frac{\\partial\\sigma}{\\partial\\theta} + F_{salt}\\frac{\\partial\\sigma}{\\partial S}\\\n",
    "$$"
   ]
  },
  {
   "cell_type": "markdown",
   "metadata": {},
   "source": [
    "$$\n",
    "\\alpha = - \\frac{1}{\\rho_{0}c^{0}_{p}} \\frac{\\partial\\rho}{\\partial \\theta}\n",
    "$$\n",
    "\n",
    "$$\n",
    "\\beta = \\frac{1}{\\rho_{0}} \\frac{\\partial\\rho}{\\partial S}\n",
    "$$"
   ]
  },
  {
   "cell_type": "code",
   "execution_count": 5,
   "metadata": {},
   "outputs": [],
   "source": [
    "sst = ds.THETA.isel(Z=0)\n",
    "sss = ds.SALT.isel(Z=0)"
   ]
  },
  {
   "cell_type": "code",
   "execution_count": 6,
   "metadata": {},
   "outputs": [
    {
     "data": {
      "text/plain": [
       "<xarray.DataArray (time: 438, YC: 320, XC: 2160)>\n",
       "dask.array<shape=(438, 320, 2160), dtype=float32, chunksize=(1, 320, 2160)>\n",
       "Coordinates:\n",
       "  * XC       (XC) float32 0.083333336 0.25 0.4166667 ... 359.75 359.9167\n",
       "  * YC       (YC) float32 -77.87497 -77.7083 -77.54163 ... -24.874966 -24.7083\n",
       "  * time     (time) datetime64[ns] 2005-01-06 2005-01-11 ... 2010-12-31"
      ]
     },
     "execution_count": 6,
     "metadata": {},
     "output_type": "execute_result"
    }
   ],
   "source": [
    "#converting practical salinity to absolute salinity\n",
    "sa = xr.apply_ufunc(gsw.SA_from_SP, sss, 0, ds.XC, ds.YC,\n",
    "                    output_dtypes=[sss.dtype],\n",
    "                    dask='parallelized').reset_coords(drop=True)\n",
    "sa"
   ]
  },
  {
   "cell_type": "code",
   "execution_count": 7,
   "metadata": {},
   "outputs": [
    {
     "data": {
      "text/plain": [
       "<xarray.DataArray (time: 438, YC: 320, XC: 2160)>\n",
       "dask.array<shape=(438, 320, 2160), dtype=float32, chunksize=(1, 320, 2160)>\n",
       "Coordinates:\n",
       "  * XC       (XC) float32 0.083333336 0.25 0.4166667 ... 359.75 359.9167\n",
       "  * YC       (YC) float32 -77.87497 -77.7083 -77.54163 ... -24.874966 -24.7083\n",
       "  * time     (time) datetime64[ns] 2005-01-06 2005-01-11 ... 2010-12-31"
      ]
     },
     "execution_count": 7,
     "metadata": {},
     "output_type": "execute_result"
    }
   ],
   "source": [
    "#converting potential temperature to conservative temperature\n",
    "ct = xr.apply_ufunc(gsw.CT_from_pt, sa, sst,\n",
    "                    output_dtypes=[sss.dtype],\n",
    "                    dask='parallelized').reset_coords(drop=True)\n",
    "ct"
   ]
  },
  {
   "cell_type": "code",
   "execution_count": 8,
   "metadata": {},
   "outputs": [],
   "source": [
    "runit2mass = 1.035e3 #rho_not\n",
    "heat_capacity_cp = 3.994e3 #J/˚K/kg"
   ]
  },
  {
   "cell_type": "markdown",
   "metadata": {},
   "source": [
    "### Thermal expansion coefficient @ surface"
   ]
  },
  {
   "cell_type": "code",
   "execution_count": 9,
   "metadata": {},
   "outputs": [
    {
     "data": {
      "text/plain": [
       "<xarray.DataArray (time: 438, YC: 320, XC: 2160)>\n",
       "dask.array<shape=(438, 320, 2160), dtype=float32, chunksize=(1, 320, 2160)>\n",
       "Coordinates:\n",
       "  * XC       (XC) float32 0.083333336 0.25 0.4166667 ... 359.75 359.9167\n",
       "  * YC       (YC) float32 -77.87497 -77.7083 -77.54163 ... -24.874966 -24.7083\n",
       "  * time     (time) datetime64[ns] 2005-01-06 2005-01-11 ... 2010-12-31"
      ]
     },
     "execution_count": 9,
     "metadata": {},
     "output_type": "execute_result"
    }
   ],
   "source": [
    "#thermal expansion coefficient @ surface\n",
    "alpha_0 = xr.apply_ufunc(gsw.alpha, sa, ct, 0,\n",
    "                    output_dtypes=[sst.dtype],\n",
    "                    dask='parallelized').reset_coords(drop=True)\n",
    "alpha_0"
   ]
  },
  {
   "cell_type": "markdown",
   "metadata": {},
   "source": [
    "### Haline contraction coefficient @ surface"
   ]
  },
  {
   "cell_type": "code",
   "execution_count": 10,
   "metadata": {},
   "outputs": [
    {
     "data": {
      "text/plain": [
       "<xarray.DataArray (time: 438, YC: 320, XC: 2160)>\n",
       "dask.array<shape=(438, 320, 2160), dtype=float32, chunksize=(1, 320, 2160)>\n",
       "Coordinates:\n",
       "  * XC       (XC) float32 0.083333336 0.25 0.4166667 ... 359.75 359.9167\n",
       "  * YC       (YC) float32 -77.87497 -77.7083 -77.54163 ... -24.874966 -24.7083\n",
       "  * time     (time) datetime64[ns] 2005-01-06 2005-01-11 ... 2010-12-31"
      ]
     },
     "execution_count": 10,
     "metadata": {},
     "output_type": "execute_result"
    }
   ],
   "source": [
    "#haline contraction coefficient @ surface\n",
    "beta_0 = xr.apply_ufunc(gsw.beta, sa, ct, 0,\n",
    "                      output_dtypes=[sss.dtype],\n",
    "                      dask='parallelized').reset_coords(drop=True)\n",
    "beta_0"
   ]
  },
  {
   "cell_type": "markdown",
   "metadata": {},
   "source": [
    "## Temperature component of sigma flux at surface"
   ]
  },
  {
   "cell_type": "markdown",
   "metadata": {},
   "source": [
    "$$\n",
    "\\frac{\\partial}{\\partial{\\sigma}} \\int{F_{\\sigma_{heat}}} dV = \\frac{\\partial{\\sigma}}{\\partial{\\theta}} \\frac{\\dot{\\theta}}{\\sigma} = \\alpha \\dot{\\theta}\n",
    "$$"
   ]
  },
  {
   "cell_type": "code",
   "execution_count": 11,
   "metadata": {},
   "outputs": [],
   "source": [
    "sst_mean = ds.THETA.isel(Z=0).mean(dim='time')#.load()"
   ]
  },
  {
   "cell_type": "code",
   "execution_count": 12,
   "metadata": {},
   "outputs": [],
   "source": [
    "surface_mask = (coords.hFacC[0]>0)#.load()"
   ]
  },
  {
   "cell_type": "code",
   "execution_count": 13,
   "metadata": {},
   "outputs": [
    {
     "data": {
      "text/plain": [
       "<matplotlib.collections.QuadMesh at 0x7f60afd75470>"
      ]
     },
     "execution_count": 13,
     "metadata": {},
     "output_type": "execute_result"
    },
    {
     "data": {
      "image/png": "[encoded data removed]",
      "text/plain": [
       "<Figure size 432x288 with 2 Axes>"
      ]
     },
     "metadata": {
      "needs_background": "light"
     },
     "output_type": "display_data"
    }
   ],
   "source": [
    "sst_mean.where(surface_mask).plot()"
   ]
  },
  {
   "cell_type": "code",
   "execution_count": 14,
   "metadata": {},
   "outputs": [],
   "source": [
    "left_lon = 298\n",
    "upper_lat = -65\n",
    "right_lon = 360\n",
    "lower_lat = -78"
   ]
  },
  {
   "cell_type": "code",
   "execution_count": 15,
   "metadata": {},
   "outputs": [
    {
     "data": {
      "image/png": "[encoded data removed]",
      "text/plain": [
       "<Figure size 864x576 with 2 Axes>"
      ]
     },
     "metadata": {
      "needs_background": "light"
     },
     "output_type": "display_data"
    }
   ],
   "source": [
    "fig, ax = plt.subplots(figsize=(12,8), subplot_kw={'facecolor': '0.5'})\n",
    "(sst_mean.where(surface_mask)).plot(ax=ax, vmin=-2, vmax=10)\n",
    "ax.plot([left_lon, right_lon], [upper_lat, upper_lat], color='w')\n",
    "ax.plot([right_lon, right_lon], [lower_lat, upper_lat], color='w')\n",
    "ax.plot([left_lon, left_lon], [lower_lat, upper_lat], color='w')\n",
    "ax.plot([left_lon, right_lon], [lower_lat, lower_lat], color='w')\n",
    "#ax.patch(xy=(-80, 290), width=70, height=20)\n",
    "#ax.patch(xy=(295,-80), width = 1, height = 1)\n",
    "ax.set_xlim([287, 362])\n",
    "ax.set_ylim([-80, -55])\n",
    "plt.title('Surface Mask @ ~2km\\nLat[290,360]\\nLon[-80,-63.5]');"
   ]
  },
  {
   "cell_type": "code",
   "execution_count": 16,
   "metadata": {},
   "outputs": [],
   "source": [
    "lower_lat = 0\n",
    "upper_lat = 78\n",
    "left_lon = 1788\n",
    "right_lon = 2159"
   ]
  },
  {
   "cell_type": "code",
   "execution_count": 17,
   "metadata": {},
   "outputs": [],
   "source": [
    "#set the boundaries\n",
    "lat_range = dict(YC=slice(lower_lat, upper_lat))\n",
    "lon_range = dict(XC=slice(left_lon, right_lon))"
   ]
  },
  {
   "cell_type": "code",
   "execution_count": 18,
   "metadata": {},
   "outputs": [
    {
     "data": {
      "text/plain": [
       "<xarray.DataArray (time: 438)>\n",
       "array([-13177336., -13868049., -15939710., ..., -13312121.,  -9721594.,\n",
       "       -11875297.], dtype=float32)\n",
       "Coordinates:\n",
       "    XG       float32 359.83334\n",
       "  * time     (time) datetime64[ns] 2005-01-06 2005-01-11 ... 2010-12-31\n",
       "    YG       float32 -64.9583"
      ]
     },
     "execution_count": 18,
     "metadata": {},
     "output_type": "execute_result"
    }
   ],
   "source": [
    "#advective flux\n",
    "adv_flux_y = ds.ADVy_TH.isel(**lon_range, YG=upper_lat).sum(dim=['XC', 'Z']).load()\n",
    "adv_flux_x = ds.ADVx_TH.isel(**lat_range, XG=right_lon).sum(dim=['YC', 'Z']).load()\n",
    "\n",
    "adv_flux = adv_flux_x + adv_flux_y\n",
    "adv_flux.load()\n",
    "#units: (˚C m^3)/s"
   ]
  },
  {
   "cell_type": "code",
   "execution_count": 19,
   "metadata": {},
   "outputs": [
    {
     "data": {
      "text/plain": [
       "<xarray.DataArray (time: 438)>\n",
       "array([ -7738.631 , -13908.878 ,  -6383.6543, ...,  37860.953 ,  43654.906 ,\n",
       "        30965.42  ], dtype=float32)\n",
       "Coordinates:\n",
       "    XG       float32 359.83334\n",
       "  * time     (time) datetime64[ns] 2005-01-06 2005-01-11 ... 2010-12-31\n",
       "    YG       float32 -64.9583"
      ]
     },
     "execution_count": 19,
     "metadata": {},
     "output_type": "execute_result"
    }
   ],
   "source": [
    "#diffusive flux\n",
    "diff_flux_y = ds.DFyE_TH.isel(**lon_range, YG=upper_lat).sum(dim=['XC', 'Z']).load()\n",
    "diff_flux_x = ds.DFxE_TH.isel(**lat_range, XG=right_lon).sum(dim=['YC', 'Z']).load()\n",
    "\n",
    "diff_flux = diff_flux_x + diff_flux_y\n",
    "diff_flux.load()\n",
    "#units: (˚C m^3)/s"
   ]
  },
  {
   "cell_type": "code",
   "execution_count": 20,
   "metadata": {},
   "outputs": [
    {
     "data": {
      "text/plain": [
       "<xarray.DataArray (time: 438)>\n",
       "dask.array<shape=(438,), dtype=float32, chunksize=(1,)>\n",
       "Coordinates:\n",
       "  * time     (time) datetime64[ns] 2005-01-06 2005-01-11 ... 2010-12-31"
      ]
     },
     "execution_count": 20,
     "metadata": {},
     "output_type": "execute_result"
    }
   ],
   "source": [
    "#vertical flux\n",
    "t_flux_z = (ds.TFLUX.isel(**lat_range, **lon_range) * coords.rA).sum(dim=['XC','YC'])\n",
    "t_flux_z#.load()\n",
    "#units: W = (kg*m^2)/s^3"
   ]
  },
  {
   "cell_type": "code",
   "execution_count": 21,
   "metadata": {},
   "outputs": [],
   "source": [
    "#linear free surface correction\n",
    "surface_term = t_flux_z / (heat_capacity_cp * runit2mass)\n",
    "#units: (˚C m^3)/s\n",
    "\n",
    "lin_fs_correction = -(ds.WTHMASS.isel(Zl=0, drop=True) * coords.rA\n",
    "                     ).isel(**lat_range, **lon_range).sum(dim=['XC', 'YC'])\n",
    "#units: (˚C m^3)/s"
   ]
  },
  {
   "cell_type": "code",
   "execution_count": 22,
   "metadata": {},
   "outputs": [
    {
     "data": {
      "text/plain": [
       "<xarray.DataArray (time: 438)>\n",
       "dask.array<shape=(438,), dtype=float32, chunksize=(1,)>\n",
       "Coordinates:\n",
       "  * time     (time) datetime64[ns] 2005-01-06 2005-01-11 ... 2010-12-31"
      ]
     },
     "execution_count": 22,
     "metadata": {},
     "output_type": "execute_result"
    }
   ],
   "source": [
    "surface_term"
   ]
  },
  {
   "cell_type": "code",
   "execution_count": 23,
   "metadata": {},
   "outputs": [
    {
     "data": {
      "text/plain": [
       "<xarray.DataArray (time: 438)>\n",
       "array([-5951370.5 ,   511134.2 ,  -564776.1 , ...,  -875860.25,  -550849.06,\n",
       "        -347501.28], dtype=float32)\n",
       "Coordinates:\n",
       "  * time     (time) datetime64[ns] 2005-01-06 2005-01-11 ... 2010-12-31"
      ]
     },
     "execution_count": 23,
     "metadata": {},
     "output_type": "execute_result"
    }
   ],
   "source": [
    "surface_term.load()\n",
    "lin_fs_correction.load()"
   ]
  },
  {
   "cell_type": "code",
   "execution_count": null,
   "metadata": {},
   "outputs": [],
   "source": [
    "tottend_weddell = (ds.TOTTTEND * coords.rA * coords.drF * coords.hFacC).isel(\n",
    "                                                   **lon_range, **lat_range).sum(dim=['XC', 'YC', 'Z']) / (24*60*60)\n",
    "tottend_weddell.load()\n",
    "#units: (˚C m^3)/s"
   ]
  },
  {
   "cell_type": "code",
   "execution_count": null,
   "metadata": {},
   "outputs": [],
   "source": [
    "rhs = - adv_flux - diff_flux + lin_fs_correction + surface_term\n",
    "lhs = tottend_weddell\n",
    "\n",
    "plt.figure(figsize=(12,6))\n",
    "rhs.plot(label='rhs')\n",
    "lhs.plot(label='lhs')\n",
    "plt.legend()\n",
    "plt.grid();"
   ]
  },
  {
   "cell_type": "code",
   "execution_count": null,
   "metadata": {},
   "outputs": [],
   "source": [
    "rhs"
   ]
  },
  {
   "cell_type": "code",
   "execution_count": null,
   "metadata": {},
   "outputs": [],
   "source": [
    "alpha_surf = (alpha_0.isel(**lat_range, **lon_range) * coords.rA).sum(dim=['XC','YC']).load()\n",
    "alpha_surf # "
   ]
  },
  {
   "cell_type": "code",
   "execution_count": null,
   "metadata": {},
   "outputs": [],
   "source": [
    "F_sig_heat = (alpha_surf * rhs) #/ heat_capacity_cp\n",
    "F_sig_heat.load() #kg/m^2/s"
   ]
  },
  {
   "cell_type": "code",
   "execution_count": null,
   "metadata": {},
   "outputs": [],
   "source": [
    "F_sig_heat.plot(figsize=(12,6))\n",
    "plt.xlim('2005', '2011')\n",
    "plt.grid()\n",
    "plt.title('Temperature component of density flux\\n@ surface');"
   ]
  },
  {
   "cell_type": "markdown",
   "metadata": {},
   "source": [
    "## Salinity component of sigma flux at surface"
   ]
  },
  {
   "cell_type": "markdown",
   "metadata": {},
   "source": [
    "$$\n",
    "F_{\\sigma_{salt}} = \\frac{\\partial{\\sigma}}{\\partial{S}}\\dot{S} = \\beta \\frac{(E-P-R)}{\\rho_{fw}} = \\beta\\dot{S}\n",
    "$$"
   ]
  },
  {
   "cell_type": "code",
   "execution_count": null,
   "metadata": {},
   "outputs": [],
   "source": [
    "sss_mean = ds.SALT.isel(Z=0).mean(dim='time').load()"
   ]
  },
  {
   "cell_type": "code",
   "execution_count": null,
   "metadata": {},
   "outputs": [],
   "source": [
    "surface_mask = (coords.hFacC[0]>0).load()"
   ]
  },
  {
   "cell_type": "code",
   "execution_count": null,
   "metadata": {},
   "outputs": [],
   "source": [
    "sss_mean.where(surface_mask).plot()"
   ]
  },
  {
   "cell_type": "code",
   "execution_count": null,
   "metadata": {},
   "outputs": [],
   "source": [
    "left_lon = 298\n",
    "upper_lat = -65\n",
    "right_lon = 360\n",
    "lower_lat = -78"
   ]
  },
  {
   "cell_type": "code",
   "execution_count": null,
   "metadata": {},
   "outputs": [],
   "source": [
    "fig, ax = plt.subplots(figsize=(12,8), subplot_kw={'facecolor': '0.5'})\n",
    "\n",
    "(sss_mean.where(surface_mask)).plot(ax=ax, vmin=25, vmax=35)\n",
    "\n",
    "ax.plot([left_lon, right_lon], [upper_lat, upper_lat], color='w')\n",
    "ax.plot([right_lon, right_lon], [lower_lat, upper_lat], color='w')\n",
    "ax.plot([left_lon, left_lon], [lower_lat, upper_lat], color='w')\n",
    "ax.plot([left_lon, right_lon], [lower_lat, lower_lat], color='w')\n",
    "\n",
    "ax.set_xlim([287, 362])\n",
    "ax.set_ylim([-80, -55])\n",
    "plt.title('Surface Mask @ surf\\nLat[290,360]\\nLon[-80,-63.5]');"
   ]
  },
  {
   "cell_type": "code",
   "execution_count": null,
   "metadata": {},
   "outputs": [],
   "source": [
    "lower_lat = 0\n",
    "upper_lat = 78\n",
    "left_lon = 1788\n",
    "right_lon = 2159"
   ]
  },
  {
   "cell_type": "code",
   "execution_count": null,
   "metadata": {},
   "outputs": [],
   "source": [
    "#set the boundaries\n",
    "lat_range = dict(YC=slice(lower_lat, upper_lat))\n",
    "lon_range = dict(XC=slice(left_lon, right_lon))"
   ]
  },
  {
   "cell_type": "code",
   "execution_count": null,
   "metadata": {},
   "outputs": [],
   "source": [
    "#advective flux\n",
    "adv_flux_y = ds.ADVy_SLT.isel(**lon_range, YG=upper_lat).sum(dim=['XC', 'Z']).load()\n",
    "adv_flux_x = ds.ADVx_SLT.isel(**lat_range, XG=right_lon).sum(dim=['YC', 'Z']).load()\n",
    "\n",
    "adv_flux = adv_flux_x + adv_flux_y\n",
    "adv_flux.load()\n",
    "#units: (˚C m^3)/s"
   ]
  },
  {
   "cell_type": "code",
   "execution_count": null,
   "metadata": {},
   "outputs": [],
   "source": [
    "#diffusive flux\n",
    "diff_flux_y = ds.DFyE_SLT.isel(**lon_range, YG=upper_lat).sum(dim=['XC', 'Z']).load()\n",
    "diff_flux_x = ds.DFxE_SLT.isel(**lat_range, XG=right_lon).sum(dim=['YC', 'Z']).load()\n",
    "\n",
    "diff_flux = diff_flux_x + diff_flux_y\n",
    "diff_flux.load()\n",
    "#units: (˚C m^3)/s"
   ]
  },
  {
   "cell_type": "code",
   "execution_count": null,
   "metadata": {},
   "outputs": [],
   "source": [
    "#vertical flux\n",
    "s_flux_z = (ds.SFLUX.isel(**lat_range, **lon_range) * coords.rA).sum(dim=['XC','YC'])\n",
    "s_flux_z.load()\n",
    "#units: W = (kg*m^2)/s^3"
   ]
  },
  {
   "cell_type": "code",
   "execution_count": null,
   "metadata": {},
   "outputs": [],
   "source": [
    "#linear free surface correction\n",
    "runit2mass = 1.035e3 #kg/m^3\n",
    "surface_term = s_flux_z / runit2mass\n",
    "#units: (˚C m^3)/s\n",
    "\n",
    "lin_fs_correction = -(ds.WSLTMASS.isel(Zl=0, drop=True) * coords.rA\n",
    "                     ).isel(**lat_range, **lon_range).sum(dim=['XC', 'YC'])\n",
    "#i noticed lin_fs_corr term didn't have `**lon_range` - should it not have?\n",
    "#units: (˚C m^3)/s"
   ]
  },
  {
   "cell_type": "code",
   "execution_count": null,
   "metadata": {},
   "outputs": [],
   "source": [
    "surface_term.load()"
   ]
  },
  {
   "cell_type": "code",
   "execution_count": null,
   "metadata": {},
   "outputs": [],
   "source": [
    "lin_fs_correction.load()"
   ]
  },
  {
   "cell_type": "code",
   "execution_count": null,
   "metadata": {},
   "outputs": [],
   "source": [
    "totstend_weddell = (ds.TOTSTEND * coords.rA * coords.drF * coords.hFacC).isel(\n",
    "                            **lon_range, **lat_range).sum(dim=['XC', 'YC', 'Z']) / (24*60*60)\n",
    "totstend_weddell.load()\n",
    "#units: (˚C m^3)/s"
   ]
  },
  {
   "cell_type": "code",
   "execution_count": null,
   "metadata": {},
   "outputs": [],
   "source": [
    "rhs = - adv_flux - diff_flux + lin_fs_correction + surface_term\n",
    "lhs = totstend_weddell\n",
    "\n",
    "plt.figure(figsize=(12,6))\n",
    "rhs.plot(label='rhs')\n",
    "lhs.plot(label='lhs')\n",
    "plt.legend()\n",
    "plt.grid();"
   ]
  },
  {
   "cell_type": "code",
   "execution_count": null,
   "metadata": {},
   "outputs": [],
   "source": [
    "beta_surf = (beta_0.isel(**lat_range, **lon_range) * coords.rA).sum(dim=['XC','YC']).load()\n",
    "beta_surf"
   ]
  },
  {
   "cell_type": "code",
   "execution_count": null,
   "metadata": {},
   "outputs": [],
   "source": [
    "F_sig_salt = beta_surf * rhs\n",
    "F_sig_salt.load() #kg/m^2/s"
   ]
  },
  {
   "cell_type": "code",
   "execution_count": null,
   "metadata": {},
   "outputs": [],
   "source": [
    "F_sig_salt.plot(figsize=(12,6))\n",
    "plt.xlim('2005', '2011')\n",
    "plt.grid()\n",
    "plt.title('Salt component of density flux\\n @ surface');"
   ]
  },
  {
   "cell_type": "code",
   "execution_count": null,
   "metadata": {},
   "outputs": [],
   "source": [
    "plt.figure(figsize=(12,7))\n",
    "F_sig_heat.plot(label='temp component', c='cornflowerblue')\n",
    "F_sig_salt.plot(label='salt component', c='darkorange')\n",
    "(F_sig_heat + F_sig_salt).plot(label='total density flux', c='mediumpurple')\n",
    "plt.xlim('2005', '2011')\n",
    "plt.grid()\n",
    "plt.legend()\n",
    "plt.title('Total Density Flux\\nfor entire water column', fontsize=14, weight='medium');"
   ]
  },
  {
   "cell_type": "markdown",
   "metadata": {},
   "source": [
    "# Lower 3km"
   ]
  },
  {
   "cell_type": "code",
   "execution_count": null,
   "metadata": {},
   "outputs": [],
   "source": [
    "sst_lower = ds.THETA.isel(Z=27)\n",
    "sss_lower = ds.SALT.isel(Z=27)"
   ]
  },
  {
   "cell_type": "code",
   "execution_count": null,
   "metadata": {},
   "outputs": [],
   "source": [
    "#converting practical salinity to absolute salinity\n",
    "sa_lower = xr.apply_ufunc(gsw.SA_from_SP, sss_lower, 27, ds.XC, ds.YC,\n",
    "                    output_dtypes=[sss_lower.dtype],\n",
    "                    dask='parallelized').reset_coords(drop=True)\n",
    "sa_lower"
   ]
  },
  {
   "cell_type": "code",
   "execution_count": null,
   "metadata": {},
   "outputs": [],
   "source": [
    "#converting potential temperature to conservative temperature\n",
    "ct_lower = xr.apply_ufunc(gsw.CT_from_pt, sa_lower, sst_lower,\n",
    "                    output_dtypes=[sss_lower.dtype],\n",
    "                    dask='parallelized').reset_coords(drop=True)\n",
    "ct_lower"
   ]
  },
  {
   "cell_type": "markdown",
   "metadata": {},
   "source": [
    "### Thermal expansion coefficient @ 2,046m"
   ]
  },
  {
   "cell_type": "code",
   "execution_count": null,
   "metadata": {},
   "outputs": [],
   "source": [
    "#thermal expansion coefficient @ 2,046m\n",
    "alpha_lower = xr.apply_ufunc(gsw.alpha, sa_lower, ct_lower, 27,\n",
    "                    output_dtypes=[sst_lower.dtype],\n",
    "                    dask='parallelized').reset_coords(drop=True)\n",
    "alpha_lower"
   ]
  },
  {
   "cell_type": "markdown",
   "metadata": {},
   "source": [
    "### Haline contraction coefficient @ 2,046m"
   ]
  },
  {
   "cell_type": "code",
   "execution_count": null,
   "metadata": {},
   "outputs": [],
   "source": [
    "#haline contraction coefficient @ 2,046m\n",
    "beta_lower = xr.apply_ufunc(gsw.beta, sa_lower, ct_lower, 27,\n",
    "                      output_dtypes=[sss_lower.dtype],\n",
    "                      dask='parallelized').reset_coords(drop=True)\n",
    "beta_lower"
   ]
  },
  {
   "cell_type": "markdown",
   "metadata": {},
   "source": [
    "## Temperature component of sigma flux at 2,046m"
   ]
  },
  {
   "cell_type": "code",
   "execution_count": null,
   "metadata": {},
   "outputs": [],
   "source": [
    "sst_mean_lower = sst_lower.mean(dim='time').load()"
   ]
  },
  {
   "cell_type": "code",
   "execution_count": null,
   "metadata": {},
   "outputs": [],
   "source": [
    "surface_mask_lower = (coords.hFacC.isel(Z=27)>0).load()"
   ]
  },
  {
   "cell_type": "code",
   "execution_count": null,
   "metadata": {},
   "outputs": [],
   "source": [
    "sst_mean_lower.where(surface_mask_lower).plot()"
   ]
  },
  {
   "cell_type": "code",
   "execution_count": null,
   "metadata": {},
   "outputs": [],
   "source": [
    "left_lon = 299\n",
    "upper_lat = -66\n",
    "right_lon = 360\n",
    "lower_lat = -78"
   ]
  },
  {
   "cell_type": "code",
   "execution_count": null,
   "metadata": {},
   "outputs": [],
   "source": [
    "fig, ax = plt.subplots(figsize=(12,8), subplot_kw={'facecolor': '0.5'})\n",
    "(sst_mean_lower.where(surface_mask_lower)).plot(ax=ax, vmin=-2, vmax=10)\n",
    "ax.plot([left_lon, right_lon], [upper_lat, upper_lat], color='w')\n",
    "ax.plot([right_lon, right_lon], [lower_lat, upper_lat], color='w')\n",
    "ax.plot([left_lon, left_lon], [lower_lat, upper_lat], color='w')\n",
    "ax.plot([left_lon, right_lon], [lower_lat, lower_lat], color='w')\n",
    "#ax.patch(xy=(-80, 290), width=70, height=20)\n",
    "#ax.patch(xy=(295,-80), width = 1, height = 1)\n",
    "ax.set_xlim([287, 362])\n",
    "ax.set_ylim([-80, -55])\n",
    "plt.title('Lower Surface Mask @ ~2046m\\nLon[299,360]\\nLat[-78,-66]');"
   ]
  },
  {
   "cell_type": "code",
   "execution_count": null,
   "metadata": {},
   "outputs": [],
   "source": [
    "#index locations corresponding to above lat/lon coordinates\n",
    "lower_lat_lower = 0\n",
    "upper_lat_lower = 71\n",
    "left_lon_lower = 1794\n",
    "right_lon_lower = 2159\n",
    "\n",
    "lower_cell_range = dict(Zl=[27, 42])\n",
    "lower_cell_range_z = dict(Z=slice(27, 42))"
   ]
  },
  {
   "cell_type": "code",
   "execution_count": null,
   "metadata": {},
   "outputs": [],
   "source": [
    "#set the boundaries\n",
    "lat_range_lower = dict(YC=slice(lower_lat_lower, upper_lat_lower))\n",
    "lon_range_lower = dict(XC=slice(left_lon_lower, right_lon_lower))"
   ]
  },
  {
   "cell_type": "code",
   "execution_count": null,
   "metadata": {},
   "outputs": [],
   "source": [
    "#advective flux\n",
    "adv_flux_y_lower = ds.ADVy_TH.isel(**lon_range_lower, YG=upper_lat_lower, **lower_cell_range_z).sum(\n",
    "                                                                                              dim=['XC','Z']).load()\n",
    "adv_flux_x_lower = ds.ADVx_TH.isel(**lat_range_lower, XG=right_lon_lower, **lower_cell_range_z).sum(\n",
    "                                                                                              dim=['YC','Z']).load()\n",
    "adv_flux_z_lower = ds.ADVr_TH.isel(**lon_range_lower, **lat_range_lower, Zl=27).sum(dim=['XC', 'YC']).load()\n",
    "\n",
    "adv_flux_lower = adv_flux_x_lower + adv_flux_y_lower + adv_flux_z_lower\n",
    "adv_flux_lower.load()\n",
    "#units: (˚C m^3)/s"
   ]
  },
  {
   "cell_type": "code",
   "execution_count": null,
   "metadata": {},
   "outputs": [],
   "source": [
    "#diffusive flux\n",
    "diff_flux_y_lower = ds.DFyE_TH.isel(**lon_range_lower, YG=upper_lat_lower, **lower_cell_range_z).sum(\n",
    "                                                                                dim=['XC','Z']).load()\n",
    "diff_flux_x_lower = ds.DFxE_TH.isel(**lat_range_lower, XG=right_lon_lower, **lower_cell_range_z).sum(\n",
    "                                                                                dim=['YC','Z']).load()\n",
    "diff_flux_z_lower =  ((ds.DFrE_TH.isel(**lon_range_lower, **lat_range_lower, Zl=27).sum(dim=['XC', 'YC'])\n",
    "                     + ds.DFrI_TH.isel(**lon_range_lower, **lat_range_lower, Zl=27).sum(dim=['XC', 'YC'])\n",
    "                     + ds.KPPg_TH.isel(**lon_range_lower, **lat_range_lower, Zl=27).sum(dim=['XC', 'YC'])\n",
    "                                                                                                 ).load())\n",
    "\n",
    "diff_flux_lower = diff_flux_x_lower + diff_flux_y_lower + diff_flux_z_lower\n",
    "diff_flux_lower.load()\n",
    "#units: (˚C m^3)/s"
   ]
  },
  {
   "cell_type": "code",
   "execution_count": null,
   "metadata": {},
   "outputs": [],
   "source": [
    "tottend_weddell_lower = ((ds.TOTTTEND * coords.rA * coords.drF * coords.hFacC).isel(\n",
    "                         **lon_range_lower, **lat_range_lower, **lower_cell_range_z).sum(\n",
    "                                                                    dim=['XC', 'YC','Z'])) / (24*60*60)\n",
    "tottend_weddell_lower.load()\n",
    "#units: (˚C m^3)/s"
   ]
  },
  {
   "cell_type": "code",
   "execution_count": null,
   "metadata": {},
   "outputs": [],
   "source": [
    "plt.figure(figsize=(12,6))\n",
    "rhs_lower = - adv_flux_lower - diff_flux_lower\n",
    "lhs_lower = tottend_weddell_lower\n",
    "rhs_lower.plot(label='rhs_lower')\n",
    "lhs_lower.plot(label='lhs_lower')\n",
    "plt.legend()\n",
    "plt.xlim('2005', '2011')\n",
    "plt.grid();"
   ]
  },
  {
   "cell_type": "code",
   "execution_count": null,
   "metadata": {},
   "outputs": [],
   "source": [
    "alpha_bottom = (alpha_lower.isel(**lat_range, **lon_range) * coords.rA).sum(dim=['XC','YC']).load()\n",
    "alpha_bottom"
   ]
  },
  {
   "cell_type": "code",
   "execution_count": null,
   "metadata": {},
   "outputs": [],
   "source": [
    "F_sig_heat_lower = (alpha_bottom * rhs_lower) #/ heat_capacity_cp\n",
    "F_sig_heat_lower.load() #kg/m^2/s"
   ]
  },
  {
   "cell_type": "code",
   "execution_count": null,
   "metadata": {},
   "outputs": [],
   "source": [
    "F_sig_heat_lower.plot(figsize=(12,6))\n",
    "plt.xlim('2005', '2011')\n",
    "plt.grid()\n",
    "plt.xlim('2005', '2011')\n",
    "plt.title('Temp component of density flux\\n@ 2,406m', weight='semibold');"
   ]
  },
  {
   "cell_type": "markdown",
   "metadata": {},
   "source": [
    "## Salinity component of sigma flux at 2,046m"
   ]
  },
  {
   "cell_type": "code",
   "execution_count": null,
   "metadata": {},
   "outputs": [],
   "source": [
    "sss_mean_lower = sss_lower.mean(dim='time').load()"
   ]
  },
  {
   "cell_type": "code",
   "execution_count": null,
   "metadata": {},
   "outputs": [],
   "source": [
    "surface_mask_lower = (coords.hFacC.isel(Z=27)>0).load()"
   ]
  },
  {
   "cell_type": "code",
   "execution_count": null,
   "metadata": {},
   "outputs": [],
   "source": [
    "sss_mean_lower.where(surface_mask_lower).plot()"
   ]
  },
  {
   "cell_type": "code",
   "execution_count": null,
   "metadata": {},
   "outputs": [],
   "source": [
    "left_lon = 299\n",
    "upper_lat = -66\n",
    "right_lon = 360\n",
    "lower_lat = -78"
   ]
  },
  {
   "cell_type": "code",
   "execution_count": null,
   "metadata": {},
   "outputs": [],
   "source": [
    "fig, ax = plt.subplots(figsize=(12,8), subplot_kw={'facecolor': '0.5'})\n",
    "(sss_mean_lower.where(surface_mask_lower)).plot(ax=ax, vmin=34.5, vmax=35)\n",
    "ax.plot([left_lon, right_lon], [upper_lat, upper_lat], color='w')\n",
    "ax.plot([right_lon, right_lon], [lower_lat, upper_lat], color='w')\n",
    "ax.plot([left_lon, left_lon], [lower_lat, upper_lat], color='w')\n",
    "ax.plot([left_lon, right_lon], [lower_lat, lower_lat], color='w')\n",
    "#ax.patch(xy=(-80, 290), width=70, height=20)\n",
    "#ax.patch(xy=(295,-80), width = 1, height = 1)\n",
    "ax.set_xlim([287, 362])\n",
    "ax.set_ylim([-80, -55])\n",
    "plt.title('Lower Surface Mask @ ~2046m\\nLon[299,360]\\nLat[-78,-66]');"
   ]
  },
  {
   "cell_type": "code",
   "execution_count": null,
   "metadata": {},
   "outputs": [],
   "source": [
    "#index locations corresponding to above lat/lon coordinates\n",
    "lower_lat_lower = 0\n",
    "upper_lat_lower = 71\n",
    "left_lon_lower = 1794\n",
    "right_lon_lower = 2159\n",
    "\n",
    "lower_cell_range = dict(Zl=[27, 42])\n",
    "lower_cell_range_z = dict(Z=slice(27, 42))"
   ]
  },
  {
   "cell_type": "code",
   "execution_count": null,
   "metadata": {},
   "outputs": [],
   "source": [
    "#set the boundaries\n",
    "lat_range_lower = dict(YC=slice(lower_lat_lower, upper_lat_lower))\n",
    "lon_range_lower = dict(XC=slice(left_lon_lower, right_lon_lower))"
   ]
  },
  {
   "cell_type": "code",
   "execution_count": null,
   "metadata": {},
   "outputs": [],
   "source": [
    "#advective flux\n",
    "adv_flux_y_lower = ds.ADVy_SLT.isel(**lon_range_lower, YG=upper_lat_lower, **lower_cell_range_z).sum(\n",
    "                                                                                dim=['XC','Z']).load()\n",
    "adv_flux_x_lower = ds.ADVx_SLT.isel(**lat_range_lower, XG=right_lon_lower, **lower_cell_range_z).sum(\n",
    "                                                                                dim=['YC','Z']).load()\n",
    "adv_flux_z_lower = ds.ADVr_SLT.isel(**lon_range_lower, **lat_range_lower, Zl=27).sum(dim=['XC', 'YC']).load()\n",
    "\n",
    "adv_flux_lower = adv_flux_x_lower + adv_flux_y_lower + adv_flux_z_lower\n",
    "adv_flux_lower.load()\n",
    "#units: (˚C m^3)/s"
   ]
  },
  {
   "cell_type": "code",
   "execution_count": null,
   "metadata": {},
   "outputs": [],
   "source": [
    "#diffusive flux\n",
    "diff_flux_y_lower = ds.DFyE_SLT.isel(**lon_range_lower, YG=upper_lat_lower, **lower_cell_range_z).sum(\n",
    "                                                                                 dim=['XC','Z']).load()\n",
    "diff_flux_x_lower = ds.DFxE_SLT.isel(**lat_range_lower, XG=right_lon_lower, **lower_cell_range_z).sum(\n",
    "                                                                                 dim=['YC','Z']).load()\n",
    "diff_flux_z_lower =  ((ds.DFrE_SLT.isel(**lon_range_lower, **lat_range_lower, Zl=27).sum(dim=['XC', 'YC'])\n",
    "                     + ds.DFrI_SLT.isel(**lon_range_lower, **lat_range_lower, Zl=27).sum(dim=['XC', 'YC'])\n",
    "                     + ds.KPPg_SLT.isel(**lon_range_lower, **lat_range_lower, Zl=27).sum(dim=['XC', 'YC'])\n",
    "                                                                                                  ).load())\n",
    "\n",
    "diff_flux_lower = diff_flux_x_lower + diff_flux_y_lower + diff_flux_z_lower\n",
    "diff_flux_lower.load()\n",
    "#units: (˚C m^3)/s"
   ]
  },
  {
   "cell_type": "code",
   "execution_count": null,
   "metadata": {},
   "outputs": [],
   "source": [
    "totstend_weddell_lower = ((ds.TOTSTEND * coords.rA * coords.drF * coords.hFacC).isel(\n",
    "                         **lon_range_lower, **lat_range_lower, **lower_cell_range_z).sum(\n",
    "                                                                   dim=['XC', 'YC','Z']))/ (24*60*60)\n",
    "totstend_weddell_lower.load()\n",
    "#units: (˚C m^3)/s"
   ]
  },
  {
   "cell_type": "code",
   "execution_count": null,
   "metadata": {},
   "outputs": [],
   "source": [
    "plt.figure(figsize=(12,6))\n",
    "rhs_lower = -adv_flux_lower - diff_flux_lower\n",
    "lhs_lower = totstend_weddell_lower\n",
    "rhs_lower.plot(label='rhs_lower')\n",
    "lhs_lower.plot(label='lhs_lower')\n",
    "plt.legend()\n",
    "plt.grid();"
   ]
  },
  {
   "cell_type": "code",
   "execution_count": null,
   "metadata": {},
   "outputs": [],
   "source": [
    "beta_bottom = (beta_lower.isel(**lat_range, **lon_range) * coords.rA).sum(dim=['XC','YC']).load()\n",
    "beta_bottom"
   ]
  },
  {
   "cell_type": "code",
   "execution_count": null,
   "metadata": {},
   "outputs": [],
   "source": [
    "F_sig_salt_lower = beta_bottom * rhs_lower\n",
    "F_sig_salt_lower.load() #kg/m^2/s"
   ]
  },
  {
   "cell_type": "code",
   "execution_count": null,
   "metadata": {},
   "outputs": [],
   "source": [
    "F_sig_salt_lower.plot(figsize=(12,6))\n",
    "plt.xlim('2005', '2011')\n",
    "plt.grid()\n",
    "plt.title('Salt component of density flux\\n @ surface');"
   ]
  },
  {
   "cell_type": "code",
   "execution_count": null,
   "metadata": {},
   "outputs": [],
   "source": [
    "plt.figure(figsize=(12,7))\n",
    "F_sig_heat_lower.plot(label='temp component', c='cornflowerblue')\n",
    "F_sig_salt_lower.plot(label='salt component', c='darkorange')\n",
    "(F_sig_heat_lower + F_sig_salt_lower).plot(label='total density flux', c='mediumpurple')\n",
    "plt.xlim('2005', '2011')\n",
    "#plt.ylim(-0.2e14, 0.2e14)\n",
    "plt.grid()\n",
    "plt.legend()\n",
    "plt.title('Total Density Flux\\nfor lower water column', fontsize=14, weight='medium');"
   ]
  },
  {
   "cell_type": "code",
   "execution_count": null,
   "metadata": {},
   "outputs": [],
   "source": []
  },
  {
   "cell_type": "markdown",
   "metadata": {},
   "source": [
    "# WMT budget using xhistogram"
   ]
  },
  {
   "cell_type": "code",
   "execution_count": null,
   "metadata": {},
   "outputs": [],
   "source": [
    "from xhistogram.xarray import histogram\n",
    "histogram?"
   ]
  },
  {
   "cell_type": "code",
   "execution_count": null,
   "metadata": {},
   "outputs": [],
   "source": [
    "theta_bins = np.arange(-2, 30, 0.5)\n",
    "theta_bins"
   ]
  },
  {
   "cell_type": "code",
   "execution_count": null,
   "metadata": {},
   "outputs": [],
   "source": [
    "import dask\n",
    "dask.__version__"
   ]
  },
  {
   "cell_type": "code",
   "execution_count": null,
   "metadata": {},
   "outputs": [],
   "source": [
    "tflux_hist = histogram(sst, bins=[theta_bins], weights=t_flux_z, dim=['XC', 'YC'])\n",
    "tflux_hist"
   ]
  },
  {
   "cell_type": "code",
   "execution_count": null,
   "metadata": {},
   "outputs": [],
   "source": [
    "tflux_hist.load()"
   ]
  },
  {
   "cell_type": "code",
   "execution_count": null,
   "metadata": {},
   "outputs": [],
   "source": [
    "tflux_hist.transpose().plot(vmax=1e19)\n",
    "plt.ylim([-2, 10])"
   ]
  },
  {
   "cell_type": "code",
   "execution_count": null,
   "metadata": {},
   "outputs": [],
   "source": [
    "sst_hist = histogram(sst, bins=[theta_bins], dim=['XC', 'YC'])\n",
    "sst_hist.load()"
   ]
  },
  {
   "cell_type": "code",
   "execution_count": null,
   "metadata": {},
   "outputs": [],
   "source": [
    "sst_hist.transpose().plot()\n",
    "plt.ylim([-2, 10])"
   ]
  },
  {
   "cell_type": "code",
   "execution_count": null,
   "metadata": {},
   "outputs": [],
   "source": [
    "sst[0].isnull().plot()"
   ]
  },
  {
   "cell_type": "code",
   "execution_count": null,
   "metadata": {},
   "outputs": [],
   "source": [
    "sst_hist.mean(dim='time').plot()"
   ]
  },
  {
   "cell_type": "code",
   "execution_count": null,
   "metadata": {},
   "outputs": [],
   "source": [
    "surface_weights = coords.rA*coords.hFacC[0]"
   ]
  },
  {
   "cell_type": "code",
   "execution_count": null,
   "metadata": {},
   "outputs": [],
   "source": [
    "sst_hist = histogram(sst, bins=[theta_bins], weights=surface_weights, dim=['XC', 'YC'])\n",
    "sst_hist.load()"
   ]
  },
  {
   "cell_type": "code",
   "execution_count": null,
   "metadata": {},
   "outputs": [],
   "source": [
    "(sst_hist.mean(dim='time')/surface_weights.sum()).plot()"
   ]
  },
  {
   "cell_type": "code",
   "execution_count": null,
   "metadata": {},
   "outputs": [],
   "source": []
  }
 ],
 "metadata": {
  "kernelspec": {
   "display_name": "Python 3",
   "language": "python",
   "name": "python3"
  },
  "language_info": {
   "codemirror_mode": {
    "name": "ipython",
    "version": 3
   },
   "file_extension": ".py",
   "mimetype": "text/x-python",
   "name": "python",
   "nbconvert_exporter": "python",
   "pygments_lexer": "ipython3",
   "version": "3.7.3"
  }
 },
 "nbformat": 4,
 "nbformat_minor": 4
}
