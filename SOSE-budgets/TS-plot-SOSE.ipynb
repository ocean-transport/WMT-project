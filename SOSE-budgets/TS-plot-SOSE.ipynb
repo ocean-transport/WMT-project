{
 "cells": [
  {
   "cell_type": "markdown",
   "metadata": {},
   "source": [
    "# T/S Diagram from SOSE"
   ]
  },
  {
   "cell_type": "code",
   "execution_count": null,
   "metadata": {},
   "outputs": [],
   "source": [
    "from dask.distributed import Client\n",
    "\n",
    "client = Client(\"tcp://10.32.23.42:43935\")\n",
    "client"
   ]
  },
  {
   "cell_type": "code",
   "execution_count": null,
   "metadata": {},
   "outputs": [],
   "source": [
    "import xarray as xr\n",
    "from matplotlib import pyplot as plt\n",
    "import gcsfs\n",
    "import dask\n",
    "import dask.array as dsa\n",
    "import numpy as np\n",
    "%matplotlib inline"
   ]
  },
  {
   "cell_type": "code",
   "execution_count": null,
   "metadata": {},
   "outputs": [],
   "source": [
    "ds = xr.open_zarr(gcsfs.GCSFileSystem(requester_pays=True).get_mapper('pangeo-ecco-sose'), consolidated=True)"
   ]
  },
  {
   "cell_type": "code",
   "execution_count": null,
   "metadata": {},
   "outputs": [],
   "source": [
    "coords = ds.coords.to_dataset().reset_coords()\n",
    "dsr = ds.reset_coords(drop=True)"
   ]
  },
  {
   "cell_type": "code",
   "execution_count": null,
   "metadata": {},
   "outputs": [],
   "source": [
    "lower_lat = 0\n",
    "upper_lat = 78\n",
    "left_lon = 1788\n",
    "right_lon = 2159"
   ]
  },
  {
   "cell_type": "code",
   "execution_count": null,
   "metadata": {},
   "outputs": [],
   "source": [
    "#set the boundaries\n",
    "lat_range = dict(YC=slice(lower_lat, upper_lat))\n",
    "lon_range = dict(XC=slice(left_lon, right_lon))"
   ]
  },
  {
   "cell_type": "code",
   "execution_count": null,
   "metadata": {},
   "outputs": [],
   "source": [
    "salt = dsr.SALT.isel(**lat_range, **lon_range)\n",
    "temp = dsr.THETA.isel(**lat_range, **lon_range)"
   ]
  },
  {
   "cell_type": "raw",
   "metadata": {},
   "source": [
    "salt.min().values"
   ]
  },
  {
   "cell_type": "raw",
   "metadata": {},
   "source": [
    "salt.max().values"
   ]
  },
  {
   "cell_type": "raw",
   "metadata": {},
   "source": [
    "float(temp.min())"
   ]
  },
  {
   "cell_type": "raw",
   "metadata": {},
   "source": [
    "float(temp.max())"
   ]
  },
  {
   "cell_type": "markdown",
   "metadata": {},
   "source": [
    "# Juliu's XMovie package"
   ]
  },
  {
   "cell_type": "code",
   "execution_count": null,
   "metadata": {},
   "outputs": [],
   "source": [
    "import xarray as xr\n",
    "from xmovie import Movie"
   ]
  },
  {
   "cell_type": "code",
   "execution_count": null,
   "metadata": {},
   "outputs": [],
   "source": [
    "dsr.Z"
   ]
  },
  {
   "cell_type": "code",
   "execution_count": null,
   "metadata": {},
   "outputs": [],
   "source": [
    "def custom_plotfunc(dsr, fig, tt, salt=dsr.SALT, temp=dsr.THETA, Z=dsr.Z):\n",
    "\n",
    "    salt = salt.isel(time=tt, **lat_range, **lon_range)\n",
    "    temp = temp.isel(time=tt, **lat_range, **lon_range)\n",
    "    \n",
    "    _, _, lev_broadcasted = xr.broadcast(salt, temp, Z)\n",
    "    \n",
    "    ax = fig.subplots()\n",
    "    \n",
    "    scat = ax.scatter(salt, temp, c=abs(lev_broadcasted), marker='.', s=0.5)\n",
    "    fig.colorbar(scat, label='Depth [m]', shrink=0.8, ticks=np.arange(0, 6000, 1000))\n",
    "\n",
    "    ax.set_xlim(33.4, 35)\n",
    "    ax.set_ylim(-2, 1)\n",
    "\n",
    "    ax.set_xlabel('Salinity [psu]')\n",
    "    ax.set_ylabel('Potential Temperature [˚C]')\n",
    "    ax.set_title('T-S Diagram of Weddell Gyre \\n 2005-2010 (SOSE)', fontsize=20)\n",
    "    \n",
    "    fig.subplots_adjust(top=0.8)\n",
    "    \n",
    "    return ax, scat"
   ]
  },
  {
   "cell_type": "raw",
   "metadata": {},
   "source": [
    "def custom_plotfunc(dsr, fig, tt):\n",
    "    dsr = dsr.isel(time=tt, **lat_range, **lon_range)\n",
    "    salt = dsr.SALT\n",
    "    temp = dsr.THETA\n",
    "    \n",
    "    _, _, lev_broadcasted = xr.broadcast(salt, temp, dsr.Z)\n",
    "    \n",
    "    ax = fig.subplots()\n",
    "    \n",
    "    scat = ax.scatter(salt, temp, c=abs(lev_broadcasted), marker='.', s=0.5)\n",
    "    plt.colorbar(scat, label='Depth [m]', shrink=0.8)\n",
    "\n",
    "    ax.set_xlim(33.4, 35)\n",
    "    ax.set_ylim(-2, 1)\n",
    "\n",
    "    ax.set_xlabel('Salinity [psu]')\n",
    "    ax.set_ylabel('Potential Temperature [˚C]')\n",
    "    ax.set_title('T-S Diagram of Weddell Gyre \\n 2005-2010 (SOSE)', fontsize=20);"
   ]
  },
  {
   "cell_type": "code",
   "execution_count": null,
   "metadata": {},
   "outputs": [],
   "source": [
    "#creating movie object\n",
    "mov = Movie(dsr.time, plotfunc=custom_plotfunc, \n",
    "            salt=dsr.SALT, temp=dsr.THETA, \n",
    "            Z=dsr.Z, input_check=False, dpi=150)\n",
    "#mov.save('movie.mp4')"
   ]
  },
  {
   "cell_type": "code",
   "execution_count": null,
   "metadata": {},
   "outputs": [],
   "source": [
    "#frame preview\n",
    "mov.preview(3)"
   ]
  },
  {
   "cell_type": "code",
   "execution_count": null,
   "metadata": {},
   "outputs": [],
   "source": [
    "#create a movie!\n",
    "\n",
    "#dsr = dsr.isel(time=slice(0,21))\n",
    "\n",
    "mov = Movie(dsr.time, plotfunc=custom_plotfunc, \n",
    "            salt=dsr.SALT, \n",
    "            temp=dsr.THETA, \n",
    "            Z=dsr.Z, input_check=False)\n",
    "mov.save('movie_full.mp4', progress=True)"
   ]
  },
  {
   "cell_type": "markdown",
   "metadata": {},
   "source": [
    "# xhistogram T/S Diagram from SOSE"
   ]
  },
  {
   "cell_type": "code",
   "execution_count": null,
   "metadata": {},
   "outputs": [],
   "source": []
  }
 ],
 "metadata": {
  "kernelspec": {
   "display_name": "Python 3",
   "language": "python",
   "name": "python3"
  },
  "language_info": {
   "codemirror_mode": {
    "name": "ipython",
    "version": 3
   },
   "file_extension": ".py",
   "mimetype": "text/x-python",
   "name": "python",
   "nbconvert_exporter": "python",
   "pygments_lexer": "ipython3",
   "version": "3.7.3"
  }
 },
 "nbformat": 4,
 "nbformat_minor": 4
}
