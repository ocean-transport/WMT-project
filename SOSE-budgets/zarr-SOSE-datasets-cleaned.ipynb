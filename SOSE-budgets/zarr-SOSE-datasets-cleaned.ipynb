{
 "cells": [
  {
   "cell_type": "markdown",
   "metadata": {},
   "source": [
    "# Zarr SOSE ds - cleaned version"
   ]
  },
  {
   "cell_type": "code",
   "execution_count": 2,
   "metadata": {},
   "outputs": [],
   "source": [
    "from dask_gateway import GatewayCluster\n",
    "\n",
    "cluster = GatewayCluster()\n",
    "cluster.scale(10)\n",
    "#cluster.adapt(minimum=2, maximum=10)  # or cluster.scale(n) to a fixed size.\n",
    "client = cluster.get_client()"
   ]
  },
  {
   "cell_type": "code",
   "execution_count": 9,
   "metadata": {},
   "outputs": [
    {
     "data": {
      "text/html": [
       "<table style=\"border: 2px solid white;\">\n",
       "<tr>\n",
       "<td style=\"vertical-align: top; border: 0px solid white\">\n",
       "<h3 style=\"text-align: left;\">Client</h3>\n",
       "<ul style=\"text-align: left; list-style: none; margin: 0; padding: 0;\">\n",
       "  <li><b>Scheduler: </b>gateway://traefik-gcp-uscentral1b-prod-dask-gateway.prod:80/prod.dbf6dbd94c1740e88acf8484c5034146</li>\n",
       "  <li><b>Dashboard: </b><a href='/services/dask-gateway/clusters/prod.dbf6dbd94c1740e88acf8484c5034146/status' target='_blank'>/services/dask-gateway/clusters/prod.dbf6dbd94c1740e88acf8484c5034146/status</a></li>\n",
       "</ul>\n",
       "</td>\n",
       "<td style=\"vertical-align: top; border: 0px solid white\">\n",
       "<h3 style=\"text-align: left;\">Cluster</h3>\n",
       "<ul style=\"text-align: left; list-style:none; margin: 0; padding: 0;\">\n",
       "  <li><b>Workers: </b>3</li>\n",
       "  <li><b>Cores: </b>6</li>\n",
       "  <li><b>Memory: </b>25.77 GB</li>\n",
       "</ul>\n",
       "</td>\n",
       "</tr>\n",
       "</table>"
      ],
      "text/plain": [
       "<Client: 'tls://10.37.217.5:8786' processes=3 threads=6, memory=25.77 GB>"
      ]
     },
     "execution_count": 9,
     "metadata": {},
     "output_type": "execute_result"
    }
   ],
   "source": [
    "client"
   ]
  },
  {
   "cell_type": "code",
   "execution_count": null,
   "metadata": {},
   "outputs": [],
   "source": [
    "cluster.close()"
   ]
  },
  {
   "cell_type": "code",
   "execution_count": 4,
   "metadata": {},
   "outputs": [],
   "source": [
    "import xarray as xr\n",
    "from matplotlib import pyplot as plt\n",
    "import gcsfs\n",
    "import dask\n",
    "import dask.array as dsa\n",
    "import numpy as np\n",
    "import fsspec\n",
    "%matplotlib inline"
   ]
  },
  {
   "cell_type": "code",
   "execution_count": 5,
   "metadata": {},
   "outputs": [
    {
     "data": {
      "text/plain": [
       "<xarray.core.options.set_options at 0x7fd9e8bdbdc0>"
      ]
     },
     "execution_count": 5,
     "metadata": {},
     "output_type": "execute_result"
    }
   ],
   "source": [
    "xr.set_options(display_style='text')"
   ]
  },
  {
   "cell_type": "markdown",
   "metadata": {},
   "source": [
    "## Open SOSE Dataset from the Cloud"
   ]
  },
  {
   "cell_type": "code",
   "execution_count": 6,
   "metadata": {},
   "outputs": [
    {
     "data": {
      "text/html": [
       "<pre>&lt;xarray.Dataset&gt;\n",
       "Dimensions:   (XC: 2160, XG: 2160, YC: 320, YG: 320, Z: 42, Zl: 42, Zp1: 43, Zu: 42, time: 438)\n",
       "Coordinates:\n",
       "    Depth     (YC, XC) float32 dask.array&lt;chunksize=(320, 2160), meta=np.ndarray&gt;\n",
       "    PHrefC    (Z) float32 dask.array&lt;chunksize=(42,), meta=np.ndarray&gt;\n",
       "    PHrefF    (Zp1) float32 dask.array&lt;chunksize=(43,), meta=np.ndarray&gt;\n",
       "  * XC        (XC) float32 0.083333336 0.25 0.4166667 ... 359.75 359.9167\n",
       "  * XG        (XG) float32 5.551115e-17 0.16666667 ... 359.6667 359.83334\n",
       "  * YC        (YC) float32 -77.87497 -77.7083 -77.54163 ... -24.874966 -24.7083\n",
       "  * YG        (YG) float32 -77.9583 -77.79163 -77.62497 ... -24.9583 -24.791632\n",
       "  * Z         (Z) float32 -5.0 -15.5 -27.0 -39.5 ... -5075.0 -5325.0 -5575.0\n",
       "  * Zl        (Zl) float32 0.0 -10.0 -21.0 -33.0 ... -4950.0 -5200.0 -5450.0\n",
       "  * Zp1       (Zp1) float32 0.0 -10.0 -21.0 -33.0 ... -5200.0 -5450.0 -5700.0\n",
       "  * Zu        (Zu) float32 -10.0 -21.0 -33.0 -46.0 ... -5200.0 -5450.0 -5700.0\n",
       "    drC       (Zp1) float32 dask.array&lt;chunksize=(43,), meta=np.ndarray&gt;\n",
       "    drF       (Z) float32 dask.array&lt;chunksize=(42,), meta=np.ndarray&gt;\n",
       "    dxC       (YC, XG) float32 dask.array&lt;chunksize=(320, 2160), meta=np.ndarray&gt;\n",
       "    dxG       (YG, XC) float32 dask.array&lt;chunksize=(320, 2160), meta=np.ndarray&gt;\n",
       "    dyC       (YG, XC) float32 dask.array&lt;chunksize=(320, 2160), meta=np.ndarray&gt;\n",
       "    dyG       (YC, XG) float32 dask.array&lt;chunksize=(320, 2160), meta=np.ndarray&gt;\n",
       "    hFacC     (Z, YC, XC) float32 dask.array&lt;chunksize=(42, 320, 2160), meta=np.ndarray&gt;\n",
       "    hFacS     (Z, YG, XC) float32 dask.array&lt;chunksize=(42, 320, 2160), meta=np.ndarray&gt;\n",
       "    hFacW     (Z, YC, XG) float32 dask.array&lt;chunksize=(42, 320, 2160), meta=np.ndarray&gt;\n",
       "    iter      (time) int64 dask.array&lt;chunksize=(438,), meta=np.ndarray&gt;\n",
       "    rA        (YC, XC) float32 dask.array&lt;chunksize=(320, 2160), meta=np.ndarray&gt;\n",
       "    rAs       (YG, XC) float32 dask.array&lt;chunksize=(320, 2160), meta=np.ndarray&gt;\n",
       "    rAw       (YC, XG) float32 dask.array&lt;chunksize=(320, 2160), meta=np.ndarray&gt;\n",
       "    rAz       (YG, XG) float32 dask.array&lt;chunksize=(320, 2160), meta=np.ndarray&gt;\n",
       "  * time      (time) datetime64[ns] 2005-01-06 2005-01-11 ... 2010-12-31\n",
       "Data variables:\n",
       "    ADVr_SLT  (time, Zl, YC, XC) float32 dask.array&lt;chunksize=(1, 42, 320, 2160), meta=np.ndarray&gt;\n",
       "    ADVr_TH   (time, Zl, YC, XC) float32 dask.array&lt;chunksize=(1, 42, 320, 2160), meta=np.ndarray&gt;\n",
       "    ADVx_SLT  (time, Z, YC, XG) float32 dask.array&lt;chunksize=(1, 42, 320, 2160), meta=np.ndarray&gt;\n",
       "    ADVx_TH   (time, Z, YC, XG) float32 dask.array&lt;chunksize=(1, 42, 320, 2160), meta=np.ndarray&gt;\n",
       "    ADVy_SLT  (time, Z, YG, XC) float32 dask.array&lt;chunksize=(1, 42, 320, 2160), meta=np.ndarray&gt;\n",
       "    ADVy_TH   (time, Z, YG, XC) float32 dask.array&lt;chunksize=(1, 42, 320, 2160), meta=np.ndarray&gt;\n",
       "    DFrE_SLT  (time, Zl, YC, XC) float32 dask.array&lt;chunksize=(1, 42, 320, 2160), meta=np.ndarray&gt;\n",
       "    DFrE_TH   (time, Zl, YC, XC) float32 dask.array&lt;chunksize=(1, 42, 320, 2160), meta=np.ndarray&gt;\n",
       "    DFrI_SLT  (time, Zl, YC, XC) float32 dask.array&lt;chunksize=(1, 42, 320, 2160), meta=np.ndarray&gt;\n",
       "    DFrI_TH   (time, Zl, YC, XC) float32 dask.array&lt;chunksize=(1, 42, 320, 2160), meta=np.ndarray&gt;\n",
       "    DFxE_SLT  (time, Z, YC, XG) float32 dask.array&lt;chunksize=(1, 42, 320, 2160), meta=np.ndarray&gt;\n",
       "    DFxE_TH   (time, Z, YC, XG) float32 dask.array&lt;chunksize=(1, 42, 320, 2160), meta=np.ndarray&gt;\n",
       "    DFyE_SLT  (time, Z, YG, XC) float32 dask.array&lt;chunksize=(1, 42, 320, 2160), meta=np.ndarray&gt;\n",
       "    DFyE_TH   (time, Z, YG, XC) float32 dask.array&lt;chunksize=(1, 42, 320, 2160), meta=np.ndarray&gt;\n",
       "    DRHODR    (time, Zl, YC, XC) float32 dask.array&lt;chunksize=(1, 42, 320, 2160), meta=np.ndarray&gt;\n",
       "    ETAN      (time, YC, XC) float32 dask.array&lt;chunksize=(1, 320, 2160), meta=np.ndarray&gt;\n",
       "    EXFswnet  (time, YC, XC) float32 dask.array&lt;chunksize=(1, 320, 2160), meta=np.ndarray&gt;\n",
       "    KPPg_SLT  (time, Zl, YC, XC) float32 dask.array&lt;chunksize=(1, 42, 320, 2160), meta=np.ndarray&gt;\n",
       "    KPPg_TH   (time, Zl, YC, XC) float32 dask.array&lt;chunksize=(1, 42, 320, 2160), meta=np.ndarray&gt;\n",
       "    PHIHYD    (time, Z, YC, XC) float32 dask.array&lt;chunksize=(1, 42, 320, 2160), meta=np.ndarray&gt;\n",
       "    SALT      (time, Z, YC, XC) float32 dask.array&lt;chunksize=(1, 42, 320, 2160), meta=np.ndarray&gt;\n",
       "    SFLUX     (time, YC, XC) float32 dask.array&lt;chunksize=(1, 320, 2160), meta=np.ndarray&gt;\n",
       "    SIarea    (time, YC, XC) float32 dask.array&lt;chunksize=(1, 320, 2160), meta=np.ndarray&gt;\n",
       "    SIatmFW   (time, YC, XC) float32 dask.array&lt;chunksize=(1, 320, 2160), meta=np.ndarray&gt;\n",
       "    SIatmQnt  (time, YC, XC) float32 dask.array&lt;chunksize=(1, 320, 2160), meta=np.ndarray&gt;\n",
       "    SIdHbATC  (time, YC, XC) float32 dask.array&lt;chunksize=(1, 320, 2160), meta=np.ndarray&gt;\n",
       "    SIdHbATO  (time, YC, XC) float32 dask.array&lt;chunksize=(1, 320, 2160), meta=np.ndarray&gt;\n",
       "    SIdHbOCN  (time, YC, XC) float32 dask.array&lt;chunksize=(1, 320, 2160), meta=np.ndarray&gt;\n",
       "    SIdSbATC  (time, YC, XC) float32 dask.array&lt;chunksize=(1, 320, 2160), meta=np.ndarray&gt;\n",
       "    SIdSbOCN  (time, YC, XC) float32 dask.array&lt;chunksize=(1, 320, 2160), meta=np.ndarray&gt;\n",
       "    SIempmr   (time, YC, XC) float32 dask.array&lt;chunksize=(1, 320, 2160), meta=np.ndarray&gt;\n",
       "    SIfu      (time, YC, XG) float32 dask.array&lt;chunksize=(1, 320, 2160), meta=np.ndarray&gt;\n",
       "    SIfv      (time, YG, XC) float32 dask.array&lt;chunksize=(1, 320, 2160), meta=np.ndarray&gt;\n",
       "    SIheff    (time, YC, XC) float32 dask.array&lt;chunksize=(1, 320, 2160), meta=np.ndarray&gt;\n",
       "    SIhsnow   (time, YC, XC) float32 dask.array&lt;chunksize=(1, 320, 2160), meta=np.ndarray&gt;\n",
       "    SIsnPrcp  (time, YC, XC) float32 dask.array&lt;chunksize=(1, 320, 2160), meta=np.ndarray&gt;\n",
       "    SItflux   (time, YC, XC) float32 dask.array&lt;chunksize=(1, 320, 2160), meta=np.ndarray&gt;\n",
       "    SIuheff   (time, YC, XG) float32 dask.array&lt;chunksize=(1, 320, 2160), meta=np.ndarray&gt;\n",
       "    SIuice    (time, YC, XG) float32 dask.array&lt;chunksize=(1, 320, 2160), meta=np.ndarray&gt;\n",
       "    SIvheff   (time, YG, XC) float32 dask.array&lt;chunksize=(1, 320, 2160), meta=np.ndarray&gt;\n",
       "    SIvice    (time, YG, XC) float32 dask.array&lt;chunksize=(1, 320, 2160), meta=np.ndarray&gt;\n",
       "    TFLUX     (time, YC, XC) float32 dask.array&lt;chunksize=(1, 320, 2160), meta=np.ndarray&gt;\n",
       "    THETA     (time, Z, YC, XC) float32 dask.array&lt;chunksize=(1, 42, 320, 2160), meta=np.ndarray&gt;\n",
       "    TOTSTEND  (time, Z, YC, XC) float32 dask.array&lt;chunksize=(1, 42, 320, 2160), meta=np.ndarray&gt;\n",
       "    TOTTTEND  (time, Z, YC, XC) float32 dask.array&lt;chunksize=(1, 42, 320, 2160), meta=np.ndarray&gt;\n",
       "    UVEL      (time, Z, YC, XG) float32 dask.array&lt;chunksize=(1, 42, 320, 2160), meta=np.ndarray&gt;\n",
       "    VVEL      (time, Z, YG, XC) float32 dask.array&lt;chunksize=(1, 42, 320, 2160), meta=np.ndarray&gt;\n",
       "    WSLTMASS  (time, Zl, YC, XC) float32 dask.array&lt;chunksize=(1, 42, 320, 2160), meta=np.ndarray&gt;\n",
       "    WTHMASS   (time, Zl, YC, XC) float32 dask.array&lt;chunksize=(1, 42, 320, 2160), meta=np.ndarray&gt;\n",
       "    WVEL      (time, Zl, YC, XC) float32 dask.array&lt;chunksize=(1, 42, 320, 2160), meta=np.ndarray&gt;\n",
       "    oceFreez  (time, YC, XC) float32 dask.array&lt;chunksize=(1, 320, 2160), meta=np.ndarray&gt;\n",
       "    oceQsw    (time, YC, XC) float32 dask.array&lt;chunksize=(1, 320, 2160), meta=np.ndarray&gt;\n",
       "    oceTAUX   (time, YC, XG) float32 dask.array&lt;chunksize=(1, 320, 2160), meta=np.ndarray&gt;\n",
       "    oceTAUY   (time, YG, XC) float32 dask.array&lt;chunksize=(1, 320, 2160), meta=np.ndarray&gt;\n",
       "    surForcS  (time, YC, XC) float32 dask.array&lt;chunksize=(1, 320, 2160), meta=np.ndarray&gt;\n",
       "    surForcT  (time, YC, XC) float32 dask.array&lt;chunksize=(1, 320, 2160), meta=np.ndarray&gt;</pre>"
      ],
      "text/plain": [
       "<xarray.Dataset>\n",
       "Dimensions:   (XC: 2160, XG: 2160, YC: 320, YG: 320, Z: 42, Zl: 42, Zp1: 43, Zu: 42, time: 438)\n",
       "Coordinates:\n",
       "    Depth     (YC, XC) float32 dask.array<chunksize=(320, 2160), meta=np.ndarray>\n",
       "    PHrefC    (Z) float32 dask.array<chunksize=(42,), meta=np.ndarray>\n",
       "    PHrefF    (Zp1) float32 dask.array<chunksize=(43,), meta=np.ndarray>\n",
       "  * XC        (XC) float32 0.083333336 0.25 0.4166667 ... 359.75 359.9167\n",
       "  * XG        (XG) float32 5.551115e-17 0.16666667 ... 359.6667 359.83334\n",
       "  * YC        (YC) float32 -77.87497 -77.7083 -77.54163 ... -24.874966 -24.7083\n",
       "  * YG        (YG) float32 -77.9583 -77.79163 -77.62497 ... -24.9583 -24.791632\n",
       "  * Z         (Z) float32 -5.0 -15.5 -27.0 -39.5 ... -5075.0 -5325.0 -5575.0\n",
       "  * Zl        (Zl) float32 0.0 -10.0 -21.0 -33.0 ... -4950.0 -5200.0 -5450.0\n",
       "  * Zp1       (Zp1) float32 0.0 -10.0 -21.0 -33.0 ... -5200.0 -5450.0 -5700.0\n",
       "  * Zu        (Zu) float32 -10.0 -21.0 -33.0 -46.0 ... -5200.0 -5450.0 -5700.0\n",
       "    drC       (Zp1) float32 dask.array<chunksize=(43,), meta=np.ndarray>\n",
       "    drF       (Z) float32 dask.array<chunksize=(42,), meta=np.ndarray>\n",
       "    dxC       (YC, XG) float32 dask.array<chunksize=(320, 2160), meta=np.ndarray>\n",
       "    dxG       (YG, XC) float32 dask.array<chunksize=(320, 2160), meta=np.ndarray>\n",
       "    dyC       (YG, XC) float32 dask.array<chunksize=(320, 2160), meta=np.ndarray>\n",
       "    dyG       (YC, XG) float32 dask.array<chunksize=(320, 2160), meta=np.ndarray>\n",
       "    hFacC     (Z, YC, XC) float32 dask.array<chunksize=(42, 320, 2160), meta=np.ndarray>\n",
       "    hFacS     (Z, YG, XC) float32 dask.array<chunksize=(42, 320, 2160), meta=np.ndarray>\n",
       "    hFacW     (Z, YC, XG) float32 dask.array<chunksize=(42, 320, 2160), meta=np.ndarray>\n",
       "    iter      (time) int64 dask.array<chunksize=(438,), meta=np.ndarray>\n",
       "    rA        (YC, XC) float32 dask.array<chunksize=(320, 2160), meta=np.ndarray>\n",
       "    rAs       (YG, XC) float32 dask.array<chunksize=(320, 2160), meta=np.ndarray>\n",
       "    rAw       (YC, XG) float32 dask.array<chunksize=(320, 2160), meta=np.ndarray>\n",
       "    rAz       (YG, XG) float32 dask.array<chunksize=(320, 2160), meta=np.ndarray>\n",
       "  * time      (time) datetime64[ns] 2005-01-06 2005-01-11 ... 2010-12-31\n",
       "Data variables:\n",
       "    ADVr_SLT  (time, Zl, YC, XC) float32 dask.array<chunksize=(1, 42, 320, 2160), meta=np.ndarray>\n",
       "    ADVr_TH   (time, Zl, YC, XC) float32 dask.array<chunksize=(1, 42, 320, 2160), meta=np.ndarray>\n",
       "    ADVx_SLT  (time, Z, YC, XG) float32 dask.array<chunksize=(1, 42, 320, 2160), meta=np.ndarray>\n",
       "    ADVx_TH   (time, Z, YC, XG) float32 dask.array<chunksize=(1, 42, 320, 2160), meta=np.ndarray>\n",
       "    ADVy_SLT  (time, Z, YG, XC) float32 dask.array<chunksize=(1, 42, 320, 2160), meta=np.ndarray>\n",
       "    ADVy_TH   (time, Z, YG, XC) float32 dask.array<chunksize=(1, 42, 320, 2160), meta=np.ndarray>\n",
       "    DFrE_SLT  (time, Zl, YC, XC) float32 dask.array<chunksize=(1, 42, 320, 2160), meta=np.ndarray>\n",
       "    DFrE_TH   (time, Zl, YC, XC) float32 dask.array<chunksize=(1, 42, 320, 2160), meta=np.ndarray>\n",
       "    DFrI_SLT  (time, Zl, YC, XC) float32 dask.array<chunksize=(1, 42, 320, 2160), meta=np.ndarray>\n",
       "    DFrI_TH   (time, Zl, YC, XC) float32 dask.array<chunksize=(1, 42, 320, 2160), meta=np.ndarray>\n",
       "    DFxE_SLT  (time, Z, YC, XG) float32 dask.array<chunksize=(1, 42, 320, 2160), meta=np.ndarray>\n",
       "    DFxE_TH   (time, Z, YC, XG) float32 dask.array<chunksize=(1, 42, 320, 2160), meta=np.ndarray>\n",
       "    DFyE_SLT  (time, Z, YG, XC) float32 dask.array<chunksize=(1, 42, 320, 2160), meta=np.ndarray>\n",
       "    DFyE_TH   (time, Z, YG, XC) float32 dask.array<chunksize=(1, 42, 320, 2160), meta=np.ndarray>\n",
       "    DRHODR    (time, Zl, YC, XC) float32 dask.array<chunksize=(1, 42, 320, 2160), meta=np.ndarray>\n",
       "    ETAN      (time, YC, XC) float32 dask.array<chunksize=(1, 320, 2160), meta=np.ndarray>\n",
       "    EXFswnet  (time, YC, XC) float32 dask.array<chunksize=(1, 320, 2160), meta=np.ndarray>\n",
       "    KPPg_SLT  (time, Zl, YC, XC) float32 dask.array<chunksize=(1, 42, 320, 2160), meta=np.ndarray>\n",
       "    KPPg_TH   (time, Zl, YC, XC) float32 dask.array<chunksize=(1, 42, 320, 2160), meta=np.ndarray>\n",
       "    PHIHYD    (time, Z, YC, XC) float32 dask.array<chunksize=(1, 42, 320, 2160), meta=np.ndarray>\n",
       "    SALT      (time, Z, YC, XC) float32 dask.array<chunksize=(1, 42, 320, 2160), meta=np.ndarray>\n",
       "    SFLUX     (time, YC, XC) float32 dask.array<chunksize=(1, 320, 2160), meta=np.ndarray>\n",
       "    SIarea    (time, YC, XC) float32 dask.array<chunksize=(1, 320, 2160), meta=np.ndarray>\n",
       "    SIatmFW   (time, YC, XC) float32 dask.array<chunksize=(1, 320, 2160), meta=np.ndarray>\n",
       "    SIatmQnt  (time, YC, XC) float32 dask.array<chunksize=(1, 320, 2160), meta=np.ndarray>\n",
       "    SIdHbATC  (time, YC, XC) float32 dask.array<chunksize=(1, 320, 2160), meta=np.ndarray>\n",
       "    SIdHbATO  (time, YC, XC) float32 dask.array<chunksize=(1, 320, 2160), meta=np.ndarray>\n",
       "    SIdHbOCN  (time, YC, XC) float32 dask.array<chunksize=(1, 320, 2160), meta=np.ndarray>\n",
       "    SIdSbATC  (time, YC, XC) float32 dask.array<chunksize=(1, 320, 2160), meta=np.ndarray>\n",
       "    SIdSbOCN  (time, YC, XC) float32 dask.array<chunksize=(1, 320, 2160), meta=np.ndarray>\n",
       "    SIempmr   (time, YC, XC) float32 dask.array<chunksize=(1, 320, 2160), meta=np.ndarray>\n",
       "    SIfu      (time, YC, XG) float32 dask.array<chunksize=(1, 320, 2160), meta=np.ndarray>\n",
       "    SIfv      (time, YG, XC) float32 dask.array<chunksize=(1, 320, 2160), meta=np.ndarray>\n",
       "    SIheff    (time, YC, XC) float32 dask.array<chunksize=(1, 320, 2160), meta=np.ndarray>\n",
       "    SIhsnow   (time, YC, XC) float32 dask.array<chunksize=(1, 320, 2160), meta=np.ndarray>\n",
       "    SIsnPrcp  (time, YC, XC) float32 dask.array<chunksize=(1, 320, 2160), meta=np.ndarray>\n",
       "    SItflux   (time, YC, XC) float32 dask.array<chunksize=(1, 320, 2160), meta=np.ndarray>\n",
       "    SIuheff   (time, YC, XG) float32 dask.array<chunksize=(1, 320, 2160), meta=np.ndarray>\n",
       "    SIuice    (time, YC, XG) float32 dask.array<chunksize=(1, 320, 2160), meta=np.ndarray>\n",
       "    SIvheff   (time, YG, XC) float32 dask.array<chunksize=(1, 320, 2160), meta=np.ndarray>\n",
       "    SIvice    (time, YG, XC) float32 dask.array<chunksize=(1, 320, 2160), meta=np.ndarray>\n",
       "    TFLUX     (time, YC, XC) float32 dask.array<chunksize=(1, 320, 2160), meta=np.ndarray>\n",
       "    THETA     (time, Z, YC, XC) float32 dask.array<chunksize=(1, 42, 320, 2160), meta=np.ndarray>\n",
       "    TOTSTEND  (time, Z, YC, XC) float32 dask.array<chunksize=(1, 42, 320, 2160), meta=np.ndarray>\n",
       "    TOTTTEND  (time, Z, YC, XC) float32 dask.array<chunksize=(1, 42, 320, 2160), meta=np.ndarray>\n",
       "    UVEL      (time, Z, YC, XG) float32 dask.array<chunksize=(1, 42, 320, 2160), meta=np.ndarray>\n",
       "    VVEL      (time, Z, YG, XC) float32 dask.array<chunksize=(1, 42, 320, 2160), meta=np.ndarray>\n",
       "    WSLTMASS  (time, Zl, YC, XC) float32 dask.array<chunksize=(1, 42, 320, 2160), meta=np.ndarray>\n",
       "    WTHMASS   (time, Zl, YC, XC) float32 dask.array<chunksize=(1, 42, 320, 2160), meta=np.ndarray>\n",
       "    WVEL      (time, Zl, YC, XC) float32 dask.array<chunksize=(1, 42, 320, 2160), meta=np.ndarray>\n",
       "    oceFreez  (time, YC, XC) float32 dask.array<chunksize=(1, 320, 2160), meta=np.ndarray>\n",
       "    oceQsw    (time, YC, XC) float32 dask.array<chunksize=(1, 320, 2160), meta=np.ndarray>\n",
       "    oceTAUX   (time, YC, XG) float32 dask.array<chunksize=(1, 320, 2160), meta=np.ndarray>\n",
       "    oceTAUY   (time, YG, XC) float32 dask.array<chunksize=(1, 320, 2160), meta=np.ndarray>\n",
       "    surForcS  (time, YC, XC) float32 dask.array<chunksize=(1, 320, 2160), meta=np.ndarray>\n",
       "    surForcT  (time, YC, XC) float32 dask.array<chunksize=(1, 320, 2160), meta=np.ndarray>"
      ]
     },
     "execution_count": 6,
     "metadata": {},
     "output_type": "execute_result"
    }
   ],
   "source": [
    "fs = gcsfs.GCSFileSystem(requester_pays=True)\n",
    "\n",
    "mapping = fs.get_mapper('gcs://pangeo-ecco-sose')\n",
    "\n",
    "ds = xr.open_zarr(mapping, consolidated=True)\n",
    "ds"
   ]
  },
  {
   "cell_type": "code",
   "execution_count": 7,
   "metadata": {},
   "outputs": [
    {
     "data": {
      "text/html": [
       "<pre>&lt;xarray.Dataset&gt;\n",
       "Dimensions:   (XC: 2160, XG: 2160, YC: 320, YG: 320, Z: 42, Zl: 42, Zp1: 43, Zu: 42, time: 438)\n",
       "Coordinates:\n",
       "  * XC        (XC) float32 0.083333336 0.25 0.4166667 ... 359.75 359.9167\n",
       "  * XG        (XG) float32 5.551115e-17 0.16666667 ... 359.6667 359.83334\n",
       "  * YC        (YC) float32 -77.87497 -77.7083 -77.54163 ... -24.874966 -24.7083\n",
       "  * YG        (YG) float32 -77.9583 -77.79163 -77.62497 ... -24.9583 -24.791632\n",
       "  * Z         (Z) float32 -5.0 -15.5 -27.0 -39.5 ... -5075.0 -5325.0 -5575.0\n",
       "  * Zl        (Zl) float32 0.0 -10.0 -21.0 -33.0 ... -4950.0 -5200.0 -5450.0\n",
       "  * Zp1       (Zp1) float32 0.0 -10.0 -21.0 -33.0 ... -5200.0 -5450.0 -5700.0\n",
       "  * Zu        (Zu) float32 -10.0 -21.0 -33.0 -46.0 ... -5200.0 -5450.0 -5700.0\n",
       "  * time      (time) datetime64[ns] 2005-01-06 2005-01-11 ... 2010-12-31\n",
       "Data variables:\n",
       "    ADVr_SLT  (time, Zl, YC, XC) float32 dask.array&lt;chunksize=(1, 42, 320, 2160), meta=np.ndarray&gt;\n",
       "    ADVr_TH   (time, Zl, YC, XC) float32 dask.array&lt;chunksize=(1, 42, 320, 2160), meta=np.ndarray&gt;\n",
       "    ADVx_SLT  (time, Z, YC, XG) float32 dask.array&lt;chunksize=(1, 42, 320, 2160), meta=np.ndarray&gt;\n",
       "    ADVx_TH   (time, Z, YC, XG) float32 dask.array&lt;chunksize=(1, 42, 320, 2160), meta=np.ndarray&gt;\n",
       "    ADVy_SLT  (time, Z, YG, XC) float32 dask.array&lt;chunksize=(1, 42, 320, 2160), meta=np.ndarray&gt;\n",
       "    ADVy_TH   (time, Z, YG, XC) float32 dask.array&lt;chunksize=(1, 42, 320, 2160), meta=np.ndarray&gt;\n",
       "    DFrE_SLT  (time, Zl, YC, XC) float32 dask.array&lt;chunksize=(1, 42, 320, 2160), meta=np.ndarray&gt;\n",
       "    DFrE_TH   (time, Zl, YC, XC) float32 dask.array&lt;chunksize=(1, 42, 320, 2160), meta=np.ndarray&gt;\n",
       "    DFrI_SLT  (time, Zl, YC, XC) float32 dask.array&lt;chunksize=(1, 42, 320, 2160), meta=np.ndarray&gt;\n",
       "    DFrI_TH   (time, Zl, YC, XC) float32 dask.array&lt;chunksize=(1, 42, 320, 2160), meta=np.ndarray&gt;\n",
       "    DFxE_SLT  (time, Z, YC, XG) float32 dask.array&lt;chunksize=(1, 42, 320, 2160), meta=np.ndarray&gt;\n",
       "    DFxE_TH   (time, Z, YC, XG) float32 dask.array&lt;chunksize=(1, 42, 320, 2160), meta=np.ndarray&gt;\n",
       "    DFyE_SLT  (time, Z, YG, XC) float32 dask.array&lt;chunksize=(1, 42, 320, 2160), meta=np.ndarray&gt;\n",
       "    DFyE_TH   (time, Z, YG, XC) float32 dask.array&lt;chunksize=(1, 42, 320, 2160), meta=np.ndarray&gt;\n",
       "    DRHODR    (time, Zl, YC, XC) float32 dask.array&lt;chunksize=(1, 42, 320, 2160), meta=np.ndarray&gt;\n",
       "    ETAN      (time, YC, XC) float32 dask.array&lt;chunksize=(1, 320, 2160), meta=np.ndarray&gt;\n",
       "    EXFswnet  (time, YC, XC) float32 dask.array&lt;chunksize=(1, 320, 2160), meta=np.ndarray&gt;\n",
       "    KPPg_SLT  (time, Zl, YC, XC) float32 dask.array&lt;chunksize=(1, 42, 320, 2160), meta=np.ndarray&gt;\n",
       "    KPPg_TH   (time, Zl, YC, XC) float32 dask.array&lt;chunksize=(1, 42, 320, 2160), meta=np.ndarray&gt;\n",
       "    PHIHYD    (time, Z, YC, XC) float32 dask.array&lt;chunksize=(1, 42, 320, 2160), meta=np.ndarray&gt;\n",
       "    SALT      (time, Z, YC, XC) float32 dask.array&lt;chunksize=(1, 42, 320, 2160), meta=np.ndarray&gt;\n",
       "    SFLUX     (time, YC, XC) float32 dask.array&lt;chunksize=(1, 320, 2160), meta=np.ndarray&gt;\n",
       "    SIarea    (time, YC, XC) float32 dask.array&lt;chunksize=(1, 320, 2160), meta=np.ndarray&gt;\n",
       "    SIatmFW   (time, YC, XC) float32 dask.array&lt;chunksize=(1, 320, 2160), meta=np.ndarray&gt;\n",
       "    SIatmQnt  (time, YC, XC) float32 dask.array&lt;chunksize=(1, 320, 2160), meta=np.ndarray&gt;\n",
       "    SIdHbATC  (time, YC, XC) float32 dask.array&lt;chunksize=(1, 320, 2160), meta=np.ndarray&gt;\n",
       "    SIdHbATO  (time, YC, XC) float32 dask.array&lt;chunksize=(1, 320, 2160), meta=np.ndarray&gt;\n",
       "    SIdHbOCN  (time, YC, XC) float32 dask.array&lt;chunksize=(1, 320, 2160), meta=np.ndarray&gt;\n",
       "    SIdSbATC  (time, YC, XC) float32 dask.array&lt;chunksize=(1, 320, 2160), meta=np.ndarray&gt;\n",
       "    SIdSbOCN  (time, YC, XC) float32 dask.array&lt;chunksize=(1, 320, 2160), meta=np.ndarray&gt;\n",
       "    SIempmr   (time, YC, XC) float32 dask.array&lt;chunksize=(1, 320, 2160), meta=np.ndarray&gt;\n",
       "    SIfu      (time, YC, XG) float32 dask.array&lt;chunksize=(1, 320, 2160), meta=np.ndarray&gt;\n",
       "    SIfv      (time, YG, XC) float32 dask.array&lt;chunksize=(1, 320, 2160), meta=np.ndarray&gt;\n",
       "    SIheff    (time, YC, XC) float32 dask.array&lt;chunksize=(1, 320, 2160), meta=np.ndarray&gt;\n",
       "    SIhsnow   (time, YC, XC) float32 dask.array&lt;chunksize=(1, 320, 2160), meta=np.ndarray&gt;\n",
       "    SIsnPrcp  (time, YC, XC) float32 dask.array&lt;chunksize=(1, 320, 2160), meta=np.ndarray&gt;\n",
       "    SItflux   (time, YC, XC) float32 dask.array&lt;chunksize=(1, 320, 2160), meta=np.ndarray&gt;\n",
       "    SIuheff   (time, YC, XG) float32 dask.array&lt;chunksize=(1, 320, 2160), meta=np.ndarray&gt;\n",
       "    SIuice    (time, YC, XG) float32 dask.array&lt;chunksize=(1, 320, 2160), meta=np.ndarray&gt;\n",
       "    SIvheff   (time, YG, XC) float32 dask.array&lt;chunksize=(1, 320, 2160), meta=np.ndarray&gt;\n",
       "    SIvice    (time, YG, XC) float32 dask.array&lt;chunksize=(1, 320, 2160), meta=np.ndarray&gt;\n",
       "    TFLUX     (time, YC, XC) float32 dask.array&lt;chunksize=(1, 320, 2160), meta=np.ndarray&gt;\n",
       "    THETA     (time, Z, YC, XC) float32 dask.array&lt;chunksize=(1, 42, 320, 2160), meta=np.ndarray&gt;\n",
       "    TOTSTEND  (time, Z, YC, XC) float32 dask.array&lt;chunksize=(1, 42, 320, 2160), meta=np.ndarray&gt;\n",
       "    TOTTTEND  (time, Z, YC, XC) float32 dask.array&lt;chunksize=(1, 42, 320, 2160), meta=np.ndarray&gt;\n",
       "    UVEL      (time, Z, YC, XG) float32 dask.array&lt;chunksize=(1, 42, 320, 2160), meta=np.ndarray&gt;\n",
       "    VVEL      (time, Z, YG, XC) float32 dask.array&lt;chunksize=(1, 42, 320, 2160), meta=np.ndarray&gt;\n",
       "    WSLTMASS  (time, Zl, YC, XC) float32 dask.array&lt;chunksize=(1, 42, 320, 2160), meta=np.ndarray&gt;\n",
       "    WTHMASS   (time, Zl, YC, XC) float32 dask.array&lt;chunksize=(1, 42, 320, 2160), meta=np.ndarray&gt;\n",
       "    WVEL      (time, Zl, YC, XC) float32 dask.array&lt;chunksize=(1, 42, 320, 2160), meta=np.ndarray&gt;\n",
       "    oceFreez  (time, YC, XC) float32 dask.array&lt;chunksize=(1, 320, 2160), meta=np.ndarray&gt;\n",
       "    oceQsw    (time, YC, XC) float32 dask.array&lt;chunksize=(1, 320, 2160), meta=np.ndarray&gt;\n",
       "    oceTAUX   (time, YC, XG) float32 dask.array&lt;chunksize=(1, 320, 2160), meta=np.ndarray&gt;\n",
       "    oceTAUY   (time, YG, XC) float32 dask.array&lt;chunksize=(1, 320, 2160), meta=np.ndarray&gt;\n",
       "    surForcS  (time, YC, XC) float32 dask.array&lt;chunksize=(1, 320, 2160), meta=np.ndarray&gt;\n",
       "    surForcT  (time, YC, XC) float32 dask.array&lt;chunksize=(1, 320, 2160), meta=np.ndarray&gt;</pre>"
      ],
      "text/plain": [
       "<xarray.Dataset>\n",
       "Dimensions:   (XC: 2160, XG: 2160, YC: 320, YG: 320, Z: 42, Zl: 42, Zp1: 43, Zu: 42, time: 438)\n",
       "Coordinates:\n",
       "  * XC        (XC) float32 0.083333336 0.25 0.4166667 ... 359.75 359.9167\n",
       "  * XG        (XG) float32 5.551115e-17 0.16666667 ... 359.6667 359.83334\n",
       "  * YC        (YC) float32 -77.87497 -77.7083 -77.54163 ... -24.874966 -24.7083\n",
       "  * YG        (YG) float32 -77.9583 -77.79163 -77.62497 ... -24.9583 -24.791632\n",
       "  * Z         (Z) float32 -5.0 -15.5 -27.0 -39.5 ... -5075.0 -5325.0 -5575.0\n",
       "  * Zl        (Zl) float32 0.0 -10.0 -21.0 -33.0 ... -4950.0 -5200.0 -5450.0\n",
       "  * Zp1       (Zp1) float32 0.0 -10.0 -21.0 -33.0 ... -5200.0 -5450.0 -5700.0\n",
       "  * Zu        (Zu) float32 -10.0 -21.0 -33.0 -46.0 ... -5200.0 -5450.0 -5700.0\n",
       "  * time      (time) datetime64[ns] 2005-01-06 2005-01-11 ... 2010-12-31\n",
       "Data variables:\n",
       "    ADVr_SLT  (time, Zl, YC, XC) float32 dask.array<chunksize=(1, 42, 320, 2160), meta=np.ndarray>\n",
       "    ADVr_TH   (time, Zl, YC, XC) float32 dask.array<chunksize=(1, 42, 320, 2160), meta=np.ndarray>\n",
       "    ADVx_SLT  (time, Z, YC, XG) float32 dask.array<chunksize=(1, 42, 320, 2160), meta=np.ndarray>\n",
       "    ADVx_TH   (time, Z, YC, XG) float32 dask.array<chunksize=(1, 42, 320, 2160), meta=np.ndarray>\n",
       "    ADVy_SLT  (time, Z, YG, XC) float32 dask.array<chunksize=(1, 42, 320, 2160), meta=np.ndarray>\n",
       "    ADVy_TH   (time, Z, YG, XC) float32 dask.array<chunksize=(1, 42, 320, 2160), meta=np.ndarray>\n",
       "    DFrE_SLT  (time, Zl, YC, XC) float32 dask.array<chunksize=(1, 42, 320, 2160), meta=np.ndarray>\n",
       "    DFrE_TH   (time, Zl, YC, XC) float32 dask.array<chunksize=(1, 42, 320, 2160), meta=np.ndarray>\n",
       "    DFrI_SLT  (time, Zl, YC, XC) float32 dask.array<chunksize=(1, 42, 320, 2160), meta=np.ndarray>\n",
       "    DFrI_TH   (time, Zl, YC, XC) float32 dask.array<chunksize=(1, 42, 320, 2160), meta=np.ndarray>\n",
       "    DFxE_SLT  (time, Z, YC, XG) float32 dask.array<chunksize=(1, 42, 320, 2160), meta=np.ndarray>\n",
       "    DFxE_TH   (time, Z, YC, XG) float32 dask.array<chunksize=(1, 42, 320, 2160), meta=np.ndarray>\n",
       "    DFyE_SLT  (time, Z, YG, XC) float32 dask.array<chunksize=(1, 42, 320, 2160), meta=np.ndarray>\n",
       "    DFyE_TH   (time, Z, YG, XC) float32 dask.array<chunksize=(1, 42, 320, 2160), meta=np.ndarray>\n",
       "    DRHODR    (time, Zl, YC, XC) float32 dask.array<chunksize=(1, 42, 320, 2160), meta=np.ndarray>\n",
       "    ETAN      (time, YC, XC) float32 dask.array<chunksize=(1, 320, 2160), meta=np.ndarray>\n",
       "    EXFswnet  (time, YC, XC) float32 dask.array<chunksize=(1, 320, 2160), meta=np.ndarray>\n",
       "    KPPg_SLT  (time, Zl, YC, XC) float32 dask.array<chunksize=(1, 42, 320, 2160), meta=np.ndarray>\n",
       "    KPPg_TH   (time, Zl, YC, XC) float32 dask.array<chunksize=(1, 42, 320, 2160), meta=np.ndarray>\n",
       "    PHIHYD    (time, Z, YC, XC) float32 dask.array<chunksize=(1, 42, 320, 2160), meta=np.ndarray>\n",
       "    SALT      (time, Z, YC, XC) float32 dask.array<chunksize=(1, 42, 320, 2160), meta=np.ndarray>\n",
       "    SFLUX     (time, YC, XC) float32 dask.array<chunksize=(1, 320, 2160), meta=np.ndarray>\n",
       "    SIarea    (time, YC, XC) float32 dask.array<chunksize=(1, 320, 2160), meta=np.ndarray>\n",
       "    SIatmFW   (time, YC, XC) float32 dask.array<chunksize=(1, 320, 2160), meta=np.ndarray>\n",
       "    SIatmQnt  (time, YC, XC) float32 dask.array<chunksize=(1, 320, 2160), meta=np.ndarray>\n",
       "    SIdHbATC  (time, YC, XC) float32 dask.array<chunksize=(1, 320, 2160), meta=np.ndarray>\n",
       "    SIdHbATO  (time, YC, XC) float32 dask.array<chunksize=(1, 320, 2160), meta=np.ndarray>\n",
       "    SIdHbOCN  (time, YC, XC) float32 dask.array<chunksize=(1, 320, 2160), meta=np.ndarray>\n",
       "    SIdSbATC  (time, YC, XC) float32 dask.array<chunksize=(1, 320, 2160), meta=np.ndarray>\n",
       "    SIdSbOCN  (time, YC, XC) float32 dask.array<chunksize=(1, 320, 2160), meta=np.ndarray>\n",
       "    SIempmr   (time, YC, XC) float32 dask.array<chunksize=(1, 320, 2160), meta=np.ndarray>\n",
       "    SIfu      (time, YC, XG) float32 dask.array<chunksize=(1, 320, 2160), meta=np.ndarray>\n",
       "    SIfv      (time, YG, XC) float32 dask.array<chunksize=(1, 320, 2160), meta=np.ndarray>\n",
       "    SIheff    (time, YC, XC) float32 dask.array<chunksize=(1, 320, 2160), meta=np.ndarray>\n",
       "    SIhsnow   (time, YC, XC) float32 dask.array<chunksize=(1, 320, 2160), meta=np.ndarray>\n",
       "    SIsnPrcp  (time, YC, XC) float32 dask.array<chunksize=(1, 320, 2160), meta=np.ndarray>\n",
       "    SItflux   (time, YC, XC) float32 dask.array<chunksize=(1, 320, 2160), meta=np.ndarray>\n",
       "    SIuheff   (time, YC, XG) float32 dask.array<chunksize=(1, 320, 2160), meta=np.ndarray>\n",
       "    SIuice    (time, YC, XG) float32 dask.array<chunksize=(1, 320, 2160), meta=np.ndarray>\n",
       "    SIvheff   (time, YG, XC) float32 dask.array<chunksize=(1, 320, 2160), meta=np.ndarray>\n",
       "    SIvice    (time, YG, XC) float32 dask.array<chunksize=(1, 320, 2160), meta=np.ndarray>\n",
       "    TFLUX     (time, YC, XC) float32 dask.array<chunksize=(1, 320, 2160), meta=np.ndarray>\n",
       "    THETA     (time, Z, YC, XC) float32 dask.array<chunksize=(1, 42, 320, 2160), meta=np.ndarray>\n",
       "    TOTSTEND  (time, Z, YC, XC) float32 dask.array<chunksize=(1, 42, 320, 2160), meta=np.ndarray>\n",
       "    TOTTTEND  (time, Z, YC, XC) float32 dask.array<chunksize=(1, 42, 320, 2160), meta=np.ndarray>\n",
       "    UVEL      (time, Z, YC, XG) float32 dask.array<chunksize=(1, 42, 320, 2160), meta=np.ndarray>\n",
       "    VVEL      (time, Z, YG, XC) float32 dask.array<chunksize=(1, 42, 320, 2160), meta=np.ndarray>\n",
       "    WSLTMASS  (time, Zl, YC, XC) float32 dask.array<chunksize=(1, 42, 320, 2160), meta=np.ndarray>\n",
       "    WTHMASS   (time, Zl, YC, XC) float32 dask.array<chunksize=(1, 42, 320, 2160), meta=np.ndarray>\n",
       "    WVEL      (time, Zl, YC, XC) float32 dask.array<chunksize=(1, 42, 320, 2160), meta=np.ndarray>\n",
       "    oceFreez  (time, YC, XC) float32 dask.array<chunksize=(1, 320, 2160), meta=np.ndarray>\n",
       "    oceQsw    (time, YC, XC) float32 dask.array<chunksize=(1, 320, 2160), meta=np.ndarray>\n",
       "    oceTAUX   (time, YC, XG) float32 dask.array<chunksize=(1, 320, 2160), meta=np.ndarray>\n",
       "    oceTAUY   (time, YG, XC) float32 dask.array<chunksize=(1, 320, 2160), meta=np.ndarray>\n",
       "    surForcS  (time, YC, XC) float32 dask.array<chunksize=(1, 320, 2160), meta=np.ndarray>\n",
       "    surForcT  (time, YC, XC) float32 dask.array<chunksize=(1, 320, 2160), meta=np.ndarray>"
      ]
     },
     "execution_count": 7,
     "metadata": {},
     "output_type": "execute_result"
    }
   ],
   "source": [
    "coords = ds.coords.to_dataset().reset_coords()\n",
    "dsr = ds.reset_coords(drop=True)\n",
    "dsr"
   ]
  },
  {
   "cell_type": "markdown",
   "metadata": {},
   "source": [
    "## Create xgcm grid\n",
    "\n",
    "[Xgcm](http://xgcm.readthedocs.io) is a package which helps with the analysis of GCM data."
   ]
  },
  {
   "cell_type": "code",
   "execution_count": 8,
   "metadata": {},
   "outputs": [
    {
     "data": {
      "text/plain": [
       "<xgcm.Grid>\n",
       "X Axis (periodic, boundary=None):\n",
       "  * center   XC --> left\n",
       "  * left     XG --> center\n",
       "T Axis (not periodic, boundary=None):\n",
       "  * center   time\n",
       "Z Axis (not periodic, boundary=None):\n",
       "  * center   Z --> left\n",
       "  * left     Zl --> center\n",
       "  * outer    Zp1 --> center\n",
       "  * right    Zu --> center\n",
       "Y Axis (periodic, boundary=None):\n",
       "  * center   YC --> left\n",
       "  * left     YG --> center"
      ]
     },
     "execution_count": 8,
     "metadata": {},
     "output_type": "execute_result"
    }
   ],
   "source": [
    "import xgcm\n",
    "grid = xgcm.Grid(ds, periodic=('X', 'Y'))\n",
    "grid"
   ]
  },
  {
   "cell_type": "markdown",
   "metadata": {},
   "source": [
    "## Tracer Budgets\n",
    "\n",
    "Here we will do the heat and salt budgets for SOSE. In integral form, these budgets can be written as\n",
    "\n",
    "$$\n",
    "\\mathcal{V} \\frac{\\partial S}{\\partial t} = G^S_{adv} + G^S_{diff} + G^S_{surf} + G^S_{linfs}\n",
    "$$\n",
    "\n",
    "\n",
    "$$\n",
    "\\mathcal{V} \\frac{\\partial \\theta}{\\partial t} = G^\\theta_{adv} + G^\\theta_{diff} + G^\\theta_{surf} + G^\\theta_{linfs} + G^\\theta_{sw}\n",
    "$$\n",
    "\n",
    "where $\\mathcal{V}$ is the volume of the grid cell. The terms on the right-hand side are called _tendencies_. They add up to the total tendency (the left hand side).\n",
    "\n",
    "The first term is the convergence of advective fluxes. The second is the convergence of diffusive fluxes. The third is the explicit surface flux. The fourth is the correction due to the linear free-surface approximation. The fifth is shortwave penetration (only for temperature).\n",
    "\n",
    "### Flux Divergence\n",
    "\n",
    "First we define a function to calculate the convergence of the advective and diffusive fluxes, since this has to be repeated for both tracers."
   ]
  },
  {
   "cell_type": "markdown",
   "metadata": {},
   "source": [
    "To fix scatter heat plot: \n",
    "- Maybe I need to divide by area? https://xgcm.readthedocs.io/en/latest/example_mitgcm.html#Creating-the-grid-object\n",
    "- Maybe chunking?"
   ]
  },
  {
   "cell_type": "code",
   "execution_count": 10,
   "metadata": {},
   "outputs": [],
   "source": [
    "def tracer_flux_budget(suffix):\n",
    "    \"\"\"Calculate the convergence of fluxes of tracer `suffix` where \n",
    "    `suffix` is `TH` or `SLT`. Return a new xarray.Dataset.\"\"\"\n",
    "    conv_horiz_adv_flux = -(grid.diff(dsr['ADVx_' + suffix], 'X') +\n",
    "                          grid.diff(dsr['ADVy_' + suffix], 'Y')).rename('conv_horiz_adv_flux_' + suffix)\n",
    "    conv_horiz_diff_flux = -(grid.diff(dsr['DFxE_' + suffix], 'X') +\n",
    "                          grid.diff(dsr['DFyE_' + suffix], 'Y')).rename('conv_horiz_diff_flux_' + suffix)\n",
    "    # sign convention is opposite for vertical fluxes\n",
    "    conv_vert_adv_flux = grid.diff(dsr['ADVr_' + suffix], 'Z', boundary='fill').rename('conv_vert_adv_flux_' + suffix)\n",
    "    conv_vert_diff_flux = (grid.diff(dsr['DFrE_' + suffix], 'Z', boundary='fill') +\n",
    "                           grid.diff(dsr['DFrI_' + suffix], 'Z', boundary='fill') +\n",
    "                           grid.diff(dsr['KPPg_' + suffix], 'Z', boundary='fill')).rename('conv_vert_diff_flux_' + suffix)\n",
    "    \n",
    "    all_fluxes = [conv_horiz_adv_flux, conv_horiz_diff_flux, conv_vert_adv_flux, conv_vert_diff_flux]\n",
    "    #conv_all_fluxes = sum(all_fluxes).rename('conv_total_flux_' + suffix)\n",
    "    #return xr.merge(all_fluxes + [conv_all_fluxes])\n",
    "    #units: <tracer>m^3/s\n",
    "    return xr.merge(all_fluxes)"
   ]
  },
  {
   "cell_type": "code",
   "execution_count": 11,
   "metadata": {},
   "outputs": [
    {
     "data": {
      "text/html": [
       "<pre>&lt;xarray.Dataset&gt;\n",
       "Dimensions:                   (XC: 2160, YC: 320, Z: 42, time: 438)\n",
       "Coordinates:\n",
       "  * time                      (time) datetime64[ns] 2005-01-06 ... 2010-12-31\n",
       "  * Z                         (Z) float32 -5.0 -15.5 -27.0 ... -5325.0 -5575.0\n",
       "  * YC                        (YC) float32 -77.87497 -77.7083 ... -24.7083\n",
       "  * XC                        (XC) float32 0.083333336 0.25 ... 359.75 359.9167\n",
       "Data variables:\n",
       "    conv_horiz_adv_flux_SLT   (time, Z, YC, XC) float32 dask.array&lt;chunksize=(1, 42, 319, 2159), meta=np.ndarray&gt;\n",
       "    conv_horiz_diff_flux_SLT  (time, Z, YC, XC) float32 dask.array&lt;chunksize=(1, 42, 319, 2159), meta=np.ndarray&gt;\n",
       "    conv_vert_adv_flux_SLT    (time, Z, YC, XC) float32 dask.array&lt;chunksize=(1, 41, 320, 2160), meta=np.ndarray&gt;\n",
       "    conv_vert_diff_flux_SLT   (time, Z, YC, XC) float32 dask.array&lt;chunksize=(1, 41, 320, 2160), meta=np.ndarray&gt;</pre>"
      ],
      "text/plain": [
       "<xarray.Dataset>\n",
       "Dimensions:                   (XC: 2160, YC: 320, Z: 42, time: 438)\n",
       "Coordinates:\n",
       "  * time                      (time) datetime64[ns] 2005-01-06 ... 2010-12-31\n",
       "  * Z                         (Z) float32 -5.0 -15.5 -27.0 ... -5325.0 -5575.0\n",
       "  * YC                        (YC) float32 -77.87497 -77.7083 ... -24.7083\n",
       "  * XC                        (XC) float32 0.083333336 0.25 ... 359.75 359.9167\n",
       "Data variables:\n",
       "    conv_horiz_adv_flux_SLT   (time, Z, YC, XC) float32 dask.array<chunksize=(1, 42, 319, 2159), meta=np.ndarray>\n",
       "    conv_horiz_diff_flux_SLT  (time, Z, YC, XC) float32 dask.array<chunksize=(1, 42, 319, 2159), meta=np.ndarray>\n",
       "    conv_vert_adv_flux_SLT    (time, Z, YC, XC) float32 dask.array<chunksize=(1, 41, 320, 2160), meta=np.ndarray>\n",
       "    conv_vert_diff_flux_SLT   (time, Z, YC, XC) float32 dask.array<chunksize=(1, 41, 320, 2160), meta=np.ndarray>"
      ]
     },
     "execution_count": 11,
     "metadata": {},
     "output_type": "execute_result"
    }
   ],
   "source": [
    "# sum of all converging adv/diff fluxes\n",
    "budget_slt = tracer_flux_budget('SLT')\n",
    "budget_slt"
   ]
  },
  {
   "cell_type": "code",
   "execution_count": 12,
   "metadata": {},
   "outputs": [
    {
     "data": {
      "text/html": [
       "<pre>&lt;xarray.Dataset&gt;\n",
       "Dimensions:                  (XC: 2160, YC: 320, Z: 42, time: 438)\n",
       "Coordinates:\n",
       "  * time                     (time) datetime64[ns] 2005-01-06 ... 2010-12-31\n",
       "  * Z                        (Z) float32 -5.0 -15.5 -27.0 ... -5325.0 -5575.0\n",
       "  * YC                       (YC) float32 -77.87497 -77.7083 ... -24.7083\n",
       "  * XC                       (XC) float32 0.083333336 0.25 ... 359.75 359.9167\n",
       "Data variables:\n",
       "    conv_horiz_adv_flux_TH   (time, Z, YC, XC) float32 dask.array&lt;chunksize=(1, 42, 319, 2159), meta=np.ndarray&gt;\n",
       "    conv_horiz_diff_flux_TH  (time, Z, YC, XC) float32 dask.array&lt;chunksize=(1, 42, 319, 2159), meta=np.ndarray&gt;\n",
       "    conv_vert_adv_flux_TH    (time, Z, YC, XC) float32 dask.array&lt;chunksize=(1, 41, 320, 2160), meta=np.ndarray&gt;\n",
       "    conv_vert_diff_flux_TH   (time, Z, YC, XC) float32 dask.array&lt;chunksize=(1, 41, 320, 2160), meta=np.ndarray&gt;</pre>"
      ],
      "text/plain": [
       "<xarray.Dataset>\n",
       "Dimensions:                  (XC: 2160, YC: 320, Z: 42, time: 438)\n",
       "Coordinates:\n",
       "  * time                     (time) datetime64[ns] 2005-01-06 ... 2010-12-31\n",
       "  * Z                        (Z) float32 -5.0 -15.5 -27.0 ... -5325.0 -5575.0\n",
       "  * YC                       (YC) float32 -77.87497 -77.7083 ... -24.7083\n",
       "  * XC                       (XC) float32 0.083333336 0.25 ... 359.75 359.9167\n",
       "Data variables:\n",
       "    conv_horiz_adv_flux_TH   (time, Z, YC, XC) float32 dask.array<chunksize=(1, 42, 319, 2159), meta=np.ndarray>\n",
       "    conv_horiz_diff_flux_TH  (time, Z, YC, XC) float32 dask.array<chunksize=(1, 42, 319, 2159), meta=np.ndarray>\n",
       "    conv_vert_adv_flux_TH    (time, Z, YC, XC) float32 dask.array<chunksize=(1, 41, 320, 2160), meta=np.ndarray>\n",
       "    conv_vert_diff_flux_TH   (time, Z, YC, XC) float32 dask.array<chunksize=(1, 41, 320, 2160), meta=np.ndarray>"
      ]
     },
     "execution_count": 12,
     "metadata": {},
     "output_type": "execute_result"
    }
   ],
   "source": [
    "budget_th = tracer_flux_budget('TH')\n",
    "budget_th"
   ]
  },
  {
   "cell_type": "code",
   "execution_count": 13,
   "metadata": {},
   "outputs": [],
   "source": [
    "#adding true total tendency\n",
    "\n",
    "volume = (coords.drF * coords.rA * coords.hFacC)\n",
    "#client.scatter(volume)\n",
    "day2seconds = (24*60*60)\n",
    "\n",
    "budget_th['total_tendency_TH_truth'] = (dsr.TOTTTEND * volume) / day2seconds\n",
    "budget_slt['total_tendency_SLT_truth'] = (dsr.TOTSTEND * volume) / day2seconds"
   ]
  },
  {
   "cell_type": "code",
   "execution_count": 14,
   "metadata": {},
   "outputs": [
    {
     "data": {
      "text/html": [
       "<pre>&lt;xarray.Dataset&gt;\n",
       "Dimensions:                  (XC: 2160, YC: 320, Z: 42, time: 438)\n",
       "Coordinates:\n",
       "  * time                     (time) datetime64[ns] 2005-01-06 ... 2010-12-31\n",
       "  * Z                        (Z) float32 -5.0 -15.5 -27.0 ... -5325.0 -5575.0\n",
       "  * YC                       (YC) float32 -77.87497 -77.7083 ... -24.7083\n",
       "  * XC                       (XC) float32 0.083333336 0.25 ... 359.75 359.9167\n",
       "Data variables:\n",
       "    conv_horiz_adv_flux_TH   (time, Z, YC, XC) float32 dask.array&lt;chunksize=(1, 42, 319, 2159), meta=np.ndarray&gt;\n",
       "    conv_horiz_diff_flux_TH  (time, Z, YC, XC) float32 dask.array&lt;chunksize=(1, 42, 319, 2159), meta=np.ndarray&gt;\n",
       "    conv_vert_adv_flux_TH    (time, Z, YC, XC) float32 dask.array&lt;chunksize=(1, 41, 320, 2160), meta=np.ndarray&gt;\n",
       "    conv_vert_diff_flux_TH   (time, Z, YC, XC) float32 dask.array&lt;chunksize=(1, 41, 320, 2160), meta=np.ndarray&gt;\n",
       "    total_tendency_TH_truth  (time, Z, YC, XC) float64 dask.array&lt;chunksize=(1, 42, 320, 2160), meta=np.ndarray&gt;</pre>"
      ],
      "text/plain": [
       "<xarray.Dataset>\n",
       "Dimensions:                  (XC: 2160, YC: 320, Z: 42, time: 438)\n",
       "Coordinates:\n",
       "  * time                     (time) datetime64[ns] 2005-01-06 ... 2010-12-31\n",
       "  * Z                        (Z) float32 -5.0 -15.5 -27.0 ... -5325.0 -5575.0\n",
       "  * YC                       (YC) float32 -77.87497 -77.7083 ... -24.7083\n",
       "  * XC                       (XC) float32 0.083333336 0.25 ... 359.75 359.9167\n",
       "Data variables:\n",
       "    conv_horiz_adv_flux_TH   (time, Z, YC, XC) float32 dask.array<chunksize=(1, 42, 319, 2159), meta=np.ndarray>\n",
       "    conv_horiz_diff_flux_TH  (time, Z, YC, XC) float32 dask.array<chunksize=(1, 42, 319, 2159), meta=np.ndarray>\n",
       "    conv_vert_adv_flux_TH    (time, Z, YC, XC) float32 dask.array<chunksize=(1, 41, 320, 2160), meta=np.ndarray>\n",
       "    conv_vert_diff_flux_TH   (time, Z, YC, XC) float32 dask.array<chunksize=(1, 41, 320, 2160), meta=np.ndarray>\n",
       "    total_tendency_TH_truth  (time, Z, YC, XC) float64 dask.array<chunksize=(1, 42, 320, 2160), meta=np.ndarray>"
      ]
     },
     "execution_count": 14,
     "metadata": {},
     "output_type": "execute_result"
    }
   ],
   "source": [
    "budget_th"
   ]
  },
  {
   "cell_type": "code",
   "execution_count": 15,
   "metadata": {},
   "outputs": [
    {
     "data": {
      "text/html": [
       "<pre>&lt;xarray.Dataset&gt;\n",
       "Dimensions:                   (XC: 2160, YC: 320, Z: 42, time: 438)\n",
       "Coordinates:\n",
       "  * time                      (time) datetime64[ns] 2005-01-06 ... 2010-12-31\n",
       "  * Z                         (Z) float32 -5.0 -15.5 -27.0 ... -5325.0 -5575.0\n",
       "  * YC                        (YC) float32 -77.87497 -77.7083 ... -24.7083\n",
       "  * XC                        (XC) float32 0.083333336 0.25 ... 359.75 359.9167\n",
       "Data variables:\n",
       "    conv_horiz_adv_flux_SLT   (time, Z, YC, XC) float32 dask.array&lt;chunksize=(1, 42, 319, 2159), meta=np.ndarray&gt;\n",
       "    conv_horiz_diff_flux_SLT  (time, Z, YC, XC) float32 dask.array&lt;chunksize=(1, 42, 319, 2159), meta=np.ndarray&gt;\n",
       "    conv_vert_adv_flux_SLT    (time, Z, YC, XC) float32 dask.array&lt;chunksize=(1, 41, 320, 2160), meta=np.ndarray&gt;\n",
       "    conv_vert_diff_flux_SLT   (time, Z, YC, XC) float32 dask.array&lt;chunksize=(1, 41, 320, 2160), meta=np.ndarray&gt;\n",
       "    total_tendency_SLT_truth  (time, Z, YC, XC) float64 dask.array&lt;chunksize=(1, 42, 320, 2160), meta=np.ndarray&gt;</pre>"
      ],
      "text/plain": [
       "<xarray.Dataset>\n",
       "Dimensions:                   (XC: 2160, YC: 320, Z: 42, time: 438)\n",
       "Coordinates:\n",
       "  * time                      (time) datetime64[ns] 2005-01-06 ... 2010-12-31\n",
       "  * Z                         (Z) float32 -5.0 -15.5 -27.0 ... -5325.0 -5575.0\n",
       "  * YC                        (YC) float32 -77.87497 -77.7083 ... -24.7083\n",
       "  * XC                        (XC) float32 0.083333336 0.25 ... 359.75 359.9167\n",
       "Data variables:\n",
       "    conv_horiz_adv_flux_SLT   (time, Z, YC, XC) float32 dask.array<chunksize=(1, 42, 319, 2159), meta=np.ndarray>\n",
       "    conv_horiz_diff_flux_SLT  (time, Z, YC, XC) float32 dask.array<chunksize=(1, 42, 319, 2159), meta=np.ndarray>\n",
       "    conv_vert_adv_flux_SLT    (time, Z, YC, XC) float32 dask.array<chunksize=(1, 41, 320, 2160), meta=np.ndarray>\n",
       "    conv_vert_diff_flux_SLT   (time, Z, YC, XC) float32 dask.array<chunksize=(1, 41, 320, 2160), meta=np.ndarray>\n",
       "    total_tendency_SLT_truth  (time, Z, YC, XC) float64 dask.array<chunksize=(1, 42, 320, 2160), meta=np.ndarray>"
      ]
     },
     "execution_count": 15,
     "metadata": {},
     "output_type": "execute_result"
    }
   ],
   "source": [
    "budget_slt"
   ]
  },
  {
   "cell_type": "markdown",
   "metadata": {},
   "source": [
    "### Surface Fluxes\n",
    "\n",
    "The surface fluxes are only active in the top model layer. We need to specify some constants to convert to the proper units and scale factors to convert to integral form. They also require some xarray special sauce to merge with the 3D variables."
   ]
  },
  {
   "cell_type": "code",
   "execution_count": 16,
   "metadata": {},
   "outputs": [
    {
     "data": {
      "text/html": [
       "<pre>&lt;xarray.DataArray &#x27;TFLUX&#x27; (time: 438, YC: 320, XC: 2160)&gt;\n",
       "dask.array&lt;zarr, shape=(438, 320, 2160), dtype=float32, chunksize=(1, 320, 2160), chunktype=numpy.ndarray&gt;\n",
       "Coordinates:\n",
       "  * XC       (XC) float32 0.083333336 0.25 0.4166667 ... 359.75 359.9167\n",
       "  * YC       (YC) float32 -77.87497 -77.7083 -77.54163 ... -24.874966 -24.7083\n",
       "  * time     (time) datetime64[ns] 2005-01-06 2005-01-11 ... 2010-12-31\n",
       "Attributes:\n",
       "    long_name:      total heat flux (match heat-content variations), &gt;0 incre...\n",
       "    standard_name:  TFLUX\n",
       "    units:          W/m^2</pre>"
      ],
      "text/plain": [
       "<xarray.DataArray 'TFLUX' (time: 438, YC: 320, XC: 2160)>\n",
       "dask.array<zarr, shape=(438, 320, 2160), dtype=float32, chunksize=(1, 320, 2160), chunktype=numpy.ndarray>\n",
       "Coordinates:\n",
       "  * XC       (XC) float32 0.083333336 0.25 0.4166667 ... 359.75 359.9167\n",
       "  * YC       (YC) float32 -77.87497 -77.7083 -77.54163 ... -24.874966 -24.7083\n",
       "  * time     (time) datetime64[ns] 2005-01-06 2005-01-11 ... 2010-12-31\n",
       "Attributes:\n",
       "    long_name:      total heat flux (match heat-content variations), >0 incre...\n",
       "    standard_name:  TFLUX\n",
       "    units:          W/m^2"
      ]
     },
     "execution_count": 16,
     "metadata": {},
     "output_type": "execute_result"
    }
   ],
   "source": [
    "dsr.TFLUX"
   ]
  },
  {
   "cell_type": "code",
   "execution_count": 17,
   "metadata": {},
   "outputs": [
    {
     "data": {
      "text/html": [
       "<pre>&lt;xarray.DataArray &#x27;oceQsw&#x27; (time: 438, YC: 320, XC: 2160)&gt;\n",
       "dask.array&lt;zarr, shape=(438, 320, 2160), dtype=float32, chunksize=(1, 320, 2160), chunktype=numpy.ndarray&gt;\n",
       "Coordinates:\n",
       "  * XC       (XC) float32 0.083333336 0.25 0.4166667 ... 359.75 359.9167\n",
       "  * YC       (YC) float32 -77.87497 -77.7083 -77.54163 ... -24.874966 -24.7083\n",
       "  * time     (time) datetime64[ns] 2005-01-06 2005-01-11 ... 2010-12-31\n",
       "Attributes:\n",
       "    long_name:      net Short-Wave radiation (+=down), &gt;0 increases theta\n",
       "    standard_name:  oceQsw\n",
       "    units:          W/m^2</pre>"
      ],
      "text/plain": [
       "<xarray.DataArray 'oceQsw' (time: 438, YC: 320, XC: 2160)>\n",
       "dask.array<zarr, shape=(438, 320, 2160), dtype=float32, chunksize=(1, 320, 2160), chunktype=numpy.ndarray>\n",
       "Coordinates:\n",
       "  * XC       (XC) float32 0.083333336 0.25 0.4166667 ... 359.75 359.9167\n",
       "  * YC       (YC) float32 -77.87497 -77.7083 -77.54163 ... -24.874966 -24.7083\n",
       "  * time     (time) datetime64[ns] 2005-01-06 2005-01-11 ... 2010-12-31\n",
       "Attributes:\n",
       "    long_name:      net Short-Wave radiation (+=down), >0 increases theta\n",
       "    standard_name:  oceQsw\n",
       "    units:          W/m^2"
      ]
     },
     "execution_count": 17,
     "metadata": {},
     "output_type": "execute_result"
    }
   ],
   "source": [
    "dsr.oceQsw"
   ]
  },
  {
   "cell_type": "code",
   "execution_count": 18,
   "metadata": {},
   "outputs": [
    {
     "data": {
      "text/html": [
       "<pre>&lt;xarray.DataArray &#x27;WTHMASS&#x27; (time: 438, Zl: 42, YC: 320, XC: 2160)&gt;\n",
       "dask.array&lt;zarr, shape=(438, 42, 320, 2160), dtype=float32, chunksize=(1, 42, 320, 2160), chunktype=numpy.ndarray&gt;\n",
       "Coordinates:\n",
       "  * XC       (XC) float32 0.083333336 0.25 0.4166667 ... 359.75 359.9167\n",
       "  * YC       (YC) float32 -77.87497 -77.7083 -77.54163 ... -24.874966 -24.7083\n",
       "  * Zl       (Zl) float32 0.0 -10.0 -21.0 -33.0 ... -4950.0 -5200.0 -5450.0\n",
       "  * time     (time) datetime64[ns] 2005-01-06 2005-01-11 ... 2010-12-31\n",
       "Attributes:\n",
       "    long_name:      Vertical Mass-Weight Transp of Pot Temp (K.m/s)\n",
       "    standard_name:  WTHMASS\n",
       "    units:          degC.m/s</pre>"
      ],
      "text/plain": [
       "<xarray.DataArray 'WTHMASS' (time: 438, Zl: 42, YC: 320, XC: 2160)>\n",
       "dask.array<zarr, shape=(438, 42, 320, 2160), dtype=float32, chunksize=(1, 42, 320, 2160), chunktype=numpy.ndarray>\n",
       "Coordinates:\n",
       "  * XC       (XC) float32 0.083333336 0.25 0.4166667 ... 359.75 359.9167\n",
       "  * YC       (YC) float32 -77.87497 -77.7083 -77.54163 ... -24.874966 -24.7083\n",
       "  * Zl       (Zl) float32 0.0 -10.0 -21.0 -33.0 ... -4950.0 -5200.0 -5450.0\n",
       "  * time     (time) datetime64[ns] 2005-01-06 2005-01-11 ... 2010-12-31\n",
       "Attributes:\n",
       "    long_name:      Vertical Mass-Weight Transp of Pot Temp (K.m/s)\n",
       "    standard_name:  WTHMASS\n",
       "    units:          degC.m/s"
      ]
     },
     "execution_count": 18,
     "metadata": {},
     "output_type": "execute_result"
    }
   ],
   "source": [
    "dsr.WTHMASS"
   ]
  },
  {
   "cell_type": "code",
   "execution_count": 19,
   "metadata": {},
   "outputs": [],
   "source": [
    "# constants\n",
    "heat_capacity_cp = 3.994e3 #J/kg/˚C\n",
    "runit2mass = 1.035e3 #rho\n",
    "\n",
    "# treat the shortwave flux separately from the rest of the surface flux\n",
    "surf_flux_th = (dsr.TFLUX - dsr.oceQsw) * coords.rA / (heat_capacity_cp * runit2mass)\n",
    "lin_fs_correction_th = -(dsr.WTHMASS.isel(Zl=0, drop=True) * coords.rA)\n",
    "\n",
    "#sw flux\n",
    "surf_flux_th_sw = dsr.oceQsw * coords.rA / (heat_capacity_cp * runit2mass)\n",
    "\n",
    "# salt\n",
    "surf_flux_slt = dsr.SFLUX * coords.rA  / runit2mass\n",
    "lin_fs_correction_slt = -(dsr.WSLTMASS.isel(Zl=0, drop=True) * coords.rA)\n",
    "#units: (˚C m^3)/s"
   ]
  },
  {
   "cell_type": "markdown",
   "metadata": {},
   "source": [
    "### Shortwave Flux\n",
    "\n",
    "Special treatment is needed for the shortwave flux, which penetrates into the interior of the water column"
   ]
  },
  {
   "cell_type": "code",
   "execution_count": 20,
   "metadata": {},
   "outputs": [
    {
     "name": "stderr",
     "output_type": "stream",
     "text": [
      "/srv/conda/envs/notebook/lib/python3.8/site-packages/xarray/core/indexing.py:1361: PerformanceWarning: Slicing is producing a large chunk. To accept the large\n",
      "chunk and silence this warning, set the option\n",
      "    >>> with dask.config.set(**{'array.slicing.split_large_chunks': False}):\n",
      "    ...     array[indexer]\n",
      "\n",
      "To avoid creating the large chunks, set the option\n",
      "    >>> with dask.config.set(**{'array.slicing.split_large_chunks': True}):\n",
      "    ...     array[indexer]\n",
      "  return self.array[key]\n"
     ]
    }
   ],
   "source": [
    "def swfrac(coords, fact=1., jwtype=2):\n",
    "    \"\"\"Clone of MITgcm routine for computing sw flux penetration.\n",
    "    z: depth of output levels\"\"\"\n",
    "    \n",
    "    rfac = [0.58 , 0.62, 0.67, 0.77, 0.78]\n",
    "    a1 = [0.35 , 0.6  , 1.0  , 1.5  , 1.4]\n",
    "    a2 = [23.0 , 20.0 , 17.0 , 14.0 , 7.9 ]\n",
    "    \n",
    "    facz = fact * coords.Zl.sel(Zl=slice(0, -200))\n",
    "    j = jwtype-1\n",
    "    swdk = (rfac[j] * np.exp(facz / a1[j]) +\n",
    "            (1-rfac[j]) * np.exp(facz / a2[j]))\n",
    "            \n",
    "    return swdk.rename('swdk')\n",
    "\n",
    "_, swdown = xr.align(dsr.Zl, surf_flux_th_sw * swfrac(coords), join='left', )\n",
    "swdown = swdown.fillna(0)"
   ]
  },
  {
   "cell_type": "code",
   "execution_count": 21,
   "metadata": {},
   "outputs": [
    {
     "data": {
      "text/html": [
       "<pre>&lt;xarray.Dataset&gt;\n",
       "Dimensions:                  (XC: 2160, YC: 320, Z: 42, time: 438)\n",
       "Coordinates:\n",
       "  * time                     (time) datetime64[ns] 2005-01-06 ... 2010-12-31\n",
       "  * Z                        (Z) float32 -5.0 -15.5 -27.0 ... -5325.0 -5575.0\n",
       "  * YC                       (YC) float32 -77.87497 -77.7083 ... -24.7083\n",
       "  * XC                       (XC) float32 0.083333336 0.25 ... 359.75 359.9167\n",
       "Data variables:\n",
       "    conv_horiz_adv_flux_TH   (time, Z, YC, XC) float32 dask.array&lt;chunksize=(1, 42, 320, 2160), meta=np.ndarray&gt;\n",
       "    conv_horiz_diff_flux_TH  (time, Z, YC, XC) float32 dask.array&lt;chunksize=(1, 42, 320, 2160), meta=np.ndarray&gt;\n",
       "    conv_vert_adv_flux_TH    (time, Z, YC, XC) float32 dask.array&lt;chunksize=(1, 42, 320, 2160), meta=np.ndarray&gt;\n",
       "    conv_vert_diff_flux_TH   (time, Z, YC, XC) float32 dask.array&lt;chunksize=(1, 42, 320, 2160), meta=np.ndarray&gt;\n",
       "    total_tendency_TH_truth  (time, Z, YC, XC) float64 dask.array&lt;chunksize=(1, 42, 320, 2160), meta=np.ndarray&gt;\n",
       "    surface_flux_conv_TH     (time, YC, XC) float32 dask.array&lt;chunksize=(1, 320, 2160), meta=np.ndarray&gt;\n",
       "    lin_fs_correction_TH     (time, YC, XC) float32 dask.array&lt;chunksize=(1, 320, 2160), meta=np.ndarray&gt;\n",
       "    sw_flux_conv_TH          (time, YC, XC, Z) float32 dask.array&lt;chunksize=(1, 320, 2160, 42), meta=np.ndarray&gt;</pre>"
      ],
      "text/plain": [
       "<xarray.Dataset>\n",
       "Dimensions:                  (XC: 2160, YC: 320, Z: 42, time: 438)\n",
       "Coordinates:\n",
       "  * time                     (time) datetime64[ns] 2005-01-06 ... 2010-12-31\n",
       "  * Z                        (Z) float32 -5.0 -15.5 -27.0 ... -5325.0 -5575.0\n",
       "  * YC                       (YC) float32 -77.87497 -77.7083 ... -24.7083\n",
       "  * XC                       (XC) float32 0.083333336 0.25 ... 359.75 359.9167\n",
       "Data variables:\n",
       "    conv_horiz_adv_flux_TH   (time, Z, YC, XC) float32 dask.array<chunksize=(1, 42, 320, 2160), meta=np.ndarray>\n",
       "    conv_horiz_diff_flux_TH  (time, Z, YC, XC) float32 dask.array<chunksize=(1, 42, 320, 2160), meta=np.ndarray>\n",
       "    conv_vert_adv_flux_TH    (time, Z, YC, XC) float32 dask.array<chunksize=(1, 42, 320, 2160), meta=np.ndarray>\n",
       "    conv_vert_diff_flux_TH   (time, Z, YC, XC) float32 dask.array<chunksize=(1, 42, 320, 2160), meta=np.ndarray>\n",
       "    total_tendency_TH_truth  (time, Z, YC, XC) float64 dask.array<chunksize=(1, 42, 320, 2160), meta=np.ndarray>\n",
       "    surface_flux_conv_TH     (time, YC, XC) float32 dask.array<chunksize=(1, 320, 2160), meta=np.ndarray>\n",
       "    lin_fs_correction_TH     (time, YC, XC) float32 dask.array<chunksize=(1, 320, 2160), meta=np.ndarray>\n",
       "    sw_flux_conv_TH          (time, YC, XC, Z) float32 dask.array<chunksize=(1, 320, 2160, 42), meta=np.ndarray>"
      ]
     },
     "execution_count": 21,
     "metadata": {},
     "output_type": "execute_result"
    }
   ],
   "source": [
    "budget_th = xr.merge([budget_th, surf_flux_th.rename('surface_flux_conv_TH'), \n",
    "                      lin_fs_correction_th.rename('lin_fs_correction_TH'),\n",
    "                    (-grid.diff(swdown, 'Z', boundary='fill').fillna(0.)).rename('sw_flux_conv_TH')])\n",
    "budget_th = budget_th.chunk({'XC':-1, 'YC':-1, 'Z':-1, 'time':1})\n",
    "budget_th"
   ]
  },
  {
   "cell_type": "code",
   "execution_count": 22,
   "metadata": {},
   "outputs": [
    {
     "data": {
      "text/html": [
       "<pre>&lt;xarray.Dataset&gt;\n",
       "Dimensions:                   (XC: 2160, YC: 320, Z: 42, time: 438)\n",
       "Coordinates:\n",
       "  * time                      (time) datetime64[ns] 2005-01-06 ... 2010-12-31\n",
       "  * Z                         (Z) float32 -5.0 -15.5 -27.0 ... -5325.0 -5575.0\n",
       "  * YC                        (YC) float32 -77.87497 -77.7083 ... -24.7083\n",
       "  * XC                        (XC) float32 0.083333336 0.25 ... 359.75 359.9167\n",
       "Data variables:\n",
       "    conv_horiz_adv_flux_SLT   (time, Z, YC, XC) float32 dask.array&lt;chunksize=(1, 42, 320, 2160), meta=np.ndarray&gt;\n",
       "    conv_horiz_diff_flux_SLT  (time, Z, YC, XC) float32 dask.array&lt;chunksize=(1, 42, 320, 2160), meta=np.ndarray&gt;\n",
       "    conv_vert_adv_flux_SLT    (time, Z, YC, XC) float32 dask.array&lt;chunksize=(1, 42, 320, 2160), meta=np.ndarray&gt;\n",
       "    conv_vert_diff_flux_SLT   (time, Z, YC, XC) float32 dask.array&lt;chunksize=(1, 42, 320, 2160), meta=np.ndarray&gt;\n",
       "    total_tendency_SLT_truth  (time, Z, YC, XC) float64 dask.array&lt;chunksize=(1, 42, 320, 2160), meta=np.ndarray&gt;\n",
       "    surface_flux_conv_SLT     (time, YC, XC) float32 dask.array&lt;chunksize=(1, 320, 2160), meta=np.ndarray&gt;\n",
       "    lin_fs_correction_SLT     (time, YC, XC) float32 dask.array&lt;chunksize=(1, 320, 2160), meta=np.ndarray&gt;</pre>"
      ],
      "text/plain": [
       "<xarray.Dataset>\n",
       "Dimensions:                   (XC: 2160, YC: 320, Z: 42, time: 438)\n",
       "Coordinates:\n",
       "  * time                      (time) datetime64[ns] 2005-01-06 ... 2010-12-31\n",
       "  * Z                         (Z) float32 -5.0 -15.5 -27.0 ... -5325.0 -5575.0\n",
       "  * YC                        (YC) float32 -77.87497 -77.7083 ... -24.7083\n",
       "  * XC                        (XC) float32 0.083333336 0.25 ... 359.75 359.9167\n",
       "Data variables:\n",
       "    conv_horiz_adv_flux_SLT   (time, Z, YC, XC) float32 dask.array<chunksize=(1, 42, 320, 2160), meta=np.ndarray>\n",
       "    conv_horiz_diff_flux_SLT  (time, Z, YC, XC) float32 dask.array<chunksize=(1, 42, 320, 2160), meta=np.ndarray>\n",
       "    conv_vert_adv_flux_SLT    (time, Z, YC, XC) float32 dask.array<chunksize=(1, 42, 320, 2160), meta=np.ndarray>\n",
       "    conv_vert_diff_flux_SLT   (time, Z, YC, XC) float32 dask.array<chunksize=(1, 42, 320, 2160), meta=np.ndarray>\n",
       "    total_tendency_SLT_truth  (time, Z, YC, XC) float64 dask.array<chunksize=(1, 42, 320, 2160), meta=np.ndarray>\n",
       "    surface_flux_conv_SLT     (time, YC, XC) float32 dask.array<chunksize=(1, 320, 2160), meta=np.ndarray>\n",
       "    lin_fs_correction_SLT     (time, YC, XC) float32 dask.array<chunksize=(1, 320, 2160), meta=np.ndarray>"
      ]
     },
     "execution_count": 22,
     "metadata": {},
     "output_type": "execute_result"
    }
   ],
   "source": [
    "budget_slt = xr.merge([budget_slt, surf_flux_slt.rename('surface_flux_conv_SLT'),\n",
    "                       lin_fs_correction_slt.rename('lin_fs_correction_SLT')])\n",
    "budget_slt = budget_slt.chunk({'XC':-1, 'YC':-1, 'Z':-1, 'time':1})\n",
    "budget_slt"
   ]
  },
  {
   "cell_type": "raw",
   "metadata": {},
   "source": [
    "plt.scatter(budget_th.isel(time=35).sw_flux_conv_TH.where(budget_th.sw_flux_conv_TH.Z < 200).values.ravel(), \n",
    "            budget_th.isel(time=35).sw_flux_conv_TH.where(budget_th.Z < 200))"
   ]
  },
  {
   "cell_type": "code",
   "execution_count": null,
   "metadata": {},
   "outputs": [],
   "source": []
  },
  {
   "cell_type": "markdown",
   "metadata": {},
   "source": [
    "## Saving Data"
   ]
  },
  {
   "cell_type": "code",
   "execution_count": null,
   "metadata": {},
   "outputs": [],
   "source": [
    "gcfs_auth = gcsfs.GCSFileSystem(project='pangeo-181919', token='browser')\n",
    "token = gcfs_auth.tokens[('pangeo-181919', 'full_control')]\n",
    "gcfs_w_token = gcsfs.GCSFileSystem(project='pangeo-181919', token=token)"
   ]
  },
  {
   "cell_type": "raw",
   "metadata": {},
   "source": [
    "gcfs_w_token.clear_instance_cache()"
   ]
  },
  {
   "cell_type": "code",
   "execution_count": null,
   "metadata": {},
   "outputs": [],
   "source": [
    "gcsmap_slt = gcfs_w_token.get_mapper('pangeo-tmp/stb2145/SOSE/budget_slt.zarr') #creating a map of path file will be stored in\n",
    "gcsmap_slt"
   ]
  },
  {
   "cell_type": "code",
   "execution_count": null,
   "metadata": {},
   "outputs": [],
   "source": [
    "#saving salt budget\n",
    "budget_slt.to_zarr(gcsmap_slt, mode='w') #writing the dataset into a file with the specified path"
   ]
  },
  {
   "cell_type": "code",
   "execution_count": null,
   "metadata": {},
   "outputs": [],
   "source": [
    "gcsmap_th = gcfs_w_token.get_mapper('pangeo-tmp/stb2145/SOSE/budget_th.zarr')\n",
    "gcsmap_th"
   ]
  },
  {
   "cell_type": "code",
   "execution_count": null,
   "metadata": {},
   "outputs": [],
   "source": [
    "#saving heat budget\n",
    "budget_th.to_zarr(gcsmap_th, mode='w')"
   ]
  },
  {
   "cell_type": "markdown",
   "metadata": {},
   "source": [
    "## WG entire column"
   ]
  },
  {
   "cell_type": "code",
   "execution_count": null,
   "metadata": {},
   "outputs": [],
   "source": [
    "#index locations corresponding to above lat/lon coordinates\n",
    "lower_lat_lower = 0\n",
    "upper_lat_lower = 71\n",
    "left_lon_lower = 1794\n",
    "right_lon_lower = 2159\n",
    "\n",
    "lower_cell_range = dict(Zl=[27, 42])\n",
    "lower_cell_range_z = dict(Z=slice(27, 42))"
   ]
  },
  {
   "cell_type": "code",
   "execution_count": null,
   "metadata": {},
   "outputs": [],
   "source": [
    "#set the boundaries\n",
    "lat_range_lower = dict(YC=slice(lower_lat_lower, upper_lat_lower))\n",
    "lon_range_lower = dict(XC=slice(left_lon_lower, right_lon_lower))"
   ]
  },
  {
   "cell_type": "markdown",
   "metadata": {},
   "source": [
    "**If this is discretized, since we're on individual grid-pt level, I don't need to define a lower range z for interior?**"
   ]
  },
  {
   "cell_type": "code",
   "execution_count": null,
   "metadata": {},
   "outputs": [],
   "source": [
    "budget_slt_wg = budget_slt.isel(**lat_range_lower, **lon_range_lower)"
   ]
  },
  {
   "cell_type": "code",
   "execution_count": null,
   "metadata": {},
   "outputs": [],
   "source": [
    "budget_th_wg = budget_th.isel(**lat_range_lower, **lon_range_lower)\n",
    "budget_th_wg"
   ]
  },
  {
   "cell_type": "code",
   "execution_count": null,
   "metadata": {},
   "outputs": [],
   "source": [
    "budget_th_wg['total_tendency_TH'] = (budget_th_wg.conv_horiz_adv_flux_TH + budget_th_wg.conv_horiz_diff_flux_TH \n",
    "                                     + budget_th_wg.surface_flux_conv_TH + budget_th_wg.lin_fs_correction_TH)"
   ]
  },
  {
   "cell_type": "code",
   "execution_count": null,
   "metadata": {},
   "outputs": [],
   "source": [
    "budget_slt_wg['total_tendency_SLT'] = (budget_slt_wg.conv_horiz_adv_flux_SLT + \n",
    "                                       budget_slt_wg.conv_horiz_diff_flux_SLT + \n",
    "                                       budget_slt_wg.surface_flux_conv_SLT + \n",
    "                                       budget_slt_wg.lin_fs_correction_SLT)"
   ]
  },
  {
   "cell_type": "code",
   "execution_count": null,
   "metadata": {},
   "outputs": [],
   "source": [
    "budget_th_wg"
   ]
  },
  {
   "cell_type": "code",
   "execution_count": null,
   "metadata": {},
   "outputs": [],
   "source": [
    "import dask\n",
    "dask.compute?"
   ]
  },
  {
   "cell_type": "code",
   "execution_count": null,
   "metadata": {},
   "outputs": [],
   "source": [
    "tmp = dask.compute(budget_th_wg.conv_horiz_diff_flux_TH.sum(dim=['XC', 'YC', 'Z']), retries=5)"
   ]
  },
  {
   "cell_type": "code",
   "execution_count": null,
   "metadata": {},
   "outputs": [],
   "source": [
    "rhs_th = budget_th_wg.total_tendency_TH.sum(dim=['XC', 'YC', 'Z']).load()"
   ]
  },
  {
   "cell_type": "code",
   "execution_count": null,
   "metadata": {},
   "outputs": [],
   "source": [
    "lhs_th = budget_th_wg.total_tendency_TH_truth.sum(dim=['XC', 'YC', 'Z']).load()"
   ]
  },
  {
   "cell_type": "code",
   "execution_count": null,
   "metadata": {},
   "outputs": [],
   "source": [
    "plt.figure(figsize=(12,6))\n",
    "rhs_th.plot(label='rhs')\n",
    "lhs_th.plot(label='lhs')\n",
    "plt.legend();"
   ]
  },
  {
   "cell_type": "code",
   "execution_count": null,
   "metadata": {},
   "outputs": [],
   "source": [
    "budget_slt_wg"
   ]
  },
  {
   "cell_type": "code",
   "execution_count": null,
   "metadata": {},
   "outputs": [],
   "source": [
    "rhs_slt = budget_slt_wg.total_tendency_SLT.sum(dim=['XC', 'YC', 'Z']).load()\n",
    "lhs_slt = budget_slt_wg.total_tendency_SLT_truth.sum(dim=['XC', 'YC', 'Z']).load()"
   ]
  },
  {
   "cell_type": "code",
   "execution_count": null,
   "metadata": {},
   "outputs": [],
   "source": [
    "plt.figure(figsize=(12,6))\n",
    "rhs_slt.plot(label='rhs')\n",
    "lhs_slt.plot(label='lhs')\n",
    "plt.legend();"
   ]
  },
  {
   "cell_type": "markdown",
   "metadata": {},
   "source": [
    "## WG Interior"
   ]
  },
  {
   "cell_type": "code",
   "execution_count": null,
   "metadata": {},
   "outputs": [],
   "source": [
    "rhs_th_lower = budget_th_wg.total_tendency_TH.isel(**lower_cell_range_z).sum(dim=['XC', 'YC', 'Z']).load()\n",
    "lhs_th_lower = budget_th_wg.total_tendency_TH_truth.isel(**lower_cell_range_z).sum(dim=['XC', 'YC', 'Z']).load()"
   ]
  },
  {
   "cell_type": "code",
   "execution_count": null,
   "metadata": {},
   "outputs": [],
   "source": [
    "plt.figure(figsize=(12,6))\n",
    "rhs_th_lower.plot(label='rhs')\n",
    "lhs_th_lower.plot(label='lhs')\n",
    "plt.legend();"
   ]
  },
  {
   "cell_type": "code",
   "execution_count": null,
   "metadata": {},
   "outputs": [],
   "source": [
    "rhs_slt_lower = budget_slt_wg.isel(**lower_cell_range_z).total_tendency_SLT.sum(dim=['XC', 'YC', 'Z']).load()\n",
    "lhs_slt_lower = budget_slt_wg.isel(**lower_cell_range_z).total_tendency_SLT_truth.sum(dim=\n",
    "                                                                                      ['XC', 'YC', 'Z']).load()"
   ]
  },
  {
   "cell_type": "code",
   "execution_count": null,
   "metadata": {},
   "outputs": [],
   "source": [
    "plt.figure(figsize=(12,6))\n",
    "rhs_slt_lower.plot(label='rhs')\n",
    "lhs_slt_lower.plot(label='lhs')\n",
    "plt.legend();"
   ]
  }
 ],
 "metadata": {
  "kernelspec": {
   "display_name": "Python 3",
   "language": "python",
   "name": "python3"
  },
  "language_info": {
   "codemirror_mode": {
    "name": "ipython",
    "version": 3
   },
   "file_extension": ".py",
   "mimetype": "text/x-python",
   "name": "python",
   "nbconvert_exporter": "python",
   "pygments_lexer": "ipython3",
   "version": "3.8.6"
  }
 },
 "nbformat": 4,
 "nbformat_minor": 4
}
