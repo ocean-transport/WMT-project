{
 "cells": [
  {
   "cell_type": "markdown",
   "metadata": {},
   "source": [
    "# \\begin{equation*} \\frac{D \\sigma}{D t} = \\dot\\sigma_{\\theta} = \\frac{\\partial \\sigma_{\\theta}}{\\partial \\theta} \\dot\\theta + \\frac{\\partial \\sigma_{\\theta}}{\\partial S} \\dot S \\end{equation*}\n",
    "## **SOSE**"
   ]
  },
  {
   "cell_type": "raw",
   "metadata": {},
   "source": [
    "from dask_gateway import Gateway\n",
    "from dask.distributed import Client\n",
    "g = Gateway()"
   ]
  },
  {
   "cell_type": "raw",
   "metadata": {},
   "source": [
    "cluster_name = g.list_clusters()[0].name\n",
    "cluster_name"
   ]
  },
  {
   "cell_type": "raw",
   "metadata": {},
   "source": [
    "cluster = g.connect(cluster_name)"
   ]
  },
  {
   "cell_type": "raw",
   "metadata": {},
   "source": [
    "client = Client(cluster)"
   ]
  },
  {
   "cell_type": "code",
   "execution_count": 1,
   "metadata": {},
   "outputs": [],
   "source": [
    "from dask_gateway import GatewayCluster\n",
    "\n",
    "cluster = GatewayCluster()\n",
    "cluster.scale(30)\n",
    "#cluster.adapt(minimum=2, maximum=25)  # or cluster.scale(n) to a fixed size.\n",
    "client = cluster.get_client()"
   ]
  },
  {
   "cell_type": "code",
   "execution_count": 2,
   "metadata": {},
   "outputs": [
    {
     "data": {
      "text/html": [
       "<table style=\"border: 2px solid white;\">\n",
       "<tr>\n",
       "<td style=\"vertical-align: top; border: 0px solid white\">\n",
       "<h3 style=\"text-align: left;\">Client</h3>\n",
       "<ul style=\"text-align: left; list-style: none; margin: 0; padding: 0;\">\n",
       "  <li><b>Scheduler: </b>gateway://traefik-gcp-uscentral1b-prod-dask-gateway.prod:80/prod.2e6facec3e1a4491ae4001887caf03ba</li>\n",
       "  <li><b>Dashboard: </b><a href='/services/dask-gateway/clusters/prod.2e6facec3e1a4491ae4001887caf03ba/status' target='_blank'>/services/dask-gateway/clusters/prod.2e6facec3e1a4491ae4001887caf03ba/status</a></li>\n",
       "</ul>\n",
       "</td>\n",
       "<td style=\"vertical-align: top; border: 0px solid white\">\n",
       "<h3 style=\"text-align: left;\">Cluster</h3>\n",
       "<ul style=\"text-align: left; list-style:none; margin: 0; padding: 0;\">\n",
       "  <li><b>Workers: </b>30</li>\n",
       "  <li><b>Cores: </b>60</li>\n",
       "  <li><b>Memory: </b>257.70 GB</li>\n",
       "</ul>\n",
       "</td>\n",
       "</tr>\n",
       "</table>"
      ],
      "text/plain": [
       "<Client: 'tls://10.39.180.169:8786' processes=30 threads=60, memory=257.70 GB>"
      ]
     },
     "execution_count": 2,
     "metadata": {},
     "output_type": "execute_result"
    }
   ],
   "source": [
    "client"
   ]
  },
  {
   "cell_type": "code",
   "execution_count": 29,
   "metadata": {},
   "outputs": [],
   "source": [
    "client.close()\n",
    "cluster.close()"
   ]
  },
  {
   "cell_type": "code",
   "execution_count": 3,
   "metadata": {},
   "outputs": [],
   "source": [
    "import xarray as xr\n",
    "from matplotlib import pyplot as plt\n",
    "import gcsfs\n",
    "import dask\n",
    "import dask.array as dsa\n",
    "import numpy as np\n",
    "import fsspec\n",
    "%matplotlib inline\n",
    "import fastjmd95.jmd95numba as jmd95numba\n",
    "#from fastjmd95 import jmd95numba\n",
    "#from fastjmd95 import rho, drhods, drhodt\n",
    "import dask.array as dsa"
   ]
  },
  {
   "cell_type": "code",
   "execution_count": 4,
   "metadata": {},
   "outputs": [
    {
     "data": {
      "text/plain": [
       "<xarray.core.options.set_options at 0x7fa73409b3d0>"
      ]
     },
     "execution_count": 4,
     "metadata": {},
     "output_type": "execute_result"
    }
   ],
   "source": [
    "xr.set_options(display_style='text')"
   ]
  },
  {
   "cell_type": "raw",
   "metadata": {},
   "source": [
    "#coords = xr.open_zarr(gcsfs.GCSMap('pangeo-tmp/stb2145/SOSE/datasets/coords_wg.zarr')) not wg region\n",
    "coords = xr.open_zarr(gcsfs.GCSMap('pangeo-tmp/stb2145/SOSE/coords.zarr'))\n",
    "ds_tns = xr.open_zarr(gcsfs.GCSMap('pangeo-tmp/stb2145/SOSE/datasets/ds_tns_wg.zarr'))\n",
    "#ds_slt = xr.open_zarr(gcsfs.GCSMap('pangeo-tmp/stb2145/SOSE/datasets/ds_slt_wg.zarr')) old ds, surf/lin-fs terms 2D\n",
    "#ds_tmp = xr.open_zarr(gcsfs.GCSMap('pangeo-tmp/stb2145/SOSE/datasets/ds_tmp_wg.zarr')) old ds, surf/lin-fs terms 2D\n",
    "ds_slt = xr.open_zarr(gcsfs.GCSMap('pangeo-tmp/stb2145/SOSE/budget_slt.zarr'))\n",
    "ds_tmp = xr.open_zarr(gcsfs.GCSMap('pangeo-tmp/stb2145/SOSE/budget_th.zarr'))\n",
    "ds_vel = xr.open_zarr(gcsfs.GCSMap('pangeo-tmp/stb2145/SOSE/datasets/ds_vel.zarr'))\n",
    "ds = xr.merge([ds_tns, ds_slt, ds_tmp, ds_vel])"
   ]
  },
  {
   "cell_type": "raw",
   "metadata": {},
   "source": [
    "coords = coords.roll(XC=700, XG=700)\n",
    "ds = ds.roll(XC=700, XG=700)"
   ]
  },
  {
   "cell_type": "code",
   "execution_count": 5,
   "metadata": {},
   "outputs": [
    {
     "data": {
      "text/html": [
       "<pre>&lt;xarray.Dataset&gt;\n",
       "Dimensions:   (XC: 2160, XG: 2160, YC: 320, YG: 320, Z: 42, Zl: 42, Zp1: 43, Zu: 42, time: 438)\n",
       "Coordinates:\n",
       "    Depth     (YC, XC) float32 dask.array&lt;chunksize=(320, 2160), meta=np.ndarray&gt;\n",
       "    PHrefC    (Z) float32 dask.array&lt;chunksize=(42,), meta=np.ndarray&gt;\n",
       "    PHrefF    (Zp1) float32 dask.array&lt;chunksize=(43,), meta=np.ndarray&gt;\n",
       "  * XC        (XC) float32 0.083333336 0.25 0.4166667 ... 359.75 359.9167\n",
       "  * XG        (XG) float32 5.551115e-17 0.16666667 ... 359.6667 359.83334\n",
       "  * YC        (YC) float32 -77.87497 -77.7083 -77.54163 ... -24.874966 -24.7083\n",
       "  * YG        (YG) float32 -77.9583 -77.79163 -77.62497 ... -24.9583 -24.791632\n",
       "  * Z         (Z) float32 -5.0 -15.5 -27.0 -39.5 ... -5075.0 -5325.0 -5575.0\n",
       "  * Zl        (Zl) float32 0.0 -10.0 -21.0 -33.0 ... -4950.0 -5200.0 -5450.0\n",
       "  * Zp1       (Zp1) float32 0.0 -10.0 -21.0 -33.0 ... -5200.0 -5450.0 -5700.0\n",
       "  * Zu        (Zu) float32 -10.0 -21.0 -33.0 -46.0 ... -5200.0 -5450.0 -5700.0\n",
       "    drC       (Zp1) float32 dask.array&lt;chunksize=(43,), meta=np.ndarray&gt;\n",
       "    drF       (Z) float32 dask.array&lt;chunksize=(42,), meta=np.ndarray&gt;\n",
       "    dxC       (YC, XG) float32 dask.array&lt;chunksize=(320, 2160), meta=np.ndarray&gt;\n",
       "    dxG       (YG, XC) float32 dask.array&lt;chunksize=(320, 2160), meta=np.ndarray&gt;\n",
       "    dyC       (YG, XC) float32 dask.array&lt;chunksize=(320, 2160), meta=np.ndarray&gt;\n",
       "    dyG       (YC, XG) float32 dask.array&lt;chunksize=(320, 2160), meta=np.ndarray&gt;\n",
       "    hFacC     (Z, YC, XC) float32 dask.array&lt;chunksize=(42, 320, 2160), meta=np.ndarray&gt;\n",
       "    hFacS     (Z, YG, XC) float32 dask.array&lt;chunksize=(42, 320, 2160), meta=np.ndarray&gt;\n",
       "    hFacW     (Z, YC, XG) float32 dask.array&lt;chunksize=(42, 320, 2160), meta=np.ndarray&gt;\n",
       "    iter      (time) int64 dask.array&lt;chunksize=(438,), meta=np.ndarray&gt;\n",
       "    rA        (YC, XC) float32 dask.array&lt;chunksize=(320, 2160), meta=np.ndarray&gt;\n",
       "    rAs       (YG, XC) float32 dask.array&lt;chunksize=(320, 2160), meta=np.ndarray&gt;\n",
       "    rAw       (YC, XG) float32 dask.array&lt;chunksize=(320, 2160), meta=np.ndarray&gt;\n",
       "    rAz       (YG, XG) float32 dask.array&lt;chunksize=(320, 2160), meta=np.ndarray&gt;\n",
       "  * time      (time) datetime64[ns] 2005-01-06 2005-01-11 ... 2010-12-31\n",
       "Data variables:\n",
       "    ADVr_SLT  (time, Zl, YC, XC) float32 dask.array&lt;chunksize=(1, 42, 320, 2160), meta=np.ndarray&gt;\n",
       "    ADVr_TH   (time, Zl, YC, XC) float32 dask.array&lt;chunksize=(1, 42, 320, 2160), meta=np.ndarray&gt;\n",
       "    ADVx_SLT  (time, Z, YC, XG) float32 dask.array&lt;chunksize=(1, 42, 320, 2160), meta=np.ndarray&gt;\n",
       "    ADVx_TH   (time, Z, YC, XG) float32 dask.array&lt;chunksize=(1, 42, 320, 2160), meta=np.ndarray&gt;\n",
       "    ADVy_SLT  (time, Z, YG, XC) float32 dask.array&lt;chunksize=(1, 42, 320, 2160), meta=np.ndarray&gt;\n",
       "    ADVy_TH   (time, Z, YG, XC) float32 dask.array&lt;chunksize=(1, 42, 320, 2160), meta=np.ndarray&gt;\n",
       "    DFrE_SLT  (time, Zl, YC, XC) float32 dask.array&lt;chunksize=(1, 42, 320, 2160), meta=np.ndarray&gt;\n",
       "    DFrE_TH   (time, Zl, YC, XC) float32 dask.array&lt;chunksize=(1, 42, 320, 2160), meta=np.ndarray&gt;\n",
       "    DFrI_SLT  (time, Zl, YC, XC) float32 dask.array&lt;chunksize=(1, 42, 320, 2160), meta=np.ndarray&gt;\n",
       "    DFrI_TH   (time, Zl, YC, XC) float32 dask.array&lt;chunksize=(1, 42, 320, 2160), meta=np.ndarray&gt;\n",
       "    DFxE_SLT  (time, Z, YC, XG) float32 dask.array&lt;chunksize=(1, 42, 320, 2160), meta=np.ndarray&gt;\n",
       "    DFxE_TH   (time, Z, YC, XG) float32 dask.array&lt;chunksize=(1, 42, 320, 2160), meta=np.ndarray&gt;\n",
       "    DFyE_SLT  (time, Z, YG, XC) float32 dask.array&lt;chunksize=(1, 42, 320, 2160), meta=np.ndarray&gt;\n",
       "    DFyE_TH   (time, Z, YG, XC) float32 dask.array&lt;chunksize=(1, 42, 320, 2160), meta=np.ndarray&gt;\n",
       "    DRHODR    (time, Zl, YC, XC) float32 dask.array&lt;chunksize=(1, 42, 320, 2160), meta=np.ndarray&gt;\n",
       "    ETAN      (time, YC, XC) float32 dask.array&lt;chunksize=(1, 320, 2160), meta=np.ndarray&gt;\n",
       "    EXFswnet  (time, YC, XC) float32 dask.array&lt;chunksize=(1, 320, 2160), meta=np.ndarray&gt;\n",
       "    KPPg_SLT  (time, Zl, YC, XC) float32 dask.array&lt;chunksize=(1, 42, 320, 2160), meta=np.ndarray&gt;\n",
       "    KPPg_TH   (time, Zl, YC, XC) float32 dask.array&lt;chunksize=(1, 42, 320, 2160), meta=np.ndarray&gt;\n",
       "    PHIHYD    (time, Z, YC, XC) float32 dask.array&lt;chunksize=(1, 42, 320, 2160), meta=np.ndarray&gt;\n",
       "    SALT      (time, Z, YC, XC) float32 dask.array&lt;chunksize=(1, 42, 320, 2160), meta=np.ndarray&gt;\n",
       "    SFLUX     (time, YC, XC) float32 dask.array&lt;chunksize=(1, 320, 2160), meta=np.ndarray&gt;\n",
       "    SIarea    (time, YC, XC) float32 dask.array&lt;chunksize=(1, 320, 2160), meta=np.ndarray&gt;\n",
       "    SIatmFW   (time, YC, XC) float32 dask.array&lt;chunksize=(1, 320, 2160), meta=np.ndarray&gt;\n",
       "    SIatmQnt  (time, YC, XC) float32 dask.array&lt;chunksize=(1, 320, 2160), meta=np.ndarray&gt;\n",
       "    SIdHbATC  (time, YC, XC) float32 dask.array&lt;chunksize=(1, 320, 2160), meta=np.ndarray&gt;\n",
       "    SIdHbATO  (time, YC, XC) float32 dask.array&lt;chunksize=(1, 320, 2160), meta=np.ndarray&gt;\n",
       "    SIdHbOCN  (time, YC, XC) float32 dask.array&lt;chunksize=(1, 320, 2160), meta=np.ndarray&gt;\n",
       "    SIdSbATC  (time, YC, XC) float32 dask.array&lt;chunksize=(1, 320, 2160), meta=np.ndarray&gt;\n",
       "    SIdSbOCN  (time, YC, XC) float32 dask.array&lt;chunksize=(1, 320, 2160), meta=np.ndarray&gt;\n",
       "    SIempmr   (time, YC, XC) float32 dask.array&lt;chunksize=(1, 320, 2160), meta=np.ndarray&gt;\n",
       "    SIfu      (time, YC, XG) float32 dask.array&lt;chunksize=(1, 320, 2160), meta=np.ndarray&gt;\n",
       "    SIfv      (time, YG, XC) float32 dask.array&lt;chunksize=(1, 320, 2160), meta=np.ndarray&gt;\n",
       "    SIheff    (time, YC, XC) float32 dask.array&lt;chunksize=(1, 320, 2160), meta=np.ndarray&gt;\n",
       "    SIhsnow   (time, YC, XC) float32 dask.array&lt;chunksize=(1, 320, 2160), meta=np.ndarray&gt;\n",
       "    SIsnPrcp  (time, YC, XC) float32 dask.array&lt;chunksize=(1, 320, 2160), meta=np.ndarray&gt;\n",
       "    SItflux   (time, YC, XC) float32 dask.array&lt;chunksize=(1, 320, 2160), meta=np.ndarray&gt;\n",
       "    SIuheff   (time, YC, XG) float32 dask.array&lt;chunksize=(1, 320, 2160), meta=np.ndarray&gt;\n",
       "    SIuice    (time, YC, XG) float32 dask.array&lt;chunksize=(1, 320, 2160), meta=np.ndarray&gt;\n",
       "    SIvheff   (time, YG, XC) float32 dask.array&lt;chunksize=(1, 320, 2160), meta=np.ndarray&gt;\n",
       "    SIvice    (time, YG, XC) float32 dask.array&lt;chunksize=(1, 320, 2160), meta=np.ndarray&gt;\n",
       "    TFLUX     (time, YC, XC) float32 dask.array&lt;chunksize=(1, 320, 2160), meta=np.ndarray&gt;\n",
       "    THETA     (time, Z, YC, XC) float32 dask.array&lt;chunksize=(1, 42, 320, 2160), meta=np.ndarray&gt;\n",
       "    TOTSTEND  (time, Z, YC, XC) float32 dask.array&lt;chunksize=(1, 42, 320, 2160), meta=np.ndarray&gt;\n",
       "    TOTTTEND  (time, Z, YC, XC) float32 dask.array&lt;chunksize=(1, 42, 320, 2160), meta=np.ndarray&gt;\n",
       "    UVEL      (time, Z, YC, XG) float32 dask.array&lt;chunksize=(1, 42, 320, 2160), meta=np.ndarray&gt;\n",
       "    VVEL      (time, Z, YG, XC) float32 dask.array&lt;chunksize=(1, 42, 320, 2160), meta=np.ndarray&gt;\n",
       "    WSLTMASS  (time, Zl, YC, XC) float32 dask.array&lt;chunksize=(1, 42, 320, 2160), meta=np.ndarray&gt;\n",
       "    WTHMASS   (time, Zl, YC, XC) float32 dask.array&lt;chunksize=(1, 42, 320, 2160), meta=np.ndarray&gt;\n",
       "    WVEL      (time, Zl, YC, XC) float32 dask.array&lt;chunksize=(1, 42, 320, 2160), meta=np.ndarray&gt;\n",
       "    oceFreez  (time, YC, XC) float32 dask.array&lt;chunksize=(1, 320, 2160), meta=np.ndarray&gt;\n",
       "    oceQsw    (time, YC, XC) float32 dask.array&lt;chunksize=(1, 320, 2160), meta=np.ndarray&gt;\n",
       "    oceTAUX   (time, YC, XG) float32 dask.array&lt;chunksize=(1, 320, 2160), meta=np.ndarray&gt;\n",
       "    oceTAUY   (time, YG, XC) float32 dask.array&lt;chunksize=(1, 320, 2160), meta=np.ndarray&gt;\n",
       "    surForcS  (time, YC, XC) float32 dask.array&lt;chunksize=(1, 320, 2160), meta=np.ndarray&gt;\n",
       "    surForcT  (time, YC, XC) float32 dask.array&lt;chunksize=(1, 320, 2160), meta=np.ndarray&gt;</pre>"
      ],
      "text/plain": [
       "<xarray.Dataset>\n",
       "Dimensions:   (XC: 2160, XG: 2160, YC: 320, YG: 320, Z: 42, Zl: 42, Zp1: 43, Zu: 42, time: 438)\n",
       "Coordinates:\n",
       "    Depth     (YC, XC) float32 dask.array<chunksize=(320, 2160), meta=np.ndarray>\n",
       "    PHrefC    (Z) float32 dask.array<chunksize=(42,), meta=np.ndarray>\n",
       "    PHrefF    (Zp1) float32 dask.array<chunksize=(43,), meta=np.ndarray>\n",
       "  * XC        (XC) float32 0.083333336 0.25 0.4166667 ... 359.75 359.9167\n",
       "  * XG        (XG) float32 5.551115e-17 0.16666667 ... 359.6667 359.83334\n",
       "  * YC        (YC) float32 -77.87497 -77.7083 -77.54163 ... -24.874966 -24.7083\n",
       "  * YG        (YG) float32 -77.9583 -77.79163 -77.62497 ... -24.9583 -24.791632\n",
       "  * Z         (Z) float32 -5.0 -15.5 -27.0 -39.5 ... -5075.0 -5325.0 -5575.0\n",
       "  * Zl        (Zl) float32 0.0 -10.0 -21.0 -33.0 ... -4950.0 -5200.0 -5450.0\n",
       "  * Zp1       (Zp1) float32 0.0 -10.0 -21.0 -33.0 ... -5200.0 -5450.0 -5700.0\n",
       "  * Zu        (Zu) float32 -10.0 -21.0 -33.0 -46.0 ... -5200.0 -5450.0 -5700.0\n",
       "    drC       (Zp1) float32 dask.array<chunksize=(43,), meta=np.ndarray>\n",
       "    drF       (Z) float32 dask.array<chunksize=(42,), meta=np.ndarray>\n",
       "    dxC       (YC, XG) float32 dask.array<chunksize=(320, 2160), meta=np.ndarray>\n",
       "    dxG       (YG, XC) float32 dask.array<chunksize=(320, 2160), meta=np.ndarray>\n",
       "    dyC       (YG, XC) float32 dask.array<chunksize=(320, 2160), meta=np.ndarray>\n",
       "    dyG       (YC, XG) float32 dask.array<chunksize=(320, 2160), meta=np.ndarray>\n",
       "    hFacC     (Z, YC, XC) float32 dask.array<chunksize=(42, 320, 2160), meta=np.ndarray>\n",
       "    hFacS     (Z, YG, XC) float32 dask.array<chunksize=(42, 320, 2160), meta=np.ndarray>\n",
       "    hFacW     (Z, YC, XG) float32 dask.array<chunksize=(42, 320, 2160), meta=np.ndarray>\n",
       "    iter      (time) int64 dask.array<chunksize=(438,), meta=np.ndarray>\n",
       "    rA        (YC, XC) float32 dask.array<chunksize=(320, 2160), meta=np.ndarray>\n",
       "    rAs       (YG, XC) float32 dask.array<chunksize=(320, 2160), meta=np.ndarray>\n",
       "    rAw       (YC, XG) float32 dask.array<chunksize=(320, 2160), meta=np.ndarray>\n",
       "    rAz       (YG, XG) float32 dask.array<chunksize=(320, 2160), meta=np.ndarray>\n",
       "  * time      (time) datetime64[ns] 2005-01-06 2005-01-11 ... 2010-12-31\n",
       "Data variables:\n",
       "    ADVr_SLT  (time, Zl, YC, XC) float32 dask.array<chunksize=(1, 42, 320, 2160), meta=np.ndarray>\n",
       "    ADVr_TH   (time, Zl, YC, XC) float32 dask.array<chunksize=(1, 42, 320, 2160), meta=np.ndarray>\n",
       "    ADVx_SLT  (time, Z, YC, XG) float32 dask.array<chunksize=(1, 42, 320, 2160), meta=np.ndarray>\n",
       "    ADVx_TH   (time, Z, YC, XG) float32 dask.array<chunksize=(1, 42, 320, 2160), meta=np.ndarray>\n",
       "    ADVy_SLT  (time, Z, YG, XC) float32 dask.array<chunksize=(1, 42, 320, 2160), meta=np.ndarray>\n",
       "    ADVy_TH   (time, Z, YG, XC) float32 dask.array<chunksize=(1, 42, 320, 2160), meta=np.ndarray>\n",
       "    DFrE_SLT  (time, Zl, YC, XC) float32 dask.array<chunksize=(1, 42, 320, 2160), meta=np.ndarray>\n",
       "    DFrE_TH   (time, Zl, YC, XC) float32 dask.array<chunksize=(1, 42, 320, 2160), meta=np.ndarray>\n",
       "    DFrI_SLT  (time, Zl, YC, XC) float32 dask.array<chunksize=(1, 42, 320, 2160), meta=np.ndarray>\n",
       "    DFrI_TH   (time, Zl, YC, XC) float32 dask.array<chunksize=(1, 42, 320, 2160), meta=np.ndarray>\n",
       "    DFxE_SLT  (time, Z, YC, XG) float32 dask.array<chunksize=(1, 42, 320, 2160), meta=np.ndarray>\n",
       "    DFxE_TH   (time, Z, YC, XG) float32 dask.array<chunksize=(1, 42, 320, 2160), meta=np.ndarray>\n",
       "    DFyE_SLT  (time, Z, YG, XC) float32 dask.array<chunksize=(1, 42, 320, 2160), meta=np.ndarray>\n",
       "    DFyE_TH   (time, Z, YG, XC) float32 dask.array<chunksize=(1, 42, 320, 2160), meta=np.ndarray>\n",
       "    DRHODR    (time, Zl, YC, XC) float32 dask.array<chunksize=(1, 42, 320, 2160), meta=np.ndarray>\n",
       "    ETAN      (time, YC, XC) float32 dask.array<chunksize=(1, 320, 2160), meta=np.ndarray>\n",
       "    EXFswnet  (time, YC, XC) float32 dask.array<chunksize=(1, 320, 2160), meta=np.ndarray>\n",
       "    KPPg_SLT  (time, Zl, YC, XC) float32 dask.array<chunksize=(1, 42, 320, 2160), meta=np.ndarray>\n",
       "    KPPg_TH   (time, Zl, YC, XC) float32 dask.array<chunksize=(1, 42, 320, 2160), meta=np.ndarray>\n",
       "    PHIHYD    (time, Z, YC, XC) float32 dask.array<chunksize=(1, 42, 320, 2160), meta=np.ndarray>\n",
       "    SALT      (time, Z, YC, XC) float32 dask.array<chunksize=(1, 42, 320, 2160), meta=np.ndarray>\n",
       "    SFLUX     (time, YC, XC) float32 dask.array<chunksize=(1, 320, 2160), meta=np.ndarray>\n",
       "    SIarea    (time, YC, XC) float32 dask.array<chunksize=(1, 320, 2160), meta=np.ndarray>\n",
       "    SIatmFW   (time, YC, XC) float32 dask.array<chunksize=(1, 320, 2160), meta=np.ndarray>\n",
       "    SIatmQnt  (time, YC, XC) float32 dask.array<chunksize=(1, 320, 2160), meta=np.ndarray>\n",
       "    SIdHbATC  (time, YC, XC) float32 dask.array<chunksize=(1, 320, 2160), meta=np.ndarray>\n",
       "    SIdHbATO  (time, YC, XC) float32 dask.array<chunksize=(1, 320, 2160), meta=np.ndarray>\n",
       "    SIdHbOCN  (time, YC, XC) float32 dask.array<chunksize=(1, 320, 2160), meta=np.ndarray>\n",
       "    SIdSbATC  (time, YC, XC) float32 dask.array<chunksize=(1, 320, 2160), meta=np.ndarray>\n",
       "    SIdSbOCN  (time, YC, XC) float32 dask.array<chunksize=(1, 320, 2160), meta=np.ndarray>\n",
       "    SIempmr   (time, YC, XC) float32 dask.array<chunksize=(1, 320, 2160), meta=np.ndarray>\n",
       "    SIfu      (time, YC, XG) float32 dask.array<chunksize=(1, 320, 2160), meta=np.ndarray>\n",
       "    SIfv      (time, YG, XC) float32 dask.array<chunksize=(1, 320, 2160), meta=np.ndarray>\n",
       "    SIheff    (time, YC, XC) float32 dask.array<chunksize=(1, 320, 2160), meta=np.ndarray>\n",
       "    SIhsnow   (time, YC, XC) float32 dask.array<chunksize=(1, 320, 2160), meta=np.ndarray>\n",
       "    SIsnPrcp  (time, YC, XC) float32 dask.array<chunksize=(1, 320, 2160), meta=np.ndarray>\n",
       "    SItflux   (time, YC, XC) float32 dask.array<chunksize=(1, 320, 2160), meta=np.ndarray>\n",
       "    SIuheff   (time, YC, XG) float32 dask.array<chunksize=(1, 320, 2160), meta=np.ndarray>\n",
       "    SIuice    (time, YC, XG) float32 dask.array<chunksize=(1, 320, 2160), meta=np.ndarray>\n",
       "    SIvheff   (time, YG, XC) float32 dask.array<chunksize=(1, 320, 2160), meta=np.ndarray>\n",
       "    SIvice    (time, YG, XC) float32 dask.array<chunksize=(1, 320, 2160), meta=np.ndarray>\n",
       "    TFLUX     (time, YC, XC) float32 dask.array<chunksize=(1, 320, 2160), meta=np.ndarray>\n",
       "    THETA     (time, Z, YC, XC) float32 dask.array<chunksize=(1, 42, 320, 2160), meta=np.ndarray>\n",
       "    TOTSTEND  (time, Z, YC, XC) float32 dask.array<chunksize=(1, 42, 320, 2160), meta=np.ndarray>\n",
       "    TOTTTEND  (time, Z, YC, XC) float32 dask.array<chunksize=(1, 42, 320, 2160), meta=np.ndarray>\n",
       "    UVEL      (time, Z, YC, XG) float32 dask.array<chunksize=(1, 42, 320, 2160), meta=np.ndarray>\n",
       "    VVEL      (time, Z, YG, XC) float32 dask.array<chunksize=(1, 42, 320, 2160), meta=np.ndarray>\n",
       "    WSLTMASS  (time, Zl, YC, XC) float32 dask.array<chunksize=(1, 42, 320, 2160), meta=np.ndarray>\n",
       "    WTHMASS   (time, Zl, YC, XC) float32 dask.array<chunksize=(1, 42, 320, 2160), meta=np.ndarray>\n",
       "    WVEL      (time, Zl, YC, XC) float32 dask.array<chunksize=(1, 42, 320, 2160), meta=np.ndarray>\n",
       "    oceFreez  (time, YC, XC) float32 dask.array<chunksize=(1, 320, 2160), meta=np.ndarray>\n",
       "    oceQsw    (time, YC, XC) float32 dask.array<chunksize=(1, 320, 2160), meta=np.ndarray>\n",
       "    oceTAUX   (time, YC, XG) float32 dask.array<chunksize=(1, 320, 2160), meta=np.ndarray>\n",
       "    oceTAUY   (time, YG, XC) float32 dask.array<chunksize=(1, 320, 2160), meta=np.ndarray>\n",
       "    surForcS  (time, YC, XC) float32 dask.array<chunksize=(1, 320, 2160), meta=np.ndarray>\n",
       "    surForcT  (time, YC, XC) float32 dask.array<chunksize=(1, 320, 2160), meta=np.ndarray>"
      ]
     },
     "execution_count": 5,
     "metadata": {},
     "output_type": "execute_result"
    }
   ],
   "source": [
    "fs = gcsfs.GCSFileSystem(requester_pays=True)\n",
    "\n",
    "mapping = fs.get_mapper('gcs://pangeo-ecco-sose')\n",
    "\n",
    "ds = xr.open_zarr(mapping, consolidated=True)\n",
    "ds"
   ]
  },
  {
   "cell_type": "code",
   "execution_count": 6,
   "metadata": {},
   "outputs": [],
   "source": [
    "pref = 2000"
   ]
  },
  {
   "cell_type": "markdown",
   "metadata": {},
   "source": [
    "# Matrix of possible computing options\n",
    "### 12 in total, but for last 4 couldn't figure out how to run with `xr.map_blocks()`"
   ]
  },
  {
   "cell_type": "code",
   "execution_count": 37,
   "metadata": {},
   "outputs": [
    {
     "data": {
      "text/html": [
       "<table>\n",
       "<tr>\n",
       "<td>\n",
       "<table>\n",
       "  <thead>\n",
       "    <tr><td> </td><th> Array </th><th> Chunk </th></tr>\n",
       "  </thead>\n",
       "  <tbody>\n",
       "    <tr><th> Bytes </th><td> 50.86 GB </td> <td> 116.12 MB </td></tr>\n",
       "    <tr><th> Shape </th><td> (438, 42, 320, 2160) </td> <td> (1, 42, 320, 2160) </td></tr>\n",
       "    <tr><th> Count </th><td> 439 Tasks </td><td> 438 Chunks </td></tr>\n",
       "    <tr><th> Type </th><td> float32 </td><td> numpy.ndarray </td></tr>\n",
       "  </tbody>\n",
       "</table>\n",
       "</td>\n",
       "<td>\n",
       "<svg width=\"410\" height=\"107\" style=\"stroke:rgb(0,0,0);stroke-width:1\" >\n",
       "\n",
       "  <!-- Horizontal lines -->\n",
       "  <line x1=\"0\" y1=\"0\" x2=\"42\" y2=\"0\" style=\"stroke-width:2\" />\n",
       "  <line x1=\"0\" y1=\"25\" x2=\"42\" y2=\"25\" style=\"stroke-width:2\" />\n",
       "\n",
       "  <!-- Vertical lines -->\n",
       "  <line x1=\"0\" y1=\"0\" x2=\"0\" y2=\"25\" style=\"stroke-width:2\" />\n",
       "  <line x1=\"1\" y1=\"0\" x2=\"1\" y2=\"25\" />\n",
       "  <line x1=\"2\" y1=\"0\" x2=\"2\" y2=\"25\" />\n",
       "  <line x1=\"3\" y1=\"0\" x2=\"3\" y2=\"25\" />\n",
       "  <line x1=\"5\" y1=\"0\" x2=\"5\" y2=\"25\" />\n",
       "  <line x1=\"6\" y1=\"0\" x2=\"6\" y2=\"25\" />\n",
       "  <line x1=\"7\" y1=\"0\" x2=\"7\" y2=\"25\" />\n",
       "  <line x1=\"9\" y1=\"0\" x2=\"9\" y2=\"25\" />\n",
       "  <line x1=\"10\" y1=\"0\" x2=\"10\" y2=\"25\" />\n",
       "  <line x1=\"11\" y1=\"0\" x2=\"11\" y2=\"25\" />\n",
       "  <line x1=\"13\" y1=\"0\" x2=\"13\" y2=\"25\" />\n",
       "  <line x1=\"14\" y1=\"0\" x2=\"14\" y2=\"25\" />\n",
       "  <line x1=\"15\" y1=\"0\" x2=\"15\" y2=\"25\" />\n",
       "  <line x1=\"17\" y1=\"0\" x2=\"17\" y2=\"25\" />\n",
       "  <line x1=\"18\" y1=\"0\" x2=\"18\" y2=\"25\" />\n",
       "  <line x1=\"19\" y1=\"0\" x2=\"19\" y2=\"25\" />\n",
       "  <line x1=\"21\" y1=\"0\" x2=\"21\" y2=\"25\" />\n",
       "  <line x1=\"22\" y1=\"0\" x2=\"22\" y2=\"25\" />\n",
       "  <line x1=\"23\" y1=\"0\" x2=\"23\" y2=\"25\" />\n",
       "  <line x1=\"24\" y1=\"0\" x2=\"24\" y2=\"25\" />\n",
       "  <line x1=\"26\" y1=\"0\" x2=\"26\" y2=\"25\" />\n",
       "  <line x1=\"27\" y1=\"0\" x2=\"27\" y2=\"25\" />\n",
       "  <line x1=\"28\" y1=\"0\" x2=\"28\" y2=\"25\" />\n",
       "  <line x1=\"30\" y1=\"0\" x2=\"30\" y2=\"25\" />\n",
       "  <line x1=\"31\" y1=\"0\" x2=\"31\" y2=\"25\" />\n",
       "  <line x1=\"32\" y1=\"0\" x2=\"32\" y2=\"25\" />\n",
       "  <line x1=\"34\" y1=\"0\" x2=\"34\" y2=\"25\" />\n",
       "  <line x1=\"35\" y1=\"0\" x2=\"35\" y2=\"25\" />\n",
       "  <line x1=\"36\" y1=\"0\" x2=\"36\" y2=\"25\" />\n",
       "  <line x1=\"38\" y1=\"0\" x2=\"38\" y2=\"25\" />\n",
       "  <line x1=\"39\" y1=\"0\" x2=\"39\" y2=\"25\" />\n",
       "  <line x1=\"40\" y1=\"0\" x2=\"40\" y2=\"25\" />\n",
       "  <line x1=\"42\" y1=\"0\" x2=\"42\" y2=\"25\" style=\"stroke-width:2\" />\n",
       "\n",
       "  <!-- Colored Rectangle -->\n",
       "  <polygon points=\"0.0,0.0 42.06797690352046,0.0 42.06797690352046,25.412616514582485 0.0,25.412616514582485\" style=\"fill:#8B4903A0;stroke-width:0\"/>\n",
       "\n",
       "  <!-- Text -->\n",
       "  <text x=\"21.033988\" y=\"45.412617\" font-size=\"1.0rem\" font-weight=\"100\" text-anchor=\"middle\" >438</text>\n",
       "  <text x=\"62.067977\" y=\"12.706308\" font-size=\"1.0rem\" font-weight=\"100\" text-anchor=\"middle\" transform=\"rotate(0,62.067977,12.706308)\">1</text>\n",
       "\n",
       "\n",
       "  <!-- Horizontal lines -->\n",
       "  <line x1=\"112\" y1=\"0\" x2=\"128\" y2=\"16\" style=\"stroke-width:2\" />\n",
       "  <line x1=\"112\" y1=\"40\" x2=\"128\" y2=\"57\" style=\"stroke-width:2\" />\n",
       "\n",
       "  <!-- Vertical lines -->\n",
       "  <line x1=\"112\" y1=\"0\" x2=\"112\" y2=\"40\" style=\"stroke-width:2\" />\n",
       "  <line x1=\"128\" y1=\"16\" x2=\"128\" y2=\"57\" style=\"stroke-width:2\" />\n",
       "\n",
       "  <!-- Colored Rectangle -->\n",
       "  <polygon points=\"112.0,0.0 128.9838361244846,16.9838361244846 128.9838361244846,57.630074521663616 112.0,40.64623839717901\" style=\"fill:#ECB172A0;stroke-width:0\"/>\n",
       "\n",
       "  <!-- Horizontal lines -->\n",
       "  <line x1=\"112\" y1=\"0\" x2=\"232\" y2=\"0\" style=\"stroke-width:2\" />\n",
       "  <line x1=\"128\" y1=\"16\" x2=\"248\" y2=\"16\" style=\"stroke-width:2\" />\n",
       "\n",
       "  <!-- Vertical lines -->\n",
       "  <line x1=\"112\" y1=\"0\" x2=\"128\" y2=\"16\" style=\"stroke-width:2\" />\n",
       "  <line x1=\"232\" y1=\"0\" x2=\"248\" y2=\"16\" style=\"stroke-width:2\" />\n",
       "\n",
       "  <!-- Colored Rectangle -->\n",
       "  <polygon points=\"112.0,0.0 232.0,0.0 248.9838361244846,16.9838361244846 128.9838361244846,16.9838361244846\" style=\"fill:#ECB172A0;stroke-width:0\"/>\n",
       "\n",
       "  <!-- Horizontal lines -->\n",
       "  <line x1=\"128\" y1=\"16\" x2=\"248\" y2=\"16\" style=\"stroke-width:2\" />\n",
       "  <line x1=\"128\" y1=\"57\" x2=\"248\" y2=\"57\" style=\"stroke-width:2\" />\n",
       "\n",
       "  <!-- Vertical lines -->\n",
       "  <line x1=\"128\" y1=\"16\" x2=\"128\" y2=\"57\" style=\"stroke-width:2\" />\n",
       "  <line x1=\"248\" y1=\"16\" x2=\"248\" y2=\"57\" style=\"stroke-width:2\" />\n",
       "\n",
       "  <!-- Colored Rectangle -->\n",
       "  <polygon points=\"128.98383612448458,16.9838361244846 248.98383612448458,16.9838361244846 248.98383612448458,57.630074521663616 128.98383612448458,57.630074521663616\" style=\"fill:#ECB172A0;stroke-width:0\"/>\n",
       "\n",
       "  <!-- Text -->\n",
       "  <text x=\"188.983836\" y=\"77.630075\" font-size=\"1.0rem\" font-weight=\"100\" text-anchor=\"middle\" >2160</text>\n",
       "  <text x=\"268.983836\" y=\"37.306955\" font-size=\"1.0rem\" font-weight=\"100\" text-anchor=\"middle\" transform=\"rotate(-90,268.983836,37.306955)\">320</text>\n",
       "  <text x=\"110.491918\" y=\"69.138156\" font-size=\"1.0rem\" font-weight=\"100\" text-anchor=\"middle\" transform=\"rotate(45,110.491918,69.138156)\">42</text>\n",
       "</svg>\n",
       "</td>\n",
       "</tr>\n",
       "</table>"
      ],
      "text/plain": [
       "dask.array<zarr, shape=(438, 42, 320, 2160), dtype=float32, chunksize=(1, 42, 320, 2160), chunktype=numpy.ndarray>"
      ]
     },
     "execution_count": 37,
     "metadata": {},
     "output_type": "execute_result"
    }
   ],
   "source": [
    "ds.THETA.data"
   ]
  },
  {
   "cell_type": "code",
   "execution_count": 7,
   "metadata": {},
   "outputs": [
    {
     "data": {
      "text/html": [
       "<table>\n",
       "<tr>\n",
       "<td>\n",
       "<table>\n",
       "  <thead>\n",
       "    <tr><td> </td><th> Array </th><th> Chunk </th></tr>\n",
       "  </thead>\n",
       "  <tbody>\n",
       "    <tr><th> Bytes </th><td> 50.86 GB </td> <td> 116.12 MB </td></tr>\n",
       "    <tr><th> Shape </th><td> (438, 42, 320, 2160) </td> <td> (1, 42, 320, 2160) </td></tr>\n",
       "    <tr><th> Count </th><td> 876 Tasks </td><td> 438 Chunks </td></tr>\n",
       "    <tr><th> Type </th><td> float32 </td><td> numpy.ndarray </td></tr>\n",
       "  </tbody>\n",
       "</table>\n",
       "</td>\n",
       "<td>\n",
       "<svg width=\"410\" height=\"107\" style=\"stroke:rgb(0,0,0);stroke-width:1\" >\n",
       "\n",
       "  <!-- Horizontal lines -->\n",
       "  <line x1=\"0\" y1=\"0\" x2=\"42\" y2=\"0\" style=\"stroke-width:2\" />\n",
       "  <line x1=\"0\" y1=\"25\" x2=\"42\" y2=\"25\" style=\"stroke-width:2\" />\n",
       "\n",
       "  <!-- Vertical lines -->\n",
       "  <line x1=\"0\" y1=\"0\" x2=\"0\" y2=\"25\" style=\"stroke-width:2\" />\n",
       "  <line x1=\"1\" y1=\"0\" x2=\"1\" y2=\"25\" />\n",
       "  <line x1=\"2\" y1=\"0\" x2=\"2\" y2=\"25\" />\n",
       "  <line x1=\"3\" y1=\"0\" x2=\"3\" y2=\"25\" />\n",
       "  <line x1=\"5\" y1=\"0\" x2=\"5\" y2=\"25\" />\n",
       "  <line x1=\"6\" y1=\"0\" x2=\"6\" y2=\"25\" />\n",
       "  <line x1=\"7\" y1=\"0\" x2=\"7\" y2=\"25\" />\n",
       "  <line x1=\"9\" y1=\"0\" x2=\"9\" y2=\"25\" />\n",
       "  <line x1=\"10\" y1=\"0\" x2=\"10\" y2=\"25\" />\n",
       "  <line x1=\"11\" y1=\"0\" x2=\"11\" y2=\"25\" />\n",
       "  <line x1=\"13\" y1=\"0\" x2=\"13\" y2=\"25\" />\n",
       "  <line x1=\"14\" y1=\"0\" x2=\"14\" y2=\"25\" />\n",
       "  <line x1=\"15\" y1=\"0\" x2=\"15\" y2=\"25\" />\n",
       "  <line x1=\"17\" y1=\"0\" x2=\"17\" y2=\"25\" />\n",
       "  <line x1=\"18\" y1=\"0\" x2=\"18\" y2=\"25\" />\n",
       "  <line x1=\"19\" y1=\"0\" x2=\"19\" y2=\"25\" />\n",
       "  <line x1=\"21\" y1=\"0\" x2=\"21\" y2=\"25\" />\n",
       "  <line x1=\"22\" y1=\"0\" x2=\"22\" y2=\"25\" />\n",
       "  <line x1=\"23\" y1=\"0\" x2=\"23\" y2=\"25\" />\n",
       "  <line x1=\"24\" y1=\"0\" x2=\"24\" y2=\"25\" />\n",
       "  <line x1=\"26\" y1=\"0\" x2=\"26\" y2=\"25\" />\n",
       "  <line x1=\"27\" y1=\"0\" x2=\"27\" y2=\"25\" />\n",
       "  <line x1=\"28\" y1=\"0\" x2=\"28\" y2=\"25\" />\n",
       "  <line x1=\"30\" y1=\"0\" x2=\"30\" y2=\"25\" />\n",
       "  <line x1=\"31\" y1=\"0\" x2=\"31\" y2=\"25\" />\n",
       "  <line x1=\"32\" y1=\"0\" x2=\"32\" y2=\"25\" />\n",
       "  <line x1=\"34\" y1=\"0\" x2=\"34\" y2=\"25\" />\n",
       "  <line x1=\"35\" y1=\"0\" x2=\"35\" y2=\"25\" />\n",
       "  <line x1=\"36\" y1=\"0\" x2=\"36\" y2=\"25\" />\n",
       "  <line x1=\"38\" y1=\"0\" x2=\"38\" y2=\"25\" />\n",
       "  <line x1=\"39\" y1=\"0\" x2=\"39\" y2=\"25\" />\n",
       "  <line x1=\"40\" y1=\"0\" x2=\"40\" y2=\"25\" />\n",
       "  <line x1=\"42\" y1=\"0\" x2=\"42\" y2=\"25\" style=\"stroke-width:2\" />\n",
       "\n",
       "  <!-- Colored Rectangle -->\n",
       "  <polygon points=\"0.0,0.0 42.06797690352046,0.0 42.06797690352046,25.412616514582485 0.0,25.412616514582485\" style=\"fill:#8B4903A0;stroke-width:0\"/>\n",
       "\n",
       "  <!-- Text -->\n",
       "  <text x=\"21.033988\" y=\"45.412617\" font-size=\"1.0rem\" font-weight=\"100\" text-anchor=\"middle\" >438</text>\n",
       "  <text x=\"62.067977\" y=\"12.706308\" font-size=\"1.0rem\" font-weight=\"100\" text-anchor=\"middle\" transform=\"rotate(0,62.067977,12.706308)\">1</text>\n",
       "\n",
       "\n",
       "  <!-- Horizontal lines -->\n",
       "  <line x1=\"112\" y1=\"0\" x2=\"128\" y2=\"16\" style=\"stroke-width:2\" />\n",
       "  <line x1=\"112\" y1=\"40\" x2=\"128\" y2=\"57\" style=\"stroke-width:2\" />\n",
       "\n",
       "  <!-- Vertical lines -->\n",
       "  <line x1=\"112\" y1=\"0\" x2=\"112\" y2=\"40\" style=\"stroke-width:2\" />\n",
       "  <line x1=\"128\" y1=\"16\" x2=\"128\" y2=\"57\" style=\"stroke-width:2\" />\n",
       "\n",
       "  <!-- Colored Rectangle -->\n",
       "  <polygon points=\"112.0,0.0 128.9838361244846,16.9838361244846 128.9838361244846,57.630074521663616 112.0,40.64623839717901\" style=\"fill:#ECB172A0;stroke-width:0\"/>\n",
       "\n",
       "  <!-- Horizontal lines -->\n",
       "  <line x1=\"112\" y1=\"0\" x2=\"232\" y2=\"0\" style=\"stroke-width:2\" />\n",
       "  <line x1=\"128\" y1=\"16\" x2=\"248\" y2=\"16\" style=\"stroke-width:2\" />\n",
       "\n",
       "  <!-- Vertical lines -->\n",
       "  <line x1=\"112\" y1=\"0\" x2=\"128\" y2=\"16\" style=\"stroke-width:2\" />\n",
       "  <line x1=\"232\" y1=\"0\" x2=\"248\" y2=\"16\" style=\"stroke-width:2\" />\n",
       "\n",
       "  <!-- Colored Rectangle -->\n",
       "  <polygon points=\"112.0,0.0 232.0,0.0 248.9838361244846,16.9838361244846 128.9838361244846,16.9838361244846\" style=\"fill:#ECB172A0;stroke-width:0\"/>\n",
       "\n",
       "  <!-- Horizontal lines -->\n",
       "  <line x1=\"128\" y1=\"16\" x2=\"248\" y2=\"16\" style=\"stroke-width:2\" />\n",
       "  <line x1=\"128\" y1=\"57\" x2=\"248\" y2=\"57\" style=\"stroke-width:2\" />\n",
       "\n",
       "  <!-- Vertical lines -->\n",
       "  <line x1=\"128\" y1=\"16\" x2=\"128\" y2=\"57\" style=\"stroke-width:2\" />\n",
       "  <line x1=\"248\" y1=\"16\" x2=\"248\" y2=\"57\" style=\"stroke-width:2\" />\n",
       "\n",
       "  <!-- Colored Rectangle -->\n",
       "  <polygon points=\"128.98383612448458,16.9838361244846 248.98383612448458,16.9838361244846 248.98383612448458,57.630074521663616 128.98383612448458,57.630074521663616\" style=\"fill:#ECB172A0;stroke-width:0\"/>\n",
       "\n",
       "  <!-- Text -->\n",
       "  <text x=\"188.983836\" y=\"77.630075\" font-size=\"1.0rem\" font-weight=\"100\" text-anchor=\"middle\" >2160</text>\n",
       "  <text x=\"268.983836\" y=\"37.306955\" font-size=\"1.0rem\" font-weight=\"100\" text-anchor=\"middle\" transform=\"rotate(-90,268.983836,37.306955)\">320</text>\n",
       "  <text x=\"110.491918\" y=\"69.138156\" font-size=\"1.0rem\" font-weight=\"100\" text-anchor=\"middle\" transform=\"rotate(45,110.491918,69.138156)\">42</text>\n",
       "</svg>\n",
       "</td>\n",
       "</tr>\n",
       "</table>"
      ],
      "text/plain": [
       "dask.array<astype, shape=(438, 42, 320, 2160), dtype=float32, chunksize=(1, 42, 320, 2160), chunktype=numpy.ndarray>"
      ]
     },
     "execution_count": 7,
     "metadata": {},
     "output_type": "execute_result"
    }
   ],
   "source": [
    "#Randomized data\n",
    "shape = (438, 42, 320, 2160)\n",
    "chunks = (1, 42, 320, 2160)\n",
    "#salt = dsa.full(shape, 35., chunks=chunks, dtype='f4')\n",
    "#theta = dsa.full(shape, 10., chunks=chunks, dtype='f4')\n",
    "salt = dsa.random.random(shape, chunks=chunks).astype('f4')\n",
    "theta = dsa.random.random(shape, chunks=chunks).astype('f4')\n",
    "pref = 2000\n",
    "salt"
   ]
  },
  {
   "cell_type": "markdown",
   "metadata": {},
   "source": [
    "### 1. **`xr.apply_ufunc()`-`fastjmd95`-model data**"
   ]
  },
  {
   "cell_type": "code",
   "execution_count": 8,
   "metadata": {},
   "outputs": [
    {
     "data": {
      "text/html": [
       "<table>\n",
       "<tr>\n",
       "<td>\n",
       "<table>\n",
       "  <thead>\n",
       "    <tr><td> </td><th> Array </th><th> Chunk </th></tr>\n",
       "  </thead>\n",
       "  <tbody>\n",
       "    <tr><th> Bytes </th><td> 101.72 GB </td> <td> 232.24 MB </td></tr>\n",
       "    <tr><th> Shape </th><td> (438, 42, 320, 2160) </td> <td> (1, 42, 320, 2160) </td></tr>\n",
       "    <tr><th> Count </th><td> 2193 Tasks </td><td> 438 Chunks </td></tr>\n",
       "    <tr><th> Type </th><td> float64 </td><td> numpy.ndarray </td></tr>\n",
       "  </tbody>\n",
       "</table>\n",
       "</td>\n",
       "<td>\n",
       "<svg width=\"410\" height=\"107\" style=\"stroke:rgb(0,0,0);stroke-width:1\" >\n",
       "\n",
       "  <!-- Horizontal lines -->\n",
       "  <line x1=\"0\" y1=\"0\" x2=\"42\" y2=\"0\" style=\"stroke-width:2\" />\n",
       "  <line x1=\"0\" y1=\"25\" x2=\"42\" y2=\"25\" style=\"stroke-width:2\" />\n",
       "\n",
       "  <!-- Vertical lines -->\n",
       "  <line x1=\"0\" y1=\"0\" x2=\"0\" y2=\"25\" style=\"stroke-width:2\" />\n",
       "  <line x1=\"1\" y1=\"0\" x2=\"1\" y2=\"25\" />\n",
       "  <line x1=\"2\" y1=\"0\" x2=\"2\" y2=\"25\" />\n",
       "  <line x1=\"3\" y1=\"0\" x2=\"3\" y2=\"25\" />\n",
       "  <line x1=\"5\" y1=\"0\" x2=\"5\" y2=\"25\" />\n",
       "  <line x1=\"6\" y1=\"0\" x2=\"6\" y2=\"25\" />\n",
       "  <line x1=\"7\" y1=\"0\" x2=\"7\" y2=\"25\" />\n",
       "  <line x1=\"9\" y1=\"0\" x2=\"9\" y2=\"25\" />\n",
       "  <line x1=\"10\" y1=\"0\" x2=\"10\" y2=\"25\" />\n",
       "  <line x1=\"11\" y1=\"0\" x2=\"11\" y2=\"25\" />\n",
       "  <line x1=\"13\" y1=\"0\" x2=\"13\" y2=\"25\" />\n",
       "  <line x1=\"14\" y1=\"0\" x2=\"14\" y2=\"25\" />\n",
       "  <line x1=\"15\" y1=\"0\" x2=\"15\" y2=\"25\" />\n",
       "  <line x1=\"17\" y1=\"0\" x2=\"17\" y2=\"25\" />\n",
       "  <line x1=\"18\" y1=\"0\" x2=\"18\" y2=\"25\" />\n",
       "  <line x1=\"19\" y1=\"0\" x2=\"19\" y2=\"25\" />\n",
       "  <line x1=\"21\" y1=\"0\" x2=\"21\" y2=\"25\" />\n",
       "  <line x1=\"22\" y1=\"0\" x2=\"22\" y2=\"25\" />\n",
       "  <line x1=\"23\" y1=\"0\" x2=\"23\" y2=\"25\" />\n",
       "  <line x1=\"24\" y1=\"0\" x2=\"24\" y2=\"25\" />\n",
       "  <line x1=\"26\" y1=\"0\" x2=\"26\" y2=\"25\" />\n",
       "  <line x1=\"27\" y1=\"0\" x2=\"27\" y2=\"25\" />\n",
       "  <line x1=\"28\" y1=\"0\" x2=\"28\" y2=\"25\" />\n",
       "  <line x1=\"30\" y1=\"0\" x2=\"30\" y2=\"25\" />\n",
       "  <line x1=\"31\" y1=\"0\" x2=\"31\" y2=\"25\" />\n",
       "  <line x1=\"32\" y1=\"0\" x2=\"32\" y2=\"25\" />\n",
       "  <line x1=\"34\" y1=\"0\" x2=\"34\" y2=\"25\" />\n",
       "  <line x1=\"35\" y1=\"0\" x2=\"35\" y2=\"25\" />\n",
       "  <line x1=\"36\" y1=\"0\" x2=\"36\" y2=\"25\" />\n",
       "  <line x1=\"38\" y1=\"0\" x2=\"38\" y2=\"25\" />\n",
       "  <line x1=\"39\" y1=\"0\" x2=\"39\" y2=\"25\" />\n",
       "  <line x1=\"40\" y1=\"0\" x2=\"40\" y2=\"25\" />\n",
       "  <line x1=\"42\" y1=\"0\" x2=\"42\" y2=\"25\" style=\"stroke-width:2\" />\n",
       "\n",
       "  <!-- Colored Rectangle -->\n",
       "  <polygon points=\"0.0,0.0 42.06797690352046,0.0 42.06797690352046,25.412616514582485 0.0,25.412616514582485\" style=\"fill:#8B4903A0;stroke-width:0\"/>\n",
       "\n",
       "  <!-- Text -->\n",
       "  <text x=\"21.033988\" y=\"45.412617\" font-size=\"1.0rem\" font-weight=\"100\" text-anchor=\"middle\" >438</text>\n",
       "  <text x=\"62.067977\" y=\"12.706308\" font-size=\"1.0rem\" font-weight=\"100\" text-anchor=\"middle\" transform=\"rotate(0,62.067977,12.706308)\">1</text>\n",
       "\n",
       "\n",
       "  <!-- Horizontal lines -->\n",
       "  <line x1=\"112\" y1=\"0\" x2=\"128\" y2=\"16\" style=\"stroke-width:2\" />\n",
       "  <line x1=\"112\" y1=\"40\" x2=\"128\" y2=\"57\" style=\"stroke-width:2\" />\n",
       "\n",
       "  <!-- Vertical lines -->\n",
       "  <line x1=\"112\" y1=\"0\" x2=\"112\" y2=\"40\" style=\"stroke-width:2\" />\n",
       "  <line x1=\"128\" y1=\"16\" x2=\"128\" y2=\"57\" style=\"stroke-width:2\" />\n",
       "\n",
       "  <!-- Colored Rectangle -->\n",
       "  <polygon points=\"112.0,0.0 128.9838361244846,16.9838361244846 128.9838361244846,57.630074521663616 112.0,40.64623839717901\" style=\"fill:#ECB172A0;stroke-width:0\"/>\n",
       "\n",
       "  <!-- Horizontal lines -->\n",
       "  <line x1=\"112\" y1=\"0\" x2=\"232\" y2=\"0\" style=\"stroke-width:2\" />\n",
       "  <line x1=\"128\" y1=\"16\" x2=\"248\" y2=\"16\" style=\"stroke-width:2\" />\n",
       "\n",
       "  <!-- Vertical lines -->\n",
       "  <line x1=\"112\" y1=\"0\" x2=\"128\" y2=\"16\" style=\"stroke-width:2\" />\n",
       "  <line x1=\"232\" y1=\"0\" x2=\"248\" y2=\"16\" style=\"stroke-width:2\" />\n",
       "\n",
       "  <!-- Colored Rectangle -->\n",
       "  <polygon points=\"112.0,0.0 232.0,0.0 248.9838361244846,16.9838361244846 128.9838361244846,16.9838361244846\" style=\"fill:#ECB172A0;stroke-width:0\"/>\n",
       "\n",
       "  <!-- Horizontal lines -->\n",
       "  <line x1=\"128\" y1=\"16\" x2=\"248\" y2=\"16\" style=\"stroke-width:2\" />\n",
       "  <line x1=\"128\" y1=\"57\" x2=\"248\" y2=\"57\" style=\"stroke-width:2\" />\n",
       "\n",
       "  <!-- Vertical lines -->\n",
       "  <line x1=\"128\" y1=\"16\" x2=\"128\" y2=\"57\" style=\"stroke-width:2\" />\n",
       "  <line x1=\"248\" y1=\"16\" x2=\"248\" y2=\"57\" style=\"stroke-width:2\" />\n",
       "\n",
       "  <!-- Colored Rectangle -->\n",
       "  <polygon points=\"128.98383612448458,16.9838361244846 248.98383612448458,16.9838361244846 248.98383612448458,57.630074521663616 128.98383612448458,57.630074521663616\" style=\"fill:#ECB172A0;stroke-width:0\"/>\n",
       "\n",
       "  <!-- Text -->\n",
       "  <text x=\"188.983836\" y=\"77.630075\" font-size=\"1.0rem\" font-weight=\"100\" text-anchor=\"middle\" >2160</text>\n",
       "  <text x=\"268.983836\" y=\"37.306955\" font-size=\"1.0rem\" font-weight=\"100\" text-anchor=\"middle\" transform=\"rotate(-90,268.983836,37.306955)\">320</text>\n",
       "  <text x=\"110.491918\" y=\"69.138156\" font-size=\"1.0rem\" font-weight=\"100\" text-anchor=\"middle\" transform=\"rotate(45,110.491918,69.138156)\">42</text>\n",
       "</svg>\n",
       "</td>\n",
       "</tr>\n",
       "</table>"
      ],
      "text/plain": [
       "dask.array<transpose, shape=(438, 42, 320, 2160), dtype=float64, chunksize=(1, 42, 320, 2160), chunktype=numpy.ndarray>"
      ]
     },
     "execution_count": 8,
     "metadata": {},
     "output_type": "execute_result"
    }
   ],
   "source": [
    "drhodt_ufunc = xr.apply_ufunc(jmd95numba.drhodt, ds.SALT, ds.THETA, pref,\n",
    "                              output_dtypes=[ds.THETA.dtype],\n",
    "                              dask='parallelized').reset_coords(drop=True)\n",
    "drhodt_ufunc.data"
   ]
  },
  {
   "cell_type": "code",
   "execution_count": 9,
   "metadata": {},
   "outputs": [
    {
     "name": "stdout",
     "output_type": "stream",
     "text": [
      "CPU times: user 1.56 s, sys: 68.4 ms, total: 1.63 s\n",
      "Wall time: 4min 4s\n"
     ]
    },
    {
     "data": {
      "text/html": [
       "<pre>&lt;xarray.DataArray (YC: 320, XC: 2160)&gt;\n",
       "array([[-0.00478695, -0.00478695, -0.00478695, ..., -0.00478695,\n",
       "        -0.00478695, -0.00478695],\n",
       "       [-0.00478695, -0.00478695, -0.00478695, ..., -0.00478695,\n",
       "        -0.00478695, -0.00478695],\n",
       "       [-0.00478695, -0.00478695, -0.00478695, ..., -0.00478695,\n",
       "        -0.00478695, -0.00478695],\n",
       "       ...,\n",
       "       [-0.1917631 , -0.19167165, -0.19157862, ..., -0.18894047,\n",
       "        -0.18885288, -0.18876377],\n",
       "       [-0.19187875, -0.19178671, -0.19169259, ..., -0.19354937,\n",
       "        -0.19346012, -0.18887939],\n",
       "       [-0.19151946, -0.19142568, -0.19133256, ..., -0.18870878,\n",
       "        -0.18861612, -0.18852244]])\n",
       "Coordinates:\n",
       "  * XC       (XC) float32 0.083333336 0.25 0.4166667 ... 359.75 359.9167\n",
       "  * YC       (YC) float32 -77.87497 -77.7083 -77.54163 ... -24.874966 -24.7083</pre>"
      ],
      "text/plain": [
       "<xarray.DataArray (YC: 320, XC: 2160)>\n",
       "array([[-0.00478695, -0.00478695, -0.00478695, ..., -0.00478695,\n",
       "        -0.00478695, -0.00478695],\n",
       "       [-0.00478695, -0.00478695, -0.00478695, ..., -0.00478695,\n",
       "        -0.00478695, -0.00478695],\n",
       "       [-0.00478695, -0.00478695, -0.00478695, ..., -0.00478695,\n",
       "        -0.00478695, -0.00478695],\n",
       "       ...,\n",
       "       [-0.1917631 , -0.19167165, -0.19157862, ..., -0.18894047,\n",
       "        -0.18885288, -0.18876377],\n",
       "       [-0.19187875, -0.19178671, -0.19169259, ..., -0.19354937,\n",
       "        -0.19346012, -0.18887939],\n",
       "       [-0.19151946, -0.19142568, -0.19133256, ..., -0.18870878,\n",
       "        -0.18861612, -0.18852244]])\n",
       "Coordinates:\n",
       "  * XC       (XC) float32 0.083333336 0.25 0.4166667 ... 359.75 359.9167\n",
       "  * YC       (YC) float32 -77.87497 -77.7083 -77.54163 ... -24.874966 -24.7083"
      ]
     },
     "execution_count": 9,
     "metadata": {},
     "output_type": "execute_result"
    }
   ],
   "source": [
    "%%time\n",
    "drhodt_ufunc.mean(dim=('time', 'Z')).compute()"
   ]
  },
  {
   "cell_type": "markdown",
   "metadata": {},
   "source": [
    "### 2. **`xr.apply_ufunc()`-`fastjmd95`-randomized data**"
   ]
  },
  {
   "cell_type": "code",
   "execution_count": 10,
   "metadata": {},
   "outputs": [
    {
     "data": {
      "text/html": [
       "<table>\n",
       "<tr>\n",
       "<td>\n",
       "<table>\n",
       "  <thead>\n",
       "    <tr><td> </td><th> Array </th><th> Chunk </th></tr>\n",
       "  </thead>\n",
       "  <tbody>\n",
       "    <tr><th> Bytes </th><td> 50.86 GB </td> <td> 116.12 MB </td></tr>\n",
       "    <tr><th> Shape </th><td> (438, 42, 320, 2160) </td> <td> (1, 42, 320, 2160) </td></tr>\n",
       "    <tr><th> Count </th><td> 876 Tasks </td><td> 438 Chunks </td></tr>\n",
       "    <tr><th> Type </th><td> float32 </td><td> numpy.ndarray </td></tr>\n",
       "  </tbody>\n",
       "</table>\n",
       "</td>\n",
       "<td>\n",
       "<svg width=\"410\" height=\"107\" style=\"stroke:rgb(0,0,0);stroke-width:1\" >\n",
       "\n",
       "  <!-- Horizontal lines -->\n",
       "  <line x1=\"0\" y1=\"0\" x2=\"42\" y2=\"0\" style=\"stroke-width:2\" />\n",
       "  <line x1=\"0\" y1=\"25\" x2=\"42\" y2=\"25\" style=\"stroke-width:2\" />\n",
       "\n",
       "  <!-- Vertical lines -->\n",
       "  <line x1=\"0\" y1=\"0\" x2=\"0\" y2=\"25\" style=\"stroke-width:2\" />\n",
       "  <line x1=\"1\" y1=\"0\" x2=\"1\" y2=\"25\" />\n",
       "  <line x1=\"2\" y1=\"0\" x2=\"2\" y2=\"25\" />\n",
       "  <line x1=\"3\" y1=\"0\" x2=\"3\" y2=\"25\" />\n",
       "  <line x1=\"5\" y1=\"0\" x2=\"5\" y2=\"25\" />\n",
       "  <line x1=\"6\" y1=\"0\" x2=\"6\" y2=\"25\" />\n",
       "  <line x1=\"7\" y1=\"0\" x2=\"7\" y2=\"25\" />\n",
       "  <line x1=\"9\" y1=\"0\" x2=\"9\" y2=\"25\" />\n",
       "  <line x1=\"10\" y1=\"0\" x2=\"10\" y2=\"25\" />\n",
       "  <line x1=\"11\" y1=\"0\" x2=\"11\" y2=\"25\" />\n",
       "  <line x1=\"13\" y1=\"0\" x2=\"13\" y2=\"25\" />\n",
       "  <line x1=\"14\" y1=\"0\" x2=\"14\" y2=\"25\" />\n",
       "  <line x1=\"15\" y1=\"0\" x2=\"15\" y2=\"25\" />\n",
       "  <line x1=\"17\" y1=\"0\" x2=\"17\" y2=\"25\" />\n",
       "  <line x1=\"18\" y1=\"0\" x2=\"18\" y2=\"25\" />\n",
       "  <line x1=\"19\" y1=\"0\" x2=\"19\" y2=\"25\" />\n",
       "  <line x1=\"21\" y1=\"0\" x2=\"21\" y2=\"25\" />\n",
       "  <line x1=\"22\" y1=\"0\" x2=\"22\" y2=\"25\" />\n",
       "  <line x1=\"23\" y1=\"0\" x2=\"23\" y2=\"25\" />\n",
       "  <line x1=\"24\" y1=\"0\" x2=\"24\" y2=\"25\" />\n",
       "  <line x1=\"26\" y1=\"0\" x2=\"26\" y2=\"25\" />\n",
       "  <line x1=\"27\" y1=\"0\" x2=\"27\" y2=\"25\" />\n",
       "  <line x1=\"28\" y1=\"0\" x2=\"28\" y2=\"25\" />\n",
       "  <line x1=\"30\" y1=\"0\" x2=\"30\" y2=\"25\" />\n",
       "  <line x1=\"31\" y1=\"0\" x2=\"31\" y2=\"25\" />\n",
       "  <line x1=\"32\" y1=\"0\" x2=\"32\" y2=\"25\" />\n",
       "  <line x1=\"34\" y1=\"0\" x2=\"34\" y2=\"25\" />\n",
       "  <line x1=\"35\" y1=\"0\" x2=\"35\" y2=\"25\" />\n",
       "  <line x1=\"36\" y1=\"0\" x2=\"36\" y2=\"25\" />\n",
       "  <line x1=\"38\" y1=\"0\" x2=\"38\" y2=\"25\" />\n",
       "  <line x1=\"39\" y1=\"0\" x2=\"39\" y2=\"25\" />\n",
       "  <line x1=\"40\" y1=\"0\" x2=\"40\" y2=\"25\" />\n",
       "  <line x1=\"42\" y1=\"0\" x2=\"42\" y2=\"25\" style=\"stroke-width:2\" />\n",
       "\n",
       "  <!-- Colored Rectangle -->\n",
       "  <polygon points=\"0.0,0.0 42.06797690352046,0.0 42.06797690352046,25.412616514582485 0.0,25.412616514582485\" style=\"fill:#8B4903A0;stroke-width:0\"/>\n",
       "\n",
       "  <!-- Text -->\n",
       "  <text x=\"21.033988\" y=\"45.412617\" font-size=\"1.0rem\" font-weight=\"100\" text-anchor=\"middle\" >438</text>\n",
       "  <text x=\"62.067977\" y=\"12.706308\" font-size=\"1.0rem\" font-weight=\"100\" text-anchor=\"middle\" transform=\"rotate(0,62.067977,12.706308)\">1</text>\n",
       "\n",
       "\n",
       "  <!-- Horizontal lines -->\n",
       "  <line x1=\"112\" y1=\"0\" x2=\"128\" y2=\"16\" style=\"stroke-width:2\" />\n",
       "  <line x1=\"112\" y1=\"40\" x2=\"128\" y2=\"57\" style=\"stroke-width:2\" />\n",
       "\n",
       "  <!-- Vertical lines -->\n",
       "  <line x1=\"112\" y1=\"0\" x2=\"112\" y2=\"40\" style=\"stroke-width:2\" />\n",
       "  <line x1=\"128\" y1=\"16\" x2=\"128\" y2=\"57\" style=\"stroke-width:2\" />\n",
       "\n",
       "  <!-- Colored Rectangle -->\n",
       "  <polygon points=\"112.0,0.0 128.9838361244846,16.9838361244846 128.9838361244846,57.630074521663616 112.0,40.64623839717901\" style=\"fill:#ECB172A0;stroke-width:0\"/>\n",
       "\n",
       "  <!-- Horizontal lines -->\n",
       "  <line x1=\"112\" y1=\"0\" x2=\"232\" y2=\"0\" style=\"stroke-width:2\" />\n",
       "  <line x1=\"128\" y1=\"16\" x2=\"248\" y2=\"16\" style=\"stroke-width:2\" />\n",
       "\n",
       "  <!-- Vertical lines -->\n",
       "  <line x1=\"112\" y1=\"0\" x2=\"128\" y2=\"16\" style=\"stroke-width:2\" />\n",
       "  <line x1=\"232\" y1=\"0\" x2=\"248\" y2=\"16\" style=\"stroke-width:2\" />\n",
       "\n",
       "  <!-- Colored Rectangle -->\n",
       "  <polygon points=\"112.0,0.0 232.0,0.0 248.9838361244846,16.9838361244846 128.9838361244846,16.9838361244846\" style=\"fill:#ECB172A0;stroke-width:0\"/>\n",
       "\n",
       "  <!-- Horizontal lines -->\n",
       "  <line x1=\"128\" y1=\"16\" x2=\"248\" y2=\"16\" style=\"stroke-width:2\" />\n",
       "  <line x1=\"128\" y1=\"57\" x2=\"248\" y2=\"57\" style=\"stroke-width:2\" />\n",
       "\n",
       "  <!-- Vertical lines -->\n",
       "  <line x1=\"128\" y1=\"16\" x2=\"128\" y2=\"57\" style=\"stroke-width:2\" />\n",
       "  <line x1=\"248\" y1=\"16\" x2=\"248\" y2=\"57\" style=\"stroke-width:2\" />\n",
       "\n",
       "  <!-- Colored Rectangle -->\n",
       "  <polygon points=\"128.98383612448458,16.9838361244846 248.98383612448458,16.9838361244846 248.98383612448458,57.630074521663616 128.98383612448458,57.630074521663616\" style=\"fill:#ECB172A0;stroke-width:0\"/>\n",
       "\n",
       "  <!-- Text -->\n",
       "  <text x=\"188.983836\" y=\"77.630075\" font-size=\"1.0rem\" font-weight=\"100\" text-anchor=\"middle\" >2160</text>\n",
       "  <text x=\"268.983836\" y=\"37.306955\" font-size=\"1.0rem\" font-weight=\"100\" text-anchor=\"middle\" transform=\"rotate(-90,268.983836,37.306955)\">320</text>\n",
       "  <text x=\"110.491918\" y=\"69.138156\" font-size=\"1.0rem\" font-weight=\"100\" text-anchor=\"middle\" transform=\"rotate(45,110.491918,69.138156)\">42</text>\n",
       "</svg>\n",
       "</td>\n",
       "</tr>\n",
       "</table>"
      ],
      "text/plain": [
       "dask.array<astype, shape=(438, 42, 320, 2160), dtype=float32, chunksize=(1, 42, 320, 2160), chunktype=numpy.ndarray>"
      ]
     },
     "execution_count": 10,
     "metadata": {},
     "output_type": "execute_result"
    }
   ],
   "source": [
    "salt"
   ]
  },
  {
   "cell_type": "code",
   "execution_count": 11,
   "metadata": {},
   "outputs": [],
   "source": [
    "dummy_ds = xr.Dataset({'theta':(['time', 'Z','YC','XC'], theta),\n",
    "                       'salt': (['time', 'Z','YC','XC'], salt)\n",
    "                      })"
   ]
  },
  {
   "cell_type": "code",
   "execution_count": 12,
   "metadata": {},
   "outputs": [
    {
     "data": {
      "text/html": [
       "<pre>&lt;xarray.DataArray &#x27;salt&#x27; (time: 438, Z: 42, YC: 320, XC: 2160)&gt;\n",
       "dask.array&lt;astype, shape=(438, 42, 320, 2160), dtype=float32, chunksize=(1, 42, 320, 2160), chunktype=numpy.ndarray&gt;\n",
       "Dimensions without coordinates: time, Z, YC, XC</pre>"
      ],
      "text/plain": [
       "<xarray.DataArray 'salt' (time: 438, Z: 42, YC: 320, XC: 2160)>\n",
       "dask.array<astype, shape=(438, 42, 320, 2160), dtype=float32, chunksize=(1, 42, 320, 2160), chunktype=numpy.ndarray>\n",
       "Dimensions without coordinates: time, Z, YC, XC"
      ]
     },
     "execution_count": 12,
     "metadata": {},
     "output_type": "execute_result"
    }
   ],
   "source": [
    "dummy_ds.salt"
   ]
  },
  {
   "cell_type": "code",
   "execution_count": 14,
   "metadata": {},
   "outputs": [
    {
     "data": {
      "text/html": [
       "<table>\n",
       "<tr>\n",
       "<td>\n",
       "<table>\n",
       "  <thead>\n",
       "    <tr><td> </td><th> Array </th><th> Chunk </th></tr>\n",
       "  </thead>\n",
       "  <tbody>\n",
       "    <tr><th> Bytes </th><td> 101.72 GB </td> <td> 232.24 MB </td></tr>\n",
       "    <tr><th> Shape </th><td> (438, 42, 320, 2160) </td> <td> (1, 42, 320, 2160) </td></tr>\n",
       "    <tr><th> Count </th><td> 3067 Tasks </td><td> 438 Chunks </td></tr>\n",
       "    <tr><th> Type </th><td> float64 </td><td> numpy.ndarray </td></tr>\n",
       "  </tbody>\n",
       "</table>\n",
       "</td>\n",
       "<td>\n",
       "<svg width=\"410\" height=\"107\" style=\"stroke:rgb(0,0,0);stroke-width:1\" >\n",
       "\n",
       "  <!-- Horizontal lines -->\n",
       "  <line x1=\"0\" y1=\"0\" x2=\"42\" y2=\"0\" style=\"stroke-width:2\" />\n",
       "  <line x1=\"0\" y1=\"25\" x2=\"42\" y2=\"25\" style=\"stroke-width:2\" />\n",
       "\n",
       "  <!-- Vertical lines -->\n",
       "  <line x1=\"0\" y1=\"0\" x2=\"0\" y2=\"25\" style=\"stroke-width:2\" />\n",
       "  <line x1=\"1\" y1=\"0\" x2=\"1\" y2=\"25\" />\n",
       "  <line x1=\"2\" y1=\"0\" x2=\"2\" y2=\"25\" />\n",
       "  <line x1=\"3\" y1=\"0\" x2=\"3\" y2=\"25\" />\n",
       "  <line x1=\"5\" y1=\"0\" x2=\"5\" y2=\"25\" />\n",
       "  <line x1=\"6\" y1=\"0\" x2=\"6\" y2=\"25\" />\n",
       "  <line x1=\"7\" y1=\"0\" x2=\"7\" y2=\"25\" />\n",
       "  <line x1=\"9\" y1=\"0\" x2=\"9\" y2=\"25\" />\n",
       "  <line x1=\"10\" y1=\"0\" x2=\"10\" y2=\"25\" />\n",
       "  <line x1=\"11\" y1=\"0\" x2=\"11\" y2=\"25\" />\n",
       "  <line x1=\"13\" y1=\"0\" x2=\"13\" y2=\"25\" />\n",
       "  <line x1=\"14\" y1=\"0\" x2=\"14\" y2=\"25\" />\n",
       "  <line x1=\"15\" y1=\"0\" x2=\"15\" y2=\"25\" />\n",
       "  <line x1=\"17\" y1=\"0\" x2=\"17\" y2=\"25\" />\n",
       "  <line x1=\"18\" y1=\"0\" x2=\"18\" y2=\"25\" />\n",
       "  <line x1=\"19\" y1=\"0\" x2=\"19\" y2=\"25\" />\n",
       "  <line x1=\"21\" y1=\"0\" x2=\"21\" y2=\"25\" />\n",
       "  <line x1=\"22\" y1=\"0\" x2=\"22\" y2=\"25\" />\n",
       "  <line x1=\"23\" y1=\"0\" x2=\"23\" y2=\"25\" />\n",
       "  <line x1=\"24\" y1=\"0\" x2=\"24\" y2=\"25\" />\n",
       "  <line x1=\"26\" y1=\"0\" x2=\"26\" y2=\"25\" />\n",
       "  <line x1=\"27\" y1=\"0\" x2=\"27\" y2=\"25\" />\n",
       "  <line x1=\"28\" y1=\"0\" x2=\"28\" y2=\"25\" />\n",
       "  <line x1=\"30\" y1=\"0\" x2=\"30\" y2=\"25\" />\n",
       "  <line x1=\"31\" y1=\"0\" x2=\"31\" y2=\"25\" />\n",
       "  <line x1=\"32\" y1=\"0\" x2=\"32\" y2=\"25\" />\n",
       "  <line x1=\"34\" y1=\"0\" x2=\"34\" y2=\"25\" />\n",
       "  <line x1=\"35\" y1=\"0\" x2=\"35\" y2=\"25\" />\n",
       "  <line x1=\"36\" y1=\"0\" x2=\"36\" y2=\"25\" />\n",
       "  <line x1=\"38\" y1=\"0\" x2=\"38\" y2=\"25\" />\n",
       "  <line x1=\"39\" y1=\"0\" x2=\"39\" y2=\"25\" />\n",
       "  <line x1=\"40\" y1=\"0\" x2=\"40\" y2=\"25\" />\n",
       "  <line x1=\"42\" y1=\"0\" x2=\"42\" y2=\"25\" style=\"stroke-width:2\" />\n",
       "\n",
       "  <!-- Colored Rectangle -->\n",
       "  <polygon points=\"0.0,0.0 42.06797690352046,0.0 42.06797690352046,25.412616514582485 0.0,25.412616514582485\" style=\"fill:#8B4903A0;stroke-width:0\"/>\n",
       "\n",
       "  <!-- Text -->\n",
       "  <text x=\"21.033988\" y=\"45.412617\" font-size=\"1.0rem\" font-weight=\"100\" text-anchor=\"middle\" >438</text>\n",
       "  <text x=\"62.067977\" y=\"12.706308\" font-size=\"1.0rem\" font-weight=\"100\" text-anchor=\"middle\" transform=\"rotate(0,62.067977,12.706308)\">1</text>\n",
       "\n",
       "\n",
       "  <!-- Horizontal lines -->\n",
       "  <line x1=\"112\" y1=\"0\" x2=\"128\" y2=\"16\" style=\"stroke-width:2\" />\n",
       "  <line x1=\"112\" y1=\"40\" x2=\"128\" y2=\"57\" style=\"stroke-width:2\" />\n",
       "\n",
       "  <!-- Vertical lines -->\n",
       "  <line x1=\"112\" y1=\"0\" x2=\"112\" y2=\"40\" style=\"stroke-width:2\" />\n",
       "  <line x1=\"128\" y1=\"16\" x2=\"128\" y2=\"57\" style=\"stroke-width:2\" />\n",
       "\n",
       "  <!-- Colored Rectangle -->\n",
       "  <polygon points=\"112.0,0.0 128.9838361244846,16.9838361244846 128.9838361244846,57.630074521663616 112.0,40.64623839717901\" style=\"fill:#ECB172A0;stroke-width:0\"/>\n",
       "\n",
       "  <!-- Horizontal lines -->\n",
       "  <line x1=\"112\" y1=\"0\" x2=\"232\" y2=\"0\" style=\"stroke-width:2\" />\n",
       "  <line x1=\"128\" y1=\"16\" x2=\"248\" y2=\"16\" style=\"stroke-width:2\" />\n",
       "\n",
       "  <!-- Vertical lines -->\n",
       "  <line x1=\"112\" y1=\"0\" x2=\"128\" y2=\"16\" style=\"stroke-width:2\" />\n",
       "  <line x1=\"232\" y1=\"0\" x2=\"248\" y2=\"16\" style=\"stroke-width:2\" />\n",
       "\n",
       "  <!-- Colored Rectangle -->\n",
       "  <polygon points=\"112.0,0.0 232.0,0.0 248.9838361244846,16.9838361244846 128.9838361244846,16.9838361244846\" style=\"fill:#ECB172A0;stroke-width:0\"/>\n",
       "\n",
       "  <!-- Horizontal lines -->\n",
       "  <line x1=\"128\" y1=\"16\" x2=\"248\" y2=\"16\" style=\"stroke-width:2\" />\n",
       "  <line x1=\"128\" y1=\"57\" x2=\"248\" y2=\"57\" style=\"stroke-width:2\" />\n",
       "\n",
       "  <!-- Vertical lines -->\n",
       "  <line x1=\"128\" y1=\"16\" x2=\"128\" y2=\"57\" style=\"stroke-width:2\" />\n",
       "  <line x1=\"248\" y1=\"16\" x2=\"248\" y2=\"57\" style=\"stroke-width:2\" />\n",
       "\n",
       "  <!-- Colored Rectangle -->\n",
       "  <polygon points=\"128.98383612448458,16.9838361244846 248.98383612448458,16.9838361244846 248.98383612448458,57.630074521663616 128.98383612448458,57.630074521663616\" style=\"fill:#ECB172A0;stroke-width:0\"/>\n",
       "\n",
       "  <!-- Text -->\n",
       "  <text x=\"188.983836\" y=\"77.630075\" font-size=\"1.0rem\" font-weight=\"100\" text-anchor=\"middle\" >2160</text>\n",
       "  <text x=\"268.983836\" y=\"37.306955\" font-size=\"1.0rem\" font-weight=\"100\" text-anchor=\"middle\" transform=\"rotate(-90,268.983836,37.306955)\">320</text>\n",
       "  <text x=\"110.491918\" y=\"69.138156\" font-size=\"1.0rem\" font-weight=\"100\" text-anchor=\"middle\" transform=\"rotate(45,110.491918,69.138156)\">42</text>\n",
       "</svg>\n",
       "</td>\n",
       "</tr>\n",
       "</table>"
      ],
      "text/plain": [
       "dask.array<transpose, shape=(438, 42, 320, 2160), dtype=float64, chunksize=(1, 42, 320, 2160), chunktype=numpy.ndarray>"
      ]
     },
     "execution_count": 14,
     "metadata": {},
     "output_type": "execute_result"
    }
   ],
   "source": [
    "drhodt_ufunc_random = xr.apply_ufunc(jmd95numba.drhodt, dummy_ds.salt, dummy_ds.theta, pref,\n",
    "                              output_dtypes=[dummy_ds.theta.dtype],\n",
    "                              dask='parallelized').reset_coords(drop=True)\n",
    "drhodt_ufunc_random.data"
   ]
  },
  {
   "cell_type": "code",
   "execution_count": 16,
   "metadata": {},
   "outputs": [
    {
     "data": {
      "text/html": [
       "<table style=\"border: 2px solid white;\">\n",
       "<tr>\n",
       "<td style=\"vertical-align: top; border: 0px solid white\">\n",
       "<h3 style=\"text-align: left;\">Client</h3>\n",
       "<ul style=\"text-align: left; list-style: none; margin: 0; padding: 0;\">\n",
       "  <li><b>Scheduler: </b>gateway://traefik-gcp-uscentral1b-prod-dask-gateway.prod:80/prod.2e6facec3e1a4491ae4001887caf03ba</li>\n",
       "  <li><b>Dashboard: </b><a href='/services/dask-gateway/clusters/prod.2e6facec3e1a4491ae4001887caf03ba/status' target='_blank'>/services/dask-gateway/clusters/prod.2e6facec3e1a4491ae4001887caf03ba/status</a></li>\n",
       "</ul>\n",
       "</td>\n",
       "<td style=\"vertical-align: top; border: 0px solid white\">\n",
       "<h3 style=\"text-align: left;\">Cluster</h3>\n",
       "<ul style=\"text-align: left; list-style:none; margin: 0; padding: 0;\">\n",
       "  <li><b>Workers: </b>30</li>\n",
       "  <li><b>Cores: </b>60</li>\n",
       "  <li><b>Memory: </b>257.70 GB</li>\n",
       "</ul>\n",
       "</td>\n",
       "</tr>\n",
       "</table>"
      ],
      "text/plain": [
       "<Client: 'tls://10.39.180.169:8786' processes=15 threads=30, memory=128.85 GB>"
      ]
     },
     "execution_count": 16,
     "metadata": {},
     "output_type": "execute_result"
    }
   ],
   "source": [
    "client.restart()"
   ]
  },
  {
   "cell_type": "markdown",
   "metadata": {},
   "source": [
    "### Cell below: all tasks go to one worker and it never executes"
   ]
  },
  {
   "cell_type": "code",
   "execution_count": 17,
   "metadata": {},
   "outputs": [
    {
     "ename": "KeyboardInterrupt",
     "evalue": "",
     "output_type": "error",
     "traceback": [
      "\u001b[0;31m---------------------------------------------------------------------------\u001b[0m",
      "\u001b[0;31mKeyboardInterrupt\u001b[0m                         Traceback (most recent call last)",
      "\u001b[0;32m<timed eval>\u001b[0m in \u001b[0;36m<module>\u001b[0;34m\u001b[0m\n",
      "\u001b[0;32m/srv/conda/envs/notebook/lib/python3.8/site-packages/xarray/core/dataarray.py\u001b[0m in \u001b[0;36mcompute\u001b[0;34m(self, **kwargs)\u001b[0m\n\u001b[1;32m    832\u001b[0m         \"\"\"\n\u001b[1;32m    833\u001b[0m         \u001b[0mnew\u001b[0m \u001b[0;34m=\u001b[0m \u001b[0mself\u001b[0m\u001b[0;34m.\u001b[0m\u001b[0mcopy\u001b[0m\u001b[0;34m(\u001b[0m\u001b[0mdeep\u001b[0m\u001b[0;34m=\u001b[0m\u001b[0;32mFalse\u001b[0m\u001b[0;34m)\u001b[0m\u001b[0;34m\u001b[0m\u001b[0;34m\u001b[0m\u001b[0m\n\u001b[0;32m--> 834\u001b[0;31m         \u001b[0;32mreturn\u001b[0m \u001b[0mnew\u001b[0m\u001b[0;34m.\u001b[0m\u001b[0mload\u001b[0m\u001b[0;34m(\u001b[0m\u001b[0;34m**\u001b[0m\u001b[0mkwargs\u001b[0m\u001b[0;34m)\u001b[0m\u001b[0;34m\u001b[0m\u001b[0;34m\u001b[0m\u001b[0m\n\u001b[0m\u001b[1;32m    835\u001b[0m \u001b[0;34m\u001b[0m\u001b[0m\n\u001b[1;32m    836\u001b[0m     \u001b[0;32mdef\u001b[0m \u001b[0mpersist\u001b[0m\u001b[0;34m(\u001b[0m\u001b[0mself\u001b[0m\u001b[0;34m,\u001b[0m \u001b[0;34m**\u001b[0m\u001b[0mkwargs\u001b[0m\u001b[0;34m)\u001b[0m \u001b[0;34m->\u001b[0m \u001b[0;34m\"DataArray\"\u001b[0m\u001b[0;34m:\u001b[0m\u001b[0;34m\u001b[0m\u001b[0;34m\u001b[0m\u001b[0m\n",
      "\u001b[0;32m/srv/conda/envs/notebook/lib/python3.8/site-packages/xarray/core/dataarray.py\u001b[0m in \u001b[0;36mload\u001b[0;34m(self, **kwargs)\u001b[0m\n\u001b[1;32m    806\u001b[0m         \u001b[0mdask\u001b[0m\u001b[0;34m.\u001b[0m\u001b[0marray\u001b[0m\u001b[0;34m.\u001b[0m\u001b[0mcompute\u001b[0m\u001b[0;34m\u001b[0m\u001b[0;34m\u001b[0m\u001b[0m\n\u001b[1;32m    807\u001b[0m         \"\"\"\n\u001b[0;32m--> 808\u001b[0;31m         \u001b[0mds\u001b[0m \u001b[0;34m=\u001b[0m \u001b[0mself\u001b[0m\u001b[0;34m.\u001b[0m\u001b[0m_to_temp_dataset\u001b[0m\u001b[0;34m(\u001b[0m\u001b[0;34m)\u001b[0m\u001b[0;34m.\u001b[0m\u001b[0mload\u001b[0m\u001b[0;34m(\u001b[0m\u001b[0;34m**\u001b[0m\u001b[0mkwargs\u001b[0m\u001b[0;34m)\u001b[0m\u001b[0;34m\u001b[0m\u001b[0;34m\u001b[0m\u001b[0m\n\u001b[0m\u001b[1;32m    809\u001b[0m         \u001b[0mnew\u001b[0m \u001b[0;34m=\u001b[0m \u001b[0mself\u001b[0m\u001b[0;34m.\u001b[0m\u001b[0m_from_temp_dataset\u001b[0m\u001b[0;34m(\u001b[0m\u001b[0mds\u001b[0m\u001b[0;34m)\u001b[0m\u001b[0;34m\u001b[0m\u001b[0;34m\u001b[0m\u001b[0m\n\u001b[1;32m    810\u001b[0m         \u001b[0mself\u001b[0m\u001b[0;34m.\u001b[0m\u001b[0m_variable\u001b[0m \u001b[0;34m=\u001b[0m \u001b[0mnew\u001b[0m\u001b[0;34m.\u001b[0m\u001b[0m_variable\u001b[0m\u001b[0;34m\u001b[0m\u001b[0;34m\u001b[0m\u001b[0m\n",
      "\u001b[0;32m/srv/conda/envs/notebook/lib/python3.8/site-packages/xarray/core/dataset.py\u001b[0m in \u001b[0;36mload\u001b[0;34m(self, **kwargs)\u001b[0m\n\u001b[1;32m    652\u001b[0m \u001b[0;34m\u001b[0m\u001b[0m\n\u001b[1;32m    653\u001b[0m             \u001b[0;31m# evaluate all the dask arrays simultaneously\u001b[0m\u001b[0;34m\u001b[0m\u001b[0;34m\u001b[0m\u001b[0;34m\u001b[0m\u001b[0m\n\u001b[0;32m--> 654\u001b[0;31m             \u001b[0mevaluated_data\u001b[0m \u001b[0;34m=\u001b[0m \u001b[0mda\u001b[0m\u001b[0;34m.\u001b[0m\u001b[0mcompute\u001b[0m\u001b[0;34m(\u001b[0m\u001b[0;34m*\u001b[0m\u001b[0mlazy_data\u001b[0m\u001b[0;34m.\u001b[0m\u001b[0mvalues\u001b[0m\u001b[0;34m(\u001b[0m\u001b[0;34m)\u001b[0m\u001b[0;34m,\u001b[0m \u001b[0;34m**\u001b[0m\u001b[0mkwargs\u001b[0m\u001b[0;34m)\u001b[0m\u001b[0;34m\u001b[0m\u001b[0;34m\u001b[0m\u001b[0m\n\u001b[0m\u001b[1;32m    655\u001b[0m \u001b[0;34m\u001b[0m\u001b[0m\n\u001b[1;32m    656\u001b[0m             \u001b[0;32mfor\u001b[0m \u001b[0mk\u001b[0m\u001b[0;34m,\u001b[0m \u001b[0mdata\u001b[0m \u001b[0;32min\u001b[0m \u001b[0mzip\u001b[0m\u001b[0;34m(\u001b[0m\u001b[0mlazy_data\u001b[0m\u001b[0;34m,\u001b[0m \u001b[0mevaluated_data\u001b[0m\u001b[0;34m)\u001b[0m\u001b[0;34m:\u001b[0m\u001b[0;34m\u001b[0m\u001b[0;34m\u001b[0m\u001b[0m\n",
      "\u001b[0;32m/srv/conda/envs/notebook/lib/python3.8/site-packages/dask/base.py\u001b[0m in \u001b[0;36mcompute\u001b[0;34m(*args, **kwargs)\u001b[0m\n\u001b[1;32m    450\u001b[0m         \u001b[0mpostcomputes\u001b[0m\u001b[0;34m.\u001b[0m\u001b[0mappend\u001b[0m\u001b[0;34m(\u001b[0m\u001b[0mx\u001b[0m\u001b[0;34m.\u001b[0m\u001b[0m__dask_postcompute__\u001b[0m\u001b[0;34m(\u001b[0m\u001b[0;34m)\u001b[0m\u001b[0;34m)\u001b[0m\u001b[0;34m\u001b[0m\u001b[0;34m\u001b[0m\u001b[0m\n\u001b[1;32m    451\u001b[0m \u001b[0;34m\u001b[0m\u001b[0m\n\u001b[0;32m--> 452\u001b[0;31m     \u001b[0mresults\u001b[0m \u001b[0;34m=\u001b[0m \u001b[0mschedule\u001b[0m\u001b[0;34m(\u001b[0m\u001b[0mdsk\u001b[0m\u001b[0;34m,\u001b[0m \u001b[0mkeys\u001b[0m\u001b[0;34m,\u001b[0m \u001b[0;34m**\u001b[0m\u001b[0mkwargs\u001b[0m\u001b[0;34m)\u001b[0m\u001b[0;34m\u001b[0m\u001b[0;34m\u001b[0m\u001b[0m\n\u001b[0m\u001b[1;32m    453\u001b[0m     \u001b[0;32mreturn\u001b[0m \u001b[0mrepack\u001b[0m\u001b[0;34m(\u001b[0m\u001b[0;34m[\u001b[0m\u001b[0mf\u001b[0m\u001b[0;34m(\u001b[0m\u001b[0mr\u001b[0m\u001b[0;34m,\u001b[0m \u001b[0;34m*\u001b[0m\u001b[0ma\u001b[0m\u001b[0;34m)\u001b[0m \u001b[0;32mfor\u001b[0m \u001b[0mr\u001b[0m\u001b[0;34m,\u001b[0m \u001b[0;34m(\u001b[0m\u001b[0mf\u001b[0m\u001b[0;34m,\u001b[0m \u001b[0ma\u001b[0m\u001b[0;34m)\u001b[0m \u001b[0;32min\u001b[0m \u001b[0mzip\u001b[0m\u001b[0;34m(\u001b[0m\u001b[0mresults\u001b[0m\u001b[0;34m,\u001b[0m \u001b[0mpostcomputes\u001b[0m\u001b[0;34m)\u001b[0m\u001b[0;34m]\u001b[0m\u001b[0;34m)\u001b[0m\u001b[0;34m\u001b[0m\u001b[0;34m\u001b[0m\u001b[0m\n\u001b[1;32m    454\u001b[0m \u001b[0;34m\u001b[0m\u001b[0m\n",
      "\u001b[0;32m/srv/conda/envs/notebook/lib/python3.8/site-packages/distributed/client.py\u001b[0m in \u001b[0;36mget\u001b[0;34m(self, dsk, keys, restrictions, loose_restrictions, resources, sync, asynchronous, direct, retries, priority, fifo_timeout, actors, **kwargs)\u001b[0m\n\u001b[1;32m   2723\u001b[0m                     \u001b[0mshould_rejoin\u001b[0m \u001b[0;34m=\u001b[0m \u001b[0;32mFalse\u001b[0m\u001b[0;34m\u001b[0m\u001b[0;34m\u001b[0m\u001b[0m\n\u001b[1;32m   2724\u001b[0m             \u001b[0;32mtry\u001b[0m\u001b[0;34m:\u001b[0m\u001b[0;34m\u001b[0m\u001b[0;34m\u001b[0m\u001b[0m\n\u001b[0;32m-> 2725\u001b[0;31m                 \u001b[0mresults\u001b[0m \u001b[0;34m=\u001b[0m \u001b[0mself\u001b[0m\u001b[0;34m.\u001b[0m\u001b[0mgather\u001b[0m\u001b[0;34m(\u001b[0m\u001b[0mpacked\u001b[0m\u001b[0;34m,\u001b[0m \u001b[0masynchronous\u001b[0m\u001b[0;34m=\u001b[0m\u001b[0masynchronous\u001b[0m\u001b[0;34m,\u001b[0m \u001b[0mdirect\u001b[0m\u001b[0;34m=\u001b[0m\u001b[0mdirect\u001b[0m\u001b[0;34m)\u001b[0m\u001b[0;34m\u001b[0m\u001b[0;34m\u001b[0m\u001b[0m\n\u001b[0m\u001b[1;32m   2726\u001b[0m             \u001b[0;32mfinally\u001b[0m\u001b[0;34m:\u001b[0m\u001b[0;34m\u001b[0m\u001b[0;34m\u001b[0m\u001b[0m\n\u001b[1;32m   2727\u001b[0m                 \u001b[0;32mfor\u001b[0m \u001b[0mf\u001b[0m \u001b[0;32min\u001b[0m \u001b[0mfutures\u001b[0m\u001b[0;34m.\u001b[0m\u001b[0mvalues\u001b[0m\u001b[0;34m(\u001b[0m\u001b[0;34m)\u001b[0m\u001b[0;34m:\u001b[0m\u001b[0;34m\u001b[0m\u001b[0;34m\u001b[0m\u001b[0m\n",
      "\u001b[0;32m/srv/conda/envs/notebook/lib/python3.8/site-packages/distributed/client.py\u001b[0m in \u001b[0;36mgather\u001b[0;34m(self, futures, errors, direct, asynchronous)\u001b[0m\n\u001b[1;32m   1984\u001b[0m             \u001b[0;32melse\u001b[0m\u001b[0;34m:\u001b[0m\u001b[0;34m\u001b[0m\u001b[0;34m\u001b[0m\u001b[0m\n\u001b[1;32m   1985\u001b[0m                 \u001b[0mlocal_worker\u001b[0m \u001b[0;34m=\u001b[0m \u001b[0;32mNone\u001b[0m\u001b[0;34m\u001b[0m\u001b[0;34m\u001b[0m\u001b[0m\n\u001b[0;32m-> 1986\u001b[0;31m             return self.sync(\n\u001b[0m\u001b[1;32m   1987\u001b[0m                 \u001b[0mself\u001b[0m\u001b[0;34m.\u001b[0m\u001b[0m_gather\u001b[0m\u001b[0;34m,\u001b[0m\u001b[0;34m\u001b[0m\u001b[0;34m\u001b[0m\u001b[0m\n\u001b[1;32m   1988\u001b[0m                 \u001b[0mfutures\u001b[0m\u001b[0;34m,\u001b[0m\u001b[0;34m\u001b[0m\u001b[0;34m\u001b[0m\u001b[0m\n",
      "\u001b[0;32m/srv/conda/envs/notebook/lib/python3.8/site-packages/distributed/client.py\u001b[0m in \u001b[0;36msync\u001b[0;34m(self, func, asynchronous, callback_timeout, *args, **kwargs)\u001b[0m\n\u001b[1;32m    830\u001b[0m             \u001b[0;32mreturn\u001b[0m \u001b[0mfuture\u001b[0m\u001b[0;34m\u001b[0m\u001b[0;34m\u001b[0m\u001b[0m\n\u001b[1;32m    831\u001b[0m         \u001b[0;32melse\u001b[0m\u001b[0;34m:\u001b[0m\u001b[0;34m\u001b[0m\u001b[0;34m\u001b[0m\u001b[0m\n\u001b[0;32m--> 832\u001b[0;31m             return sync(\n\u001b[0m\u001b[1;32m    833\u001b[0m                 \u001b[0mself\u001b[0m\u001b[0;34m.\u001b[0m\u001b[0mloop\u001b[0m\u001b[0;34m,\u001b[0m \u001b[0mfunc\u001b[0m\u001b[0;34m,\u001b[0m \u001b[0;34m*\u001b[0m\u001b[0margs\u001b[0m\u001b[0;34m,\u001b[0m \u001b[0mcallback_timeout\u001b[0m\u001b[0;34m=\u001b[0m\u001b[0mcallback_timeout\u001b[0m\u001b[0;34m,\u001b[0m \u001b[0;34m**\u001b[0m\u001b[0mkwargs\u001b[0m\u001b[0;34m\u001b[0m\u001b[0;34m\u001b[0m\u001b[0m\n\u001b[1;32m    834\u001b[0m             )\n",
      "\u001b[0;32m/srv/conda/envs/notebook/lib/python3.8/site-packages/distributed/utils.py\u001b[0m in \u001b[0;36msync\u001b[0;34m(loop, func, callback_timeout, *args, **kwargs)\u001b[0m\n\u001b[1;32m    335\u001b[0m     \u001b[0;32melse\u001b[0m\u001b[0;34m:\u001b[0m\u001b[0;34m\u001b[0m\u001b[0;34m\u001b[0m\u001b[0m\n\u001b[1;32m    336\u001b[0m         \u001b[0;32mwhile\u001b[0m \u001b[0;32mnot\u001b[0m \u001b[0me\u001b[0m\u001b[0;34m.\u001b[0m\u001b[0mis_set\u001b[0m\u001b[0;34m(\u001b[0m\u001b[0;34m)\u001b[0m\u001b[0;34m:\u001b[0m\u001b[0;34m\u001b[0m\u001b[0;34m\u001b[0m\u001b[0m\n\u001b[0;32m--> 337\u001b[0;31m             \u001b[0me\u001b[0m\u001b[0;34m.\u001b[0m\u001b[0mwait\u001b[0m\u001b[0;34m(\u001b[0m\u001b[0;36m10\u001b[0m\u001b[0;34m)\u001b[0m\u001b[0;34m\u001b[0m\u001b[0;34m\u001b[0m\u001b[0m\n\u001b[0m\u001b[1;32m    338\u001b[0m     \u001b[0;32mif\u001b[0m \u001b[0merror\u001b[0m\u001b[0;34m[\u001b[0m\u001b[0;36m0\u001b[0m\u001b[0;34m]\u001b[0m\u001b[0;34m:\u001b[0m\u001b[0;34m\u001b[0m\u001b[0;34m\u001b[0m\u001b[0m\n\u001b[1;32m    339\u001b[0m         \u001b[0mtyp\u001b[0m\u001b[0;34m,\u001b[0m \u001b[0mexc\u001b[0m\u001b[0;34m,\u001b[0m \u001b[0mtb\u001b[0m \u001b[0;34m=\u001b[0m \u001b[0merror\u001b[0m\u001b[0;34m[\u001b[0m\u001b[0;36m0\u001b[0m\u001b[0;34m]\u001b[0m\u001b[0;34m\u001b[0m\u001b[0;34m\u001b[0m\u001b[0m\n",
      "\u001b[0;32m/srv/conda/envs/notebook/lib/python3.8/threading.py\u001b[0m in \u001b[0;36mwait\u001b[0;34m(self, timeout)\u001b[0m\n\u001b[1;32m    556\u001b[0m             \u001b[0msignaled\u001b[0m \u001b[0;34m=\u001b[0m \u001b[0mself\u001b[0m\u001b[0;34m.\u001b[0m\u001b[0m_flag\u001b[0m\u001b[0;34m\u001b[0m\u001b[0;34m\u001b[0m\u001b[0m\n\u001b[1;32m    557\u001b[0m             \u001b[0;32mif\u001b[0m \u001b[0;32mnot\u001b[0m \u001b[0msignaled\u001b[0m\u001b[0;34m:\u001b[0m\u001b[0;34m\u001b[0m\u001b[0;34m\u001b[0m\u001b[0m\n\u001b[0;32m--> 558\u001b[0;31m                 \u001b[0msignaled\u001b[0m \u001b[0;34m=\u001b[0m \u001b[0mself\u001b[0m\u001b[0;34m.\u001b[0m\u001b[0m_cond\u001b[0m\u001b[0;34m.\u001b[0m\u001b[0mwait\u001b[0m\u001b[0;34m(\u001b[0m\u001b[0mtimeout\u001b[0m\u001b[0;34m)\u001b[0m\u001b[0;34m\u001b[0m\u001b[0;34m\u001b[0m\u001b[0m\n\u001b[0m\u001b[1;32m    559\u001b[0m             \u001b[0;32mreturn\u001b[0m \u001b[0msignaled\u001b[0m\u001b[0;34m\u001b[0m\u001b[0;34m\u001b[0m\u001b[0m\n\u001b[1;32m    560\u001b[0m \u001b[0;34m\u001b[0m\u001b[0m\n",
      "\u001b[0;32m/srv/conda/envs/notebook/lib/python3.8/threading.py\u001b[0m in \u001b[0;36mwait\u001b[0;34m(self, timeout)\u001b[0m\n\u001b[1;32m    304\u001b[0m             \u001b[0;32melse\u001b[0m\u001b[0;34m:\u001b[0m\u001b[0;34m\u001b[0m\u001b[0;34m\u001b[0m\u001b[0m\n\u001b[1;32m    305\u001b[0m                 \u001b[0;32mif\u001b[0m \u001b[0mtimeout\u001b[0m \u001b[0;34m>\u001b[0m \u001b[0;36m0\u001b[0m\u001b[0;34m:\u001b[0m\u001b[0;34m\u001b[0m\u001b[0;34m\u001b[0m\u001b[0m\n\u001b[0;32m--> 306\u001b[0;31m                     \u001b[0mgotit\u001b[0m \u001b[0;34m=\u001b[0m \u001b[0mwaiter\u001b[0m\u001b[0;34m.\u001b[0m\u001b[0macquire\u001b[0m\u001b[0;34m(\u001b[0m\u001b[0;32mTrue\u001b[0m\u001b[0;34m,\u001b[0m \u001b[0mtimeout\u001b[0m\u001b[0;34m)\u001b[0m\u001b[0;34m\u001b[0m\u001b[0;34m\u001b[0m\u001b[0m\n\u001b[0m\u001b[1;32m    307\u001b[0m                 \u001b[0;32melse\u001b[0m\u001b[0;34m:\u001b[0m\u001b[0;34m\u001b[0m\u001b[0;34m\u001b[0m\u001b[0m\n\u001b[1;32m    308\u001b[0m                     \u001b[0mgotit\u001b[0m \u001b[0;34m=\u001b[0m \u001b[0mwaiter\u001b[0m\u001b[0;34m.\u001b[0m\u001b[0macquire\u001b[0m\u001b[0;34m(\u001b[0m\u001b[0;32mFalse\u001b[0m\u001b[0;34m)\u001b[0m\u001b[0;34m\u001b[0m\u001b[0;34m\u001b[0m\u001b[0m\n",
      "\u001b[0;31mKeyboardInterrupt\u001b[0m: "
     ]
    }
   ],
   "source": [
    "%%time\n",
    "drhodt_ufunc_random.mean(dim=('time', 'Z')).compute()"
   ]
  },
  {
   "cell_type": "markdown",
   "metadata": {},
   "source": [
    "### 3. **`xr.apply_ufunc()`-`sum()`-model data**"
   ]
  },
  {
   "cell_type": "code",
   "execution_count": 18,
   "metadata": {},
   "outputs": [],
   "source": [
    "def dummy_function(a, b, c):\n",
    "    return a + b + c\n",
    "\n",
    "dummy_ufunc = xr.apply_ufunc(dummy_function, ds.SALT, ds.THETA, pref,\n",
    "                        output_dtypes=[ds.THETA.dtype],\n",
    "                        dask='parallelized').reset_coords(drop=True)"
   ]
  },
  {
   "cell_type": "code",
   "execution_count": 19,
   "metadata": {},
   "outputs": [
    {
     "data": {
      "text/html": [
       "<table>\n",
       "<tr>\n",
       "<td>\n",
       "<table>\n",
       "  <thead>\n",
       "    <tr><td> </td><th> Array </th><th> Chunk </th></tr>\n",
       "  </thead>\n",
       "  <tbody>\n",
       "    <tr><th> Bytes </th><td> 50.86 GB </td> <td> 116.12 MB </td></tr>\n",
       "    <tr><th> Shape </th><td> (438, 42, 320, 2160) </td> <td> (1, 42, 320, 2160) </td></tr>\n",
       "    <tr><th> Count </th><td> 2193 Tasks </td><td> 438 Chunks </td></tr>\n",
       "    <tr><th> Type </th><td> float32 </td><td> numpy.ndarray </td></tr>\n",
       "  </tbody>\n",
       "</table>\n",
       "</td>\n",
       "<td>\n",
       "<svg width=\"410\" height=\"107\" style=\"stroke:rgb(0,0,0);stroke-width:1\" >\n",
       "\n",
       "  <!-- Horizontal lines -->\n",
       "  <line x1=\"0\" y1=\"0\" x2=\"42\" y2=\"0\" style=\"stroke-width:2\" />\n",
       "  <line x1=\"0\" y1=\"25\" x2=\"42\" y2=\"25\" style=\"stroke-width:2\" />\n",
       "\n",
       "  <!-- Vertical lines -->\n",
       "  <line x1=\"0\" y1=\"0\" x2=\"0\" y2=\"25\" style=\"stroke-width:2\" />\n",
       "  <line x1=\"1\" y1=\"0\" x2=\"1\" y2=\"25\" />\n",
       "  <line x1=\"2\" y1=\"0\" x2=\"2\" y2=\"25\" />\n",
       "  <line x1=\"3\" y1=\"0\" x2=\"3\" y2=\"25\" />\n",
       "  <line x1=\"5\" y1=\"0\" x2=\"5\" y2=\"25\" />\n",
       "  <line x1=\"6\" y1=\"0\" x2=\"6\" y2=\"25\" />\n",
       "  <line x1=\"7\" y1=\"0\" x2=\"7\" y2=\"25\" />\n",
       "  <line x1=\"9\" y1=\"0\" x2=\"9\" y2=\"25\" />\n",
       "  <line x1=\"10\" y1=\"0\" x2=\"10\" y2=\"25\" />\n",
       "  <line x1=\"11\" y1=\"0\" x2=\"11\" y2=\"25\" />\n",
       "  <line x1=\"13\" y1=\"0\" x2=\"13\" y2=\"25\" />\n",
       "  <line x1=\"14\" y1=\"0\" x2=\"14\" y2=\"25\" />\n",
       "  <line x1=\"15\" y1=\"0\" x2=\"15\" y2=\"25\" />\n",
       "  <line x1=\"17\" y1=\"0\" x2=\"17\" y2=\"25\" />\n",
       "  <line x1=\"18\" y1=\"0\" x2=\"18\" y2=\"25\" />\n",
       "  <line x1=\"19\" y1=\"0\" x2=\"19\" y2=\"25\" />\n",
       "  <line x1=\"21\" y1=\"0\" x2=\"21\" y2=\"25\" />\n",
       "  <line x1=\"22\" y1=\"0\" x2=\"22\" y2=\"25\" />\n",
       "  <line x1=\"23\" y1=\"0\" x2=\"23\" y2=\"25\" />\n",
       "  <line x1=\"24\" y1=\"0\" x2=\"24\" y2=\"25\" />\n",
       "  <line x1=\"26\" y1=\"0\" x2=\"26\" y2=\"25\" />\n",
       "  <line x1=\"27\" y1=\"0\" x2=\"27\" y2=\"25\" />\n",
       "  <line x1=\"28\" y1=\"0\" x2=\"28\" y2=\"25\" />\n",
       "  <line x1=\"30\" y1=\"0\" x2=\"30\" y2=\"25\" />\n",
       "  <line x1=\"31\" y1=\"0\" x2=\"31\" y2=\"25\" />\n",
       "  <line x1=\"32\" y1=\"0\" x2=\"32\" y2=\"25\" />\n",
       "  <line x1=\"34\" y1=\"0\" x2=\"34\" y2=\"25\" />\n",
       "  <line x1=\"35\" y1=\"0\" x2=\"35\" y2=\"25\" />\n",
       "  <line x1=\"36\" y1=\"0\" x2=\"36\" y2=\"25\" />\n",
       "  <line x1=\"38\" y1=\"0\" x2=\"38\" y2=\"25\" />\n",
       "  <line x1=\"39\" y1=\"0\" x2=\"39\" y2=\"25\" />\n",
       "  <line x1=\"40\" y1=\"0\" x2=\"40\" y2=\"25\" />\n",
       "  <line x1=\"42\" y1=\"0\" x2=\"42\" y2=\"25\" style=\"stroke-width:2\" />\n",
       "\n",
       "  <!-- Colored Rectangle -->\n",
       "  <polygon points=\"0.0,0.0 42.06797690352046,0.0 42.06797690352046,25.412616514582485 0.0,25.412616514582485\" style=\"fill:#8B4903A0;stroke-width:0\"/>\n",
       "\n",
       "  <!-- Text -->\n",
       "  <text x=\"21.033988\" y=\"45.412617\" font-size=\"1.0rem\" font-weight=\"100\" text-anchor=\"middle\" >438</text>\n",
       "  <text x=\"62.067977\" y=\"12.706308\" font-size=\"1.0rem\" font-weight=\"100\" text-anchor=\"middle\" transform=\"rotate(0,62.067977,12.706308)\">1</text>\n",
       "\n",
       "\n",
       "  <!-- Horizontal lines -->\n",
       "  <line x1=\"112\" y1=\"0\" x2=\"128\" y2=\"16\" style=\"stroke-width:2\" />\n",
       "  <line x1=\"112\" y1=\"40\" x2=\"128\" y2=\"57\" style=\"stroke-width:2\" />\n",
       "\n",
       "  <!-- Vertical lines -->\n",
       "  <line x1=\"112\" y1=\"0\" x2=\"112\" y2=\"40\" style=\"stroke-width:2\" />\n",
       "  <line x1=\"128\" y1=\"16\" x2=\"128\" y2=\"57\" style=\"stroke-width:2\" />\n",
       "\n",
       "  <!-- Colored Rectangle -->\n",
       "  <polygon points=\"112.0,0.0 128.9838361244846,16.9838361244846 128.9838361244846,57.630074521663616 112.0,40.64623839717901\" style=\"fill:#ECB172A0;stroke-width:0\"/>\n",
       "\n",
       "  <!-- Horizontal lines -->\n",
       "  <line x1=\"112\" y1=\"0\" x2=\"232\" y2=\"0\" style=\"stroke-width:2\" />\n",
       "  <line x1=\"128\" y1=\"16\" x2=\"248\" y2=\"16\" style=\"stroke-width:2\" />\n",
       "\n",
       "  <!-- Vertical lines -->\n",
       "  <line x1=\"112\" y1=\"0\" x2=\"128\" y2=\"16\" style=\"stroke-width:2\" />\n",
       "  <line x1=\"232\" y1=\"0\" x2=\"248\" y2=\"16\" style=\"stroke-width:2\" />\n",
       "\n",
       "  <!-- Colored Rectangle -->\n",
       "  <polygon points=\"112.0,0.0 232.0,0.0 248.9838361244846,16.9838361244846 128.9838361244846,16.9838361244846\" style=\"fill:#ECB172A0;stroke-width:0\"/>\n",
       "\n",
       "  <!-- Horizontal lines -->\n",
       "  <line x1=\"128\" y1=\"16\" x2=\"248\" y2=\"16\" style=\"stroke-width:2\" />\n",
       "  <line x1=\"128\" y1=\"57\" x2=\"248\" y2=\"57\" style=\"stroke-width:2\" />\n",
       "\n",
       "  <!-- Vertical lines -->\n",
       "  <line x1=\"128\" y1=\"16\" x2=\"128\" y2=\"57\" style=\"stroke-width:2\" />\n",
       "  <line x1=\"248\" y1=\"16\" x2=\"248\" y2=\"57\" style=\"stroke-width:2\" />\n",
       "\n",
       "  <!-- Colored Rectangle -->\n",
       "  <polygon points=\"128.98383612448458,16.9838361244846 248.98383612448458,16.9838361244846 248.98383612448458,57.630074521663616 128.98383612448458,57.630074521663616\" style=\"fill:#ECB172A0;stroke-width:0\"/>\n",
       "\n",
       "  <!-- Text -->\n",
       "  <text x=\"188.983836\" y=\"77.630075\" font-size=\"1.0rem\" font-weight=\"100\" text-anchor=\"middle\" >2160</text>\n",
       "  <text x=\"268.983836\" y=\"37.306955\" font-size=\"1.0rem\" font-weight=\"100\" text-anchor=\"middle\" transform=\"rotate(-90,268.983836,37.306955)\">320</text>\n",
       "  <text x=\"110.491918\" y=\"69.138156\" font-size=\"1.0rem\" font-weight=\"100\" text-anchor=\"middle\" transform=\"rotate(45,110.491918,69.138156)\">42</text>\n",
       "</svg>\n",
       "</td>\n",
       "</tr>\n",
       "</table>"
      ],
      "text/plain": [
       "dask.array<transpose, shape=(438, 42, 320, 2160), dtype=float32, chunksize=(1, 42, 320, 2160), chunktype=numpy.ndarray>"
      ]
     },
     "execution_count": 19,
     "metadata": {},
     "output_type": "execute_result"
    }
   ],
   "source": [
    "dummy_ufunc.data"
   ]
  },
  {
   "cell_type": "code",
   "execution_count": 20,
   "metadata": {},
   "outputs": [
    {
     "data": {
      "text/html": [
       "<table style=\"border: 2px solid white;\">\n",
       "<tr>\n",
       "<td style=\"vertical-align: top; border: 0px solid white\">\n",
       "<h3 style=\"text-align: left;\">Client</h3>\n",
       "<ul style=\"text-align: left; list-style: none; margin: 0; padding: 0;\">\n",
       "  <li><b>Scheduler: </b>gateway://traefik-gcp-uscentral1b-prod-dask-gateway.prod:80/prod.2e6facec3e1a4491ae4001887caf03ba</li>\n",
       "  <li><b>Dashboard: </b><a href='/services/dask-gateway/clusters/prod.2e6facec3e1a4491ae4001887caf03ba/status' target='_blank'>/services/dask-gateway/clusters/prod.2e6facec3e1a4491ae4001887caf03ba/status</a></li>\n",
       "</ul>\n",
       "</td>\n",
       "<td style=\"vertical-align: top; border: 0px solid white\">\n",
       "<h3 style=\"text-align: left;\">Cluster</h3>\n",
       "<ul style=\"text-align: left; list-style:none; margin: 0; padding: 0;\">\n",
       "  <li><b>Workers: </b>30</li>\n",
       "  <li><b>Cores: </b>60</li>\n",
       "  <li><b>Memory: </b>257.70 GB</li>\n",
       "</ul>\n",
       "</td>\n",
       "</tr>\n",
       "</table>"
      ],
      "text/plain": [
       "<Client: 'tls://10.39.180.169:8786' processes=29 threads=58, memory=249.11 GB>"
      ]
     },
     "execution_count": 20,
     "metadata": {},
     "output_type": "execute_result"
    }
   ],
   "source": [
    "client.restart()"
   ]
  },
  {
   "cell_type": "code",
   "execution_count": 21,
   "metadata": {},
   "outputs": [
    {
     "name": "stdout",
     "output_type": "stream",
     "text": [
      "CPU times: user 342 ms, sys: 23.5 ms, total: 365 ms\n",
      "Wall time: 29.7 s\n"
     ]
    },
    {
     "data": {
      "text/html": [
       "<pre>&lt;xarray.DataArray (YC: 320, XC: 2160)&gt;\n",
       "array([[2000.    , 2000.    , 2000.    , ..., 2000.    , 2000.    ,\n",
       "        2000.    ],\n",
       "       [2000.    , 2000.    , 2000.    , ..., 2000.    , 2000.    ,\n",
       "        2000.    ],\n",
       "       [2000.    , 2000.    , 2000.    , ..., 2000.    , 2000.    ,\n",
       "        2000.    ],\n",
       "       ...,\n",
       "       [2042.6941, 2042.6805, 2042.6671, ..., 2041.8556, 2041.8425,\n",
       "        2041.8295],\n",
       "       [2042.7092, 2042.6958, 2042.6819, ..., 2041.8706, 2041.8578,\n",
       "        2041.8447],\n",
       "       [2042.6627, 2042.6493, 2042.6357, ..., 2041.8256, 2041.8121,\n",
       "        2041.7987]], dtype=float32)\n",
       "Coordinates:\n",
       "  * XC       (XC) float32 0.083333336 0.25 0.4166667 ... 359.75 359.9167\n",
       "  * YC       (YC) float32 -77.87497 -77.7083 -77.54163 ... -24.874966 -24.7083</pre>"
      ],
      "text/plain": [
       "<xarray.DataArray (YC: 320, XC: 2160)>\n",
       "array([[2000.    , 2000.    , 2000.    , ..., 2000.    , 2000.    ,\n",
       "        2000.    ],\n",
       "       [2000.    , 2000.    , 2000.    , ..., 2000.    , 2000.    ,\n",
       "        2000.    ],\n",
       "       [2000.    , 2000.    , 2000.    , ..., 2000.    , 2000.    ,\n",
       "        2000.    ],\n",
       "       ...,\n",
       "       [2042.6941, 2042.6805, 2042.6671, ..., 2041.8556, 2041.8425,\n",
       "        2041.8295],\n",
       "       [2042.7092, 2042.6958, 2042.6819, ..., 2041.8706, 2041.8578,\n",
       "        2041.8447],\n",
       "       [2042.6627, 2042.6493, 2042.6357, ..., 2041.8256, 2041.8121,\n",
       "        2041.7987]], dtype=float32)\n",
       "Coordinates:\n",
       "  * XC       (XC) float32 0.083333336 0.25 0.4166667 ... 359.75 359.9167\n",
       "  * YC       (YC) float32 -77.87497 -77.7083 -77.54163 ... -24.874966 -24.7083"
      ]
     },
     "execution_count": 21,
     "metadata": {},
     "output_type": "execute_result"
    }
   ],
   "source": [
    "%time dummy_ufunc.mean(dim=('time', 'Z')).compute()"
   ]
  },
  {
   "cell_type": "markdown",
   "metadata": {},
   "source": [
    "### 4. **`xr.apply_ufunc()`-`sum()`-randomized data**"
   ]
  },
  {
   "cell_type": "code",
   "execution_count": 22,
   "metadata": {},
   "outputs": [],
   "source": [
    "dummy_ufunc_random = xr.apply_ufunc(dummy_function, dummy_ds.salt, dummy_ds.theta, pref,\n",
    "                        output_dtypes=[dummy_ds.theta.dtype],\n",
    "                        dask='parallelized').reset_coords(drop=True)"
   ]
  },
  {
   "cell_type": "code",
   "execution_count": 23,
   "metadata": {},
   "outputs": [
    {
     "data": {
      "text/html": [
       "<table style=\"border: 2px solid white;\">\n",
       "<tr>\n",
       "<td style=\"vertical-align: top; border: 0px solid white\">\n",
       "<h3 style=\"text-align: left;\">Client</h3>\n",
       "<ul style=\"text-align: left; list-style: none; margin: 0; padding: 0;\">\n",
       "  <li><b>Scheduler: </b>gateway://traefik-gcp-uscentral1b-prod-dask-gateway.prod:80/prod.2e6facec3e1a4491ae4001887caf03ba</li>\n",
       "  <li><b>Dashboard: </b><a href='/services/dask-gateway/clusters/prod.2e6facec3e1a4491ae4001887caf03ba/status' target='_blank'>/services/dask-gateway/clusters/prod.2e6facec3e1a4491ae4001887caf03ba/status</a></li>\n",
       "</ul>\n",
       "</td>\n",
       "<td style=\"vertical-align: top; border: 0px solid white\">\n",
       "<h3 style=\"text-align: left;\">Cluster</h3>\n",
       "<ul style=\"text-align: left; list-style:none; margin: 0; padding: 0;\">\n",
       "  <li><b>Workers: </b>30</li>\n",
       "  <li><b>Cores: </b>60</li>\n",
       "  <li><b>Memory: </b>257.70 GB</li>\n",
       "</ul>\n",
       "</td>\n",
       "</tr>\n",
       "</table>"
      ],
      "text/plain": [
       "<Client: 'tls://10.39.180.169:8786' processes=0 threads=0, memory=0 B>"
      ]
     },
     "execution_count": 23,
     "metadata": {},
     "output_type": "execute_result"
    }
   ],
   "source": [
    "client.restart()"
   ]
  },
  {
   "cell_type": "code",
   "execution_count": 24,
   "metadata": {},
   "outputs": [
    {
     "name": "stdout",
     "output_type": "stream",
     "text": [
      "CPU times: user 523 ms, sys: 40.9 ms, total: 564 ms\n",
      "Wall time: 15.6 s\n"
     ]
    },
    {
     "data": {
      "text/html": [
       "<pre>&lt;xarray.DataArray (YC: 320, XC: 2160)&gt;\n",
       "array([[2001.005 , 2000.9963, 2001.0015, ..., 2000.9985, 2000.9965,\n",
       "        2001.0028],\n",
       "       [2001.0002, 2001.0011, 2000.9894, ..., 2001.0024, 2001.0028,\n",
       "        2001.0009],\n",
       "       [2000.9976, 2000.9994, 2000.9998, ..., 2001.0045, 2000.9994,\n",
       "        2001.0002],\n",
       "       ...,\n",
       "       [2000.9958, 2001.0022, 2001.0028, ..., 2000.9974, 2001.0011,\n",
       "        2001.0028],\n",
       "       [2000.995 , 2000.9994, 2000.9961, ..., 2000.998 , 2000.9926,\n",
       "        2000.9976],\n",
       "       [2000.9974, 2001.002 , 2001.0006, ..., 2001.0011, 2000.9989,\n",
       "        2000.9998]], dtype=float32)\n",
       "Dimensions without coordinates: YC, XC</pre>"
      ],
      "text/plain": [
       "<xarray.DataArray (YC: 320, XC: 2160)>\n",
       "array([[2001.005 , 2000.9963, 2001.0015, ..., 2000.9985, 2000.9965,\n",
       "        2001.0028],\n",
       "       [2001.0002, 2001.0011, 2000.9894, ..., 2001.0024, 2001.0028,\n",
       "        2001.0009],\n",
       "       [2000.9976, 2000.9994, 2000.9998, ..., 2001.0045, 2000.9994,\n",
       "        2001.0002],\n",
       "       ...,\n",
       "       [2000.9958, 2001.0022, 2001.0028, ..., 2000.9974, 2001.0011,\n",
       "        2001.0028],\n",
       "       [2000.995 , 2000.9994, 2000.9961, ..., 2000.998 , 2000.9926,\n",
       "        2000.9976],\n",
       "       [2000.9974, 2001.002 , 2001.0006, ..., 2001.0011, 2000.9989,\n",
       "        2000.9998]], dtype=float32)\n",
       "Dimensions without coordinates: YC, XC"
      ]
     },
     "execution_count": 24,
     "metadata": {},
     "output_type": "execute_result"
    }
   ],
   "source": [
    "%time dummy_ufunc_random.mean(dim=('time', 'Z')).compute()"
   ]
  },
  {
   "cell_type": "markdown",
   "metadata": {},
   "source": [
    "### 5. **`dsa.map_blocks()`-`fastjmd95`-model data**"
   ]
  },
  {
   "cell_type": "code",
   "execution_count": 25,
   "metadata": {},
   "outputs": [
    {
     "data": {
      "text/html": [
       "<table>\n",
       "<tr>\n",
       "<td>\n",
       "<table>\n",
       "  <thead>\n",
       "    <tr><td> </td><th> Array </th><th> Chunk </th></tr>\n",
       "  </thead>\n",
       "  <tbody>\n",
       "    <tr><th> Bytes </th><td> 50.86 GB </td> <td> 116.12 MB </td></tr>\n",
       "    <tr><th> Shape </th><td> (438, 42, 320, 2160) </td> <td> (1, 42, 320, 2160) </td></tr>\n",
       "    <tr><th> Count </th><td> 1316 Tasks </td><td> 438 Chunks </td></tr>\n",
       "    <tr><th> Type </th><td> float32 </td><td> numpy.ndarray </td></tr>\n",
       "  </tbody>\n",
       "</table>\n",
       "</td>\n",
       "<td>\n",
       "<svg width=\"410\" height=\"107\" style=\"stroke:rgb(0,0,0);stroke-width:1\" >\n",
       "\n",
       "  <!-- Horizontal lines -->\n",
       "  <line x1=\"0\" y1=\"0\" x2=\"42\" y2=\"0\" style=\"stroke-width:2\" />\n",
       "  <line x1=\"0\" y1=\"25\" x2=\"42\" y2=\"25\" style=\"stroke-width:2\" />\n",
       "\n",
       "  <!-- Vertical lines -->\n",
       "  <line x1=\"0\" y1=\"0\" x2=\"0\" y2=\"25\" style=\"stroke-width:2\" />\n",
       "  <line x1=\"1\" y1=\"0\" x2=\"1\" y2=\"25\" />\n",
       "  <line x1=\"2\" y1=\"0\" x2=\"2\" y2=\"25\" />\n",
       "  <line x1=\"3\" y1=\"0\" x2=\"3\" y2=\"25\" />\n",
       "  <line x1=\"5\" y1=\"0\" x2=\"5\" y2=\"25\" />\n",
       "  <line x1=\"6\" y1=\"0\" x2=\"6\" y2=\"25\" />\n",
       "  <line x1=\"7\" y1=\"0\" x2=\"7\" y2=\"25\" />\n",
       "  <line x1=\"9\" y1=\"0\" x2=\"9\" y2=\"25\" />\n",
       "  <line x1=\"10\" y1=\"0\" x2=\"10\" y2=\"25\" />\n",
       "  <line x1=\"11\" y1=\"0\" x2=\"11\" y2=\"25\" />\n",
       "  <line x1=\"13\" y1=\"0\" x2=\"13\" y2=\"25\" />\n",
       "  <line x1=\"14\" y1=\"0\" x2=\"14\" y2=\"25\" />\n",
       "  <line x1=\"15\" y1=\"0\" x2=\"15\" y2=\"25\" />\n",
       "  <line x1=\"17\" y1=\"0\" x2=\"17\" y2=\"25\" />\n",
       "  <line x1=\"18\" y1=\"0\" x2=\"18\" y2=\"25\" />\n",
       "  <line x1=\"19\" y1=\"0\" x2=\"19\" y2=\"25\" />\n",
       "  <line x1=\"21\" y1=\"0\" x2=\"21\" y2=\"25\" />\n",
       "  <line x1=\"22\" y1=\"0\" x2=\"22\" y2=\"25\" />\n",
       "  <line x1=\"23\" y1=\"0\" x2=\"23\" y2=\"25\" />\n",
       "  <line x1=\"24\" y1=\"0\" x2=\"24\" y2=\"25\" />\n",
       "  <line x1=\"26\" y1=\"0\" x2=\"26\" y2=\"25\" />\n",
       "  <line x1=\"27\" y1=\"0\" x2=\"27\" y2=\"25\" />\n",
       "  <line x1=\"28\" y1=\"0\" x2=\"28\" y2=\"25\" />\n",
       "  <line x1=\"30\" y1=\"0\" x2=\"30\" y2=\"25\" />\n",
       "  <line x1=\"31\" y1=\"0\" x2=\"31\" y2=\"25\" />\n",
       "  <line x1=\"32\" y1=\"0\" x2=\"32\" y2=\"25\" />\n",
       "  <line x1=\"34\" y1=\"0\" x2=\"34\" y2=\"25\" />\n",
       "  <line x1=\"35\" y1=\"0\" x2=\"35\" y2=\"25\" />\n",
       "  <line x1=\"36\" y1=\"0\" x2=\"36\" y2=\"25\" />\n",
       "  <line x1=\"38\" y1=\"0\" x2=\"38\" y2=\"25\" />\n",
       "  <line x1=\"39\" y1=\"0\" x2=\"39\" y2=\"25\" />\n",
       "  <line x1=\"40\" y1=\"0\" x2=\"40\" y2=\"25\" />\n",
       "  <line x1=\"42\" y1=\"0\" x2=\"42\" y2=\"25\" style=\"stroke-width:2\" />\n",
       "\n",
       "  <!-- Colored Rectangle -->\n",
       "  <polygon points=\"0.0,0.0 42.06797690352046,0.0 42.06797690352046,25.412616514582485 0.0,25.412616514582485\" style=\"fill:#8B4903A0;stroke-width:0\"/>\n",
       "\n",
       "  <!-- Text -->\n",
       "  <text x=\"21.033988\" y=\"45.412617\" font-size=\"1.0rem\" font-weight=\"100\" text-anchor=\"middle\" >438</text>\n",
       "  <text x=\"62.067977\" y=\"12.706308\" font-size=\"1.0rem\" font-weight=\"100\" text-anchor=\"middle\" transform=\"rotate(0,62.067977,12.706308)\">1</text>\n",
       "\n",
       "\n",
       "  <!-- Horizontal lines -->\n",
       "  <line x1=\"112\" y1=\"0\" x2=\"128\" y2=\"16\" style=\"stroke-width:2\" />\n",
       "  <line x1=\"112\" y1=\"40\" x2=\"128\" y2=\"57\" style=\"stroke-width:2\" />\n",
       "\n",
       "  <!-- Vertical lines -->\n",
       "  <line x1=\"112\" y1=\"0\" x2=\"112\" y2=\"40\" style=\"stroke-width:2\" />\n",
       "  <line x1=\"128\" y1=\"16\" x2=\"128\" y2=\"57\" style=\"stroke-width:2\" />\n",
       "\n",
       "  <!-- Colored Rectangle -->\n",
       "  <polygon points=\"112.0,0.0 128.9838361244846,16.9838361244846 128.9838361244846,57.630074521663616 112.0,40.64623839717901\" style=\"fill:#ECB172A0;stroke-width:0\"/>\n",
       "\n",
       "  <!-- Horizontal lines -->\n",
       "  <line x1=\"112\" y1=\"0\" x2=\"232\" y2=\"0\" style=\"stroke-width:2\" />\n",
       "  <line x1=\"128\" y1=\"16\" x2=\"248\" y2=\"16\" style=\"stroke-width:2\" />\n",
       "\n",
       "  <!-- Vertical lines -->\n",
       "  <line x1=\"112\" y1=\"0\" x2=\"128\" y2=\"16\" style=\"stroke-width:2\" />\n",
       "  <line x1=\"232\" y1=\"0\" x2=\"248\" y2=\"16\" style=\"stroke-width:2\" />\n",
       "\n",
       "  <!-- Colored Rectangle -->\n",
       "  <polygon points=\"112.0,0.0 232.0,0.0 248.9838361244846,16.9838361244846 128.9838361244846,16.9838361244846\" style=\"fill:#ECB172A0;stroke-width:0\"/>\n",
       "\n",
       "  <!-- Horizontal lines -->\n",
       "  <line x1=\"128\" y1=\"16\" x2=\"248\" y2=\"16\" style=\"stroke-width:2\" />\n",
       "  <line x1=\"128\" y1=\"57\" x2=\"248\" y2=\"57\" style=\"stroke-width:2\" />\n",
       "\n",
       "  <!-- Vertical lines -->\n",
       "  <line x1=\"128\" y1=\"16\" x2=\"128\" y2=\"57\" style=\"stroke-width:2\" />\n",
       "  <line x1=\"248\" y1=\"16\" x2=\"248\" y2=\"57\" style=\"stroke-width:2\" />\n",
       "\n",
       "  <!-- Colored Rectangle -->\n",
       "  <polygon points=\"128.98383612448458,16.9838361244846 248.98383612448458,16.9838361244846 248.98383612448458,57.630074521663616 128.98383612448458,57.630074521663616\" style=\"fill:#ECB172A0;stroke-width:0\"/>\n",
       "\n",
       "  <!-- Text -->\n",
       "  <text x=\"188.983836\" y=\"77.630075\" font-size=\"1.0rem\" font-weight=\"100\" text-anchor=\"middle\" >2160</text>\n",
       "  <text x=\"268.983836\" y=\"37.306955\" font-size=\"1.0rem\" font-weight=\"100\" text-anchor=\"middle\" transform=\"rotate(-90,268.983836,37.306955)\">320</text>\n",
       "  <text x=\"110.491918\" y=\"69.138156\" font-size=\"1.0rem\" font-weight=\"100\" text-anchor=\"middle\" transform=\"rotate(45,110.491918,69.138156)\">42</text>\n",
       "</svg>\n",
       "</td>\n",
       "</tr>\n",
       "</table>"
      ],
      "text/plain": [
       "dask.array<drhodt, shape=(438, 42, 320, 2160), dtype=float32, chunksize=(1, 42, 320, 2160), chunktype=numpy.ndarray>"
      ]
     },
     "execution_count": 25,
     "metadata": {},
     "output_type": "execute_result"
    }
   ],
   "source": [
    "drhodt_dsa_mapped = dsa.map_blocks(\n",
    "         jmd95numba.drhodt, ds.SALT.data, ds.THETA.data, pref,\n",
    "         dtype=ds.SALT.dtype)\n",
    "drhodt_dsa_mapped"
   ]
  },
  {
   "cell_type": "code",
   "execution_count": 26,
   "metadata": {},
   "outputs": [
    {
     "data": {
      "text/html": [
       "<table style=\"border: 2px solid white;\">\n",
       "<tr>\n",
       "<td style=\"vertical-align: top; border: 0px solid white\">\n",
       "<h3 style=\"text-align: left;\">Client</h3>\n",
       "<ul style=\"text-align: left; list-style: none; margin: 0; padding: 0;\">\n",
       "  <li><b>Scheduler: </b>gateway://traefik-gcp-uscentral1b-prod-dask-gateway.prod:80/prod.2e6facec3e1a4491ae4001887caf03ba</li>\n",
       "  <li><b>Dashboard: </b><a href='/services/dask-gateway/clusters/prod.2e6facec3e1a4491ae4001887caf03ba/status' target='_blank'>/services/dask-gateway/clusters/prod.2e6facec3e1a4491ae4001887caf03ba/status</a></li>\n",
       "</ul>\n",
       "</td>\n",
       "<td style=\"vertical-align: top; border: 0px solid white\">\n",
       "<h3 style=\"text-align: left;\">Cluster</h3>\n",
       "<ul style=\"text-align: left; list-style:none; margin: 0; padding: 0;\">\n",
       "  <li><b>Workers: </b>30</li>\n",
       "  <li><b>Cores: </b>60</li>\n",
       "  <li><b>Memory: </b>257.70 GB</li>\n",
       "</ul>\n",
       "</td>\n",
       "</tr>\n",
       "</table>"
      ],
      "text/plain": [
       "<Client: 'tls://10.39.180.169:8786' processes=0 threads=0, memory=0 B>"
      ]
     },
     "execution_count": 26,
     "metadata": {},
     "output_type": "execute_result"
    }
   ],
   "source": [
    "client.restart()"
   ]
  },
  {
   "cell_type": "code",
   "execution_count": 27,
   "metadata": {},
   "outputs": [
    {
     "name": "stdout",
     "output_type": "stream",
     "text": [
      "CPU times: user 211 ms, sys: 12.2 ms, total: 223 ms\n",
      "Wall time: 51.2 s\n"
     ]
    },
    {
     "data": {
      "text/plain": [
       "array([[-0.00478695, -0.00478695, -0.00478695, ..., -0.00478695,\n",
       "        -0.00478695, -0.00478695],\n",
       "       [-0.00478695, -0.00478695, -0.00478695, ..., -0.00478695,\n",
       "        -0.00478695, -0.00478695],\n",
       "       [-0.00478695, -0.00478695, -0.00478695, ..., -0.00478695,\n",
       "        -0.00478695, -0.00478695],\n",
       "       ...,\n",
       "       [-0.19176309, -0.19167164, -0.19157861, ..., -0.18894047,\n",
       "        -0.18885289, -0.18876377],\n",
       "       [-0.19187874, -0.1917867 , -0.19169256, ...,         nan,\n",
       "                nan, -0.18887939],\n",
       "       [-0.19151944, -0.19142567, -0.19133256, ..., -0.18870878,\n",
       "        -0.18861613, -0.18852244]], dtype=float32)"
      ]
     },
     "execution_count": 27,
     "metadata": {},
     "output_type": "execute_result"
    }
   ],
   "source": [
    "%time drhodt_dsa_mapped.mean(axis=(0, 1,)).compute()"
   ]
  },
  {
   "cell_type": "markdown",
   "metadata": {},
   "source": [
    "### 6. **`dsa.map_blocks()`-`fastjmd95`-randomized data**"
   ]
  },
  {
   "cell_type": "code",
   "execution_count": 29,
   "metadata": {},
   "outputs": [
    {
     "data": {
      "text/html": [
       "<table>\n",
       "<tr>\n",
       "<td>\n",
       "<table>\n",
       "  <thead>\n",
       "    <tr><td> </td><th> Array </th><th> Chunk </th></tr>\n",
       "  </thead>\n",
       "  <tbody>\n",
       "    <tr><th> Bytes </th><td> 50.86 GB </td> <td> 116.12 MB </td></tr>\n",
       "    <tr><th> Shape </th><td> (438, 42, 320, 2160) </td> <td> (1, 42, 320, 2160) </td></tr>\n",
       "    <tr><th> Count </th><td> 2190 Tasks </td><td> 438 Chunks </td></tr>\n",
       "    <tr><th> Type </th><td> float32 </td><td> numpy.ndarray </td></tr>\n",
       "  </tbody>\n",
       "</table>\n",
       "</td>\n",
       "<td>\n",
       "<svg width=\"410\" height=\"107\" style=\"stroke:rgb(0,0,0);stroke-width:1\" >\n",
       "\n",
       "  <!-- Horizontal lines -->\n",
       "  <line x1=\"0\" y1=\"0\" x2=\"42\" y2=\"0\" style=\"stroke-width:2\" />\n",
       "  <line x1=\"0\" y1=\"25\" x2=\"42\" y2=\"25\" style=\"stroke-width:2\" />\n",
       "\n",
       "  <!-- Vertical lines -->\n",
       "  <line x1=\"0\" y1=\"0\" x2=\"0\" y2=\"25\" style=\"stroke-width:2\" />\n",
       "  <line x1=\"1\" y1=\"0\" x2=\"1\" y2=\"25\" />\n",
       "  <line x1=\"2\" y1=\"0\" x2=\"2\" y2=\"25\" />\n",
       "  <line x1=\"3\" y1=\"0\" x2=\"3\" y2=\"25\" />\n",
       "  <line x1=\"5\" y1=\"0\" x2=\"5\" y2=\"25\" />\n",
       "  <line x1=\"6\" y1=\"0\" x2=\"6\" y2=\"25\" />\n",
       "  <line x1=\"7\" y1=\"0\" x2=\"7\" y2=\"25\" />\n",
       "  <line x1=\"9\" y1=\"0\" x2=\"9\" y2=\"25\" />\n",
       "  <line x1=\"10\" y1=\"0\" x2=\"10\" y2=\"25\" />\n",
       "  <line x1=\"11\" y1=\"0\" x2=\"11\" y2=\"25\" />\n",
       "  <line x1=\"13\" y1=\"0\" x2=\"13\" y2=\"25\" />\n",
       "  <line x1=\"14\" y1=\"0\" x2=\"14\" y2=\"25\" />\n",
       "  <line x1=\"15\" y1=\"0\" x2=\"15\" y2=\"25\" />\n",
       "  <line x1=\"17\" y1=\"0\" x2=\"17\" y2=\"25\" />\n",
       "  <line x1=\"18\" y1=\"0\" x2=\"18\" y2=\"25\" />\n",
       "  <line x1=\"19\" y1=\"0\" x2=\"19\" y2=\"25\" />\n",
       "  <line x1=\"21\" y1=\"0\" x2=\"21\" y2=\"25\" />\n",
       "  <line x1=\"22\" y1=\"0\" x2=\"22\" y2=\"25\" />\n",
       "  <line x1=\"23\" y1=\"0\" x2=\"23\" y2=\"25\" />\n",
       "  <line x1=\"24\" y1=\"0\" x2=\"24\" y2=\"25\" />\n",
       "  <line x1=\"26\" y1=\"0\" x2=\"26\" y2=\"25\" />\n",
       "  <line x1=\"27\" y1=\"0\" x2=\"27\" y2=\"25\" />\n",
       "  <line x1=\"28\" y1=\"0\" x2=\"28\" y2=\"25\" />\n",
       "  <line x1=\"30\" y1=\"0\" x2=\"30\" y2=\"25\" />\n",
       "  <line x1=\"31\" y1=\"0\" x2=\"31\" y2=\"25\" />\n",
       "  <line x1=\"32\" y1=\"0\" x2=\"32\" y2=\"25\" />\n",
       "  <line x1=\"34\" y1=\"0\" x2=\"34\" y2=\"25\" />\n",
       "  <line x1=\"35\" y1=\"0\" x2=\"35\" y2=\"25\" />\n",
       "  <line x1=\"36\" y1=\"0\" x2=\"36\" y2=\"25\" />\n",
       "  <line x1=\"38\" y1=\"0\" x2=\"38\" y2=\"25\" />\n",
       "  <line x1=\"39\" y1=\"0\" x2=\"39\" y2=\"25\" />\n",
       "  <line x1=\"40\" y1=\"0\" x2=\"40\" y2=\"25\" />\n",
       "  <line x1=\"42\" y1=\"0\" x2=\"42\" y2=\"25\" style=\"stroke-width:2\" />\n",
       "\n",
       "  <!-- Colored Rectangle -->\n",
       "  <polygon points=\"0.0,0.0 42.06797690352046,0.0 42.06797690352046,25.412616514582485 0.0,25.412616514582485\" style=\"fill:#8B4903A0;stroke-width:0\"/>\n",
       "\n",
       "  <!-- Text -->\n",
       "  <text x=\"21.033988\" y=\"45.412617\" font-size=\"1.0rem\" font-weight=\"100\" text-anchor=\"middle\" >438</text>\n",
       "  <text x=\"62.067977\" y=\"12.706308\" font-size=\"1.0rem\" font-weight=\"100\" text-anchor=\"middle\" transform=\"rotate(0,62.067977,12.706308)\">1</text>\n",
       "\n",
       "\n",
       "  <!-- Horizontal lines -->\n",
       "  <line x1=\"112\" y1=\"0\" x2=\"128\" y2=\"16\" style=\"stroke-width:2\" />\n",
       "  <line x1=\"112\" y1=\"40\" x2=\"128\" y2=\"57\" style=\"stroke-width:2\" />\n",
       "\n",
       "  <!-- Vertical lines -->\n",
       "  <line x1=\"112\" y1=\"0\" x2=\"112\" y2=\"40\" style=\"stroke-width:2\" />\n",
       "  <line x1=\"128\" y1=\"16\" x2=\"128\" y2=\"57\" style=\"stroke-width:2\" />\n",
       "\n",
       "  <!-- Colored Rectangle -->\n",
       "  <polygon points=\"112.0,0.0 128.9838361244846,16.9838361244846 128.9838361244846,57.630074521663616 112.0,40.64623839717901\" style=\"fill:#ECB172A0;stroke-width:0\"/>\n",
       "\n",
       "  <!-- Horizontal lines -->\n",
       "  <line x1=\"112\" y1=\"0\" x2=\"232\" y2=\"0\" style=\"stroke-width:2\" />\n",
       "  <line x1=\"128\" y1=\"16\" x2=\"248\" y2=\"16\" style=\"stroke-width:2\" />\n",
       "\n",
       "  <!-- Vertical lines -->\n",
       "  <line x1=\"112\" y1=\"0\" x2=\"128\" y2=\"16\" style=\"stroke-width:2\" />\n",
       "  <line x1=\"232\" y1=\"0\" x2=\"248\" y2=\"16\" style=\"stroke-width:2\" />\n",
       "\n",
       "  <!-- Colored Rectangle -->\n",
       "  <polygon points=\"112.0,0.0 232.0,0.0 248.9838361244846,16.9838361244846 128.9838361244846,16.9838361244846\" style=\"fill:#ECB172A0;stroke-width:0\"/>\n",
       "\n",
       "  <!-- Horizontal lines -->\n",
       "  <line x1=\"128\" y1=\"16\" x2=\"248\" y2=\"16\" style=\"stroke-width:2\" />\n",
       "  <line x1=\"128\" y1=\"57\" x2=\"248\" y2=\"57\" style=\"stroke-width:2\" />\n",
       "\n",
       "  <!-- Vertical lines -->\n",
       "  <line x1=\"128\" y1=\"16\" x2=\"128\" y2=\"57\" style=\"stroke-width:2\" />\n",
       "  <line x1=\"248\" y1=\"16\" x2=\"248\" y2=\"57\" style=\"stroke-width:2\" />\n",
       "\n",
       "  <!-- Colored Rectangle -->\n",
       "  <polygon points=\"128.98383612448458,16.9838361244846 248.98383612448458,16.9838361244846 248.98383612448458,57.630074521663616 128.98383612448458,57.630074521663616\" style=\"fill:#ECB172A0;stroke-width:0\"/>\n",
       "\n",
       "  <!-- Text -->\n",
       "  <text x=\"188.983836\" y=\"77.630075\" font-size=\"1.0rem\" font-weight=\"100\" text-anchor=\"middle\" >2160</text>\n",
       "  <text x=\"268.983836\" y=\"37.306955\" font-size=\"1.0rem\" font-weight=\"100\" text-anchor=\"middle\" transform=\"rotate(-90,268.983836,37.306955)\">320</text>\n",
       "  <text x=\"110.491918\" y=\"69.138156\" font-size=\"1.0rem\" font-weight=\"100\" text-anchor=\"middle\" transform=\"rotate(45,110.491918,69.138156)\">42</text>\n",
       "</svg>\n",
       "</td>\n",
       "</tr>\n",
       "</table>"
      ],
      "text/plain": [
       "dask.array<drhodt, shape=(438, 42, 320, 2160), dtype=float32, chunksize=(1, 42, 320, 2160), chunktype=numpy.ndarray>"
      ]
     },
     "execution_count": 29,
     "metadata": {},
     "output_type": "execute_result"
    }
   ],
   "source": [
    "drhodt_dsa_mapped_random = dsa.map_blocks(\n",
    "         jmd95numba.drhodt, salt, theta, pref,\n",
    "         dtype=salt.dtype)\n",
    "drhodt_dsa_mapped_random"
   ]
  },
  {
   "cell_type": "code",
   "execution_count": 28,
   "metadata": {},
   "outputs": [
    {
     "data": {
      "text/html": [
       "<table style=\"border: 2px solid white;\">\n",
       "<tr>\n",
       "<td style=\"vertical-align: top; border: 0px solid white\">\n",
       "<h3 style=\"text-align: left;\">Client</h3>\n",
       "<ul style=\"text-align: left; list-style: none; margin: 0; padding: 0;\">\n",
       "  <li><b>Scheduler: </b>gateway://traefik-gcp-uscentral1b-prod-dask-gateway.prod:80/prod.2e6facec3e1a4491ae4001887caf03ba</li>\n",
       "  <li><b>Dashboard: </b><a href='/services/dask-gateway/clusters/prod.2e6facec3e1a4491ae4001887caf03ba/status' target='_blank'>/services/dask-gateway/clusters/prod.2e6facec3e1a4491ae4001887caf03ba/status</a></li>\n",
       "</ul>\n",
       "</td>\n",
       "<td style=\"vertical-align: top; border: 0px solid white\">\n",
       "<h3 style=\"text-align: left;\">Cluster</h3>\n",
       "<ul style=\"text-align: left; list-style:none; margin: 0; padding: 0;\">\n",
       "  <li><b>Workers: </b>30</li>\n",
       "  <li><b>Cores: </b>60</li>\n",
       "  <li><b>Memory: </b>257.70 GB</li>\n",
       "</ul>\n",
       "</td>\n",
       "</tr>\n",
       "</table>"
      ],
      "text/plain": [
       "<Client: 'tls://10.39.180.169:8786' processes=1 threads=2, memory=8.59 GB>"
      ]
     },
     "execution_count": 28,
     "metadata": {},
     "output_type": "execute_result"
    }
   ],
   "source": [
    "client.restart()"
   ]
  },
  {
   "cell_type": "code",
   "execution_count": 30,
   "metadata": {},
   "outputs": [
    {
     "name": "stdout",
     "output_type": "stream",
     "text": [
      "CPU times: user 1.47 s, sys: 34.3 ms, total: 1.5 s\n",
      "Wall time: 1min 53s\n"
     ]
    },
    {
     "data": {
      "text/plain": [
       "array([[-0.01428219, -0.01421242, -0.01424168, ..., -0.01422201,\n",
       "        -0.0141891 , -0.01424628],\n",
       "       [-0.01424688, -0.01418688, -0.01413411, ..., -0.01424772,\n",
       "        -0.01423902, -0.01423039],\n",
       "       [-0.01421119, -0.01423629, -0.01420496, ..., -0.01424887,\n",
       "        -0.01419087, -0.01421663],\n",
       "       ...,\n",
       "       [-0.01419654, -0.01425527, -0.01425948, ..., -0.01418888,\n",
       "        -0.01424244, -0.0142272 ],\n",
       "       [-0.01418868, -0.01425183, -0.0141712 , ..., -0.01417595,\n",
       "        -0.01416688, -0.01419552],\n",
       "       [-0.01421727, -0.01423457, -0.01425139, ..., -0.01424719,\n",
       "        -0.01420887, -0.01422001]], dtype=float32)"
      ]
     },
     "execution_count": 30,
     "metadata": {},
     "output_type": "execute_result"
    }
   ],
   "source": [
    "%time drhodt_dsa_mapped_random.mean(axis=(0, 1,)).compute()"
   ]
  },
  {
   "cell_type": "markdown",
   "metadata": {},
   "source": [
    "### 7. **`dsa.map_blocks()`-`sum()`-model data**"
   ]
  },
  {
   "cell_type": "code",
   "execution_count": 32,
   "metadata": {},
   "outputs": [
    {
     "data": {
      "text/html": [
       "<table>\n",
       "<tr>\n",
       "<td>\n",
       "<table>\n",
       "  <thead>\n",
       "    <tr><td> </td><th> Array </th><th> Chunk </th></tr>\n",
       "  </thead>\n",
       "  <tbody>\n",
       "    <tr><th> Bytes </th><td> 50.86 GB </td> <td> 116.12 MB </td></tr>\n",
       "    <tr><th> Shape </th><td> (438, 42, 320, 2160) </td> <td> (1, 42, 320, 2160) </td></tr>\n",
       "    <tr><th> Count </th><td> 1316 Tasks </td><td> 438 Chunks </td></tr>\n",
       "    <tr><th> Type </th><td> float32 </td><td> numpy.ndarray </td></tr>\n",
       "  </tbody>\n",
       "</table>\n",
       "</td>\n",
       "<td>\n",
       "<svg width=\"410\" height=\"107\" style=\"stroke:rgb(0,0,0);stroke-width:1\" >\n",
       "\n",
       "  <!-- Horizontal lines -->\n",
       "  <line x1=\"0\" y1=\"0\" x2=\"42\" y2=\"0\" style=\"stroke-width:2\" />\n",
       "  <line x1=\"0\" y1=\"25\" x2=\"42\" y2=\"25\" style=\"stroke-width:2\" />\n",
       "\n",
       "  <!-- Vertical lines -->\n",
       "  <line x1=\"0\" y1=\"0\" x2=\"0\" y2=\"25\" style=\"stroke-width:2\" />\n",
       "  <line x1=\"1\" y1=\"0\" x2=\"1\" y2=\"25\" />\n",
       "  <line x1=\"2\" y1=\"0\" x2=\"2\" y2=\"25\" />\n",
       "  <line x1=\"3\" y1=\"0\" x2=\"3\" y2=\"25\" />\n",
       "  <line x1=\"5\" y1=\"0\" x2=\"5\" y2=\"25\" />\n",
       "  <line x1=\"6\" y1=\"0\" x2=\"6\" y2=\"25\" />\n",
       "  <line x1=\"7\" y1=\"0\" x2=\"7\" y2=\"25\" />\n",
       "  <line x1=\"9\" y1=\"0\" x2=\"9\" y2=\"25\" />\n",
       "  <line x1=\"10\" y1=\"0\" x2=\"10\" y2=\"25\" />\n",
       "  <line x1=\"11\" y1=\"0\" x2=\"11\" y2=\"25\" />\n",
       "  <line x1=\"13\" y1=\"0\" x2=\"13\" y2=\"25\" />\n",
       "  <line x1=\"14\" y1=\"0\" x2=\"14\" y2=\"25\" />\n",
       "  <line x1=\"15\" y1=\"0\" x2=\"15\" y2=\"25\" />\n",
       "  <line x1=\"17\" y1=\"0\" x2=\"17\" y2=\"25\" />\n",
       "  <line x1=\"18\" y1=\"0\" x2=\"18\" y2=\"25\" />\n",
       "  <line x1=\"19\" y1=\"0\" x2=\"19\" y2=\"25\" />\n",
       "  <line x1=\"21\" y1=\"0\" x2=\"21\" y2=\"25\" />\n",
       "  <line x1=\"22\" y1=\"0\" x2=\"22\" y2=\"25\" />\n",
       "  <line x1=\"23\" y1=\"0\" x2=\"23\" y2=\"25\" />\n",
       "  <line x1=\"24\" y1=\"0\" x2=\"24\" y2=\"25\" />\n",
       "  <line x1=\"26\" y1=\"0\" x2=\"26\" y2=\"25\" />\n",
       "  <line x1=\"27\" y1=\"0\" x2=\"27\" y2=\"25\" />\n",
       "  <line x1=\"28\" y1=\"0\" x2=\"28\" y2=\"25\" />\n",
       "  <line x1=\"30\" y1=\"0\" x2=\"30\" y2=\"25\" />\n",
       "  <line x1=\"31\" y1=\"0\" x2=\"31\" y2=\"25\" />\n",
       "  <line x1=\"32\" y1=\"0\" x2=\"32\" y2=\"25\" />\n",
       "  <line x1=\"34\" y1=\"0\" x2=\"34\" y2=\"25\" />\n",
       "  <line x1=\"35\" y1=\"0\" x2=\"35\" y2=\"25\" />\n",
       "  <line x1=\"36\" y1=\"0\" x2=\"36\" y2=\"25\" />\n",
       "  <line x1=\"38\" y1=\"0\" x2=\"38\" y2=\"25\" />\n",
       "  <line x1=\"39\" y1=\"0\" x2=\"39\" y2=\"25\" />\n",
       "  <line x1=\"40\" y1=\"0\" x2=\"40\" y2=\"25\" />\n",
       "  <line x1=\"42\" y1=\"0\" x2=\"42\" y2=\"25\" style=\"stroke-width:2\" />\n",
       "\n",
       "  <!-- Colored Rectangle -->\n",
       "  <polygon points=\"0.0,0.0 42.06797690352046,0.0 42.06797690352046,25.412616514582485 0.0,25.412616514582485\" style=\"fill:#8B4903A0;stroke-width:0\"/>\n",
       "\n",
       "  <!-- Text -->\n",
       "  <text x=\"21.033988\" y=\"45.412617\" font-size=\"1.0rem\" font-weight=\"100\" text-anchor=\"middle\" >438</text>\n",
       "  <text x=\"62.067977\" y=\"12.706308\" font-size=\"1.0rem\" font-weight=\"100\" text-anchor=\"middle\" transform=\"rotate(0,62.067977,12.706308)\">1</text>\n",
       "\n",
       "\n",
       "  <!-- Horizontal lines -->\n",
       "  <line x1=\"112\" y1=\"0\" x2=\"128\" y2=\"16\" style=\"stroke-width:2\" />\n",
       "  <line x1=\"112\" y1=\"40\" x2=\"128\" y2=\"57\" style=\"stroke-width:2\" />\n",
       "\n",
       "  <!-- Vertical lines -->\n",
       "  <line x1=\"112\" y1=\"0\" x2=\"112\" y2=\"40\" style=\"stroke-width:2\" />\n",
       "  <line x1=\"128\" y1=\"16\" x2=\"128\" y2=\"57\" style=\"stroke-width:2\" />\n",
       "\n",
       "  <!-- Colored Rectangle -->\n",
       "  <polygon points=\"112.0,0.0 128.9838361244846,16.9838361244846 128.9838361244846,57.630074521663616 112.0,40.64623839717901\" style=\"fill:#ECB172A0;stroke-width:0\"/>\n",
       "\n",
       "  <!-- Horizontal lines -->\n",
       "  <line x1=\"112\" y1=\"0\" x2=\"232\" y2=\"0\" style=\"stroke-width:2\" />\n",
       "  <line x1=\"128\" y1=\"16\" x2=\"248\" y2=\"16\" style=\"stroke-width:2\" />\n",
       "\n",
       "  <!-- Vertical lines -->\n",
       "  <line x1=\"112\" y1=\"0\" x2=\"128\" y2=\"16\" style=\"stroke-width:2\" />\n",
       "  <line x1=\"232\" y1=\"0\" x2=\"248\" y2=\"16\" style=\"stroke-width:2\" />\n",
       "\n",
       "  <!-- Colored Rectangle -->\n",
       "  <polygon points=\"112.0,0.0 232.0,0.0 248.9838361244846,16.9838361244846 128.9838361244846,16.9838361244846\" style=\"fill:#ECB172A0;stroke-width:0\"/>\n",
       "\n",
       "  <!-- Horizontal lines -->\n",
       "  <line x1=\"128\" y1=\"16\" x2=\"248\" y2=\"16\" style=\"stroke-width:2\" />\n",
       "  <line x1=\"128\" y1=\"57\" x2=\"248\" y2=\"57\" style=\"stroke-width:2\" />\n",
       "\n",
       "  <!-- Vertical lines -->\n",
       "  <line x1=\"128\" y1=\"16\" x2=\"128\" y2=\"57\" style=\"stroke-width:2\" />\n",
       "  <line x1=\"248\" y1=\"16\" x2=\"248\" y2=\"57\" style=\"stroke-width:2\" />\n",
       "\n",
       "  <!-- Colored Rectangle -->\n",
       "  <polygon points=\"128.98383612448458,16.9838361244846 248.98383612448458,16.9838361244846 248.98383612448458,57.630074521663616 128.98383612448458,57.630074521663616\" style=\"fill:#ECB172A0;stroke-width:0\"/>\n",
       "\n",
       "  <!-- Text -->\n",
       "  <text x=\"188.983836\" y=\"77.630075\" font-size=\"1.0rem\" font-weight=\"100\" text-anchor=\"middle\" >2160</text>\n",
       "  <text x=\"268.983836\" y=\"37.306955\" font-size=\"1.0rem\" font-weight=\"100\" text-anchor=\"middle\" transform=\"rotate(-90,268.983836,37.306955)\">320</text>\n",
       "  <text x=\"110.491918\" y=\"69.138156\" font-size=\"1.0rem\" font-weight=\"100\" text-anchor=\"middle\" transform=\"rotate(45,110.491918,69.138156)\">42</text>\n",
       "</svg>\n",
       "</td>\n",
       "</tr>\n",
       "</table>"
      ],
      "text/plain": [
       "dask.array<dummy_function, shape=(438, 42, 320, 2160), dtype=float32, chunksize=(1, 42, 320, 2160), chunktype=numpy.ndarray>"
      ]
     },
     "execution_count": 32,
     "metadata": {},
     "output_type": "execute_result"
    }
   ],
   "source": [
    "dummy_dsa_mapped = dsa.map_blocks(\n",
    "    dummy_function, ds.SALT.data, ds.THETA.data, pref,\n",
    "    dtype=ds.THETA.dtype)\n",
    "dummy_dsa_mapped"
   ]
  },
  {
   "cell_type": "code",
   "execution_count": 31,
   "metadata": {},
   "outputs": [
    {
     "data": {
      "text/html": [
       "<table style=\"border: 2px solid white;\">\n",
       "<tr>\n",
       "<td style=\"vertical-align: top; border: 0px solid white\">\n",
       "<h3 style=\"text-align: left;\">Client</h3>\n",
       "<ul style=\"text-align: left; list-style: none; margin: 0; padding: 0;\">\n",
       "  <li><b>Scheduler: </b>gateway://traefik-gcp-uscentral1b-prod-dask-gateway.prod:80/prod.2e6facec3e1a4491ae4001887caf03ba</li>\n",
       "  <li><b>Dashboard: </b><a href='/services/dask-gateway/clusters/prod.2e6facec3e1a4491ae4001887caf03ba/status' target='_blank'>/services/dask-gateway/clusters/prod.2e6facec3e1a4491ae4001887caf03ba/status</a></li>\n",
       "</ul>\n",
       "</td>\n",
       "<td style=\"vertical-align: top; border: 0px solid white\">\n",
       "<h3 style=\"text-align: left;\">Cluster</h3>\n",
       "<ul style=\"text-align: left; list-style:none; margin: 0; padding: 0;\">\n",
       "  <li><b>Workers: </b>30</li>\n",
       "  <li><b>Cores: </b>60</li>\n",
       "  <li><b>Memory: </b>257.70 GB</li>\n",
       "</ul>\n",
       "</td>\n",
       "</tr>\n",
       "</table>"
      ],
      "text/plain": [
       "<Client: 'tls://10.39.180.169:8786' processes=0 threads=0, memory=0 B>"
      ]
     },
     "execution_count": 31,
     "metadata": {},
     "output_type": "execute_result"
    }
   ],
   "source": [
    "client.restart()"
   ]
  },
  {
   "cell_type": "code",
   "execution_count": 33,
   "metadata": {},
   "outputs": [
    {
     "name": "stdout",
     "output_type": "stream",
     "text": [
      "CPU times: user 195 ms, sys: 12 ms, total: 207 ms\n",
      "Wall time: 27.7 s\n"
     ]
    },
    {
     "data": {
      "text/plain": [
       "array([[2000.    , 2000.    , 2000.    , ..., 2000.    , 2000.    ,\n",
       "        2000.    ],\n",
       "       [2000.    , 2000.    , 2000.    , ..., 2000.    , 2000.    ,\n",
       "        2000.    ],\n",
       "       [2000.    , 2000.    , 2000.    , ..., 2000.    , 2000.    ,\n",
       "        2000.    ],\n",
       "       ...,\n",
       "       [2042.6941, 2042.6805, 2042.6671, ..., 2041.8556, 2041.8425,\n",
       "        2041.8295],\n",
       "       [2042.7092, 2042.6958, 2042.6819, ..., 2041.8706, 2041.8578,\n",
       "        2041.8447],\n",
       "       [2042.6627, 2042.6493, 2042.6357, ..., 2041.8256, 2041.8121,\n",
       "        2041.7987]], dtype=float32)"
      ]
     },
     "execution_count": 33,
     "metadata": {},
     "output_type": "execute_result"
    }
   ],
   "source": [
    "%time dummy_dsa_mapped.mean(axis=(0, 1)).compute()"
   ]
  },
  {
   "cell_type": "markdown",
   "metadata": {},
   "source": [
    "### 8. **`dsa.map_blocks()`-`sum()`-randomized data**"
   ]
  },
  {
   "cell_type": "code",
   "execution_count": 35,
   "metadata": {},
   "outputs": [
    {
     "data": {
      "text/html": [
       "<table>\n",
       "<tr>\n",
       "<td>\n",
       "<table>\n",
       "  <thead>\n",
       "    <tr><td> </td><th> Array </th><th> Chunk </th></tr>\n",
       "  </thead>\n",
       "  <tbody>\n",
       "    <tr><th> Bytes </th><td> 50.86 GB </td> <td> 116.12 MB </td></tr>\n",
       "    <tr><th> Shape </th><td> (438, 42, 320, 2160) </td> <td> (1, 42, 320, 2160) </td></tr>\n",
       "    <tr><th> Count </th><td> 2190 Tasks </td><td> 438 Chunks </td></tr>\n",
       "    <tr><th> Type </th><td> float32 </td><td> numpy.ndarray </td></tr>\n",
       "  </tbody>\n",
       "</table>\n",
       "</td>\n",
       "<td>\n",
       "<svg width=\"410\" height=\"107\" style=\"stroke:rgb(0,0,0);stroke-width:1\" >\n",
       "\n",
       "  <!-- Horizontal lines -->\n",
       "  <line x1=\"0\" y1=\"0\" x2=\"42\" y2=\"0\" style=\"stroke-width:2\" />\n",
       "  <line x1=\"0\" y1=\"25\" x2=\"42\" y2=\"25\" style=\"stroke-width:2\" />\n",
       "\n",
       "  <!-- Vertical lines -->\n",
       "  <line x1=\"0\" y1=\"0\" x2=\"0\" y2=\"25\" style=\"stroke-width:2\" />\n",
       "  <line x1=\"1\" y1=\"0\" x2=\"1\" y2=\"25\" />\n",
       "  <line x1=\"2\" y1=\"0\" x2=\"2\" y2=\"25\" />\n",
       "  <line x1=\"3\" y1=\"0\" x2=\"3\" y2=\"25\" />\n",
       "  <line x1=\"5\" y1=\"0\" x2=\"5\" y2=\"25\" />\n",
       "  <line x1=\"6\" y1=\"0\" x2=\"6\" y2=\"25\" />\n",
       "  <line x1=\"7\" y1=\"0\" x2=\"7\" y2=\"25\" />\n",
       "  <line x1=\"9\" y1=\"0\" x2=\"9\" y2=\"25\" />\n",
       "  <line x1=\"10\" y1=\"0\" x2=\"10\" y2=\"25\" />\n",
       "  <line x1=\"11\" y1=\"0\" x2=\"11\" y2=\"25\" />\n",
       "  <line x1=\"13\" y1=\"0\" x2=\"13\" y2=\"25\" />\n",
       "  <line x1=\"14\" y1=\"0\" x2=\"14\" y2=\"25\" />\n",
       "  <line x1=\"15\" y1=\"0\" x2=\"15\" y2=\"25\" />\n",
       "  <line x1=\"17\" y1=\"0\" x2=\"17\" y2=\"25\" />\n",
       "  <line x1=\"18\" y1=\"0\" x2=\"18\" y2=\"25\" />\n",
       "  <line x1=\"19\" y1=\"0\" x2=\"19\" y2=\"25\" />\n",
       "  <line x1=\"21\" y1=\"0\" x2=\"21\" y2=\"25\" />\n",
       "  <line x1=\"22\" y1=\"0\" x2=\"22\" y2=\"25\" />\n",
       "  <line x1=\"23\" y1=\"0\" x2=\"23\" y2=\"25\" />\n",
       "  <line x1=\"24\" y1=\"0\" x2=\"24\" y2=\"25\" />\n",
       "  <line x1=\"26\" y1=\"0\" x2=\"26\" y2=\"25\" />\n",
       "  <line x1=\"27\" y1=\"0\" x2=\"27\" y2=\"25\" />\n",
       "  <line x1=\"28\" y1=\"0\" x2=\"28\" y2=\"25\" />\n",
       "  <line x1=\"30\" y1=\"0\" x2=\"30\" y2=\"25\" />\n",
       "  <line x1=\"31\" y1=\"0\" x2=\"31\" y2=\"25\" />\n",
       "  <line x1=\"32\" y1=\"0\" x2=\"32\" y2=\"25\" />\n",
       "  <line x1=\"34\" y1=\"0\" x2=\"34\" y2=\"25\" />\n",
       "  <line x1=\"35\" y1=\"0\" x2=\"35\" y2=\"25\" />\n",
       "  <line x1=\"36\" y1=\"0\" x2=\"36\" y2=\"25\" />\n",
       "  <line x1=\"38\" y1=\"0\" x2=\"38\" y2=\"25\" />\n",
       "  <line x1=\"39\" y1=\"0\" x2=\"39\" y2=\"25\" />\n",
       "  <line x1=\"40\" y1=\"0\" x2=\"40\" y2=\"25\" />\n",
       "  <line x1=\"42\" y1=\"0\" x2=\"42\" y2=\"25\" style=\"stroke-width:2\" />\n",
       "\n",
       "  <!-- Colored Rectangle -->\n",
       "  <polygon points=\"0.0,0.0 42.06797690352046,0.0 42.06797690352046,25.412616514582485 0.0,25.412616514582485\" style=\"fill:#8B4903A0;stroke-width:0\"/>\n",
       "\n",
       "  <!-- Text -->\n",
       "  <text x=\"21.033988\" y=\"45.412617\" font-size=\"1.0rem\" font-weight=\"100\" text-anchor=\"middle\" >438</text>\n",
       "  <text x=\"62.067977\" y=\"12.706308\" font-size=\"1.0rem\" font-weight=\"100\" text-anchor=\"middle\" transform=\"rotate(0,62.067977,12.706308)\">1</text>\n",
       "\n",
       "\n",
       "  <!-- Horizontal lines -->\n",
       "  <line x1=\"112\" y1=\"0\" x2=\"128\" y2=\"16\" style=\"stroke-width:2\" />\n",
       "  <line x1=\"112\" y1=\"40\" x2=\"128\" y2=\"57\" style=\"stroke-width:2\" />\n",
       "\n",
       "  <!-- Vertical lines -->\n",
       "  <line x1=\"112\" y1=\"0\" x2=\"112\" y2=\"40\" style=\"stroke-width:2\" />\n",
       "  <line x1=\"128\" y1=\"16\" x2=\"128\" y2=\"57\" style=\"stroke-width:2\" />\n",
       "\n",
       "  <!-- Colored Rectangle -->\n",
       "  <polygon points=\"112.0,0.0 128.9838361244846,16.9838361244846 128.9838361244846,57.630074521663616 112.0,40.64623839717901\" style=\"fill:#ECB172A0;stroke-width:0\"/>\n",
       "\n",
       "  <!-- Horizontal lines -->\n",
       "  <line x1=\"112\" y1=\"0\" x2=\"232\" y2=\"0\" style=\"stroke-width:2\" />\n",
       "  <line x1=\"128\" y1=\"16\" x2=\"248\" y2=\"16\" style=\"stroke-width:2\" />\n",
       "\n",
       "  <!-- Vertical lines -->\n",
       "  <line x1=\"112\" y1=\"0\" x2=\"128\" y2=\"16\" style=\"stroke-width:2\" />\n",
       "  <line x1=\"232\" y1=\"0\" x2=\"248\" y2=\"16\" style=\"stroke-width:2\" />\n",
       "\n",
       "  <!-- Colored Rectangle -->\n",
       "  <polygon points=\"112.0,0.0 232.0,0.0 248.9838361244846,16.9838361244846 128.9838361244846,16.9838361244846\" style=\"fill:#ECB172A0;stroke-width:0\"/>\n",
       "\n",
       "  <!-- Horizontal lines -->\n",
       "  <line x1=\"128\" y1=\"16\" x2=\"248\" y2=\"16\" style=\"stroke-width:2\" />\n",
       "  <line x1=\"128\" y1=\"57\" x2=\"248\" y2=\"57\" style=\"stroke-width:2\" />\n",
       "\n",
       "  <!-- Vertical lines -->\n",
       "  <line x1=\"128\" y1=\"16\" x2=\"128\" y2=\"57\" style=\"stroke-width:2\" />\n",
       "  <line x1=\"248\" y1=\"16\" x2=\"248\" y2=\"57\" style=\"stroke-width:2\" />\n",
       "\n",
       "  <!-- Colored Rectangle -->\n",
       "  <polygon points=\"128.98383612448458,16.9838361244846 248.98383612448458,16.9838361244846 248.98383612448458,57.630074521663616 128.98383612448458,57.630074521663616\" style=\"fill:#ECB172A0;stroke-width:0\"/>\n",
       "\n",
       "  <!-- Text -->\n",
       "  <text x=\"188.983836\" y=\"77.630075\" font-size=\"1.0rem\" font-weight=\"100\" text-anchor=\"middle\" >2160</text>\n",
       "  <text x=\"268.983836\" y=\"37.306955\" font-size=\"1.0rem\" font-weight=\"100\" text-anchor=\"middle\" transform=\"rotate(-90,268.983836,37.306955)\">320</text>\n",
       "  <text x=\"110.491918\" y=\"69.138156\" font-size=\"1.0rem\" font-weight=\"100\" text-anchor=\"middle\" transform=\"rotate(45,110.491918,69.138156)\">42</text>\n",
       "</svg>\n",
       "</td>\n",
       "</tr>\n",
       "</table>"
      ],
      "text/plain": [
       "dask.array<dummy_function, shape=(438, 42, 320, 2160), dtype=float32, chunksize=(1, 42, 320, 2160), chunktype=numpy.ndarray>"
      ]
     },
     "execution_count": 35,
     "metadata": {},
     "output_type": "execute_result"
    }
   ],
   "source": [
    "dummy_dsa_mapped_random = dsa.map_blocks(\n",
    "                          dummy_function, salt, theta, pref,\n",
    "                          dtype=theta.dtype)\n",
    "dummy_dsa_mapped_random"
   ]
  },
  {
   "cell_type": "code",
   "execution_count": 34,
   "metadata": {},
   "outputs": [
    {
     "data": {
      "text/html": [
       "<table style=\"border: 2px solid white;\">\n",
       "<tr>\n",
       "<td style=\"vertical-align: top; border: 0px solid white\">\n",
       "<h3 style=\"text-align: left;\">Client</h3>\n",
       "<ul style=\"text-align: left; list-style: none; margin: 0; padding: 0;\">\n",
       "  <li><b>Scheduler: </b>gateway://traefik-gcp-uscentral1b-prod-dask-gateway.prod:80/prod.2e6facec3e1a4491ae4001887caf03ba</li>\n",
       "  <li><b>Dashboard: </b><a href='/services/dask-gateway/clusters/prod.2e6facec3e1a4491ae4001887caf03ba/status' target='_blank'>/services/dask-gateway/clusters/prod.2e6facec3e1a4491ae4001887caf03ba/status</a></li>\n",
       "</ul>\n",
       "</td>\n",
       "<td style=\"vertical-align: top; border: 0px solid white\">\n",
       "<h3 style=\"text-align: left;\">Cluster</h3>\n",
       "<ul style=\"text-align: left; list-style:none; margin: 0; padding: 0;\">\n",
       "  <li><b>Workers: </b>30</li>\n",
       "  <li><b>Cores: </b>60</li>\n",
       "  <li><b>Memory: </b>257.70 GB</li>\n",
       "</ul>\n",
       "</td>\n",
       "</tr>\n",
       "</table>"
      ],
      "text/plain": [
       "<Client: 'tls://10.39.180.169:8786' processes=25 threads=50, memory=214.75 GB>"
      ]
     },
     "execution_count": 34,
     "metadata": {},
     "output_type": "execute_result"
    }
   ],
   "source": [
    "client.restart()"
   ]
  },
  {
   "cell_type": "code",
   "execution_count": 36,
   "metadata": {},
   "outputs": [
    {
     "name": "stdout",
     "output_type": "stream",
     "text": [
      "CPU times: user 336 ms, sys: 21 ms, total: 357 ms\n",
      "Wall time: 13.3 s\n"
     ]
    },
    {
     "data": {
      "text/plain": [
       "array([[2001.005 , 2000.9963, 2001.0015, ..., 2000.9985, 2000.9965,\n",
       "        2001.0028],\n",
       "       [2001.0002, 2001.0011, 2000.9894, ..., 2001.0024, 2001.0028,\n",
       "        2001.0009],\n",
       "       [2000.9976, 2000.9994, 2000.9998, ..., 2001.0045, 2000.9994,\n",
       "        2001.0002],\n",
       "       ...,\n",
       "       [2000.9958, 2001.0022, 2001.0028, ..., 2000.9974, 2001.0011,\n",
       "        2001.0028],\n",
       "       [2000.995 , 2000.9994, 2000.9961, ..., 2000.998 , 2000.9926,\n",
       "        2000.9976],\n",
       "       [2000.9974, 2001.002 , 2001.0006, ..., 2001.0011, 2000.9989,\n",
       "        2000.9998]], dtype=float32)"
      ]
     },
     "execution_count": 36,
     "metadata": {},
     "output_type": "execute_result"
    }
   ],
   "source": [
    "%time dummy_dsa_mapped_random.mean(axis=(0,1)).compute()"
   ]
  },
  {
   "cell_type": "markdown",
   "metadata": {},
   "source": [
    "### 9. **`xr.map_blocks()`-`fastjmd95`-model data**"
   ]
  },
  {
   "cell_type": "code",
   "execution_count": null,
   "metadata": {},
   "outputs": [],
   "source": [
    "drhodt_xr_mapped = ds.map_blocks(\n",
    "                   jmd95numba.drhodt, \n",
    "                   args=[ds.SALT, ds.THETA, pref], \n",
    "                   template=ds)\n",
    "drhodt_xr_mapped"
   ]
  },
  {
   "cell_type": "code",
   "execution_count": null,
   "metadata": {},
   "outputs": [],
   "source": [
    "%time drhodt_xr_mapped.THETA.mean(('time', 'Z')).compute()"
   ]
  },
  {
   "cell_type": "markdown",
   "metadata": {},
   "source": [
    "### 10. **`xr.map_blocks()`-`fastjmd95`-randomized data**"
   ]
  },
  {
   "cell_type": "code",
   "execution_count": null,
   "metadata": {},
   "outputs": [],
   "source": [
    "drhodt_xr_mapped_random = xr.map_blocks(\n",
    "         jmd95numba.drhodt, salt, theta, pref,\n",
    "         dtype=salt.dtype)\n",
    "drhodt_xr_random"
   ]
  },
  {
   "cell_type": "markdown",
   "metadata": {},
   "source": [
    "### 11. **`xr.map_blocks()`-`sum()`-model data**"
   ]
  },
  {
   "cell_type": "code",
   "execution_count": null,
   "metadata": {},
   "outputs": [],
   "source": [
    "dummy_xr_mapped = xr.map_blocks(\n",
    "                   jmd95numba.drhodt, ds.SALT, ds.THETA, pref,\n",
    "                   dtype=ds.SALT.dtype)\n",
    "dummy_xr_mapped"
   ]
  },
  {
   "cell_type": "markdown",
   "metadata": {},
   "source": [
    "### 12. **`xr.map_blocks()`-`sum()`-randomized data**"
   ]
  },
  {
   "cell_type": "code",
   "execution_count": null,
   "metadata": {},
   "outputs": [],
   "source": [
    "dummy_xr_mapped_random = xr.map_blocks(\n",
    "                   dummy_function, salt, theta, pref,\n",
    "                   dtype=salt.dtype)\n",
    "dummy_xr_mapped_random"
   ]
  },
  {
   "cell_type": "code",
   "execution_count": null,
   "metadata": {},
   "outputs": [],
   "source": []
  }
 ],
 "metadata": {
  "kernelspec": {
   "display_name": "Python 3",
   "language": "python",
   "name": "python3"
  },
  "language_info": {
   "codemirror_mode": {
    "name": "ipython",
    "version": 3
   },
   "file_extension": ".py",
   "mimetype": "text/x-python",
   "name": "python",
   "nbconvert_exporter": "python",
   "pygments_lexer": "ipython3",
   "version": "3.8.6"
  }
 },
 "nbformat": 4,
 "nbformat_minor": 4
}
