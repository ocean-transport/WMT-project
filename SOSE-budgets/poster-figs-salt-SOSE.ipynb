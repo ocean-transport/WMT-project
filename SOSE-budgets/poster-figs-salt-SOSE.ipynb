{
 "cells": [
  {
   "cell_type": "markdown",
   "metadata": {},
   "source": [
    "# Poster Figs nb for SOSE"
   ]
  },
  {
   "cell_type": "markdown",
   "metadata": {},
   "source": [
    "## 1. First create datasets for WG variable"
   ]
  },
  {
   "cell_type": "code",
   "execution_count": 1,
   "metadata": {},
   "outputs": [
    {
     "data": {
      "text/html": [
       "<table style=\"border: 2px solid white;\">\n",
       "<tr>\n",
       "<td style=\"vertical-align: top; border: 0px solid white\">\n",
       "<h3 style=\"text-align: left;\">Client</h3>\n",
       "<ul style=\"text-align: left; list-style: none; margin: 0; padding: 0;\">\n",
       "  <li><b>Scheduler: </b>tcp://10.32.16.186:33841</li>\n",
       "  <li><b>Dashboard: </b><a href='/user/0000-0002-8176-9465/proxy/8787/status' target='_blank'>/user/0000-0002-8176-9465/proxy/8787/status</a>\n",
       "</ul>\n",
       "</td>\n",
       "<td style=\"vertical-align: top; border: 0px solid white\">\n",
       "<h3 style=\"text-align: left;\">Cluster</h3>\n",
       "<ul style=\"text-align: left; list-style:none; margin: 0; padding: 0;\">\n",
       "  <li><b>Workers: </b>30</li>\n",
       "  <li><b>Cores: </b>60</li>\n",
       "  <li><b>Memory: </b>345.00 GB</li>\n",
       "</ul>\n",
       "</td>\n",
       "</tr>\n",
       "</table>"
      ],
      "text/plain": [
       "<Client: 'tcp://10.32.16.186:33841' processes=30 threads=60, memory=345.00 GB>"
      ]
     },
     "execution_count": 1,
     "metadata": {},
     "output_type": "execute_result"
    }
   ],
   "source": [
    "from dask.distributed import Client\n",
    "\n",
    "client = Client(\"tcp://10.32.16.186:33841\")\n",
    "client"
   ]
  },
  {
   "cell_type": "code",
   "execution_count": 2,
   "metadata": {},
   "outputs": [
    {
     "name": "stderr",
     "output_type": "stream",
     "text": [
      "/srv/conda/envs/notebook/lib/python3.7/site-packages/intake/source/discovery.py:136: FutureWarning: The drivers ['geojson', 'postgis', 'shapefile', 'spatialite'] do not specify entry_points and were only discovered via a package scan. This may break in a future release of intake. The packages should be updated.\n",
      "  FutureWarning)\n"
     ]
    }
   ],
   "source": [
    "import xarray as xr\n",
    "from matplotlib import pyplot as plt\n",
    "import gcsfs\n",
    "import dask\n",
    "import dask.array as dsa\n",
    "import numpy as np\n",
    "import intake\n",
    "import fsspec\n",
    "import xmitgcm\n",
    "from xhistogram.xarray import histogram\n",
    "from xmitgcm.llcreader.llcmodel import faces_dataset_to_latlon\n",
    "%matplotlib inline"
   ]
  },
  {
   "cell_type": "code",
   "execution_count": 3,
   "metadata": {},
   "outputs": [
    {
     "data": {
      "text/plain": [
       "<xarray.core.options.set_options at 0x7f2a12baba58>"
      ]
     },
     "execution_count": 3,
     "metadata": {},
     "output_type": "execute_result"
    }
   ],
   "source": [
    "xr.set_options(display_style='text')"
   ]
  },
  {
   "cell_type": "code",
   "execution_count": 4,
   "metadata": {},
   "outputs": [],
   "source": [
    "#WG boundaries (65˚W, 30˚E; 80˚S, 62˚S)\n",
    "#WG model's boundaries (-77.87497˚S, -62.041634˚S; 295.08334W, 30.083334E)\n",
    "lower_lat = 0\n",
    "upper_lat = 95\n",
    "left_lon =  310\n",
    "right_lon = 880\n",
    "XG_left = 309\n",
    "XG_right = 881\n",
    "YG_upper = 96"
   ]
  },
  {
   "cell_type": "code",
   "execution_count": 5,
   "metadata": {},
   "outputs": [],
   "source": [
    "#set the boundaries\n",
    "lat_range = dict(YC=slice(lower_lat, upper_lat), YG=slice(lower_lat, YG_upper))\n",
    "lon_range = dict(XC=slice(left_lon, right_lon), XG=slice(left_lon, XG_right))"
   ]
  },
  {
   "cell_type": "code",
   "execution_count": 6,
   "metadata": {},
   "outputs": [],
   "source": [
    "#set the boundaries\n",
    "lat_range_noface = dict(YC=slice(lower_lat, upper_lat))\n",
    "lon_range_noface = dict(XC=slice(left_lon, right_lon))"
   ]
  },
  {
   "cell_type": "raw",
   "metadata": {},
   "source": [
    "base_dir = '/home/jovyan/WMT/SOSE-budgets/datasets/'\n",
    "coords = xr.open_dataset(f'{base_dir}/coords_wg.nc')\n",
    "ds_tns = xr.open_dataset(f'{base_dir}/ds_tns.nc')\n",
    "ds_slt = xr.open_dataset(f'{base_dir}/ds_slt_wg.nc')\n",
    "ds_velocity = xr.open_dataset(f'{base_dir}/ds_vel.nc')\n",
    "ds = xr.merge([ds_tns, ds_slt, ds_velocity])\n",
    "ds"
   ]
  },
  {
   "cell_type": "code",
   "execution_count": 7,
   "metadata": {},
   "outputs": [
    {
     "data": {
      "text/html": [
       "<pre>&lt;xarray.Dataset&gt;\n",
       "Dimensions:                   (XC: 570, XG: 571, YC: 95, YG: 96, Z: 42, Zl: 42, time: 438)\n",
       "Coordinates:\n",
       "  * XC                        (XC) float32 295.08334 295.25 ... 29.75 29.916668\n",
       "  * YC                        (YC) float32 -77.87497 -77.7083 ... -62.2083\n",
       "  * Z                         (Z) float32 -5.0 -15.5 -27.0 ... -5325.0 -5575.0\n",
       "  * time                      (time) datetime64[ns] 2005-01-06 ... 2010-12-31\n",
       "  * XG                        (XG) float32 295.0 295.1667 ... 29.833334 30.0\n",
       "  * YG                        (YG) float32 -77.9583 -77.79163 ... -62.124966\n",
       "  * Zl                        (Zl) float32 0.0 -10.0 -21.0 ... -5200.0 -5450.0\n",
       "Data variables:\n",
       "    THETA                     (time, Z, YC, XC) float32 ...\n",
       "    SALT                      (time, Z, YC, XC) float32 ...\n",
       "    ETAN                      (time, YC, XC) float32 ...\n",
       "    conv_horiz_adv_flux_SLT   (time, Z, YC, XC) float32 ...\n",
       "    conv_horiz_diff_flux_SLT  (time, Z, YC, XC) float32 ...\n",
       "    conv_vert_adv_flux_SLT    (time, Z, YC, XC) float32 ...\n",
       "    conv_vert_diff_flux_SLT   (time, Z, YC, XC) float32 ...\n",
       "    lin_fs_correction_SLT     (time, YC, XC) float32 ...\n",
       "    surface_flux_conv_SLT     (time, YC, XC) float32 ...\n",
       "    total_tendency_SLT_truth  (time, Z, YC, XC) float64 ...\n",
       "    UVEL                      (time, Z, YC, XG) float32 ...\n",
       "    VVEL                      (time, Z, YG, XC) float32 ...\n",
       "    WVEL                      (time, Zl, YC, XC) float32 ...\n",
       "    WTHMASS                   (time, Zl, YC, XC) float32 ...\n",
       "    WSLTMASS                  (time, Zl, YC, XC) float32 ...\n",
       "    surForcS                  (time, YC, XC) float32 ...\n",
       "    surForcT                  (time, YC, XC) float32 ...</pre>"
      ],
      "text/plain": [
       "<xarray.Dataset>\n",
       "Dimensions:                   (XC: 570, XG: 571, YC: 95, YG: 96, Z: 42, Zl: 42, time: 438)\n",
       "Coordinates:\n",
       "  * XC                        (XC) float32 295.08334 295.25 ... 29.75 29.916668\n",
       "  * YC                        (YC) float32 -77.87497 -77.7083 ... -62.2083\n",
       "  * Z                         (Z) float32 -5.0 -15.5 -27.0 ... -5325.0 -5575.0\n",
       "  * time                      (time) datetime64[ns] 2005-01-06 ... 2010-12-31\n",
       "  * XG                        (XG) float32 295.0 295.1667 ... 29.833334 30.0\n",
       "  * YG                        (YG) float32 -77.9583 -77.79163 ... -62.124966\n",
       "  * Zl                        (Zl) float32 0.0 -10.0 -21.0 ... -5200.0 -5450.0\n",
       "Data variables:\n",
       "    THETA                     (time, Z, YC, XC) float32 ...\n",
       "    SALT                      (time, Z, YC, XC) float32 ...\n",
       "    ETAN                      (time, YC, XC) float32 ...\n",
       "    conv_horiz_adv_flux_SLT   (time, Z, YC, XC) float32 ...\n",
       "    conv_horiz_diff_flux_SLT  (time, Z, YC, XC) float32 ...\n",
       "    conv_vert_adv_flux_SLT    (time, Z, YC, XC) float32 ...\n",
       "    conv_vert_diff_flux_SLT   (time, Z, YC, XC) float32 ...\n",
       "    lin_fs_correction_SLT     (time, YC, XC) float32 ...\n",
       "    surface_flux_conv_SLT     (time, YC, XC) float32 ...\n",
       "    total_tendency_SLT_truth  (time, Z, YC, XC) float64 ...\n",
       "    UVEL                      (time, Z, YC, XG) float32 ...\n",
       "    VVEL                      (time, Z, YG, XC) float32 ...\n",
       "    WVEL                      (time, Zl, YC, XC) float32 ...\n",
       "    WTHMASS                   (time, Zl, YC, XC) float32 ...\n",
       "    WSLTMASS                  (time, Zl, YC, XC) float32 ...\n",
       "    surForcS                  (time, YC, XC) float32 ...\n",
       "    surForcT                  (time, YC, XC) float32 ..."
      ]
     },
     "execution_count": 7,
     "metadata": {},
     "output_type": "execute_result"
    }
   ],
   "source": [
    "base_dir = '/home/jovyan/WMT/SOSE-budgets/datasets/'\n",
    "coords = xr.open_dataset('/home/jovyan/WMT/SOSE-budgets/datasets/coords_wg.nc')\n",
    "ds_tns = xr.open_dataset('/home/jovyan/WMT/SOSE-budgets/datasets/ds_tns.nc')\n",
    "ds_slt = xr.open_dataset('/home/jovyan/WMT/SOSE-budgets/datasets/ds_slt_wg.nc')\n",
    "ds_velocity = xr.open_dataset('/home/jovyan/WMT/SOSE-budgets/datasets/ds_vel.nc')\n",
    "ds = xr.merge([ds_tns, ds_slt, ds_velocity])\n",
    "ds"
   ]
  },
  {
   "cell_type": "code",
   "execution_count": 8,
   "metadata": {},
   "outputs": [],
   "source": [
    "coords_no_polynya = coords.isel(time=slice(72,  -1))\n",
    "ds_no_polynya = ds.isel(time=slice(72,  -1))"
   ]
  },
  {
   "cell_type": "code",
   "execution_count": 9,
   "metadata": {},
   "outputs": [
    {
     "data": {
      "text/html": [
       "<pre>&lt;xarray.Dataset&gt;\n",
       "Dimensions:                   (XC: 570, XG: 571, YC: 95, YG: 96, Z: 42, Zl: 42, time: 365)\n",
       "Coordinates:\n",
       "  * XC                        (XC) float32 295.08334 295.25 ... 29.75 29.916668\n",
       "  * YC                        (YC) float32 -77.87497 -77.7083 ... -62.2083\n",
       "  * Z                         (Z) float32 -5.0 -15.5 -27.0 ... -5325.0 -5575.0\n",
       "  * time                      (time) datetime64[ns] 2006-01-01 ... 2010-12-26\n",
       "  * XG                        (XG) float32 295.0 295.1667 ... 29.833334 30.0\n",
       "  * YG                        (YG) float32 -77.9583 -77.79163 ... -62.124966\n",
       "  * Zl                        (Zl) float32 0.0 -10.0 -21.0 ... -5200.0 -5450.0\n",
       "Data variables:\n",
       "    THETA                     (time, Z, YC, XC) float32 ...\n",
       "    SALT                      (time, Z, YC, XC) float32 ...\n",
       "    ETAN                      (time, YC, XC) float32 ...\n",
       "    conv_horiz_adv_flux_SLT   (time, Z, YC, XC) float32 ...\n",
       "    conv_horiz_diff_flux_SLT  (time, Z, YC, XC) float32 ...\n",
       "    conv_vert_adv_flux_SLT    (time, Z, YC, XC) float32 ...\n",
       "    conv_vert_diff_flux_SLT   (time, Z, YC, XC) float32 ...\n",
       "    lin_fs_correction_SLT     (time, YC, XC) float32 ...\n",
       "    surface_flux_conv_SLT     (time, YC, XC) float32 ...\n",
       "    total_tendency_SLT_truth  (time, Z, YC, XC) float64 ...\n",
       "    UVEL                      (time, Z, YC, XG) float32 ...\n",
       "    VVEL                      (time, Z, YG, XC) float32 ...\n",
       "    WVEL                      (time, Zl, YC, XC) float32 ...\n",
       "    WTHMASS                   (time, Zl, YC, XC) float32 ...\n",
       "    WSLTMASS                  (time, Zl, YC, XC) float32 ...\n",
       "    surForcS                  (time, YC, XC) float32 ...\n",
       "    surForcT                  (time, YC, XC) float32 ...</pre>"
      ],
      "text/plain": [
       "<xarray.Dataset>\n",
       "Dimensions:                   (XC: 570, XG: 571, YC: 95, YG: 96, Z: 42, Zl: 42, time: 365)\n",
       "Coordinates:\n",
       "  * XC                        (XC) float32 295.08334 295.25 ... 29.75 29.916668\n",
       "  * YC                        (YC) float32 -77.87497 -77.7083 ... -62.2083\n",
       "  * Z                         (Z) float32 -5.0 -15.5 -27.0 ... -5325.0 -5575.0\n",
       "  * time                      (time) datetime64[ns] 2006-01-01 ... 2010-12-26\n",
       "  * XG                        (XG) float32 295.0 295.1667 ... 29.833334 30.0\n",
       "  * YG                        (YG) float32 -77.9583 -77.79163 ... -62.124966\n",
       "  * Zl                        (Zl) float32 0.0 -10.0 -21.0 ... -5200.0 -5450.0\n",
       "Data variables:\n",
       "    THETA                     (time, Z, YC, XC) float32 ...\n",
       "    SALT                      (time, Z, YC, XC) float32 ...\n",
       "    ETAN                      (time, YC, XC) float32 ...\n",
       "    conv_horiz_adv_flux_SLT   (time, Z, YC, XC) float32 ...\n",
       "    conv_horiz_diff_flux_SLT  (time, Z, YC, XC) float32 ...\n",
       "    conv_vert_adv_flux_SLT    (time, Z, YC, XC) float32 ...\n",
       "    conv_vert_diff_flux_SLT   (time, Z, YC, XC) float32 ...\n",
       "    lin_fs_correction_SLT     (time, YC, XC) float32 ...\n",
       "    surface_flux_conv_SLT     (time, YC, XC) float32 ...\n",
       "    total_tendency_SLT_truth  (time, Z, YC, XC) float64 ...\n",
       "    UVEL                      (time, Z, YC, XG) float32 ...\n",
       "    VVEL                      (time, Z, YG, XC) float32 ...\n",
       "    WVEL                      (time, Zl, YC, XC) float32 ...\n",
       "    WTHMASS                   (time, Zl, YC, XC) float32 ...\n",
       "    WSLTMASS                  (time, Zl, YC, XC) float32 ...\n",
       "    surForcS                  (time, YC, XC) float32 ...\n",
       "    surForcT                  (time, YC, XC) float32 ..."
      ]
     },
     "execution_count": 9,
     "metadata": {},
     "output_type": "execute_result"
    }
   ],
   "source": [
    "ds_no_polynya"
   ]
  },
  {
   "cell_type": "code",
   "execution_count": 10,
   "metadata": {},
   "outputs": [
    {
     "data": {
      "text/plain": [
       "52.322753328"
      ]
     },
     "execution_count": 10,
     "metadata": {},
     "output_type": "execute_result"
    }
   ],
   "source": [
    "ds = ds.chunk({'time':5})\n",
    "ds.nbytes/1e9"
   ]
  },
  {
   "cell_type": "code",
   "execution_count": null,
   "metadata": {},
   "outputs": [],
   "source": [
    "ds_tns.SALT.mean(dim=['time', 'Z']).drop('XC').plot()"
   ]
  },
  {
   "cell_type": "raw",
   "metadata": {},
   "source": [
    "#can't plot\n",
    "ds.SALT.mean(dim=['time', 'Z']).drop('XC').plot()"
   ]
  },
  {
   "cell_type": "code",
   "execution_count": null,
   "metadata": {},
   "outputs": [],
   "source": [
    "ds_no_polynya.SALT.mean(dim=['time', 'Z']).drop('XC').plot()"
   ]
  },
  {
   "cell_type": "code",
   "execution_count": 12,
   "metadata": {},
   "outputs": [],
   "source": [
    "terms = ['conv_horiz_adv_flux_SLT', 'conv_horiz_diff_flux_SLT',\n",
    "         'conv_vert_adv_flux_SLT', 'conv_vert_diff_flux_SLT',\n",
    "         'surface_flux_conv_SLT', 'lin_fs_correction_SLT']"
   ]
  },
  {
   "cell_type": "code",
   "execution_count": 13,
   "metadata": {},
   "outputs": [],
   "source": [
    "total = sum(ds[term] for term in terms)"
   ]
  },
  {
   "cell_type": "code",
   "execution_count": 15,
   "metadata": {},
   "outputs": [
    {
     "data": {
      "text/html": [
       "<pre>&lt;xarray.DataArray (time: 438, Z: 42, YC: 95, XC: 570)&gt;\n",
       "dask.array&lt;add, shape=(438, 42, 95, 570), dtype=float32, chunksize=(5, 42, 95, 570), chunktype=numpy.ndarray&gt;\n",
       "Coordinates:\n",
       "  * XC       (XC) float32 295.08334 295.25 295.4167 ... 29.75 29.916668\n",
       "  * YC       (YC) float32 -77.87497 -77.7083 -77.54163 ... -62.374966 -62.2083\n",
       "  * Z        (Z) float32 -5.0 -15.5 -27.0 -39.5 ... -5075.0 -5325.0 -5575.0\n",
       "  * time     (time) datetime64[ns] 2005-01-06 2005-01-11 ... 2010-12-31</pre>"
      ],
      "text/plain": [
       "<xarray.DataArray (time: 438, Z: 42, YC: 95, XC: 570)>\n",
       "dask.array<add, shape=(438, 42, 95, 570), dtype=float32, chunksize=(5, 42, 95, 570), chunktype=numpy.ndarray>\n",
       "Coordinates:\n",
       "  * XC       (XC) float32 295.08334 295.25 295.4167 ... 29.75 29.916668\n",
       "  * YC       (YC) float32 -77.87497 -77.7083 -77.54163 ... -62.374966 -62.2083\n",
       "  * Z        (Z) float32 -5.0 -15.5 -27.0 -39.5 ... -5075.0 -5325.0 -5575.0\n",
       "  * time     (time) datetime64[ns] 2005-01-06 2005-01-11 ... 2010-12-31"
      ]
     },
     "execution_count": 15,
     "metadata": {},
     "output_type": "execute_result"
    }
   ],
   "source": [
    "total"
   ]
  },
  {
   "cell_type": "code",
   "execution_count": null,
   "metadata": {},
   "outputs": [],
   "source": [
    "total.isel(Z=0).mean(dim='time').plot()"
   ]
  },
  {
   "cell_type": "raw",
   "metadata": {},
   "source": [
    "slt = xr.open_dataset('/home/jovyan/WMT/SOSE-budgets/datasets/ds_slt_wg.nc')"
   ]
  },
  {
   "cell_type": "raw",
   "metadata": {},
   "source": [
    "total = sum(slt[term] for term in terms)"
   ]
  },
  {
   "cell_type": "code",
   "execution_count": null,
   "metadata": {},
   "outputs": [],
   "source": [
    "(ds/1e6).total_tendency_SLT_truth.isel(time=slice(0,73))"
   ]
  },
  {
   "cell_type": "code",
   "execution_count": null,
   "metadata": {},
   "outputs": [],
   "source": [
    "(ds_no_polynya/1e6).total_tendency_SLT_truth.isel(time=slice(0,73))"
   ]
  },
  {
   "cell_type": "code",
   "execution_count": null,
   "metadata": {},
   "outputs": [],
   "source": [
    "fig, (ax0,ax1) = plt.subplots(1, 2, figsize=(15,4))\n",
    "(ds/1e6).total_tendency_TH_truth.isel(time=slice(0,73)).sum(dim=['XC', 'YC']).plot(y='Z', ax=ax0, \n",
    "                                              cbar_kwargs={'shrink':0.8, 'label':'Total Tendency [Sv]'})\n",
    "ax0.set_title('tottend from full time ds - 2005')\n",
    "\n",
    "(ds_no_polynya/1e6).total_tendency_TH_truth.isel(time=slice(0,73)).sum(dim=['XC', 'YC']).plot(y='Z', ax=ax1,\n",
    "                                                         cbar_kwargs={'shrink':0.8, 'label':'Total Tendency [Sv]'},\n",
    "                                                                                             vmax=15)\n",
    "ax1.set_title('tottend from no polynya ds - 2006')\n",
    "\n",
    "plt.tight_layout();"
   ]
  },
  {
   "cell_type": "code",
   "execution_count": null,
   "metadata": {},
   "outputs": [],
   "source": []
  }
 ],
 "metadata": {
  "kernelspec": {
   "display_name": "Python 3",
   "language": "python",
   "name": "python3"
  },
  "language_info": {
   "codemirror_mode": {
    "name": "ipython",
    "version": 3
   },
   "file_extension": ".py",
   "mimetype": "text/x-python",
   "name": "python",
   "nbconvert_exporter": "python",
   "pygments_lexer": "ipython3",
   "version": "3.7.3"
  }
 },
 "nbformat": 4,
 "nbformat_minor": 4
}
