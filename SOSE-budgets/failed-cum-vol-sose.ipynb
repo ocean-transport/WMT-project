{
 "cells": [
  {
   "cell_type": "code",
   "execution_count": 1,
   "metadata": {},
   "outputs": [
    {
     "data": {
      "text/html": [
       "<table style=\"border: 2px solid white;\">\n",
       "<tr>\n",
       "<td style=\"vertical-align: top; border: 0px solid white\">\n",
       "<h3 style=\"text-align: left;\">Client</h3>\n",
       "<ul style=\"text-align: left; list-style: none; margin: 0; padding: 0;\">\n",
       "  <li><b>Scheduler: </b>tcp://10.32.2.242:42493</li>\n",
       "  <li><b>Dashboard: </b><a href='/user/0000-0002-8176-9465/proxy/8787/status' target='_blank'>/user/0000-0002-8176-9465/proxy/8787/status</a>\n",
       "</ul>\n",
       "</td>\n",
       "<td style=\"vertical-align: top; border: 0px solid white\">\n",
       "<h3 style=\"text-align: left;\">Cluster</h3>\n",
       "<ul style=\"text-align: left; list-style:none; margin: 0; padding: 0;\">\n",
       "  <li><b>Workers: </b>30</li>\n",
       "  <li><b>Cores: </b>60</li>\n",
       "  <li><b>Memory: </b>345.00 GB</li>\n",
       "</ul>\n",
       "</td>\n",
       "</tr>\n",
       "</table>"
      ],
      "text/plain": [
       "<Client: 'tcp://10.32.2.242:42493' processes=30 threads=60, memory=345.00 GB>"
      ]
     },
     "execution_count": 1,
     "metadata": {},
     "output_type": "execute_result"
    }
   ],
   "source": [
    "from dask.distributed import Client\n",
    "\n",
    "client = Client(\"tcp://10.32.2.242:42493\")\n",
    "client"
   ]
  },
  {
   "cell_type": "markdown",
   "metadata": {},
   "source": [
    "# Cumulative volume time derivative ($\\frac{\\partial \\mathcal{V}}{\\partial t}$)"
   ]
  },
  {
   "cell_type": "code",
   "execution_count": 2,
   "metadata": {},
   "outputs": [
    {
     "name": "stderr",
     "output_type": "stream",
     "text": [
      "/srv/conda/envs/notebook/lib/python3.7/site-packages/intake/source/discovery.py:136: FutureWarning: The drivers ['geojson', 'postgis', 'shapefile', 'spatialite'] do not specify entry_points and were only discovered via a package scan. This may break in a future release of intake. The packages should be updated.\n",
      "  FutureWarning)\n"
     ]
    }
   ],
   "source": [
    "import xarray as xr\n",
    "from matplotlib import pyplot as plt\n",
    "import gcsfs\n",
    "import dask\n",
    "import dask.array as dsa\n",
    "import numpy as np\n",
    "import intake\n",
    "import fsspec\n",
    "import xmitgcm\n",
    "from xhistogram.xarray import histogram\n",
    "from xmitgcm.llcreader.llcmodel import faces_dataset_to_latlon\n",
    "%matplotlib inline"
   ]
  },
  {
   "cell_type": "code",
   "execution_count": 3,
   "metadata": {},
   "outputs": [
    {
     "data": {
      "text/html": [
       "<pre>&lt;xarray.Dataset&gt;\n",
       "Dimensions:                  (XC: 2160, YC: 320, Z: 42, time: 438)\n",
       "Coordinates:\n",
       "  * XC                       (XC) float32 0.083333336 0.25 ... 359.75 359.9167\n",
       "  * YC                       (YC) float32 -77.87497 -77.7083 ... -24.7083\n",
       "  * Z                        (Z) float32 -5.0 -15.5 -27.0 ... -5325.0 -5575.0\n",
       "  * time                     (time) datetime64[ns] 2005-01-06 ... 2010-12-31\n",
       "Data variables:\n",
       "    conv_horiz_adv_flux_TH   (time, Z, YC, XC) float32 dask.array&lt;chunksize=(1, 42, 319, 2159), meta=np.ndarray&gt;\n",
       "    conv_horiz_diff_flux_TH  (time, Z, YC, XC) float32 dask.array&lt;chunksize=(1, 42, 319, 2159), meta=np.ndarray&gt;\n",
       "    conv_vert_adv_flux_TH    (time, Z, YC, XC) float32 dask.array&lt;chunksize=(1, 41, 320, 2160), meta=np.ndarray&gt;\n",
       "    conv_vert_diff_flux_TH   (time, Z, YC, XC) float32 dask.array&lt;chunksize=(1, 41, 320, 2160), meta=np.ndarray&gt;\n",
       "    total_tendency_TH_truth  (time, Z, YC, XC) float64 dask.array&lt;chunksize=(1, 42, 320, 2160), meta=np.ndarray&gt;</pre>"
      ],
      "text/plain": [
       "<xarray.Dataset>\n",
       "Dimensions:                  (XC: 2160, YC: 320, Z: 42, time: 438)\n",
       "Coordinates:\n",
       "  * XC                       (XC) float32 0.083333336 0.25 ... 359.75 359.9167\n",
       "  * YC                       (YC) float32 -77.87497 -77.7083 ... -24.7083\n",
       "  * Z                        (Z) float32 -5.0 -15.5 -27.0 ... -5325.0 -5575.0\n",
       "  * time                     (time) datetime64[ns] 2005-01-06 ... 2010-12-31\n",
       "Data variables:\n",
       "    conv_horiz_adv_flux_TH   (time, Z, YC, XC) float32 dask.array<chunksize=(1, 42, 319, 2159), meta=np.ndarray>\n",
       "    conv_horiz_diff_flux_TH  (time, Z, YC, XC) float32 dask.array<chunksize=(1, 42, 319, 2159), meta=np.ndarray>\n",
       "    conv_vert_adv_flux_TH    (time, Z, YC, XC) float32 dask.array<chunksize=(1, 41, 320, 2160), meta=np.ndarray>\n",
       "    conv_vert_diff_flux_TH   (time, Z, YC, XC) float32 dask.array<chunksize=(1, 41, 320, 2160), meta=np.ndarray>\n",
       "    total_tendency_TH_truth  (time, Z, YC, XC) float64 dask.array<chunksize=(1, 42, 320, 2160), meta=np.ndarray>"
      ]
     },
     "execution_count": 3,
     "metadata": {},
     "output_type": "execute_result"
    }
   ],
   "source": [
    "ds_tmp = xr.open_zarr(gcsfs.GCSMap('pangeo-tmp/stb2145/SOSE/budget_th.zarr'))\n",
    "ds_tmp"
   ]
  },
  {
   "cell_type": "code",
   "execution_count": 4,
   "metadata": {},
   "outputs": [
    {
     "data": {
      "text/html": [
       "<pre>&lt;xarray.Dataset&gt;\n",
       "Dimensions:               (XC: 2160, YC: 320, Z: 42, time: 438)\n",
       "Coordinates:\n",
       "  * XC                    (XC) float32 0.083333336 0.25 ... 359.75 359.9167\n",
       "  * YC                    (YC) float32 -77.87497 -77.7083 ... -24.7083\n",
       "  * Z                     (Z) float32 -5.0 -15.5 -27.0 ... -5325.0 -5575.0\n",
       "  * time                  (time) datetime64[ns] 2005-01-06 ... 2010-12-31\n",
       "Data variables:\n",
       "    lin_fs_correction_TH  (time, YC, XC) float32 dask.array&lt;chunksize=(1, 320, 2160), meta=np.ndarray&gt;\n",
       "    surface_flux_conv_TH  (time, YC, XC) float32 dask.array&lt;chunksize=(1, 320, 2160), meta=np.ndarray&gt;\n",
       "    sw_flux_conv_TH       (time, YC, XC, Z) float32 dask.array&lt;chunksize=(1, 320, 2160, 41), meta=np.ndarray&gt;</pre>"
      ],
      "text/plain": [
       "<xarray.Dataset>\n",
       "Dimensions:               (XC: 2160, YC: 320, Z: 42, time: 438)\n",
       "Coordinates:\n",
       "  * XC                    (XC) float32 0.083333336 0.25 ... 359.75 359.9167\n",
       "  * YC                    (YC) float32 -77.87497 -77.7083 ... -24.7083\n",
       "  * Z                     (Z) float32 -5.0 -15.5 -27.0 ... -5325.0 -5575.0\n",
       "  * time                  (time) datetime64[ns] 2005-01-06 ... 2010-12-31\n",
       "Data variables:\n",
       "    lin_fs_correction_TH  (time, YC, XC) float32 dask.array<chunksize=(1, 320, 2160), meta=np.ndarray>\n",
       "    surface_flux_conv_TH  (time, YC, XC) float32 dask.array<chunksize=(1, 320, 2160), meta=np.ndarray>\n",
       "    sw_flux_conv_TH       (time, YC, XC, Z) float32 dask.array<chunksize=(1, 320, 2160, 41), meta=np.ndarray>"
      ]
     },
     "execution_count": 4,
     "metadata": {},
     "output_type": "execute_result"
    }
   ],
   "source": [
    "ds_tmp_surf_terms = xr.open_zarr(gcsfs.GCSMap('pangeo-tmp/stb2145/SOSE/budget_surf_th.zarr'))\n",
    "ds_tmp_surf_terms"
   ]
  },
  {
   "cell_type": "code",
   "execution_count": 5,
   "metadata": {},
   "outputs": [
    {
     "data": {
      "text/html": [
       "<pre>&lt;xarray.Dataset&gt;\n",
       "Dimensions:  (XC: 2160, XG: 2160, YC: 320, YG: 320, Z: 42, Zl: 42, time: 438)\n",
       "Coordinates:\n",
       "  * XC       (XC) float32 0.083333336 0.25 0.4166667 ... 359.75 359.9167\n",
       "  * XG       (XG) float32 5.551115e-17 0.16666667 ... 359.6667 359.83334\n",
       "  * YC       (YC) float32 -77.87497 -77.7083 -77.54163 ... -24.874966 -24.7083\n",
       "  * YG       (YG) float32 -77.9583 -77.79163 -77.62497 ... -24.9583 -24.791632\n",
       "  * Z        (Z) float32 -5.0 -15.5 -27.0 -39.5 ... -5075.0 -5325.0 -5575.0\n",
       "  * Zl       (Zl) float32 0.0 -10.0 -21.0 -33.0 ... -4950.0 -5200.0 -5450.0\n",
       "  * time     (time) datetime64[ns] 2005-01-06 2005-01-11 ... 2010-12-31\n",
       "Data variables:\n",
       "    SALT     (time, Z, YC, XC) float32 dask.array&lt;chunksize=(1, 42, 320, 2160), meta=np.ndarray&gt;\n",
       "    THETA    (time, Z, YC, XC) float32 dask.array&lt;chunksize=(1, 42, 320, 2160), meta=np.ndarray&gt;\n",
       "    UVEL     (time, Z, YC, XG) float32 dask.array&lt;chunksize=(1, 42, 320, 2160), meta=np.ndarray&gt;\n",
       "    VVEL     (time, Z, YG, XC) float32 dask.array&lt;chunksize=(1, 42, 320, 2160), meta=np.ndarray&gt;\n",
       "    WVEL     (time, Zl, YC, XC) float32 dask.array&lt;chunksize=(1, 42, 320, 2160), meta=np.ndarray&gt;</pre>"
      ],
      "text/plain": [
       "<xarray.Dataset>\n",
       "Dimensions:  (XC: 2160, XG: 2160, YC: 320, YG: 320, Z: 42, Zl: 42, time: 438)\n",
       "Coordinates:\n",
       "  * XC       (XC) float32 0.083333336 0.25 0.4166667 ... 359.75 359.9167\n",
       "  * XG       (XG) float32 5.551115e-17 0.16666667 ... 359.6667 359.83334\n",
       "  * YC       (YC) float32 -77.87497 -77.7083 -77.54163 ... -24.874966 -24.7083\n",
       "  * YG       (YG) float32 -77.9583 -77.79163 -77.62497 ... -24.9583 -24.791632\n",
       "  * Z        (Z) float32 -5.0 -15.5 -27.0 -39.5 ... -5075.0 -5325.0 -5575.0\n",
       "  * Zl       (Zl) float32 0.0 -10.0 -21.0 -33.0 ... -4950.0 -5200.0 -5450.0\n",
       "  * time     (time) datetime64[ns] 2005-01-06 2005-01-11 ... 2010-12-31\n",
       "Data variables:\n",
       "    SALT     (time, Z, YC, XC) float32 dask.array<chunksize=(1, 42, 320, 2160), meta=np.ndarray>\n",
       "    THETA    (time, Z, YC, XC) float32 dask.array<chunksize=(1, 42, 320, 2160), meta=np.ndarray>\n",
       "    UVEL     (time, Z, YC, XG) float32 dask.array<chunksize=(1, 42, 320, 2160), meta=np.ndarray>\n",
       "    VVEL     (time, Z, YG, XC) float32 dask.array<chunksize=(1, 42, 320, 2160), meta=np.ndarray>\n",
       "    WVEL     (time, Zl, YC, XC) float32 dask.array<chunksize=(1, 42, 320, 2160), meta=np.ndarray>"
      ]
     },
     "execution_count": 5,
     "metadata": {},
     "output_type": "execute_result"
    }
   ],
   "source": [
    "ds_t_s = xr.open_zarr(gcsfs.GCSMap('pangeo-tmp/stb2145/SOSE/t_s.zarr'))\n",
    "ds_t_s"
   ]
  },
  {
   "cell_type": "code",
   "execution_count": 6,
   "metadata": {},
   "outputs": [],
   "source": [
    "vels = ds_t_s.UVEL.to_dataset()\n",
    "vels['VVEL'] = ds_t_s.VVEL\n",
    "vels['WVEL'] = ds_t_s.WVEL\n",
    "\n",
    "ds_t_s = ds_t_s.drop_vars(['UVEL', 'VVEL', 'WVEL'])"
   ]
  },
  {
   "cell_type": "code",
   "execution_count": 7,
   "metadata": {},
   "outputs": [
    {
     "data": {
      "text/html": [
       "<pre>&lt;xarray.Dataset&gt;\n",
       "Dimensions:                  (XC: 2160, XG: 2160, YC: 320, YG: 320, Z: 42, Zl: 42, time: 438)\n",
       "Coordinates:\n",
       "  * XC                       (XC) float32 0.083333336 0.25 ... 359.75 359.9167\n",
       "  * YC                       (YC) float32 -77.87497 -77.7083 ... -24.7083\n",
       "  * Z                        (Z) float32 -5.0 -15.5 -27.0 ... -5325.0 -5575.0\n",
       "  * time                     (time) datetime64[ns] 2005-01-06 ... 2010-12-31\n",
       "  * XG                       (XG) float32 5.551115e-17 0.16666667 ... 359.83334\n",
       "  * YG                       (YG) float32 -77.9583 -77.79163 ... -24.791632\n",
       "  * Zl                       (Zl) float32 0.0 -10.0 -21.0 ... -5200.0 -5450.0\n",
       "Data variables:\n",
       "    conv_horiz_adv_flux_TH   (time, Z, YC, XC) float32 dask.array&lt;chunksize=(1, 42, 319, 2159), meta=np.ndarray&gt;\n",
       "    conv_horiz_diff_flux_TH  (time, Z, YC, XC) float32 dask.array&lt;chunksize=(1, 42, 319, 2159), meta=np.ndarray&gt;\n",
       "    conv_vert_adv_flux_TH    (time, Z, YC, XC) float32 dask.array&lt;chunksize=(1, 41, 320, 2160), meta=np.ndarray&gt;\n",
       "    conv_vert_diff_flux_TH   (time, Z, YC, XC) float32 dask.array&lt;chunksize=(1, 41, 320, 2160), meta=np.ndarray&gt;\n",
       "    total_tendency_TH_truth  (time, Z, YC, XC) float64 dask.array&lt;chunksize=(1, 42, 320, 2160), meta=np.ndarray&gt;\n",
       "    lin_fs_correction_TH     (time, YC, XC) float32 dask.array&lt;chunksize=(1, 320, 2160), meta=np.ndarray&gt;\n",
       "    surface_flux_conv_TH     (time, YC, XC) float32 dask.array&lt;chunksize=(1, 320, 2160), meta=np.ndarray&gt;\n",
       "    sw_flux_conv_TH          (time, YC, XC, Z) float32 dask.array&lt;chunksize=(1, 320, 2160, 41), meta=np.ndarray&gt;\n",
       "    SALT                     (time, Z, YC, XC) float32 dask.array&lt;chunksize=(1, 42, 320, 2160), meta=np.ndarray&gt;\n",
       "    THETA                    (time, Z, YC, XC) float32 dask.array&lt;chunksize=(1, 42, 320, 2160), meta=np.ndarray&gt;</pre>"
      ],
      "text/plain": [
       "<xarray.Dataset>\n",
       "Dimensions:                  (XC: 2160, XG: 2160, YC: 320, YG: 320, Z: 42, Zl: 42, time: 438)\n",
       "Coordinates:\n",
       "  * XC                       (XC) float32 0.083333336 0.25 ... 359.75 359.9167\n",
       "  * YC                       (YC) float32 -77.87497 -77.7083 ... -24.7083\n",
       "  * Z                        (Z) float32 -5.0 -15.5 -27.0 ... -5325.0 -5575.0\n",
       "  * time                     (time) datetime64[ns] 2005-01-06 ... 2010-12-31\n",
       "  * XG                       (XG) float32 5.551115e-17 0.16666667 ... 359.83334\n",
       "  * YG                       (YG) float32 -77.9583 -77.79163 ... -24.791632\n",
       "  * Zl                       (Zl) float32 0.0 -10.0 -21.0 ... -5200.0 -5450.0\n",
       "Data variables:\n",
       "    conv_horiz_adv_flux_TH   (time, Z, YC, XC) float32 dask.array<chunksize=(1, 42, 319, 2159), meta=np.ndarray>\n",
       "    conv_horiz_diff_flux_TH  (time, Z, YC, XC) float32 dask.array<chunksize=(1, 42, 319, 2159), meta=np.ndarray>\n",
       "    conv_vert_adv_flux_TH    (time, Z, YC, XC) float32 dask.array<chunksize=(1, 41, 320, 2160), meta=np.ndarray>\n",
       "    conv_vert_diff_flux_TH   (time, Z, YC, XC) float32 dask.array<chunksize=(1, 41, 320, 2160), meta=np.ndarray>\n",
       "    total_tendency_TH_truth  (time, Z, YC, XC) float64 dask.array<chunksize=(1, 42, 320, 2160), meta=np.ndarray>\n",
       "    lin_fs_correction_TH     (time, YC, XC) float32 dask.array<chunksize=(1, 320, 2160), meta=np.ndarray>\n",
       "    surface_flux_conv_TH     (time, YC, XC) float32 dask.array<chunksize=(1, 320, 2160), meta=np.ndarray>\n",
       "    sw_flux_conv_TH          (time, YC, XC, Z) float32 dask.array<chunksize=(1, 320, 2160, 41), meta=np.ndarray>\n",
       "    SALT                     (time, Z, YC, XC) float32 dask.array<chunksize=(1, 42, 320, 2160), meta=np.ndarray>\n",
       "    THETA                    (time, Z, YC, XC) float32 dask.array<chunksize=(1, 42, 320, 2160), meta=np.ndarray>"
      ]
     },
     "execution_count": 7,
     "metadata": {},
     "output_type": "execute_result"
    }
   ],
   "source": [
    "dsr_tmp = xr.merge([ds_tmp, ds_tmp_surf_terms, ds_t_s])\n",
    "dsr_tmp"
   ]
  },
  {
   "cell_type": "code",
   "execution_count": 8,
   "metadata": {},
   "outputs": [
    {
     "data": {
      "text/html": [
       "<pre>&lt;xarray.Dataset&gt;\n",
       "Dimensions:  (XC: 2160, XG: 2160, YC: 320, YG: 320, Z: 42, Zl: 42, Zp1: 43, Zu: 42, time: 438)\n",
       "Coordinates:\n",
       "  * XC       (XC) float32 0.083333336 0.25 0.4166667 ... 359.75 359.9167\n",
       "  * XG       (XG) float32 5.551115e-17 0.16666667 ... 359.6667 359.83334\n",
       "  * YC       (YC) float32 -77.87497 -77.7083 -77.54163 ... -24.874966 -24.7083\n",
       "  * YG       (YG) float32 -77.9583 -77.79163 -77.62497 ... -24.9583 -24.791632\n",
       "  * Z        (Z) float32 -5.0 -15.5 -27.0 -39.5 ... -5075.0 -5325.0 -5575.0\n",
       "  * Zl       (Zl) float32 0.0 -10.0 -21.0 -33.0 ... -4950.0 -5200.0 -5450.0\n",
       "  * Zp1      (Zp1) float32 0.0 -10.0 -21.0 -33.0 ... -5200.0 -5450.0 -5700.0\n",
       "  * Zu       (Zu) float32 -10.0 -21.0 -33.0 -46.0 ... -5200.0 -5450.0 -5700.0\n",
       "  * time     (time) datetime64[ns] 2005-01-06 2005-01-11 ... 2010-12-31\n",
       "Data variables:\n",
       "    Depth    (YC, XC) float32 dask.array&lt;chunksize=(320, 2160), meta=np.ndarray&gt;\n",
       "    PHrefC   (Z) float32 dask.array&lt;chunksize=(42,), meta=np.ndarray&gt;\n",
       "    PHrefF   (Zp1) float32 dask.array&lt;chunksize=(43,), meta=np.ndarray&gt;\n",
       "    drC      (Zp1) float32 dask.array&lt;chunksize=(43,), meta=np.ndarray&gt;\n",
       "    drF      (Z) float32 dask.array&lt;chunksize=(42,), meta=np.ndarray&gt;\n",
       "    dxC      (YC, XG) float32 dask.array&lt;chunksize=(320, 2160), meta=np.ndarray&gt;\n",
       "    dxG      (YG, XC) float32 dask.array&lt;chunksize=(320, 2160), meta=np.ndarray&gt;\n",
       "    dyC      (YG, XC) float32 dask.array&lt;chunksize=(320, 2160), meta=np.ndarray&gt;\n",
       "    dyG      (YC, XG) float32 dask.array&lt;chunksize=(320, 2160), meta=np.ndarray&gt;\n",
       "    hFacC    (Z, YC, XC) float32 dask.array&lt;chunksize=(42, 320, 2160), meta=np.ndarray&gt;\n",
       "    hFacS    (Z, YG, XC) float32 dask.array&lt;chunksize=(42, 320, 2160), meta=np.ndarray&gt;\n",
       "    hFacW    (Z, YC, XG) float32 dask.array&lt;chunksize=(42, 320, 2160), meta=np.ndarray&gt;\n",
       "    iter     (time) int64 dask.array&lt;chunksize=(438,), meta=np.ndarray&gt;\n",
       "    rA       (YC, XC) float32 dask.array&lt;chunksize=(320, 2160), meta=np.ndarray&gt;\n",
       "    rAs      (YG, XC) float32 dask.array&lt;chunksize=(320, 2160), meta=np.ndarray&gt;\n",
       "    rAw      (YC, XG) float32 dask.array&lt;chunksize=(320, 2160), meta=np.ndarray&gt;\n",
       "    rAz      (YG, XG) float32 dask.array&lt;chunksize=(320, 2160), meta=np.ndarray&gt;</pre>"
      ],
      "text/plain": [
       "<xarray.Dataset>\n",
       "Dimensions:  (XC: 2160, XG: 2160, YC: 320, YG: 320, Z: 42, Zl: 42, Zp1: 43, Zu: 42, time: 438)\n",
       "Coordinates:\n",
       "  * XC       (XC) float32 0.083333336 0.25 0.4166667 ... 359.75 359.9167\n",
       "  * XG       (XG) float32 5.551115e-17 0.16666667 ... 359.6667 359.83334\n",
       "  * YC       (YC) float32 -77.87497 -77.7083 -77.54163 ... -24.874966 -24.7083\n",
       "  * YG       (YG) float32 -77.9583 -77.79163 -77.62497 ... -24.9583 -24.791632\n",
       "  * Z        (Z) float32 -5.0 -15.5 -27.0 -39.5 ... -5075.0 -5325.0 -5575.0\n",
       "  * Zl       (Zl) float32 0.0 -10.0 -21.0 -33.0 ... -4950.0 -5200.0 -5450.0\n",
       "  * Zp1      (Zp1) float32 0.0 -10.0 -21.0 -33.0 ... -5200.0 -5450.0 -5700.0\n",
       "  * Zu       (Zu) float32 -10.0 -21.0 -33.0 -46.0 ... -5200.0 -5450.0 -5700.0\n",
       "  * time     (time) datetime64[ns] 2005-01-06 2005-01-11 ... 2010-12-31\n",
       "Data variables:\n",
       "    Depth    (YC, XC) float32 dask.array<chunksize=(320, 2160), meta=np.ndarray>\n",
       "    PHrefC   (Z) float32 dask.array<chunksize=(42,), meta=np.ndarray>\n",
       "    PHrefF   (Zp1) float32 dask.array<chunksize=(43,), meta=np.ndarray>\n",
       "    drC      (Zp1) float32 dask.array<chunksize=(43,), meta=np.ndarray>\n",
       "    drF      (Z) float32 dask.array<chunksize=(42,), meta=np.ndarray>\n",
       "    dxC      (YC, XG) float32 dask.array<chunksize=(320, 2160), meta=np.ndarray>\n",
       "    dxG      (YG, XC) float32 dask.array<chunksize=(320, 2160), meta=np.ndarray>\n",
       "    dyC      (YG, XC) float32 dask.array<chunksize=(320, 2160), meta=np.ndarray>\n",
       "    dyG      (YC, XG) float32 dask.array<chunksize=(320, 2160), meta=np.ndarray>\n",
       "    hFacC    (Z, YC, XC) float32 dask.array<chunksize=(42, 320, 2160), meta=np.ndarray>\n",
       "    hFacS    (Z, YG, XC) float32 dask.array<chunksize=(42, 320, 2160), meta=np.ndarray>\n",
       "    hFacW    (Z, YC, XG) float32 dask.array<chunksize=(42, 320, 2160), meta=np.ndarray>\n",
       "    iter     (time) int64 dask.array<chunksize=(438,), meta=np.ndarray>\n",
       "    rA       (YC, XC) float32 dask.array<chunksize=(320, 2160), meta=np.ndarray>\n",
       "    rAs      (YG, XC) float32 dask.array<chunksize=(320, 2160), meta=np.ndarray>\n",
       "    rAw      (YC, XG) float32 dask.array<chunksize=(320, 2160), meta=np.ndarray>\n",
       "    rAz      (YG, XG) float32 dask.array<chunksize=(320, 2160), meta=np.ndarray>"
      ]
     },
     "execution_count": 8,
     "metadata": {},
     "output_type": "execute_result"
    }
   ],
   "source": [
    "coords = xr.open_zarr(gcsfs.GCSMap('pangeo-tmp/stb2145/SOSE/coords.zarr'))\n",
    "coords"
   ]
  },
  {
   "cell_type": "markdown",
   "metadata": {},
   "source": [
    "### WG Boundaries"
   ]
  },
  {
   "cell_type": "code",
   "execution_count": 9,
   "metadata": {},
   "outputs": [],
   "source": [
    "lower_lat = 0\n",
    "upper_lat = 78\n",
    "left_lon = 1788\n",
    "right_lon = 2159"
   ]
  },
  {
   "cell_type": "code",
   "execution_count": 10,
   "metadata": {},
   "outputs": [],
   "source": [
    "#set the boundaries\n",
    "lat_range = dict(YC=slice(lower_lat, upper_lat))\n",
    "lon_range = dict(XC=slice(left_lon, right_lon))"
   ]
  },
  {
   "cell_type": "code",
   "execution_count": 11,
   "metadata": {},
   "outputs": [
    {
     "data": {
      "text/html": [
       "<pre>&lt;xarray.Dataset&gt;\n",
       "Dimensions:                  (XC: 371, XG: 2160, YC: 78, YG: 320, Z: 42, Zl: 42, time: 438)\n",
       "Coordinates:\n",
       "  * XC                       (XC) float32 298.08334 298.25 ... 359.58334 359.75\n",
       "  * YC                       (YC) float32 -77.87497 -77.7083 ... -65.04163\n",
       "  * Z                        (Z) float32 -5.0 -15.5 -27.0 ... -5325.0 -5575.0\n",
       "  * time                     (time) datetime64[ns] 2005-01-06 ... 2010-12-31\n",
       "  * XG                       (XG) float32 5.551115e-17 0.16666667 ... 359.83334\n",
       "  * YG                       (YG) float32 -77.9583 -77.79163 ... -24.791632\n",
       "  * Zl                       (Zl) float32 0.0 -10.0 -21.0 ... -5200.0 -5450.0\n",
       "Data variables:\n",
       "    conv_horiz_adv_flux_TH   (time, Z, YC, XC) float32 dask.array&lt;chunksize=(1, 42, 78, 371), meta=np.ndarray&gt;\n",
       "    conv_horiz_diff_flux_TH  (time, Z, YC, XC) float32 dask.array&lt;chunksize=(1, 42, 78, 371), meta=np.ndarray&gt;\n",
       "    conv_vert_adv_flux_TH    (time, Z, YC, XC) float32 dask.array&lt;chunksize=(1, 41, 78, 371), meta=np.ndarray&gt;\n",
       "    conv_vert_diff_flux_TH   (time, Z, YC, XC) float32 dask.array&lt;chunksize=(1, 41, 78, 371), meta=np.ndarray&gt;\n",
       "    total_tendency_TH_truth  (time, Z, YC, XC) float64 dask.array&lt;chunksize=(1, 42, 78, 371), meta=np.ndarray&gt;\n",
       "    lin_fs_correction_TH     (time, YC, XC) float32 dask.array&lt;chunksize=(1, 78, 371), meta=np.ndarray&gt;\n",
       "    surface_flux_conv_TH     (time, YC, XC) float32 dask.array&lt;chunksize=(1, 78, 371), meta=np.ndarray&gt;\n",
       "    sw_flux_conv_TH          (time, YC, XC, Z) float32 dask.array&lt;chunksize=(1, 78, 371, 41), meta=np.ndarray&gt;\n",
       "    SALT                     (time, Z, YC, XC) float32 dask.array&lt;chunksize=(1, 42, 78, 371), meta=np.ndarray&gt;\n",
       "    THETA                    (time, Z, YC, XC) float32 dask.array&lt;chunksize=(1, 42, 78, 371), meta=np.ndarray&gt;</pre>"
      ],
      "text/plain": [
       "<xarray.Dataset>\n",
       "Dimensions:                  (XC: 371, XG: 2160, YC: 78, YG: 320, Z: 42, Zl: 42, time: 438)\n",
       "Coordinates:\n",
       "  * XC                       (XC) float32 298.08334 298.25 ... 359.58334 359.75\n",
       "  * YC                       (YC) float32 -77.87497 -77.7083 ... -65.04163\n",
       "  * Z                        (Z) float32 -5.0 -15.5 -27.0 ... -5325.0 -5575.0\n",
       "  * time                     (time) datetime64[ns] 2005-01-06 ... 2010-12-31\n",
       "  * XG                       (XG) float32 5.551115e-17 0.16666667 ... 359.83334\n",
       "  * YG                       (YG) float32 -77.9583 -77.79163 ... -24.791632\n",
       "  * Zl                       (Zl) float32 0.0 -10.0 -21.0 ... -5200.0 -5450.0\n",
       "Data variables:\n",
       "    conv_horiz_adv_flux_TH   (time, Z, YC, XC) float32 dask.array<chunksize=(1, 42, 78, 371), meta=np.ndarray>\n",
       "    conv_horiz_diff_flux_TH  (time, Z, YC, XC) float32 dask.array<chunksize=(1, 42, 78, 371), meta=np.ndarray>\n",
       "    conv_vert_adv_flux_TH    (time, Z, YC, XC) float32 dask.array<chunksize=(1, 41, 78, 371), meta=np.ndarray>\n",
       "    conv_vert_diff_flux_TH   (time, Z, YC, XC) float32 dask.array<chunksize=(1, 41, 78, 371), meta=np.ndarray>\n",
       "    total_tendency_TH_truth  (time, Z, YC, XC) float64 dask.array<chunksize=(1, 42, 78, 371), meta=np.ndarray>\n",
       "    lin_fs_correction_TH     (time, YC, XC) float32 dask.array<chunksize=(1, 78, 371), meta=np.ndarray>\n",
       "    surface_flux_conv_TH     (time, YC, XC) float32 dask.array<chunksize=(1, 78, 371), meta=np.ndarray>\n",
       "    sw_flux_conv_TH          (time, YC, XC, Z) float32 dask.array<chunksize=(1, 78, 371, 41), meta=np.ndarray>\n",
       "    SALT                     (time, Z, YC, XC) float32 dask.array<chunksize=(1, 42, 78, 371), meta=np.ndarray>\n",
       "    THETA                    (time, Z, YC, XC) float32 dask.array<chunksize=(1, 42, 78, 371), meta=np.ndarray>"
      ]
     },
     "execution_count": 11,
     "metadata": {},
     "output_type": "execute_result"
    }
   ],
   "source": [
    "ds_tmp_wg = dsr_tmp.isel(**lat_range, **lon_range)\n",
    "ds_tmp_wg"
   ]
  },
  {
   "cell_type": "code",
   "execution_count": 12,
   "metadata": {},
   "outputs": [],
   "source": [
    "# define bins\n",
    "delta_theta = 0.1\n",
    "theta_bins = np.arange(-2, 20, delta_theta)"
   ]
  },
  {
   "cell_type": "code",
   "execution_count": 14,
   "metadata": {},
   "outputs": [
    {
     "data": {
      "text/html": [
       "<pre>&lt;xarray.DataArray &#x27;histogram_THETA&#x27; (time: 438, THETA_bin: 219)&gt;\n",
       "dask.array&lt;getitem, shape=(438, 219), dtype=float64, chunksize=(1, 219), chunktype=numpy.ndarray&gt;\n",
       "Coordinates:\n",
       "  * time       (time) datetime64[ns] 2005-01-06 2005-01-11 ... 2010-12-31\n",
       "  * THETA_bin  (THETA_bin) float64 -1.95 -1.85 -1.75 -1.65 ... 19.65 19.75 19.85</pre>"
      ],
      "text/plain": [
       "<xarray.DataArray 'histogram_THETA' (time: 438, THETA_bin: 219)>\n",
       "dask.array<getitem, shape=(438, 219), dtype=float64, chunksize=(1, 219), chunktype=numpy.ndarray>\n",
       "Coordinates:\n",
       "  * time       (time) datetime64[ns] 2005-01-06 2005-01-11 ... 2010-12-31\n",
       "  * THETA_bin  (THETA_bin) float64 -1.95 -1.85 -1.75 -1.65 ... 19.65 19.75 19.85"
      ]
     },
     "execution_count": 14,
     "metadata": {},
     "output_type": "execute_result"
    }
   ],
   "source": [
    "# theta distribution in WG region\n",
    "vol = (coords.hFacC * coords.rA * coords.drF).isel(**lat_range, **lon_range)\n",
    "\n",
    "theta_dist = histogram(ds_tmp_wg.THETA, bins=[theta_bins],\n",
    "                       weights=vol, dim=['XC', 'YC', 'Z'])\n",
    "theta_dist"
   ]
  },
  {
   "cell_type": "code",
   "execution_count": 15,
   "metadata": {},
   "outputs": [
    {
     "data": {
      "text/html": [
       "<pre>&lt;xarray.DataArray &#x27;histogram_THETA&#x27; (time: 438, THETA_bin: 219)&gt;\n",
       "array([[7.39506212e+13, 5.91515290e+13, 3.55040531e+13, ...,\n",
       "        0.00000000e+00, 0.00000000e+00, 0.00000000e+00],\n",
       "       [6.36738470e+13, 6.26006396e+13, 3.86006410e+13, ...,\n",
       "        0.00000000e+00, 0.00000000e+00, 0.00000000e+00],\n",
       "       [5.56527616e+13, 6.58727829e+13, 3.88908267e+13, ...,\n",
       "        0.00000000e+00, 0.00000000e+00, 0.00000000e+00],\n",
       "       ...,\n",
       "       [4.40477712e+12, 1.57833392e+14, 5.35641375e+13, ...,\n",
       "        0.00000000e+00, 0.00000000e+00, 0.00000000e+00],\n",
       "       [4.18414609e+12, 1.50596789e+14, 5.57711827e+13, ...,\n",
       "        0.00000000e+00, 0.00000000e+00, 0.00000000e+00],\n",
       "       [3.89565054e+12, 1.39337513e+14, 5.93235922e+13, ...,\n",
       "        0.00000000e+00, 0.00000000e+00, 0.00000000e+00]])\n",
       "Coordinates:\n",
       "  * time       (time) datetime64[ns] 2005-01-06 2005-01-11 ... 2010-12-31\n",
       "  * THETA_bin  (THETA_bin) float64 -1.95 -1.85 -1.75 -1.65 ... 19.65 19.75 19.85</pre>"
      ],
      "text/plain": [
       "<xarray.DataArray 'histogram_THETA' (time: 438, THETA_bin: 219)>\n",
       "array([[7.39506212e+13, 5.91515290e+13, 3.55040531e+13, ...,\n",
       "        0.00000000e+00, 0.00000000e+00, 0.00000000e+00],\n",
       "       [6.36738470e+13, 6.26006396e+13, 3.86006410e+13, ...,\n",
       "        0.00000000e+00, 0.00000000e+00, 0.00000000e+00],\n",
       "       [5.56527616e+13, 6.58727829e+13, 3.88908267e+13, ...,\n",
       "        0.00000000e+00, 0.00000000e+00, 0.00000000e+00],\n",
       "       ...,\n",
       "       [4.40477712e+12, 1.57833392e+14, 5.35641375e+13, ...,\n",
       "        0.00000000e+00, 0.00000000e+00, 0.00000000e+00],\n",
       "       [4.18414609e+12, 1.50596789e+14, 5.57711827e+13, ...,\n",
       "        0.00000000e+00, 0.00000000e+00, 0.00000000e+00],\n",
       "       [3.89565054e+12, 1.39337513e+14, 5.93235922e+13, ...,\n",
       "        0.00000000e+00, 0.00000000e+00, 0.00000000e+00]])\n",
       "Coordinates:\n",
       "  * time       (time) datetime64[ns] 2005-01-06 2005-01-11 ... 2010-12-31\n",
       "  * THETA_bin  (THETA_bin) float64 -1.95 -1.85 -1.75 -1.65 ... 19.65 19.75 19.85"
      ]
     },
     "execution_count": 15,
     "metadata": {},
     "output_type": "execute_result"
    }
   ],
   "source": [
    "theta_dist.load()"
   ]
  },
  {
   "cell_type": "code",
   "execution_count": 16,
   "metadata": {},
   "outputs": [
    {
     "data": {
      "text/plain": [
       "<matplotlib.collections.QuadMesh at 0x7f82a0fa3190>"
      ]
     },
     "execution_count": 16,
     "metadata": {},
     "output_type": "execute_result"
    },
    {
     "data": {
      "image/png": "[encoded data removed]",
      "text/plain": [
       "<Figure size 432x288 with 2 Axes>"
      ]
     },
     "metadata": {
      "needs_background": "light"
     },
     "output_type": "display_data"
    }
   ],
   "source": [
    "# most of the WG's waters is ~0˚C\n",
    "# very little variability in temp distribution\n",
    "theta_dist.plot(x='time')"
   ]
  },
  {
   "cell_type": "code",
   "execution_count": 17,
   "metadata": {},
   "outputs": [
    {
     "data": {
      "text/plain": [
       "[<matplotlib.lines.Line2D at 0x7f82a1059750>]"
      ]
     },
     "execution_count": 17,
     "metadata": {},
     "output_type": "execute_result"
    },
    {
     "data": {
      "image/png": "[encoded data removed]",
      "text/plain": [
       "<Figure size 432x288 with 1 Axes>"
      ]
     },
     "metadata": {
      "needs_background": "light"
     },
     "output_type": "display_data"
    }
   ],
   "source": [
    "# most of the WG's water is at freezing pt (0˚C)\n",
    "theta_dist.mean(dim='time').plot()"
   ]
  },
  {
   "cell_type": "code",
   "execution_count": 18,
   "metadata": {},
   "outputs": [
    {
     "data": {
      "text/plain": [
       "(-2, 5)"
      ]
     },
     "execution_count": 18,
     "metadata": {},
     "output_type": "execute_result"
    },
    {
     "data": {
      "image/png": "[encoded data removed]",
      "text/plain": [
       "<Figure size 432x288 with 2 Axes>"
      ]
     },
     "metadata": {
      "needs_background": "light"
     },
     "output_type": "display_data"
    }
   ],
   "source": [
    "# theta distribution anomaly\n",
    "(theta_dist - theta_dist.mean(dim='time')).plot(x='time')\n",
    "plt.ylim([-2, 5])"
   ]
  },
  {
   "cell_type": "markdown",
   "metadata": {},
   "source": [
    "# $\\frac{\\partial \\mathcal{V}}{\\partial t}$"
   ]
  },
  {
   "cell_type": "code",
   "execution_count": 19,
   "metadata": {},
   "outputs": [
    {
     "data": {
      "text/plain": [
       "<matplotlib.collections.QuadMesh at 0x7f82a0e5a290>"
      ]
     },
     "execution_count": 19,
     "metadata": {},
     "output_type": "execute_result"
    },
    {
     "data": {
      "image/png": "[encoded data removed]",
      "text/plain": [
       "<Figure size 432x288 with 2 Axes>"
      ]
     },
     "metadata": {
      "needs_background": "light"
     },
     "output_type": "display_data"
    }
   ],
   "source": [
    "# cumulative volume\n",
    "V = theta_dist.cumsum(dim='THETA_bin')\n",
    "V.transpose().plot()"
   ]
  },
  {
   "cell_type": "code",
   "execution_count": 20,
   "metadata": {},
   "outputs": [
    {
     "data": {
      "text/plain": [
       "[<matplotlib.lines.Line2D at 0x7f82a0b6de50>]"
      ]
     },
     "execution_count": 20,
     "metadata": {},
     "output_type": "execute_result"
    },
    {
     "data": {
      "image/png": "[encoded data removed]",
      "text/plain": [
       "<Figure size 432x288 with 1 Axes>"
      ]
     },
     "metadata": {
      "needs_background": "light"
     },
     "output_type": "display_data"
    }
   ],
   "source": [
    "#time avg of cumulative volume\n",
    "V_mean = V.mean(dim='time')\n",
    "V_mean.plot()"
   ]
  },
  {
   "cell_type": "code",
   "execution_count": 21,
   "metadata": {},
   "outputs": [
    {
     "data": {
      "text/plain": [
       "(-2, 7)"
      ]
     },
     "execution_count": 21,
     "metadata": {},
     "output_type": "execute_result"
    },
    {
     "data": {
      "image/png": "[encoded data removed]",
      "text/plain": [
       "<Figure size 432x288 with 2 Axes>"
      ]
     },
     "metadata": {
      "needs_background": "light"
     },
     "output_type": "display_data"
    }
   ],
   "source": [
    "#cumulative volume anomaly\n",
    "V_anom = V - V_mean\n",
    "V_anom.plot(x='time')\n",
    "plt.ylim(-2,7)"
   ]
  },
  {
   "cell_type": "code",
   "execution_count": 22,
   "metadata": {},
   "outputs": [
    {
     "data": {
      "text/plain": [
       "(-2, 7)"
      ]
     },
     "execution_count": 22,
     "metadata": {},
     "output_type": "execute_result"
    },
    {
     "data": {
      "image/png": "[encoded data removed]",
      "text/plain": [
       "<Figure size 432x288 with 2 Axes>"
      ]
     },
     "metadata": {
      "needs_background": "light"
     },
     "output_type": "display_data"
    }
   ],
   "source": [
    "dt = 5*24*60*60\n",
    "#using V_anom bc there is no change in V_mean\n",
    "dVdt = V_anom.diff(dim='time') / dt\n",
    "dVdt.plot(x='time', vmax=200e6)\n",
    "plt.ylim(-2, 7)"
   ]
  },
  {
   "cell_type": "markdown",
   "metadata": {},
   "source": [
    "# $\\Psi$"
   ]
  },
  {
   "cell_type": "markdown",
   "metadata": {},
   "source": [
    "$$\n",
    "-\\int_{\\delta R}  (\\mathbf{u} \\cdot  \\hat{\\mathbf{n}} ) \\mathcal{H}(\\tilde \\theta - \\theta)\\ dA\n",
    "$$\n",
    "\n",
    "$$\n",
    "= -\\int_{\\tilde\\theta_{min}}^{\\tilde\\theta_{max}} d\\tilde\\theta \\int_{\\delta R}  (\\mathbf{u} \\cdot  \\hat{\\mathbf{n}} ) \\delta(\\tilde\\theta - \\theta)\\ dA\n",
    "$$"
   ]
  },
  {
   "cell_type": "code",
   "execution_count": 23,
   "metadata": {},
   "outputs": [
    {
     "data": {
      "text/html": [
       "<pre>&lt;xarray.Dataset&gt;\n",
       "Dimensions:  (XC: 2160, XG: 2160, YC: 320, YG: 320, Z: 42, Zl: 42, time: 438)\n",
       "Coordinates:\n",
       "  * XG       (XG) float32 5.551115e-17 0.16666667 ... 359.6667 359.83334\n",
       "  * YC       (YC) float32 -77.87497 -77.7083 -77.54163 ... -24.874966 -24.7083\n",
       "  * Z        (Z) float32 -5.0 -15.5 -27.0 -39.5 ... -5075.0 -5325.0 -5575.0\n",
       "  * time     (time) datetime64[ns] 2005-01-06 2005-01-11 ... 2010-12-31\n",
       "  * XC       (XC) float32 0.083333336 0.25 0.4166667 ... 359.75 359.9167\n",
       "  * YG       (YG) float32 -77.9583 -77.79163 -77.62497 ... -24.9583 -24.791632\n",
       "  * Zl       (Zl) float32 0.0 -10.0 -21.0 -33.0 ... -4950.0 -5200.0 -5450.0\n",
       "Data variables:\n",
       "    UVEL     (time, Z, YC, XG) float32 dask.array&lt;chunksize=(1, 42, 320, 2160), meta=np.ndarray&gt;\n",
       "    VVEL     (time, Z, YG, XC) float32 dask.array&lt;chunksize=(1, 42, 320, 2160), meta=np.ndarray&gt;\n",
       "    WVEL     (time, Zl, YC, XC) float32 dask.array&lt;chunksize=(1, 42, 320, 2160), meta=np.ndarray&gt;</pre>"
      ],
      "text/plain": [
       "<xarray.Dataset>\n",
       "Dimensions:  (XC: 2160, XG: 2160, YC: 320, YG: 320, Z: 42, Zl: 42, time: 438)\n",
       "Coordinates:\n",
       "  * XG       (XG) float32 5.551115e-17 0.16666667 ... 359.6667 359.83334\n",
       "  * YC       (YC) float32 -77.87497 -77.7083 -77.54163 ... -24.874966 -24.7083\n",
       "  * Z        (Z) float32 -5.0 -15.5 -27.0 -39.5 ... -5075.0 -5325.0 -5575.0\n",
       "  * time     (time) datetime64[ns] 2005-01-06 2005-01-11 ... 2010-12-31\n",
       "  * XC       (XC) float32 0.083333336 0.25 0.4166667 ... 359.75 359.9167\n",
       "  * YG       (YG) float32 -77.9583 -77.79163 -77.62497 ... -24.9583 -24.791632\n",
       "  * Zl       (Zl) float32 0.0 -10.0 -21.0 -33.0 ... -4950.0 -5200.0 -5450.0\n",
       "Data variables:\n",
       "    UVEL     (time, Z, YC, XG) float32 dask.array<chunksize=(1, 42, 320, 2160), meta=np.ndarray>\n",
       "    VVEL     (time, Z, YG, XC) float32 dask.array<chunksize=(1, 42, 320, 2160), meta=np.ndarray>\n",
       "    WVEL     (time, Zl, YC, XC) float32 dask.array<chunksize=(1, 42, 320, 2160), meta=np.ndarray>"
      ]
     },
     "execution_count": 23,
     "metadata": {},
     "output_type": "execute_result"
    }
   ],
   "source": [
    "vels"
   ]
  },
  {
   "cell_type": "code",
   "execution_count": 24,
   "metadata": {},
   "outputs": [
    {
     "data": {
      "text/html": [
       "<pre>&lt;xarray.DataArray (time: 438, Z: 42, YC: 78)&gt;\n",
       "dask.array&lt;getitem, shape=(438, 42, 78), dtype=float32, chunksize=(1, 42, 78), chunktype=numpy.ndarray&gt;\n",
       "Coordinates:\n",
       "    XG       float32 359.83334\n",
       "  * YC       (YC) float32 -77.87497 -77.7083 -77.54163 ... -65.2083 -65.04163\n",
       "  * Z        (Z) float32 -5.0 -15.5 -27.0 -39.5 ... -5075.0 -5325.0 -5575.0\n",
       "  * time     (time) datetime64[ns] 2005-01-06 2005-01-11 ... 2010-12-31</pre>"
      ],
      "text/plain": [
       "<xarray.DataArray (time: 438, Z: 42, YC: 78)>\n",
       "dask.array<getitem, shape=(438, 42, 78), dtype=float32, chunksize=(1, 42, 78), chunktype=numpy.ndarray>\n",
       "Coordinates:\n",
       "    XG       float32 359.83334\n",
       "  * YC       (YC) float32 -77.87497 -77.7083 -77.54163 ... -65.2083 -65.04163\n",
       "  * Z        (Z) float32 -5.0 -15.5 -27.0 -39.5 ... -5075.0 -5325.0 -5575.0\n",
       "  * time     (time) datetime64[ns] 2005-01-06 2005-01-11 ... 2010-12-31"
      ]
     },
     "execution_count": 24,
     "metadata": {},
     "output_type": "execute_result"
    }
   ],
   "source": [
    "#the `isel` for boundaries is the product of vel components and normal vector part of the equation \n",
    "#multiplying by coords components is the \"dA\" part of the equation\n",
    "u_transport_weddell = (vels.UVEL * coords.dyG * coords.drF * coords.hFacW).isel(**lat_range, XG=right_lon) #m^3/s\n",
    "v_transport_weddell = (vels.VVEL * coords.dxG * coords.drF * coords.hFacS).isel(**lon_range, YG=upper_lat) #m^3/s\n",
    "u_transport_weddell"
   ]
  },
  {
   "cell_type": "raw",
   "metadata": {},
   "source": [
    "u_transport_weddell = u_transport.isel(**lat_range, XG=right_lon)\n",
    "v_transport_weddell = v_transport.isel(**lon_range, YG=upper_lat)"
   ]
  },
  {
   "cell_type": "markdown",
   "metadata": {},
   "source": [
    "**Why don't I sum over [XC, YC] for the surface integral part?**"
   ]
  },
  {
   "cell_type": "code",
   "execution_count": 25,
   "metadata": {},
   "outputs": [
    {
     "data": {
      "text/plain": [
       "array(-25396252., dtype=float32)"
      ]
     },
     "execution_count": 25,
     "metadata": {},
     "output_type": "execute_result"
    }
   ],
   "source": [
    "u_transport_mean_value = u_transport_weddell.mean(dim='time').sum().values\n",
    "u_transport_mean_value"
   ]
  },
  {
   "cell_type": "code",
   "execution_count": 26,
   "metadata": {},
   "outputs": [
    {
     "data": {
      "text/plain": [
       "array(25411532., dtype=float32)"
      ]
     },
     "execution_count": 26,
     "metadata": {},
     "output_type": "execute_result"
    }
   ],
   "source": [
    "v_transport_mean_value = v_transport_weddell.mean(dim='time').sum().values\n",
    "v_transport_mean_value"
   ]
  },
  {
   "cell_type": "code",
   "execution_count": 27,
   "metadata": {},
   "outputs": [
    {
     "data": {
      "text/plain": [
       "15280.0"
      ]
     },
     "execution_count": 27,
     "metadata": {},
     "output_type": "execute_result"
    }
   ],
   "source": [
    "#residual potentially due to E-R-P\n",
    "residual = u_transport_mean_value + v_transport_mean_value\n",
    "residual #~0.0153Sv reasonable amount due to precip?"
   ]
  },
  {
   "cell_type": "markdown",
   "metadata": {},
   "source": [
    "#### Create xgcm grid\n",
    "\n",
    "[Xgcm](http://xgcm.readthedocs.io) is a package which helps with the analysis of GCM data."
   ]
  },
  {
   "cell_type": "code",
   "execution_count": 34,
   "metadata": {},
   "outputs": [
    {
     "data": {
      "text/html": [
       "<pre>&lt;xarray.Dataset&gt;\n",
       "Dimensions:                  (XC: 371, XG: 2160, YC: 78, YG: 320, Z: 42, Zl: 42, time: 438)\n",
       "Coordinates:\n",
       "  * XC                       (XC) float32 298.08334 298.25 ... 359.58334 359.75\n",
       "  * YC                       (YC) float32 -77.87497 -77.7083 ... -65.04163\n",
       "  * Z                        (Z) float32 -5.0 -15.5 -27.0 ... -5325.0 -5575.0\n",
       "  * time                     (time) datetime64[ns] 2005-01-06 ... 2010-12-31\n",
       "  * XG                       (XG) float32 5.551115e-17 0.16666667 ... 359.83334\n",
       "  * YG                       (YG) float32 -77.9583 -77.79163 ... -24.791632\n",
       "  * Zl                       (Zl) float32 0.0 -10.0 -21.0 ... -5200.0 -5450.0\n",
       "Data variables:\n",
       "    conv_horiz_adv_flux_TH   (time, Z, YC, XC) float32 dask.array&lt;chunksize=(1, 42, 78, 371), meta=np.ndarray&gt;\n",
       "    conv_horiz_diff_flux_TH  (time, Z, YC, XC) float32 dask.array&lt;chunksize=(1, 42, 78, 371), meta=np.ndarray&gt;\n",
       "    conv_vert_adv_flux_TH    (time, Z, YC, XC) float32 dask.array&lt;chunksize=(1, 41, 78, 371), meta=np.ndarray&gt;\n",
       "    conv_vert_diff_flux_TH   (time, Z, YC, XC) float32 dask.array&lt;chunksize=(1, 41, 78, 371), meta=np.ndarray&gt;\n",
       "    total_tendency_TH_truth  (time, Z, YC, XC) float64 dask.array&lt;chunksize=(1, 42, 78, 371), meta=np.ndarray&gt;\n",
       "    lin_fs_correction_TH     (time, YC, XC) float32 dask.array&lt;chunksize=(1, 78, 371), meta=np.ndarray&gt;\n",
       "    surface_flux_conv_TH     (time, YC, XC) float32 dask.array&lt;chunksize=(1, 78, 371), meta=np.ndarray&gt;\n",
       "    sw_flux_conv_TH          (time, YC, XC, Z) float32 dask.array&lt;chunksize=(1, 78, 371, 41), meta=np.ndarray&gt;\n",
       "    SALT                     (time, Z, YC, XC) float32 dask.array&lt;chunksize=(1, 42, 78, 371), meta=np.ndarray&gt;\n",
       "    THETA                    (time, Z, YC, XC) float32 dask.array&lt;chunksize=(1, 42, 78, 371), meta=np.ndarray&gt;</pre>"
      ],
      "text/plain": [
       "<xarray.Dataset>\n",
       "Dimensions:                  (XC: 371, XG: 2160, YC: 78, YG: 320, Z: 42, Zl: 42, time: 438)\n",
       "Coordinates:\n",
       "  * XC                       (XC) float32 298.08334 298.25 ... 359.58334 359.75\n",
       "  * YC                       (YC) float32 -77.87497 -77.7083 ... -65.04163\n",
       "  * Z                        (Z) float32 -5.0 -15.5 -27.0 ... -5325.0 -5575.0\n",
       "  * time                     (time) datetime64[ns] 2005-01-06 ... 2010-12-31\n",
       "  * XG                       (XG) float32 5.551115e-17 0.16666667 ... 359.83334\n",
       "  * YG                       (YG) float32 -77.9583 -77.79163 ... -24.791632\n",
       "  * Zl                       (Zl) float32 0.0 -10.0 -21.0 ... -5200.0 -5450.0\n",
       "Data variables:\n",
       "    conv_horiz_adv_flux_TH   (time, Z, YC, XC) float32 dask.array<chunksize=(1, 42, 78, 371), meta=np.ndarray>\n",
       "    conv_horiz_diff_flux_TH  (time, Z, YC, XC) float32 dask.array<chunksize=(1, 42, 78, 371), meta=np.ndarray>\n",
       "    conv_vert_adv_flux_TH    (time, Z, YC, XC) float32 dask.array<chunksize=(1, 41, 78, 371), meta=np.ndarray>\n",
       "    conv_vert_diff_flux_TH   (time, Z, YC, XC) float32 dask.array<chunksize=(1, 41, 78, 371), meta=np.ndarray>\n",
       "    total_tendency_TH_truth  (time, Z, YC, XC) float64 dask.array<chunksize=(1, 42, 78, 371), meta=np.ndarray>\n",
       "    lin_fs_correction_TH     (time, YC, XC) float32 dask.array<chunksize=(1, 78, 371), meta=np.ndarray>\n",
       "    surface_flux_conv_TH     (time, YC, XC) float32 dask.array<chunksize=(1, 78, 371), meta=np.ndarray>\n",
       "    sw_flux_conv_TH          (time, YC, XC, Z) float32 dask.array<chunksize=(1, 78, 371, 41), meta=np.ndarray>\n",
       "    SALT                     (time, Z, YC, XC) float32 dask.array<chunksize=(1, 42, 78, 371), meta=np.ndarray>\n",
       "    THETA                    (time, Z, YC, XC) float32 dask.array<chunksize=(1, 42, 78, 371), meta=np.ndarray>"
      ]
     },
     "execution_count": 34,
     "metadata": {},
     "output_type": "execute_result"
    }
   ],
   "source": [
    "ds_tmp_wg"
   ]
  },
  {
   "cell_type": "code",
   "execution_count": 38,
   "metadata": {},
   "outputs": [
    {
     "data": {
      "text/plain": [
       "<xgcm.Grid>\n",
       "X Axis (periodic):\n",
       "  * center   XC --> left\n",
       "  * left     XG --> center\n",
       "Z Axis (not periodic):\n",
       "  * center   Z --> left\n",
       "  * left     Zl --> center\n",
       "  * outer    Zp1 --> center\n",
       "  * right    Zu --> center\n",
       "Y Axis (periodic):\n",
       "  * center   YC --> left\n",
       "  * left     YG --> center\n",
       "T Axis (not periodic):\n",
       "  * center   time"
      ]
     },
     "execution_count": 38,
     "metadata": {},
     "output_type": "execute_result"
    }
   ],
   "source": [
    "ds = xr.open_zarr(gcsfs.GCSFileSystem(requester_pays=True).get_mapper('pangeo-ecco-sose'), consolidated=True)\n",
    "\n",
    "import xgcm\n",
    "grid = xgcm.Grid(ds, periodic=('X', 'Y'))\n",
    "grid"
   ]
  },
  {
   "cell_type": "code",
   "execution_count": 39,
   "metadata": {},
   "outputs": [
    {
     "ename": "ValueError",
     "evalue": "conflicting sizes for dimension 'XG': length 371 on the data but length 2160 on coordinate 'XG'",
     "output_type": "error",
     "traceback": [
      "\u001b[0;31m---------------------------------------------------------------------------\u001b[0m",
      "\u001b[0;31mValueError\u001b[0m                                Traceback (most recent call last)",
      "\u001b[0;32m<ipython-input-39-a5e51612fe54>\u001b[0m in \u001b[0;36m<module>\u001b[0;34m\u001b[0m\n\u001b[1;32m      1\u001b[0m \u001b[0;31m#interpolating theta to be on same grid pt as velocity components\u001b[0m\u001b[0;34m\u001b[0m\u001b[0;34m\u001b[0m\u001b[0;34m\u001b[0m\u001b[0m\n\u001b[0;32m----> 2\u001b[0;31m \u001b[0mtheta_at_u\u001b[0m \u001b[0;34m=\u001b[0m \u001b[0mgrid\u001b[0m\u001b[0;34m.\u001b[0m\u001b[0minterp\u001b[0m\u001b[0;34m(\u001b[0m\u001b[0mds_tmp_wg\u001b[0m\u001b[0;34m.\u001b[0m\u001b[0mTHETA\u001b[0m\u001b[0;34m,\u001b[0m \u001b[0;34m'X'\u001b[0m\u001b[0;34m)\u001b[0m\u001b[0;34m\u001b[0m\u001b[0;34m\u001b[0m\u001b[0m\n\u001b[0m\u001b[1;32m      3\u001b[0m \u001b[0mtheta_at_v\u001b[0m \u001b[0;34m=\u001b[0m \u001b[0mgrid\u001b[0m\u001b[0;34m.\u001b[0m\u001b[0minterp\u001b[0m\u001b[0;34m(\u001b[0m\u001b[0mds_tmp_wg\u001b[0m\u001b[0;34m.\u001b[0m\u001b[0mTHETA\u001b[0m\u001b[0;34m,\u001b[0m \u001b[0;34m'Y'\u001b[0m\u001b[0;34m,\u001b[0m \u001b[0mboundary\u001b[0m\u001b[0;34m=\u001b[0m\u001b[0;34m'extend'\u001b[0m\u001b[0;34m)\u001b[0m\u001b[0;34m\u001b[0m\u001b[0;34m\u001b[0m\u001b[0m\n",
      "\u001b[0;32m/srv/conda/envs/notebook/lib/python3.7/site-packages/xgcm/grid.py\u001b[0m in \u001b[0;36minterp\u001b[0;34m(self, da, axis, metric_weighted, **kwargs)\u001b[0m\n\u001b[1;32m   1059\u001b[0m             \u001b[0mmetric\u001b[0m \u001b[0;34m=\u001b[0m \u001b[0mself\u001b[0m\u001b[0;34m.\u001b[0m\u001b[0mget_metric\u001b[0m\u001b[0;34m(\u001b[0m\u001b[0mda\u001b[0m\u001b[0;34m,\u001b[0m \u001b[0mmetric_weighted\u001b[0m\u001b[0;34m)\u001b[0m\u001b[0;34m\u001b[0m\u001b[0;34m\u001b[0m\u001b[0m\n\u001b[1;32m   1060\u001b[0m             \u001b[0mda\u001b[0m \u001b[0;34m=\u001b[0m \u001b[0mda\u001b[0m \u001b[0;34m*\u001b[0m \u001b[0mmetric\u001b[0m\u001b[0;34m\u001b[0m\u001b[0;34m\u001b[0m\u001b[0m\n\u001b[0;32m-> 1061\u001b[0;31m         \u001b[0mout\u001b[0m \u001b[0;34m=\u001b[0m \u001b[0max\u001b[0m\u001b[0;34m.\u001b[0m\u001b[0minterp\u001b[0m\u001b[0;34m(\u001b[0m\u001b[0mda\u001b[0m\u001b[0;34m,\u001b[0m \u001b[0;34m**\u001b[0m\u001b[0mkwargs\u001b[0m\u001b[0;34m)\u001b[0m\u001b[0;34m\u001b[0m\u001b[0;34m\u001b[0m\u001b[0m\n\u001b[0m\u001b[1;32m   1062\u001b[0m         \u001b[0;32mif\u001b[0m \u001b[0mmetric_weighted\u001b[0m\u001b[0;34m:\u001b[0m\u001b[0;34m\u001b[0m\u001b[0;34m\u001b[0m\u001b[0m\n\u001b[1;32m   1063\u001b[0m             \u001b[0mmetric_new\u001b[0m \u001b[0;34m=\u001b[0m \u001b[0mself\u001b[0m\u001b[0;34m.\u001b[0m\u001b[0mget_metric\u001b[0m\u001b[0;34m(\u001b[0m\u001b[0mout\u001b[0m\u001b[0;34m,\u001b[0m \u001b[0mmetric_weighted\u001b[0m\u001b[0;34m)\u001b[0m\u001b[0;34m\u001b[0m\u001b[0;34m\u001b[0m\u001b[0m\n",
      "\u001b[0;32m/srv/conda/envs/notebook/lib/python3.7/site-packages/xgcm/grid.py\u001b[0m in \u001b[0;36minterp\u001b[0;34m(self, da, to, boundary, fill_value, boundary_discontinuity, vector_partner)\u001b[0m\n\u001b[1;32m    557\u001b[0m             \u001b[0mfill_value\u001b[0m\u001b[0;34m,\u001b[0m\u001b[0;34m\u001b[0m\u001b[0;34m\u001b[0m\u001b[0m\n\u001b[1;32m    558\u001b[0m             \u001b[0mboundary_discontinuity\u001b[0m\u001b[0;34m,\u001b[0m\u001b[0;34m\u001b[0m\u001b[0;34m\u001b[0m\u001b[0m\n\u001b[0;32m--> 559\u001b[0;31m             \u001b[0mvector_partner\u001b[0m\u001b[0;34m,\u001b[0m\u001b[0;34m\u001b[0m\u001b[0;34m\u001b[0m\u001b[0m\n\u001b[0m\u001b[1;32m    560\u001b[0m         )\n\u001b[1;32m    561\u001b[0m \u001b[0;34m\u001b[0m\u001b[0m\n",
      "\u001b[0;32m/srv/conda/envs/notebook/lib/python3.7/site-packages/xgcm/grid.py\u001b[0m in \u001b[0;36m_neighbor_binary_func\u001b[0;34m(self, da, f, to, boundary, fill_value, boundary_discontinuity, vector_partner)\u001b[0m\n\u001b[1;32m    241\u001b[0m         )\n\u001b[1;32m    242\u001b[0m         \u001b[0;31m# wrap in a new xarray wrapper\u001b[0m\u001b[0;34m\u001b[0m\u001b[0;34m\u001b[0m\u001b[0;34m\u001b[0m\u001b[0m\n\u001b[0;32m--> 243\u001b[0;31m         \u001b[0mda_new\u001b[0m \u001b[0;34m=\u001b[0m \u001b[0mself\u001b[0m\u001b[0;34m.\u001b[0m\u001b[0m_wrap_and_replace_coords\u001b[0m\u001b[0;34m(\u001b[0m\u001b[0mda\u001b[0m\u001b[0;34m,\u001b[0m \u001b[0mdata_new\u001b[0m\u001b[0;34m,\u001b[0m \u001b[0mto\u001b[0m\u001b[0;34m)\u001b[0m\u001b[0;34m\u001b[0m\u001b[0;34m\u001b[0m\u001b[0m\n\u001b[0m\u001b[1;32m    244\u001b[0m \u001b[0;34m\u001b[0m\u001b[0m\n\u001b[1;32m    245\u001b[0m         \u001b[0;32mreturn\u001b[0m \u001b[0mda_new\u001b[0m\u001b[0;34m\u001b[0m\u001b[0;34m\u001b[0m\u001b[0m\n",
      "\u001b[0;32m/srv/conda/envs/notebook/lib/python3.7/site-packages/xgcm/grid.py\u001b[0m in \u001b[0;36m_wrap_and_replace_coords\u001b[0;34m(self, da, data_new, position_to)\u001b[0m\n\u001b[1;32m    735\u001b[0m                     \u001b[0mcoords\u001b[0m\u001b[0;34m[\u001b[0m\u001b[0md\u001b[0m\u001b[0;34m]\u001b[0m \u001b[0;34m=\u001b[0m \u001b[0mda\u001b[0m\u001b[0;34m.\u001b[0m\u001b[0mcoords\u001b[0m\u001b[0;34m[\u001b[0m\u001b[0md\u001b[0m\u001b[0;34m]\u001b[0m\u001b[0;34m\u001b[0m\u001b[0;34m\u001b[0m\u001b[0m\n\u001b[1;32m    736\u001b[0m \u001b[0;34m\u001b[0m\u001b[0m\n\u001b[0;32m--> 737\u001b[0;31m         \u001b[0;32mreturn\u001b[0m \u001b[0mxr\u001b[0m\u001b[0;34m.\u001b[0m\u001b[0mDataArray\u001b[0m\u001b[0;34m(\u001b[0m\u001b[0mdata_new\u001b[0m\u001b[0;34m,\u001b[0m \u001b[0mdims\u001b[0m\u001b[0;34m=\u001b[0m\u001b[0mdims\u001b[0m\u001b[0;34m,\u001b[0m \u001b[0mcoords\u001b[0m\u001b[0;34m=\u001b[0m\u001b[0mcoords\u001b[0m\u001b[0;34m)\u001b[0m\u001b[0;34m\u001b[0m\u001b[0;34m\u001b[0m\u001b[0m\n\u001b[0m\u001b[1;32m    738\u001b[0m \u001b[0;34m\u001b[0m\u001b[0m\n\u001b[1;32m    739\u001b[0m     \u001b[0;32mdef\u001b[0m \u001b[0m_get_axis_coord\u001b[0m\u001b[0;34m(\u001b[0m\u001b[0mself\u001b[0m\u001b[0;34m,\u001b[0m \u001b[0mda\u001b[0m\u001b[0;34m)\u001b[0m\u001b[0;34m:\u001b[0m\u001b[0;34m\u001b[0m\u001b[0;34m\u001b[0m\u001b[0m\n",
      "\u001b[0;32m/srv/conda/envs/notebook/lib/python3.7/site-packages/xarray/core/dataarray.py\u001b[0m in \u001b[0;36m__init__\u001b[0;34m(self, data, coords, dims, name, attrs, encoding, indexes, fastpath)\u001b[0m\n\u001b[1;32m    366\u001b[0m             \u001b[0mdata\u001b[0m \u001b[0;34m=\u001b[0m \u001b[0m_check_data_shape\u001b[0m\u001b[0;34m(\u001b[0m\u001b[0mdata\u001b[0m\u001b[0;34m,\u001b[0m \u001b[0mcoords\u001b[0m\u001b[0;34m,\u001b[0m \u001b[0mdims\u001b[0m\u001b[0;34m)\u001b[0m\u001b[0;34m\u001b[0m\u001b[0;34m\u001b[0m\u001b[0m\n\u001b[1;32m    367\u001b[0m             \u001b[0mdata\u001b[0m \u001b[0;34m=\u001b[0m \u001b[0mas_compatible_data\u001b[0m\u001b[0;34m(\u001b[0m\u001b[0mdata\u001b[0m\u001b[0;34m)\u001b[0m\u001b[0;34m\u001b[0m\u001b[0;34m\u001b[0m\u001b[0m\n\u001b[0;32m--> 368\u001b[0;31m             \u001b[0mcoords\u001b[0m\u001b[0;34m,\u001b[0m \u001b[0mdims\u001b[0m \u001b[0;34m=\u001b[0m \u001b[0m_infer_coords_and_dims\u001b[0m\u001b[0;34m(\u001b[0m\u001b[0mdata\u001b[0m\u001b[0;34m.\u001b[0m\u001b[0mshape\u001b[0m\u001b[0;34m,\u001b[0m \u001b[0mcoords\u001b[0m\u001b[0;34m,\u001b[0m \u001b[0mdims\u001b[0m\u001b[0;34m)\u001b[0m\u001b[0;34m\u001b[0m\u001b[0;34m\u001b[0m\u001b[0m\n\u001b[0m\u001b[1;32m    369\u001b[0m             \u001b[0mvariable\u001b[0m \u001b[0;34m=\u001b[0m \u001b[0mVariable\u001b[0m\u001b[0;34m(\u001b[0m\u001b[0mdims\u001b[0m\u001b[0;34m,\u001b[0m \u001b[0mdata\u001b[0m\u001b[0;34m,\u001b[0m \u001b[0mattrs\u001b[0m\u001b[0;34m,\u001b[0m \u001b[0mencoding\u001b[0m\u001b[0;34m,\u001b[0m \u001b[0mfastpath\u001b[0m\u001b[0;34m=\u001b[0m\u001b[0;32mTrue\u001b[0m\u001b[0;34m)\u001b[0m\u001b[0;34m\u001b[0m\u001b[0;34m\u001b[0m\u001b[0m\n\u001b[1;32m    370\u001b[0m \u001b[0;34m\u001b[0m\u001b[0m\n",
      "\u001b[0;32m/srv/conda/envs/notebook/lib/python3.7/site-packages/xarray/core/dataarray.py\u001b[0m in \u001b[0;36m_infer_coords_and_dims\u001b[0;34m(shape, coords, dims)\u001b[0m\n\u001b[1;32m    150\u001b[0m                     \u001b[0;34m\"conflicting sizes for dimension %r: \"\u001b[0m\u001b[0;34m\u001b[0m\u001b[0;34m\u001b[0m\u001b[0m\n\u001b[1;32m    151\u001b[0m                     \u001b[0;34m\"length %s on the data but length %s on \"\u001b[0m\u001b[0;34m\u001b[0m\u001b[0;34m\u001b[0m\u001b[0m\n\u001b[0;32m--> 152\u001b[0;31m                     \u001b[0;34m\"coordinate %r\"\u001b[0m \u001b[0;34m%\u001b[0m \u001b[0;34m(\u001b[0m\u001b[0md\u001b[0m\u001b[0;34m,\u001b[0m \u001b[0msizes\u001b[0m\u001b[0;34m[\u001b[0m\u001b[0md\u001b[0m\u001b[0;34m]\u001b[0m\u001b[0;34m,\u001b[0m \u001b[0ms\u001b[0m\u001b[0;34m,\u001b[0m \u001b[0mk\u001b[0m\u001b[0;34m)\u001b[0m\u001b[0;34m\u001b[0m\u001b[0;34m\u001b[0m\u001b[0m\n\u001b[0m\u001b[1;32m    153\u001b[0m                 )\n\u001b[1;32m    154\u001b[0m \u001b[0;34m\u001b[0m\u001b[0m\n",
      "\u001b[0;31mValueError\u001b[0m: conflicting sizes for dimension 'XG': length 371 on the data but length 2160 on coordinate 'XG'"
     ]
    }
   ],
   "source": [
    "#interpolating theta to be on same grid pt as velocity components\n",
    "theta_at_u = grid.interp(ds_tmp_wg.THETA, 'X')\n",
    "theta_at_v = grid.interp(ds_tmp_wg.THETA, 'Y', boundary='extend')"
   ]
  },
  {
   "cell_type": "code",
   "execution_count": null,
   "metadata": {},
   "outputs": [],
   "source": [
    "theta_uvel = theta_at_u.isel(**lat_range, XG=right_lon)\n",
    "theta_vvel = theta_at_v.isel(**lon_range, YG=upper_lat)"
   ]
  },
  {
   "cell_type": "code",
   "execution_count": null,
   "metadata": {},
   "outputs": [],
   "source": [
    "#plt.figure(figsize=(12,8))\n",
    "fig, (ax1, ax2) = plt.subplots(1, 2, figsize=(15,8), sharey=True)\n",
    "\n",
    "theta_vvel[0].plot(ax=ax1)\n",
    "#temperature values at vvel values in WG region in timestep:0\n",
    "ax1.title.set_text('temp at meridional velocity locations')\n",
    "\n",
    "theta_uvel[0].plot(ax=ax2)\n",
    "#temperature values at uvel values in WG region in timestep:0\n",
    "ax2.title.set_text('temp at zonal velocity locations')\n",
    "\n",
    "plt.tight_layout();"
   ]
  },
  {
   "cell_type": "code",
   "execution_count": null,
   "metadata": {},
   "outputs": [],
   "source": [
    "uvel = dsr.UVEL.isel(**lat_range, XG=right_lon)\n",
    "vvel = dsr.VVEL.isel(**lon_range, YG=upper_lat)"
   ]
  },
  {
   "cell_type": "raw",
   "metadata": {},
   "source": [
    "fig, (ax1, ax2) = plt.subplots(1, 2, figsize=(15,8), sharey=True)\n",
    "\n",
    "vvel[0].plot(ax=ax1)\n",
    "#vvel values in WG region in timestep:0\n",
    "ax1.title.set_text('meridional velocity in WG region\\n timestep:0')\n",
    "\n",
    "uvel[0].plot(ax=ax2)\n",
    "#uvel values in WG region in timestep:0\n",
    "ax2.title.set_text('zonal velocity in WG region\\n timestep:0')\n",
    "\n",
    "plt.tight_layout();"
   ]
  },
  {
   "cell_type": "markdown",
   "metadata": {},
   "source": [
    "**Try to make movie of the figures (Julian's `xmovie` package)**"
   ]
  },
  {
   "cell_type": "raw",
   "metadata": {},
   "source": [
    "for i in range(10):\n",
    "    plt.figure(figsize=(12, 8))\n",
    "    theta_vvel[i].plot()\n",
    "    vvel[i].plot.contour(colors='k', levels=np.arange(-0.1, 0.1, 0.02))"
   ]
  },
  {
   "cell_type": "code",
   "execution_count": null,
   "metadata": {},
   "outputs": [],
   "source": [
    "fig, (ax1, ax2) = plt.subplots(1, 2, figsize=(15,8), sharey=True)\n",
    "\n",
    "theta_vvel[0].plot(ax=ax1)\n",
    "vvel[0].plot.contour(ax=ax1, colors='k', levels=np.arange(-0.1, 0.1, 0.02))\n",
    "ax1.title.set_text('temp at meridional velocity locations\\n with meridional vel contours')\n",
    "\n",
    "theta_uvel[0].plot(ax=ax2)\n",
    "uvel[0].plot.contour(ax=ax2, colors='k', levels=np.arange(-0.1, 0.1, 0.02))\n",
    "ax2.title.set_text('temp at zonal velocity locations\\n with zonal vel contours')\n",
    "\n",
    "plt.tight_layout();"
   ]
  },
  {
   "cell_type": "raw",
   "metadata": {},
   "source": [
    "plt.figure(figsize=(12, 8))\n",
    "theta_uvel[0].plot()\n",
    "uvel[0].plot.contour(colors='k', levels=np.arange(-0.1, 0.1, 0.02))"
   ]
  },
  {
   "cell_type": "raw",
   "metadata": {},
   "source": [
    "uvel = grid.diff(dsr.UVEL, 'X')\n",
    "vvel = grid.diff(dsr.VVEL, 'Y')\n",
    "wvel = grid.diff(dsr.WVEL, 'Z', boundary='fill')"
   ]
  },
  {
   "cell_type": "raw",
   "metadata": {},
   "source": [
    "vels = - (uvel + vvel).isel(**lat_range, **lon_range).sum(dim=['XC', 'YC', 'Z'])\n",
    "vels"
   ]
  },
  {
   "cell_type": "raw",
   "metadata": {},
   "source": [
    "vel_dist = histogram(dsr.THETA, bins=[theta_bins],\n",
    "                     weights=vels, dim=['XC', 'YC', 'Z'])\n",
    "vel_dist"
   ]
  },
  {
   "cell_type": "raw",
   "metadata": {},
   "source": [
    "vel_dist.plot()"
   ]
  },
  {
   "cell_type": "code",
   "execution_count": null,
   "metadata": {},
   "outputs": [],
   "source": [
    "#this is the delta function part of the equation above\n",
    "u_binned = histogram(theta_uvel.rename('theta'), bins=[theta_bins],\n",
    "                     weights=u_transport_weddell, dim=['Z', 'YC'])\n",
    "v_binned = histogram(theta_vvel.rename('theta'), bins=[theta_bins],\n",
    "                     weights=v_transport_weddell, dim=['Z', 'XC'])"
   ]
  },
  {
   "cell_type": "code",
   "execution_count": null,
   "metadata": {},
   "outputs": [],
   "source": [
    "u_binned"
   ]
  },
  {
   "cell_type": "code",
   "execution_count": null,
   "metadata": {},
   "outputs": [],
   "source": [
    "fig, (ax1, ax2) = plt.subplots(1, 2, figsize=(15,8), sharey=True)\n",
    "\n",
    "v_binned.plot(ax=ax1)\n",
    "ax1.title.set_text('meridional velocity in temperature space\\n in WG region')\n",
    "\n",
    "u_binned.plot(ax=ax2)\n",
    "ax2.title.set_text('zonal velocity in temperature space\\n in WG region')\n",
    "\n",
    "plt.tight_layout();"
   ]
  },
  {
   "cell_type": "code",
   "execution_count": null,
   "metadata": {},
   "outputs": [],
   "source": [
    "transport_binned = u_binned + v_binned\n",
    "transport_binned.load()"
   ]
  },
  {
   "cell_type": "code",
   "execution_count": null,
   "metadata": {},
   "outputs": [],
   "source": [
    "transport_binned.max()"
   ]
  },
  {
   "cell_type": "code",
   "execution_count": null,
   "metadata": {},
   "outputs": [],
   "source": [
    "transport_binned.sum(dim='theta_bin').plot()\n",
    "plt.ylim([-2e6, 2e6])"
   ]
  },
  {
   "cell_type": "code",
   "execution_count": null,
   "metadata": {},
   "outputs": [],
   "source": [
    "(transport_binned/1e6).transpose().plot(figsize=(12,8))\n",
    "plt.title('Horizontal Transport in Sv', fontsize=16)\n",
    "plt.ylim([-2, 2]);"
   ]
  },
  {
   "cell_type": "code",
   "execution_count": null,
   "metadata": {},
   "outputs": [],
   "source": [
    "#this is the theta integral part of the equation\n",
    "transport_weddell = - transport_binned.cumsum(dim='theta_bin')\n",
    "transport_weddell"
   ]
  },
  {
   "cell_type": "code",
   "execution_count": null,
   "metadata": {},
   "outputs": [],
   "source": [
    "(transport_weddell/1e6).transpose().plot(figsize=(12,8))\n",
    "plt.ylim(-2,2)\n",
    "plt.title(r'Psi component of $\\frac{\\partial\\mathcal{V}}{\\partial t}$ in Sv', fontsize=16);"
   ]
  },
  {
   "cell_type": "code",
   "execution_count": null,
   "metadata": {},
   "outputs": [],
   "source": []
  },
  {
   "cell_type": "markdown",
   "metadata": {},
   "source": [
    "### **Testing**"
   ]
  },
  {
   "cell_type": "raw",
   "metadata": {},
   "source": [
    "u_surf_integral = u_transport_weddell.sum(dim=['YC', 'Z'])\n",
    "v_surf_integral = v_transport_weddell.sum(dim=['XC', 'Z'])"
   ]
  },
  {
   "cell_type": "raw",
   "metadata": {},
   "source": [
    "u_surf_integral"
   ]
  },
  {
   "cell_type": "raw",
   "metadata": {},
   "source": [
    "#this is the delta function part of the equation above\n",
    "u_test = histogram(theta_uvel.rename('theta'), bins=[theta_bins],\n",
    "                     weights=u_surf_integral, dim=['Z', 'YC'])\n",
    "v_test = histogram(theta_vvel.rename('theta'), bins=[theta_bins],\n",
    "                     weights=v_surf_integral, dim=['Z', 'XC'])"
   ]
  },
  {
   "cell_type": "raw",
   "metadata": {},
   "source": [
    "transport_test = u_test + v_test"
   ]
  },
  {
   "cell_type": "raw",
   "metadata": {},
   "source": [
    "(transport_test/1e6).transpose().plot(figsize=(12,8))"
   ]
  },
  {
   "cell_type": "raw",
   "metadata": {},
   "source": [
    "#this is the theta integral part of the equation\n",
    "transport_weddell_test = - transport_test.cumsum(dim='theta_bin')\n",
    "transport_weddell"
   ]
  },
  {
   "cell_type": "raw",
   "metadata": {},
   "source": [
    "(transport_weddell_test/1e6).transpose().plot(figsize=(12,8))\n",
    "#plt.ylim(-2,2)\n",
    "#plt.title(r'Psi component of $\\frac{\\partial\\mathcal{V}}{\\partial t}$ in Sv', fontsize=16);"
   ]
  },
  {
   "cell_type": "markdown",
   "metadata": {},
   "source": [
    "# $\\Omega$"
   ]
  },
  {
   "cell_type": "markdown",
   "metadata": {},
   "source": [
    "$$\n",
    "-\\int_R \\delta(\\tilde \\theta - \\theta) \\dot \\theta dV\n",
    "$$"
   ]
  },
  {
   "cell_type": "markdown",
   "metadata": {},
   "source": [
    "### Adv & Diff terms"
   ]
  },
  {
   "cell_type": "code",
   "execution_count": null,
   "metadata": {},
   "outputs": [],
   "source": [
    "def histogram_func(variable):\n",
    "    \"\"\"Generalized xhistogram's histogram function \n",
    "    for adv and diff flux terms\"\"\"\n",
    "    hist = histogram(ds_tmp_wg.THETA.rename('theta'), bins=[theta_bins],\n",
    "              weights=variable, dim=['XC', 'YC', 'Z'])\n",
    "    return hist"
   ]
  },
  {
   "cell_type": "code",
   "execution_count": null,
   "metadata": {},
   "outputs": [],
   "source": [
    "#this is the delta function part of the equation\n",
    "fluxes = [ds_tmp_wg.conv_horiz_diff_flux_TH,\n",
    "          ds_tmp_wg.conv_vert_adv_flux_TH,\n",
    "          ds_tmp_wg.conv_vert_diff_flux_TH]\n",
    "\n",
    "fluxes_binned = histogram_func(ds_tmp_wg.conv_horiz_adv_flux_TH.chunk(\n",
    "                            {'XC': -1, 'YC': -1, 'Z': -1, 'time': 1})).to_dataset(\n",
    "                                                    name='conv_horiz_adv_flux_TH')\n",
    "for var in fluxes:\n",
    "    new_vars = histogram_func(var.chunk({'XC': -1, 'YC': -1, 'Z': -1, 'time': 1})).rename(var.name)\n",
    "    fluxes_binned = xr.merge([fluxes_binned, new_vars], compat='override')"
   ]
  },
  {
   "cell_type": "code",
   "execution_count": null,
   "metadata": {},
   "outputs": [],
   "source": [
    "fluxes_binned.load()"
   ]
  },
  {
   "cell_type": "markdown",
   "metadata": {},
   "source": [
    "**How do you set ylim for all the subplots without having to rewrite `set_ylim` manually everytime?**"
   ]
  },
  {
   "cell_type": "code",
   "execution_count": null,
   "metadata": {},
   "outputs": [],
   "source": [
    "fig, axes = plt.subplots(2, 2, figsize=(18,12), sharex=True)\n",
    "\n",
    "#plt.setp([axes[0,0], axes[0,1]], ylim=(-2,2))\n",
    "#plt.setp(axes, ylim=(-2,2))\n",
    "\n",
    "fluxes_binned.conv_horiz_adv_flux_TH.transpose().plot(ax=axes[0,0])\n",
    "axes[0,0].set_title('Advective flux term - horizontal term', fontsize=18)\n",
    "axes[0,0].set_ylim(-2,2)\n",
    "\n",
    "fluxes_binned.conv_horiz_diff_flux_TH.transpose().plot(ax=axes[0,1])\n",
    "axes[0,1].set_title('Diffusive flux term - horizontal term', fontsize=18)\n",
    "axes[0,1].set_ylim(-2,2)\n",
    "\n",
    "fluxes_binned.conv_vert_adv_flux_TH.transpose().plot(ax=axes[1,0])\n",
    "axes[1,0].set_title('Advective flux term - vertical term', fontsize=18)\n",
    "axes[1,0].set_ylim(-2,2)\n",
    "\n",
    "fluxes_binned.conv_vert_diff_flux_TH.transpose().plot(ax=axes[1,1])\n",
    "axes[1,1].set_title('Diffusive flux term - vertical term', fontsize=18)\n",
    "axes[1,1].set_ylim(-2,2)\n",
    "\n",
    "plt.suptitle('Advective & Diffusive Flux Terms', weight='bold', fontsize=24);"
   ]
  },
  {
   "cell_type": "markdown",
   "metadata": {},
   "source": [
    "### Surface terms"
   ]
  },
  {
   "cell_type": "code",
   "execution_count": null,
   "metadata": {},
   "outputs": [],
   "source": [
    "#delta part of the equation\n",
    "sw_binned = histogram_func(ds_tmp_wg.sw_flux_conv_TH.chunk(\n",
    "                 {'XC': -1, 'YC': -1, 'Z': -1, 'time': 1})).load()"
   ]
  },
  {
   "cell_type": "code",
   "execution_count": null,
   "metadata": {},
   "outputs": [],
   "source": [
    "#delta part of the equation\n",
    "surf_binned = histogram(ds_tmp_wg.THETA.isel(Z=0).rename('theta'), bins=[theta_bins],\n",
    "                        weights=ds_tmp_wg.surface_flux_conv_TH, dim=['XC', 'YC']).load()\n",
    "\n",
    "lin_fs_binned = histogram(ds_tmp_wg.THETA.isel(Z=0).rename('theta'), bins=[theta_bins],\n",
    "                          weights=ds_tmp_wg.lin_fs_correction_TH, dim=['XC', 'YC']).load()"
   ]
  },
  {
   "cell_type": "code",
   "execution_count": null,
   "metadata": {},
   "outputs": [],
   "source": [
    "fig, axes = plt.subplots(2, 2, figsize=(18,12))\n",
    "\n",
    "(sw_binned/1e6).transpose().plot(ax=axes[0,0])\n",
    "axes[0,0].set_title('Shortwave term in Sv', fontsize=18)\n",
    "axes[0,0].set_ylim(-2,7)\n",
    "\n",
    "(surf_binned/1e6).transpose().plot(ax=axes[0,1])\n",
    "axes[0,1].set_title('Surface term in Sv', fontsize=18)\n",
    "axes[0,1].set_ylim(-2,7)\n",
    "\n",
    "(lin_fs_binned/1e6).transpose().plot(ax=axes[1,0])\n",
    "axes[1,0].set_title('Linear free surface correction term in Sv', fontsize=18)\n",
    "axes[1,0].set_ylim(-2,1)\n",
    "\n",
    "\n",
    "plt.tight_layout();"
   ]
  },
  {
   "cell_type": "code",
   "execution_count": null,
   "metadata": {},
   "outputs": [],
   "source": [
    "omega = - (fluxes_binned.conv_horiz_diff_flux_TH + \n",
    "           fluxes_binned.conv_vert_diff_flux_TH +\n",
    "           sw_binned + \n",
    "           surf_binned + \n",
    "           lin_fs_binned)\n",
    "omega"
   ]
  },
  {
   "cell_type": "code",
   "execution_count": null,
   "metadata": {},
   "outputs": [],
   "source": [
    "(omega/1e6).transpose().plot(figsize=(12,8), vmax=10 )\n",
    "plt.ylim(-2,20)\n",
    "plt.title(r'Omega component of $\\frac{\\partial\\mathcal{V}}{\\partial t}$ in Sv', fontsize=16);"
   ]
  },
  {
   "cell_type": "code",
   "execution_count": null,
   "metadata": {},
   "outputs": [],
   "source": []
  },
  {
   "cell_type": "raw",
   "metadata": {},
   "source": [
    "### **TEST**"
   ]
  },
  {
   "cell_type": "raw",
   "metadata": {},
   "source": [
    "omega_test = - (fluxes_binned.conv_horiz_diff_flux_TH + \n",
    "           sw_binned + \n",
    "           surf_binned + \n",
    "           lin_fs_binned).cumsum(dim='theta_bin')\n",
    "omega_test"
   ]
  },
  {
   "cell_type": "raw",
   "metadata": {},
   "source": [
    "(omega_test/1e6).transpose().plot(figsize=(12,8))"
   ]
  },
  {
   "cell_type": "markdown",
   "metadata": {},
   "source": [
    "### $\\Psi + \\Omega$"
   ]
  },
  {
   "cell_type": "code",
   "execution_count": null,
   "metadata": {},
   "outputs": [],
   "source": [
    "tendency_term = (transport_weddell + omega)\n",
    "tendency_term"
   ]
  },
  {
   "cell_type": "code",
   "execution_count": null,
   "metadata": {},
   "outputs": [],
   "source": [
    "#time_avg to get right of lhs\n",
    "tendency_term_mean = tendency_term.mean(dim='time')\n",
    "(tendency_term_mean/1e6).plot()"
   ]
  },
  {
   "cell_type": "markdown",
   "metadata": {},
   "source": [
    "### $\\frac{\\int \\frac{\\partial \\mathcal{V}}{\\partial t}\\ dt}{t - t_0}$"
   ]
  },
  {
   "cell_type": "code",
   "execution_count": null,
   "metadata": {},
   "outputs": [],
   "source": [
    "dVdt_time_mean = dVdt.mean(dim='time')\n",
    "dVdt_time_mean"
   ]
  },
  {
   "cell_type": "code",
   "execution_count": null,
   "metadata": {},
   "outputs": [],
   "source": [
    "(dVdt_time_mean/1e6).plot()"
   ]
  },
  {
   "cell_type": "markdown",
   "metadata": {},
   "source": [
    "### $\\frac{\\int \\frac{\\partial \\mathcal{V}}{\\partial t}\\ dt}{t - t_0} = \\bar{\\Psi} + \\bar{\\Omega}$"
   ]
  },
  {
   "cell_type": "code",
   "execution_count": null,
   "metadata": {},
   "outputs": [],
   "source": [
    "plt.figure(figsize=(12,6))\n",
    "(dVdt_time_mean/1e6).plot(label='lhs')\n",
    "(tendency_term_mean/1e6).plot(label='rhs')\n",
    "plt.legend()\n",
    "plt.title('WMT in Sv', fontsize=20);"
   ]
  },
  {
   "cell_type": "markdown",
   "metadata": {},
   "source": [
    "Almost all of the water in the WG is leaving the basin - mostly water with temperatures between -2 and 2. The watermass of about 0˚C has largest amount of transformation."
   ]
  },
  {
   "cell_type": "markdown",
   "metadata": {},
   "source": [
    "**Next Steps:**\n",
    "- bin surface term and sw term\n",
    "- sum all the binned terms together\n",
    "- plot the summed terms and compare to psi - taking time mean should make $\\mathcal{V} = \\bar{\\Psi} + \\bar{\\Omega}$ \n",
    "- sum $\\Psi$ and $\\Omega$ and compare plot to $\\frac{\\partial\\mathcal{V}}{\\partial t}$ plot (should equal)\n",
    "- create ECCO datasets and repeat process for ECCO model (i.e. \n",
    "    1. Validate t/s budgets to check datasets are consistent\n",
    "    2. $\\frac{\\partial \\mathcal{V}}{\\partial t} = \\Psi + \\Omega$"
   ]
  },
  {
   "cell_type": "markdown",
   "metadata": {},
   "source": [
    "**Check by hand if $\\mathcal{V} = \\bar{\\Psi} + \\bar{\\Omega}$ is true**"
   ]
  },
  {
   "cell_type": "code",
   "execution_count": null,
   "metadata": {},
   "outputs": [],
   "source": []
  }
 ],
 "metadata": {
  "kernelspec": {
   "display_name": "Python 3",
   "language": "python",
   "name": "python3"
  },
  "language_info": {
   "codemirror_mode": {
    "name": "ipython",
    "version": 3
   },
   "file_extension": ".py",
   "mimetype": "text/x-python",
   "name": "python",
   "nbconvert_exporter": "python",
   "pygments_lexer": "ipython3",
   "version": "3.7.6"
  }
 },
 "nbformat": 4,
 "nbformat_minor": 4
}
