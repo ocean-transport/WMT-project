{
 "cells": [
  {
   "cell_type": "markdown",
   "metadata": {},
   "source": [
    "# \\begin{equation*} \\frac{D \\sigma}{D t} = \\dot\\sigma_{\\theta} = \\frac{\\partial \\sigma_{\\theta}}{\\partial \\theta} \\dot\\theta + \\frac{\\partial \\sigma_{\\theta}}{\\partial S} \\dot S \\end{equation*}\n",
    "## **SOSE**"
   ]
  },
  {
   "cell_type": "code",
   "execution_count": 1,
   "metadata": {},
   "outputs": [
    {
     "data": {
      "text/html": [
       "<table style=\"border: 2px solid white;\">\n",
       "<tr>\n",
       "<td style=\"vertical-align: top; border: 0px solid white\">\n",
       "<h3 style=\"text-align: left;\">Client</h3>\n",
       "<ul style=\"text-align: left; list-style: none; margin: 0; padding: 0;\">\n",
       "  <li><b>Scheduler: </b>tcp://10.32.16.194:38301</li>\n",
       "  <li><b>Dashboard: </b><a href='/user/0000-0002-8176-9465/proxy/8787/status' target='_blank'>/user/0000-0002-8176-9465/proxy/8787/status</a>\n",
       "</ul>\n",
       "</td>\n",
       "<td style=\"vertical-align: top; border: 0px solid white\">\n",
       "<h3 style=\"text-align: left;\">Cluster</h3>\n",
       "<ul style=\"text-align: left; list-style:none; margin: 0; padding: 0;\">\n",
       "  <li><b>Workers: </b>30</li>\n",
       "  <li><b>Cores: </b>60</li>\n",
       "  <li><b>Memory: </b>345.00 GB</li>\n",
       "</ul>\n",
       "</td>\n",
       "</tr>\n",
       "</table>"
      ],
      "text/plain": [
       "<Client: 'tcp://10.32.16.194:38301' processes=30 threads=60, memory=345.00 GB>"
      ]
     },
     "execution_count": 1,
     "metadata": {},
     "output_type": "execute_result"
    }
   ],
   "source": [
    "from dask.distributed import Client\n",
    "\n",
    "client = Client(\"tcp://10.32.16.194:38301\")\n",
    "client"
   ]
  },
  {
   "cell_type": "code",
   "execution_count": 2,
   "metadata": {},
   "outputs": [
    {
     "name": "stderr",
     "output_type": "stream",
     "text": [
      "/srv/conda/envs/notebook/lib/python3.7/site-packages/intake/source/discovery.py:136: FutureWarning: The drivers ['geojson', 'postgis', 'shapefile', 'spatialite'] do not specify entry_points and were only discovered via a package scan. This may break in a future release of intake. The packages should be updated.\n",
      "  FutureWarning)\n"
     ]
    }
   ],
   "source": [
    "import xarray as xr\n",
    "from matplotlib import pyplot as plt\n",
    "import gcsfs\n",
    "import dask\n",
    "import dask.array as dsa\n",
    "import numpy as np\n",
    "import intake\n",
    "import fsspec\n",
    "import xmitgcm\n",
    "from xhistogram.xarray import histogram\n",
    "from xmitgcm.llcreader.llcmodel import faces_dataset_to_latlon\n",
    "%matplotlib inline\n",
    "from fastjmd95 import jmd95numba"
   ]
  },
  {
   "cell_type": "code",
   "execution_count": 3,
   "metadata": {},
   "outputs": [
    {
     "data": {
      "text/plain": [
       "<xarray.core.options.set_options at 0x7fa6348b6668>"
      ]
     },
     "execution_count": 3,
     "metadata": {},
     "output_type": "execute_result"
    }
   ],
   "source": [
    "xr.set_options(display_style='text')"
   ]
  },
  {
   "cell_type": "code",
   "execution_count": 8,
   "metadata": {},
   "outputs": [
    {
     "data": {
      "text/html": [
       "<pre>&lt;xarray.Dataset&gt;\n",
       "Dimensions:                   (XC: 570, XG: 571, YC: 95, YG: 96, Z: 42, Zl: 42, time: 438)\n",
       "Coordinates:\n",
       "  * XC                        (XC) float32 295.08334 295.25 ... 29.75 29.916668\n",
       "  * YC                        (YC) float32 -77.87497 -77.7083 ... -62.2083\n",
       "  * Z                         (Z) float32 -5.0 -15.5 -27.0 ... -5325.0 -5575.0\n",
       "  * time                      (time) datetime64[ns] 2005-01-06 ... 2010-12-31\n",
       "  * XG                        (XG) float32 295.0 295.1667 ... 29.833334 30.0\n",
       "  * YG                        (YG) float32 -77.9583 -77.79163 ... -62.124966\n",
       "  * Zl                        (Zl) float32 0.0 -10.0 -21.0 ... -5200.0 -5450.0\n",
       "Data variables:\n",
       "    ETAN                      (time, YC, XC) float32 dask.array&lt;chunksize=(1, 95, 570), meta=np.ndarray&gt;\n",
       "    SALT                      (time, Z, YC, XC) float32 dask.array&lt;chunksize=(1, 42, 95, 570), meta=np.ndarray&gt;\n",
       "    THETA                     (time, Z, YC, XC) float32 dask.array&lt;chunksize=(1, 42, 95, 570), meta=np.ndarray&gt;\n",
       "    conv_horiz_adv_flux_SLT   (time, Z, YC, XC) float32 dask.array&lt;chunksize=(1, 42, 95, 570), meta=np.ndarray&gt;\n",
       "    conv_horiz_diff_flux_SLT  (time, Z, YC, XC) float32 dask.array&lt;chunksize=(1, 42, 95, 570), meta=np.ndarray&gt;\n",
       "    conv_vert_adv_flux_SLT    (time, Z, YC, XC) float32 dask.array&lt;chunksize=(1, 42, 95, 570), meta=np.ndarray&gt;\n",
       "    conv_vert_diff_flux_SLT   (time, Z, YC, XC) float32 dask.array&lt;chunksize=(1, 42, 95, 570), meta=np.ndarray&gt;\n",
       "    lin_fs_correction_SLT     (time, YC, XC) float32 dask.array&lt;chunksize=(1, 95, 570), meta=np.ndarray&gt;\n",
       "    surface_flux_conv_SLT     (time, YC, XC) float32 dask.array&lt;chunksize=(1, 95, 570), meta=np.ndarray&gt;\n",
       "    total_tendency_SLT_truth  (time, Z, YC, XC) float64 dask.array&lt;chunksize=(1, 42, 95, 570), meta=np.ndarray&gt;\n",
       "    conv_horiz_adv_flux_TH    (time, Z, YC, XC) float32 dask.array&lt;chunksize=(1, 42, 95, 570), meta=np.ndarray&gt;\n",
       "    conv_horiz_diff_flux_TH   (time, Z, YC, XC) float32 dask.array&lt;chunksize=(1, 42, 95, 570), meta=np.ndarray&gt;\n",
       "    conv_vert_adv_flux_TH     (time, Z, YC, XC) float32 dask.array&lt;chunksize=(1, 42, 95, 570), meta=np.ndarray&gt;\n",
       "    conv_vert_diff_flux_TH    (time, Z, YC, XC) float32 dask.array&lt;chunksize=(1, 42, 95, 570), meta=np.ndarray&gt;\n",
       "    lin_fs_correction_TH      (time, YC, XC) float32 dask.array&lt;chunksize=(1, 95, 570), meta=np.ndarray&gt;\n",
       "    surface_flux_conv_TH      (time, YC, XC) float32 dask.array&lt;chunksize=(1, 95, 570), meta=np.ndarray&gt;\n",
       "    sw_flux_conv_TH           (time, YC, XC, Z) float32 dask.array&lt;chunksize=(1, 95, 570, 42), meta=np.ndarray&gt;\n",
       "    total_tendency_TH_truth   (time, Z, YC, XC) float64 dask.array&lt;chunksize=(1, 42, 95, 570), meta=np.ndarray&gt;\n",
       "    UVEL                      (time, Z, YC, XG) float32 dask.array&lt;chunksize=(1, 42, 95, 571), meta=np.ndarray&gt;\n",
       "    VVEL                      (time, Z, YG, XC) float32 dask.array&lt;chunksize=(1, 42, 96, 570), meta=np.ndarray&gt;\n",
       "    WSLTMASS                  (time, Zl, YC, XC) float32 dask.array&lt;chunksize=(1, 42, 95, 570), meta=np.ndarray&gt;\n",
       "    WTHMASS                   (time, Zl, YC, XC) float32 dask.array&lt;chunksize=(1, 42, 95, 570), meta=np.ndarray&gt;\n",
       "    WVEL                      (time, Zl, YC, XC) float32 dask.array&lt;chunksize=(1, 42, 95, 570), meta=np.ndarray&gt;\n",
       "    surForcS                  (time, YC, XC) float32 dask.array&lt;chunksize=(1, 95, 570), meta=np.ndarray&gt;\n",
       "    surForcT                  (time, YC, XC) float32 dask.array&lt;chunksize=(1, 95, 570), meta=np.ndarray&gt;</pre>"
      ],
      "text/plain": [
       "<xarray.Dataset>\n",
       "Dimensions:                   (XC: 570, XG: 571, YC: 95, YG: 96, Z: 42, Zl: 42, time: 438)\n",
       "Coordinates:\n",
       "  * XC                        (XC) float32 295.08334 295.25 ... 29.75 29.916668\n",
       "  * YC                        (YC) float32 -77.87497 -77.7083 ... -62.2083\n",
       "  * Z                         (Z) float32 -5.0 -15.5 -27.0 ... -5325.0 -5575.0\n",
       "  * time                      (time) datetime64[ns] 2005-01-06 ... 2010-12-31\n",
       "  * XG                        (XG) float32 295.0 295.1667 ... 29.833334 30.0\n",
       "  * YG                        (YG) float32 -77.9583 -77.79163 ... -62.124966\n",
       "  * Zl                        (Zl) float32 0.0 -10.0 -21.0 ... -5200.0 -5450.0\n",
       "Data variables:\n",
       "    ETAN                      (time, YC, XC) float32 dask.array<chunksize=(1, 95, 570), meta=np.ndarray>\n",
       "    SALT                      (time, Z, YC, XC) float32 dask.array<chunksize=(1, 42, 95, 570), meta=np.ndarray>\n",
       "    THETA                     (time, Z, YC, XC) float32 dask.array<chunksize=(1, 42, 95, 570), meta=np.ndarray>\n",
       "    conv_horiz_adv_flux_SLT   (time, Z, YC, XC) float32 dask.array<chunksize=(1, 42, 95, 570), meta=np.ndarray>\n",
       "    conv_horiz_diff_flux_SLT  (time, Z, YC, XC) float32 dask.array<chunksize=(1, 42, 95, 570), meta=np.ndarray>\n",
       "    conv_vert_adv_flux_SLT    (time, Z, YC, XC) float32 dask.array<chunksize=(1, 42, 95, 570), meta=np.ndarray>\n",
       "    conv_vert_diff_flux_SLT   (time, Z, YC, XC) float32 dask.array<chunksize=(1, 42, 95, 570), meta=np.ndarray>\n",
       "    lin_fs_correction_SLT     (time, YC, XC) float32 dask.array<chunksize=(1, 95, 570), meta=np.ndarray>\n",
       "    surface_flux_conv_SLT     (time, YC, XC) float32 dask.array<chunksize=(1, 95, 570), meta=np.ndarray>\n",
       "    total_tendency_SLT_truth  (time, Z, YC, XC) float64 dask.array<chunksize=(1, 42, 95, 570), meta=np.ndarray>\n",
       "    conv_horiz_adv_flux_TH    (time, Z, YC, XC) float32 dask.array<chunksize=(1, 42, 95, 570), meta=np.ndarray>\n",
       "    conv_horiz_diff_flux_TH   (time, Z, YC, XC) float32 dask.array<chunksize=(1, 42, 95, 570), meta=np.ndarray>\n",
       "    conv_vert_adv_flux_TH     (time, Z, YC, XC) float32 dask.array<chunksize=(1, 42, 95, 570), meta=np.ndarray>\n",
       "    conv_vert_diff_flux_TH    (time, Z, YC, XC) float32 dask.array<chunksize=(1, 42, 95, 570), meta=np.ndarray>\n",
       "    lin_fs_correction_TH      (time, YC, XC) float32 dask.array<chunksize=(1, 95, 570), meta=np.ndarray>\n",
       "    surface_flux_conv_TH      (time, YC, XC) float32 dask.array<chunksize=(1, 95, 570), meta=np.ndarray>\n",
       "    sw_flux_conv_TH           (time, YC, XC, Z) float32 dask.array<chunksize=(1, 95, 570, 42), meta=np.ndarray>\n",
       "    total_tendency_TH_truth   (time, Z, YC, XC) float64 dask.array<chunksize=(1, 42, 95, 570), meta=np.ndarray>\n",
       "    UVEL                      (time, Z, YC, XG) float32 dask.array<chunksize=(1, 42, 95, 571), meta=np.ndarray>\n",
       "    VVEL                      (time, Z, YG, XC) float32 dask.array<chunksize=(1, 42, 96, 570), meta=np.ndarray>\n",
       "    WSLTMASS                  (time, Zl, YC, XC) float32 dask.array<chunksize=(1, 42, 95, 570), meta=np.ndarray>\n",
       "    WTHMASS                   (time, Zl, YC, XC) float32 dask.array<chunksize=(1, 42, 95, 570), meta=np.ndarray>\n",
       "    WVEL                      (time, Zl, YC, XC) float32 dask.array<chunksize=(1, 42, 95, 570), meta=np.ndarray>\n",
       "    surForcS                  (time, YC, XC) float32 dask.array<chunksize=(1, 95, 570), meta=np.ndarray>\n",
       "    surForcT                  (time, YC, XC) float32 dask.array<chunksize=(1, 95, 570), meta=np.ndarray>"
      ]
     },
     "execution_count": 8,
     "metadata": {},
     "output_type": "execute_result"
    }
   ],
   "source": [
    "coords = xr.open_zarr(gcsfs.GCSMap('pangeo-tmp/stb2145/SOSE/datasets/coords_wg.zarr')) #didn't upload wg region\n",
    "ds_tns = xr.open_zarr(gcsfs.GCSMap('pangeo-tmp/stb2145/SOSE/datasets/ds_tns.zarr'))\n",
    "ds_slt = xr.open_zarr(gcsfs.GCSMap('pangeo-tmp/stb2145/SOSE/datasets/ds_slt_wg.zarr'))\n",
    "ds_tmp = xr.open_zarr(gcsfs.GCSMap('pangeo-tmp/stb2145/SOSE/datasets/ds_tmp_wg.zarr'))\n",
    "ds_vel = xr.open_zarr(gcsfs.GCSMap('pangeo-tmp/stb2145/SOSE/datasets/ds_vel.zarr'))\n",
    "ds = xr.merge([ds_tns, ds_slt, ds_tmp, ds_vel])\n",
    "ds"
   ]
  },
  {
   "cell_type": "markdown",
   "metadata": {},
   "source": [
    "## <font color='Green'> \\begin{equation*} \\alpha = - \\frac{1}{\\rho} \\frac{\\partial \\sigma_{\\theta}}{\\partial \\theta} \\end{equation*} </font>"
   ]
  },
  {
   "cell_type": "code",
   "execution_count": 12,
   "metadata": {},
   "outputs": [
    {
     "data": {
      "text/html": [
       "<pre>&lt;xarray.DataArray &#x27;SALT&#x27; (time: 438, Z: 42, YC: 95, XC: 570)&gt;\n",
       "dask.array&lt;zarr, shape=(438, 42, 95, 570), dtype=float32, chunksize=(1, 42, 95, 570), chunktype=numpy.ndarray&gt;\n",
       "Coordinates:\n",
       "  * XC       (XC) float32 295.08334 295.25 295.4167 ... 29.75 29.916668\n",
       "  * YC       (YC) float32 -77.87497 -77.7083 -77.54163 ... -62.374966 -62.2083\n",
       "  * Z        (Z) float32 -5.0 -15.5 -27.0 -39.5 ... -5075.0 -5325.0 -5575.0\n",
       "  * time     (time) datetime64[ns] 2005-01-06 2005-01-11 ... 2010-12-31\n",
       "Attributes:\n",
       "    long_name:      Salinity\n",
       "    standard_name:  SALT\n",
       "    units:          psu</pre>"
      ],
      "text/plain": [
       "<xarray.DataArray 'SALT' (time: 438, Z: 42, YC: 95, XC: 570)>\n",
       "dask.array<zarr, shape=(438, 42, 95, 570), dtype=float32, chunksize=(1, 42, 95, 570), chunktype=numpy.ndarray>\n",
       "Coordinates:\n",
       "  * XC       (XC) float32 295.08334 295.25 295.4167 ... 29.75 29.916668\n",
       "  * YC       (YC) float32 -77.87497 -77.7083 -77.54163 ... -62.374966 -62.2083\n",
       "  * Z        (Z) float32 -5.0 -15.5 -27.0 -39.5 ... -5075.0 -5325.0 -5575.0\n",
       "  * time     (time) datetime64[ns] 2005-01-06 2005-01-11 ... 2010-12-31\n",
       "Attributes:\n",
       "    long_name:      Salinity\n",
       "    standard_name:  SALT\n",
       "    units:          psu"
      ]
     },
     "execution_count": 12,
     "metadata": {},
     "output_type": "execute_result"
    }
   ],
   "source": [
    "ds.SALT"
   ]
  },
  {
   "cell_type": "code",
   "execution_count": 6,
   "metadata": {},
   "outputs": [
    {
     "ename": "ValueError",
     "evalue": "invalid number of arguments",
     "output_type": "error",
     "traceback": [
      "\u001b[0;31m---------------------------------------------------------------------------\u001b[0m",
      "\u001b[0;31mValueError\u001b[0m                                Traceback (most recent call last)",
      "\u001b[0;32m<ipython-input-6-f28e48165745>\u001b[0m in \u001b[0;36m<module>\u001b[0;34m\u001b[0m\n\u001b[0;32m----> 1\u001b[0;31m \u001b[0mjmd95numba\u001b[0m\u001b[0;34m.\u001b[0m\u001b[0mrho\u001b[0m\u001b[0;34m(\u001b[0m\u001b[0;34m)\u001b[0m\u001b[0;34m\u001b[0m\u001b[0;34m\u001b[0m\u001b[0m\n\u001b[0m",
      "\u001b[0;31mValueError\u001b[0m: invalid number of arguments"
     ]
    }
   ],
   "source": [
    "jmd95numba.drhodt(ds.SALT, ds.THETA, ds.Z)"
   ]
  },
  {
   "cell_type": "markdown",
   "metadata": {},
   "source": [
    "## <font color='Green'> \\begin{equation*} \\beta = - \\frac{1}{\\rho} \\frac{\\partial \\sigma_{\\theta}}{\\partial S} \\end{equation*} </font>"
   ]
  },
  {
   "cell_type": "code",
   "execution_count": null,
   "metadata": {},
   "outputs": [],
   "source": []
  }
 ],
 "metadata": {
  "kernelspec": {
   "display_name": "Python 3",
   "language": "python",
   "name": "python3"
  },
  "language_info": {
   "codemirror_mode": {
    "name": "ipython",
    "version": 3
   },
   "file_extension": ".py",
   "mimetype": "text/x-python",
   "name": "python",
   "nbconvert_exporter": "python",
   "pygments_lexer": "ipython3",
   "version": "3.7.3"
  }
 },
 "nbformat": 4,
 "nbformat_minor": 4
}
