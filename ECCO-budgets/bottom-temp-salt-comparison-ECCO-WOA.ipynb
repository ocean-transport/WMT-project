{
 "cells": [
  {
   "cell_type": "markdown",
   "metadata": {},
   "source": [
    "# <span style='background:Yellow'> Bottom Temp & Salt difference between ECCO and WOA"
   ]
  },
  {
   "cell_type": "code",
   "execution_count": null,
   "metadata": {},
   "outputs": [],
   "source": [
    "from dask.distributed import Client\n",
    "\n",
    "client = Client(\"tcp://10.32.29.9:44641\")\n",
    "client"
   ]
  },
  {
   "cell_type": "code",
   "execution_count": null,
   "metadata": {},
   "outputs": [],
   "source": [
    "import xarray as xr\n",
    "from matplotlib import pyplot as plt\n",
    "import gcsfs\n",
    "import dask\n",
    "import dask.array as dsa\n",
    "import numpy as np\n",
    "import intake\n",
    "%matplotlib inline\n",
    "import cartopy.crs as ccrs #cartopy coord ref sys\n",
    "import cartopy\n",
    "import cartopy.feature as cfeature\n",
    "from cartopy.mpl.gridliner import LONGITUDE_FORMATTER, LATITUDE_FORMATTER\n",
    "import regionmask\n",
    "import geopandas\n",
    "import scipy\n",
    "import xesmf as xe"
   ]
  },
  {
   "cell_type": "code",
   "execution_count": null,
   "metadata": {},
   "outputs": [],
   "source": [
    "xr.set_options(display_style='text')"
   ]
  },
  {
   "cell_type": "code",
   "execution_count": null,
   "metadata": {},
   "outputs": [],
   "source": [
    "woa8110_pt = xr.open_dataset('/home/jovyan/WMT/WOA/pt_bottom_wg_8110.nc')\n",
    "woa8110_pt_error = xr.open_dataset('/home/jovyan/WMT/WOA/pt_bottom_error.nc')\n",
    "woa8110_slt = xr.open_dataset('/home/jovyan/WMT/WOA/san_bottom_wg_8110.nc')\n",
    "woa8110_slt_error = xr.open_dataset('/home/jovyan/WMT/WOA/san_bottom_error.nc')\n",
    "\n",
    "woa0517_pt = xr.open_dataset('/home/jovyan/WMT/WOA/pt_bottom_wg_0517.nc')\n",
    "woa0517_pt_error = xr.open_dataset('/home/jovyan/WMT/WOA/pt_bottom_0517_error.nc')\n",
    "woa0517_slt = xr.open_dataset('/home/jovyan/WMT/WOA/san_bottom_wg_0517.nc')\n",
    "woa0517_slt_error = xr.open_dataset('/home/jovyan/WMT/WOA/san_bottom_wg_0517_error.nc')\n",
    "\n",
    "ecco_temp = xr.open_dataset('/home/jovyan/WMT/ECCO-budgets/bottom_temp_wg.nc')\n",
    "ecco_std_temp = xr.open_dataset('/home/jovyan/WMT/ECCO-budgets/bottom_std_temp_ecco.nc')\n",
    "ecco_slt = xr.open_dataset('/home/jovyan/WMT/ECCO-budgets/bottom_slt_wg.nc')\n",
    "ecco_std_slt = xr.open_dataset('/home/jovyan/WMT/ECCO-budgets/bottom_std_slt_ecco.nc')\n",
    "\n",
    "surface_mask = xr.open_dataset('/home/jovyan/WMT/ECCO-budgets/surface_mask.nc')"
   ]
  },
  {
   "cell_type": "markdown",
   "metadata": {},
   "source": [
    "# <span style='background:Pink'> <font color='Red'> Temperature </font>"
   ]
  },
  {
   "cell_type": "code",
   "execution_count": null,
   "metadata": {},
   "outputs": [],
   "source": [
    "ecco_temp = ecco_temp.THETA.mean(dim='time')"
   ]
  },
  {
   "cell_type": "markdown",
   "metadata": {},
   "source": [
    "### <span style='color:Brown'> Interpolating WOA (1981-2010) temp data onto ECCO's grid"
   ]
  },
  {
   "cell_type": "code",
   "execution_count": null,
   "metadata": {},
   "outputs": [],
   "source": [
    "regridder = xe.Regridder(woa8110_pt, ecco_temp, method='bilinear')\n",
    "\n",
    "woa8110_pt_new_grid = regridder(woa8110_pt)\n",
    "woa8110_pt_new_grid"
   ]
  },
  {
   "cell_type": "markdown",
   "metadata": {},
   "source": [
    "### <span style='color:Brown'> Interpolating WOA (1981-2010) temp error data onto ECCO's grid"
   ]
  },
  {
   "cell_type": "code",
   "execution_count": null,
   "metadata": {},
   "outputs": [],
   "source": [
    "regridder_8110_error = xe.Regridder(woa8110_pt_error, ecco_temp, method='bilinear')\n",
    "\n",
    "woa8110_pt_error_new_grid = regridder(woa8110_pt_error)\n",
    "woa8110_pt_error_new_grid"
   ]
  },
  {
   "cell_type": "markdown",
   "metadata": {},
   "source": [
    "## <span style='background:Yellow'> <font color='Red'> Bottom temperature `ECCO - WOA` (1981-2010) </font>"
   ]
  },
  {
   "cell_type": "code",
   "execution_count": null,
   "metadata": {},
   "outputs": [],
   "source": [
    "#checking if nans\n",
    "print(np.isnan(ecco_temp.sum()))"
   ]
  },
  {
   "cell_type": "code",
   "execution_count": null,
   "metadata": {},
   "outputs": [],
   "source": [
    "ecco_woa8110_diff = ecco_temp - woa8110_pt_new_grid.isel(time=0).PT\n",
    "ecco_woa8110_diff"
   ]
  },
  {
   "cell_type": "code",
   "execution_count": null,
   "metadata": {},
   "outputs": [],
   "source": [
    "proj = ccrs.Mercator() #with Mercator you can put lat lon values.\n",
    "fig, ax = plt.subplots(figsize=(15, 15), subplot_kw=dict(projection=proj))\n",
    "\n",
    "ax.set_extent([-65, 30, -78, -62], crs=ccrs.PlateCarree())\n",
    "ax.coastlines(resolution='50m')\n",
    "#ax.add_feature(cfeature.LAND, facecolor='0.8', edgecolor='k')\n",
    "\n",
    "ax.add_feature(cfeature.NaturalEarthFeature('physical', 'land', '50m',\n",
    "                                        edgecolor='face',\n",
    "                                        facecolor='0.5'))\n",
    "\n",
    "im = ax.pcolormesh(ecco_woa8110_diff.lon, \n",
    "                   ecco_woa8110_diff.lat, \n",
    "                   ecco_woa8110_diff.where(surface_mask_sose.hFacC), \n",
    "                   transform=ccrs.PlateCarree(), cmap='RdBu_r', vmin=-2, vmax=2)\n",
    "cb = fig.colorbar(im, ax=ax, shrink=0.4)\n",
    "cb.set_label(\"Potential Temperature [˚C]\", labelpad=12, fontsize=13)\n",
    "\n",
    "plt.contourf(ecco_woa8110_diff.lon, \n",
    "             ecco_woa8110_diff.lat,  \n",
    "             ecco_woa8110_diff.where(np.abs(ecco_woa8110_diff) < woa8110_pt_error_new_grid.PT_error[0]).where(surface_mask_sose.hFacC),\n",
    "             transform=ccrs.PlateCarree(), colors='none', hatches=['////'])\n",
    "\n",
    "g1 = ax.gridlines(crs=ccrs.PlateCarree(), draw_labels=True)\n",
    "g1.xlabels_top = False\n",
    "g1.ylabels_right = False\n",
    "\n",
    "ax.text(-0.07, 0.55, 'Latitude', va='bottom', ha='center',\n",
    "        rotation='vertical', rotation_mode='anchor',\n",
    "        transform=ax.transAxes, fontsize=12)\n",
    "ax.text(0.5, -0.13, 'Longitude', va='bottom', ha='center',\n",
    "        rotation='horizontal', rotation_mode='anchor',\n",
    "        transform=ax.transAxes, fontsize=12)\n",
    "\n",
    "plt.title(\"Difference between \\n ECCO (1992-2015) and WOA (1981-2010)\", fontsize=14);"
   ]
  },
  {
   "cell_type": "markdown",
   "metadata": {},
   "source": [
    "### <span style='color:Brown'> Interpolating WOA (2005-2017) temp data onto ECCO's grid"
   ]
  },
  {
   "cell_type": "code",
   "execution_count": null,
   "metadata": {},
   "outputs": [],
   "source": [
    "regridder_0517 = xe.Regridder(woa0517_pt, ecco_temp, method='bilinear')\n",
    "\n",
    "woa0517_pt_new_grid = regridder_0517(woa0517_pt)\n",
    "woa0517_pt_new_grid"
   ]
  },
  {
   "cell_type": "markdown",
   "metadata": {},
   "source": [
    "### <span style='color:Brown'> Interpolating WOA (2005-2017) temp ERROR data onto ECCO's grid"
   ]
  },
  {
   "cell_type": "code",
   "execution_count": null,
   "metadata": {},
   "outputs": [],
   "source": [
    "regridder_0517_error = xe.Regridder(woa0517_pt_error, ecco_temp, method='bilinear')\n",
    "\n",
    "woa0517_pt_error_new_grid = regridder_0517_error(woa0517_pt_error)\n",
    "woa0517_pt_error_new_grid"
   ]
  },
  {
   "cell_type": "markdown",
   "metadata": {},
   "source": [
    "## <span style='background:Yellow'> <font color='Red'> Bottom temperature `ECCO - WOA` (2005-2017) </font>"
   ]
  },
  {
   "cell_type": "code",
   "execution_count": null,
   "metadata": {},
   "outputs": [],
   "source": [
    "ecco_woa0517_diff = ecco_temp - woa0517_pt_new_grid.isel(time=0).PT\n",
    "ecco_woa0517_diff"
   ]
  },
  {
   "cell_type": "code",
   "execution_count": null,
   "metadata": {},
   "outputs": [],
   "source": [
    "proj = ccrs.Mercator() #with Mercator you can put lat lon values.\n",
    "fig, ax = plt.subplots(figsize=(15, 15), subplot_kw=dict(projection=proj))\n",
    "\n",
    "ax.set_extent([-65, 30, -78, -62], crs=ccrs.PlateCarree())\n",
    "ax.coastlines(resolution='50m')\n",
    "ax.add_feature(cfeature.NaturalEarthFeature('physical', 'land', '50m',\n",
    "                                        edgecolor='face',\n",
    "                                        facecolor='0.5'))\n",
    "\n",
    "im = ax.pcolormesh(ecco_woa0517_diff.lon, \n",
    "                   ecco_woa0517_diff.lat, \n",
    "                   ecco_woa0517_diff.where(surface_mask_sose.hFacC), \n",
    "                   transform=ccrs.PlateCarree(), cmap='RdBu_r', vmin=-2, vmax=2)\n",
    "cb = fig.colorbar(im, ax=ax, shrink=0.4)\n",
    "cb.set_label(\"Potential Temperature [˚C]\", labelpad=12, fontsize=13)\n",
    "\n",
    "plt.contourf(ecco_woa0517_diff.lon, \n",
    "             ecco_woa0517_diff.lat,  \n",
    "             ecco_woa0517_diff.where(np.abs(ecco_woa0517_diff) < woa0517_pt_error_new_grid.PT_error[0]).where(surface_mask_sose.hFacC),\n",
    "             transform=ccrs.PlateCarree(), colors='none', hatches=['////'])\n",
    "\n",
    "g1 = ax.gridlines(crs=ccrs.PlateCarree(), draw_labels=True)\n",
    "g1.xlabels_top = False\n",
    "g1.ylabels_right = False\n",
    "\n",
    "ax.text(-0.07, 0.55, 'Latitude', va='bottom', ha='center',\n",
    "        rotation='vertical', rotation_mode='anchor',\n",
    "        transform=ax.transAxes, fontsize=12)\n",
    "ax.text(0.5, -0.13, 'Longitude', va='bottom', ha='center',\n",
    "        rotation='horizontal', rotation_mode='anchor',\n",
    "        transform=ax.transAxes, fontsize=12)\n",
    "\n",
    "plt.title(\"Difference between \\n ECCO (1992-2015) and WOA (2005-2017)\", fontsize=14);"
   ]
  },
  {
   "cell_type": "markdown",
   "metadata": {},
   "source": [
    "# <span style='background:Pink'> <font color='Red'> Salinity </font>"
   ]
  },
  {
   "cell_type": "code",
   "execution_count": null,
   "metadata": {},
   "outputs": [],
   "source": [
    "ecco_slt = ecco_slt.SALT.mean(dim='time')"
   ]
  },
  {
   "cell_type": "markdown",
   "metadata": {},
   "source": [
    "### <span style='color:Brown'> Interpolating WOA (1981-2010) salt data onto ECCO's grid"
   ]
  },
  {
   "cell_type": "code",
   "execution_count": null,
   "metadata": {},
   "outputs": [],
   "source": [
    "regridder_slt = xe.Regridder(woa8110_slt, ecco_slt, method='bilinear')\n",
    "\n",
    "woa8110_slt_new_grid = regridder_slt(woa8110_slt)\n",
    "woa8110_slt_new_grid"
   ]
  },
  {
   "cell_type": "markdown",
   "metadata": {},
   "source": [
    "### <span style='color:Brown'> Interpolating WOA (1981-2010) salt ERROR data onto ECCO's grid"
   ]
  },
  {
   "cell_type": "code",
   "execution_count": null,
   "metadata": {},
   "outputs": [],
   "source": [
    "regridder_slt_error = xe.Regridder(woa8110_slt_error, ecco_slt, method='bilinear')\n",
    "\n",
    "woa8110_slt_error_new_grid = regridder_slt_error(woa8110_slt_error)\n",
    "woa8110_slt_error_new_grid"
   ]
  },
  {
   "cell_type": "markdown",
   "metadata": {},
   "source": [
    "## <span style='background:Yellow'> <font color='Red'> Bottom salinity `ECCO - WOA` (1981-2010) </font>"
   ]
  },
  {
   "cell_type": "code",
   "execution_count": null,
   "metadata": {},
   "outputs": [],
   "source": [
    "#checking if nans\n",
    "print(np.isnan(ecco_slt.sum()))"
   ]
  },
  {
   "cell_type": "code",
   "execution_count": null,
   "metadata": {},
   "outputs": [],
   "source": [
    "ecco_woa8110_slt_diff = ecco_slt - woa8110_slt_new_grid.isel(time=0).san\n",
    "ecco_woa8110_slt_diff"
   ]
  },
  {
   "cell_type": "code",
   "execution_count": null,
   "metadata": {},
   "outputs": [],
   "source": [
    "proj = ccrs.Mercator() #with Mercator you can put lat lon values.\n",
    "fig, ax = plt.subplots(figsize=(15, 15), subplot_kw=dict(projection=proj))\n",
    "\n",
    "ax.set_extent([-65, 30, -78, -62], crs=ccrs.PlateCarree())\n",
    "ax.coastlines(resolution='50m')\n",
    "#ax.add_feature(cfeature.LAND, facecolor='0.8', edgecolor='k')\n",
    "\n",
    "ax.add_feature(cfeature.NaturalEarthFeature('physical', 'land', '50m',\n",
    "                                        edgecolor='face',\n",
    "                                        facecolor='0.5'))\n",
    "im = ax.pcolormesh(ecco_woa8110_slt_diff.lon, \n",
    "                   ecco_woa8110_slt_diff.lat, \n",
    "                   ecco_woa8110_slt_diff.where(surface_mask_sose.hFacC), \n",
    "                   transform=ccrs.PlateCarree(), cmap='RdBu_r', vmin=-1, vmax=0)\n",
    "cb = fig.colorbar(im, ax=ax, shrink=0.4)\n",
    "cb.set_label(\"Practical Salinity [psu]\", labelpad=12, fontsize=13)\n",
    "\n",
    "plt.contourf(ecco_woa8110_slt_diff.lon, \n",
    "             ecco_woa8110_slt_diff.lat, \n",
    "             ecco_woa8110_slt_diff.where(np.abs(ecco_woa8110_slt_diff) < woa8110_slt_error_new_grid.sse[0]).where(surface_mask_sose.hFacC),\n",
    "             transform=ccrs.PlateCarree(), colors='none', hatches=['////'])\n",
    "\n",
    "g1 = ax.gridlines(crs=ccrs.PlateCarree(), draw_labels=True)\n",
    "g1.xlabels_top = False\n",
    "g1.ylabels_right = False\n",
    "\n",
    "ax.text(-0.07, 0.55, 'Latitude', va='bottom', ha='center',\n",
    "        rotation='vertical', rotation_mode='anchor',\n",
    "        transform=ax.transAxes, fontsize=12)\n",
    "ax.text(0.5, -0.13, 'Longitude', va='bottom', ha='center',\n",
    "        rotation='horizontal', rotation_mode='anchor',\n",
    "        transform=ax.transAxes, fontsize=12)\n",
    "\n",
    "plt.title(\"Difference between \\n ECCO (1992-2015) and WOA (1981-2010)\", fontsize=14);"
   ]
  },
  {
   "cell_type": "markdown",
   "metadata": {},
   "source": [
    "### <span style='color:Brown'> Interpolating WOA (2005-2017) salt data onto ECCO's grid"
   ]
  },
  {
   "cell_type": "code",
   "execution_count": null,
   "metadata": {},
   "outputs": [],
   "source": [
    "regridder_0517_slt = xe.Regridder(woa0517_slt, ecco_slt, method='bilinear')\n",
    "\n",
    "woa0517_slt_new_grid = regridder_0517_slt(woa0517_slt)\n",
    "woa0517_slt_new_grid"
   ]
  },
  {
   "cell_type": "markdown",
   "metadata": {},
   "source": [
    "### <span style='color:Brown'> Interpolating WOA (2005-2017) salt ERROR data onto ECCO's grid"
   ]
  },
  {
   "cell_type": "code",
   "execution_count": null,
   "metadata": {},
   "outputs": [],
   "source": [
    "regridder_0517_slt_error = xe.Regridder(woa0517_slt_error, ecco_slt, method='bilinear')\n",
    "\n",
    "woa0517_slt_error_new_grid = regridder_0517_slt_error(woa0517_slt_error)\n",
    "woa0517_slt_error_new_grid"
   ]
  },
  {
   "cell_type": "markdown",
   "metadata": {},
   "source": [
    "## <span style='background:Yellow'> <font color='Red'> Bottom salinity `ECCO - WOA` (2005-2017) </font>"
   ]
  },
  {
   "cell_type": "code",
   "execution_count": null,
   "metadata": {},
   "outputs": [],
   "source": [
    "ecco_woa0517_slt_diff = ecco_slt - woa0517_slt_new_grid.isel(time=0).san\n",
    "ecco_woa0517_slt_diff"
   ]
  },
  {
   "cell_type": "code",
   "execution_count": null,
   "metadata": {},
   "outputs": [],
   "source": [
    "proj = ccrs.Mercator() #with Mercator you can put lat lon values.\n",
    "fig, ax = plt.subplots(figsize=(15, 15), subplot_kw=dict(projection=proj))\n",
    "\n",
    "ax.set_extent([-65, 30, -78, -62], crs=ccrs.PlateCarree())\n",
    "ax.coastlines(resolution='50m')\n",
    "ax.add_feature(cfeature.NaturalEarthFeature('physical', 'land', '50m',\n",
    "                                        edgecolor='face',\n",
    "                                        facecolor='0.5'))\n",
    "\n",
    "im = ax.pcolormesh(ecco_woa0517_slt_diff.lon, \n",
    "                   ecco_woa0517_slt_diff.lat, \n",
    "                   ecco_woa0517_slt_diff.where(surface_mask_sose.hFacC), \n",
    "                   transform=ccrs.PlateCarree(), cmap='RdBu_r', vmin=-1, vmax=0)\n",
    "cb = fig.colorbar(im, ax=ax, shrink=0.4)\n",
    "cb.set_label(\"Practical Salinity [psu]\", labelpad=12, fontsize=13)\n",
    "\n",
    "plt.contourf(ecco_woa0517_slt_diff.lon, \n",
    "             ecco_woa0517_slt_diff.lat, \n",
    "             ecco_woa0517_slt_diff.where(np.abs(ecco_woa0517_slt_diff) < woa0517_slt_error_new_grid.sse[0]).where(surface_mask_sose.hFacC),\n",
    "             transform=ccrs.PlateCarree(), colors='none', hatches=['////'])\n",
    "\n",
    "g1 = ax.gridlines(crs=ccrs.PlateCarree(), draw_labels=True)\n",
    "g1.xlabels_top = False\n",
    "g1.ylabels_right = False\n",
    "\n",
    "ax.text(-0.07, 0.55, 'Latitude', va='bottom', ha='center',\n",
    "        rotation='vertical', rotation_mode='anchor',\n",
    "        transform=ax.transAxes, fontsize=12)\n",
    "ax.text(0.5, -0.13, 'Longitude', va='bottom', ha='center',\n",
    "        rotation='horizontal', rotation_mode='anchor',\n",
    "        transform=ax.transAxes, fontsize=12)\n",
    "\n",
    "plt.title(\"Difference between \\n ECCO (1992-2015) and WOA (2005-2017)\", fontsize=14);"
   ]
  },
  {
   "cell_type": "code",
   "execution_count": null,
   "metadata": {},
   "outputs": [],
   "source": []
  }
 ],
 "metadata": {
  "kernelspec": {
   "display_name": "Python 3",
   "language": "python",
   "name": "python3"
  },
  "language_info": {
   "codemirror_mode": {
    "name": "ipython",
    "version": 3
   },
   "file_extension": ".py",
   "mimetype": "text/x-python",
   "name": "python",
   "nbconvert_exporter": "python",
   "pygments_lexer": "ipython3",
   "version": "3.7.3"
  }
 },
 "nbformat": 4,
 "nbformat_minor": 4
}
