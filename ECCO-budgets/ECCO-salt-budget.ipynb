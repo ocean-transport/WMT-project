{
 "cells": [
  {
   "cell_type": "markdown",
   "metadata": {},
   "source": [
    "# ECCO SALT BUDGET"
   ]
  },
  {
   "cell_type": "code",
   "execution_count": 1,
   "metadata": {},
   "outputs": [],
   "source": [
    "import os\n",
    "\n",
    "os.environ['NUMPY_EXPERIMENTAL_ARRAY_FUNCTION'] = '0'"
   ]
  },
  {
   "cell_type": "code",
   "execution_count": 2,
   "metadata": {},
   "outputs": [],
   "source": [
    "from dask.distributed import Client, progress\n",
    "from dask_kubernetes import KubeCluster\n",
    "\n",
    "cluster = KubeCluster(n_workers=10)#, env={\"NUMPY_EXPERIMENTAL_ARRAY_FUNCTION\": \"0\"})"
   ]
  },
  {
   "cell_type": "code",
   "execution_count": 3,
   "metadata": {},
   "outputs": [
    {
     "data": {
      "text/html": [
       "<table style=\"border: 2px solid white;\">\n",
       "<tr>\n",
       "<td style=\"vertical-align: top; border: 0px solid white\">\n",
       "<h3 style=\"text-align: left;\">Client</h3>\n",
       "<ul style=\"text-align: left; list-style: none; margin: 0; padding: 0;\">\n",
       "  <li><b>Scheduler: </b>tcp://10.32.60.111:46137</li>\n",
       "  <li><b>Dashboard: </b><a href='/user/0000-0002-8176-9465/proxy/8787/status' target='_blank'>/user/0000-0002-8176-9465/proxy/8787/status</a>\n",
       "</ul>\n",
       "</td>\n",
       "<td style=\"vertical-align: top; border: 0px solid white\">\n",
       "<h3 style=\"text-align: left;\">Cluster</h3>\n",
       "<ul style=\"text-align: left; list-style:none; margin: 0; padding: 0;\">\n",
       "  <li><b>Workers: </b>10</li>\n",
       "  <li><b>Cores: </b>20</li>\n",
       "  <li><b>Memory: </b>115.00 GB</li>\n",
       "</ul>\n",
       "</td>\n",
       "</tr>\n",
       "</table>"
      ],
      "text/plain": [
       "<Client: scheduler='tcp://10.32.60.111:46137' processes=10 cores=20>"
      ]
     },
     "execution_count": 3,
     "metadata": {},
     "output_type": "execute_result"
    }
   ],
   "source": [
    "client = Client(cluster)\n",
    "client"
   ]
  },
  {
   "cell_type": "code",
   "execution_count": 4,
   "metadata": {},
   "outputs": [
    {
     "name": "stderr",
     "output_type": "stream",
     "text": [
      "/srv/conda/envs/notebook/lib/python3.7/site-packages/tqdm/autonotebook/__init__.py:18: TqdmExperimentalWarning: Using `tqdm.autonotebook.tqdm` in notebook mode. Use `tqdm.tqdm` instead to force console mode (e.g. in jupyter console)\n",
      "  \" (e.g. in jupyter console)\", TqdmExperimentalWarning)\n",
      "/srv/conda/envs/notebook/lib/python3.7/site-packages/intake/source/discovery.py:136: FutureWarning: The drivers ['esm_metadatastore'] do not specify entry_points and were only discovered via a package scan. This may break in a future release of intake. The packages should be updated.\n",
      "  FutureWarning)\n"
     ]
    }
   ],
   "source": [
    "import xarray as xr\n",
    "from matplotlib import pyplot as plt\n",
    "#import gcsfs\n",
    "import dask\n",
    "import dask.array as dsa\n",
    "import numpy as np\n",
    "import intake\n",
    "%matplotlib inline"
   ]
  },
  {
   "cell_type": "code",
   "execution_count": 5,
   "metadata": {},
   "outputs": [],
   "source": [
    "from xmitgcm.llcreader.llcmodel import faces_dataset_to_latlon"
   ]
  },
  {
   "cell_type": "code",
   "execution_count": 6,
   "metadata": {},
   "outputs": [],
   "source": [
    "ecco_url = 'https://raw.githubusercontent.com/pangeo-data/pangeo-datastore/master/intake-catalogs/ocean.yaml'\n",
    "ecco_cat = intake.Catalog(ecco_url)\n",
    "ds = ecco_cat[\"ECCOv4r3\"].to_dask()"
   ]
  },
  {
   "cell_type": "code",
   "execution_count": 7,
   "metadata": {},
   "outputs": [
    {
     "data": {
      "text/plain": [
       "<xarray.Dataset>\n",
       "Dimensions:    (face: 13, i: 360, i_g: 360, j: 270, j_g: 270, k: 50, k_l: 50, k_p1: 51, k_u: 50, time: 288, time_snp: 287)\n",
       "Coordinates:\n",
       "  * time_snp   (time_snp) datetime64[ns] 1992-02-01 1992-03-01 ... 2015-12-01\n",
       "  * i_g        (i_g) int64 0 1 2 3 4 5 6 7 8 ... 352 353 354 355 356 357 358 359\n",
       "  * time       (time) datetime64[ns] 1992-01-15 1992-02-13 ... 2015-12-14\n",
       "  * face       (face) int64 0 1 2 3 4 5 6 7 8 9 10 11 12\n",
       "  * j_g        (j_g) int64 0 1 2 3 4 5 6 7 8 ... 262 263 264 265 266 267 268 269\n",
       "  * j          (j) int64 0 1 2 3 4 5 6 7 8 ... 262 263 264 265 266 267 268 269\n",
       "  * k_u        (k_u) int64 0 1 2 3 4 5 6 7 8 9 ... 40 41 42 43 44 45 46 47 48 49\n",
       "  * k          (k) int64 0 1 2 3 4 5 6 7 8 9 ... 40 41 42 43 44 45 46 47 48 49\n",
       "  * k_p1       (k_p1) int64 0 1 2 3 4 5 6 7 8 9 ... 42 43 44 45 46 47 48 49 50\n",
       "  * i          (i) int64 0 1 2 3 4 5 6 7 8 ... 352 353 354 355 356 357 358 359\n",
       "  * k_l        (k_l) int64 0 1 2 3 4 5 6 7 8 9 ... 40 41 42 43 44 45 46 47 48 49\n",
       "    Depth      (j, i) float32 dask.array<shape=(270, 360), chunksize=(90, 90)>\n",
       "    PHrefC     (k) float32 dask.array<shape=(50,), chunksize=(50,)>\n",
       "    PHrefF     (k_p1) float32 dask.array<shape=(51,), chunksize=(51,)>\n",
       "    XC         (j, i) float32 dask.array<shape=(270, 360), chunksize=(90, 90)>\n",
       "    XG         (j_g, i_g) float32 dask.array<shape=(270, 360), chunksize=(90, 90)>\n",
       "    YC         (j, i) float32 dask.array<shape=(270, 360), chunksize=(90, 90)>\n",
       "    YG         (j_g, i_g) float32 dask.array<shape=(270, 360), chunksize=(90, 90)>\n",
       "    Z          (k) float32 dask.array<shape=(50,), chunksize=(50,)>\n",
       "    Zl         (k_l) float32 dask.array<shape=(50,), chunksize=(50,)>\n",
       "    Zp1        (k_p1) float32 dask.array<shape=(51,), chunksize=(51,)>\n",
       "    Zu         (k_u) float32 dask.array<shape=(50,), chunksize=(50,)>\n",
       "    drC        (k_p1) float32 dask.array<shape=(51,), chunksize=(51,)>\n",
       "    drF        (k) float32 dask.array<shape=(50,), chunksize=(50,)>\n",
       "    hFacC      (k, j, i) float32 dask.array<shape=(50, 270, 360), chunksize=(50, 90, 90)>\n",
       "    hFacS      (k, j_g, i) float32 dask.array<shape=(50, 270, 360), chunksize=(50, 90, 90)>\n",
       "    hFacW      (k, j, i_g) float32 dask.array<shape=(50, 270, 360), chunksize=(50, 90, 90)>\n",
       "    iter       (time) int64 dask.array<shape=(288,), chunksize=(1,)>\n",
       "    iter_snp   (time_snp) int64 dask.array<shape=(287,), chunksize=(1,)>\n",
       "    rA         (j, i) float32 dask.array<shape=(270, 360), chunksize=(90, 90)>\n",
       "    rAs        (j_g, i) float32 dask.array<shape=(270, 360), chunksize=(90, 90)>\n",
       "    rAw        (j, i_g) float32 dask.array<shape=(270, 360), chunksize=(90, 90)>\n",
       "    rAz        (j_g, i_g) float32 dask.array<shape=(270, 360), chunksize=(90, 90)>\n",
       "    dxC        (j, i_g) float32 dask.array<shape=(270, 360), chunksize=(90, 90)>\n",
       "    dyC        (j_g, i) float32 dask.array<shape=(270, 360), chunksize=(1, 90)>\n",
       "    dyG        (j, i_g) float32 dask.array<shape=(270, 360), chunksize=(90, 90)>\n",
       "    dxG        (j_g, i) float32 dask.array<shape=(270, 360), chunksize=(1, 90)>\n",
       "Data variables:\n",
       "    ADVr_SLT   (time, k_l, j, i) float32 dask.array<shape=(288, 50, 270, 360), chunksize=(1, 50, 90, 90)>\n",
       "    ADVr_TH    (time, k_l, j, i) float32 dask.array<shape=(288, 50, 270, 360), chunksize=(1, 50, 90, 90)>\n",
       "    DFrE_SLT   (time, k_l, j, i) float32 dask.array<shape=(288, 50, 270, 360), chunksize=(1, 50, 90, 90)>\n",
       "    DFrE_TH    (time, k_l, j, i) float32 dask.array<shape=(288, 50, 270, 360), chunksize=(1, 50, 90, 90)>\n",
       "    DFrI_SLT   (time, k_l, j, i) float32 dask.array<shape=(288, 50, 270, 360), chunksize=(1, 50, 90, 90)>\n",
       "    DFrI_TH    (time, k_l, j, i) float32 dask.array<shape=(288, 50, 270, 360), chunksize=(1, 50, 90, 90)>\n",
       "    ETAN       (time, j, i) float32 dask.array<shape=(288, 270, 360), chunksize=(1, 90, 90)>\n",
       "    ETAN_snp   (time_snp, j, i) float32 dask.array<shape=(287, 270, 360), chunksize=(1, 90, 90)>\n",
       "    GEOFLX     (j, i) float32 dask.array<shape=(270, 360), chunksize=(90, 90)>\n",
       "    SALT       (time, k, j, i) float32 dask.array<shape=(288, 50, 270, 360), chunksize=(1, 50, 90, 90)>\n",
       "    SALT_snp   (time_snp, k, j, i) float32 dask.array<shape=(287, 50, 270, 360), chunksize=(1, 50, 90, 90)>\n",
       "    SFLUX      (time, j, i) float32 dask.array<shape=(288, 270, 360), chunksize=(1, 90, 90)>\n",
       "    TFLUX      (time, j, i) float32 dask.array<shape=(288, 270, 360), chunksize=(1, 90, 90)>\n",
       "    THETA      (time, k, j, i) float32 dask.array<shape=(288, 50, 270, 360), chunksize=(1, 50, 90, 90)>\n",
       "    THETA_snp  (time_snp, k, j, i) float32 dask.array<shape=(287, 50, 270, 360), chunksize=(1, 50, 90, 90)>\n",
       "    WVELMASS   (time, k_l, j, i) float32 dask.array<shape=(288, 50, 270, 360), chunksize=(1, 50, 90, 90)>\n",
       "    oceFWflx   (time, j, i) float32 dask.array<shape=(288, 270, 360), chunksize=(1, 90, 90)>\n",
       "    oceQsw     (time, j, i) float32 dask.array<shape=(288, 270, 360), chunksize=(1, 90, 90)>\n",
       "    oceSPtnd   (time, k, j, i) float32 dask.array<shape=(288, 50, 270, 360), chunksize=(1, 50, 90, 90)>\n",
       "    ADVx_SLT   (time, k, j, i_g) float32 dask.array<shape=(288, 50, 270, 360), chunksize=(1, 50, 90, 90)>\n",
       "    ADVy_SLT   (time, k, j_g, i) float32 dask.array<shape=(288, 50, 270, 360), chunksize=(1, 50, 1, 90)>\n",
       "    ADVx_TH    (time, k, j, i_g) float32 dask.array<shape=(288, 50, 270, 360), chunksize=(1, 50, 90, 90)>\n",
       "    ADVy_TH    (time, k, j_g, i) float32 dask.array<shape=(288, 50, 270, 360), chunksize=(1, 50, 1, 90)>\n",
       "    DFxE_SLT   (time, k, j, i_g) float32 dask.array<shape=(288, 50, 270, 360), chunksize=(1, 50, 90, 90)>\n",
       "    DFyE_SLT   (time, k, j_g, i) float32 dask.array<shape=(288, 50, 270, 360), chunksize=(1, 50, 1, 90)>\n",
       "    DFxE_TH    (time, k, j, i_g) float32 dask.array<shape=(288, 50, 270, 360), chunksize=(1, 50, 90, 90)>\n",
       "    DFyE_TH    (time, k, j_g, i) float32 dask.array<shape=(288, 50, 270, 360), chunksize=(1, 50, 1, 90)>\n",
       "    UVELMASS   (time, k, j, i_g) float32 dask.array<shape=(288, 50, 270, 360), chunksize=(1, 50, 90, 90)>\n",
       "    VVELMASS   (time, k, j_g, i) float32 dask.array<shape=(288, 50, 270, 360), chunksize=(1, 50, 1, 90)>"
      ]
     },
     "execution_count": 7,
     "metadata": {},
     "output_type": "execute_result"
    }
   ],
   "source": [
    "ds_ll = faces_dataset_to_latlon(ds)\n",
    "ds_ll"
   ]
  },
  {
   "cell_type": "code",
   "execution_count": 8,
   "metadata": {},
   "outputs": [
    {
     "name": "stderr",
     "output_type": "stream",
     "text": [
      "/srv/conda/envs/notebook/lib/python3.7/site-packages/xarray/core/dataarray.py:2447: FutureWarning: roll_coords will be set to False in the future. Explicitly set roll_coords to silence warning.\n",
      "  shifts=shifts, roll_coords=roll_coords, **shifts_kwargs)\n"
     ]
    },
    {
     "data": {
      "text/plain": [
       "<matplotlib.collections.QuadMesh at 0x7f8286512fd0>"
      ]
     },
     "execution_count": 8,
     "metadata": {},
     "output_type": "execute_result"
    },
    {
     "data": {
      "image/png": "[encoded data removed]",
      "text/plain": [
       "<Figure size 432x288 with 2 Axes>"
      ]
     },
     "metadata": {
      "needs_background": "light"
     },
     "output_type": "display_data"
    }
   ],
   "source": [
    "#ryan fixed the <i,j,k> coords\n",
    "ds_ll.Depth.roll(i=100).drop('i').plot()"
   ]
  },
  {
   "cell_type": "code",
   "execution_count": 9,
   "metadata": {},
   "outputs": [],
   "source": [
    "ds_ll_drop = ds_ll.drop(['i', 'j', 'k', 'i_g', 'j_g', 'k_u', 'k_l', 'k_p1'])"
   ]
  },
  {
   "cell_type": "code",
   "execution_count": 10,
   "metadata": {},
   "outputs": [
    {
     "name": "stderr",
     "output_type": "stream",
     "text": [
      "/srv/conda/envs/notebook/lib/python3.7/site-packages/ipykernel_launcher.py:2: FutureWarning: roll_coords will be set to False in the future. Explicitly set roll_coords to silence warning.\n",
      "  \n",
      "/srv/conda/envs/notebook/lib/python3.7/site-packages/ipykernel_launcher.py:3: FutureWarning: roll_coords will be set to False in the future. Explicitly set roll_coords to silence warning.\n",
      "  This is separate from the ipykernel package so we can avoid doing imports until\n"
     ]
    },
    {
     "data": {
      "text/plain": [
       "<xarray.Dataset>\n",
       "Dimensions:    (face: 13, i: 360, i_g: 360, j: 270, j_g: 270, k: 50, k_l: 50, k_p1: 51, k_u: 50, time: 288, time_snp: 287)\n",
       "Coordinates:\n",
       "  * time_snp   (time_snp) datetime64[ns] 1992-02-01 1992-03-01 ... 2015-12-01\n",
       "  * time       (time) datetime64[ns] 1992-01-15 1992-02-13 ... 2015-12-14\n",
       "  * face       (face) int64 0 1 2 3 4 5 6 7 8 9 10 11 12\n",
       "Dimensions without coordinates: i, i_g, j, j_g, k, k_l, k_p1, k_u\n",
       "Data variables:\n",
       "    ADVr_SLT   (time, k_l, j, i) float32 dask.array<shape=(288, 50, 270, 360), chunksize=(1, 50, 90, 90)>\n",
       "    ADVr_TH    (time, k_l, j, i) float32 dask.array<shape=(288, 50, 270, 360), chunksize=(1, 50, 90, 90)>\n",
       "    DFrE_SLT   (time, k_l, j, i) float32 dask.array<shape=(288, 50, 270, 360), chunksize=(1, 50, 90, 90)>\n",
       "    DFrE_TH    (time, k_l, j, i) float32 dask.array<shape=(288, 50, 270, 360), chunksize=(1, 50, 90, 90)>\n",
       "    DFrI_SLT   (time, k_l, j, i) float32 dask.array<shape=(288, 50, 270, 360), chunksize=(1, 50, 90, 90)>\n",
       "    DFrI_TH    (time, k_l, j, i) float32 dask.array<shape=(288, 50, 270, 360), chunksize=(1, 50, 90, 90)>\n",
       "    ETAN       (time, j, i) float32 dask.array<shape=(288, 270, 360), chunksize=(1, 90, 90)>\n",
       "    ETAN_snp   (time_snp, j, i) float32 dask.array<shape=(287, 270, 360), chunksize=(1, 90, 90)>\n",
       "    GEOFLX     (j, i) float32 dask.array<shape=(270, 360), chunksize=(90, 90)>\n",
       "    SALT       (time, k, j, i) float32 dask.array<shape=(288, 50, 270, 360), chunksize=(1, 50, 90, 90)>\n",
       "    SALT_snp   (time_snp, k, j, i) float32 dask.array<shape=(287, 50, 270, 360), chunksize=(1, 50, 90, 90)>\n",
       "    SFLUX      (time, j, i) float32 dask.array<shape=(288, 270, 360), chunksize=(1, 90, 90)>\n",
       "    TFLUX      (time, j, i) float32 dask.array<shape=(288, 270, 360), chunksize=(1, 90, 90)>\n",
       "    THETA      (time, k, j, i) float32 dask.array<shape=(288, 50, 270, 360), chunksize=(1, 50, 90, 90)>\n",
       "    THETA_snp  (time_snp, k, j, i) float32 dask.array<shape=(287, 50, 270, 360), chunksize=(1, 50, 90, 90)>\n",
       "    WVELMASS   (time, k_l, j, i) float32 dask.array<shape=(288, 50, 270, 360), chunksize=(1, 50, 90, 90)>\n",
       "    oceFWflx   (time, j, i) float32 dask.array<shape=(288, 270, 360), chunksize=(1, 90, 90)>\n",
       "    oceQsw     (time, j, i) float32 dask.array<shape=(288, 270, 360), chunksize=(1, 90, 90)>\n",
       "    oceSPtnd   (time, k, j, i) float32 dask.array<shape=(288, 50, 270, 360), chunksize=(1, 50, 90, 90)>\n",
       "    ADVx_SLT   (time, k, j, i_g) float32 dask.array<shape=(288, 50, 270, 360), chunksize=(1, 50, 90, 90)>\n",
       "    ADVy_SLT   (time, k, j_g, i) float32 dask.array<shape=(288, 50, 270, 360), chunksize=(1, 50, 1, 90)>\n",
       "    ADVx_TH    (time, k, j, i_g) float32 dask.array<shape=(288, 50, 270, 360), chunksize=(1, 50, 90, 90)>\n",
       "    ADVy_TH    (time, k, j_g, i) float32 dask.array<shape=(288, 50, 270, 360), chunksize=(1, 50, 1, 90)>\n",
       "    DFxE_SLT   (time, k, j, i_g) float32 dask.array<shape=(288, 50, 270, 360), chunksize=(1, 50, 90, 90)>\n",
       "    DFyE_SLT   (time, k, j_g, i) float32 dask.array<shape=(288, 50, 270, 360), chunksize=(1, 50, 1, 90)>\n",
       "    DFxE_TH    (time, k, j, i_g) float32 dask.array<shape=(288, 50, 270, 360), chunksize=(1, 50, 90, 90)>\n",
       "    DFyE_TH    (time, k, j_g, i) float32 dask.array<shape=(288, 50, 270, 360), chunksize=(1, 50, 1, 90)>\n",
       "    UVELMASS   (time, k, j, i_g) float32 dask.array<shape=(288, 50, 270, 360), chunksize=(1, 50, 90, 90)>\n",
       "    VVELMASS   (time, k, j_g, i) float32 dask.array<shape=(288, 50, 270, 360), chunksize=(1, 50, 1, 90)>"
      ]
     },
     "execution_count": 10,
     "metadata": {},
     "output_type": "execute_result"
    }
   ],
   "source": [
    "# a trick to make things work a bit faster\n",
    "coords = ds_ll_drop.coords.to_dataset().reset_coords().roll(i=100, i_g=100)\n",
    "ds = ds_ll_drop.reset_coords(drop=True).roll(i=100, i_g=100)\n",
    "ds"
   ]
  },
  {
   "cell_type": "code",
   "execution_count": 12,
   "metadata": {},
   "outputs": [
    {
     "data": {
      "text/plain": [
       "<xarray.DataArray 'ADVr_SLT' (time: 288, k_l: 50, j: 270, i: 360)>\n",
       "dask.array<shape=(288, 50, 270, 360), dtype=float32, chunksize=(1, 50, 90, 90)>\n",
       "Coordinates:\n",
       "  * time     (time) datetime64[ns] 1992-01-15 1992-02-13 ... 2015-12-14\n",
       "Dimensions without coordinates: k_l, j, i\n",
       "Attributes:\n",
       "    long_name:      Vertical   Advective Flux of Salinity\n",
       "    standard_name:  ADVr_SLT\n",
       "    units:          psu.m^3/s"
      ]
     },
     "execution_count": 12,
     "metadata": {},
     "output_type": "execute_result"
    }
   ],
   "source": [
    "ds.ADVr_SLT"
   ]
  },
  {
   "cell_type": "code",
   "execution_count": 14,
   "metadata": {},
   "outputs": [
    {
     "data": {
      "text/plain": [
       "<xarray.DataArray 'time_snp' (time_snp: 287)>\n",
       "array(['1992-02-01T00:00:00.000000000', '1992-03-01T00:00:00.000000000',\n",
       "       '1992-04-01T00:00:00.000000000', ..., '2015-10-01T00:00:00.000000000',\n",
       "       '2015-11-01T00:00:00.000000000', '2015-12-01T00:00:00.000000000'],\n",
       "      dtype='datetime64[ns]')\n",
       "Coordinates:\n",
       "  * time_snp  (time_snp) datetime64[ns] 1992-02-01 1992-03-01 ... 2015-12-01\n",
       "Attributes:\n",
       "    axis:               T\n",
       "    c_grid_axis_shift:  0.5\n",
       "    long_name:          Time\n",
       "    standard_name:      time"
      ]
     },
     "execution_count": 14,
     "metadata": {},
     "output_type": "execute_result"
    }
   ],
   "source": [
    "ds.time_snp"
   ]
  },
  {
   "cell_type": "code",
   "execution_count": 18,
   "metadata": {},
   "outputs": [
    {
     "data": {
      "text/plain": [
       "<xarray.DataArray 'time' (time: 286)>\n",
       "array(['1992-02-13T00:00:00.000000000', '1992-03-15T00:00:00.000000000',\n",
       "       '1992-04-14T00:00:00.000000000', ..., '2015-09-14T00:00:00.000000000',\n",
       "       '2015-10-15T00:00:00.000000000', '2015-11-14T00:00:00.000000000'],\n",
       "      dtype='datetime64[ns]')\n",
       "Coordinates:\n",
       "  * time     (time) datetime64[ns] 1992-02-13 1992-03-15 ... 2015-11-14\n",
       "Attributes:\n",
       "    axis:           T\n",
       "    long_name:      Time\n",
       "    standard_name:  time"
      ]
     },
     "execution_count": 18,
     "metadata": {},
     "output_type": "execute_result"
    }
   ],
   "source": [
    "ds.time[1:-1]"
   ]
  },
  {
   "cell_type": "code",
   "execution_count": 19,
   "metadata": {},
   "outputs": [
    {
     "data": {
      "text/plain": [
       "<xarray.DataArray 'time' (time: 286)>\n",
       "array(['1992-03-01T00:00:00.000000000', '1992-04-01T00:00:00.000000000',\n",
       "       '1992-05-01T00:00:00.000000000', ..., '2015-10-01T00:00:00.000000000',\n",
       "       '2015-11-01T00:00:00.000000000', '2015-12-01T00:00:00.000000000'],\n",
       "      dtype='datetime64[ns]')\n",
       "Coordinates:\n",
       "  * time     (time) datetime64[ns] 1992-03-01 1992-04-01 ... 2015-12-01\n",
       "Attributes:\n",
       "    axis:               T\n",
       "    c_grid_axis_shift:  0.5\n",
       "    long_name:          Time\n",
       "    standard_name:      time"
      ]
     },
     "execution_count": 19,
     "metadata": {},
     "output_type": "execute_result"
    }
   ],
   "source": [
    "dt.time"
   ]
  },
  {
   "cell_type": "raw",
   "metadata": {},
   "source": [
    "#NOT WORKING AS I RUN ON KUBERNETES\n",
    "dt = ds.time_snp[1:].load()\n",
    "dt.values = [float(t)/10**9 for t in np.diff(ds.time_snp)]\n",
    "# Rename time (and iter) axis\n",
    "dt = dt.rename({'time_snp':'time'})\n",
    "# time axis of dt should be the same as of the monthly averages\n",
    "dt.time.values = ds.time[1:-1].values\n",
    "ds = ds.assign_coords(dt=dt)\n",
    "ds.dt.attrs = {'units': 's','standard_name': 'dt','coordinate': 'time','long_name': 'time span between snapshots'}\n",
    "ds.dt"
   ]
  },
  {
   "cell_type": "markdown",
   "metadata": {},
   "source": [
    "## Salt budget for WG (entire water column)"
   ]
  },
  {
   "cell_type": "code",
   "execution_count": null,
   "metadata": {},
   "outputs": [],
   "source": [
    "sss_mean = ds.SALT.isel(k=0).mean(dim='time').load()"
   ]
  },
  {
   "cell_type": "code",
   "execution_count": null,
   "metadata": {},
   "outputs": [],
   "source": [
    "surface_mask = (coords.hFacC[0]>0).load()\n",
    "surface_mask"
   ]
  },
  {
   "cell_type": "code",
   "execution_count": null,
   "metadata": {},
   "outputs": [],
   "source": [
    "sss_mean.where(surface_mask).plot(figsize=(12,6))\n",
    "plt.grid();"
   ]
  },
  {
   "cell_type": "code",
   "execution_count": null,
   "metadata": {},
   "outputs": [],
   "source": [
    "sss_mean_wg = sss_mean.sel(i=slice(75, 167), j=slice(35, 75))\n",
    "surface_mask_wg = surface_mask.sel(i=slice(75, 167), j=slice(35, 75))"
   ]
  },
  {
   "cell_type": "code",
   "execution_count": null,
   "metadata": {},
   "outputs": [],
   "source": [
    "sss_mean_wg.where(surface_mask_wg).plot(figsize=(12,6))\n",
    "plt.grid();"
   ]
  },
  {
   "cell_type": "code",
   "execution_count": null,
   "metadata": {},
   "outputs": [],
   "source": [
    "lower_j = 0\n",
    "upper_j = 39\n",
    "left_i = 0\n",
    "right_i = 90"
   ]
  },
  {
   "cell_type": "code",
   "execution_count": null,
   "metadata": {},
   "outputs": [],
   "source": [
    "fig, ax = plt.subplots(figsize=(15, 8), subplot_kw={'facecolor': '0.5'})\n",
    "sss_mean_wg.where(surface_mask_wg).plot(ax=ax,  vmin=30, vmax=35)\n",
    "ax.plot([left_i, right_i], [upper_j, upper_j], color='k')\n",
    "ax.plot([right_i, right_i], [lower_j, upper_j], color='k')\n",
    "ax.plot([left_i, left_i], [lower_j, upper_j], color='k')\n",
    "ax.plot([left_i, right_i], [lower_j, lower_j], color='k')\n",
    "\n",
    "#ax.set_xlim([-40, 55])\n",
    "#ax.set_ylim([25, 85])\n",
    "plt.title('SST\\nLat[-71.5, -65.5]\\nLon[-62, 30]')\n",
    "#plt.savefig('ECCO-salt-surf-boundaries', format='pdf');"
   ]
  },
  {
   "cell_type": "code",
   "execution_count": null,
   "metadata": {},
   "outputs": [],
   "source": [
    "lower_lat = 35 #9\n",
    "upper_lat = 75 #44\n",
    "left_lon = 75 #21\n",
    "right_lon = 167 #120"
   ]
  },
  {
   "cell_type": "code",
   "execution_count": null,
   "metadata": {},
   "outputs": [],
   "source": [
    "#set the boundaries\n",
    "lat_range = dict(j=slice(lower_lat, upper_lat))\n",
    "lon_range = dict(i=slice(left_lon, right_lon))"
   ]
  },
  {
   "cell_type": "code",
   "execution_count": null,
   "metadata": {},
   "outputs": [],
   "source": [
    "#advective flux\n",
    "adv_flux_y = ds.ADVy_SLT.isel(**lon_range, j_g=upper_lat).sum(dim=['i', 'k']).load()\n",
    "adv_flux_x = ds.ADVx_SLT.isel(**lat_range, i_g=right_lon).sum(dim=['j', 'k']).load()\n",
    "\n",
    "adv_flux = adv_flux_x + adv_flux_y\n",
    "adv_flux.load()\n",
    "#units: (˚C m^3)/s"
   ]
  },
  {
   "cell_type": "code",
   "execution_count": null,
   "metadata": {},
   "outputs": [],
   "source": [
    "plt.figure(figsize=(12,6))\n",
    "\n",
    "adv_flux_x.plot(label='x')\n",
    "adv_flux_y.plot(label='y')\n",
    "plt.legend()"
   ]
  },
  {
   "cell_type": "code",
   "execution_count": null,
   "metadata": {},
   "outputs": [],
   "source": [
    "#diffusive flux\n",
    "diff_flux_y = ds.DFyE_SLT.isel(**lon_range, j_g=upper_lat).sum(dim=['i', 'k']).load()\n",
    "diff_flux_x = ds.DFxE_SLT.isel(**lat_range, i_g=right_lon).sum(dim=['j', 'k']).load()\n",
    "\n",
    "diff_flux = diff_flux_x + diff_flux_y\n",
    "diff_flux.load()\n",
    "#units: (˚C m^3)/s"
   ]
  },
  {
   "cell_type": "code",
   "execution_count": null,
   "metadata": {},
   "outputs": [],
   "source": [
    "plt.figure(figsize=(12,6))\n",
    "diff_flux_x.plot(label='x')\n",
    "diff_flux_y.plot(label='y')\n",
    "plt.legend()"
   ]
  },
  {
   "cell_type": "code",
   "execution_count": null,
   "metadata": {},
   "outputs": [],
   "source": [
    "#vertical flux\n",
    "s_flux_z = (ds.SFLUX * coords.rA * coords.hFacC.isel(k=0)).isel(**lat_range, **lon_range).sum(\n",
    "                                                                                dim=['i','j'])\n",
    "s_flux_z.load()\n",
    "#units: g/s"
   ]
  },
  {
   "cell_type": "code",
   "execution_count": null,
   "metadata": {},
   "outputs": [],
   "source": [
    "runit2mass = 1.035e3 #kg/m^3\n",
    "surface_term = s_flux_z / runit2mass\n",
    "\n",
    "surface_term.load()\n",
    "\n",
    "#ECCO has nonlinear surface so don't wry about 'lin_fs_correction' term\n",
    "#units: (psu * m^3)/s"
   ]
  },
  {
   "cell_type": "code",
   "execution_count": null,
   "metadata": {},
   "outputs": [],
   "source": [
    "surface_term.plot(label='surf')"
   ]
  },
  {
   "cell_type": "code",
   "execution_count": null,
   "metadata": {},
   "outputs": [],
   "source": [
    "salt_scaled = (ds.SALT_snp * (1 + (ds.ETAN_snp / coords.Depth))).diff('time_snp')\n",
    "salt_scaled\n",
    "#units: g/kg (psu)"
   ]
  },
  {
   "cell_type": "code",
   "execution_count": null,
   "metadata": {},
   "outputs": [],
   "source": [
    "#forcing salt_scaled to have same timestamp as ds.dt by creating new data array called \"salt_scaled\"\n",
    "salt_scaled = xr.DataArray(salt_scaled.data, dims=['time','k','j','i'], \n",
    "                            coords={'time': ds.dt[1:287].time.data\n",
    "#                                     , 'k': theta_scaled['theta_scaled.k.dims'].data, \n",
    "#                                                      'j': theta_scaled['theta_scaled.j.dims'].data, \n",
    "#                                                      'i': theta_scaled['theta_scaled.i.dims'].data\n",
    "                                   })\n",
    "salt_scaled"
   ]
  },
  {
   "cell_type": "code",
   "execution_count": null,
   "metadata": {},
   "outputs": [],
   "source": [
    "salt_tend = (salt_scaled / ds.dt[1:287])\n",
    "#units: g/kg*s (psu/s)"
   ]
  },
  {
   "cell_type": "code",
   "execution_count": null,
   "metadata": {},
   "outputs": [],
   "source": [
    "salt_plume = ((ds.oceSPtnd * coords.rA)/runit2mass).isel(**lat_range, **lon_range).sum(\n",
    "                                                                    dim=['i','j', 'k'])\n",
    "salt_plume.load()"
   ]
  },
  {
   "cell_type": "code",
   "execution_count": null,
   "metadata": {},
   "outputs": [],
   "source": [
    "totstend_weddell = (salt_tend * coords.rA * coords.drF * coords.hFacC).isel(**lat_range, **lon_range).sum(\n",
    "                                                                            dim=['i', 'j', 'k']).load()\n",
    "#units: g*m^3 / kg*s  (psu * m^3 / s)"
   ]
  },
  {
   "cell_type": "code",
   "execution_count": null,
   "metadata": {},
   "outputs": [],
   "source": []
  },
  {
   "cell_type": "code",
   "execution_count": null,
   "metadata": {},
   "outputs": [],
   "source": [
    "plt.figure(figsize=(12,6))\n",
    "rhs = - adv_flux[1:287] - diff_flux[1:287] + surface_term[1:287] + salt_plume[1:287]\n",
    "lhs = totstend_weddell\n",
    "rhs.plot(label='rhs')\n",
    "lhs.plot(label='lhs')\n",
    "plt.legend(loc=4)\n",
    "plt.grid()\n",
    "plt.title('Salt budget for WG \\n(entire column)')\n",
    "plt.xlim('1992', '2016')\n",
    "plt.savefig('ECCO-salt-surf-rhs-lhs-timeseries', format='pdf');"
   ]
  },
  {
   "cell_type": "code",
   "execution_count": null,
   "metadata": {},
   "outputs": [],
   "source": [
    "rhs_terms = xr.merge([adv_flux.rename('adv_flux'),\n",
    "                      diff_flux.rename('diff_flux'),\n",
    "                      surface_term.rename('surf_flux')])"
   ]
  },
  {
   "cell_type": "code",
   "execution_count": null,
   "metadata": {},
   "outputs": [],
   "source": [
    "plt.figure(figsize=(12,6))\n",
    "rhs_terms.to_array().plot.line(x='time')\n",
    "plt.grid();"
   ]
  },
  {
   "cell_type": "code",
   "execution_count": null,
   "metadata": {},
   "outputs": [],
   "source": [
    "all_terms = xr.merge(adv_flux.rename('adv_flux'),\n",
    "                     diff_flux.rename('diff_flux'),\n",
    "                     surface_term.rename('surf_flux'),\n",
    "                     totstend.rename('totstend'))"
   ]
  },
  {
   "cell_type": "code",
   "execution_count": null,
   "metadata": {},
   "outputs": [],
   "source": [
    "all_terms.to_array().plot.line(x='time')\n",
    "plt.legend()\n",
    "#plt.savefig('ECCO-salt-surf-all-terms', format='pdf')"
   ]
  },
  {
   "cell_type": "markdown",
   "metadata": {},
   "source": [
    "## Salt budget for Lower WG (-2,046m to bottom)"
   ]
  },
  {
   "cell_type": "code",
   "execution_count": null,
   "metadata": {},
   "outputs": [],
   "source": [
    "sss_mean_lower = ds.SALT.isel(k=36).mean(dim='time').load()"
   ]
  },
  {
   "cell_type": "code",
   "execution_count": null,
   "metadata": {},
   "outputs": [],
   "source": [
    "surface_mask_lower = (coords.hFacC.isel(k=36)>0).load()"
   ]
  },
  {
   "cell_type": "code",
   "execution_count": null,
   "metadata": {},
   "outputs": [],
   "source": [
    "sss_mean_lower.where(surface_mask_lower).plot(figsize=(12,6))\n",
    "plt.grid();"
   ]
  },
  {
   "cell_type": "code",
   "execution_count": null,
   "metadata": {},
   "outputs": [],
   "source": [
    "sss_mean_wg_lower = sss_mean_lower.sel(i=slice(75, 167), j=slice(35, 75))\n",
    "surface_mask_wg_lower = surface_mask_lower.sel(i=slice(75, 167), j=slice(35, 75))"
   ]
  },
  {
   "cell_type": "code",
   "execution_count": null,
   "metadata": {},
   "outputs": [],
   "source": [
    "sss_mean_wg_lower.where(surface_mask_wg_lower).plot(figsize=(12,6))\n",
    "plt.grid();"
   ]
  },
  {
   "cell_type": "code",
   "execution_count": null,
   "metadata": {},
   "outputs": [],
   "source": [
    "lower_j = 0\n",
    "upper_j = 39\n",
    "left_i = 0\n",
    "right_i = 90"
   ]
  },
  {
   "cell_type": "code",
   "execution_count": null,
   "metadata": {},
   "outputs": [],
   "source": [
    "ds.ADVx_TH"
   ]
  },
  {
   "cell_type": "code",
   "execution_count": null,
   "metadata": {},
   "outputs": [],
   "source": [
    "fig, ax = plt.subplots(figsize=(15, 8), subplot_kw={'facecolor': '0.5'})\n",
    "sss_mean_wg_lower.where(surface_mask_wg_lower).plot(ax=ax,  vmin=34.5, vmax=35)\n",
    "ax.plot([left_i, right_i], [upper_j, upper_j], color='k')\n",
    "ax.plot([right_i, right_i], [lower_j, upper_j], color='k')\n",
    "ax.plot([left_i, left_i], [lower_j, upper_j], color='k')\n",
    "ax.plot([left_i, right_i], [lower_j, lower_j], color='k')\n",
    "\n",
    "#ax.set_xlim([-40, 55])\n",
    "#ax.set_ylim([25, 85])\n",
    "plt.title('SST\\nLat[-71.5, -65.5]\\nLon[-62, 30]');"
   ]
  },
  {
   "cell_type": "code",
   "execution_count": null,
   "metadata": {},
   "outputs": [],
   "source": [
    "#index locations corresponding to above lat/lon coordinates\n",
    "lower_lat_lower = 35\n",
    "upper_lat_lower = 75\n",
    "left_lon_lower = 75\n",
    "right_lon_lower = 167\n",
    "\n",
    "\n",
    "lower_cell_range = dict(k_l=[36, 49])\n",
    "lower_cell_range_z = dict(k=slice(36, 49))"
   ]
  },
  {
   "cell_type": "code",
   "execution_count": null,
   "metadata": {},
   "outputs": [],
   "source": [
    "#set the boundaries\n",
    "lat_range_lower = dict(j=slice(lower_lat_lower, upper_lat_lower))\n",
    "lon_range_lower = dict(i=slice(left_lon_lower, right_lon_lower))"
   ]
  },
  {
   "cell_type": "code",
   "execution_count": null,
   "metadata": {},
   "outputs": [],
   "source": [
    "#advective flux\n",
    "adv_flux_y_lower = ds.ADVy_SLT.isel(**lon_range_lower, j_g=upper_lat_lower, **lower_cell_range_z).sum(\n",
    "                                                                                 dim=['i','k']).load()\n",
    "adv_flux_x_lower = ds.ADVx_SLT.isel(**lat_range_lower, i_g=right_lon_lower, **lower_cell_range_z).sum(\n",
    "                                                                                 dim=['j','k']).load()\n",
    "adv_flux_z_lower = ds.ADVr_SLT.isel(**lon_range_lower, **lat_range_lower, k_l=36).sum(dim=['i', 'j']\n",
    "                                                                                            ).load()\n",
    "\n",
    "adv_flux_lower = adv_flux_x_lower + adv_flux_y_lower + adv_flux_z_lower\n",
    "adv_flux_lower.load()\n",
    "#units: (˚C m^3)/s"
   ]
  },
  {
   "cell_type": "code",
   "execution_count": null,
   "metadata": {},
   "outputs": [],
   "source": [
    "plt.figure(figsize=(12,6))\n",
    "adv_flux_x_lower.plot(label='x')\n",
    "adv_flux_y_lower.plot(label='y')\n",
    "adv_flux_z_lower.plot(label='z')\n",
    "plt.legend();"
   ]
  },
  {
   "cell_type": "code",
   "execution_count": null,
   "metadata": {},
   "outputs": [],
   "source": [
    "#diffusive flux\n",
    "diff_flux_y_lower = ds.DFyE_SLT.isel(**lon_range_lower, j_g=upper_lat_lower, **lower_cell_range_z).sum(\n",
    "                                                                                  dim=['i','k']).load()\n",
    "diff_flux_x_lower = ds.DFxE_SLT.isel(**lat_range_lower, i_g=right_lon_lower, **lower_cell_range_z).sum(\n",
    "                                                                                  dim=['j','k']).load()\n",
    "diff_flux_z_lower = ((ds.DFrE_SLT.isel(**lon_range_lower, **lat_range_lower, k_l=36).sum(dim=['i', 'j'])\n",
    "                    + ds.DFrI_SLT.isel(**lon_range_lower, **lat_range_lower, k_l=36).sum(dim=['i', 'j'])\n",
    "                                                                                               ).load())\n",
    "\n",
    "diff_flux_lower = diff_flux_x_lower + diff_flux_y_lower + diff_flux_z_lower\n",
    "diff_flux_lower.load()\n",
    "#units: (˚C m^3)/s"
   ]
  },
  {
   "cell_type": "code",
   "execution_count": null,
   "metadata": {},
   "outputs": [],
   "source": [
    "plt.figure(figsize=(12,6))\n",
    "diff_flux_x_lower.plot(label='x')\n",
    "diff_flux_y_lower.plot(label='y')\n",
    "diff_flux_z_lower.plot(label='z')\n",
    "plt.legend()"
   ]
  },
  {
   "cell_type": "code",
   "execution_count": null,
   "metadata": {},
   "outputs": [],
   "source": [
    "totstend_weddell_lower = (salt_tend * coords.rA * coords.drF * coords.hFacC).isel(\n",
    "                         **lon_range_lower, **lat_range_lower, **lower_cell_range_z).sum(\n",
    "                                                                            dim=['i', 'j','k'])\n",
    "totstend_weddell_lower.load()\n",
    "#units: (˚C m^3)/s"
   ]
  },
  {
   "cell_type": "code",
   "execution_count": null,
   "metadata": {},
   "outputs": [],
   "source": [
    "totstend_weddell_lower.plot(figsize=(12,6))\n",
    "plt.grid()"
   ]
  },
  {
   "cell_type": "code",
   "execution_count": null,
   "metadata": {},
   "outputs": [],
   "source": [
    "salt_plume_lower = ((ds.oceSPtnd * coords.rA)/runit2mass).isel(**lat_range_lower, **lon_range_lower, \n",
    "                                                               **lower_cell_range_z).sum(\n",
    "                                                               dim=['i','j','k'])\n",
    "salt_plume_lower.load()"
   ]
  },
  {
   "cell_type": "code",
   "execution_count": null,
   "metadata": {},
   "outputs": [],
   "source": [
    "plt.figure(figsize=(12,6))\n",
    "rhs_lower = - adv_flux_lower[1:287] - diff_flux_lower[1:287] + salt_plume_lower[1:287]\n",
    "lhs_lower = totstend_weddell_lower\n",
    "rhs_lower.plot(label='rhs_lower')\n",
    "lhs_lower.plot(label='lhs_lower')\n",
    "plt.legend()\n",
    "plt.grid()\n",
    "plt.title('Salt budget for lower WG region\\n(>2,046m)')\n",
    "plt.xlim('1992', '2016');\n",
    "#plt.savefig('SOSE-heat-inter-rhs-lhs-timeseries', format='pdf')"
   ]
  },
  {
   "cell_type": "code",
   "execution_count": null,
   "metadata": {},
   "outputs": [],
   "source": [
    "rhs_terms_lower = xr.merge([adv_flux_lower.rename('adv'),\n",
    "                            diff_flux_lower.rename('diff'),\n",
    "                            salt_plume_lower.rename('salt_plume')])\n"
   ]
  },
  {
   "cell_type": "code",
   "execution_count": null,
   "metadata": {},
   "outputs": [],
   "source": [
    "plt.figure(figsize=(12,6))\n",
    "rhs_terms_lower.to_array().plot.line(x='time')"
   ]
  },
  {
   "cell_type": "code",
   "execution_count": null,
   "metadata": {},
   "outputs": [],
   "source": []
  }
 ],
 "metadata": {
  "kernelspec": {
   "display_name": "Python 3",
   "language": "python",
   "name": "python3"
  },
  "language_info": {
   "codemirror_mode": {
    "name": "ipython",
    "version": 3
   },
   "file_extension": ".py",
   "mimetype": "text/x-python",
   "name": "python",
   "nbconvert_exporter": "python",
   "pygments_lexer": "ipython3",
   "version": "3.7.3"
  }
 },
 "nbformat": 4,
 "nbformat_minor": 4
}
