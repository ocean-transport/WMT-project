{
 "cells": [
  {
   "cell_type": "markdown",
   "metadata": {},
   "source": [
    "# Zarr ECCO ds - FW Flux added and no scaling factors to theta-tend and salt-tend"
   ]
  },
  {
   "cell_type": "code",
   "execution_count": 1,
   "metadata": {},
   "outputs": [
    {
     "name": "stderr",
     "output_type": "stream",
     "text": [
      "/srv/conda/envs/notebook/lib/python3.7/site-packages/intake/source/discovery.py:136: FutureWarning: The drivers ['geojson', 'postgis', 'shapefile', 'spatialite'] do not specify entry_points and were only discovered via a package scan. This may break in a future release of intake. The packages should be updated.\n",
      "  FutureWarning)\n"
     ]
    }
   ],
   "source": [
    "import xarray as xr\n",
    "from matplotlib import pyplot as plt\n",
    "import gcsfs\n",
    "import dask\n",
    "import dask.array as dsa\n",
    "import numpy as np\n",
    "import intake\n",
    "import fsspec\n",
    "import xmitgcm\n",
    "from xmitgcm.llcreader.llcmodel import faces_dataset_to_latlon\n",
    "%matplotlib inline"
   ]
  },
  {
   "cell_type": "code",
   "execution_count": 2,
   "metadata": {},
   "outputs": [
    {
     "data": {
      "text/plain": [
       "<xarray.core.options.set_options at 0x7f6de4700358>"
      ]
     },
     "execution_count": 2,
     "metadata": {},
     "output_type": "execute_result"
    }
   ],
   "source": [
    "xr.set_options(display_style='text')"
   ]
  },
  {
   "cell_type": "code",
   "execution_count": 3,
   "metadata": {},
   "outputs": [],
   "source": [
    "ds = xr.open_zarr(gcsfs.GCSFileSystem(requester_pays=True).get_mapper('pangeo-ecco-eccov4r3/eccov4r3'), consolidated=True)"
   ]
  },
  {
   "cell_type": "code",
   "execution_count": 4,
   "metadata": {},
   "outputs": [
    {
     "data": {
      "text/html": [
       "<pre>&lt;xarray.Dataset&gt;\n",
       "Dimensions:    (face: 13, i: 90, i_g: 90, j: 90, j_g: 90, k: 50, k_l: 50, k_p1: 51, k_u: 50, time: 288, time_snp: 287)\n",
       "Coordinates:\n",
       "    Depth      (face, j, i) float32 dask.array&lt;chunksize=(13, 90, 90), meta=np.ndarray&gt;\n",
       "    PHrefC     (k) float32 dask.array&lt;chunksize=(50,), meta=np.ndarray&gt;\n",
       "    PHrefF     (k_p1) float32 dask.array&lt;chunksize=(51,), meta=np.ndarray&gt;\n",
       "    XC         (face, j, i) float32 dask.array&lt;chunksize=(13, 90, 90), meta=np.ndarray&gt;\n",
       "    XG         (face, j_g, i_g) float32 dask.array&lt;chunksize=(13, 90, 90), meta=np.ndarray&gt;\n",
       "    YC         (face, j, i) float32 dask.array&lt;chunksize=(13, 90, 90), meta=np.ndarray&gt;\n",
       "    YG         (face, j_g, i_g) float32 dask.array&lt;chunksize=(13, 90, 90), meta=np.ndarray&gt;\n",
       "    Z          (k) float32 dask.array&lt;chunksize=(50,), meta=np.ndarray&gt;\n",
       "    Zl         (k_l) float32 dask.array&lt;chunksize=(50,), meta=np.ndarray&gt;\n",
       "    Zp1        (k_p1) float32 dask.array&lt;chunksize=(51,), meta=np.ndarray&gt;\n",
       "    Zu         (k_u) float32 dask.array&lt;chunksize=(50,), meta=np.ndarray&gt;\n",
       "    drC        (k_p1) float32 dask.array&lt;chunksize=(51,), meta=np.ndarray&gt;\n",
       "    drF        (k) float32 dask.array&lt;chunksize=(50,), meta=np.ndarray&gt;\n",
       "    dxC        (face, j, i_g) float32 dask.array&lt;chunksize=(13, 90, 90), meta=np.ndarray&gt;\n",
       "    dxG        (face, j_g, i) float32 dask.array&lt;chunksize=(13, 90, 90), meta=np.ndarray&gt;\n",
       "    dyC        (face, j_g, i) float32 dask.array&lt;chunksize=(13, 90, 90), meta=np.ndarray&gt;\n",
       "    dyG        (face, j, i_g) float32 dask.array&lt;chunksize=(13, 90, 90), meta=np.ndarray&gt;\n",
       "  * face       (face) int64 0 1 2 3 4 5 6 7 8 9 10 11 12\n",
       "    hFacC      (k, face, j, i) float32 dask.array&lt;chunksize=(50, 13, 90, 90), meta=np.ndarray&gt;\n",
       "    hFacS      (k, face, j_g, i) float32 dask.array&lt;chunksize=(50, 13, 90, 90), meta=np.ndarray&gt;\n",
       "    hFacW      (k, face, j, i_g) float32 dask.array&lt;chunksize=(50, 13, 90, 90), meta=np.ndarray&gt;\n",
       "  * i          (i) int64 0 1 2 3 4 5 6 7 8 9 ... 80 81 82 83 84 85 86 87 88 89\n",
       "  * i_g        (i_g) int64 0 1 2 3 4 5 6 7 8 9 ... 80 81 82 83 84 85 86 87 88 89\n",
       "    iter       (time) int64 dask.array&lt;chunksize=(1,), meta=np.ndarray&gt;\n",
       "    iter_snp   (time_snp) int64 dask.array&lt;chunksize=(1,), meta=np.ndarray&gt;\n",
       "  * j          (j) int64 0 1 2 3 4 5 6 7 8 9 ... 80 81 82 83 84 85 86 87 88 89\n",
       "  * j_g        (j_g) int64 0 1 2 3 4 5 6 7 8 9 ... 80 81 82 83 84 85 86 87 88 89\n",
       "  * k          (k) int64 0 1 2 3 4 5 6 7 8 9 ... 40 41 42 43 44 45 46 47 48 49\n",
       "  * k_l        (k_l) int64 0 1 2 3 4 5 6 7 8 9 ... 40 41 42 43 44 45 46 47 48 49\n",
       "  * k_p1       (k_p1) int64 0 1 2 3 4 5 6 7 8 9 ... 42 43 44 45 46 47 48 49 50\n",
       "  * k_u        (k_u) int64 0 1 2 3 4 5 6 7 8 9 ... 40 41 42 43 44 45 46 47 48 49\n",
       "    rA         (face, j, i) float32 dask.array&lt;chunksize=(13, 90, 90), meta=np.ndarray&gt;\n",
       "    rAs        (face, j_g, i) float32 dask.array&lt;chunksize=(13, 90, 90), meta=np.ndarray&gt;\n",
       "    rAw        (face, j, i_g) float32 dask.array&lt;chunksize=(13, 90, 90), meta=np.ndarray&gt;\n",
       "    rAz        (face, j_g, i_g) float32 dask.array&lt;chunksize=(13, 90, 90), meta=np.ndarray&gt;\n",
       "  * time       (time) datetime64[ns] 1992-01-15 1992-02-13 ... 2015-12-14\n",
       "  * time_snp   (time_snp) datetime64[ns] 1992-02-01 1992-03-01 ... 2015-12-01\n",
       "Data variables:\n",
       "    ADVr_SLT   (time, k_l, face, j, i) float32 dask.array&lt;chunksize=(1, 50, 13, 90, 90), meta=np.ndarray&gt;\n",
       "    ADVr_TH    (time, k_l, face, j, i) float32 dask.array&lt;chunksize=(1, 50, 13, 90, 90), meta=np.ndarray&gt;\n",
       "    ADVx_SLT   (time, k, face, j, i_g) float32 dask.array&lt;chunksize=(1, 50, 13, 90, 90), meta=np.ndarray&gt;\n",
       "    ADVx_TH    (time, k, face, j, i_g) float32 dask.array&lt;chunksize=(1, 50, 13, 90, 90), meta=np.ndarray&gt;\n",
       "    ADVy_SLT   (time, k, face, j_g, i) float32 dask.array&lt;chunksize=(1, 50, 13, 90, 90), meta=np.ndarray&gt;\n",
       "    ADVy_TH    (time, k, face, j_g, i) float32 dask.array&lt;chunksize=(1, 50, 13, 90, 90), meta=np.ndarray&gt;\n",
       "    DFrE_SLT   (time, k_l, face, j, i) float32 dask.array&lt;chunksize=(1, 50, 13, 90, 90), meta=np.ndarray&gt;\n",
       "    DFrE_TH    (time, k_l, face, j, i) float32 dask.array&lt;chunksize=(1, 50, 13, 90, 90), meta=np.ndarray&gt;\n",
       "    DFrI_SLT   (time, k_l, face, j, i) float32 dask.array&lt;chunksize=(1, 50, 13, 90, 90), meta=np.ndarray&gt;\n",
       "    DFrI_TH    (time, k_l, face, j, i) float32 dask.array&lt;chunksize=(1, 50, 13, 90, 90), meta=np.ndarray&gt;\n",
       "    DFxE_SLT   (time, k, face, j, i_g) float32 dask.array&lt;chunksize=(1, 50, 13, 90, 90), meta=np.ndarray&gt;\n",
       "    DFxE_TH    (time, k, face, j, i_g) float32 dask.array&lt;chunksize=(1, 50, 13, 90, 90), meta=np.ndarray&gt;\n",
       "    DFyE_SLT   (time, k, face, j_g, i) float32 dask.array&lt;chunksize=(1, 50, 13, 90, 90), meta=np.ndarray&gt;\n",
       "    DFyE_TH    (time, k, face, j_g, i) float32 dask.array&lt;chunksize=(1, 50, 13, 90, 90), meta=np.ndarray&gt;\n",
       "    ETAN       (time, face, j, i) float32 dask.array&lt;chunksize=(1, 13, 90, 90), meta=np.ndarray&gt;\n",
       "    ETAN_snp   (time_snp, face, j, i) float32 dask.array&lt;chunksize=(1, 13, 90, 90), meta=np.ndarray&gt;\n",
       "    GEOFLX     (face, j, i) float32 dask.array&lt;chunksize=(7, 90, 90), meta=np.ndarray&gt;\n",
       "    MXLDEPTH   (time, face, j, i) float32 dask.array&lt;chunksize=(1, 1, 90, 90), meta=np.ndarray&gt;\n",
       "    SALT       (time, k, face, j, i) float32 dask.array&lt;chunksize=(1, 50, 13, 90, 90), meta=np.ndarray&gt;\n",
       "    SALT_snp   (time_snp, k, face, j, i) float32 dask.array&lt;chunksize=(1, 50, 13, 90, 90), meta=np.ndarray&gt;\n",
       "    SFLUX      (time, face, j, i) float32 dask.array&lt;chunksize=(1, 13, 90, 90), meta=np.ndarray&gt;\n",
       "    TFLUX      (time, face, j, i) float32 dask.array&lt;chunksize=(1, 13, 90, 90), meta=np.ndarray&gt;\n",
       "    THETA      (time, k, face, j, i) float32 dask.array&lt;chunksize=(1, 50, 13, 90, 90), meta=np.ndarray&gt;\n",
       "    THETA_snp  (time_snp, k, face, j, i) float32 dask.array&lt;chunksize=(1, 50, 13, 90, 90), meta=np.ndarray&gt;\n",
       "    UVELMASS   (time, k, face, j, i_g) float32 dask.array&lt;chunksize=(1, 50, 13, 90, 90), meta=np.ndarray&gt;\n",
       "    UVELSTAR   (time, k, face, j, i_g) float32 dask.array&lt;chunksize=(1, 50, 1, 90, 90), meta=np.ndarray&gt;\n",
       "    VVELMASS   (time, k, face, j_g, i) float32 dask.array&lt;chunksize=(1, 50, 13, 90, 90), meta=np.ndarray&gt;\n",
       "    VVELSTAR   (time, k, face, j_g, i) float32 dask.array&lt;chunksize=(1, 50, 1, 90, 90), meta=np.ndarray&gt;\n",
       "    WVELMASS   (time, k_l, face, j, i) float32 dask.array&lt;chunksize=(1, 50, 13, 90, 90), meta=np.ndarray&gt;\n",
       "    WVELSTAR   (time, k_l, face, j, i) float32 dask.array&lt;chunksize=(1, 50, 1, 90, 90), meta=np.ndarray&gt;\n",
       "    oceFWflx   (time, face, j, i) float32 dask.array&lt;chunksize=(1, 13, 90, 90), meta=np.ndarray&gt;\n",
       "    oceQsw     (time, face, j, i) float32 dask.array&lt;chunksize=(1, 13, 90, 90), meta=np.ndarray&gt;\n",
       "    oceSPtnd   (time, k, face, j, i) float32 dask.array&lt;chunksize=(1, 50, 13, 90, 90), meta=np.ndarray&gt;\n",
       "    oceTAUX    (time, face, j, i_g) float32 dask.array&lt;chunksize=(1, 1, 90, 90), meta=np.ndarray&gt;\n",
       "    oceTAUY    (time, face, j_g, i) float32 dask.array&lt;chunksize=(1, 1, 90, 90), meta=np.ndarray&gt;</pre>"
      ],
      "text/plain": [
       "<xarray.Dataset>\n",
       "Dimensions:    (face: 13, i: 90, i_g: 90, j: 90, j_g: 90, k: 50, k_l: 50, k_p1: 51, k_u: 50, time: 288, time_snp: 287)\n",
       "Coordinates:\n",
       "    Depth      (face, j, i) float32 dask.array<chunksize=(13, 90, 90), meta=np.ndarray>\n",
       "    PHrefC     (k) float32 dask.array<chunksize=(50,), meta=np.ndarray>\n",
       "    PHrefF     (k_p1) float32 dask.array<chunksize=(51,), meta=np.ndarray>\n",
       "    XC         (face, j, i) float32 dask.array<chunksize=(13, 90, 90), meta=np.ndarray>\n",
       "    XG         (face, j_g, i_g) float32 dask.array<chunksize=(13, 90, 90), meta=np.ndarray>\n",
       "    YC         (face, j, i) float32 dask.array<chunksize=(13, 90, 90), meta=np.ndarray>\n",
       "    YG         (face, j_g, i_g) float32 dask.array<chunksize=(13, 90, 90), meta=np.ndarray>\n",
       "    Z          (k) float32 dask.array<chunksize=(50,), meta=np.ndarray>\n",
       "    Zl         (k_l) float32 dask.array<chunksize=(50,), meta=np.ndarray>\n",
       "    Zp1        (k_p1) float32 dask.array<chunksize=(51,), meta=np.ndarray>\n",
       "    Zu         (k_u) float32 dask.array<chunksize=(50,), meta=np.ndarray>\n",
       "    drC        (k_p1) float32 dask.array<chunksize=(51,), meta=np.ndarray>\n",
       "    drF        (k) float32 dask.array<chunksize=(50,), meta=np.ndarray>\n",
       "    dxC        (face, j, i_g) float32 dask.array<chunksize=(13, 90, 90), meta=np.ndarray>\n",
       "    dxG        (face, j_g, i) float32 dask.array<chunksize=(13, 90, 90), meta=np.ndarray>\n",
       "    dyC        (face, j_g, i) float32 dask.array<chunksize=(13, 90, 90), meta=np.ndarray>\n",
       "    dyG        (face, j, i_g) float32 dask.array<chunksize=(13, 90, 90), meta=np.ndarray>\n",
       "  * face       (face) int64 0 1 2 3 4 5 6 7 8 9 10 11 12\n",
       "    hFacC      (k, face, j, i) float32 dask.array<chunksize=(50, 13, 90, 90), meta=np.ndarray>\n",
       "    hFacS      (k, face, j_g, i) float32 dask.array<chunksize=(50, 13, 90, 90), meta=np.ndarray>\n",
       "    hFacW      (k, face, j, i_g) float32 dask.array<chunksize=(50, 13, 90, 90), meta=np.ndarray>\n",
       "  * i          (i) int64 0 1 2 3 4 5 6 7 8 9 ... 80 81 82 83 84 85 86 87 88 89\n",
       "  * i_g        (i_g) int64 0 1 2 3 4 5 6 7 8 9 ... 80 81 82 83 84 85 86 87 88 89\n",
       "    iter       (time) int64 dask.array<chunksize=(1,), meta=np.ndarray>\n",
       "    iter_snp   (time_snp) int64 dask.array<chunksize=(1,), meta=np.ndarray>\n",
       "  * j          (j) int64 0 1 2 3 4 5 6 7 8 9 ... 80 81 82 83 84 85 86 87 88 89\n",
       "  * j_g        (j_g) int64 0 1 2 3 4 5 6 7 8 9 ... 80 81 82 83 84 85 86 87 88 89\n",
       "  * k          (k) int64 0 1 2 3 4 5 6 7 8 9 ... 40 41 42 43 44 45 46 47 48 49\n",
       "  * k_l        (k_l) int64 0 1 2 3 4 5 6 7 8 9 ... 40 41 42 43 44 45 46 47 48 49\n",
       "  * k_p1       (k_p1) int64 0 1 2 3 4 5 6 7 8 9 ... 42 43 44 45 46 47 48 49 50\n",
       "  * k_u        (k_u) int64 0 1 2 3 4 5 6 7 8 9 ... 40 41 42 43 44 45 46 47 48 49\n",
       "    rA         (face, j, i) float32 dask.array<chunksize=(13, 90, 90), meta=np.ndarray>\n",
       "    rAs        (face, j_g, i) float32 dask.array<chunksize=(13, 90, 90), meta=np.ndarray>\n",
       "    rAw        (face, j, i_g) float32 dask.array<chunksize=(13, 90, 90), meta=np.ndarray>\n",
       "    rAz        (face, j_g, i_g) float32 dask.array<chunksize=(13, 90, 90), meta=np.ndarray>\n",
       "  * time       (time) datetime64[ns] 1992-01-15 1992-02-13 ... 2015-12-14\n",
       "  * time_snp   (time_snp) datetime64[ns] 1992-02-01 1992-03-01 ... 2015-12-01\n",
       "Data variables:\n",
       "    ADVr_SLT   (time, k_l, face, j, i) float32 dask.array<chunksize=(1, 50, 13, 90, 90), meta=np.ndarray>\n",
       "    ADVr_TH    (time, k_l, face, j, i) float32 dask.array<chunksize=(1, 50, 13, 90, 90), meta=np.ndarray>\n",
       "    ADVx_SLT   (time, k, face, j, i_g) float32 dask.array<chunksize=(1, 50, 13, 90, 90), meta=np.ndarray>\n",
       "    ADVx_TH    (time, k, face, j, i_g) float32 dask.array<chunksize=(1, 50, 13, 90, 90), meta=np.ndarray>\n",
       "    ADVy_SLT   (time, k, face, j_g, i) float32 dask.array<chunksize=(1, 50, 13, 90, 90), meta=np.ndarray>\n",
       "    ADVy_TH    (time, k, face, j_g, i) float32 dask.array<chunksize=(1, 50, 13, 90, 90), meta=np.ndarray>\n",
       "    DFrE_SLT   (time, k_l, face, j, i) float32 dask.array<chunksize=(1, 50, 13, 90, 90), meta=np.ndarray>\n",
       "    DFrE_TH    (time, k_l, face, j, i) float32 dask.array<chunksize=(1, 50, 13, 90, 90), meta=np.ndarray>\n",
       "    DFrI_SLT   (time, k_l, face, j, i) float32 dask.array<chunksize=(1, 50, 13, 90, 90), meta=np.ndarray>\n",
       "    DFrI_TH    (time, k_l, face, j, i) float32 dask.array<chunksize=(1, 50, 13, 90, 90), meta=np.ndarray>\n",
       "    DFxE_SLT   (time, k, face, j, i_g) float32 dask.array<chunksize=(1, 50, 13, 90, 90), meta=np.ndarray>\n",
       "    DFxE_TH    (time, k, face, j, i_g) float32 dask.array<chunksize=(1, 50, 13, 90, 90), meta=np.ndarray>\n",
       "    DFyE_SLT   (time, k, face, j_g, i) float32 dask.array<chunksize=(1, 50, 13, 90, 90), meta=np.ndarray>\n",
       "    DFyE_TH    (time, k, face, j_g, i) float32 dask.array<chunksize=(1, 50, 13, 90, 90), meta=np.ndarray>\n",
       "    ETAN       (time, face, j, i) float32 dask.array<chunksize=(1, 13, 90, 90), meta=np.ndarray>\n",
       "    ETAN_snp   (time_snp, face, j, i) float32 dask.array<chunksize=(1, 13, 90, 90), meta=np.ndarray>\n",
       "    GEOFLX     (face, j, i) float32 dask.array<chunksize=(7, 90, 90), meta=np.ndarray>\n",
       "    MXLDEPTH   (time, face, j, i) float32 dask.array<chunksize=(1, 1, 90, 90), meta=np.ndarray>\n",
       "    SALT       (time, k, face, j, i) float32 dask.array<chunksize=(1, 50, 13, 90, 90), meta=np.ndarray>\n",
       "    SALT_snp   (time_snp, k, face, j, i) float32 dask.array<chunksize=(1, 50, 13, 90, 90), meta=np.ndarray>\n",
       "    SFLUX      (time, face, j, i) float32 dask.array<chunksize=(1, 13, 90, 90), meta=np.ndarray>\n",
       "    TFLUX      (time, face, j, i) float32 dask.array<chunksize=(1, 13, 90, 90), meta=np.ndarray>\n",
       "    THETA      (time, k, face, j, i) float32 dask.array<chunksize=(1, 50, 13, 90, 90), meta=np.ndarray>\n",
       "    THETA_snp  (time_snp, k, face, j, i) float32 dask.array<chunksize=(1, 50, 13, 90, 90), meta=np.ndarray>\n",
       "    UVELMASS   (time, k, face, j, i_g) float32 dask.array<chunksize=(1, 50, 13, 90, 90), meta=np.ndarray>\n",
       "    UVELSTAR   (time, k, face, j, i_g) float32 dask.array<chunksize=(1, 50, 1, 90, 90), meta=np.ndarray>\n",
       "    VVELMASS   (time, k, face, j_g, i) float32 dask.array<chunksize=(1, 50, 13, 90, 90), meta=np.ndarray>\n",
       "    VVELSTAR   (time, k, face, j_g, i) float32 dask.array<chunksize=(1, 50, 1, 90, 90), meta=np.ndarray>\n",
       "    WVELMASS   (time, k_l, face, j, i) float32 dask.array<chunksize=(1, 50, 13, 90, 90), meta=np.ndarray>\n",
       "    WVELSTAR   (time, k_l, face, j, i) float32 dask.array<chunksize=(1, 50, 1, 90, 90), meta=np.ndarray>\n",
       "    oceFWflx   (time, face, j, i) float32 dask.array<chunksize=(1, 13, 90, 90), meta=np.ndarray>\n",
       "    oceQsw     (time, face, j, i) float32 dask.array<chunksize=(1, 13, 90, 90), meta=np.ndarray>\n",
       "    oceSPtnd   (time, k, face, j, i) float32 dask.array<chunksize=(1, 50, 13, 90, 90), meta=np.ndarray>\n",
       "    oceTAUX    (time, face, j, i_g) float32 dask.array<chunksize=(1, 1, 90, 90), meta=np.ndarray>\n",
       "    oceTAUY    (time, face, j_g, i) float32 dask.array<chunksize=(1, 1, 90, 90), meta=np.ndarray>"
      ]
     },
     "execution_count": 4,
     "metadata": {},
     "output_type": "execute_result"
    }
   ],
   "source": [
    "ds"
   ]
  },
  {
   "cell_type": "code",
   "execution_count": 5,
   "metadata": {},
   "outputs": [
    {
     "data": {
      "text/html": [
       "<pre>&lt;xarray.DataArray &#x27;dyC&#x27; (face: 13, j_g: 90, i: 90)&gt;\n",
       "dask.array&lt;zarr, shape=(13, 90, 90), dtype=float32, chunksize=(13, 90, 90), chunktype=numpy.ndarray&gt;\n",
       "Coordinates:\n",
       "    dxG      (face, j_g, i) float32 dask.array&lt;chunksize=(13, 90, 90), meta=np.ndarray&gt;\n",
       "    dyC      (face, j_g, i) float32 dask.array&lt;chunksize=(13, 90, 90), meta=np.ndarray&gt;\n",
       "  * face     (face) int64 0 1 2 3 4 5 6 7 8 9 10 11 12\n",
       "  * i        (i) int64 0 1 2 3 4 5 6 7 8 9 10 ... 80 81 82 83 84 85 86 87 88 89\n",
       "  * j_g      (j_g) int64 0 1 2 3 4 5 6 7 8 9 ... 80 81 82 83 84 85 86 87 88 89\n",
       "    rAs      (face, j_g, i) float32 dask.array&lt;chunksize=(13, 90, 90), meta=np.ndarray&gt;\n",
       "Attributes:\n",
       "    coordinate:     YG XC\n",
       "    long_name:      cell y size\n",
       "    standard_name:  cell_y_size_at_v_location\n",
       "    units:          m</pre>"
      ],
      "text/plain": [
       "<xarray.DataArray 'dyC' (face: 13, j_g: 90, i: 90)>\n",
       "dask.array<zarr, shape=(13, 90, 90), dtype=float32, chunksize=(13, 90, 90), chunktype=numpy.ndarray>\n",
       "Coordinates:\n",
       "    dxG      (face, j_g, i) float32 dask.array<chunksize=(13, 90, 90), meta=np.ndarray>\n",
       "    dyC      (face, j_g, i) float32 dask.array<chunksize=(13, 90, 90), meta=np.ndarray>\n",
       "  * face     (face) int64 0 1 2 3 4 5 6 7 8 9 10 11 12\n",
       "  * i        (i) int64 0 1 2 3 4 5 6 7 8 9 10 ... 80 81 82 83 84 85 86 87 88 89\n",
       "  * j_g      (j_g) int64 0 1 2 3 4 5 6 7 8 9 ... 80 81 82 83 84 85 86 87 88 89\n",
       "    rAs      (face, j_g, i) float32 dask.array<chunksize=(13, 90, 90), meta=np.ndarray>\n",
       "Attributes:\n",
       "    coordinate:     YG XC\n",
       "    long_name:      cell y size\n",
       "    standard_name:  cell_y_size_at_v_location\n",
       "    units:          m"
      ]
     },
     "execution_count": 5,
     "metadata": {},
     "output_type": "execute_result"
    }
   ],
   "source": [
    "ds.dyC"
   ]
  },
  {
   "cell_type": "raw",
   "metadata": {},
   "source": [
    "dt = ds.time_snp[1:].load()\n",
    "dt.values = [float(t)/10**9 for t in np.diff(ds.time_snp)]\n",
    "#rename time (and iter axis)\n",
    "dt = dt.rename({'time_snp':'time'})\n",
    "# time axis of dt should be the same as of the monthly averages\n",
    "dt.time.values = ds.time[1:-1].values\n",
    "#dt.time.values = ds.time.values[1:-1] \n",
    "#add nans to dt to change size form 286 to 288\n",
    "\n",
    "ds = ds.assign_coords(dt=dt)\n",
    "ds.dt.attrs = {'units': 's','standard_name': 'dt','coordinate': 'time','long_name': 'time span between snapshots'}\n",
    "\n",
    "#should I just add nans as first and last value?"
   ]
  },
  {
   "cell_type": "code",
   "execution_count": 6,
   "metadata": {},
   "outputs": [],
   "source": [
    "dt_values = (np.diff(ds.time_snp) / 1e9).astype('f4')\n",
    "dt = xr.DataArray(dt_values, dims=['time'],\n",
    "                  coords={'time': (['time'], ds.time.values[1:-1])})\n",
    "ds.coords['dt'] = dt"
   ]
  },
  {
   "cell_type": "code",
   "execution_count": 7,
   "metadata": {},
   "outputs": [],
   "source": [
    "ds_ll = faces_dataset_to_latlon(ds)"
   ]
  },
  {
   "cell_type": "code",
   "execution_count": 8,
   "metadata": {},
   "outputs": [],
   "source": [
    "ds_ll_drop = ds_ll.drop(['i', 'j', 'i_g', 'j_g']) #, 'k', 'k_u', 'k_l', 'k_p1'])"
   ]
  },
  {
   "cell_type": "code",
   "execution_count": 9,
   "metadata": {},
   "outputs": [
    {
     "name": "stderr",
     "output_type": "stream",
     "text": [
      "/srv/conda/envs/notebook/lib/python3.7/site-packages/ipykernel_launcher.py:2: FutureWarning: roll_coords will be set to False in the future. Explicitly set roll_coords to silence warning.\n",
      "  \n",
      "/srv/conda/envs/notebook/lib/python3.7/site-packages/ipykernel_launcher.py:3: FutureWarning: roll_coords will be set to False in the future. Explicitly set roll_coords to silence warning.\n",
      "  This is separate from the ipykernel package so we can avoid doing imports until\n"
     ]
    },
    {
     "data": {
      "text/html": [
       "<pre>&lt;xarray.Dataset&gt;\n",
       "Dimensions:    (face: 13, i: 360, i_g: 360, j: 270, j_g: 270, k: 50, k_l: 50, k_p1: 51, k_u: 50, time: 288, time_snp: 287)\n",
       "Coordinates:\n",
       "  * k          (k) int64 0 1 2 3 4 5 6 7 8 9 ... 40 41 42 43 44 45 46 47 48 49\n",
       "  * k_u        (k_u) int64 0 1 2 3 4 5 6 7 8 9 ... 40 41 42 43 44 45 46 47 48 49\n",
       "  * time_snp   (time_snp) datetime64[ns] 1992-02-01 1992-03-01 ... 2015-12-01\n",
       "  * face       (face) int64 0 1 2 3 4 5 6 7 8 9 10 11 12\n",
       "  * time       (time) datetime64[ns] 1992-01-15 1992-02-13 ... 2015-12-14\n",
       "  * k_p1       (k_p1) int64 0 1 2 3 4 5 6 7 8 9 ... 42 43 44 45 46 47 48 49 50\n",
       "  * k_l        (k_l) int64 0 1 2 3 4 5 6 7 8 9 ... 40 41 42 43 44 45 46 47 48 49\n",
       "Dimensions without coordinates: i, i_g, j, j_g\n",
       "Data variables:\n",
       "    ADVr_SLT   (time, k_l, j, i) float32 dask.array&lt;chunksize=(1, 50, 90, 90), meta=np.ndarray&gt;\n",
       "    ADVr_TH    (time, k_l, j, i) float32 dask.array&lt;chunksize=(1, 50, 90, 90), meta=np.ndarray&gt;\n",
       "    DFrE_SLT   (time, k_l, j, i) float32 dask.array&lt;chunksize=(1, 50, 90, 90), meta=np.ndarray&gt;\n",
       "    DFrE_TH    (time, k_l, j, i) float32 dask.array&lt;chunksize=(1, 50, 90, 90), meta=np.ndarray&gt;\n",
       "    DFrI_SLT   (time, k_l, j, i) float32 dask.array&lt;chunksize=(1, 50, 90, 90), meta=np.ndarray&gt;\n",
       "    DFrI_TH    (time, k_l, j, i) float32 dask.array&lt;chunksize=(1, 50, 90, 90), meta=np.ndarray&gt;\n",
       "    ETAN       (time, j, i) float32 dask.array&lt;chunksize=(1, 90, 90), meta=np.ndarray&gt;\n",
       "    ETAN_snp   (time_snp, j, i) float32 dask.array&lt;chunksize=(1, 90, 90), meta=np.ndarray&gt;\n",
       "    GEOFLX     (j, i) float32 dask.array&lt;chunksize=(90, 90), meta=np.ndarray&gt;\n",
       "    SALT       (time, k, j, i) float32 dask.array&lt;chunksize=(1, 50, 90, 90), meta=np.ndarray&gt;\n",
       "    SALT_snp   (time_snp, k, j, i) float32 dask.array&lt;chunksize=(1, 50, 90, 90), meta=np.ndarray&gt;\n",
       "    SFLUX      (time, j, i) float32 dask.array&lt;chunksize=(1, 90, 90), meta=np.ndarray&gt;\n",
       "    TFLUX      (time, j, i) float32 dask.array&lt;chunksize=(1, 90, 90), meta=np.ndarray&gt;\n",
       "    THETA      (time, k, j, i) float32 dask.array&lt;chunksize=(1, 50, 90, 90), meta=np.ndarray&gt;\n",
       "    THETA_snp  (time_snp, k, j, i) float32 dask.array&lt;chunksize=(1, 50, 90, 90), meta=np.ndarray&gt;\n",
       "    WVELMASS   (time, k_l, j, i) float32 dask.array&lt;chunksize=(1, 50, 90, 90), meta=np.ndarray&gt;\n",
       "    WVELSTAR   (time, k_l, j, i) float32 dask.array&lt;chunksize=(1, 50, 90, 90), meta=np.ndarray&gt;\n",
       "    oceFWflx   (time, j, i) float32 dask.array&lt;chunksize=(1, 90, 90), meta=np.ndarray&gt;\n",
       "    oceQsw     (time, j, i) float32 dask.array&lt;chunksize=(1, 90, 90), meta=np.ndarray&gt;\n",
       "    oceSPtnd   (time, k, j, i) float32 dask.array&lt;chunksize=(1, 50, 90, 90), meta=np.ndarray&gt;\n",
       "    ADVx_SLT   (time, k, j, i_g) float32 dask.array&lt;chunksize=(1, 50, 90, 90), meta=np.ndarray&gt;\n",
       "    ADVy_SLT   (time, k, j_g, i) float32 dask.array&lt;chunksize=(1, 50, 1, 90), meta=np.ndarray&gt;\n",
       "    ADVx_TH    (time, k, j, i_g) float32 dask.array&lt;chunksize=(1, 50, 90, 90), meta=np.ndarray&gt;\n",
       "    ADVy_TH    (time, k, j_g, i) float32 dask.array&lt;chunksize=(1, 50, 1, 90), meta=np.ndarray&gt;\n",
       "    DFxE_SLT   (time, k, j, i_g) float32 dask.array&lt;chunksize=(1, 50, 90, 90), meta=np.ndarray&gt;\n",
       "    DFyE_SLT   (time, k, j_g, i) float32 dask.array&lt;chunksize=(1, 50, 1, 90), meta=np.ndarray&gt;\n",
       "    DFxE_TH    (time, k, j, i_g) float32 dask.array&lt;chunksize=(1, 50, 90, 90), meta=np.ndarray&gt;\n",
       "    DFyE_TH    (time, k, j_g, i) float32 dask.array&lt;chunksize=(1, 50, 1, 90), meta=np.ndarray&gt;\n",
       "    UVELMASS   (time, k, j, i_g) float32 dask.array&lt;chunksize=(1, 50, 90, 90), meta=np.ndarray&gt;\n",
       "    VVELMASS   (time, k, j_g, i) float32 dask.array&lt;chunksize=(1, 50, 1, 90), meta=np.ndarray&gt;\n",
       "    UVELSTAR   (time, k, j, i_g) float32 dask.array&lt;chunksize=(1, 50, 90, 90), meta=np.ndarray&gt;\n",
       "    VVELSTAR   (time, k, j_g, i) float32 dask.array&lt;chunksize=(1, 50, 1, 90), meta=np.ndarray&gt;</pre>"
      ],
      "text/plain": [
       "<xarray.Dataset>\n",
       "Dimensions:    (face: 13, i: 360, i_g: 360, j: 270, j_g: 270, k: 50, k_l: 50, k_p1: 51, k_u: 50, time: 288, time_snp: 287)\n",
       "Coordinates:\n",
       "  * k          (k) int64 0 1 2 3 4 5 6 7 8 9 ... 40 41 42 43 44 45 46 47 48 49\n",
       "  * k_u        (k_u) int64 0 1 2 3 4 5 6 7 8 9 ... 40 41 42 43 44 45 46 47 48 49\n",
       "  * time_snp   (time_snp) datetime64[ns] 1992-02-01 1992-03-01 ... 2015-12-01\n",
       "  * face       (face) int64 0 1 2 3 4 5 6 7 8 9 10 11 12\n",
       "  * time       (time) datetime64[ns] 1992-01-15 1992-02-13 ... 2015-12-14\n",
       "  * k_p1       (k_p1) int64 0 1 2 3 4 5 6 7 8 9 ... 42 43 44 45 46 47 48 49 50\n",
       "  * k_l        (k_l) int64 0 1 2 3 4 5 6 7 8 9 ... 40 41 42 43 44 45 46 47 48 49\n",
       "Dimensions without coordinates: i, i_g, j, j_g\n",
       "Data variables:\n",
       "    ADVr_SLT   (time, k_l, j, i) float32 dask.array<chunksize=(1, 50, 90, 90), meta=np.ndarray>\n",
       "    ADVr_TH    (time, k_l, j, i) float32 dask.array<chunksize=(1, 50, 90, 90), meta=np.ndarray>\n",
       "    DFrE_SLT   (time, k_l, j, i) float32 dask.array<chunksize=(1, 50, 90, 90), meta=np.ndarray>\n",
       "    DFrE_TH    (time, k_l, j, i) float32 dask.array<chunksize=(1, 50, 90, 90), meta=np.ndarray>\n",
       "    DFrI_SLT   (time, k_l, j, i) float32 dask.array<chunksize=(1, 50, 90, 90), meta=np.ndarray>\n",
       "    DFrI_TH    (time, k_l, j, i) float32 dask.array<chunksize=(1, 50, 90, 90), meta=np.ndarray>\n",
       "    ETAN       (time, j, i) float32 dask.array<chunksize=(1, 90, 90), meta=np.ndarray>\n",
       "    ETAN_snp   (time_snp, j, i) float32 dask.array<chunksize=(1, 90, 90), meta=np.ndarray>\n",
       "    GEOFLX     (j, i) float32 dask.array<chunksize=(90, 90), meta=np.ndarray>\n",
       "    SALT       (time, k, j, i) float32 dask.array<chunksize=(1, 50, 90, 90), meta=np.ndarray>\n",
       "    SALT_snp   (time_snp, k, j, i) float32 dask.array<chunksize=(1, 50, 90, 90), meta=np.ndarray>\n",
       "    SFLUX      (time, j, i) float32 dask.array<chunksize=(1, 90, 90), meta=np.ndarray>\n",
       "    TFLUX      (time, j, i) float32 dask.array<chunksize=(1, 90, 90), meta=np.ndarray>\n",
       "    THETA      (time, k, j, i) float32 dask.array<chunksize=(1, 50, 90, 90), meta=np.ndarray>\n",
       "    THETA_snp  (time_snp, k, j, i) float32 dask.array<chunksize=(1, 50, 90, 90), meta=np.ndarray>\n",
       "    WVELMASS   (time, k_l, j, i) float32 dask.array<chunksize=(1, 50, 90, 90), meta=np.ndarray>\n",
       "    WVELSTAR   (time, k_l, j, i) float32 dask.array<chunksize=(1, 50, 90, 90), meta=np.ndarray>\n",
       "    oceFWflx   (time, j, i) float32 dask.array<chunksize=(1, 90, 90), meta=np.ndarray>\n",
       "    oceQsw     (time, j, i) float32 dask.array<chunksize=(1, 90, 90), meta=np.ndarray>\n",
       "    oceSPtnd   (time, k, j, i) float32 dask.array<chunksize=(1, 50, 90, 90), meta=np.ndarray>\n",
       "    ADVx_SLT   (time, k, j, i_g) float32 dask.array<chunksize=(1, 50, 90, 90), meta=np.ndarray>\n",
       "    ADVy_SLT   (time, k, j_g, i) float32 dask.array<chunksize=(1, 50, 1, 90), meta=np.ndarray>\n",
       "    ADVx_TH    (time, k, j, i_g) float32 dask.array<chunksize=(1, 50, 90, 90), meta=np.ndarray>\n",
       "    ADVy_TH    (time, k, j_g, i) float32 dask.array<chunksize=(1, 50, 1, 90), meta=np.ndarray>\n",
       "    DFxE_SLT   (time, k, j, i_g) float32 dask.array<chunksize=(1, 50, 90, 90), meta=np.ndarray>\n",
       "    DFyE_SLT   (time, k, j_g, i) float32 dask.array<chunksize=(1, 50, 1, 90), meta=np.ndarray>\n",
       "    DFxE_TH    (time, k, j, i_g) float32 dask.array<chunksize=(1, 50, 90, 90), meta=np.ndarray>\n",
       "    DFyE_TH    (time, k, j_g, i) float32 dask.array<chunksize=(1, 50, 1, 90), meta=np.ndarray>\n",
       "    UVELMASS   (time, k, j, i_g) float32 dask.array<chunksize=(1, 50, 90, 90), meta=np.ndarray>\n",
       "    VVELMASS   (time, k, j_g, i) float32 dask.array<chunksize=(1, 50, 1, 90), meta=np.ndarray>\n",
       "    UVELSTAR   (time, k, j, i_g) float32 dask.array<chunksize=(1, 50, 90, 90), meta=np.ndarray>\n",
       "    VVELSTAR   (time, k, j_g, i) float32 dask.array<chunksize=(1, 50, 1, 90), meta=np.ndarray>"
      ]
     },
     "execution_count": 9,
     "metadata": {},
     "output_type": "execute_result"
    }
   ],
   "source": [
    "# a trick to make things work a bit faster\n",
    "coords = ds_ll_drop.coords.to_dataset().reset_coords().roll(i=50, i_g=50)#(i=100, i_g=100)\n",
    "ds = ds_ll_drop.reset_coords(drop=True).roll(i=50, i_g=50)#(i=100, i_g=100)\n",
    "ds"
   ]
  },
  {
   "cell_type": "code",
   "execution_count": 10,
   "metadata": {},
   "outputs": [
    {
     "data": {
      "text/plain": [
       "<xgcm.Grid>\n",
       "X Axis (periodic):\n",
       "  * center   i --> left\n",
       "  * left     i_g --> center\n",
       "Y Axis (not periodic):\n",
       "  * center   j --> left\n",
       "  * left     j_g --> center\n",
       "T Axis (not periodic):\n",
       "  * center   time\n",
       "Z Axis (not periodic):\n",
       "  * center   k --> left\n",
       "  * left     k_l --> center\n",
       "  * outer    k_p1 --> center\n",
       "  * right    k_u --> center"
      ]
     },
     "execution_count": 10,
     "metadata": {},
     "output_type": "execute_result"
    }
   ],
   "source": [
    "import xgcm\n",
    "grid = xgcm.Grid(ds, coords={'X': {'center': 'i', 'left': 'i_g'}, \n",
    "                             'Y': {'center': 'j', 'left': 'j_g'},\n",
    "                             'T': {'center': 'time'},\n",
    "                             'Z': {'center': 'k', 'left': 'k_l', 'outer': 'k_p1', 'right': 'k_u'}},\n",
    "                             periodic=['X'])\n",
    "grid"
   ]
  },
  {
   "cell_type": "code",
   "execution_count": 11,
   "metadata": {},
   "outputs": [],
   "source": [
    "def tracer_flux_budget(suffix):\n",
    "    \"\"\"Calculate the convergence of fluxes of tracer `suffix` where \n",
    "    `suffix` is `TH` or `SLT`. Return a new xarray.Dataset.\"\"\"\n",
    "    conv_horiz_adv_flux = -(grid.diff(ds['ADVx_' + suffix], 'X') +\n",
    "                          grid.diff(ds['ADVy_' + suffix], 'Y', boundary='fill')).rename('conv_horiz_adv_flux_' + suffix)\n",
    "    conv_horiz_diff_flux = -(grid.diff(ds['DFxE_' + suffix], 'X') +\n",
    "                          grid.diff(ds['DFyE_' + suffix], 'Y', boundary='fill')).rename('conv_horiz_diff_flux_' + suffix)\n",
    "    # sign convention is opposite for vertical fluxes\n",
    "    conv_vert_adv_flux = grid.diff(ds['ADVr_' + suffix], 'Z', boundary='fill').rename('conv_vert_adv_flux_' + suffix)\n",
    "    conv_vert_diff_flux = (grid.diff(ds['DFrE_' + suffix], 'Z', boundary='fill') +\n",
    "                           grid.diff(ds['DFrI_' + suffix], 'Z', boundary='fill')).rename('conv_vert_diff_flux_' + suffix)\n",
    "    \n",
    "    all_fluxes = [conv_horiz_adv_flux, conv_horiz_diff_flux, conv_vert_adv_flux, conv_vert_diff_flux]\n",
    "    #conv_all_fluxes = sum(all_fluxes).rename('conv_total_flux_' + suffix)\n",
    "    #return xr.merge(all_fluxes + [conv_all_fluxes])\n",
    "    return xr.merge(all_fluxes)"
   ]
  },
  {
   "cell_type": "code",
   "execution_count": 12,
   "metadata": {},
   "outputs": [
    {
     "data": {
      "text/html": [
       "<pre>&lt;xarray.Dataset&gt;\n",
       "Dimensions:                   (i: 360, j: 270, k: 50, time: 288)\n",
       "Coordinates:\n",
       "  * time                      (time) datetime64[ns] 1992-01-15 ... 2015-12-14\n",
       "  * k                         (k) int64 0 1 2 3 4 5 6 7 ... 43 44 45 46 47 48 49\n",
       "Dimensions without coordinates: i, j\n",
       "Data variables:\n",
       "    conv_horiz_adv_flux_SLT   (time, k, j, i) float32 dask.array&lt;chunksize=(1, 50, 1, 89), meta=np.ndarray&gt;\n",
       "    conv_horiz_diff_flux_SLT  (time, k, j, i) float32 dask.array&lt;chunksize=(1, 50, 1, 89), meta=np.ndarray&gt;\n",
       "    conv_vert_adv_flux_SLT    (time, k, j, i) float32 dask.array&lt;chunksize=(1, 49, 90, 90), meta=np.ndarray&gt;\n",
       "    conv_vert_diff_flux_SLT   (time, k, j, i) float32 dask.array&lt;chunksize=(1, 49, 90, 90), meta=np.ndarray&gt;</pre>"
      ],
      "text/plain": [
       "<xarray.Dataset>\n",
       "Dimensions:                   (i: 360, j: 270, k: 50, time: 288)\n",
       "Coordinates:\n",
       "  * time                      (time) datetime64[ns] 1992-01-15 ... 2015-12-14\n",
       "  * k                         (k) int64 0 1 2 3 4 5 6 7 ... 43 44 45 46 47 48 49\n",
       "Dimensions without coordinates: i, j\n",
       "Data variables:\n",
       "    conv_horiz_adv_flux_SLT   (time, k, j, i) float32 dask.array<chunksize=(1, 50, 1, 89), meta=np.ndarray>\n",
       "    conv_horiz_diff_flux_SLT  (time, k, j, i) float32 dask.array<chunksize=(1, 50, 1, 89), meta=np.ndarray>\n",
       "    conv_vert_adv_flux_SLT    (time, k, j, i) float32 dask.array<chunksize=(1, 49, 90, 90), meta=np.ndarray>\n",
       "    conv_vert_diff_flux_SLT   (time, k, j, i) float32 dask.array<chunksize=(1, 49, 90, 90), meta=np.ndarray>"
      ]
     },
     "execution_count": 12,
     "metadata": {},
     "output_type": "execute_result"
    }
   ],
   "source": [
    "# sum of all converging adv/diff fluxes\n",
    "budget_slt = tracer_flux_budget('SLT')\n",
    "budget_slt"
   ]
  },
  {
   "cell_type": "code",
   "execution_count": 13,
   "metadata": {},
   "outputs": [
    {
     "data": {
      "text/html": [
       "<pre>&lt;xarray.Dataset&gt;\n",
       "Dimensions:                  (i: 360, j: 270, k: 50, time: 288)\n",
       "Coordinates:\n",
       "  * time                     (time) datetime64[ns] 1992-01-15 ... 2015-12-14\n",
       "  * k                        (k) int64 0 1 2 3 4 5 6 7 ... 43 44 45 46 47 48 49\n",
       "Dimensions without coordinates: i, j\n",
       "Data variables:\n",
       "    conv_horiz_adv_flux_TH   (time, k, j, i) float32 dask.array&lt;chunksize=(1, 50, 1, 89), meta=np.ndarray&gt;\n",
       "    conv_horiz_diff_flux_TH  (time, k, j, i) float32 dask.array&lt;chunksize=(1, 50, 1, 89), meta=np.ndarray&gt;\n",
       "    conv_vert_adv_flux_TH    (time, k, j, i) float32 dask.array&lt;chunksize=(1, 49, 90, 90), meta=np.ndarray&gt;\n",
       "    conv_vert_diff_flux_TH   (time, k, j, i) float32 dask.array&lt;chunksize=(1, 49, 90, 90), meta=np.ndarray&gt;</pre>"
      ],
      "text/plain": [
       "<xarray.Dataset>\n",
       "Dimensions:                  (i: 360, j: 270, k: 50, time: 288)\n",
       "Coordinates:\n",
       "  * time                     (time) datetime64[ns] 1992-01-15 ... 2015-12-14\n",
       "  * k                        (k) int64 0 1 2 3 4 5 6 7 ... 43 44 45 46 47 48 49\n",
       "Dimensions without coordinates: i, j\n",
       "Data variables:\n",
       "    conv_horiz_adv_flux_TH   (time, k, j, i) float32 dask.array<chunksize=(1, 50, 1, 89), meta=np.ndarray>\n",
       "    conv_horiz_diff_flux_TH  (time, k, j, i) float32 dask.array<chunksize=(1, 50, 1, 89), meta=np.ndarray>\n",
       "    conv_vert_adv_flux_TH    (time, k, j, i) float32 dask.array<chunksize=(1, 49, 90, 90), meta=np.ndarray>\n",
       "    conv_vert_diff_flux_TH   (time, k, j, i) float32 dask.array<chunksize=(1, 49, 90, 90), meta=np.ndarray>"
      ]
     },
     "execution_count": 13,
     "metadata": {},
     "output_type": "execute_result"
    }
   ],
   "source": [
    "budget_th = tracer_flux_budget('TH')\n",
    "budget_th"
   ]
  },
  {
   "cell_type": "markdown",
   "metadata": {},
   "source": [
    "**Theta Tendency Term**"
   ]
  },
  {
   "cell_type": "code",
   "execution_count": 14,
   "metadata": {},
   "outputs": [
    {
     "data": {
      "text/html": [
       "<pre>&lt;xarray.DataArray &#x27;sub-434bd420e9f52ad6e8f0c42e362912af&#x27; (time: 286, k: 50, j: 270, i: 360)&gt;\n",
       "dask.array&lt;sub, shape=(286, 50, 270, 360), dtype=float32, chunksize=(1, 50, 90, 90), chunktype=numpy.ndarray&gt;\n",
       "Coordinates:\n",
       "  * time     (time) datetime64[ns] 1992-02-13 1992-03-15 ... 2015-11-14\n",
       "Dimensions without coordinates: k, j, i</pre>"
      ],
      "text/plain": [
       "<xarray.DataArray 'sub-434bd420e9f52ad6e8f0c42e362912af' (time: 286, k: 50, j: 270, i: 360)>\n",
       "dask.array<sub, shape=(286, 50, 270, 360), dtype=float32, chunksize=(1, 50, 90, 90), chunktype=numpy.ndarray>\n",
       "Coordinates:\n",
       "  * time     (time) datetime64[ns] 1992-02-13 1992-03-15 ... 2015-11-14\n",
       "Dimensions without coordinates: k, j, i"
      ]
     },
     "execution_count": 14,
     "metadata": {},
     "output_type": "execute_result"
    }
   ],
   "source": [
    "#calculating total tendency term for heat\n",
    "delta_theta = ds.THETA_snp.diff('time_snp')\n",
    "\n",
    "#forcing theta_scaled to have same timestamp as ds.dt by creating new data array called \"theta_scaled\"\n",
    "delta_theta = xr.DataArray(delta_theta.data, dims=['time','k','j','i'], \n",
    "                            coords={'time': coords.dt[1:287].time.data})\n",
    "delta_theta"
   ]
  },
  {
   "cell_type": "code",
   "execution_count": 15,
   "metadata": {},
   "outputs": [],
   "source": [
    "theta_tend = (delta_theta / coords.dt[1:287])"
   ]
  },
  {
   "cell_type": "raw",
   "metadata": {},
   "source": [
    "#calculating total tendency term for heat\n",
    "theta_scaled = (ds.THETA_snp * (1 + (ds.ETAN_snp / coords.Depth))).diff('time_snp')\n",
    "\n",
    "#forcing theta_scaled to have same timestamp as ds.dt by creating new data array called \"theta_scaled\"\n",
    "theta_scaled = xr.DataArray(theta_scaled.data, dims=['time','k','j','i'], \n",
    "                            coords={'time': coords.dt[1:287].time.data})\n",
    "theta_scaled"
   ]
  },
  {
   "cell_type": "raw",
   "metadata": {},
   "source": [
    "theta_tend = (theta_scaled / coords.dt[1:287])"
   ]
  },
  {
   "cell_type": "markdown",
   "metadata": {},
   "source": [
    "**Salt Tendency Term**"
   ]
  },
  {
   "cell_type": "raw",
   "metadata": {},
   "source": [
    "#calculating total tendency term for salt\n",
    "salt_scaled = (ds.SALT_snp * (1 + (ds.ETAN_snp / coords.Depth))).diff('time_snp')\n",
    "\n",
    "#forcing salt_scaled to have same timestamp as ds.dt by creating new data array called \"salt_scaled\"\n",
    "salt_scaled = xr.DataArray(salt_scaled.data, dims=['time','k','j','i'], \n",
    "                            coords={'time': coords.dt[1:287].time.data})\n",
    "salt_scaled\n",
    "#units: g/kg (psu)"
   ]
  },
  {
   "cell_type": "raw",
   "metadata": {},
   "source": [
    "salt_tend = (salt_scaled / coords.dt[1:287])\n",
    "#units: g/kg*s (psu/s)"
   ]
  },
  {
   "cell_type": "raw",
   "metadata": {},
   "source": [
    "volume = (coords.drF * coords.rA * coords.hFacC)\n",
    "#day2seconds = (24*60*60)\n",
    "totttend = theta_tend * volume\n",
    "totstend = salt_tend * volume"
   ]
  },
  {
   "cell_type": "code",
   "execution_count": 16,
   "metadata": {},
   "outputs": [
    {
     "data": {
      "text/html": [
       "<pre>&lt;xarray.DataArray &#x27;sub-43ebc9a920f805bec7c6581fadedea79&#x27; (time: 286, k: 50, j: 270, i: 360)&gt;\n",
       "dask.array&lt;sub, shape=(286, 50, 270, 360), dtype=float32, chunksize=(1, 50, 90, 90), chunktype=numpy.ndarray&gt;\n",
       "Coordinates:\n",
       "  * time     (time) datetime64[ns] 1992-02-13 1992-03-15 ... 2015-11-14\n",
       "Dimensions without coordinates: k, j, i</pre>"
      ],
      "text/plain": [
       "<xarray.DataArray 'sub-43ebc9a920f805bec7c6581fadedea79' (time: 286, k: 50, j: 270, i: 360)>\n",
       "dask.array<sub, shape=(286, 50, 270, 360), dtype=float32, chunksize=(1, 50, 90, 90), chunktype=numpy.ndarray>\n",
       "Coordinates:\n",
       "  * time     (time) datetime64[ns] 1992-02-13 1992-03-15 ... 2015-11-14\n",
       "Dimensions without coordinates: k, j, i"
      ]
     },
     "execution_count": 16,
     "metadata": {},
     "output_type": "execute_result"
    }
   ],
   "source": [
    "#calculating total tendency term for salt\n",
    "delta_salt = ds.SALT_snp.diff('time_snp')\n",
    "#forcing salt_scaled to have same timestamp as ds.dt by creating new data array called \"salt_scaled\"\n",
    "delta_salt = xr.DataArray(delta_salt.data, dims=['time','k','j','i'], \n",
    "                            coords={'time': coords.dt[1:287].time.data})\n",
    "delta_salt"
   ]
  },
  {
   "cell_type": "code",
   "execution_count": 17,
   "metadata": {},
   "outputs": [],
   "source": [
    "salt_tend = (delta_salt / coords.dt[1:287])\n",
    "#units: g/kg*s (psu/s)"
   ]
  },
  {
   "cell_type": "code",
   "execution_count": 18,
   "metadata": {},
   "outputs": [],
   "source": [
    "volume = (coords.drF * coords.rA * coords.hFacC)\n",
    "#day2seconds = (24*60*60)\n",
    "totttend = theta_tend * volume\n",
    "totstend = salt_tend * volume"
   ]
  },
  {
   "cell_type": "code",
   "execution_count": 19,
   "metadata": {},
   "outputs": [],
   "source": [
    "#adding calculated total tendency\n",
    "budget_th['total_tendency_TH_truth'] = totttend\n",
    "budget_slt['total_tendency_SLT_truth'] = totstend"
   ]
  },
  {
   "cell_type": "code",
   "execution_count": 20,
   "metadata": {},
   "outputs": [],
   "source": [
    "budget_th['total_tendency_TH_truth'] = budget_th.total_tendency_TH_truth.chunk({'time':1})\n",
    "budget_slt['total_tendency_SLT_truth'] = budget_slt.total_tendency_SLT_truth.chunk({'time':1})"
   ]
  },
  {
   "cell_type": "raw",
   "metadata": {},
   "source": [
    "budget_th['total_tendency_TH_truth'] = budget_th['total_tendency_TH_truth']\n",
    "budget_slt['total_tendency_SLT_truth'] = budget_slt['total_tendency_SLT_truth']"
   ]
  },
  {
   "cell_type": "code",
   "execution_count": 21,
   "metadata": {},
   "outputs": [
    {
     "data": {
      "text/html": [
       "<pre>&lt;xarray.DataArray (time: 288, k: 50, j: 270, i: 360)&gt;\n",
       "dask.array&lt;truediv, shape=(288, 50, 270, 360), dtype=float32, chunksize=(1, 50, 90, 90), chunktype=numpy.ndarray&gt;\n",
       "Coordinates:\n",
       "  * k        (k) int64 0 1 2 3 4 5 6 7 8 9 10 ... 40 41 42 43 44 45 46 47 48 49\n",
       "  * time     (time) datetime64[ns] 1992-01-15 1992-02-13 ... 2015-12-14\n",
       "Dimensions without coordinates: j, i</pre>"
      ],
      "text/plain": [
       "<xarray.DataArray (time: 288, k: 50, j: 270, i: 360)>\n",
       "dask.array<truediv, shape=(288, 50, 270, 360), dtype=float32, chunksize=(1, 50, 90, 90), chunktype=numpy.ndarray>\n",
       "Coordinates:\n",
       "  * k        (k) int64 0 1 2 3 4 5 6 7 8 9 10 ... 40 41 42 43 44 45 46 47 48 49\n",
       "  * time     (time) datetime64[ns] 1992-01-15 1992-02-13 ... 2015-12-14\n",
       "Dimensions without coordinates: j, i"
      ]
     },
     "execution_count": 21,
     "metadata": {},
     "output_type": "execute_result"
    }
   ],
   "source": [
    "runit2mass = 1.035e3 #kg/m^3\n",
    "salt_plume = ((ds.oceSPtnd * coords.rA)/runit2mass)#.chunk({'i':-1, 'j':-1, 'k':-1, 'time':1})\n",
    "salt_plume"
   ]
  },
  {
   "cell_type": "markdown",
   "metadata": {},
   "source": [
    "### Surface Fluxes\n",
    "\n",
    "The surface fluxes are only active in the top model layer. We need to specify some constants to convert to the proper units and scale factors to convert to integral form. They also require some xarray special sauce to merge with the 3D variables."
   ]
  },
  {
   "cell_type": "code",
   "execution_count": 22,
   "metadata": {},
   "outputs": [],
   "source": [
    "# constants\n",
    "heat_capacity_cp = 3.994e3\n",
    "runit2mass = 1.035e3 #rho\n",
    "# treat the shortwave flux separately from the rest of the surface flux\n",
    "\n",
    "#surf flux\n",
    "surf_flux_th = (ds.TFLUX - ds.oceQsw) * coords.rA * coords.hFacC.isel(k=0) / (heat_capacity_cp * runit2mass)\n",
    "#w.o `_,` the return would've been the two arrays - hFacC and surf_flux_th - so here, we only want surf_flux_th returned\n",
    "_, surf_flux_th_aligned = xr.align(coords.hFacC, surf_flux_th.expand_dims('k'), join='outer')\n",
    "surf_flux_th_aligned = surf_flux_th_aligned.fillna(0.)\n",
    "\n",
    "#sw flux\n",
    "surf_flux_th_sw = ds.oceQsw * coords.rA * coords.hFacC.isel(k=0) / (heat_capacity_cp * runit2mass)\n",
    "\n",
    "#what about `ds.oceFWflx` term for salt budget?\n",
    "# salt\n",
    "surf_flux_slt = ds.SFLUX * coords.rA  / runit2mass\n",
    "surf_flux_slt.coords['k'] = coords.k[0]\n",
    "_, surf_flux_slt_aligned = xr.align(coords.hFacC, surf_flux_slt.expand_dims('k'), join='outer')\n",
    "surf_flux_slt_aligned = surf_flux_slt_aligned.fillna(0.)\n",
    "\n",
    "surf_flux_fw = (ds.oceFWflx * coords.rA * -ds.SALT) / runit2mass\n",
    "#surf_flux_fw_no_k = (ds.oceFWflx * coords.rA) / runit2mass\n",
    "#surf_flux_fw_no_k.coords['k'] = coords.k[0]\n",
    "#_, surf_flux_fw_aligned = xr.align(coords.hFacC, surf_flux_fw_no_k.expand_dims('k'), join='outer')\n",
    "#surf_flux_fw_aligned = surf_flux_fw_aligned.fillna(0.)\n",
    "\n",
    "# in order to align the surface fluxes with the rest of the 3D budget terms,\n",
    "# we need to give them a z coordinate. We can do that with this function\n",
    "#def surface_to_3d(da):\n",
    "#    da.coords['k'] = ds.k[0]\n",
    "#    return da.expand_dims(dim='k', axis=1)"
   ]
  },
  {
   "cell_type": "markdown",
   "metadata": {},
   "source": [
    "### ERIK'S DEF\n",
    "- Sea surface forcing on volume (1/s)\n",
    "\n",
    "`forcV = ((oceFWflx/rhoconst)/(hFacC*drF)).transpose('time','k','j','i')`\n",
    "\n",
    "- Surface salt flux (psu/s)\n",
    "\n",
    "`forcS = (((SFLUX3d+oceSPtnd)/rhoconst)/(hFacC*drF)).transpose('time','k','j','i')`\n",
    "\n",
    "- Sea surface forcing for salinity (psu/s)\n",
    "\n",
    "`forcSln = (-SALT*forcV + forcS)/rstarfac`"
   ]
  },
  {
   "cell_type": "raw",
   "metadata": {},
   "source": [
    "surf_flux_fw"
   ]
  },
  {
   "cell_type": "raw",
   "metadata": {},
   "source": [
    "surf_flux_slt_aligned"
   ]
  },
  {
   "cell_type": "raw",
   "metadata": {},
   "source": [
    "fw = surf_flux_fw.mean(dim='time').isel(k=0).load()"
   ]
  },
  {
   "cell_type": "raw",
   "metadata": {},
   "source": [
    "fw.isel(**lat_range_noface, **lon_range_noface).plot(vmax=10e3)"
   ]
  },
  {
   "cell_type": "raw",
   "metadata": {},
   "source": [
    "surf_slt_flx = surf_flux_slt_aligned.mean(dim='time').isel(k=0).load()"
   ]
  },
  {
   "cell_type": "raw",
   "metadata": {},
   "source": [
    "surf_slt_flx.isel(**lat_range_noface, **lon_range_noface).plot(vmax=10e3)"
   ]
  },
  {
   "cell_type": "raw",
   "metadata": {},
   "source": [
    "(surf_slt_flx + fw).isel(**lat_range_noface, **lon_range_noface).plot()"
   ]
  },
  {
   "cell_type": "raw",
   "metadata": {},
   "source": [
    "(surf_flux_slt_aligned + surf_flux_fw).sum(dim=['i', 'j', 'k']).plot()"
   ]
  },
  {
   "cell_type": "code",
   "execution_count": 23,
   "metadata": {},
   "outputs": [
    {
     "data": {
      "text/html": [
       "<pre>&lt;xarray.DataArray (time: 288, j: 270, i: 360, k: 50)&gt;\n",
       "dask.array&lt;truediv, shape=(288, 270, 360, 50), dtype=float32, chunksize=(1, 90, 90, 50), chunktype=numpy.ndarray&gt;\n",
       "Coordinates:\n",
       "  * time     (time) datetime64[ns] 1992-01-15 1992-02-13 ... 2015-12-14\n",
       "  * k        (k) int64 0 1 2 3 4 5 6 7 8 9 10 ... 40 41 42 43 44 45 46 47 48 49\n",
       "Dimensions without coordinates: j, i</pre>"
      ],
      "text/plain": [
       "<xarray.DataArray (time: 288, j: 270, i: 360, k: 50)>\n",
       "dask.array<truediv, shape=(288, 270, 360, 50), dtype=float32, chunksize=(1, 90, 90, 50), chunktype=numpy.ndarray>\n",
       "Coordinates:\n",
       "  * time     (time) datetime64[ns] 1992-01-15 1992-02-13 ... 2015-12-14\n",
       "  * k        (k) int64 0 1 2 3 4 5 6 7 8 9 10 ... 40 41 42 43 44 45 46 47 48 49\n",
       "Dimensions without coordinates: j, i"
      ]
     },
     "execution_count": 23,
     "metadata": {},
     "output_type": "execute_result"
    }
   ],
   "source": [
    "surf_flux_fw"
   ]
  },
  {
   "cell_type": "code",
   "execution_count": 24,
   "metadata": {},
   "outputs": [
    {
     "data": {
      "text/html": [
       "<pre>&lt;xarray.DataArray (k: 50, time: 288, j: 270, i: 360)&gt;\n",
       "dask.array&lt;where, shape=(50, 288, 270, 360), dtype=float32, chunksize=(50, 1, 90, 90), chunktype=numpy.ndarray&gt;\n",
       "Coordinates:\n",
       "  * k        (k) int64 0 1 2 3 4 5 6 7 8 9 10 ... 40 41 42 43 44 45 46 47 48 49\n",
       "  * time     (time) datetime64[ns] 1992-01-15 1992-02-13 ... 2015-12-14\n",
       "Dimensions without coordinates: j, i</pre>"
      ],
      "text/plain": [
       "<xarray.DataArray (k: 50, time: 288, j: 270, i: 360)>\n",
       "dask.array<where, shape=(50, 288, 270, 360), dtype=float32, chunksize=(50, 1, 90, 90), chunktype=numpy.ndarray>\n",
       "Coordinates:\n",
       "  * k        (k) int64 0 1 2 3 4 5 6 7 8 9 10 ... 40 41 42 43 44 45 46 47 48 49\n",
       "  * time     (time) datetime64[ns] 1992-01-15 1992-02-13 ... 2015-12-14\n",
       "Dimensions without coordinates: j, i"
      ]
     },
     "execution_count": 24,
     "metadata": {},
     "output_type": "execute_result"
    }
   ],
   "source": [
    "surf_flux_slt_aligned"
   ]
  },
  {
   "cell_type": "code",
   "execution_count": 25,
   "metadata": {},
   "outputs": [],
   "source": [
    "budget_slt['salt_plume'] = salt_plume\n",
    "budget_slt['surface_flux_SLT'] = (surf_flux_slt_aligned - surf_flux_fw)"
   ]
  },
  {
   "cell_type": "markdown",
   "metadata": {},
   "source": [
    "### Shortwave Flux\n",
    "\n",
    "Special treatment is needed for the shortwave flux, which penetrates into the interior of the water column"
   ]
  },
  {
   "cell_type": "code",
   "execution_count": 26,
   "metadata": {},
   "outputs": [],
   "source": [
    "def swfrac(coords, fact=1., jwtype=2):\n",
    "    \"\"\"Clone of MITgcm routine for computing sw flux penetration.\n",
    "    z: depth of output levels\"\"\"\n",
    "    \n",
    "    rfac = [0.58 , 0.62, 0.67, 0.77, 0.78]\n",
    "    a1 = [0.35 , 0.6  , 1.0  , 1.5  , 1.4]\n",
    "    a2 = [23.0 , 20.0 , 17.0 , 14.0 , 7.9 ]\n",
    "    \n",
    "    facz = fact * coords.Zl.sel(k_l=slice(0, 18))\n",
    "    j = jwtype-1\n",
    "    swdk = (rfac[j] * np.exp(facz / a1[j]) +\n",
    "            (1-rfac[j]) * np.exp(facz / a2[j]))\n",
    "            \n",
    "    return swdk.rename('swdk')\n",
    "\n",
    "_, swdown = xr.align(coords.Zl, surf_flux_th_sw * swfrac(coords), join='left', )\n",
    "swdown = swdown.fillna(0)"
   ]
  },
  {
   "cell_type": "code",
   "execution_count": 27,
   "metadata": {},
   "outputs": [
    {
     "data": {
      "text/html": [
       "<pre>&lt;xarray.DataArray &#x27;sub-a55e5c790e3c75ba403562928090b7bc&#x27; (time: 288, j: 270, i: 360, k: 50)&gt;\n",
       "dask.array&lt;neg, shape=(288, 270, 360, 50), dtype=float32, chunksize=(1, 90, 90, 49), chunktype=numpy.ndarray&gt;\n",
       "Coordinates:\n",
       "  * time     (time) datetime64[ns] 1992-01-15 1992-02-13 ... 2015-12-14\n",
       "  * k        (k) int64 0 1 2 3 4 5 6 7 8 9 10 ... 40 41 42 43 44 45 46 47 48 49\n",
       "Dimensions without coordinates: j, i</pre>"
      ],
      "text/plain": [
       "<xarray.DataArray 'sub-a55e5c790e3c75ba403562928090b7bc' (time: 288, j: 270, i: 360, k: 50)>\n",
       "dask.array<neg, shape=(288, 270, 360, 50), dtype=float32, chunksize=(1, 90, 90, 49), chunktype=numpy.ndarray>\n",
       "Coordinates:\n",
       "  * time     (time) datetime64[ns] 1992-01-15 1992-02-13 ... 2015-12-14\n",
       "  * k        (k) int64 0 1 2 3 4 5 6 7 8 9 10 ... 40 41 42 43 44 45 46 47 48 49\n",
       "Dimensions without coordinates: j, i"
      ]
     },
     "execution_count": 27,
     "metadata": {},
     "output_type": "execute_result"
    }
   ],
   "source": [
    "#convergence of swdown\n",
    "sw = -grid.diff(swdown, 'Z', boundary='fill')\n",
    "sw"
   ]
  },
  {
   "cell_type": "code",
   "execution_count": 28,
   "metadata": {},
   "outputs": [],
   "source": [
    "budget_th['surface_flux_conv_TH'] = surf_flux_th_aligned#.chunk({'i':-1, 'j':-1, 'k':-1, 'time':1})\n",
    "\n",
    "budget_th['sw_flux_conv_TH'] = sw#.chunk({'i':-1, 'j':-1, 'k':-1, 'time':1})"
   ]
  },
  {
   "cell_type": "code",
   "execution_count": 29,
   "metadata": {},
   "outputs": [
    {
     "data": {
      "text/html": [
       "<pre>&lt;xarray.Dataset&gt;\n",
       "Dimensions:                  (i: 360, j: 270, k: 50, time: 288)\n",
       "Coordinates:\n",
       "  * time                     (time) datetime64[ns] 1992-01-15 ... 2015-12-14\n",
       "  * k                        (k) int64 0 1 2 3 4 5 6 7 ... 43 44 45 46 47 48 49\n",
       "Dimensions without coordinates: i, j\n",
       "Data variables:\n",
       "    conv_horiz_adv_flux_TH   (time, k, j, i) float32 dask.array&lt;chunksize=(1, 50, 270, 360), meta=np.ndarray&gt;\n",
       "    conv_horiz_diff_flux_TH  (time, k, j, i) float32 dask.array&lt;chunksize=(1, 50, 270, 360), meta=np.ndarray&gt;\n",
       "    conv_vert_adv_flux_TH    (time, k, j, i) float32 dask.array&lt;chunksize=(1, 50, 270, 360), meta=np.ndarray&gt;\n",
       "    conv_vert_diff_flux_TH   (time, k, j, i) float32 dask.array&lt;chunksize=(1, 50, 270, 360), meta=np.ndarray&gt;\n",
       "    total_tendency_TH_truth  (time, k, j, i) float32 dask.array&lt;chunksize=(1, 50, 270, 360), meta=np.ndarray&gt;\n",
       "    surface_flux_conv_TH     (k, time, j, i) float32 dask.array&lt;chunksize=(50, 1, 270, 360), meta=np.ndarray&gt;\n",
       "    sw_flux_conv_TH          (time, j, i, k) float32 dask.array&lt;chunksize=(1, 270, 360, 50), meta=np.ndarray&gt;</pre>"
      ],
      "text/plain": [
       "<xarray.Dataset>\n",
       "Dimensions:                  (i: 360, j: 270, k: 50, time: 288)\n",
       "Coordinates:\n",
       "  * time                     (time) datetime64[ns] 1992-01-15 ... 2015-12-14\n",
       "  * k                        (k) int64 0 1 2 3 4 5 6 7 ... 43 44 45 46 47 48 49\n",
       "Dimensions without coordinates: i, j\n",
       "Data variables:\n",
       "    conv_horiz_adv_flux_TH   (time, k, j, i) float32 dask.array<chunksize=(1, 50, 270, 360), meta=np.ndarray>\n",
       "    conv_horiz_diff_flux_TH  (time, k, j, i) float32 dask.array<chunksize=(1, 50, 270, 360), meta=np.ndarray>\n",
       "    conv_vert_adv_flux_TH    (time, k, j, i) float32 dask.array<chunksize=(1, 50, 270, 360), meta=np.ndarray>\n",
       "    conv_vert_diff_flux_TH   (time, k, j, i) float32 dask.array<chunksize=(1, 50, 270, 360), meta=np.ndarray>\n",
       "    total_tendency_TH_truth  (time, k, j, i) float32 dask.array<chunksize=(1, 50, 270, 360), meta=np.ndarray>\n",
       "    surface_flux_conv_TH     (k, time, j, i) float32 dask.array<chunksize=(50, 1, 270, 360), meta=np.ndarray>\n",
       "    sw_flux_conv_TH          (time, j, i, k) float32 dask.array<chunksize=(1, 270, 360, 50), meta=np.ndarray>"
      ]
     },
     "execution_count": 29,
     "metadata": {},
     "output_type": "execute_result"
    }
   ],
   "source": [
    "budget_th = budget_th.chunk({'i': -1, 'j': -1, 'k': -1, 'time': 1})\n",
    "budget_th"
   ]
  },
  {
   "cell_type": "code",
   "execution_count": 30,
   "metadata": {},
   "outputs": [
    {
     "data": {
      "text/html": [
       "<pre>&lt;xarray.Dataset&gt;\n",
       "Dimensions:                   (i: 360, j: 270, k: 50, time: 288)\n",
       "Coordinates:\n",
       "  * time                      (time) datetime64[ns] 1992-01-15 ... 2015-12-14\n",
       "  * k                         (k) int64 0 1 2 3 4 5 6 7 ... 43 44 45 46 47 48 49\n",
       "Dimensions without coordinates: i, j\n",
       "Data variables:\n",
       "    conv_horiz_adv_flux_SLT   (time, k, j, i) float32 dask.array&lt;chunksize=(1, 50, 270, 360), meta=np.ndarray&gt;\n",
       "    conv_horiz_diff_flux_SLT  (time, k, j, i) float32 dask.array&lt;chunksize=(1, 50, 270, 360), meta=np.ndarray&gt;\n",
       "    conv_vert_adv_flux_SLT    (time, k, j, i) float32 dask.array&lt;chunksize=(1, 50, 270, 360), meta=np.ndarray&gt;\n",
       "    conv_vert_diff_flux_SLT   (time, k, j, i) float32 dask.array&lt;chunksize=(1, 50, 270, 360), meta=np.ndarray&gt;\n",
       "    total_tendency_SLT_truth  (time, k, j, i) float32 dask.array&lt;chunksize=(1, 50, 270, 360), meta=np.ndarray&gt;\n",
       "    salt_plume                (time, k, j, i) float32 dask.array&lt;chunksize=(1, 50, 270, 360), meta=np.ndarray&gt;\n",
       "    surface_flux_SLT          (k, time, j, i) float32 dask.array&lt;chunksize=(50, 1, 270, 360), meta=np.ndarray&gt;</pre>"
      ],
      "text/plain": [
       "<xarray.Dataset>\n",
       "Dimensions:                   (i: 360, j: 270, k: 50, time: 288)\n",
       "Coordinates:\n",
       "  * time                      (time) datetime64[ns] 1992-01-15 ... 2015-12-14\n",
       "  * k                         (k) int64 0 1 2 3 4 5 6 7 ... 43 44 45 46 47 48 49\n",
       "Dimensions without coordinates: i, j\n",
       "Data variables:\n",
       "    conv_horiz_adv_flux_SLT   (time, k, j, i) float32 dask.array<chunksize=(1, 50, 270, 360), meta=np.ndarray>\n",
       "    conv_horiz_diff_flux_SLT  (time, k, j, i) float32 dask.array<chunksize=(1, 50, 270, 360), meta=np.ndarray>\n",
       "    conv_vert_adv_flux_SLT    (time, k, j, i) float32 dask.array<chunksize=(1, 50, 270, 360), meta=np.ndarray>\n",
       "    conv_vert_diff_flux_SLT   (time, k, j, i) float32 dask.array<chunksize=(1, 50, 270, 360), meta=np.ndarray>\n",
       "    total_tendency_SLT_truth  (time, k, j, i) float32 dask.array<chunksize=(1, 50, 270, 360), meta=np.ndarray>\n",
       "    salt_plume                (time, k, j, i) float32 dask.array<chunksize=(1, 50, 270, 360), meta=np.ndarray>\n",
       "    surface_flux_SLT          (k, time, j, i) float32 dask.array<chunksize=(50, 1, 270, 360), meta=np.ndarray>"
      ]
     },
     "execution_count": 30,
     "metadata": {},
     "output_type": "execute_result"
    }
   ],
   "source": [
    "budget_slt = budget_slt.chunk({'i': -1, 'j': -1, 'k': -1, 'time': 1})\n",
    "budget_slt"
   ]
  },
  {
   "cell_type": "code",
   "execution_count": 31,
   "metadata": {},
   "outputs": [
    {
     "data": {
      "text/html": [
       "<pre>&lt;xarray.DataArray &#x27;hFacC&#x27; (k: 50, j: 270, i: 360)&gt;\n",
       "dask.array&lt;rechunk-merge, shape=(50, 270, 360), dtype=float32, chunksize=(50, 90, 90), chunktype=numpy.ndarray&gt;\n",
       "Coordinates:\n",
       "  * k        (k) int64 0 1 2 3 4 5 6 7 8 9 10 ... 40 41 42 43 44 45 46 47 48 49\n",
       "Dimensions without coordinates: j, i\n",
       "Attributes:\n",
       "    long_name:      vertical fraction of open cell\n",
       "    standard_name:  cell_vertical_fraction</pre>"
      ],
      "text/plain": [
       "<xarray.DataArray 'hFacC' (k: 50, j: 270, i: 360)>\n",
       "dask.array<rechunk-merge, shape=(50, 270, 360), dtype=float32, chunksize=(50, 90, 90), chunktype=numpy.ndarray>\n",
       "Coordinates:\n",
       "  * k        (k) int64 0 1 2 3 4 5 6 7 8 9 10 ... 40 41 42 43 44 45 46 47 48 49\n",
       "Dimensions without coordinates: j, i\n",
       "Attributes:\n",
       "    long_name:      vertical fraction of open cell\n",
       "    standard_name:  cell_vertical_fraction"
      ]
     },
     "execution_count": 31,
     "metadata": {},
     "output_type": "execute_result"
    }
   ],
   "source": [
    "coords.hFacC"
   ]
  },
  {
   "cell_type": "code",
   "execution_count": 32,
   "metadata": {},
   "outputs": [
    {
     "data": {
      "text/html": [
       "<pre>&lt;xarray.DataArray &#x27;drF&#x27; (k: 50)&gt;\n",
       "dask.array&lt;zarr, shape=(50,), dtype=float32, chunksize=(50,), chunktype=numpy.ndarray&gt;\n",
       "Coordinates:\n",
       "  * k        (k) int64 0 1 2 3 4 5 6 7 8 9 10 ... 40 41 42 43 44 45 46 47 48 49\n",
       "Attributes:\n",
       "    long_name:      cell z size\n",
       "    standard_name:  cell_z_size\n",
       "    units:          m</pre>"
      ],
      "text/plain": [
       "<xarray.DataArray 'drF' (k: 50)>\n",
       "dask.array<zarr, shape=(50,), dtype=float32, chunksize=(50,), chunktype=numpy.ndarray>\n",
       "Coordinates:\n",
       "  * k        (k) int64 0 1 2 3 4 5 6 7 8 9 10 ... 40 41 42 43 44 45 46 47 48 49\n",
       "Attributes:\n",
       "    long_name:      cell z size\n",
       "    standard_name:  cell_z_size\n",
       "    units:          m"
      ]
     },
     "execution_count": 32,
     "metadata": {},
     "output_type": "execute_result"
    }
   ],
   "source": [
    "coords.drF"
   ]
  },
  {
   "cell_type": "code",
   "execution_count": 37,
   "metadata": {},
   "outputs": [],
   "source": [
    "peanut = ds_slt_wg.surface_flux_SLT / (coords.drF * coords.hFacC).isel(**lat_range_noface, **lon_range_noface)"
   ]
  },
  {
   "cell_type": "code",
   "execution_count": 38,
   "metadata": {},
   "outputs": [
    {
     "data": {
      "text/html": [
       "<pre>&lt;xarray.DataArray (k: 50, time: 288, j: 50, i: 95)&gt;\n",
       "dask.array&lt;truediv, shape=(50, 288, 50, 95), dtype=float32, chunksize=(50, 1, 50, 67), chunktype=numpy.ndarray&gt;\n",
       "Coordinates:\n",
       "  * time     (time) datetime64[ns] 1992-01-15 1992-02-13 ... 2015-12-14\n",
       "  * k        (k) int64 0 1 2 3 4 5 6 7 8 9 10 ... 40 41 42 43 44 45 46 47 48 49\n",
       "Dimensions without coordinates: j, i</pre>"
      ],
      "text/plain": [
       "<xarray.DataArray (k: 50, time: 288, j: 50, i: 95)>\n",
       "dask.array<truediv, shape=(50, 288, 50, 95), dtype=float32, chunksize=(50, 1, 50, 67), chunktype=numpy.ndarray>\n",
       "Coordinates:\n",
       "  * time     (time) datetime64[ns] 1992-01-15 1992-02-13 ... 2015-12-14\n",
       "  * k        (k) int64 0 1 2 3 4 5 6 7 8 9 10 ... 40 41 42 43 44 45 46 47 48 49\n",
       "Dimensions without coordinates: j, i"
      ]
     },
     "execution_count": 38,
     "metadata": {},
     "output_type": "execute_result"
    }
   ],
   "source": [
    "peanut"
   ]
  },
  {
   "cell_type": "code",
   "execution_count": 39,
   "metadata": {},
   "outputs": [
    {
     "name": "stderr",
     "output_type": "stream",
     "text": [
      "/srv/conda/envs/notebook/lib/python3.7/site-packages/pandas/plotting/_matplotlib/converter.py:103: FutureWarning: Using an implicitly registered datetime converter for a matplotlib plotting method. The converter was registered by pandas on import. Future versions of pandas will require you to explicitly register matplotlib converters.\n",
      "\n",
      "To register the converters:\n",
      "\t>>> from pandas.plotting import register_matplotlib_converters\n",
      "\t>>> register_matplotlib_converters()\n",
      "  warnings.warn(msg, FutureWarning)\n"
     ]
    },
    {
     "data": {
      "text/plain": [
       "[<matplotlib.lines.Line2D at 0x7f834c376630>]"
      ]
     },
     "execution_count": 39,
     "metadata": {},
     "output_type": "execute_result"
    },
    {
     "data": {
      "image/png": "[encoded data removed]",
      "text/plain": [
       "<Figure size 432x288 with 1 Axes>"
      ]
     },
     "metadata": {
      "needs_background": "light"
     },
     "output_type": "display_data"
    }
   ],
   "source": [
    "peanut.sum(dim=['i', 'j', 'k']).plot()"
   ]
  },
  {
   "cell_type": "code",
   "execution_count": null,
   "metadata": {},
   "outputs": [],
   "source": [
    "ds_slt_wg.total_tendency_SLT_truth.sum(dim=['i', 'j', 'k']).plot()"
   ]
  },
  {
   "cell_type": "code",
   "execution_count": null,
   "metadata": {},
   "outputs": [],
   "source": [
    "rhs_slt = ((ds_slt_wg.conv_horiz_adv_flux_SLT +\n",
    "            ds_slt_wg.conv_horiz_diff_flux_SLT +\n",
    "            ds_slt_wg.salt_plume).sum(dim=['i', 'j', 'k']) -\n",
    "            ds_slt_wg.surface_flux_SLT.sum(dim=['i', 'j', 'k'])).load()\n",
    "\n",
    "lhs_slt = ds_slt_wg.total_tendency_SLT_truth.sum(dim=['i', 'j', 'k']).load()"
   ]
  },
  {
   "cell_type": "code",
   "execution_count": null,
   "metadata": {},
   "outputs": [],
   "source": [
    "plt.figure(figsize=(12,6))\n",
    "rhs_slt.plot(label='rhs')\n",
    "lhs_slt.plot(label='lhs')\n",
    "plt.legend()\n",
    "plt.title('Updated Salt Budget for Entire WG Column', fontsize=18);"
   ]
  },
  {
   "cell_type": "markdown",
   "metadata": {},
   "source": [
    "## Saving Data"
   ]
  },
  {
   "cell_type": "raw",
   "metadata": {},
   "source": [
    "gcfs_auth = gcsfs.GCSFileSystem(project='pangeo-181919', token='browser')\n",
    "token = gcfs_auth.tokens[('pangeo-181919', 'full_control')]\n",
    "gcfs_w_token = gcsfs.GCSFileSystem(project='pangeo-181919', token=token)"
   ]
  },
  {
   "cell_type": "raw",
   "metadata": {},
   "source": [
    "mapper = gcfs_w_token.get_mapper('pangeo-tmp/test')\n",
    "mapper['a'] = b'hello world'"
   ]
  },
  {
   "cell_type": "raw",
   "metadata": {},
   "source": [
    "#saving heat budget ds\n",
    "gcsmap_th = gcfs_w_token.get_mapper('pangeo-tmp/stb2145/ECCO/budget_th.zarr')\n",
    "budget_th.to_zarr(gcsmap_th, mode='w')"
   ]
  },
  {
   "cell_type": "raw",
   "metadata": {},
   "source": [
    "#saving salt budget ds\n",
    "gcsmap_slt = gcfs_w_token.get_mapper('pangeo-tmp/stb2145/ECCO/budget_slt.zarr')\n",
    "budget_slt.to_zarr(gcsmap_slt, mode='w')"
   ]
  },
  {
   "cell_type": "markdown",
   "metadata": {},
   "source": [
    "### Saving Data (WG region)\n",
    "for purpose of getting ECCO working in time for paper - late upload full tmp/slt datasets just in case you change boundaries again"
   ]
  },
  {
   "cell_type": "code",
   "execution_count": null,
   "metadata": {},
   "outputs": [],
   "source": [
    "import json\n",
    "with open('/home/jovyan/WMT/pangeo-181919-f141378dc975.json') as token_file:\n",
    "    token = json.load(token_file)\n",
    "gcfs_w_token = gcsfs.GCSFileSystem(token=token)"
   ]
  },
  {
   "cell_type": "code",
   "execution_count": 34,
   "metadata": {},
   "outputs": [],
   "source": [
    "#WG boundaries (65˚W, 30˚E; 80˚S, 62˚S)\n",
    "left_lon = 23 #~-64.5˚ #used to be 20\n",
    "right_lon = 118 #30.5˚ #used to be 115\n",
    "lower_lat = 30 #~-80˚ #used to be 38\n",
    "upper_lat = 80 #-61.755745˚ instead of #79:-62.216576˚ to fill upper projection plot row\n",
    "j_g_upper = 81\n",
    "i_g_right = 119\n",
    "i_g_left = 22"
   ]
  },
  {
   "cell_type": "code",
   "execution_count": 35,
   "metadata": {},
   "outputs": [],
   "source": [
    "#set the boundaries\n",
    "lat_range_noface = dict(j=slice(lower_lat, upper_lat))\n",
    "lon_range_noface = dict(i=slice(left_lon, right_lon))"
   ]
  },
  {
   "cell_type": "code",
   "execution_count": 36,
   "metadata": {},
   "outputs": [],
   "source": [
    "ds_tmp_wg = budget_th.isel(**lat_range_noface, **lon_range_noface)\n",
    "ds_slt_wg = budget_slt.isel(**lat_range_noface, **lon_range_noface)"
   ]
  },
  {
   "cell_type": "code",
   "execution_count": null,
   "metadata": {},
   "outputs": [],
   "source": [
    "ds_tmp_wg.nbytes/1e9"
   ]
  },
  {
   "cell_type": "code",
   "execution_count": null,
   "metadata": {},
   "outputs": [],
   "source": [
    "ds_slt_wg.nbytes/1e9"
   ]
  },
  {
   "cell_type": "code",
   "execution_count": null,
   "metadata": {},
   "outputs": [],
   "source": [
    "#saving heat budget ds\n",
    "gcsmap_th_wg = gcfs_w_token.get_mapper('pangeo-tmp/stb2145/ECCO/datasets/ds_tmp_wg.zarr')\n",
    "ds_tmp_wg.to_zarr(gcsmap_th_wg, mode='w')"
   ]
  },
  {
   "cell_type": "code",
   "execution_count": null,
   "metadata": {},
   "outputs": [],
   "source": [
    "#saving salt budget ds\n",
    "gcsmap_slt_wg = gcfs_w_token.get_mapper('pangeo-tmp/stb2145/ECCO/datasets/ds_slt_wg.zarr')\n",
    "ds_slt_wg.to_zarr(gcsmap_slt_wg, mode='w')"
   ]
  },
  {
   "cell_type": "raw",
   "metadata": {},
   "source": [
    "path = 'pangeo-tmp/stb2145/ECCO/datasets/ds_slt_wg/'\n",
    "for varname in ds_slt_wg.data_vars:\n",
    "    ds_slt_wg[[varname]].to_zarr(gcs.GCSMap(f'{path}/{varname}.zarr'))"
   ]
  },
  {
   "cell_type": "code",
   "execution_count": null,
   "metadata": {},
   "outputs": [],
   "source": [
    "ds_slt_wg.surface_flux_SLT.mean(dim='time')[0].plot(vmax=10e3)"
   ]
  },
  {
   "cell_type": "code",
   "execution_count": null,
   "metadata": {},
   "outputs": [],
   "source": []
  }
 ],
 "metadata": {
  "kernelspec": {
   "display_name": "Python 3",
   "language": "python",
   "name": "python3"
  },
  "language_info": {
   "codemirror_mode": {
    "name": "ipython",
    "version": 3
   },
   "file_extension": ".py",
   "mimetype": "text/x-python",
   "name": "python",
   "nbconvert_exporter": "python",
   "pygments_lexer": "ipython3",
   "version": "3.7.3"
  }
 },
 "nbformat": 4,
 "nbformat_minor": 4
}
