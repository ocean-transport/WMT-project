{
 "cells": [
  {
   "cell_type": "markdown",
   "metadata": {},
   "source": [
    "# Figures for Paper\n",
    "\n",
    "## ECCO (as same period as SOSE)"
   ]
  },
  {
   "cell_type": "code",
   "execution_count": 1,
   "metadata": {},
   "outputs": [
    {
     "name": "stderr",
     "output_type": "stream",
     "text": [
      "/srv/conda/envs/notebook/lib/python3.8/site-packages/dask_gateway/client.py:21: FutureWarning: format_bytes is deprecated and will be removed in a future release. Please use dask.utils.format_bytes instead.\n",
      "  from distributed.utils import LoopRunner, format_bytes\n"
     ]
    }
   ],
   "source": [
    "from dask_gateway import Gateway\n",
    "g = Gateway()\n",
    "cluster = g.connect(g.list_clusters()[0].name)\n",
    "client = cluster.get_client()"
   ]
  },
  {
   "cell_type": "code",
   "execution_count": 2,
   "metadata": {},
   "outputs": [
    {
     "data": {
      "text/html": [
       "<div>\n",
       "    <div style=\"width: 24px; height: 24px; background-color: #e1e1e1; border: 3px solid #9D9D9D; border-radius: 5px; position: absolute;\"> </div>\n",
       "    <div style=\"margin-left: 48px;\">\n",
       "        <h3 style=\"margin-bottom: 0px;\">Client</h3>\n",
       "        <p style=\"color: #9D9D9D; margin-bottom: 0px;\">Client-db9d5439-43ce-11ec-815c-3ea20a7720e1</p>\n",
       "        <table style=\"width: 100%; text-align: left;\">\n",
       "\n",
       "        <tr>\n",
       "        \n",
       "            <td style=\"text-align: left;\"><strong>Connection method:</strong> Cluster object</td>\n",
       "            <td style=\"text-align: left;\"><strong>Cluster type:</strong> dask_gateway.GatewayCluster</td>\n",
       "        \n",
       "        </tr>\n",
       "\n",
       "        \n",
       "            <tr>\n",
       "                <td style=\"text-align: left;\">\n",
       "                    <strong>Dashboard: </strong> <a href=\"/services/dask-gateway/clusters/prod.970c44bff4e341859d3549daac8de5fa/status\" target=\"_blank\">/services/dask-gateway/clusters/prod.970c44bff4e341859d3549daac8de5fa/status</a>\n",
       "                </td>\n",
       "                <td style=\"text-align: left;\"></td>\n",
       "            </tr>\n",
       "        \n",
       "\n",
       "        </table>\n",
       "\n",
       "        \n",
       "            <details>\n",
       "            <summary style=\"margin-bottom: 20px;\"><h3 style=\"display: inline;\">Cluster Info</h3></summary>\n",
       "            <div style='background-color: #f2f2f2; display: inline-block; padding: 10px; border: 1px solid #999999;'>\n",
       "  <h3>GatewayCluster</h3>\n",
       "  <ul>\n",
       "    <li><b>Name: </b>prod.970c44bff4e341859d3549daac8de5fa\n",
       "    <li><b>Dashboard: </b><a href='/services/dask-gateway/clusters/prod.970c44bff4e341859d3549daac8de5fa/status' target='_blank'>/services/dask-gateway/clusters/prod.970c44bff4e341859d3549daac8de5fa/status</a>\n",
       "  </ul>\n",
       "</div>\n",
       "\n",
       "            </details>\n",
       "        \n",
       "\n",
       "    </div>\n",
       "</div>"
      ],
      "text/plain": [
       "<Client: 'tls://10.8.5.17:8786' processes=30 threads=60, memory=120.00 GiB>"
      ]
     },
     "execution_count": 2,
     "metadata": {},
     "output_type": "execute_result"
    }
   ],
   "source": [
    "client"
   ]
  },
  {
   "cell_type": "code",
   "execution_count": 3,
   "metadata": {},
   "outputs": [],
   "source": [
    "import xarray as xr\n",
    "import pandas as pd\n",
    "from matplotlib import pyplot as plt\n",
    "import gcsfs\n",
    "import dask\n",
    "import dask.array as dsa\n",
    "import numpy as np\n",
    "import intake\n",
    "import fsspec\n",
    "import xmitgcm\n",
    "from xhistogram.xarray import histogram\n",
    "from xmitgcm.llcreader.llcmodel import faces_dataset_to_latlon\n",
    "%matplotlib inline\n",
    "from fastjmd95 import jmd95numba\n",
    "import json"
   ]
  },
  {
   "cell_type": "raw",
   "metadata": {},
   "source": [
    "xr.set_options(display_style='text')"
   ]
  },
  {
   "cell_type": "raw",
   "metadata": {},
   "source": [
    "omega_total = xr.open_zarr(gcsfs.GCSMap('pangeo-tmp/stb2145/ECCO/datasets/wmt_budget_terms/omega_total_SP.zarr'))\n",
    "R1 = xr.open_zarr(gcsfs.GCSMap('pangeo-tmp/stb2145/ECCO/datasets/wmt_budget_terms/R1.zarr'))"
   ]
  },
  {
   "cell_type": "raw",
   "metadata": {},
   "source": [
    "wmt_budget_terms = xr.open_zarr(gcsfs.GCSMap('pangeo-tmp/stb2145/ECCO/datasets/wmt_budget_terms/wmt_budget_terms_SP.zarr'))\n",
    "wmt_budget_terms.load()"
   ]
  },
  {
   "cell_type": "raw",
   "metadata": {},
   "source": [
    "wmt_budget_terms = wmt_budget_terms.sel(time=slice('2006', '2010'))"
   ]
  },
  {
   "cell_type": "code",
   "execution_count": 4,
   "metadata": {},
   "outputs": [],
   "source": [
    "with open('/home/jovyan/pangeo-181919-f141378dc975.json') as token_file:\n",
    "    token = json.load(token_file)\n",
    "gcfs_w_token = gcsfs.GCSFileSystem(token=token)"
   ]
  },
  {
   "cell_type": "code",
   "execution_count": 5,
   "metadata": {},
   "outputs": [
    {
     "name": "stderr",
     "output_type": "stream",
     "text": [
      "/tmp/ipykernel_348/560759331.py:1: RuntimeWarning: Failed to open Zarr store with consolidated metadata, falling back to try reading non-consolidated metadata. This is typically much slower for opening a dataset. To silence this warning, consider:\n",
      "1. Consolidating metadata in this existing store with zarr.consolidate_metadata().\n",
      "2. Explicitly setting consolidated=False, to avoid trying to read consolidate metadata, or\n",
      "3. Explicitly setting consolidated=True, to raise an error in this case instead of falling back to try reading non-consolidated metadata.\n",
      "  wmt_budget_terms = xr.open_zarr(gcfs_w_token.get_mapper('pangeo-tmp/stb2145/ECCO/datasets/wmt_budget_terms.zarr'))\n"
     ]
    },
    {
     "data": {
      "text/html": [
       "<div><svg style=\"position: absolute; width: 0; height: 0; overflow: hidden\">\n",
       "<defs>\n",
       "<symbol id=\"icon-database\" viewBox=\"0 0 32 32\">\n",
       "<path d=\"M16 0c-8.837 0-16 2.239-16 5v4c0 2.761 7.163 5 16 5s16-2.239 16-5v-4c0-2.761-7.163-5-16-5z\"></path>\n",
       "<path d=\"M16 17c-8.837 0-16-2.239-16-5v6c0 2.761 7.163 5 16 5s16-2.239 16-5v-6c0 2.761-7.163 5-16 5z\"></path>\n",
       "<path d=\"M16 26c-8.837 0-16-2.239-16-5v6c0 2.761 7.163 5 16 5s16-2.239 16-5v-6c0 2.761-7.163 5-16 5z\"></path>\n",
       "</symbol>\n",
       "<symbol id=\"icon-file-text2\" viewBox=\"0 0 32 32\">\n",
       "<path d=\"M28.681 7.159c-0.694-0.947-1.662-2.053-2.724-3.116s-2.169-2.030-3.116-2.724c-1.612-1.182-2.393-1.319-2.841-1.319h-15.5c-1.378 0-2.5 1.121-2.5 2.5v27c0 1.378 1.122 2.5 2.5 2.5h23c1.378 0 2.5-1.122 2.5-2.5v-19.5c0-0.448-0.137-1.23-1.319-2.841zM24.543 5.457c0.959 0.959 1.712 1.825 2.268 2.543h-4.811v-4.811c0.718 0.556 1.584 1.309 2.543 2.268zM28 29.5c0 0.271-0.229 0.5-0.5 0.5h-23c-0.271 0-0.5-0.229-0.5-0.5v-27c0-0.271 0.229-0.5 0.5-0.5 0 0 15.499-0 15.5 0v7c0 0.552 0.448 1 1 1h7v19.5z\"></path>\n",
       "<path d=\"M23 26h-14c-0.552 0-1-0.448-1-1s0.448-1 1-1h14c0.552 0 1 0.448 1 1s-0.448 1-1 1z\"></path>\n",
       "<path d=\"M23 22h-14c-0.552 0-1-0.448-1-1s0.448-1 1-1h14c0.552 0 1 0.448 1 1s-0.448 1-1 1z\"></path>\n",
       "<path d=\"M23 18h-14c-0.552 0-1-0.448-1-1s0.448-1 1-1h14c0.552 0 1 0.448 1 1s-0.448 1-1 1z\"></path>\n",
       "</symbol>\n",
       "</defs>\n",
       "</svg>\n",
       "<style>/* CSS stylesheet for displaying xarray objects in jupyterlab.\n",
       " *\n",
       " */\n",
       "\n",
       ":root {\n",
       "  --xr-font-color0: var(--jp-content-font-color0, rgba(0, 0, 0, 1));\n",
       "  --xr-font-color2: var(--jp-content-font-color2, rgba(0, 0, 0, 0.54));\n",
       "  --xr-font-color3: var(--jp-content-font-color3, rgba(0, 0, 0, 0.38));\n",
       "  --xr-border-color: var(--jp-border-color2, #e0e0e0);\n",
       "  --xr-disabled-color: var(--jp-layout-color3, #bdbdbd);\n",
       "  --xr-background-color: var(--jp-layout-color0, white);\n",
       "  --xr-background-color-row-even: var(--jp-layout-color1, white);\n",
       "  --xr-background-color-row-odd: var(--jp-layout-color2, #eeeeee);\n",
       "}\n",
       "\n",
       "html[theme=dark],\n",
       "body.vscode-dark {\n",
       "  --xr-font-color0: rgba(255, 255, 255, 1);\n",
       "  --xr-font-color2: rgba(255, 255, 255, 0.54);\n",
       "  --xr-font-color3: rgba(255, 255, 255, 0.38);\n",
       "  --xr-border-color: #1F1F1F;\n",
       "  --xr-disabled-color: #515151;\n",
       "  --xr-background-color: #111111;\n",
       "  --xr-background-color-row-even: #111111;\n",
       "  --xr-background-color-row-odd: #313131;\n",
       "}\n",
       "\n",
       ".xr-wrap {\n",
       "  display: block;\n",
       "  min-width: 300px;\n",
       "  max-width: 700px;\n",
       "}\n",
       "\n",
       ".xr-text-repr-fallback {\n",
       "  /* fallback to plain text repr when CSS is not injected (untrusted notebook) */\n",
       "  display: none;\n",
       "}\n",
       "\n",
       ".xr-header {\n",
       "  padding-top: 6px;\n",
       "  padding-bottom: 6px;\n",
       "  margin-bottom: 4px;\n",
       "  border-bottom: solid 1px var(--xr-border-color);\n",
       "}\n",
       "\n",
       ".xr-header > div,\n",
       ".xr-header > ul {\n",
       "  display: inline;\n",
       "  margin-top: 0;\n",
       "  margin-bottom: 0;\n",
       "}\n",
       "\n",
       ".xr-obj-type,\n",
       ".xr-array-name {\n",
       "  margin-left: 2px;\n",
       "  margin-right: 10px;\n",
       "}\n",
       "\n",
       ".xr-obj-type {\n",
       "  color: var(--xr-font-color2);\n",
       "}\n",
       "\n",
       ".xr-sections {\n",
       "  padding-left: 0 !important;\n",
       "  display: grid;\n",
       "  grid-template-columns: 150px auto auto 1fr 20px 20px;\n",
       "}\n",
       "\n",
       ".xr-section-item {\n",
       "  display: contents;\n",
       "}\n",
       "\n",
       ".xr-section-item input {\n",
       "  display: none;\n",
       "}\n",
       "\n",
       ".xr-section-item input + label {\n",
       "  color: var(--xr-disabled-color);\n",
       "}\n",
       "\n",
       ".xr-section-item input:enabled + label {\n",
       "  cursor: pointer;\n",
       "  color: var(--xr-font-color2);\n",
       "}\n",
       "\n",
       ".xr-section-item input:enabled + label:hover {\n",
       "  color: var(--xr-font-color0);\n",
       "}\n",
       "\n",
       ".xr-section-summary {\n",
       "  grid-column: 1;\n",
       "  color: var(--xr-font-color2);\n",
       "  font-weight: 500;\n",
       "}\n",
       "\n",
       ".xr-section-summary > span {\n",
       "  display: inline-block;\n",
       "  padding-left: 0.5em;\n",
       "}\n",
       "\n",
       ".xr-section-summary-in:disabled + label {\n",
       "  color: var(--xr-font-color2);\n",
       "}\n",
       "\n",
       ".xr-section-summary-in + label:before {\n",
       "  display: inline-block;\n",
       "  content: '►';\n",
       "  font-size: 11px;\n",
       "  width: 15px;\n",
       "  text-align: center;\n",
       "}\n",
       "\n",
       ".xr-section-summary-in:disabled + label:before {\n",
       "  color: var(--xr-disabled-color);\n",
       "}\n",
       "\n",
       ".xr-section-summary-in:checked + label:before {\n",
       "  content: '▼';\n",
       "}\n",
       "\n",
       ".xr-section-summary-in:checked + label > span {\n",
       "  display: none;\n",
       "}\n",
       "\n",
       ".xr-section-summary,\n",
       ".xr-section-inline-details {\n",
       "  padding-top: 4px;\n",
       "  padding-bottom: 4px;\n",
       "}\n",
       "\n",
       ".xr-section-inline-details {\n",
       "  grid-column: 2 / -1;\n",
       "}\n",
       "\n",
       ".xr-section-details {\n",
       "  display: none;\n",
       "  grid-column: 1 / -1;\n",
       "  margin-bottom: 5px;\n",
       "}\n",
       "\n",
       ".xr-section-summary-in:checked ~ .xr-section-details {\n",
       "  display: contents;\n",
       "}\n",
       "\n",
       ".xr-array-wrap {\n",
       "  grid-column: 1 / -1;\n",
       "  display: grid;\n",
       "  grid-template-columns: 20px auto;\n",
       "}\n",
       "\n",
       ".xr-array-wrap > label {\n",
       "  grid-column: 1;\n",
       "  vertical-align: top;\n",
       "}\n",
       "\n",
       ".xr-preview {\n",
       "  color: var(--xr-font-color3);\n",
       "}\n",
       "\n",
       ".xr-array-preview,\n",
       ".xr-array-data {\n",
       "  padding: 0 5px !important;\n",
       "  grid-column: 2;\n",
       "}\n",
       "\n",
       ".xr-array-data,\n",
       ".xr-array-in:checked ~ .xr-array-preview {\n",
       "  display: none;\n",
       "}\n",
       "\n",
       ".xr-array-in:checked ~ .xr-array-data,\n",
       ".xr-array-preview {\n",
       "  display: inline-block;\n",
       "}\n",
       "\n",
       ".xr-dim-list {\n",
       "  display: inline-block !important;\n",
       "  list-style: none;\n",
       "  padding: 0 !important;\n",
       "  margin: 0;\n",
       "}\n",
       "\n",
       ".xr-dim-list li {\n",
       "  display: inline-block;\n",
       "  padding: 0;\n",
       "  margin: 0;\n",
       "}\n",
       "\n",
       ".xr-dim-list:before {\n",
       "  content: '(';\n",
       "}\n",
       "\n",
       ".xr-dim-list:after {\n",
       "  content: ')';\n",
       "}\n",
       "\n",
       ".xr-dim-list li:not(:last-child):after {\n",
       "  content: ',';\n",
       "  padding-right: 5px;\n",
       "}\n",
       "\n",
       ".xr-has-index {\n",
       "  font-weight: bold;\n",
       "}\n",
       "\n",
       ".xr-var-list,\n",
       ".xr-var-item {\n",
       "  display: contents;\n",
       "}\n",
       "\n",
       ".xr-var-item > div,\n",
       ".xr-var-item label,\n",
       ".xr-var-item > .xr-var-name span {\n",
       "  background-color: var(--xr-background-color-row-even);\n",
       "  margin-bottom: 0;\n",
       "}\n",
       "\n",
       ".xr-var-item > .xr-var-name:hover span {\n",
       "  padding-right: 5px;\n",
       "}\n",
       "\n",
       ".xr-var-list > li:nth-child(odd) > div,\n",
       ".xr-var-list > li:nth-child(odd) > label,\n",
       ".xr-var-list > li:nth-child(odd) > .xr-var-name span {\n",
       "  background-color: var(--xr-background-color-row-odd);\n",
       "}\n",
       "\n",
       ".xr-var-name {\n",
       "  grid-column: 1;\n",
       "}\n",
       "\n",
       ".xr-var-dims {\n",
       "  grid-column: 2;\n",
       "}\n",
       "\n",
       ".xr-var-dtype {\n",
       "  grid-column: 3;\n",
       "  text-align: right;\n",
       "  color: var(--xr-font-color2);\n",
       "}\n",
       "\n",
       ".xr-var-preview {\n",
       "  grid-column: 4;\n",
       "}\n",
       "\n",
       ".xr-var-name,\n",
       ".xr-var-dims,\n",
       ".xr-var-dtype,\n",
       ".xr-preview,\n",
       ".xr-attrs dt {\n",
       "  white-space: nowrap;\n",
       "  overflow: hidden;\n",
       "  text-overflow: ellipsis;\n",
       "  padding-right: 10px;\n",
       "}\n",
       "\n",
       ".xr-var-name:hover,\n",
       ".xr-var-dims:hover,\n",
       ".xr-var-dtype:hover,\n",
       ".xr-attrs dt:hover {\n",
       "  overflow: visible;\n",
       "  width: auto;\n",
       "  z-index: 1;\n",
       "}\n",
       "\n",
       ".xr-var-attrs,\n",
       ".xr-var-data {\n",
       "  display: none;\n",
       "  background-color: var(--xr-background-color) !important;\n",
       "  padding-bottom: 5px !important;\n",
       "}\n",
       "\n",
       ".xr-var-attrs-in:checked ~ .xr-var-attrs,\n",
       ".xr-var-data-in:checked ~ .xr-var-data {\n",
       "  display: block;\n",
       "}\n",
       "\n",
       ".xr-var-data > table {\n",
       "  float: right;\n",
       "}\n",
       "\n",
       ".xr-var-name span,\n",
       ".xr-var-data,\n",
       ".xr-attrs {\n",
       "  padding-left: 25px !important;\n",
       "}\n",
       "\n",
       ".xr-attrs,\n",
       ".xr-var-attrs,\n",
       ".xr-var-data {\n",
       "  grid-column: 1 / -1;\n",
       "}\n",
       "\n",
       "dl.xr-attrs {\n",
       "  padding: 0;\n",
       "  margin: 0;\n",
       "  display: grid;\n",
       "  grid-template-columns: 125px auto;\n",
       "}\n",
       "\n",
       ".xr-attrs dt,\n",
       ".xr-attrs dd {\n",
       "  padding: 0;\n",
       "  margin: 0;\n",
       "  float: left;\n",
       "  padding-right: 10px;\n",
       "  width: auto;\n",
       "}\n",
       "\n",
       ".xr-attrs dt {\n",
       "  font-weight: normal;\n",
       "  grid-column: 1;\n",
       "}\n",
       "\n",
       ".xr-attrs dt:hover span {\n",
       "  display: inline-block;\n",
       "  background: var(--xr-background-color);\n",
       "  padding-right: 10px;\n",
       "}\n",
       "\n",
       ".xr-attrs dd {\n",
       "  grid-column: 2;\n",
       "  white-space: pre-wrap;\n",
       "  word-break: break-all;\n",
       "}\n",
       "\n",
       ".xr-icon-database,\n",
       ".xr-icon-file-text2 {\n",
       "  display: inline-block;\n",
       "  vertical-align: middle;\n",
       "  width: 1em;\n",
       "  height: 1.5em !important;\n",
       "  stroke-width: 0;\n",
       "  stroke: currentColor;\n",
       "  fill: currentColor;\n",
       "}\n",
       "</style><pre class='xr-text-repr-fallback'>&lt;xarray.Dataset&gt;\n",
       "Dimensions:               (time: 288, sigma2_bin: 999)\n",
       "Coordinates:\n",
       "  * sigma2_bin            (sigma2_bin) float64 1.028e+03 1.028e+03 ... 1.037e+03\n",
       "  * time                  (time) datetime64[ns] 1992-01-15 ... 2015-12-14\n",
       "    time_snp              (time) datetime64[ns] NaT 1992-03-01 ... NaT\n",
       "Data variables: (12/17)\n",
       "    R1                    (time, sigma2_bin) float64 nan nan nan ... nan nan nan\n",
       "    R2                    (time, sigma2_bin) float64 6.155e+04 6.155e+04 ... 0.0\n",
       "    dVdt                  (time, sigma2_bin) float64 nan nan nan ... nan nan nan\n",
       "    omega_mix             (time, sigma2_bin) float64 0.0 0.0 0.0 ... 0.0 0.0 0.0\n",
       "    omega_mix_slt         (time, sigma2_bin) float64 0.0 0.0 0.0 ... 0.0 0.0 0.0\n",
       "    omega_mix_th          (time, sigma2_bin) float64 0.0 0.0 0.0 ... 0.0 0.0 0.0\n",
       "    ...                    ...\n",
       "    omega_total_th        (time, sigma2_bin) float64 nan nan nan ... nan nan nan\n",
       "    omega_trans_rate      (time, sigma2_bin) float64 nan nan nan ... nan nan nan\n",
       "    omega_trans_rate_slt  (time, sigma2_bin) float64 nan nan nan ... nan nan nan\n",
       "    omega_trans_rate_th   (time, sigma2_bin) float64 nan nan nan ... nan nan nan\n",
       "    psi_adv               (time, sigma2_bin) float64 nan nan nan ... nan nan nan\n",
       "    psi_vel               (time, sigma2_bin) float64 nan nan nan ... nan nan nan</pre><div class='xr-wrap' hidden><div class='xr-header'><div class='xr-obj-type'>xarray.Dataset</div></div><ul class='xr-sections'><li class='xr-section-item'><input id='section-1f614aa8-0850-4e0c-97cd-82e3c5186f8a' class='xr-section-summary-in' type='checkbox' disabled ><label for='section-1f614aa8-0850-4e0c-97cd-82e3c5186f8a' class='xr-section-summary'  title='Expand/collapse section'>Dimensions:</label><div class='xr-section-inline-details'><ul class='xr-dim-list'><li><span class='xr-has-index'>time</span>: 288</li><li><span class='xr-has-index'>sigma2_bin</span>: 999</li></ul></div><div class='xr-section-details'></div></li><li class='xr-section-item'><input id='section-78a2f141-590e-4469-8575-fa26d063da10' class='xr-section-summary-in' type='checkbox'  checked><label for='section-78a2f141-590e-4469-8575-fa26d063da10' class='xr-section-summary' >Coordinates: <span>(3)</span></label><div class='xr-section-inline-details'></div><div class='xr-section-details'><ul class='xr-var-list'><li class='xr-var-item'><div class='xr-var-name'><span class='xr-has-index'>sigma2_bin</span></div><div class='xr-var-dims'>(sigma2_bin)</div><div class='xr-var-dtype'>float64</div><div class='xr-var-preview xr-preview'>1.028e+03 1.028e+03 ... 1.037e+03</div><input id='attrs-685affee-f115-4b52-8873-03ab5f582a35' class='xr-var-attrs-in' type='checkbox' disabled><label for='attrs-685affee-f115-4b52-8873-03ab5f582a35' title='Show/Hide attributes'><svg class='icon xr-icon-file-text2'><use xlink:href='#icon-file-text2'></use></svg></label><input id='data-7175739a-12ad-4d89-a9a3-334f85f01387' class='xr-var-data-in' type='checkbox'><label for='data-7175739a-12ad-4d89-a9a3-334f85f01387' title='Show/Hide data repr'><svg class='icon xr-icon-database'><use xlink:href='#icon-database'></use></svg></label><div class='xr-var-attrs'><dl class='xr-attrs'></dl></div><div class='xr-var-data'><pre>array([1027.505, 1027.515, 1027.525, ..., 1037.465, 1037.475, 1037.485])</pre></div></li><li class='xr-var-item'><div class='xr-var-name'><span class='xr-has-index'>time</span></div><div class='xr-var-dims'>(time)</div><div class='xr-var-dtype'>datetime64[ns]</div><div class='xr-var-preview xr-preview'>1992-01-15 ... 2015-12-14</div><input id='attrs-e91ea3cf-e7e1-43db-9b40-e414ef2fa570' class='xr-var-attrs-in' type='checkbox' disabled><label for='attrs-e91ea3cf-e7e1-43db-9b40-e414ef2fa570' title='Show/Hide attributes'><svg class='icon xr-icon-file-text2'><use xlink:href='#icon-file-text2'></use></svg></label><input id='data-c4df2e74-f72f-4636-97f1-b6f1f85b940b' class='xr-var-data-in' type='checkbox'><label for='data-c4df2e74-f72f-4636-97f1-b6f1f85b940b' title='Show/Hide data repr'><svg class='icon xr-icon-database'><use xlink:href='#icon-database'></use></svg></label><div class='xr-var-attrs'><dl class='xr-attrs'></dl></div><div class='xr-var-data'><pre>array([&#x27;1992-01-15T00:00:00.000000000&#x27;, &#x27;1992-02-13T00:00:00.000000000&#x27;,\n",
       "       &#x27;1992-03-15T00:00:00.000000000&#x27;, ..., &#x27;2015-10-15T00:00:00.000000000&#x27;,\n",
       "       &#x27;2015-11-14T00:00:00.000000000&#x27;, &#x27;2015-12-14T00:00:00.000000000&#x27;],\n",
       "      dtype=&#x27;datetime64[ns]&#x27;)</pre></div></li><li class='xr-var-item'><div class='xr-var-name'><span>time_snp</span></div><div class='xr-var-dims'>(time)</div><div class='xr-var-dtype'>datetime64[ns]</div><div class='xr-var-preview xr-preview'>NaT 1992-03-01 ... 2015-12-01 NaT</div><input id='attrs-27c1bffd-b881-4753-9288-1fd46064f6f7' class='xr-var-attrs-in' type='checkbox' ><label for='attrs-27c1bffd-b881-4753-9288-1fd46064f6f7' title='Show/Hide attributes'><svg class='icon xr-icon-file-text2'><use xlink:href='#icon-file-text2'></use></svg></label><input id='data-a2661592-2516-4730-b416-382cba25936c' class='xr-var-data-in' type='checkbox'><label for='data-a2661592-2516-4730-b416-382cba25936c' title='Show/Hide data repr'><svg class='icon xr-icon-database'><use xlink:href='#icon-database'></use></svg></label><div class='xr-var-attrs'><dl class='xr-attrs'><dt><span>axis :</span></dt><dd>T</dd><dt><span>c_grid_axis_shift :</span></dt><dd>0.5</dd><dt><span>long_name :</span></dt><dd>Time</dd><dt><span>standard_name :</span></dt><dd>time</dd></dl></div><div class='xr-var-data'><pre>array([                          &#x27;NaT&#x27;, &#x27;1992-03-01T00:00:00.000000000&#x27;,\n",
       "       &#x27;1992-04-01T00:00:00.000000000&#x27;, &#x27;1992-05-01T00:00:00.000000000&#x27;,\n",
       "       &#x27;1992-06-01T00:00:00.000000000&#x27;, &#x27;1992-07-01T00:00:00.000000000&#x27;,\n",
       "       &#x27;1992-08-01T00:00:00.000000000&#x27;, &#x27;1992-09-01T00:00:00.000000000&#x27;,\n",
       "       &#x27;1992-10-01T00:00:00.000000000&#x27;, &#x27;1992-11-01T00:00:00.000000000&#x27;,\n",
       "       &#x27;1992-12-01T00:00:00.000000000&#x27;, &#x27;1993-01-01T00:00:00.000000000&#x27;,\n",
       "       &#x27;1993-02-01T00:00:00.000000000&#x27;, &#x27;1993-03-01T00:00:00.000000000&#x27;,\n",
       "       &#x27;1993-04-01T00:00:00.000000000&#x27;, &#x27;1993-05-01T00:00:00.000000000&#x27;,\n",
       "       &#x27;1993-06-01T00:00:00.000000000&#x27;, &#x27;1993-07-01T00:00:00.000000000&#x27;,\n",
       "       &#x27;1993-08-01T00:00:00.000000000&#x27;, &#x27;1993-09-01T00:00:00.000000000&#x27;,\n",
       "       &#x27;1993-10-01T00:00:00.000000000&#x27;, &#x27;1993-11-01T00:00:00.000000000&#x27;,\n",
       "       &#x27;1993-12-01T00:00:00.000000000&#x27;, &#x27;1994-01-01T00:00:00.000000000&#x27;,\n",
       "       &#x27;1994-02-01T00:00:00.000000000&#x27;, &#x27;1994-03-01T00:00:00.000000000&#x27;,\n",
       "       &#x27;1994-04-01T00:00:00.000000000&#x27;, &#x27;1994-05-01T00:00:00.000000000&#x27;,\n",
       "       &#x27;1994-06-01T00:00:00.000000000&#x27;, &#x27;1994-07-01T00:00:00.000000000&#x27;,\n",
       "       &#x27;1994-08-01T00:00:00.000000000&#x27;, &#x27;1994-09-01T00:00:00.000000000&#x27;,\n",
       "       &#x27;1994-10-01T00:00:00.000000000&#x27;, &#x27;1994-11-01T00:00:00.000000000&#x27;,\n",
       "       &#x27;1994-12-01T00:00:00.000000000&#x27;, &#x27;1995-01-01T00:00:00.000000000&#x27;,\n",
       "       &#x27;1995-02-01T00:00:00.000000000&#x27;, &#x27;1995-03-01T00:00:00.000000000&#x27;,\n",
       "       &#x27;1995-04-01T00:00:00.000000000&#x27;, &#x27;1995-05-01T00:00:00.000000000&#x27;,\n",
       "...\n",
       "       &#x27;2012-12-01T00:00:00.000000000&#x27;, &#x27;2013-01-01T00:00:00.000000000&#x27;,\n",
       "       &#x27;2013-02-01T00:00:00.000000000&#x27;, &#x27;2013-03-01T00:00:00.000000000&#x27;,\n",
       "       &#x27;2013-04-01T00:00:00.000000000&#x27;, &#x27;2013-05-01T00:00:00.000000000&#x27;,\n",
       "       &#x27;2013-06-01T00:00:00.000000000&#x27;, &#x27;2013-07-01T00:00:00.000000000&#x27;,\n",
       "       &#x27;2013-08-01T00:00:00.000000000&#x27;, &#x27;2013-09-01T00:00:00.000000000&#x27;,\n",
       "       &#x27;2013-10-01T00:00:00.000000000&#x27;, &#x27;2013-11-01T00:00:00.000000000&#x27;,\n",
       "       &#x27;2013-12-01T00:00:00.000000000&#x27;, &#x27;2014-01-01T00:00:00.000000000&#x27;,\n",
       "       &#x27;2014-02-01T00:00:00.000000000&#x27;, &#x27;2014-03-01T00:00:00.000000000&#x27;,\n",
       "       &#x27;2014-04-01T00:00:00.000000000&#x27;, &#x27;2014-05-01T00:00:00.000000000&#x27;,\n",
       "       &#x27;2014-06-01T00:00:00.000000000&#x27;, &#x27;2014-07-01T00:00:00.000000000&#x27;,\n",
       "       &#x27;2014-08-01T00:00:00.000000000&#x27;, &#x27;2014-09-01T00:00:00.000000000&#x27;,\n",
       "       &#x27;2014-10-01T00:00:00.000000000&#x27;, &#x27;2014-11-01T00:00:00.000000000&#x27;,\n",
       "       &#x27;2014-12-01T00:00:00.000000000&#x27;, &#x27;2015-01-01T00:00:00.000000000&#x27;,\n",
       "       &#x27;2015-02-01T00:00:00.000000000&#x27;, &#x27;2015-03-01T00:00:00.000000000&#x27;,\n",
       "       &#x27;2015-04-01T00:00:00.000000000&#x27;, &#x27;2015-05-01T00:00:00.000000000&#x27;,\n",
       "       &#x27;2015-06-01T00:00:00.000000000&#x27;, &#x27;2015-07-01T00:00:00.000000000&#x27;,\n",
       "       &#x27;2015-08-01T00:00:00.000000000&#x27;, &#x27;2015-09-01T00:00:00.000000000&#x27;,\n",
       "       &#x27;2015-10-01T00:00:00.000000000&#x27;, &#x27;2015-11-01T00:00:00.000000000&#x27;,\n",
       "       &#x27;2015-12-01T00:00:00.000000000&#x27;,                           &#x27;NaT&#x27;],\n",
       "      dtype=&#x27;datetime64[ns]&#x27;)</pre></div></li></ul></div></li><li class='xr-section-item'><input id='section-47ac70f0-745f-4abf-a272-feac429b326c' class='xr-section-summary-in' type='checkbox'  ><label for='section-47ac70f0-745f-4abf-a272-feac429b326c' class='xr-section-summary' >Data variables: <span>(17)</span></label><div class='xr-section-inline-details'></div><div class='xr-section-details'><ul class='xr-var-list'><li class='xr-var-item'><div class='xr-var-name'><span>R1</span></div><div class='xr-var-dims'>(time, sigma2_bin)</div><div class='xr-var-dtype'>float64</div><div class='xr-var-preview xr-preview'>nan nan nan nan ... nan nan nan nan</div><input id='attrs-073f2809-b3c4-484b-bf1a-d95174369533' class='xr-var-attrs-in' type='checkbox' disabled><label for='attrs-073f2809-b3c4-484b-bf1a-d95174369533' title='Show/Hide attributes'><svg class='icon xr-icon-file-text2'><use xlink:href='#icon-file-text2'></use></svg></label><input id='data-332466ed-b8fe-4a6a-9f28-3cf8e05b3277' class='xr-var-data-in' type='checkbox'><label for='data-332466ed-b8fe-4a6a-9f28-3cf8e05b3277' title='Show/Hide data repr'><svg class='icon xr-icon-database'><use xlink:href='#icon-database'></use></svg></label><div class='xr-var-attrs'><dl class='xr-attrs'></dl></div><div class='xr-var-data'><pre>array([[             nan,              nan,              nan, ...,\n",
       "                     nan,              nan,              nan],\n",
       "       [      0.        ,       0.        ,       0.        , ...,\n",
       "           6845.07302107, -135026.86172725,       0.        ],\n",
       "       [      0.        ,       0.        ,       0.        , ...,\n",
       "           9264.73550977,  -18442.14653156,       0.        ],\n",
       "       ...,\n",
       "       [      0.        ,       0.        ,       0.        , ...,\n",
       "              0.        ,       0.        ,       0.        ],\n",
       "       [      0.        ,       0.        ,       0.        , ...,\n",
       "              0.        ,       0.        ,       0.        ],\n",
       "       [             nan,              nan,              nan, ...,\n",
       "                     nan,              nan,              nan]])</pre></div></li><li class='xr-var-item'><div class='xr-var-name'><span>R2</span></div><div class='xr-var-dims'>(time, sigma2_bin)</div><div class='xr-var-dtype'>float64</div><div class='xr-var-preview xr-preview'>6.155e+04 6.155e+04 ... 0.0 0.0</div><input id='attrs-6a28e580-c7b7-4764-91de-a56ad2258513' class='xr-var-attrs-in' type='checkbox' disabled><label for='attrs-6a28e580-c7b7-4764-91de-a56ad2258513' title='Show/Hide attributes'><svg class='icon xr-icon-file-text2'><use xlink:href='#icon-file-text2'></use></svg></label><input id='data-64a698b4-0979-44a3-9cd7-c4363abc0433' class='xr-var-data-in' type='checkbox'><label for='data-64a698b4-0979-44a3-9cd7-c4363abc0433' title='Show/Hide data repr'><svg class='icon xr-icon-database'><use xlink:href='#icon-database'></use></svg></label><div class='xr-var-attrs'><dl class='xr-attrs'></dl></div><div class='xr-var-data'><pre>array([[ 61548.32072804,  61548.32072804,  61548.32072804, ...,\n",
       "             0.        ,   -998.77740553,      0.        ],\n",
       "       [ 54672.66795915,  54672.66795915,  54672.66795915, ...,\n",
       "         -2995.81259402,   1576.65431348,      0.        ],\n",
       "       [ 56382.30092742,  56382.30092742,  56382.30092742, ...,\n",
       "         -2704.96901716,   1475.1085075 ,      0.        ],\n",
       "       ...,\n",
       "       [-13240.14867699, -13240.14867699, -13240.14867699, ...,\n",
       "             0.        ,      0.        ,      0.        ],\n",
       "       [ -1205.4945927 ,  -1205.4945927 ,  -1205.4945927 , ...,\n",
       "             0.        ,      0.        ,      0.        ],\n",
       "       [ 23472.61972128,  23472.61972128,  23472.61972128, ...,\n",
       "             0.        ,      0.        ,      0.        ]])</pre></div></li><li class='xr-var-item'><div class='xr-var-name'><span>dVdt</span></div><div class='xr-var-dims'>(time, sigma2_bin)</div><div class='xr-var-dtype'>float64</div><div class='xr-var-preview xr-preview'>nan nan nan nan ... nan nan nan nan</div><input id='attrs-c4a584fc-2605-4781-82b6-1cfad76016b5' class='xr-var-attrs-in' type='checkbox' disabled><label for='attrs-c4a584fc-2605-4781-82b6-1cfad76016b5' title='Show/Hide attributes'><svg class='icon xr-icon-file-text2'><use xlink:href='#icon-file-text2'></use></svg></label><input id='data-afcad2ec-b643-4178-bf16-aa1d6f8d3f50' class='xr-var-data-in' type='checkbox'><label for='data-afcad2ec-b643-4178-bf16-aa1d6f8d3f50' title='Show/Hide data repr'><svg class='icon xr-icon-database'><use xlink:href='#icon-database'></use></svg></label><div class='xr-var-attrs'><dl class='xr-attrs'></dl></div><div class='xr-var-data'><pre>array([[             nan,              nan,              nan, ...,\n",
       "                     nan,              nan,              nan],\n",
       "       [      0.        ,       0.        ,       0.        , ...,\n",
       "              0.        , -137675.64914432,       0.        ],\n",
       "       [      0.        ,       0.        ,       0.        , ...,\n",
       "              0.        ,  -18497.73113501,       0.        ],\n",
       "       ...,\n",
       "       [      0.        ,       0.        ,       0.        , ...,\n",
       "              0.        ,       0.        ,       0.        ],\n",
       "       [      0.        ,       0.        ,       0.        , ...,\n",
       "              0.        ,       0.        ,       0.        ],\n",
       "       [             nan,              nan,              nan, ...,\n",
       "                     nan,              nan,              nan]])</pre></div></li><li class='xr-var-item'><div class='xr-var-name'><span>omega_mix</span></div><div class='xr-var-dims'>(time, sigma2_bin)</div><div class='xr-var-dtype'>float64</div><div class='xr-var-preview xr-preview'>0.0 0.0 0.0 0.0 ... 0.0 0.0 0.0 0.0</div><input id='attrs-05247a8c-0bdd-4c4b-8a96-629b874b4104' class='xr-var-attrs-in' type='checkbox' disabled><label for='attrs-05247a8c-0bdd-4c4b-8a96-629b874b4104' title='Show/Hide attributes'><svg class='icon xr-icon-file-text2'><use xlink:href='#icon-file-text2'></use></svg></label><input id='data-0d0d9a85-0a2f-41da-951a-fc3b463b64a1' class='xr-var-data-in' type='checkbox'><label for='data-0d0d9a85-0a2f-41da-951a-fc3b463b64a1' title='Show/Hide data repr'><svg class='icon xr-icon-database'><use xlink:href='#icon-database'></use></svg></label><div class='xr-var-attrs'><dl class='xr-attrs'></dl></div><div class='xr-var-data'><pre>array([[    0.        ,     0.        ,     0.        , ...,\n",
       "            0.        , -7065.50729217,     0.        ],\n",
       "       [    0.        ,     0.        ,     0.        , ...,\n",
       "        -3358.78694195, -3734.77088159,     0.        ],\n",
       "       [    0.        ,     0.        ,     0.        , ...,\n",
       "        -5737.80932392, -1369.1330103 ,     0.        ],\n",
       "       ...,\n",
       "       [    0.        ,     0.        ,     0.        , ...,\n",
       "            0.        ,     0.        ,     0.        ],\n",
       "       [    0.        ,     0.        ,     0.        , ...,\n",
       "            0.        ,     0.        ,     0.        ],\n",
       "       [    0.        ,     0.        ,     0.        , ...,\n",
       "            0.        ,     0.        ,     0.        ]])</pre></div></li><li class='xr-var-item'><div class='xr-var-name'><span>omega_mix_slt</span></div><div class='xr-var-dims'>(time, sigma2_bin)</div><div class='xr-var-dtype'>float64</div><div class='xr-var-preview xr-preview'>0.0 0.0 0.0 0.0 ... 0.0 0.0 0.0 0.0</div><input id='attrs-c405fdf4-d063-41f2-ab83-f3b7e8f11e7f' class='xr-var-attrs-in' type='checkbox' disabled><label for='attrs-c405fdf4-d063-41f2-ab83-f3b7e8f11e7f' title='Show/Hide attributes'><svg class='icon xr-icon-file-text2'><use xlink:href='#icon-file-text2'></use></svg></label><input id='data-17c156d4-dab0-41a4-9ccc-86ed98152584' class='xr-var-data-in' type='checkbox'><label for='data-17c156d4-dab0-41a4-9ccc-86ed98152584' title='Show/Hide data repr'><svg class='icon xr-icon-database'><use xlink:href='#icon-database'></use></svg></label><div class='xr-var-attrs'><dl class='xr-attrs'></dl></div><div class='xr-var-data'><pre>array([[    0.        ,     0.        ,     0.        , ...,\n",
       "            0.        , -5158.55448275,     0.        ],\n",
       "       [    0.        ,     0.        ,     0.        , ...,\n",
       "        -2307.83256634, -2838.78045095,     0.        ],\n",
       "       [    0.        ,     0.        ,     0.        , ...,\n",
       "        -4081.81309035, -1043.33998334,     0.        ],\n",
       "       ...,\n",
       "       [    0.        ,     0.        ,     0.        , ...,\n",
       "            0.        ,     0.        ,     0.        ],\n",
       "       [    0.        ,     0.        ,     0.        , ...,\n",
       "            0.        ,     0.        ,     0.        ],\n",
       "       [    0.        ,     0.        ,     0.        , ...,\n",
       "            0.        ,     0.        ,     0.        ]])</pre></div></li><li class='xr-var-item'><div class='xr-var-name'><span>omega_mix_th</span></div><div class='xr-var-dims'>(time, sigma2_bin)</div><div class='xr-var-dtype'>float64</div><div class='xr-var-preview xr-preview'>0.0 0.0 0.0 0.0 ... 0.0 0.0 0.0 0.0</div><input id='attrs-e7d85007-3d32-43e5-b8c4-ac126e6bc176' class='xr-var-attrs-in' type='checkbox' disabled><label for='attrs-e7d85007-3d32-43e5-b8c4-ac126e6bc176' title='Show/Hide attributes'><svg class='icon xr-icon-file-text2'><use xlink:href='#icon-file-text2'></use></svg></label><input id='data-81492bfd-9b90-4daf-ac0a-e15703748ee6' class='xr-var-data-in' type='checkbox'><label for='data-81492bfd-9b90-4daf-ac0a-e15703748ee6' title='Show/Hide data repr'><svg class='icon xr-icon-database'><use xlink:href='#icon-database'></use></svg></label><div class='xr-var-attrs'><dl class='xr-attrs'></dl></div><div class='xr-var-data'><pre>array([[    0.        ,     0.        ,     0.        , ...,\n",
       "            0.        , -1906.95280941,     0.        ],\n",
       "       [    0.        ,     0.        ,     0.        , ...,\n",
       "        -1050.95437562,  -895.99043064,     0.        ],\n",
       "       [    0.        ,     0.        ,     0.        , ...,\n",
       "        -1655.99623357,  -325.79302696,     0.        ],\n",
       "       ...,\n",
       "       [    0.        ,     0.        ,     0.        , ...,\n",
       "            0.        ,     0.        ,     0.        ],\n",
       "       [    0.        ,     0.        ,     0.        , ...,\n",
       "            0.        ,     0.        ,     0.        ],\n",
       "       [    0.        ,     0.        ,     0.        , ...,\n",
       "            0.        ,     0.        ,     0.        ]])</pre></div></li><li class='xr-var-item'><div class='xr-var-name'><span>omega_surf</span></div><div class='xr-var-dims'>(time, sigma2_bin)</div><div class='xr-var-dtype'>float64</div><div class='xr-var-preview xr-preview'>0.0 0.0 0.0 0.0 ... 0.0 0.0 0.0 0.0</div><input id='attrs-020eedaf-c6fe-4c0f-914e-ba9ddb1b04bf' class='xr-var-attrs-in' type='checkbox' disabled><label for='attrs-020eedaf-c6fe-4c0f-914e-ba9ddb1b04bf' title='Show/Hide attributes'><svg class='icon xr-icon-file-text2'><use xlink:href='#icon-file-text2'></use></svg></label><input id='data-fba96d13-f6a2-497f-96e3-c4b0fb3c8b65' class='xr-var-data-in' type='checkbox'><label for='data-fba96d13-f6a2-497f-96e3-c4b0fb3c8b65' title='Show/Hide data repr'><svg class='icon xr-icon-database'><use xlink:href='#icon-database'></use></svg></label><div class='xr-var-attrs'><dl class='xr-attrs'></dl></div><div class='xr-var-data'><pre>array([[0., 0., 0., ..., 0., 0., 0.],\n",
       "       [0., 0., 0., ..., 0., 0., 0.],\n",
       "       [0., 0., 0., ..., 0., 0., 0.],\n",
       "       ...,\n",
       "       [0., 0., 0., ..., 0., 0., 0.],\n",
       "       [0., 0., 0., ..., 0., 0., 0.],\n",
       "       [0., 0., 0., ..., 0., 0., 0.]])</pre></div></li><li class='xr-var-item'><div class='xr-var-name'><span>omega_surf_slt</span></div><div class='xr-var-dims'>(time, sigma2_bin)</div><div class='xr-var-dtype'>float64</div><div class='xr-var-preview xr-preview'>0.0 0.0 0.0 0.0 ... 0.0 0.0 0.0 0.0</div><input id='attrs-6762f0da-8cc6-40e7-b17b-b0b0b71f099e' class='xr-var-attrs-in' type='checkbox' disabled><label for='attrs-6762f0da-8cc6-40e7-b17b-b0b0b71f099e' title='Show/Hide attributes'><svg class='icon xr-icon-file-text2'><use xlink:href='#icon-file-text2'></use></svg></label><input id='data-7b0556b2-db01-4962-ae34-8455c7f06ce7' class='xr-var-data-in' type='checkbox'><label for='data-7b0556b2-db01-4962-ae34-8455c7f06ce7' title='Show/Hide data repr'><svg class='icon xr-icon-database'><use xlink:href='#icon-database'></use></svg></label><div class='xr-var-attrs'><dl class='xr-attrs'></dl></div><div class='xr-var-data'><pre>array([[0., 0., 0., ..., 0., 0., 0.],\n",
       "       [0., 0., 0., ..., 0., 0., 0.],\n",
       "       [0., 0., 0., ..., 0., 0., 0.],\n",
       "       ...,\n",
       "       [0., 0., 0., ..., 0., 0., 0.],\n",
       "       [0., 0., 0., ..., 0., 0., 0.],\n",
       "       [0., 0., 0., ..., 0., 0., 0.]])</pre></div></li><li class='xr-var-item'><div class='xr-var-name'><span>omega_surf_th</span></div><div class='xr-var-dims'>(time, sigma2_bin)</div><div class='xr-var-dtype'>float64</div><div class='xr-var-preview xr-preview'>0.0 0.0 0.0 0.0 ... 0.0 0.0 0.0 0.0</div><input id='attrs-192c131e-ce57-4b10-9d2f-e863ef34fa00' class='xr-var-attrs-in' type='checkbox' disabled><label for='attrs-192c131e-ce57-4b10-9d2f-e863ef34fa00' title='Show/Hide attributes'><svg class='icon xr-icon-file-text2'><use xlink:href='#icon-file-text2'></use></svg></label><input id='data-97c895c7-5ede-46e9-a028-f504e216750c' class='xr-var-data-in' type='checkbox'><label for='data-97c895c7-5ede-46e9-a028-f504e216750c' title='Show/Hide data repr'><svg class='icon xr-icon-database'><use xlink:href='#icon-database'></use></svg></label><div class='xr-var-attrs'><dl class='xr-attrs'></dl></div><div class='xr-var-data'><pre>array([[0., 0., 0., ..., 0., 0., 0.],\n",
       "       [0., 0., 0., ..., 0., 0., 0.],\n",
       "       [0., 0., 0., ..., 0., 0., 0.],\n",
       "       ...,\n",
       "       [0., 0., 0., ..., 0., 0., 0.],\n",
       "       [0., 0., 0., ..., 0., 0., 0.],\n",
       "       [0., 0., 0., ..., 0., 0., 0.]])</pre></div></li><li class='xr-var-item'><div class='xr-var-name'><span>omega_total</span></div><div class='xr-var-dims'>(time, sigma2_bin)</div><div class='xr-var-dtype'>float64</div><div class='xr-var-preview xr-preview'>nan nan nan nan ... nan nan nan nan</div><input id='attrs-a3b2b9d6-fc82-40d6-bcc4-1055faf3b89b' class='xr-var-attrs-in' type='checkbox' disabled><label for='attrs-a3b2b9d6-fc82-40d6-bcc4-1055faf3b89b' title='Show/Hide attributes'><svg class='icon xr-icon-file-text2'><use xlink:href='#icon-file-text2'></use></svg></label><input id='data-09502889-228f-4588-b4c9-d1a3d737057e' class='xr-var-data-in' type='checkbox'><label for='data-09502889-228f-4588-b4c9-d1a3d737057e' title='Show/Hide data repr'><svg class='icon xr-icon-database'><use xlink:href='#icon-database'></use></svg></label><div class='xr-var-attrs'><dl class='xr-attrs'></dl></div><div class='xr-var-data'><pre>array([[           nan,            nan,            nan, ...,\n",
       "                   nan,            nan,            nan],\n",
       "       [    0.        ,     0.        ,     0.        , ...,\n",
       "        -6845.07302107, -2648.78741706,     0.        ],\n",
       "       [    0.        ,     0.        ,     0.        , ...,\n",
       "        -9264.73550977,   -55.58460345,     0.        ],\n",
       "       ...,\n",
       "       [    0.        ,     0.        ,     0.        , ...,\n",
       "            0.        ,     0.        ,     0.        ],\n",
       "       [    0.        ,     0.        ,     0.        , ...,\n",
       "            0.        ,     0.        ,     0.        ],\n",
       "       [           nan,            nan,            nan, ...,\n",
       "                   nan,            nan,            nan]])</pre></div></li><li class='xr-var-item'><div class='xr-var-name'><span>omega_total_slt</span></div><div class='xr-var-dims'>(time, sigma2_bin)</div><div class='xr-var-dtype'>float64</div><div class='xr-var-preview xr-preview'>nan nan nan nan ... nan nan nan nan</div><input id='attrs-dcafa806-f3f2-4ba7-b93b-7e31134d6c15' class='xr-var-attrs-in' type='checkbox' disabled><label for='attrs-dcafa806-f3f2-4ba7-b93b-7e31134d6c15' title='Show/Hide attributes'><svg class='icon xr-icon-file-text2'><use xlink:href='#icon-file-text2'></use></svg></label><input id='data-651f8efa-b5d7-40a1-ac33-72abd46f0707' class='xr-var-data-in' type='checkbox'><label for='data-651f8efa-b5d7-40a1-ac33-72abd46f0707' title='Show/Hide data repr'><svg class='icon xr-icon-database'><use xlink:href='#icon-database'></use></svg></label><div class='xr-var-attrs'><dl class='xr-attrs'></dl></div><div class='xr-var-data'><pre>array([[           nan,            nan,            nan, ...,\n",
       "                   nan,            nan,            nan],\n",
       "       [    0.        ,     0.        ,     0.        , ...,\n",
       "        -4584.58638819, -1726.08399702,     0.        ],\n",
       "       [    0.        ,     0.        ,     0.        , ...,\n",
       "        -6562.43466232,   -67.89743456,     0.        ],\n",
       "       ...,\n",
       "       [    0.        ,     0.        ,     0.        , ...,\n",
       "            0.        ,     0.        ,     0.        ],\n",
       "       [    0.        ,     0.        ,     0.        , ...,\n",
       "            0.        ,     0.        ,     0.        ],\n",
       "       [           nan,            nan,            nan, ...,\n",
       "                   nan,            nan,            nan]])</pre></div></li><li class='xr-var-item'><div class='xr-var-name'><span>omega_total_th</span></div><div class='xr-var-dims'>(time, sigma2_bin)</div><div class='xr-var-dtype'>float64</div><div class='xr-var-preview xr-preview'>nan nan nan nan ... nan nan nan nan</div><input id='attrs-e5f739f4-a8e6-44ab-a0ee-c2b642e54f83' class='xr-var-attrs-in' type='checkbox' disabled><label for='attrs-e5f739f4-a8e6-44ab-a0ee-c2b642e54f83' title='Show/Hide attributes'><svg class='icon xr-icon-file-text2'><use xlink:href='#icon-file-text2'></use></svg></label><input id='data-62dee471-7055-46bd-9d19-c6088b4fb4a9' class='xr-var-data-in' type='checkbox'><label for='data-62dee471-7055-46bd-9d19-c6088b4fb4a9' title='Show/Hide data repr'><svg class='icon xr-icon-database'><use xlink:href='#icon-database'></use></svg></label><div class='xr-var-attrs'><dl class='xr-attrs'></dl></div><div class='xr-var-data'><pre>array([[           nan,            nan,            nan, ...,\n",
       "                   nan,            nan,            nan],\n",
       "       [    0.        ,     0.        ,     0.        , ...,\n",
       "        -2260.48663287,  -922.70342005,     0.        ],\n",
       "       [    0.        ,     0.        ,     0.        , ...,\n",
       "        -2702.30084744,    12.31283111,     0.        ],\n",
       "       ...,\n",
       "       [    0.        ,     0.        ,     0.        , ...,\n",
       "            0.        ,     0.        ,     0.        ],\n",
       "       [    0.        ,     0.        ,     0.        , ...,\n",
       "            0.        ,     0.        ,     0.        ],\n",
       "       [           nan,            nan,            nan, ...,\n",
       "                   nan,            nan,            nan]])</pre></div></li><li class='xr-var-item'><div class='xr-var-name'><span>omega_trans_rate</span></div><div class='xr-var-dims'>(time, sigma2_bin)</div><div class='xr-var-dtype'>float64</div><div class='xr-var-preview xr-preview'>nan nan nan nan ... nan nan nan nan</div><input id='attrs-c1ac83a0-69b7-40bb-b4a0-3cba61a48cb0' class='xr-var-attrs-in' type='checkbox' disabled><label for='attrs-c1ac83a0-69b7-40bb-b4a0-3cba61a48cb0' title='Show/Hide attributes'><svg class='icon xr-icon-file-text2'><use xlink:href='#icon-file-text2'></use></svg></label><input id='data-218327f4-17d4-4e1c-ab68-cc73f1599f04' class='xr-var-data-in' type='checkbox'><label for='data-218327f4-17d4-4e1c-ab68-cc73f1599f04' title='Show/Hide data repr'><svg class='icon xr-icon-database'><use xlink:href='#icon-database'></use></svg></label><div class='xr-var-attrs'><dl class='xr-attrs'></dl></div><div class='xr-var-data'><pre>array([[           nan,            nan,            nan, ...,\n",
       "                   nan,            nan,            nan],\n",
       "       [    0.        ,     0.        ,     0.        , ...,\n",
       "        -3358.78694195, -3734.77088159,     0.        ],\n",
       "       [    0.        ,     0.        ,     0.        , ...,\n",
       "        -5737.80932392, -1369.1330103 ,     0.        ],\n",
       "       ...,\n",
       "       [    0.        ,     0.        ,     0.        , ...,\n",
       "            0.        ,     0.        ,     0.        ],\n",
       "       [    0.        ,     0.        ,     0.        , ...,\n",
       "            0.        ,     0.        ,     0.        ],\n",
       "       [           nan,            nan,            nan, ...,\n",
       "                   nan,            nan,            nan]])</pre></div></li><li class='xr-var-item'><div class='xr-var-name'><span>omega_trans_rate_slt</span></div><div class='xr-var-dims'>(time, sigma2_bin)</div><div class='xr-var-dtype'>float64</div><div class='xr-var-preview xr-preview'>nan nan nan nan ... nan nan nan nan</div><input id='attrs-1639d93e-e729-4faa-8956-f5a2b4c78313' class='xr-var-attrs-in' type='checkbox' disabled><label for='attrs-1639d93e-e729-4faa-8956-f5a2b4c78313' title='Show/Hide attributes'><svg class='icon xr-icon-file-text2'><use xlink:href='#icon-file-text2'></use></svg></label><input id='data-b9767a1e-e316-4b47-b13e-3fbb6ec87d64' class='xr-var-data-in' type='checkbox'><label for='data-b9767a1e-e316-4b47-b13e-3fbb6ec87d64' title='Show/Hide data repr'><svg class='icon xr-icon-database'><use xlink:href='#icon-database'></use></svg></label><div class='xr-var-attrs'><dl class='xr-attrs'></dl></div><div class='xr-var-data'><pre>array([[           nan,            nan,            nan, ...,\n",
       "                   nan,            nan,            nan],\n",
       "       [    0.        ,     0.        ,     0.        , ...,\n",
       "        -2307.83256634, -2838.78045095,     0.        ],\n",
       "       [    0.        ,     0.        ,     0.        , ...,\n",
       "        -4081.81309035, -1043.33998334,     0.        ],\n",
       "       ...,\n",
       "       [    0.        ,     0.        ,     0.        , ...,\n",
       "            0.        ,     0.        ,     0.        ],\n",
       "       [    0.        ,     0.        ,     0.        , ...,\n",
       "            0.        ,     0.        ,     0.        ],\n",
       "       [           nan,            nan,            nan, ...,\n",
       "                   nan,            nan,            nan]])</pre></div></li><li class='xr-var-item'><div class='xr-var-name'><span>omega_trans_rate_th</span></div><div class='xr-var-dims'>(time, sigma2_bin)</div><div class='xr-var-dtype'>float64</div><div class='xr-var-preview xr-preview'>nan nan nan nan ... nan nan nan nan</div><input id='attrs-f49ef284-fada-4dd9-b675-8dc6640dadc9' class='xr-var-attrs-in' type='checkbox' disabled><label for='attrs-f49ef284-fada-4dd9-b675-8dc6640dadc9' title='Show/Hide attributes'><svg class='icon xr-icon-file-text2'><use xlink:href='#icon-file-text2'></use></svg></label><input id='data-2523bb3e-a30f-402c-9deb-b86461a74218' class='xr-var-data-in' type='checkbox'><label for='data-2523bb3e-a30f-402c-9deb-b86461a74218' title='Show/Hide data repr'><svg class='icon xr-icon-database'><use xlink:href='#icon-database'></use></svg></label><div class='xr-var-attrs'><dl class='xr-attrs'></dl></div><div class='xr-var-data'><pre>array([[           nan,            nan,            nan, ...,\n",
       "                   nan,            nan,            nan],\n",
       "       [    0.        ,     0.        ,     0.        , ...,\n",
       "        -1050.95437562,  -895.99043064,     0.        ],\n",
       "       [    0.        ,     0.        ,     0.        , ...,\n",
       "        -1655.99623357,  -325.79302696,     0.        ],\n",
       "       ...,\n",
       "       [    0.        ,     0.        ,     0.        , ...,\n",
       "            0.        ,     0.        ,     0.        ],\n",
       "       [    0.        ,     0.        ,     0.        , ...,\n",
       "            0.        ,     0.        ,     0.        ],\n",
       "       [           nan,            nan,            nan, ...,\n",
       "                   nan,            nan,            nan]])</pre></div></li><li class='xr-var-item'><div class='xr-var-name'><span>psi_adv</span></div><div class='xr-var-dims'>(time, sigma2_bin)</div><div class='xr-var-dtype'>float64</div><div class='xr-var-preview xr-preview'>nan nan nan nan ... nan nan nan nan</div><input id='attrs-8ae80142-bcb0-4b36-9999-9fb18bd251c3' class='xr-var-attrs-in' type='checkbox' disabled><label for='attrs-8ae80142-bcb0-4b36-9999-9fb18bd251c3' title='Show/Hide attributes'><svg class='icon xr-icon-file-text2'><use xlink:href='#icon-file-text2'></use></svg></label><input id='data-82ddea9d-4522-4b2d-830f-2aea98f296ba' class='xr-var-data-in' type='checkbox'><label for='data-82ddea9d-4522-4b2d-830f-2aea98f296ba' title='Show/Hide data repr'><svg class='icon xr-icon-database'><use xlink:href='#icon-database'></use></svg></label><div class='xr-var-attrs'><dl class='xr-attrs'></dl></div><div class='xr-var-data'><pre>array([[           nan,            nan,            nan, ...,\n",
       "                   nan,            nan,            nan],\n",
       "       [    0.        ,     0.        ,     0.        , ...,\n",
       "        -2995.81259402,  1576.65431348,     0.        ],\n",
       "       [    0.        ,     0.        ,     0.        , ...,\n",
       "        -2704.96901716,  1475.1085075 ,     0.        ],\n",
       "       ...,\n",
       "       [    0.        ,     0.        ,     0.        , ...,\n",
       "            0.        ,     0.        ,     0.        ],\n",
       "       [    0.        ,     0.        ,     0.        , ...,\n",
       "            0.        ,     0.        ,     0.        ],\n",
       "       [           nan,            nan,            nan, ...,\n",
       "                   nan,            nan,            nan]])</pre></div></li><li class='xr-var-item'><div class='xr-var-name'><span>psi_vel</span></div><div class='xr-var-dims'>(time, sigma2_bin)</div><div class='xr-var-dtype'>float64</div><div class='xr-var-preview xr-preview'>nan nan nan nan ... nan nan nan nan</div><input id='attrs-901653e4-44f7-4183-a5fc-2285664d08fe' class='xr-var-attrs-in' type='checkbox' disabled><label for='attrs-901653e4-44f7-4183-a5fc-2285664d08fe' title='Show/Hide attributes'><svg class='icon xr-icon-file-text2'><use xlink:href='#icon-file-text2'></use></svg></label><input id='data-fdc7665f-287e-41e8-83c7-e045d1558712' class='xr-var-data-in' type='checkbox'><label for='data-fdc7665f-287e-41e8-83c7-e045d1558712' title='Show/Hide data repr'><svg class='icon xr-icon-database'><use xlink:href='#icon-database'></use></svg></label><div class='xr-var-attrs'><dl class='xr-attrs'></dl></div><div class='xr-var-data'><pre>array([[            nan,             nan,             nan, ...,\n",
       "                    nan,             nan,             nan],\n",
       "       [-54672.66795915, -54672.66795915, -54672.66795915, ...,\n",
       "            -0.        ,     -0.        ,     -0.        ],\n",
       "       [-56382.30092742, -56382.30092742, -56382.30092742, ...,\n",
       "            -0.        ,     -0.        ,     -0.        ],\n",
       "       ...,\n",
       "       [ 13240.14867699,  13240.14867699,  13240.14867699, ...,\n",
       "            -0.        ,     -0.        ,     -0.        ],\n",
       "       [  1205.4945927 ,   1205.4945927 ,   1205.4945927 , ...,\n",
       "            -0.        ,     -0.        ,     -0.        ],\n",
       "       [            nan,             nan,             nan, ...,\n",
       "                    nan,             nan,             nan]])</pre></div></li></ul></div></li><li class='xr-section-item'><input id='section-17b37df2-9416-40e7-a8cb-46f0de072120' class='xr-section-summary-in' type='checkbox' disabled ><label for='section-17b37df2-9416-40e7-a8cb-46f0de072120' class='xr-section-summary'  title='Expand/collapse section'>Attributes: <span>(0)</span></label><div class='xr-section-inline-details'></div><div class='xr-section-details'><dl class='xr-attrs'></dl></div></li></ul></div></div>"
      ],
      "text/plain": [
       "<xarray.Dataset>\n",
       "Dimensions:               (time: 288, sigma2_bin: 999)\n",
       "Coordinates:\n",
       "  * sigma2_bin            (sigma2_bin) float64 1.028e+03 1.028e+03 ... 1.037e+03\n",
       "  * time                  (time) datetime64[ns] 1992-01-15 ... 2015-12-14\n",
       "    time_snp              (time) datetime64[ns] NaT 1992-03-01 ... NaT\n",
       "Data variables: (12/17)\n",
       "    R1                    (time, sigma2_bin) float64 nan nan nan ... nan nan nan\n",
       "    R2                    (time, sigma2_bin) float64 6.155e+04 6.155e+04 ... 0.0\n",
       "    dVdt                  (time, sigma2_bin) float64 nan nan nan ... nan nan nan\n",
       "    omega_mix             (time, sigma2_bin) float64 0.0 0.0 0.0 ... 0.0 0.0 0.0\n",
       "    omega_mix_slt         (time, sigma2_bin) float64 0.0 0.0 0.0 ... 0.0 0.0 0.0\n",
       "    omega_mix_th          (time, sigma2_bin) float64 0.0 0.0 0.0 ... 0.0 0.0 0.0\n",
       "    ...                    ...\n",
       "    omega_total_th        (time, sigma2_bin) float64 nan nan nan ... nan nan nan\n",
       "    omega_trans_rate      (time, sigma2_bin) float64 nan nan nan ... nan nan nan\n",
       "    omega_trans_rate_slt  (time, sigma2_bin) float64 nan nan nan ... nan nan nan\n",
       "    omega_trans_rate_th   (time, sigma2_bin) float64 nan nan nan ... nan nan nan\n",
       "    psi_adv               (time, sigma2_bin) float64 nan nan nan ... nan nan nan\n",
       "    psi_vel               (time, sigma2_bin) float64 nan nan nan ... nan nan nan"
      ]
     },
     "execution_count": 5,
     "metadata": {},
     "output_type": "execute_result"
    }
   ],
   "source": [
    "wmt_budget_terms = xr.open_zarr(gcfs_w_token.get_mapper('pangeo-tmp/stb2145/ECCO/datasets/wmt_budget_terms.zarr'))\n",
    "wmt_budget_terms.load()"
   ]
  },
  {
   "cell_type": "code",
   "execution_count": 6,
   "metadata": {},
   "outputs": [
    {
     "data": {
      "image/png": "[encoded data removed]",
      "text/plain": [
       "<Figure size 864x360 with 1 Axes>"
      ]
     },
     "metadata": {
      "needs_background": "light"
     },
     "output_type": "display_data"
    }
   ],
   "source": [
    "(wmt_budget_terms.dVdt/1e6).mean(dim='time').plot(label='dV/dt', color='k', figsize=(12,5))\n",
    "(wmt_budget_terms.omega_trans_rate/1e6).mean(dim='time').plot(label=r'$\\Omega$', color='green')\n",
    "(wmt_budget_terms.omega_trans_rate_th/1e6).mean(dim='time').plot(label=r'$\\Omega_{\\theta}$', color='steelblue', linestyle='dashed')\n",
    "(wmt_budget_terms.omega_trans_rate_slt/1e6).mean(dim='time').plot(label=r'$\\Omega_S$', color='goldenrod', linestyle='dashed')\n",
    "(wmt_budget_terms.psi_vel/1e6).mean(dim='time').plot(label=r'$\\Psi$', color='brown')\n",
    "(wmt_budget_terms.R2/1e6).mean(dim='time').plot(label='R2', color='salmon')\n",
    "(wmt_budget_terms.R1/1e6).mean(dim='time').plot(label='R1', color='lightslategray')\n",
    "#(R3[1:-1]/1e6).mean(dim='time').plot(label=r'$R3$', color='mediumspringgreen')\n",
    "plt.legend()\n",
    "plt.grid()\n",
    "#plt.xlim(1037, 1037.255)\n",
    "plt.xlim(1036.6, 1037.3)\n",
    "plt.ylim(-8, 12)\n",
    "plt.tight_layout()\n",
    "plt.xlabel(r'$\\sigma$ [kg m$^{-3}$]', fontsize=12)\n",
    "plt.ylabel(r'Transport [Sv]', fontsize=12)\n",
    "plt.title('Time mean volume budget - ECCO', fontsize=18);"
   ]
  },
  {
   "cell_type": "markdown",
   "metadata": {},
   "source": [
    "![Water masses time mean WMT budget](ECCO-WMT.jpg)"
   ]
  },
  {
   "cell_type": "code",
   "execution_count": 7,
   "metadata": {},
   "outputs": [
    {
     "data": {
      "image/png": "[encoded data removed]",
      "text/plain": [
       "<Figure size 864x360 with 1 Axes>"
      ]
     },
     "metadata": {
      "needs_background": "light"
     },
     "output_type": "display_data"
    }
   ],
   "source": [
    "(wmt_budget_terms.dVdt/1e6).mean(dim='time').plot(label='dV/dt', color='k', figsize=(12,5))\n",
    "(wmt_budget_terms.omega_trans_rate_th/1e6).mean(dim='time').plot(label=r'$\\Omega_{\\theta}$', color='steelblue')\n",
    "(wmt_budget_terms.omega_trans_rate_slt/1e6).mean(dim='time').plot(label=r'$\\Omega_S$', color='goldenrod')\n",
    "(wmt_budget_terms.psi_vel/1e6).mean(dim='time').plot(label=r'$\\Psi$', color='brown')\n",
    "(wmt_budget_terms.R2/1e6).mean(dim='time').plot(label='R2', color='salmon')\n",
    "(wmt_budget_terms.R1/1e6).mean(dim='time').plot(label='R1', color='lightslategray')\n",
    "#(R3[1:-1]/1e6).mean(dim='time').plot(label=r'$R3$', color='mediumspringgreen')\n",
    "plt.legend()\n",
    "plt.grid()\n",
    "#plt.ylim(-12, 12)\n",
    "#plt.xlim(1036.5, 1037.3)\n",
    "plt.xlim(1037, 1037.25)\n",
    "plt.tight_layout()\n",
    "plt.xlabel(r'$\\sigma$ [kg m$^{-3}$]', fontsize=12)\n",
    "plt.ylabel(r'Transport [Sv]', fontsize=12)\n",
    "plt.title(\"Time mean volume budget\\n\" r'$\\theta$ and S components of $\\Omega$', fontsize=18);"
   ]
  },
  {
   "cell_type": "code",
   "execution_count": 8,
   "metadata": {},
   "outputs": [
    {
     "data": {
      "image/png": "[encoded data removed]",
      "text/plain": [
       "<Figure size 864x360 with 1 Axes>"
      ]
     },
     "metadata": {
      "needs_background": "light"
     },
     "output_type": "display_data"
    }
   ],
   "source": [
    "(wmt_budget_terms.omega_trans_rate/1e6).mean(dim='time').plot(figsize=(12,5), label='total transformation', color='k')#, marker='.')\n",
    "(wmt_budget_terms.omega_mix/1e6).mean(dim='time').plot(label='mixing', color='purple')\n",
    "(wmt_budget_terms.omega_surf/1e6).mean(dim='time').plot(label='surface', color='chocolate')\n",
    "plt.legend()\n",
    "plt.grid()\n",
    "plt.xlim(1035.5, 1037.5)\n",
    "#plt.ylim(-6, 6)\n",
    "plt.xlabel(r'$\\sigma$ [kg m$^{-3}$]', fontsize=12)\n",
    "plt.ylabel(r'Transport [Sv]', fontsize=12)\n",
    "plt.title(r'Mixing and surface components of $\\Omega$', fontsize=18);"
   ]
  },
  {
   "cell_type": "code",
   "execution_count": 9,
   "metadata": {},
   "outputs": [
    {
     "data": {
      "image/png": "[encoded data removed]",
      "text/plain": [
       "<Figure size 864x360 with 1 Axes>"
      ]
     },
     "metadata": {
      "needs_background": "light"
     },
     "output_type": "display_data"
    }
   ],
   "source": [
    "(wmt_budget_terms.omega_mix_th/1e6).mean(dim='time').plot(figsize=(12,5), label='theta mixing', color='darkgreen')\n",
    "(wmt_budget_terms.omega_mix_slt/1e6).mean(dim='time').plot(label='salt mixing', color='sienna')\n",
    "(wmt_budget_terms.omega_surf_th/1e6).mean(dim='time').plot(label='theta surf', color='mediumseagreen')\n",
    "(wmt_budget_terms.omega_surf_slt/1e6).mean(dim='time').plot(label='salt surf', color='sandybrown')\n",
    "plt.legend()\n",
    "plt.grid()\n",
    "plt.xlim(1035.5, 1037.5)\n",
    "#plt.ylim(-10, 10)\n",
    "plt.xlabel(r'$\\sigma$ [kg m$^{-3}$]', fontsize=12)\n",
    "plt.ylabel(r'Transport [Sv]', fontsize=12)\n",
    "plt.title(r'$\\theta$ and S components of $\\Omega$', fontsize=18);"
   ]
  },
  {
   "cell_type": "code",
   "execution_count": 10,
   "metadata": {},
   "outputs": [],
   "source": [
    "def anom(da):\n",
    "    clim = da.groupby('time.month').mean(dim='time')\n",
    "    anom = da.groupby('time.month') - clim\n",
    "    #anom_chunk = anom.chunk({'time':12})\n",
    "    anom_rolled = anom.rolling(time=12).mean(dim='time') #yearly rolling mean to remove seasonal cycle\n",
    "    return anom_rolled"
   ]
  },
  {
   "cell_type": "code",
   "execution_count": 11,
   "metadata": {},
   "outputs": [],
   "source": [
    "anom_ds = xr.merge([wmt_budget_terms.dVdt.rename('dVdt'), wmt_budget_terms.R1.rename('R1'), \n",
    "                    wmt_budget_terms.psi_vel.rename('psi_vel'), wmt_budget_terms.R2.rename('R2'), \n",
    "                    wmt_budget_terms.omega_trans_rate.rename('omega_trans_rate'), \n",
    "                    wmt_budget_terms.omega_surf_slt.rename('omega_surf_slt'),\n",
    "                    wmt_budget_terms.omega_surf_th.rename('omega_surf_th'), \n",
    "                    wmt_budget_terms.omega_mix.rename('omega_mix')])\n"
   ]
  },
  {
   "cell_type": "code",
   "execution_count": 12,
   "metadata": {},
   "outputs": [],
   "source": [
    "def clim(da):\n",
    "    clim = da.groupby('time.month').mean(dim='time')\n",
    "    #anom_rolled = anom.rolling(time=12).mean(dim='time')\n",
    "    return clim"
   ]
  },
  {
   "cell_type": "code",
   "execution_count": 13,
   "metadata": {},
   "outputs": [],
   "source": [
    "clim_ds = anom_ds"
   ]
  },
  {
   "cell_type": "code",
   "execution_count": 14,
   "metadata": {},
   "outputs": [
    {
     "data": {
      "image/png": "[encoded data removed]",
      "text/plain": [
       "<Figure size 1152x504 with 8 Axes>"
      ]
     },
     "metadata": {
      "needs_background": "light"
     },
     "output_type": "display_data"
    }
   ],
   "source": [
    "fig, ax = plt.subplots(2, 3, figsize=(16, 7), sharey=True, gridspec_kw={'width_ratios': [2.4,2.4,3]})\n",
    "\n",
    "levels = np.arange(-20, 20) + 0.5\n",
    "\n",
    "dVdt_clim = clim(clim_ds.dVdt) / 1e6\n",
    "c = ax[0,0].contourf(dVdt_clim.month, \n",
    "                   dVdt_clim.sigma2_bin, \n",
    "                   dVdt_clim.T, cmap='seismic', levels=levels, extend='both')\n",
    "#plt.colorbar(c, shrink=0.8, label=r'Sverdrup [$\\frac{m^3}{s}]$', ax=ax[0,0])\n",
    "ax[0,0].set_ylabel(r'$\\sigma$ [kg m$^{-3}$]', fontsize=12)\n",
    "#ax[0,0].set_xlabel('Time', fontsize=14)\n",
    "ax[0,0].set_title(r'$\\frac{\\partial V}{\\partial t}$', fontsize=20)\n",
    "ax[0,0].set_ylim(1037.3, 1035.5)\n",
    "#ax[0,0].set_xlim(xmin='1993')\n",
    "ax[0,0].grid()\n",
    "\n",
    "psi_vel_clim = clim(clim_ds.psi_vel) / 1e6\n",
    "c_psi = ax[0,1].contourf(psi_vel_clim.month, psi_vel_clim.sigma2_bin, psi_vel_clim.T,\n",
    "                         cmap='seismic', levels=levels, extend='both')\n",
    "#plt.colorbar(c_psi, shrink=0.8, label=r'Sverdrup [$\\frac{m^3}{s}$]', ax=ax[0,1])\n",
    "#ax[1,1].set_ylabel(r'$\\sigma [\\frac{kg}{m^3}]$', fontsize=14)\n",
    "#ax[1,1].set_xlabel('Time', fontsize=14)\n",
    "ax[0,1].set_title(r'$\\Psi_{vel}$', fontsize=20)\n",
    "ax[0,1].set_ylim(1037.3, 1035.5)\n",
    "#ax[0,1].set_xlim(xmin='1993')\n",
    "ax[0,1].grid()\n",
    "\n",
    "omega_clim = clim(clim_ds.omega_trans_rate) /1e6\n",
    "c_omega = ax[0,2].contourf(omega_clim.month, omega_clim.sigma2_bin, omega_clim.T,\n",
    "                           cmap='seismic', levels=levels, extend='both')\n",
    "plt.colorbar(c_omega, shrink=0.8, label=r'Sverdrup [m$^3$ s$^{-1}$]', ax=ax[0,2])\n",
    "#ax[0,1].set_ylabel(r'$\\sigma [\\frac{kg}{m^3}]$', fontsize=14)\n",
    "#ax[0,1].set_xlabel('Time', fontsize=14)\n",
    "ax[0,2].set_title(r'$\\Omega$', fontsize=20)\n",
    "ax[0,2].set_ylim(1037.3, 1035.5)\n",
    "#ax[0,2].set_xlim(xmin='1993')\n",
    "ax[0,2].grid()\n",
    "\n",
    "omega_surf_slt_clim = clim(clim_ds.omega_surf_slt)/1e6\n",
    "c_surf_slt = ax[1,0].contourf(omega_surf_slt_clim.month, \n",
    "                                omega_surf_slt_clim.sigma2_bin, \n",
    "                                omega_surf_slt_clim.T, cmap='seismic', levels=levels, extend='both')\n",
    "#plt.colorbar(c_surf_slt, shrink=0.8, label=r'Sverdrup [$\\frac{m^3}{s}$]', ax=ax[1,0])\n",
    "ax[1,0].set_ylabel(r'$\\sigma$ [kg m$^{-3}$]', fontsize=12)\n",
    "ax[1,0].set_xlabel('Months', fontsize=13)\n",
    "ax[1,0].set_title('$\\Omega^{S}_{surf}$', fontsize=20)\n",
    "ax[1,0].set_ylim(1037.3, 1035.5)\n",
    "#ax[1,0].set_xlim(xmin='1993')\n",
    "ax[1,0].grid()\n",
    "\n",
    "omega_surf_th_clim = clim(clim_ds.omega_surf_th) /1e6\n",
    "c_surf_th = ax[1,1].contourf(omega_surf_th_clim.month, omega_surf_th_clim.sigma2_bin, \n",
    "                        omega_surf_th_clim.T, cmap='seismic', levels=levels, extend='both')\n",
    "#plt.colorbar(c_surf_th, shrink=0.8, label=r'Sverdrup [$\\frac{m^3}{s}]$', ax=ax[1,1])\n",
    "#ax[1,1].set_ylabel(r'$\\sigma [\\frac{kg}{m^3}]$', fontsize=14)\n",
    "ax[1,1].set_xlabel('Months', fontsize=13)\n",
    "ax[1,1].set_title(r'$\\Omega^{\\theta}_{surf}$', fontsize=20)\n",
    "ax[1,1].set_ylim(1037.3, 1035.5)\n",
    "#ax[1,1].set_xlim(xmin='1993')\n",
    "ax[1,1].grid()\n",
    "\n",
    "omega_mix__clim = clim(clim_ds.omega_mix) / 1e6\n",
    "c_mix = ax[1,2].contourf(omega_mix__clim.month, omega_mix__clim.sigma2_bin, omega_mix__clim.T, \n",
    "                        cmap='seismic', levels=levels, extend='both')\n",
    "plt.colorbar(c_mix, shrink=0.8, label=r'Sverdrup [m$^3$ s$^{-1}$]', ax=ax[1,2])\n",
    "#ax[1,2].set_ylabel(r'$\\sigma [\\frac{kg}{m^3}]$', fontsize=14)\n",
    "ax[1,2].set_xlabel('Months', fontsize=13)\n",
    "ax[1,2].set_title(r'$\\Omega_{mix}$', fontsize=20)\n",
    "ax[1,2].set_ylim(1037.3, 1035.5)\n",
    "#ax[1,2].set_xlim(xmin='1993')\n",
    "ax[1,2].grid()\n",
    "\n",
    "plt.suptitle('Climatology', fontsize=28)\n",
    "plt.tight_layout();"
   ]
  },
  {
   "cell_type": "code",
   "execution_count": 15,
   "metadata": {},
   "outputs": [
    {
     "data": {
      "image/png": "[encoded data removed]",
      "text/plain": [
       "<Figure size 864x288 with 4 Axes>"
      ]
     },
     "metadata": {
      "needs_background": "light"
     },
     "output_type": "display_data"
    }
   ],
   "source": [
    "fig, (ax0,ax1) = plt.subplots(1,2, figsize=(12,4))\n",
    "\n",
    "levels = np.arange(-20, 20) + 0.5\n",
    "\n",
    "R1_clim = clim(clim_ds.R1) / 1e6\n",
    "c = ax0.contourf(R1_clim.month, \n",
    "                   R1_clim.sigma2_bin, \n",
    "                   R1_clim.T, cmap='seismic', levels=levels, extend='both')\n",
    "plt.colorbar(c, shrink=0.8, label=r'Sverdrup [m$^3$ s$^{-1}$]', ax=ax0)\n",
    "ax0.set_ylabel(r'$\\sigma$ [kg m$^{-3}$]', fontsize=12)\n",
    "ax0.set_xlabel('Months', fontsize=13)\n",
    "ax0.set_title('R1', fontsize=20)\n",
    "ax0.set_ylim(1037.3, 1035.5)\n",
    "ax0.grid()\n",
    "\n",
    "R2_clim = clim(clim_ds.R2) / 1e6\n",
    "c = ax1.contourf(R2_clim.month, \n",
    "                   R2_clim.sigma2_bin, \n",
    "                   R2_clim.T, cmap='seismic', levels=levels, extend='both')\n",
    "plt.colorbar(c, shrink=0.8, label=r'Sverdrup [m$^3$ s$^{-1}$]', ax=ax1)\n",
    "ax1.set_xlabel('Months', fontsize=13)\n",
    "ax1.set_ylabel(r'$\\sigma$ [kg m$^{-3}$]', fontsize=12)\n",
    "ax1.set_title('R2', fontsize=20)\n",
    "ax1.set_ylim(1037.3, 1035.5)\n",
    "ax1.grid()\n",
    "\n",
    "plt.tight_layout();"
   ]
  },
  {
   "cell_type": "code",
   "execution_count": 16,
   "metadata": {},
   "outputs": [
    {
     "data": {
      "text/html": [
       "<div><svg style=\"position: absolute; width: 0; height: 0; overflow: hidden\">\n",
       "<defs>\n",
       "<symbol id=\"icon-database\" viewBox=\"0 0 32 32\">\n",
       "<path d=\"M16 0c-8.837 0-16 2.239-16 5v4c0 2.761 7.163 5 16 5s16-2.239 16-5v-4c0-2.761-7.163-5-16-5z\"></path>\n",
       "<path d=\"M16 17c-8.837 0-16-2.239-16-5v6c0 2.761 7.163 5 16 5s16-2.239 16-5v-6c0 2.761-7.163 5-16 5z\"></path>\n",
       "<path d=\"M16 26c-8.837 0-16-2.239-16-5v6c0 2.761 7.163 5 16 5s16-2.239 16-5v-6c0 2.761-7.163 5-16 5z\"></path>\n",
       "</symbol>\n",
       "<symbol id=\"icon-file-text2\" viewBox=\"0 0 32 32\">\n",
       "<path d=\"M28.681 7.159c-0.694-0.947-1.662-2.053-2.724-3.116s-2.169-2.030-3.116-2.724c-1.612-1.182-2.393-1.319-2.841-1.319h-15.5c-1.378 0-2.5 1.121-2.5 2.5v27c0 1.378 1.122 2.5 2.5 2.5h23c1.378 0 2.5-1.122 2.5-2.5v-19.5c0-0.448-0.137-1.23-1.319-2.841zM24.543 5.457c0.959 0.959 1.712 1.825 2.268 2.543h-4.811v-4.811c0.718 0.556 1.584 1.309 2.543 2.268zM28 29.5c0 0.271-0.229 0.5-0.5 0.5h-23c-0.271 0-0.5-0.229-0.5-0.5v-27c0-0.271 0.229-0.5 0.5-0.5 0 0 15.499-0 15.5 0v7c0 0.552 0.448 1 1 1h7v19.5z\"></path>\n",
       "<path d=\"M23 26h-14c-0.552 0-1-0.448-1-1s0.448-1 1-1h14c0.552 0 1 0.448 1 1s-0.448 1-1 1z\"></path>\n",
       "<path d=\"M23 22h-14c-0.552 0-1-0.448-1-1s0.448-1 1-1h14c0.552 0 1 0.448 1 1s-0.448 1-1 1z\"></path>\n",
       "<path d=\"M23 18h-14c-0.552 0-1-0.448-1-1s0.448-1 1-1h14c0.552 0 1 0.448 1 1s-0.448 1-1 1z\"></path>\n",
       "</symbol>\n",
       "</defs>\n",
       "</svg>\n",
       "<style>/* CSS stylesheet for displaying xarray objects in jupyterlab.\n",
       " *\n",
       " */\n",
       "\n",
       ":root {\n",
       "  --xr-font-color0: var(--jp-content-font-color0, rgba(0, 0, 0, 1));\n",
       "  --xr-font-color2: var(--jp-content-font-color2, rgba(0, 0, 0, 0.54));\n",
       "  --xr-font-color3: var(--jp-content-font-color3, rgba(0, 0, 0, 0.38));\n",
       "  --xr-border-color: var(--jp-border-color2, #e0e0e0);\n",
       "  --xr-disabled-color: var(--jp-layout-color3, #bdbdbd);\n",
       "  --xr-background-color: var(--jp-layout-color0, white);\n",
       "  --xr-background-color-row-even: var(--jp-layout-color1, white);\n",
       "  --xr-background-color-row-odd: var(--jp-layout-color2, #eeeeee);\n",
       "}\n",
       "\n",
       "html[theme=dark],\n",
       "body.vscode-dark {\n",
       "  --xr-font-color0: rgba(255, 255, 255, 1);\n",
       "  --xr-font-color2: rgba(255, 255, 255, 0.54);\n",
       "  --xr-font-color3: rgba(255, 255, 255, 0.38);\n",
       "  --xr-border-color: #1F1F1F;\n",
       "  --xr-disabled-color: #515151;\n",
       "  --xr-background-color: #111111;\n",
       "  --xr-background-color-row-even: #111111;\n",
       "  --xr-background-color-row-odd: #313131;\n",
       "}\n",
       "\n",
       ".xr-wrap {\n",
       "  display: block;\n",
       "  min-width: 300px;\n",
       "  max-width: 700px;\n",
       "}\n",
       "\n",
       ".xr-text-repr-fallback {\n",
       "  /* fallback to plain text repr when CSS is not injected (untrusted notebook) */\n",
       "  display: none;\n",
       "}\n",
       "\n",
       ".xr-header {\n",
       "  padding-top: 6px;\n",
       "  padding-bottom: 6px;\n",
       "  margin-bottom: 4px;\n",
       "  border-bottom: solid 1px var(--xr-border-color);\n",
       "}\n",
       "\n",
       ".xr-header > div,\n",
       ".xr-header > ul {\n",
       "  display: inline;\n",
       "  margin-top: 0;\n",
       "  margin-bottom: 0;\n",
       "}\n",
       "\n",
       ".xr-obj-type,\n",
       ".xr-array-name {\n",
       "  margin-left: 2px;\n",
       "  margin-right: 10px;\n",
       "}\n",
       "\n",
       ".xr-obj-type {\n",
       "  color: var(--xr-font-color2);\n",
       "}\n",
       "\n",
       ".xr-sections {\n",
       "  padding-left: 0 !important;\n",
       "  display: grid;\n",
       "  grid-template-columns: 150px auto auto 1fr 20px 20px;\n",
       "}\n",
       "\n",
       ".xr-section-item {\n",
       "  display: contents;\n",
       "}\n",
       "\n",
       ".xr-section-item input {\n",
       "  display: none;\n",
       "}\n",
       "\n",
       ".xr-section-item input + label {\n",
       "  color: var(--xr-disabled-color);\n",
       "}\n",
       "\n",
       ".xr-section-item input:enabled + label {\n",
       "  cursor: pointer;\n",
       "  color: var(--xr-font-color2);\n",
       "}\n",
       "\n",
       ".xr-section-item input:enabled + label:hover {\n",
       "  color: var(--xr-font-color0);\n",
       "}\n",
       "\n",
       ".xr-section-summary {\n",
       "  grid-column: 1;\n",
       "  color: var(--xr-font-color2);\n",
       "  font-weight: 500;\n",
       "}\n",
       "\n",
       ".xr-section-summary > span {\n",
       "  display: inline-block;\n",
       "  padding-left: 0.5em;\n",
       "}\n",
       "\n",
       ".xr-section-summary-in:disabled + label {\n",
       "  color: var(--xr-font-color2);\n",
       "}\n",
       "\n",
       ".xr-section-summary-in + label:before {\n",
       "  display: inline-block;\n",
       "  content: '►';\n",
       "  font-size: 11px;\n",
       "  width: 15px;\n",
       "  text-align: center;\n",
       "}\n",
       "\n",
       ".xr-section-summary-in:disabled + label:before {\n",
       "  color: var(--xr-disabled-color);\n",
       "}\n",
       "\n",
       ".xr-section-summary-in:checked + label:before {\n",
       "  content: '▼';\n",
       "}\n",
       "\n",
       ".xr-section-summary-in:checked + label > span {\n",
       "  display: none;\n",
       "}\n",
       "\n",
       ".xr-section-summary,\n",
       ".xr-section-inline-details {\n",
       "  padding-top: 4px;\n",
       "  padding-bottom: 4px;\n",
       "}\n",
       "\n",
       ".xr-section-inline-details {\n",
       "  grid-column: 2 / -1;\n",
       "}\n",
       "\n",
       ".xr-section-details {\n",
       "  display: none;\n",
       "  grid-column: 1 / -1;\n",
       "  margin-bottom: 5px;\n",
       "}\n",
       "\n",
       ".xr-section-summary-in:checked ~ .xr-section-details {\n",
       "  display: contents;\n",
       "}\n",
       "\n",
       ".xr-array-wrap {\n",
       "  grid-column: 1 / -1;\n",
       "  display: grid;\n",
       "  grid-template-columns: 20px auto;\n",
       "}\n",
       "\n",
       ".xr-array-wrap > label {\n",
       "  grid-column: 1;\n",
       "  vertical-align: top;\n",
       "}\n",
       "\n",
       ".xr-preview {\n",
       "  color: var(--xr-font-color3);\n",
       "}\n",
       "\n",
       ".xr-array-preview,\n",
       ".xr-array-data {\n",
       "  padding: 0 5px !important;\n",
       "  grid-column: 2;\n",
       "}\n",
       "\n",
       ".xr-array-data,\n",
       ".xr-array-in:checked ~ .xr-array-preview {\n",
       "  display: none;\n",
       "}\n",
       "\n",
       ".xr-array-in:checked ~ .xr-array-data,\n",
       ".xr-array-preview {\n",
       "  display: inline-block;\n",
       "}\n",
       "\n",
       ".xr-dim-list {\n",
       "  display: inline-block !important;\n",
       "  list-style: none;\n",
       "  padding: 0 !important;\n",
       "  margin: 0;\n",
       "}\n",
       "\n",
       ".xr-dim-list li {\n",
       "  display: inline-block;\n",
       "  padding: 0;\n",
       "  margin: 0;\n",
       "}\n",
       "\n",
       ".xr-dim-list:before {\n",
       "  content: '(';\n",
       "}\n",
       "\n",
       ".xr-dim-list:after {\n",
       "  content: ')';\n",
       "}\n",
       "\n",
       ".xr-dim-list li:not(:last-child):after {\n",
       "  content: ',';\n",
       "  padding-right: 5px;\n",
       "}\n",
       "\n",
       ".xr-has-index {\n",
       "  font-weight: bold;\n",
       "}\n",
       "\n",
       ".xr-var-list,\n",
       ".xr-var-item {\n",
       "  display: contents;\n",
       "}\n",
       "\n",
       ".xr-var-item > div,\n",
       ".xr-var-item label,\n",
       ".xr-var-item > .xr-var-name span {\n",
       "  background-color: var(--xr-background-color-row-even);\n",
       "  margin-bottom: 0;\n",
       "}\n",
       "\n",
       ".xr-var-item > .xr-var-name:hover span {\n",
       "  padding-right: 5px;\n",
       "}\n",
       "\n",
       ".xr-var-list > li:nth-child(odd) > div,\n",
       ".xr-var-list > li:nth-child(odd) > label,\n",
       ".xr-var-list > li:nth-child(odd) > .xr-var-name span {\n",
       "  background-color: var(--xr-background-color-row-odd);\n",
       "}\n",
       "\n",
       ".xr-var-name {\n",
       "  grid-column: 1;\n",
       "}\n",
       "\n",
       ".xr-var-dims {\n",
       "  grid-column: 2;\n",
       "}\n",
       "\n",
       ".xr-var-dtype {\n",
       "  grid-column: 3;\n",
       "  text-align: right;\n",
       "  color: var(--xr-font-color2);\n",
       "}\n",
       "\n",
       ".xr-var-preview {\n",
       "  grid-column: 4;\n",
       "}\n",
       "\n",
       ".xr-var-name,\n",
       ".xr-var-dims,\n",
       ".xr-var-dtype,\n",
       ".xr-preview,\n",
       ".xr-attrs dt {\n",
       "  white-space: nowrap;\n",
       "  overflow: hidden;\n",
       "  text-overflow: ellipsis;\n",
       "  padding-right: 10px;\n",
       "}\n",
       "\n",
       ".xr-var-name:hover,\n",
       ".xr-var-dims:hover,\n",
       ".xr-var-dtype:hover,\n",
       ".xr-attrs dt:hover {\n",
       "  overflow: visible;\n",
       "  width: auto;\n",
       "  z-index: 1;\n",
       "}\n",
       "\n",
       ".xr-var-attrs,\n",
       ".xr-var-data {\n",
       "  display: none;\n",
       "  background-color: var(--xr-background-color) !important;\n",
       "  padding-bottom: 5px !important;\n",
       "}\n",
       "\n",
       ".xr-var-attrs-in:checked ~ .xr-var-attrs,\n",
       ".xr-var-data-in:checked ~ .xr-var-data {\n",
       "  display: block;\n",
       "}\n",
       "\n",
       ".xr-var-data > table {\n",
       "  float: right;\n",
       "}\n",
       "\n",
       ".xr-var-name span,\n",
       ".xr-var-data,\n",
       ".xr-attrs {\n",
       "  padding-left: 25px !important;\n",
       "}\n",
       "\n",
       ".xr-attrs,\n",
       ".xr-var-attrs,\n",
       ".xr-var-data {\n",
       "  grid-column: 1 / -1;\n",
       "}\n",
       "\n",
       "dl.xr-attrs {\n",
       "  padding: 0;\n",
       "  margin: 0;\n",
       "  display: grid;\n",
       "  grid-template-columns: 125px auto;\n",
       "}\n",
       "\n",
       ".xr-attrs dt,\n",
       ".xr-attrs dd {\n",
       "  padding: 0;\n",
       "  margin: 0;\n",
       "  float: left;\n",
       "  padding-right: 10px;\n",
       "  width: auto;\n",
       "}\n",
       "\n",
       ".xr-attrs dt {\n",
       "  font-weight: normal;\n",
       "  grid-column: 1;\n",
       "}\n",
       "\n",
       ".xr-attrs dt:hover span {\n",
       "  display: inline-block;\n",
       "  background: var(--xr-background-color);\n",
       "  padding-right: 10px;\n",
       "}\n",
       "\n",
       ".xr-attrs dd {\n",
       "  grid-column: 2;\n",
       "  white-space: pre-wrap;\n",
       "  word-break: break-all;\n",
       "}\n",
       "\n",
       ".xr-icon-database,\n",
       ".xr-icon-file-text2 {\n",
       "  display: inline-block;\n",
       "  vertical-align: middle;\n",
       "  width: 1em;\n",
       "  height: 1.5em !important;\n",
       "  stroke-width: 0;\n",
       "  stroke: currentColor;\n",
       "  fill: currentColor;\n",
       "}\n",
       "</style><pre class='xr-text-repr-fallback'>&lt;xarray.DataArray &#x27;time&#x27; ()&gt;\n",
       "array(&#x27;2012-01-15T00:00:00.000000000&#x27;, dtype=&#x27;datetime64[ns]&#x27;)\n",
       "Coordinates:\n",
       "    time      datetime64[ns] 2012-01-15\n",
       "    time_snp  datetime64[ns] 2012-02-01</pre><div class='xr-wrap' hidden><div class='xr-header'><div class='xr-obj-type'>xarray.DataArray</div><div class='xr-array-name'>'time'</div></div><ul class='xr-sections'><li class='xr-section-item'><div class='xr-array-wrap'><input id='section-69cf381c-1568-45d8-99fc-250707114153' class='xr-array-in' type='checkbox' checked><label for='section-69cf381c-1568-45d8-99fc-250707114153' title='Show/hide data repr'><svg class='icon xr-icon-database'><use xlink:href='#icon-database'></use></svg></label><div class='xr-array-preview xr-preview'><span>2012-01-15</span></div><div class='xr-array-data'><pre>array(&#x27;2012-01-15T00:00:00.000000000&#x27;, dtype=&#x27;datetime64[ns]&#x27;)</pre></div></div></li><li class='xr-section-item'><input id='section-15a5803c-9906-4091-85c8-70b4c6ab1bcc' class='xr-section-summary-in' type='checkbox'  checked><label for='section-15a5803c-9906-4091-85c8-70b4c6ab1bcc' class='xr-section-summary' >Coordinates: <span>(2)</span></label><div class='xr-section-inline-details'></div><div class='xr-section-details'><ul class='xr-var-list'><li class='xr-var-item'><div class='xr-var-name'><span>time</span></div><div class='xr-var-dims'>()</div><div class='xr-var-dtype'>datetime64[ns]</div><div class='xr-var-preview xr-preview'>2012-01-15</div><input id='attrs-1e946abf-de16-45d8-8d24-071ac2fe37b8' class='xr-var-attrs-in' type='checkbox' disabled><label for='attrs-1e946abf-de16-45d8-8d24-071ac2fe37b8' title='Show/Hide attributes'><svg class='icon xr-icon-file-text2'><use xlink:href='#icon-file-text2'></use></svg></label><input id='data-dae53e8f-8373-4dbd-9ce7-4a702785deee' class='xr-var-data-in' type='checkbox'><label for='data-dae53e8f-8373-4dbd-9ce7-4a702785deee' title='Show/Hide data repr'><svg class='icon xr-icon-database'><use xlink:href='#icon-database'></use></svg></label><div class='xr-var-attrs'><dl class='xr-attrs'></dl></div><div class='xr-var-data'><pre>array(&#x27;2012-01-15T00:00:00.000000000&#x27;, dtype=&#x27;datetime64[ns]&#x27;)</pre></div></li><li class='xr-var-item'><div class='xr-var-name'><span>time_snp</span></div><div class='xr-var-dims'>()</div><div class='xr-var-dtype'>datetime64[ns]</div><div class='xr-var-preview xr-preview'>2012-02-01</div><input id='attrs-e2e73ad8-9024-45a5-9246-2ededa0fdf0e' class='xr-var-attrs-in' type='checkbox' ><label for='attrs-e2e73ad8-9024-45a5-9246-2ededa0fdf0e' title='Show/Hide attributes'><svg class='icon xr-icon-file-text2'><use xlink:href='#icon-file-text2'></use></svg></label><input id='data-52396c40-74ff-4429-be3a-ce3e3bbddefc' class='xr-var-data-in' type='checkbox'><label for='data-52396c40-74ff-4429-be3a-ce3e3bbddefc' title='Show/Hide data repr'><svg class='icon xr-icon-database'><use xlink:href='#icon-database'></use></svg></label><div class='xr-var-attrs'><dl class='xr-attrs'><dt><span>axis :</span></dt><dd>T</dd><dt><span>c_grid_axis_shift :</span></dt><dd>0.5</dd><dt><span>long_name :</span></dt><dd>Time</dd><dt><span>standard_name :</span></dt><dd>time</dd></dl></div><div class='xr-var-data'><pre>array(&#x27;2012-02-01T00:00:00.000000000&#x27;, dtype=&#x27;datetime64[ns]&#x27;)</pre></div></li></ul></div></li><li class='xr-section-item'><input id='section-03376290-58a7-460c-9771-0b4de59632a5' class='xr-section-summary-in' type='checkbox' disabled ><label for='section-03376290-58a7-460c-9771-0b4de59632a5' class='xr-section-summary'  title='Expand/collapse section'>Attributes: <span>(0)</span></label><div class='xr-section-inline-details'></div><div class='xr-section-details'><dl class='xr-attrs'></dl></div></li></ul></div></div>"
      ],
      "text/plain": [
       "<xarray.DataArray 'time' ()>\n",
       "array('2012-01-15T00:00:00.000000000', dtype='datetime64[ns]')\n",
       "Coordinates:\n",
       "    time      datetime64[ns] 2012-01-15\n",
       "    time_snp  datetime64[ns] 2012-02-01"
      ]
     },
     "execution_count": 16,
     "metadata": {},
     "output_type": "execute_result"
    }
   ],
   "source": [
    "anom_ds.dVdt.time[240]"
   ]
  },
  {
   "cell_type": "code",
   "execution_count": 17,
   "metadata": {},
   "outputs": [
    {
     "data": {
      "text/plain": [
       "240"
      ]
     },
     "execution_count": 17,
     "metadata": {},
     "output_type": "execute_result"
    }
   ],
   "source": [
    "20*12"
   ]
  },
  {
   "cell_type": "code",
   "execution_count": 18,
   "metadata": {},
   "outputs": [
    {
     "data": {
      "text/plain": [
       "array([ 0,  5, 10, 15, 20])"
      ]
     },
     "execution_count": 18,
     "metadata": {},
     "output_type": "execute_result"
    }
   ],
   "source": [
    "np.arange(0,23,5)"
   ]
  },
  {
   "cell_type": "code",
   "execution_count": 19,
   "metadata": {},
   "outputs": [],
   "source": [
    "year_start_index = list(np.arange(0, 23, 5) * 12) #[0, 12, 24, 36, 48, ]"
   ]
  },
  {
   "cell_type": "code",
   "execution_count": 20,
   "metadata": {},
   "outputs": [
    {
     "data": {
      "text/plain": [
       "[0, 60, 120, 180, 240]"
      ]
     },
     "execution_count": 20,
     "metadata": {},
     "output_type": "execute_result"
    }
   ],
   "source": [
    "year_start_index"
   ]
  },
  {
   "cell_type": "code",
   "execution_count": 21,
   "metadata": {},
   "outputs": [
    {
     "ename": "NameError",
     "evalue": "name 'dVdt_anom_rolled' is not defined",
     "output_type": "error",
     "traceback": [
      "\u001b[0;31m---------------------------------------------------------------------------\u001b[0m",
      "\u001b[0;31mNameError\u001b[0m                                 Traceback (most recent call last)",
      "\u001b[0;32m/tmp/ipykernel_348/3937501214.py\u001b[0m in \u001b[0;36m<module>\u001b[0;34m\u001b[0m\n\u001b[0;32m----> 1\u001b[0;31m \u001b[0mdVdt_anom_rolled\u001b[0m\u001b[0;34m.\u001b[0m\u001b[0mtime\u001b[0m\u001b[0;34m.\u001b[0m\u001b[0mvalues\u001b[0m\u001b[0;34m[\u001b[0m\u001b[0myear_start_index\u001b[0m\u001b[0;34m]\u001b[0m\u001b[0;34m\u001b[0m\u001b[0;34m\u001b[0m\u001b[0m\n\u001b[0m",
      "\u001b[0;31mNameError\u001b[0m: name 'dVdt_anom_rolled' is not defined"
     ]
    }
   ],
   "source": [
    "dVdt_anom_rolled.time.values[year_start_index]"
   ]
  },
  {
   "cell_type": "code",
   "execution_count": null,
   "metadata": {},
   "outputs": [],
   "source": [
    "import warnings\n",
    "warnings.filterwarnings(\"ignore\")"
   ]
  },
  {
   "cell_type": "code",
   "execution_count": null,
   "metadata": {},
   "outputs": [],
   "source": [
    "fig, ax = plt.subplots(2, 3, figsize=(16, 7), sharey=True, gridspec_kw={'width_ratios': [2.4,2.4,3]})#, sharex=True)\n",
    "\n",
    "dVdt_anom_rolled = anom(anom_ds.dVdt) / 1e6\n",
    "c = ax[0,0].pcolormesh(dVdt_anom_rolled.time, \n",
    "                   dVdt_anom_rolled.sigma2_bin, \n",
    "                   dVdt_anom_rolled.T, vmin=-10, vmax=10, cmap='seismic')\n",
    "#plt.colorbar(c, shrink=0.8, label=r'Sverdrup [$\\frac{m^3}{s}]$', ax=ax[0,0])\n",
    "ax[0,0].set_ylabel(r'$\\sigma$ [kg m$^{-3}$]', fontsize=12)\n",
    "#ax[0,0].set_xlabel('Time', fontsize=14)\n",
    "ax[0,0].set_title(r'$\\frac{\\partial V}{\\partial t}$', fontsize=20)\n",
    "ax[0,0].set_ylim(1037.3, 1036.5)\n",
    "ax[0,0].set_xticks(dVdt_anom_rolled.time.values[year_start_index])\n",
    "#ax[0,0].set_xticklabels(np.arange(2006, 2011))\n",
    "ax[0,0].grid()\n",
    "\n",
    "psi_vel_anom_rolled = anom(anom_ds.psi_vel) / 1e6\n",
    "c_psi = ax[0,1].pcolormesh(psi_vel_anom_rolled.time, psi_vel_anom_rolled.sigma2_bin, psi_vel_anom_rolled.T,\n",
    "                        vmin=-10, vmax=10, cmap='seismic')\n",
    "#plt.colorbar(c_psi, shrink=0.8, label=r'Sverdrup [$\\frac{m^3}{s}$]', ax=ax[0,1])\n",
    "#ax[1,1].set_ylabel(r'$\\sigma [\\frac{kg}{m^3}]$', fontsize=14)\n",
    "#ax[1,1].set_xlabel('Time', fontsize=14)\n",
    "ax[0,1].set_title(r'$\\Psi_{vel}$', fontsize=20)\n",
    "ax[0,1].set_ylim(1037.3, 1036.5)\n",
    "ax[0,1].set_xticks(psi_vel_anom_rolled.time.values[year_start_index])\n",
    "#ax[0,1].set_xticklabels(np.arange(2006, 2011))\n",
    "ax[0,1].grid()\n",
    "\n",
    "omega_anom_rolled = anom(anom_ds.omega_trans_rate) /1e6\n",
    "c_omega = ax[0,2].pcolormesh(omega_anom_rolled.time, omega_anom_rolled.sigma2_bin, omega_anom_rolled.T,\n",
    "                        vmin=-10, vmax=10, cmap='seismic')\n",
    "plt.colorbar(c_omega, shrink=0.8, label=r'Sverdrup [m$^3$ s$^{-1}$]', ax=ax[0,2])\n",
    "#ax[0,1].set_ylabel(r'$\\sigma [\\frac{kg}{m^3}]$', fontsize=14)\n",
    "#ax[0,1].set_xlabel('Time', fontsize=14)\n",
    "ax[0,2].set_title(r'$\\Omega$', fontsize=20)\n",
    "ax[0,2].set_ylim(1037.3, 1036.5)\n",
    "ax[0,2].set_xticks(omega_anom_rolled.time.values[year_start_index])\n",
    "#ax[0,2].set_xticklabels(np.arange(2006, 2011))\n",
    "ax[0,2].grid()\n",
    "\n",
    "omega_surf_slt_anom_rolled = anom(anom_ds.omega_surf_slt)/1e6\n",
    "c_surf_slt = ax[1,0].pcolormesh(omega_surf_slt_anom_rolled.time, \n",
    "                                omega_surf_slt_anom_rolled.sigma2_bin, \n",
    "                                omega_surf_slt_anom_rolled.T, vmin=-10, vmax=10, cmap='seismic')\n",
    "#plt.colorbar(c_surf_slt, shrink=0.8, label=r'Sverdrup [$\\frac{m^3}{s}$]', ax=ax[1,0])\n",
    "ax[1,0].set_ylabel(r'$\\sigma$ [kg m$^{-3}$]', fontsize=12)\n",
    "ax[1,0].set_xlabel('Time', fontsize=13)\n",
    "ax[1,0].set_title('$\\Omega^{S}_{surf}$', fontsize=20)\n",
    "ax[1,0].set_ylim(1037.3, 1036.5)\n",
    "ax[1,0].set_xticks(omega_surf_slt_anom_rolled.time.values[year_start_index])\n",
    "#ax[1,0].set_xticklabels(np.arange(2006, 2011))\n",
    "ax[1,0].grid()\n",
    "\n",
    "omega_surf_th_anom_rolled = anom(anom_ds.omega_surf_th) /1e6\n",
    "c_surf_th = ax[1,1].pcolormesh(omega_surf_th_anom_rolled.time, omega_surf_th_anom_rolled.sigma2_bin, \n",
    "                        omega_surf_th_anom_rolled.T, vmin=-10, vmax=10, cmap='seismic')\n",
    "#plt.colorbar(c_surf_th, shrink=0.8, label=r'Sverdrup [$\\frac{m^3}{s}]$', ax=ax[1,1])\n",
    "#ax[1,1].set_ylabel(r'$\\sigma [\\frac{kg}{m^3}]$', fontsize=14)\n",
    "ax[1,1].set_xlabel('Time', fontsize=13)\n",
    "ax[1,1].set_title(r'$\\Omega^{\\theta}_{surf}$', fontsize=20)\n",
    "ax[1,1].set_ylim(1037.3, 1036.5)\n",
    "ax[1,1].set_xticks(omega_surf_th_anom_rolled.time.values[year_start_index])\n",
    "#ax[1,1].set_xticklabels(np.arange(2006, 2011))\n",
    "ax[1,1].grid()\n",
    "\n",
    "omega_mix_anom_rolled = anom(anom_ds.omega_mix) / 1e6\n",
    "c_mix = ax[1,2].pcolormesh(omega_mix_anom_rolled.time, omega_mix_anom_rolled.sigma2_bin, omega_mix_anom_rolled.T, \n",
    "                        vmin=-10, vmax=10, cmap='seismic')\n",
    "plt.colorbar(c_mix, shrink=0.8, label=r'Sverdrup [m$^3$ s$^{-1}$]', ax=ax[1,2])\n",
    "#ax[1,2].set_ylabel(r'$\\sigma [\\frac{kg}{m^3}]$', fontsize=14)\n",
    "ax[1,2].set_xlabel('Time', fontsize=13)\n",
    "ax[1,2].set_title(r'$\\Omega_{mix}$', fontsize=20)\n",
    "ax[1,2].set_ylim(1037.3, 1036.5)\n",
    "ax[1,2].set_xticks(omega_mix_anom_rolled.time.values[year_start_index])\n",
    "#ax[1,2].set_xticklabels(np.arange(2006, 2011))\n",
    "ax[1,2].grid()\n",
    "\n",
    "plt.suptitle('Anomalous WMT budget - ECCO', fontsize=28)\n",
    "plt.tight_layout();"
   ]
  },
  {
   "cell_type": "markdown",
   "metadata": {},
   "source": [
    "## Loading in Sea ice, SAM, ENSO timeseries"
   ]
  },
  {
   "cell_type": "code",
   "execution_count": null,
   "metadata": {},
   "outputs": [],
   "source": [
    "ecco = xr.open_zarr(gcsfs.GCSMap('pangeo-tmp/stb2145/ECCO/datasets/ecco_si_index.zarr'))\n",
    "sam = xr.open_dataarray('/home/jovyan/WMT-project/Climate-Indices/SAM-index/sam_index')\n",
    "enso = xr.open_dataarray('/home/jovyan/WMT-project/Climate-Indices/ENSO-index/oni')"
   ]
  },
  {
   "cell_type": "code",
   "execution_count": null,
   "metadata": {},
   "outputs": [],
   "source": [
    "enso.sel(time=slice('1992', '2015'))"
   ]
  },
  {
   "cell_type": "code",
   "execution_count": null,
   "metadata": {},
   "outputs": [],
   "source": [
    "ecco.time"
   ]
  },
  {
   "cell_type": "raw",
   "metadata": {},
   "source": [
    "ecco_ms_time = ecco.assign_coords(coords={'time':enso.sel(time=slice('1992', '2015')).time}).drop(['month', 'k'])\n",
    "ecco_ms_time"
   ]
  },
  {
   "cell_type": "code",
   "execution_count": null,
   "metadata": {},
   "outputs": [],
   "source": [
    "enso_ecco_time = enso.sel(time=slice('1992', '2015')).assign_coords(coords={'time':ecco.time}).drop(['month', 'k'])\n",
    "enso_ecco_time"
   ]
  },
  {
   "cell_type": "code",
   "execution_count": null,
   "metadata": {},
   "outputs": [],
   "source": [
    "sam.sel(time=slice('1992', '2015'))"
   ]
  },
  {
   "cell_type": "code",
   "execution_count": null,
   "metadata": {},
   "outputs": [],
   "source": [
    "sam_ecco_time = sam.sel(time=slice('1992', '2015')).assign_coords(coords={'time':ecco.time}).drop(['month', 'k'])\n",
    "sam_ecco_time"
   ]
  },
  {
   "cell_type": "code",
   "execution_count": null,
   "metadata": {},
   "outputs": [],
   "source": [
    "plt.figure(figsize=(12,5))\n",
    "enso_ecco_time.sel(time=slice('1992', '2015')).plot(color='green', label='NINO3.4')\n",
    "sam_ecco_time.rolling(time=12).mean().plot(color='red', label='SAM') #12mth rolling mean\n",
    "ecco.ecco_si_index.plot(color='k', label='ECCO SI')\n",
    "plt.legend()\n",
    "plt.grid()\n",
    "plt.ylim(-3,4) #ylims with rolling mean\n",
    "#plt.ylim(-6,6) #ylims without rolling mean\n",
    "#plt.xlim('1992-01-01', '2015-12-01')\n",
    "plt.title('SI/NINO3.4/SAM indices', fontsize=16)\n",
    "plt.xlabel('Time', fontsize=12)\n",
    "plt.ylabel('');"
   ]
  },
  {
   "cell_type": "markdown",
   "metadata": {
    "tags": []
   },
   "source": [
    "## Windstress indices"
   ]
  },
  {
   "cell_type": "code",
   "execution_count": null,
   "metadata": {},
   "outputs": [],
   "source": [
    "ds = xr.open_zarr(gcsfs.GCSFileSystem(requester_pays=True).get_mapper('pangeo-ecco-eccov4r3/eccov4r3'), consolidated=True)\n",
    "\n",
    "ds_ll = faces_dataset_to_latlon(ds)\n",
    "\n",
    "ds_before_drop = ds_ll.roll(i=50, i_g=50)\n",
    "\n",
    "ds = ds_before_drop.drop(['i', 'j', 'i_g', 'j_g', 'k_u', 'k_l', 'k_p1'])\n",
    "\n",
    "#WG boundaries (65˚W, 30˚E; 80˚S, 55˚S)\n",
    "left_lon = 23 #~-64.5˚ #used to be 20\n",
    "right_lon = 118 #30.5˚ #used to be 115\n",
    "lower_lat = 30 #~-80˚ #used to be 38\n",
    "upper_lat = 80 #-61.755745# 93 #-55.107994˚\n",
    "j_g_lower = 31\n",
    "j_g_upper = 81\n",
    "i_g_right = 119\n",
    "i_g_left = 24\n",
    "\n",
    "#set the boundaries\n",
    "lat_range = dict(j=slice(lower_lat, upper_lat), j_g=slice(j_g_lower, j_g_upper))\n",
    "lon_range = dict(i=slice(left_lon, right_lon), i_g=slice(i_g_left, i_g_right))\n",
    "\n",
    "#set the boundaries\n",
    "lat_range_noface = dict(j=slice(lower_lat, upper_lat))\n",
    "lon_range_noface = dict(i=slice(left_lon, right_lon))"
   ]
  },
  {
   "cell_type": "code",
   "execution_count": null,
   "metadata": {},
   "outputs": [],
   "source": [
    "ds_wg = ds.isel(**lat_range, **lon_range)"
   ]
  },
  {
   "cell_type": "code",
   "execution_count": null,
   "metadata": {},
   "outputs": [],
   "source": [
    "ds_wg"
   ]
  },
  {
   "cell_type": "code",
   "execution_count": null,
   "metadata": {},
   "outputs": [],
   "source": [
    "ds_wg.oceTAUX"
   ]
  },
  {
   "cell_type": "code",
   "execution_count": null,
   "metadata": {},
   "outputs": [],
   "source": [
    "fig, (ax1,ax2) = plt.subplots(1,2, figsize=(12,3))\n",
    "ds_wg.oceTAUX.mean(dim='time').plot(ax=ax1)\n",
    "ds_wg.oceTAUY.mean(dim='time').plot(ax=ax2)\n",
    "plt.tight_layout();"
   ]
  },
  {
   "cell_type": "code",
   "execution_count": null,
   "metadata": {},
   "outputs": [],
   "source": [
    "weighted_taux = ds_wg.oceTAUX * ds_wg.rAw\n",
    "weighted_tauy = ds_wg.oceTAUY * ds_wg.rAs"
   ]
  },
  {
   "cell_type": "code",
   "execution_count": null,
   "metadata": {},
   "outputs": [],
   "source": [
    "fig, (ax1,ax2) = plt.subplots(1,2, figsize=(12,3))\n",
    "weighted_taux.mean(dim='time').plot(ax=ax1)\n",
    "weighted_tauy.mean(dim='time').plot(ax=ax2)\n",
    "plt.tight_layout();"
   ]
  },
  {
   "cell_type": "code",
   "execution_count": null,
   "metadata": {},
   "outputs": [],
   "source": [
    "taux_anom = (weighted_taux.resample(time='MS').mean().groupby('time.month') \n",
    "             - weighted_taux.resample(time='MS').mean().groupby('time.month').mean('time'))\n",
    "tauy_anom = (weighted_tauy.resample(time='MS').mean().groupby('time.month') \n",
    "             - weighted_tauy.resample(time='MS').mean().groupby('time.month').mean('time'))"
   ]
  },
  {
   "cell_type": "code",
   "execution_count": null,
   "metadata": {},
   "outputs": [],
   "source": [
    "tauy_anom"
   ]
  },
  {
   "cell_type": "code",
   "execution_count": null,
   "metadata": {},
   "outputs": [],
   "source": [
    "taux_index = taux_anom.sum(['j','i_g'])/taux_anom.sum(['j','i_g']).std(dim='time')\n",
    "tauy_index = tauy_anom.sum(['j_g','i'])/tauy_anom.sum(['j_g','i']).std(dim='time')"
   ]
  },
  {
   "cell_type": "code",
   "execution_count": null,
   "metadata": {},
   "outputs": [],
   "source": [
    "fig, (ax1,ax2) = plt.subplots(1,2, figsize=(12,3))\n",
    "taux_index.plot(ax=ax1)\n",
    "tauy_index.plot(ax=ax2)\n",
    "plt.tight_layout();"
   ]
  },
  {
   "cell_type": "markdown",
   "metadata": {
    "tags": []
   },
   "source": [
    "## Windstress curl indices\n",
    "\n",
    "$$ \\frac{\\partial \\tau_y}{\\partial x} - \\frac{\\partial \\tau_x}{\\partial y}$$"
   ]
  },
  {
   "cell_type": "code",
   "execution_count": null,
   "metadata": {},
   "outputs": [],
   "source": [
    "import xgcm\n",
    "\n",
    "grid = xgcm.Grid(ds_wg, coords={'X': {'center': 'i', 'right': 'i_g'}, \n",
    "                              'Y': {'center': 'j', 'right': 'j_g'},\n",
    "                              'T': {'center': 'time'}},\n",
    "                      periodic=['X'])\n",
    "grid"
   ]
  },
  {
   "cell_type": "code",
   "execution_count": null,
   "metadata": {},
   "outputs": [],
   "source": [
    "#calculating meters per latitudinal & longitudinal degree\n",
    "earth_radius = 6.371e6\n",
    "earth_circumference = 2*np.pi*earth_radius\n",
    "meters_per_degree = earth_circumference / 360\n",
    "\n",
    "#converting lat from degrees to meters\n",
    "delta_lat = grid.diff(ds_wg.j, 'Y', boundary='fill', fill_value=np.nan)\n",
    "dy = delta_lat * meters_per_degree\n",
    "\n",
    "#converting degrees lon to lon [meters] (pinching at the poles)\n",
    "delta_lon = grid.diff(ds_wg.i, 'X')#, boundary_discontinuity=360)\n",
    "dx = delta_lon * meters_per_degree * np.cos(np.deg2rad(ds_wg.j))"
   ]
  },
  {
   "cell_type": "code",
   "execution_count": null,
   "metadata": {},
   "outputs": [],
   "source": [
    "dy"
   ]
  },
  {
   "cell_type": "code",
   "execution_count": null,
   "metadata": {},
   "outputs": [],
   "source": [
    "dx"
   ]
  },
  {
   "cell_type": "code",
   "execution_count": null,
   "metadata": {},
   "outputs": [],
   "source": [
    "weighted_tauy"
   ]
  },
  {
   "cell_type": "code",
   "execution_count": null,
   "metadata": {},
   "outputs": [],
   "source": [
    "dtauy = grid.diff(weighted_tauy, 'X')\n",
    "dtaux = grid.diff(weighted_taux, 'Y', boundary='fill', fill_value=np.nan)"
   ]
  },
  {
   "cell_type": "code",
   "execution_count": null,
   "metadata": {},
   "outputs": [],
   "source": [
    "dtaux"
   ]
  },
  {
   "cell_type": "code",
   "execution_count": null,
   "metadata": {},
   "outputs": [],
   "source": [
    "dx_interp = grid.interp(dx, 'Y', boundary='fill', fill_value=np.nan)"
   ]
  },
  {
   "cell_type": "code",
   "execution_count": null,
   "metadata": {},
   "outputs": [],
   "source": [
    "dx_interp"
   ]
  },
  {
   "cell_type": "code",
   "execution_count": null,
   "metadata": {},
   "outputs": [],
   "source": [
    "windstress_curl = (dtauy / dx_interp) - (dtaux/dy)\n",
    "windstress_curl"
   ]
  },
  {
   "cell_type": "code",
   "execution_count": null,
   "metadata": {},
   "outputs": [],
   "source": [
    "windstress_curl_anom = windstress_curl.groupby('time.month') - windstress_curl.groupby('time.month').mean('time')\n",
    "windstress_curl_anom"
   ]
  },
  {
   "cell_type": "code",
   "execution_count": null,
   "metadata": {},
   "outputs": [],
   "source": [
    "windstress_curl_anom.sum(['i_g', 'j_g']).plot()"
   ]
  },
  {
   "cell_type": "code",
   "execution_count": null,
   "metadata": {},
   "outputs": [],
   "source": [
    "windstress_curl_index = windstress_curl_anom.sum(['i_g','j_g'])/windstress_curl_anom.sum(['i_g','j_g']).std(dim='time')\n",
    "windstress_curl_index"
   ]
  },
  {
   "cell_type": "code",
   "execution_count": null,
   "metadata": {},
   "outputs": [],
   "source": [
    "windstress_curl_index.plot()"
   ]
  },
  {
   "cell_type": "code",
   "execution_count": null,
   "metadata": {},
   "outputs": [],
   "source": []
  },
  {
   "cell_type": "markdown",
   "metadata": {},
   "source": [
    "## Water mass classes timeseries"
   ]
  },
  {
   "cell_type": "code",
   "execution_count": null,
   "metadata": {},
   "outputs": [],
   "source": [
    "import sys\n",
    "#telling python where the module lives\n",
    "sys.path.insert(0, '/home/jovyan/WMT-project/')\n",
    "from sum_wm_bins import sum_wm_bins"
   ]
  },
  {
   "cell_type": "code",
   "execution_count": null,
   "metadata": {},
   "outputs": [],
   "source": [
    "wm_type = ['cdw', 'wsdw', 'wsbw', 'isw']\n",
    "\n",
    "wmt_terms = [dVdt_anom_rolled, psi_vel_anom_rolled, omega_anom_rolled, omega_surf_slt_anom_rolled,\n",
    "             omega_surf_th_anom_rolled, omega_mix_anom_rolled]\n",
    "\n",
    "term_names = ['dVdt_anom_rolled', 'psi_vel_anom_rolled', 'omega_anom_rolled', 'omega_surf_slt_anom_rolled',\n",
    "             'omega_surf_th_anom_rolled', 'omega_mix_anom_rolled']"
   ]
  },
  {
   "cell_type": "code",
   "execution_count": null,
   "metadata": {},
   "outputs": [],
   "source": [
    "def datasetmaker(wm_term):\n",
    "    \"\"\"Creating new ds for each wmt budget term with wm classes as variables.\"\"\"\n",
    "    new_ds = xr.Dataset({'cdw': sum_wm_bins(wm_term, 'cdw'), 'wsdw':sum_wm_bins(wm_term, 'wsdw'),\n",
    "                           'wsbw': sum_wm_bins(wm_term, 'wsbw'), 'isw': sum_wm_bins(wm_term, 'isw')}, attrs=dict(Name=wm_term.name))\n",
    "    return new_ds"
   ]
  },
  {
   "cell_type": "code",
   "execution_count": null,
   "metadata": {},
   "outputs": [],
   "source": [
    "wmt_terms[0].name"
   ]
  },
  {
   "cell_type": "code",
   "execution_count": null,
   "metadata": {},
   "outputs": [],
   "source": [
    "term_names[0]"
   ]
  },
  {
   "cell_type": "code",
   "execution_count": null,
   "metadata": {},
   "outputs": [],
   "source": [
    "k=0\n",
    "for term in (wmt_terms):\n",
    "    term_names[k] = datasetmaker(term)\n",
    "    k=k+1"
   ]
  },
  {
   "cell_type": "code",
   "execution_count": null,
   "metadata": {},
   "outputs": [],
   "source": [
    "term_names[0].attrs.get('Name')"
   ]
  },
  {
   "cell_type": "code",
   "execution_count": null,
   "metadata": {},
   "outputs": [],
   "source": [
    "len(term_names)"
   ]
  },
  {
   "cell_type": "code",
   "execution_count": null,
   "metadata": {},
   "outputs": [],
   "source": [
    "#trying to assign vars with term_names at end of name for each ds in term_names\n",
    "F\"wm_ds_{term_names[5].attrs.get('Name')}\" #= term_names[0]"
   ]
  },
  {
   "cell_type": "code",
   "execution_count": null,
   "metadata": {},
   "outputs": [],
   "source": [
    "term_names[0]"
   ]
  },
  {
   "cell_type": "code",
   "execution_count": null,
   "metadata": {},
   "outputs": [],
   "source": [
    "wm_ds_dVdt = (term_names[0]/term_names[0].std('time')).drop(['month', 'time_snp'])\n",
    "wm_ds_psi_vel = (term_names[1]/term_names[1].std('time')).drop(['month', 'time_snp'])\n",
    "wm_ds_omega_trans_rate = (term_names[2]/term_names[2].std('time')).drop(['month', 'time_snp'])\n",
    "wm_ds_omega_surf_slt = (term_names[3]/term_names[3].std('time')).drop(['month', 'time_snp'])\n",
    "wm_ds_omega_surf_th = (term_names[4]/term_names[4].std('time')).drop(['month', 'time_snp'])\n",
    "wm_ds_omega_mix = (term_names[5]/term_names[5].std('time')).drop(['month', 'time_snp'])"
   ]
  },
  {
   "cell_type": "code",
   "execution_count": null,
   "metadata": {},
   "outputs": [],
   "source": [
    "wm_ds_dVdt"
   ]
  },
  {
   "cell_type": "markdown",
   "metadata": {},
   "source": [
    "## Visualize timeseries of wmt terms in wm classes, [seaice, sam, enso indices]"
   ]
  },
  {
   "cell_type": "raw",
   "metadata": {},
   "source": [
    "# For Visualization\n",
    "import panel as pn\n",
    "import holoviews as hv\n",
    "from holoviews import opts\n",
    "import geoviews as gv\n",
    "import param\n",
    "\n",
    "\n",
    "import pandas as pd\n",
    "import panel as pn\n",
    "import param as pm\n",
    "import hvplot.pandas\n",
    "\n",
    "## Import hvplot apis for xarray and pandas\n",
    "import hvplot.xarray\n",
    "import hvplot.pandas"
   ]
  },
  {
   "cell_type": "code",
   "execution_count": null,
   "metadata": {},
   "outputs": [],
   "source": [
    "# For Visualization\n",
    "import panel as pn\n",
    "import holoviews as hv\n",
    "from holoviews import opts\n",
    "import geoviews as gv\n",
    "\n",
    "import pandas as pd\n",
    "import param as pm\n",
    "\n",
    "## Import hvplot apis for xarray and pandas\n",
    "import hvplot.xarray\n",
    "import hvplot.pandas"
   ]
  },
  {
   "cell_type": "code",
   "execution_count": null,
   "metadata": {},
   "outputs": [],
   "source": [
    "wm_ds_dVdt.cdw.plot()"
   ]
  },
  {
   "cell_type": "code",
   "execution_count": null,
   "metadata": {},
   "outputs": [],
   "source": [
    "(wm_ds_dVdt.cdw/wm_ds_dVdt.cdw.std('time')).plot()"
   ]
  },
  {
   "cell_type": "code",
   "execution_count": null,
   "metadata": {},
   "outputs": [],
   "source": [
    "#dVdt\n",
    "show__dVdt1 = pn.widgets.Checkbox(name='CDW-dVdt')\n",
    "show__dVdt2 = pn.widgets.Checkbox(name='WSDW-dVdt')\n",
    "show__dVdt3 = pn.widgets.Checkbox(name='WSBW-dVdt')\n",
    "show__dVdt4 = pn.widgets.Checkbox(name='ISW-dVdt')\n",
    "\n",
    "dVdt_plot1 = wm_ds_dVdt.cdw.hvplot(ylabel='Sv', title= 'dVdt = Psi + Omega', grid=True)\n",
    "dVdt_plot2 = wm_ds_dVdt.wsdw.hvplot()\n",
    "dVdt_plot3 = wm_ds_dVdt.wsbw.hvplot()\n",
    "dVdt_plot4 = wm_ds_dVdt.isw.hvplot()\n",
    "\n",
    "#Psi\n",
    "show__psi1 = pn.widgets.Checkbox(name='CDW-psi')\n",
    "show__psi2 = pn.widgets.Checkbox(name='WSDW-psi')\n",
    "show__psi3 = pn.widgets.Checkbox(name='WSBW-psi')\n",
    "show__psi4 = pn.widgets.Checkbox(name='ISW-psi')\n",
    "\n",
    "psi_plot1 = wm_ds_psi_vel.cdw.hvplot()\n",
    "psi_plot2 = wm_ds_psi_vel.wsdw.hvplot()\n",
    "psi_plot3 = wm_ds_psi_vel.wsbw.hvplot()\n",
    "psi_plot4 = wm_ds_psi_vel.isw.hvplot()\n",
    "\n",
    "#omega\n",
    "show__omega1 = pn.widgets.Checkbox(name='CDW-omega')\n",
    "show__omega2 = pn.widgets.Checkbox(name='WSDW-omega')\n",
    "show__omega3 = pn.widgets.Checkbox(name='WSBW-omega')\n",
    "show__omega4 = pn.widgets.Checkbox(name='ISW-omega')\n",
    "\n",
    "omega_plot1 = wm_ds_omega_trans_rate.cdw.hvplot()\n",
    "omega_plot2 = wm_ds_omega_trans_rate.wsdw.hvplot()\n",
    "omega_plot3 = wm_ds_omega_trans_rate.wsbw.hvplot()\n",
    "omega_plot4 = wm_ds_omega_trans_rate.isw.hvplot()\n",
    "\n",
    "#omega_mix\n",
    "show__omega_mix1 = pn.widgets.Checkbox(name='CDW-omega_mix')\n",
    "show__omega_mix2 = pn.widgets.Checkbox(name='WSDW-omega_mix')\n",
    "show__omega_mix3 = pn.widgets.Checkbox(name='WSBW-omega_mix')\n",
    "show__omega_mix4 = pn.widgets.Checkbox(name='ISW-omega_mix')\n",
    "\n",
    "omega_mix_plot1 = wm_ds_omega_mix.cdw.hvplot()\n",
    "omega_mix_plot2 = wm_ds_omega_mix.wsdw.hvplot()\n",
    "omega_mix_plot3 = wm_ds_omega_mix.wsbw.hvplot()\n",
    "omega_mix_plot4 = wm_ds_omega_mix.isw.hvplot()\n",
    "\n",
    "#omega_surf_slt\n",
    "show__slt1 = pn.widgets.Checkbox(name='CDW-omega_surf_SLT')\n",
    "show__slt2 = pn.widgets.Checkbox(name='WSDW-omega_surf_SLT')\n",
    "show__slt3 = pn.widgets.Checkbox(name='WSBW-omega_surf_SLT')\n",
    "show__slt4 = pn.widgets.Checkbox(name='ISW-omega_surf_SLT')\n",
    "\n",
    "omega_slt_plot1 = wm_ds_omega_surf_slt.cdw.hvplot()\n",
    "omega_slt_plot2 = wm_ds_omega_surf_slt.wsdw.hvplot()\n",
    "omega_slt_plot3 = wm_ds_omega_surf_slt.wsbw.hvplot()\n",
    "omega_slt_plot4 = wm_ds_omega_surf_slt.isw.hvplot()\n",
    "\n",
    "#omega_surf_th\n",
    "show__th1 = pn.widgets.Checkbox(name='CDW-omega_surf_TH')\n",
    "show__th2 = pn.widgets.Checkbox(name='WSDW-omega_surf_TH')\n",
    "show__th3 = pn.widgets.Checkbox(name='WSBW-omega_surf_TH')\n",
    "show__th4 = pn.widgets.Checkbox(name='ISW-omega_surf_TH')\n",
    "\n",
    "omega_th_plot1 = wm_ds_omega_surf_th.cdw.hvplot()\n",
    "omega_th_plot2 = wm_ds_omega_surf_th.wsdw.hvplot()\n",
    "omega_th_plot3 = wm_ds_omega_surf_th.wsbw.hvplot()\n",
    "omega_th_plot4 = wm_ds_omega_surf_th.isw.hvplot()\n",
    "\n",
    "#Indices\n",
    "show__ENSO = pn.widgets.Checkbox(name='ENSO')\n",
    "show__SAM = pn.widgets.Checkbox(name='SAM')\n",
    "show__ECCO = pn.widgets.Checkbox(name='ECCO')\n",
    "\n",
    "enso_plot = enso_ecco_time.hvplot()\n",
    "sam_plot = sam_ecco_time.rename('zonal mean SLP anom').hvplot()\n",
    "ecco_plot = ecco.ecco_si_index.drop(['month', 'k']).hvplot()\n",
    "\n",
    "\n",
    "@pn.depends(show__dVdt1.param.value, show__dVdt2.param.value, show__dVdt3.param.value, show__dVdt4.param.value,\n",
    "            show__psi1.param.value, show__psi2.param.value, show__psi3.param.value, show__psi4.param.value,\n",
    "            show__omega1.param.value, show__omega2.param.value, show__omega3.param.value, show__omega4.param.value,\n",
    "            show__omega_mix1.param.value, show__omega_mix2.param.value, show__omega_mix3.param.value, show__omega_mix4.param.value,\n",
    "            show__slt1.param.value, show__slt2.param.value, show__slt3.param.value, show__slt4.param.value,\n",
    "            show__th1.param.value, show__th2.param.value, show__th3.param.value, show__th4.param.value,\n",
    "            show__ENSO.param.value, show__ECCO.param.value, show__SAM.param.value)\n",
    "\n",
    "\n",
    "def get_plot(dVdt1, dVdt2, dVdt3, dVdt4,\n",
    "             psi1, psi2, psi3, psi4,\n",
    "             omega1, omega2, omega3, omega4,\n",
    "             omega_mix1, omega_mix2, omega_mix3, omega_mix4,\n",
    "             omega_slt1, omega_slt2, omega_slt3, omega_slt4,\n",
    "             omega_th1, omega_th2, omega_th3, omega_th4, enso, ecco, sam):\n",
    "    return (dVdt_plot1.opts(alpha=0.9*dVdt1)*dVdt_plot2.opts(alpha=0.9*dVdt2)*dVdt_plot3.opts(alpha=0.9*dVdt3)*dVdt_plot4.opts(alpha=0.9*dVdt4)*\n",
    "            psi_plot1.opts(alpha=0.9*psi1)*psi_plot2.opts(alpha=0.9*psi2)*psi_plot3.opts(alpha=0.9*psi3)*psi_plot4.opts(alpha=0.9*psi4)*\n",
    "            omega_plot1.opts(alpha=0.9*omega1)*omega_plot2.opts(alpha=0.9*omega2)*omega_plot3.opts(alpha=0.9*omega3)*omega_plot4.opts(alpha=0.9*omega4)\n",
    "            *omega_mix_plot1.opts(alpha=0.9*omega_mix1)*omega_mix_plot2.opts(alpha=0.9*omega_mix2)*\n",
    "            omega_mix_plot3.opts(alpha=0.9*omega_mix3)*omega_mix_plot4.opts(alpha=0.9*omega_mix4)*\n",
    "            omega_slt_plot1.opts(alpha=0.9*omega_slt1)*omega_slt_plot2.opts(alpha=0.9*omega_slt2)*\n",
    "            omega_slt_plot3.opts(alpha=0.9*omega_slt3)*omega_slt_plot4.opts(alpha=0.9*omega_slt4)*\n",
    "            omega_th_plot1.opts(alpha=0.9*omega_th1)*omega_th_plot2.opts(alpha=0.9*omega_th2)*\n",
    "            omega_th_plot3.opts(alpha=0.9*omega_th3)*omega_th_plot4.opts(alpha=0.9*omega_th4)*\n",
    "            enso_plot.opts(alpha=0.9*enso)*ecco_plot.opts(alpha=0.9*ecco)*sam_plot.opts(alpha=0.9*sam))"
   ]
  },
  {
   "cell_type": "code",
   "execution_count": null,
   "metadata": {},
   "outputs": [],
   "source": [
    "pn.Row(pn.Column(show__dVdt1, show__dVdt2, show__dVdt3, show__dVdt4, \n",
    "                 show__psi1, show__psi2, show__psi3, show__psi4,\n",
    "                 show__omega1, show__omega2, show__omega3, show__omega4,\n",
    "                 show__omega_mix1, show__omega_mix2, show__omega_mix3, show__omega_mix4,\n",
    "                 show__slt1, show__slt2, show__slt3, show__slt4,\n",
    "                 show__th1, show__th2, show__th3, show__th4, show__ENSO, show__ECCO, show__SAM,\n",
    "                 width=150, max_height=250, height_policy='max', scroll=True), \n",
    "                 get_plot, scroll=True)"
   ]
  },
  {
   "cell_type": "code",
   "execution_count": null,
   "metadata": {},
   "outputs": [],
   "source": []
  },
  {
   "cell_type": "code",
   "execution_count": null,
   "metadata": {},
   "outputs": [],
   "source": []
  },
  {
   "cell_type": "code",
   "execution_count": null,
   "metadata": {},
   "outputs": [],
   "source": []
  },
  {
   "cell_type": "code",
   "execution_count": null,
   "metadata": {},
   "outputs": [],
   "source": []
  },
  {
   "cell_type": "code",
   "execution_count": null,
   "metadata": {},
   "outputs": [],
   "source": []
  },
  {
   "cell_type": "code",
   "execution_count": null,
   "metadata": {},
   "outputs": [],
   "source": []
  },
  {
   "cell_type": "code",
   "execution_count": null,
   "metadata": {},
   "outputs": [],
   "source": []
  },
  {
   "cell_type": "markdown",
   "metadata": {},
   "source": [
    "## Turn wmt terms and indices into dataframes for `pd.corr()` heatmap of correlation matrix"
   ]
  },
  {
   "cell_type": "code",
   "execution_count": null,
   "metadata": {},
   "outputs": [],
   "source": [
    "wm_ds_dVdt"
   ]
  },
  {
   "cell_type": "code",
   "execution_count": null,
   "metadata": {},
   "outputs": [],
   "source": [
    "wm_ds_dVdt.time"
   ]
  },
  {
   "cell_type": "code",
   "execution_count": null,
   "metadata": {},
   "outputs": [],
   "source": [
    "dVdt_df = wm_ds_dVdt.to_dataframe()\n",
    "psi_df = wm_ds_psi_vel.to_dataframe()\n",
    "omega_df = wm_ds_omega_trans_rate.to_dataframe()\n",
    "omega_mix_df = wm_ds_omega_mix.to_dataframe()\n",
    "omega_slt_df = wm_ds_omega_surf_slt.to_dataframe()\n",
    "omega_th_df = wm_ds_omega_surf_th.to_dataframe()\n",
    "dVdt_df.head()"
   ]
  },
  {
   "cell_type": "code",
   "execution_count": null,
   "metadata": {},
   "outputs": [],
   "source": [
    "dVdt_df.index"
   ]
  },
  {
   "cell_type": "code",
   "execution_count": null,
   "metadata": {},
   "outputs": [],
   "source": [
    "windstress_curl_index"
   ]
  },
  {
   "cell_type": "code",
   "execution_count": null,
   "metadata": {},
   "outputs": [],
   "source": [
    "enso_ecco_time"
   ]
  },
  {
   "cell_type": "code",
   "execution_count": null,
   "metadata": {},
   "outputs": [],
   "source": [
    "indices = xr.merge([sam_ecco_time.rename('sam'), enso_ecco_time.rename('enso'), \n",
    "                    ecco.ecco_si_index.rename('ecco'), \n",
    "                    windstress_curl_index.rename('windstress_curl')]).drop(['month', 'k'])\n",
    "indices"
   ]
  },
  {
   "cell_type": "code",
   "execution_count": null,
   "metadata": {},
   "outputs": [],
   "source": [
    "indices_df = indices.to_dataframe()\n",
    "indices_df.head()"
   ]
  },
  {
   "cell_type": "code",
   "execution_count": null,
   "metadata": {},
   "outputs": [],
   "source": [
    "corr_indices = indices_df.corr()\n",
    "corr_indices"
   ]
  },
  {
   "cell_type": "code",
   "execution_count": null,
   "metadata": {},
   "outputs": [],
   "source": [
    "pd.concat([dVdt_df, indices_df], axis=1).head()"
   ]
  },
  {
   "cell_type": "code",
   "execution_count": null,
   "metadata": {},
   "outputs": [],
   "source": [
    "dVdt_ind = pd.concat([dVdt_df, indices_df], axis=1)\n",
    "psi_ind = pd.concat([psi_df, indices_df], axis=1)\n",
    "omega_ind = pd.concat([omega_df, indices_df], axis=1)\n",
    "omega_mix_ind = pd.concat([omega_mix_df, indices_df], axis=1)\n",
    "omega_slt_ind = pd.concat([omega_slt_df, indices_df], axis=1)\n",
    "omega_th_ind = pd.concat([omega_th_df, indices_df], axis=1)"
   ]
  },
  {
   "cell_type": "code",
   "execution_count": null,
   "metadata": {},
   "outputs": [],
   "source": [
    "omega_th_ind.head()"
   ]
  },
  {
   "cell_type": "code",
   "execution_count": null,
   "metadata": {},
   "outputs": [],
   "source": [
    "dVdt_corr = dVdt_ind.corr()\n",
    "psi_corr = psi_ind.corr()\n",
    "omega_corr = omega_ind.corr()\n",
    "omega_mix_corr = omega_mix_ind.corr()\n",
    "omega_slt_corr = omega_slt_ind.corr()\n",
    "omega_th_corr = omega_th_ind.corr()"
   ]
  },
  {
   "cell_type": "markdown",
   "metadata": {},
   "source": [
    "### Create heatmap of correlation matrices"
   ]
  },
  {
   "cell_type": "code",
   "execution_count": null,
   "metadata": {},
   "outputs": [],
   "source": [
    "import seaborn as sn"
   ]
  },
  {
   "cell_type": "code",
   "execution_count": null,
   "metadata": {},
   "outputs": [],
   "source": [
    "fig, ax = plt.subplots(2,3, figsize=(20,8), sharex=True, sharey=True)\n",
    "\n",
    "sn.heatmap(dVdt_corr, annot=True, ax=ax[0,0])\n",
    "ax[0,0].set_title(r'Correlation - $\\frac{dV}{dt}$')\n",
    "\n",
    "sn.heatmap(psi_corr, annot=True, ax=ax[0,1])\n",
    "ax[0,1].set_title(r'Correlation - $\\Psi$')\n",
    "\n",
    "sn.heatmap(omega_corr, annot=True, ax=ax[0,2])\n",
    "ax[0,2].set_title(r'Correlation - $\\Omega$')\n",
    "\n",
    "sn.heatmap(omega_slt_corr, annot=True, ax=ax[1,0])\n",
    "ax[1,0].set_title(r'Correlation - $\\Omega_{surf-slt}$')\n",
    "\n",
    "sn.heatmap(omega_th_corr, annot=True, ax=ax[1,1])\n",
    "ax[1,1].set_title(r'Correlation - $\\Omega_{surf-th}$')\n",
    "\n",
    "sn.heatmap(omega_mix_corr, annot=True, ax=ax[1,2])\n",
    "ax[1,2].set_title(r'Correlation - $\\Omega_{mix}$');"
   ]
  },
  {
   "cell_type": "raw",
   "metadata": {},
   "source": [
    "fig, (ax0,ax1) = plt.subplots(1,2, figsize=(12,4))\n",
    "\n",
    "R1_anom_rolled = anom(anom_ds.R1)/1e6\n",
    "r1 = ax0.pcolormesh(R1_anom_rolled.time, R1_anom_rolled.sigma2_bin, \n",
    "                        R1_anom_rolled.T, vmin=-12, vmax=12, cmap='seismic')\n",
    "plt.colorbar(r1, shrink=0.8, label=r'Sverdrup [m$^3$ s$^{-1}$]', ax=ax0)\n",
    "ax0.set_ylabel(r'$\\sigma$ [kg m$^{-3}$]', fontsize=12)\n",
    "ax0.set_xlabel('Time', fontsize=13)\n",
    "ax0.set_title(r'R1', fontsize=20)\n",
    "ax0.set_ylim(1037.3, 1035)\n",
    "ax0.set_xticks(R1_anom_rolled.time.values[year_start_index])\n",
    "ax0.set_xticklabels(np.arange(2006, 2011))\n",
    "ax0.grid()\n",
    "\n",
    "R2_anom_rolled = anom(anom_ds.R2)/1e6\n",
    "r2 = ax1.pcolormesh(R2_anom_rolled.time, R2_anom_rolled.sigma2_bin, \n",
    "                        R2_anom_rolled.T, vmin=-12, vmax=12, cmap='seismic')\n",
    "plt.colorbar(r2, shrink=0.8, label=r'Sverdrup [m$^3$ s$^{-1}$]', ax=ax1)\n",
    "ax1.set_ylabel(r'$\\sigma$ [kg m$^{-3}$]', fontsize=12)\n",
    "ax1.set_xlabel('Time', fontsize=13)\n",
    "ax1.set_title(r'R2', fontsize=20)\n",
    "ax1.set_ylim(1037.3, 1035)\n",
    "ax1.set_xticks(R2_anom_rolled.time.values[year_start_index])\n",
    "ax1.set_xticklabels(np.arange(2006, 2011))\n",
    "ax1.grid()\n",
    "\n",
    "plt.tight_layout();"
   ]
  },
  {
   "cell_type": "raw",
   "metadata": {},
   "source": [
    "seaice = xr.open_zarr(gcsfs.GCSMap('pangeo-tmp/stb2145/ECCO/datasets/seaice.zarr')).load()"
   ]
  },
  {
   "cell_type": "raw",
   "metadata": {},
   "source": [
    "seaice"
   ]
  },
  {
   "cell_type": "raw",
   "metadata": {},
   "source": [
    "seaice_sose = seaice.sel(time=slice('2006', '2010'))"
   ]
  },
  {
   "cell_type": "raw",
   "metadata": {},
   "source": [
    "seaice_sose"
   ]
  },
  {
   "cell_type": "raw",
   "metadata": {},
   "source": [
    "seaice_sose.SIarea[30].plot()"
   ]
  },
  {
   "cell_type": "raw",
   "metadata": {},
   "source": [
    "seaice_anom = anom(seaice_sose.SIarea)"
   ]
  },
  {
   "cell_type": "raw",
   "metadata": {},
   "source": [
    "seaice_anom"
   ]
  },
  {
   "cell_type": "raw",
   "metadata": {},
   "source": [
    "seaice_anom.sum(['i','j']).plot()\n",
    "plt.title('')#, fontsize=20)\n",
    "plt.ylabel(r'Sea ice concentration [m$^2$ m$^2$]');"
   ]
  },
  {
   "cell_type": "code",
   "execution_count": null,
   "metadata": {},
   "outputs": [],
   "source": []
  }
 ],
 "metadata": {
  "kernelspec": {
   "display_name": "Python 3 (ipykernel)",
   "language": "python",
   "name": "python3"
  },
  "language_info": {
   "codemirror_mode": {
    "name": "ipython",
    "version": 3
   },
   "file_extension": ".py",
   "mimetype": "text/x-python",
   "name": "python",
   "nbconvert_exporter": "python",
   "pygments_lexer": "ipython3",
   "version": "3.8.12"
  }
 },
 "nbformat": 4,
 "nbformat_minor": 4
}
