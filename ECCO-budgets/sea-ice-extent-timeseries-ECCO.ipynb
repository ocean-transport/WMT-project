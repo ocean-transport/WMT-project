{
 "cells": [
  {
   "cell_type": "markdown",
   "id": "89880f12-4ecd-464a-8223-1044143d9057",
   "metadata": {},
   "source": [
    "# Sea Ice Extent Timeseries\n",
    "## **ECCO**"
   ]
  },
  {
   "cell_type": "code",
   "execution_count": 1,
   "id": "6670fbde-7f78-4c4e-967b-73f8a88e8b06",
   "metadata": {},
   "outputs": [],
   "source": [
    "from dask_gateway import Gateway\n",
    "g = Gateway()\n",
    "cluster = g.connect(g.list_clusters()[0].name)\n",
    "client = cluster.get_client()"
   ]
  },
  {
   "cell_type": "raw",
   "id": "9366b057-eafa-426b-9558-e46a54d91b8f",
   "metadata": {},
   "source": [
    "from dask_gateway import GatewayCluster\n",
    "\n",
    "cluster = GatewayCluster()\n",
    "cluster.scale(30)\n",
    "#cluster.adapt(minimum=2, maximum=10)  # or cluster.scale(n) to a fixed size.\n",
    "client = cluster.get_client()"
   ]
  },
  {
   "cell_type": "code",
   "execution_count": 2,
   "id": "35950daf-bcde-464b-acb9-89b4b7cf897e",
   "metadata": {},
   "outputs": [
    {
     "data": {
      "text/html": [
       "<table style=\"border: 2px solid white;\">\n",
       "<tr>\n",
       "<td style=\"vertical-align: top; border: 0px solid white\">\n",
       "<h3 style=\"text-align: left;\">Client</h3>\n",
       "<ul style=\"text-align: left; list-style: none; margin: 0; padding: 0;\">\n",
       "  <li><b>Scheduler: </b>gateway://traefik-gcp-uscentral1b-staging-dask-gateway.staging:80/staging.31b2fee6c187448cbe30012cb8b49b82</li>\n",
       "  <li><b>Dashboard: </b><a href='/services/dask-gateway/clusters/staging.31b2fee6c187448cbe30012cb8b49b82/status' target='_blank'>/services/dask-gateway/clusters/staging.31b2fee6c187448cbe30012cb8b49b82/status</a></li>\n",
       "</ul>\n",
       "</td>\n",
       "<td style=\"vertical-align: top; border: 0px solid white\">\n",
       "<h3 style=\"text-align: left;\">Cluster</h3>\n",
       "<ul style=\"text-align: left; list-style:none; margin: 0; padding: 0;\">\n",
       "  <li><b>Workers: </b>30</li>\n",
       "  <li><b>Cores: </b>60</li>\n",
       "  <li><b>Memory: </b>240.00 GiB</li>\n",
       "</ul>\n",
       "</td>\n",
       "</tr>\n",
       "</table>"
      ],
      "text/plain": [
       "<Client: 'tls://10.36.34.14:8786' processes=30 threads=60, memory=240.00 GiB>"
      ]
     },
     "execution_count": 2,
     "metadata": {},
     "output_type": "execute_result"
    }
   ],
   "source": [
    "client"
   ]
  },
  {
   "cell_type": "code",
   "execution_count": 18,
   "id": "b4e1f401-489d-470c-bbc3-07353157c350",
   "metadata": {},
   "outputs": [],
   "source": [
    "client.close()\n",
    "cluster.close()"
   ]
  },
  {
   "cell_type": "code",
   "execution_count": 1,
   "id": "d5b973c0-9854-4232-9322-bc5220e8aced",
   "metadata": {},
   "outputs": [],
   "source": [
    "import xarray as xr\n",
    "from matplotlib import pyplot as plt\n",
    "import gcsfs\n",
    "import dask\n",
    "import dask.array as dsa\n",
    "import numpy as np\n",
    "import intake\n",
    "import fsspec\n",
    "import xmitgcm\n",
    "from xhistogram.xarray import histogram\n",
    "from xmitgcm.llcreader.llcmodel import faces_dataset_to_latlon\n",
    "from fastjmd95 import jmd95numba"
   ]
  },
  {
   "cell_type": "code",
   "execution_count": 3,
   "id": "5f3af1d1-05b2-4606-b448-ec050ba986b5",
   "metadata": {},
   "outputs": [],
   "source": [
    "from intake import open_catalog\n",
    "\n",
    "cat = open_catalog(\"https://raw.githubusercontent.com/pangeo-data/pangeo-datastore/master/intake-catalogs/ocean.yaml\")\n",
    "ds  = cat[\"ECCOv4r3\"].to_dask()"
   ]
  },
  {
   "cell_type": "code",
   "execution_count": 4,
   "id": "4e6efac6-dd82-4790-af4e-c44b622e3cdb",
   "metadata": {},
   "outputs": [],
   "source": [
    "ds_ll = faces_dataset_to_latlon(ds)"
   ]
  },
  {
   "cell_type": "code",
   "execution_count": 5,
   "id": "da7c22f4-db10-48f7-a511-c21a851b7292",
   "metadata": {},
   "outputs": [
    {
     "name": "stderr",
     "output_type": "stream",
     "text": [
      "<ipython-input-5-db7afb74131b>:2: FutureWarning: roll_coords will be set to False in the future. Explicitly set roll_coords to silence warning.\n",
      "  coords_before_drop = ds_ll.coords.to_dataset().reset_coords().roll(i=50, i_g=50)\n",
      "<ipython-input-5-db7afb74131b>:3: FutureWarning: roll_coords will be set to False in the future. Explicitly set roll_coords to silence warning.\n",
      "  ds_before_drop = ds_ll.reset_coords(drop=True).roll(i=50, i_g=50)\n"
     ]
    }
   ],
   "source": [
    "# a trick to make things work a bit faster\n",
    "coords_before_drop = ds_ll.coords.to_dataset().reset_coords().roll(i=50, i_g=50)\n",
    "ds_before_drop = ds_ll.reset_coords(drop=True).roll(i=50, i_g=50)"
   ]
  },
  {
   "cell_type": "code",
   "execution_count": 6,
   "id": "cf0babb4-a753-4f05-885b-b9d7ff7701a2",
   "metadata": {},
   "outputs": [],
   "source": [
    "coords = coords_before_drop.drop(['i', 'j', 'i_g', 'j_g', 'k_u', 'k_l', 'k_p1'])\n",
    "ds = ds_before_drop.drop(['i', 'j', 'i_g', 'j_g', 'k_u', 'k_l', 'k_p1'])"
   ]
  },
  {
   "cell_type": "code",
   "execution_count": 7,
   "id": "416d4f9c-fa78-404e-afe5-b941d92faa95",
   "metadata": {},
   "outputs": [],
   "source": [
    "#WG boundaries (65˚W, 30˚E; 80˚S, 62˚S)\n",
    "left_lon = 23 #~-64.5˚ #used to be 20\n",
    "right_lon = 118 #30.5˚ #used to be 115\n",
    "lower_lat = 30 #~-80˚ #used to be 38\n",
    "upper_lat = 80 #-61.755745˚ instead of #79:-62.216576˚ to fill upper projection plot row\n",
    "j_g_upper = 81\n",
    "i_g_right = 119\n",
    "i_g_left = 22"
   ]
  },
  {
   "cell_type": "code",
   "execution_count": 8,
   "id": "8b5a29b5-fc85-4e54-b455-4713e8c0c17c",
   "metadata": {},
   "outputs": [],
   "source": [
    "#set the boundaries\n",
    "lat_range = dict(j=slice(lower_lat, upper_lat), j_g=slice(lower_lat, j_g_upper))\n",
    "lon_range = dict(i=slice(left_lon, right_lon), i_g=slice(left_lon, i_g_right))"
   ]
  },
  {
   "cell_type": "code",
   "execution_count": 9,
   "id": "e713b212-fd51-4c43-932d-512cdaf90679",
   "metadata": {},
   "outputs": [],
   "source": [
    "#set the boundaries\n",
    "lat_range_noface = dict(j=slice(lower_lat, upper_lat))\n",
    "lon_range_noface = dict(i=slice(left_lon, right_lon))"
   ]
  },
  {
   "cell_type": "code",
   "execution_count": 12,
   "id": "1dc93917-734e-4467-9340-1ce9675c35f0",
   "metadata": {},
   "outputs": [
    {
     "data": {
      "text/plain": [
       "<matplotlib.collections.QuadMesh at 0x7f713eacac10>"
      ]
     },
     "execution_count": 12,
     "metadata": {},
     "output_type": "execute_result"
    },
    {
     "data": {
      "image/png": "[encoded data removed]",
      "text/plain": [
       "<Figure size 432x288 with 2 Axes>"
      ]
     },
     "metadata": {
      "needs_background": "light"
     },
     "output_type": "display_data"
    }
   ],
   "source": [
    "#testing to see if correctly sliced desired region\n",
    "sst_mean = ds.THETA.sel(**lat_range_noface, **lon_range_noface).sel(k=0).mean(dim='time')\n",
    "surface_mask = (coords.hFacC[0].isel(**lat_range_noface, **lon_range_noface)>0)\n",
    "sst_mean.where(surface_mask).plot()"
   ]
  },
  {
   "cell_type": "code",
   "execution_count": 14,
   "id": "2d94e4f4-30c6-4e37-beab-fbb2f8be0991",
   "metadata": {},
   "outputs": [
    {
     "data": {
      "text/html": [
       "<div><svg style=\"position: absolute; width: 0; height: 0; overflow: hidden\">\n",
       "<defs>\n",
       "<symbol id=\"icon-database\" viewBox=\"0 0 32 32\">\n",
       "<path d=\"M16 0c-8.837 0-16 2.239-16 5v4c0 2.761 7.163 5 16 5s16-2.239 16-5v-4c0-2.761-7.163-5-16-5z\"></path>\n",
       "<path d=\"M16 17c-8.837 0-16-2.239-16-5v6c0 2.761 7.163 5 16 5s16-2.239 16-5v-6c0 2.761-7.163 5-16 5z\"></path>\n",
       "<path d=\"M16 26c-8.837 0-16-2.239-16-5v6c0 2.761 7.163 5 16 5s16-2.239 16-5v-6c0 2.761-7.163 5-16 5z\"></path>\n",
       "</symbol>\n",
       "<symbol id=\"icon-file-text2\" viewBox=\"0 0 32 32\">\n",
       "<path d=\"M28.681 7.159c-0.694-0.947-1.662-2.053-2.724-3.116s-2.169-2.030-3.116-2.724c-1.612-1.182-2.393-1.319-2.841-1.319h-15.5c-1.378 0-2.5 1.121-2.5 2.5v27c0 1.378 1.122 2.5 2.5 2.5h23c1.378 0 2.5-1.122 2.5-2.5v-19.5c0-0.448-0.137-1.23-1.319-2.841zM24.543 5.457c0.959 0.959 1.712 1.825 2.268 2.543h-4.811v-4.811c0.718 0.556 1.584 1.309 2.543 2.268zM28 29.5c0 0.271-0.229 0.5-0.5 0.5h-23c-0.271 0-0.5-0.229-0.5-0.5v-27c0-0.271 0.229-0.5 0.5-0.5 0 0 15.499-0 15.5 0v7c0 0.552 0.448 1 1 1h7v19.5z\"></path>\n",
       "<path d=\"M23 26h-14c-0.552 0-1-0.448-1-1s0.448-1 1-1h14c0.552 0 1 0.448 1 1s-0.448 1-1 1z\"></path>\n",
       "<path d=\"M23 22h-14c-0.552 0-1-0.448-1-1s0.448-1 1-1h14c0.552 0 1 0.448 1 1s-0.448 1-1 1z\"></path>\n",
       "<path d=\"M23 18h-14c-0.552 0-1-0.448-1-1s0.448-1 1-1h14c0.552 0 1 0.448 1 1s-0.448 1-1 1z\"></path>\n",
       "</symbol>\n",
       "</defs>\n",
       "</svg>\n",
       "<style>/* CSS stylesheet for displaying xarray objects in jupyterlab.\n",
       " *\n",
       " */\n",
       "\n",
       ":root {\n",
       "  --xr-font-color0: var(--jp-content-font-color0, rgba(0, 0, 0, 1));\n",
       "  --xr-font-color2: var(--jp-content-font-color2, rgba(0, 0, 0, 0.54));\n",
       "  --xr-font-color3: var(--jp-content-font-color3, rgba(0, 0, 0, 0.38));\n",
       "  --xr-border-color: var(--jp-border-color2, #e0e0e0);\n",
       "  --xr-disabled-color: var(--jp-layout-color3, #bdbdbd);\n",
       "  --xr-background-color: var(--jp-layout-color0, white);\n",
       "  --xr-background-color-row-even: var(--jp-layout-color1, white);\n",
       "  --xr-background-color-row-odd: var(--jp-layout-color2, #eeeeee);\n",
       "}\n",
       "\n",
       "html[theme=dark],\n",
       "body.vscode-dark {\n",
       "  --xr-font-color0: rgba(255, 255, 255, 1);\n",
       "  --xr-font-color2: rgba(255, 255, 255, 0.54);\n",
       "  --xr-font-color3: rgba(255, 255, 255, 0.38);\n",
       "  --xr-border-color: #1F1F1F;\n",
       "  --xr-disabled-color: #515151;\n",
       "  --xr-background-color: #111111;\n",
       "  --xr-background-color-row-even: #111111;\n",
       "  --xr-background-color-row-odd: #313131;\n",
       "}\n",
       "\n",
       ".xr-wrap {\n",
       "  display: block;\n",
       "  min-width: 300px;\n",
       "  max-width: 700px;\n",
       "}\n",
       "\n",
       ".xr-text-repr-fallback {\n",
       "  /* fallback to plain text repr when CSS is not injected (untrusted notebook) */\n",
       "  display: none;\n",
       "}\n",
       "\n",
       ".xr-header {\n",
       "  padding-top: 6px;\n",
       "  padding-bottom: 6px;\n",
       "  margin-bottom: 4px;\n",
       "  border-bottom: solid 1px var(--xr-border-color);\n",
       "}\n",
       "\n",
       ".xr-header > div,\n",
       ".xr-header > ul {\n",
       "  display: inline;\n",
       "  margin-top: 0;\n",
       "  margin-bottom: 0;\n",
       "}\n",
       "\n",
       ".xr-obj-type,\n",
       ".xr-array-name {\n",
       "  margin-left: 2px;\n",
       "  margin-right: 10px;\n",
       "}\n",
       "\n",
       ".xr-obj-type {\n",
       "  color: var(--xr-font-color2);\n",
       "}\n",
       "\n",
       ".xr-sections {\n",
       "  padding-left: 0 !important;\n",
       "  display: grid;\n",
       "  grid-template-columns: 150px auto auto 1fr 20px 20px;\n",
       "}\n",
       "\n",
       ".xr-section-item {\n",
       "  display: contents;\n",
       "}\n",
       "\n",
       ".xr-section-item input {\n",
       "  display: none;\n",
       "}\n",
       "\n",
       ".xr-section-item input + label {\n",
       "  color: var(--xr-disabled-color);\n",
       "}\n",
       "\n",
       ".xr-section-item input:enabled + label {\n",
       "  cursor: pointer;\n",
       "  color: var(--xr-font-color2);\n",
       "}\n",
       "\n",
       ".xr-section-item input:enabled + label:hover {\n",
       "  color: var(--xr-font-color0);\n",
       "}\n",
       "\n",
       ".xr-section-summary {\n",
       "  grid-column: 1;\n",
       "  color: var(--xr-font-color2);\n",
       "  font-weight: 500;\n",
       "}\n",
       "\n",
       ".xr-section-summary > span {\n",
       "  display: inline-block;\n",
       "  padding-left: 0.5em;\n",
       "}\n",
       "\n",
       ".xr-section-summary-in:disabled + label {\n",
       "  color: var(--xr-font-color2);\n",
       "}\n",
       "\n",
       ".xr-section-summary-in + label:before {\n",
       "  display: inline-block;\n",
       "  content: '►';\n",
       "  font-size: 11px;\n",
       "  width: 15px;\n",
       "  text-align: center;\n",
       "}\n",
       "\n",
       ".xr-section-summary-in:disabled + label:before {\n",
       "  color: var(--xr-disabled-color);\n",
       "}\n",
       "\n",
       ".xr-section-summary-in:checked + label:before {\n",
       "  content: '▼';\n",
       "}\n",
       "\n",
       ".xr-section-summary-in:checked + label > span {\n",
       "  display: none;\n",
       "}\n",
       "\n",
       ".xr-section-summary,\n",
       ".xr-section-inline-details {\n",
       "  padding-top: 4px;\n",
       "  padding-bottom: 4px;\n",
       "}\n",
       "\n",
       ".xr-section-inline-details {\n",
       "  grid-column: 2 / -1;\n",
       "}\n",
       "\n",
       ".xr-section-details {\n",
       "  display: none;\n",
       "  grid-column: 1 / -1;\n",
       "  margin-bottom: 5px;\n",
       "}\n",
       "\n",
       ".xr-section-summary-in:checked ~ .xr-section-details {\n",
       "  display: contents;\n",
       "}\n",
       "\n",
       ".xr-array-wrap {\n",
       "  grid-column: 1 / -1;\n",
       "  display: grid;\n",
       "  grid-template-columns: 20px auto;\n",
       "}\n",
       "\n",
       ".xr-array-wrap > label {\n",
       "  grid-column: 1;\n",
       "  vertical-align: top;\n",
       "}\n",
       "\n",
       ".xr-preview {\n",
       "  color: var(--xr-font-color3);\n",
       "}\n",
       "\n",
       ".xr-array-preview,\n",
       ".xr-array-data {\n",
       "  padding: 0 5px !important;\n",
       "  grid-column: 2;\n",
       "}\n",
       "\n",
       ".xr-array-data,\n",
       ".xr-array-in:checked ~ .xr-array-preview {\n",
       "  display: none;\n",
       "}\n",
       "\n",
       ".xr-array-in:checked ~ .xr-array-data,\n",
       ".xr-array-preview {\n",
       "  display: inline-block;\n",
       "}\n",
       "\n",
       ".xr-dim-list {\n",
       "  display: inline-block !important;\n",
       "  list-style: none;\n",
       "  padding: 0 !important;\n",
       "  margin: 0;\n",
       "}\n",
       "\n",
       ".xr-dim-list li {\n",
       "  display: inline-block;\n",
       "  padding: 0;\n",
       "  margin: 0;\n",
       "}\n",
       "\n",
       ".xr-dim-list:before {\n",
       "  content: '(';\n",
       "}\n",
       "\n",
       ".xr-dim-list:after {\n",
       "  content: ')';\n",
       "}\n",
       "\n",
       ".xr-dim-list li:not(:last-child):after {\n",
       "  content: ',';\n",
       "  padding-right: 5px;\n",
       "}\n",
       "\n",
       ".xr-has-index {\n",
       "  font-weight: bold;\n",
       "}\n",
       "\n",
       ".xr-var-list,\n",
       ".xr-var-item {\n",
       "  display: contents;\n",
       "}\n",
       "\n",
       ".xr-var-item > div,\n",
       ".xr-var-item label,\n",
       ".xr-var-item > .xr-var-name span {\n",
       "  background-color: var(--xr-background-color-row-even);\n",
       "  margin-bottom: 0;\n",
       "}\n",
       "\n",
       ".xr-var-item > .xr-var-name:hover span {\n",
       "  padding-right: 5px;\n",
       "}\n",
       "\n",
       ".xr-var-list > li:nth-child(odd) > div,\n",
       ".xr-var-list > li:nth-child(odd) > label,\n",
       ".xr-var-list > li:nth-child(odd) > .xr-var-name span {\n",
       "  background-color: var(--xr-background-color-row-odd);\n",
       "}\n",
       "\n",
       ".xr-var-name {\n",
       "  grid-column: 1;\n",
       "}\n",
       "\n",
       ".xr-var-dims {\n",
       "  grid-column: 2;\n",
       "}\n",
       "\n",
       ".xr-var-dtype {\n",
       "  grid-column: 3;\n",
       "  text-align: right;\n",
       "  color: var(--xr-font-color2);\n",
       "}\n",
       "\n",
       ".xr-var-preview {\n",
       "  grid-column: 4;\n",
       "}\n",
       "\n",
       ".xr-var-name,\n",
       ".xr-var-dims,\n",
       ".xr-var-dtype,\n",
       ".xr-preview,\n",
       ".xr-attrs dt {\n",
       "  white-space: nowrap;\n",
       "  overflow: hidden;\n",
       "  text-overflow: ellipsis;\n",
       "  padding-right: 10px;\n",
       "}\n",
       "\n",
       ".xr-var-name:hover,\n",
       ".xr-var-dims:hover,\n",
       ".xr-var-dtype:hover,\n",
       ".xr-attrs dt:hover {\n",
       "  overflow: visible;\n",
       "  width: auto;\n",
       "  z-index: 1;\n",
       "}\n",
       "\n",
       ".xr-var-attrs,\n",
       ".xr-var-data {\n",
       "  display: none;\n",
       "  background-color: var(--xr-background-color) !important;\n",
       "  padding-bottom: 5px !important;\n",
       "}\n",
       "\n",
       ".xr-var-attrs-in:checked ~ .xr-var-attrs,\n",
       ".xr-var-data-in:checked ~ .xr-var-data {\n",
       "  display: block;\n",
       "}\n",
       "\n",
       ".xr-var-data > table {\n",
       "  float: right;\n",
       "}\n",
       "\n",
       ".xr-var-name span,\n",
       ".xr-var-data,\n",
       ".xr-attrs {\n",
       "  padding-left: 25px !important;\n",
       "}\n",
       "\n",
       ".xr-attrs,\n",
       ".xr-var-attrs,\n",
       ".xr-var-data {\n",
       "  grid-column: 1 / -1;\n",
       "}\n",
       "\n",
       "dl.xr-attrs {\n",
       "  padding: 0;\n",
       "  margin: 0;\n",
       "  display: grid;\n",
       "  grid-template-columns: 125px auto;\n",
       "}\n",
       "\n",
       ".xr-attrs dt,\n",
       ".xr-attrs dd {\n",
       "  padding: 0;\n",
       "  margin: 0;\n",
       "  float: left;\n",
       "  padding-right: 10px;\n",
       "  width: auto;\n",
       "}\n",
       "\n",
       ".xr-attrs dt {\n",
       "  font-weight: normal;\n",
       "  grid-column: 1;\n",
       "}\n",
       "\n",
       ".xr-attrs dt:hover span {\n",
       "  display: inline-block;\n",
       "  background: var(--xr-background-color);\n",
       "  padding-right: 10px;\n",
       "}\n",
       "\n",
       ".xr-attrs dd {\n",
       "  grid-column: 2;\n",
       "  white-space: pre-wrap;\n",
       "  word-break: break-all;\n",
       "}\n",
       "\n",
       ".xr-icon-database,\n",
       ".xr-icon-file-text2 {\n",
       "  display: inline-block;\n",
       "  vertical-align: middle;\n",
       "  width: 1em;\n",
       "  height: 1.5em !important;\n",
       "  stroke-width: 0;\n",
       "  stroke: currentColor;\n",
       "  fill: currentColor;\n",
       "}\n",
       "</style><pre class='xr-text-repr-fallback'>&lt;xarray.DataArray &#x27;time&#x27; (time: 288)&gt;\n",
       "array([&#x27;1992-01-15T00:00:00.000000000&#x27;, &#x27;1992-02-13T00:00:00.000000000&#x27;,\n",
       "       &#x27;1992-03-15T00:00:00.000000000&#x27;, ..., &#x27;2015-10-15T00:00:00.000000000&#x27;,\n",
       "       &#x27;2015-11-14T00:00:00.000000000&#x27;, &#x27;2015-12-14T00:00:00.000000000&#x27;],\n",
       "      dtype=&#x27;datetime64[ns]&#x27;)\n",
       "Coordinates:\n",
       "  * time     (time) datetime64[ns] 1992-01-15 1992-02-13 ... 2015-12-14\n",
       "Attributes:\n",
       "    axis:           T\n",
       "    long_name:      Time\n",
       "    standard_name:  time</pre><div class='xr-wrap' hidden><div class='xr-header'><div class='xr-obj-type'>xarray.DataArray</div><div class='xr-array-name'>'time'</div><ul class='xr-dim-list'><li><span class='xr-has-index'>time</span>: 288</li></ul></div><ul class='xr-sections'><li class='xr-section-item'><div class='xr-array-wrap'><input id='section-d0f13736-952f-422a-862a-bb2690d8fa2f' class='xr-array-in' type='checkbox' checked><label for='section-d0f13736-952f-422a-862a-bb2690d8fa2f' title='Show/hide data repr'><svg class='icon xr-icon-database'><use xlink:href='#icon-database'></use></svg></label><div class='xr-array-preview xr-preview'><span>1992-01-15 1992-02-13 1992-03-15 ... 2015-10-15 2015-11-14 2015-12-14</span></div><div class='xr-array-data'><pre>array([&#x27;1992-01-15T00:00:00.000000000&#x27;, &#x27;1992-02-13T00:00:00.000000000&#x27;,\n",
       "       &#x27;1992-03-15T00:00:00.000000000&#x27;, ..., &#x27;2015-10-15T00:00:00.000000000&#x27;,\n",
       "       &#x27;2015-11-14T00:00:00.000000000&#x27;, &#x27;2015-12-14T00:00:00.000000000&#x27;],\n",
       "      dtype=&#x27;datetime64[ns]&#x27;)</pre></div></div></li><li class='xr-section-item'><input id='section-16df0dae-3289-4631-9819-a7ca6247cfef' class='xr-section-summary-in' type='checkbox'  checked><label for='section-16df0dae-3289-4631-9819-a7ca6247cfef' class='xr-section-summary' >Coordinates: <span>(1)</span></label><div class='xr-section-inline-details'></div><div class='xr-section-details'><ul class='xr-var-list'><li class='xr-var-item'><div class='xr-var-name'><span class='xr-has-index'>time</span></div><div class='xr-var-dims'>(time)</div><div class='xr-var-dtype'>datetime64[ns]</div><div class='xr-var-preview xr-preview'>1992-01-15 ... 2015-12-14</div><input id='attrs-9c497cc1-2dc7-4dfd-9fac-eedc3f1102b9' class='xr-var-attrs-in' type='checkbox' ><label for='attrs-9c497cc1-2dc7-4dfd-9fac-eedc3f1102b9' title='Show/Hide attributes'><svg class='icon xr-icon-file-text2'><use xlink:href='#icon-file-text2'></use></svg></label><input id='data-a7d91d9b-5a25-44b6-8801-34123cd115b1' class='xr-var-data-in' type='checkbox'><label for='data-a7d91d9b-5a25-44b6-8801-34123cd115b1' title='Show/Hide data repr'><svg class='icon xr-icon-database'><use xlink:href='#icon-database'></use></svg></label><div class='xr-var-attrs'><dl class='xr-attrs'><dt><span>axis :</span></dt><dd>T</dd><dt><span>long_name :</span></dt><dd>Time</dd><dt><span>standard_name :</span></dt><dd>time</dd></dl></div><div class='xr-var-data'><pre>array([&#x27;1992-01-15T00:00:00.000000000&#x27;, &#x27;1992-02-13T00:00:00.000000000&#x27;,\n",
       "       &#x27;1992-03-15T00:00:00.000000000&#x27;, ..., &#x27;2015-10-15T00:00:00.000000000&#x27;,\n",
       "       &#x27;2015-11-14T00:00:00.000000000&#x27;, &#x27;2015-12-14T00:00:00.000000000&#x27;],\n",
       "      dtype=&#x27;datetime64[ns]&#x27;)</pre></div></li></ul></div></li><li class='xr-section-item'><input id='section-8580e1f8-35c0-4ad6-a74b-bd279d013ae6' class='xr-section-summary-in' type='checkbox'  checked><label for='section-8580e1f8-35c0-4ad6-a74b-bd279d013ae6' class='xr-section-summary' >Attributes: <span>(3)</span></label><div class='xr-section-inline-details'></div><div class='xr-section-details'><dl class='xr-attrs'><dt><span>axis :</span></dt><dd>T</dd><dt><span>long_name :</span></dt><dd>Time</dd><dt><span>standard_name :</span></dt><dd>time</dd></dl></div></li></ul></div></div>"
      ],
      "text/plain": [
       "<xarray.DataArray 'time' (time: 288)>\n",
       "array(['1992-01-15T00:00:00.000000000', '1992-02-13T00:00:00.000000000',\n",
       "       '1992-03-15T00:00:00.000000000', ..., '2015-10-15T00:00:00.000000000',\n",
       "       '2015-11-14T00:00:00.000000000', '2015-12-14T00:00:00.000000000'],\n",
       "      dtype='datetime64[ns]')\n",
       "Coordinates:\n",
       "  * time     (time) datetime64[ns] 1992-01-15 1992-02-13 ... 2015-12-14\n",
       "Attributes:\n",
       "    axis:           T\n",
       "    long_name:      Time\n",
       "    standard_name:  time"
      ]
     },
     "execution_count": 14,
     "metadata": {},
     "output_type": "execute_result"
    }
   ],
   "source": [
    "ds.time"
   ]
  },
  {
   "cell_type": "code",
   "execution_count": 15,
   "id": "73ee4930-4d10-475a-89b3-f464d5ad5c55",
   "metadata": {},
   "outputs": [],
   "source": [
    "time = ds.time"
   ]
  },
  {
   "cell_type": "code",
   "execution_count": 16,
   "id": "5b198137-103d-48ae-890a-412c7b75f2af",
   "metadata": {},
   "outputs": [],
   "source": [
    "time.to_netcdf('time_pangeo')"
   ]
  },
  {
   "cell_type": "markdown",
   "id": "da2feac8-4ef6-4b2d-9104-dfa39fc7b005",
   "metadata": {},
   "source": [
    "## Saving Data"
   ]
  },
  {
   "cell_type": "code",
   "execution_count": 2,
   "id": "24cd2ccf-79c2-4d8a-b4bc-e6302a9bbcfd",
   "metadata": {},
   "outputs": [],
   "source": [
    "ice = xr.open_dataarray('sea-ice-ecco')"
   ]
  },
  {
   "cell_type": "code",
   "execution_count": 7,
   "id": "479a1b7a-c8c3-49f0-8f9f-0c5bf25a9cd2",
   "metadata": {},
   "outputs": [],
   "source": [
    "ice = ice.to_dataset()"
   ]
  },
  {
   "cell_type": "code",
   "execution_count": 4,
   "id": "1fc32ddd-535a-4562-9f3c-e2eb6ac7c240",
   "metadata": {},
   "outputs": [],
   "source": [
    "import json\n",
    "with open('/home/jovyan/WMT-project/pangeo-181919-f141378dc975.json') as token_file:\n",
    "    token = json.load(token_file)\n",
    "gcfs_w_token = gcsfs.GCSFileSystem(token=token)"
   ]
  },
  {
   "cell_type": "code",
   "execution_count": 8,
   "id": "cdc478a5-c7be-4753-99a8-323c14e47af8",
   "metadata": {},
   "outputs": [
    {
     "data": {
      "text/plain": [
       "<xarray.backends.zarr.ZarrStore at 0x7fc32ddaa8e0>"
      ]
     },
     "execution_count": 8,
     "metadata": {},
     "output_type": "execute_result"
    }
   ],
   "source": [
    "#uploading seaice \n",
    "gcsmap_seaice = gcfs_w_token.get_mapper('pangeo-tmp/stb2145/ECCO/datasets/seaice.zarr')\n",
    "ice.to_zarr(gcsmap_seaice, mode='w')"
   ]
  },
  {
   "cell_type": "code",
   "execution_count": null,
   "id": "b81665ed-5f26-4159-a3fb-25e35210dc1f",
   "metadata": {},
   "outputs": [],
   "source": []
  }
 ],
 "metadata": {
  "kernelspec": {
   "display_name": "Python 3",
   "language": "python",
   "name": "python3"
  },
  "language_info": {
   "codemirror_mode": {
    "name": "ipython",
    "version": 3
   },
   "file_extension": ".py",
   "mimetype": "text/x-python",
   "name": "python",
   "nbconvert_exporter": "python",
   "pygments_lexer": "ipython3",
   "version": "3.8.8"
  }
 },
 "nbformat": 4,
 "nbformat_minor": 5
}
