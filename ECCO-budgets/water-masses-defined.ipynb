{
 "cells": [
  {
   "cell_type": "markdown",
   "metadata": {},
   "source": [
    "# <span style='color:Green'> Water Masses defined for WG region </span>\n",
    "https://agupubs-onlinelibrary-wiley-com.ezproxy.cul.columbia.edu/doi/epdf/10.1029/95PA03840\n",
    "\n",
    "Fahrbach et al. (1995); Carmack (1974); Foldvik et al. (1985); Carmack and Foster (1977); Foldvile et al. (1985); Carmack (1974); Foldvik et al. (1985); Carmack and Foster (1977) and Foldvile et al. (1985)."
   ]
  },
  {
   "cell_type": "code",
   "execution_count": 6,
   "metadata": {},
   "outputs": [],
   "source": [
    "from fastjmd95 import jmd95numba\n",
    "import pandas as pd"
   ]
  },
  {
   "cell_type": "markdown",
   "metadata": {},
   "source": [
    "- Winter Water (WW): -1.8˚C < $\\theta$ < -0.8 | 34.45 < S < 34.5\n",
    "- Eastern Shelf Water (ESW): -2.0˚C < $\\theta$ < -1.6 | 34.28 < S < 34.44\n",
    "- Warm Deep Water (WDW): 0.0˚C < $\\theta$ < 0.8 | 34.6 < S < 34.76\n",
    "- Weddell Sea Deep Water (WSDW): -0.7˚C < $\\theta$ < 0.0 | 34.64 < S < 34.68\n",
    "- Weddell Sea Bottom Water (WSBW): -1.4˚C < $\\theta$ < -0.7 | 34.64 < S < 34.68\n",
    "- Ice Shelf Water (ISW): -2.4˚C < $\\theta$ < -2.0 | 34.62 < S < 34.68"
   ]
  },
  {
   "cell_type": "code",
   "execution_count": 4,
   "metadata": {},
   "outputs": [],
   "source": [
    "pref = 2000\n",
    "ww = jmd95numba.rho(34.475, -1.3, pref)\n",
    "esw = jmd95numba.rho(34.36, -1.8, pref)\n",
    "wdw = jmd95numba.rho(34.68, 0.4, pref)\n",
    "wsdw = jmd95numba.rho(34.66, -0.35, pref)\n",
    "wsbw = jmd95numba.rho(34.66, -1.05, pref)\n",
    "isw = jmd95numba.rho(34.65, -2.2, pref)"
   ]
  },
  {
   "cell_type": "code",
   "execution_count": 10,
   "metadata": {},
   "outputs": [],
   "source": [
    "water_masses = pd.Series(data={'ww':ww, 'esw':esw, \n",
    "                               'wdw':wdw, 'wsdw':wsdw, \n",
    "                               'wsbw':wsbw, 'isw':isw})"
   ]
  },
  {
   "cell_type": "code",
   "execution_count": 11,
   "metadata": {},
   "outputs": [
    {
     "data": {
      "text/plain": [
       "ww      1037.136401\n",
       "esw     1037.091351\n",
       "wdw     1037.118003\n",
       "wsdw    1037.186288\n",
       "wsbw    1037.258819\n",
       "isw     1037.357239\n",
       "dtype: float64"
      ]
     },
     "execution_count": 11,
     "metadata": {},
     "output_type": "execute_result"
    }
   ],
   "source": [
    "water_masses"
   ]
  },
  {
   "cell_type": "code",
   "execution_count": null,
   "metadata": {},
   "outputs": [],
   "source": []
  }
 ],
 "metadata": {
  "kernelspec": {
   "display_name": "Python 3",
   "language": "python",
   "name": "python3"
  },
  "language_info": {
   "codemirror_mode": {
    "name": "ipython",
    "version": 3
   },
   "file_extension": ".py",
   "mimetype": "text/x-python",
   "name": "python",
   "nbconvert_exporter": "python",
   "pygments_lexer": "ipython3",
   "version": "3.7.3"
  }
 },
 "nbformat": 4,
 "nbformat_minor": 4
}
