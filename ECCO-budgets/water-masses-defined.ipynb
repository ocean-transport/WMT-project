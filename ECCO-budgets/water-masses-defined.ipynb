{
 "cells": [
  {
   "cell_type": "markdown",
   "metadata": {},
   "source": [
    "# <span style='color:Green'> Water Masses defined for WG region </span>\n",
    "https://agupubs-onlinelibrary-wiley-com.ezproxy.cul.columbia.edu/doi/epdf/10.1029/95PA03840\n",
    "\n",
    "Fahrbach et al. (1995); Carmack (1974); Foldvik et al. (1985); Carmack and Foster (1977); Foldvile et al. (1985); Carmack (1974); Foldvik et al. (1985); Carmack and Foster (1977) and Foldvile et al. (1985)."
   ]
  },
  {
   "cell_type": "code",
   "execution_count": 3,
   "metadata": {},
   "outputs": [],
   "source": [
    "from fastjmd95 import jmd95numba\n",
    "import pandas as pd\n",
    "import numpy as np"
   ]
  },
  {
   "cell_type": "markdown",
   "metadata": {},
   "source": [
    "- Winter Water (WW): -1.8˚C < $\\theta$ < -0.8 | 34.45 < S < 34.5\n",
    "- Eastern Shelf Water (ESW): -2.0˚C < $\\theta$ < -1.6 | 34.28 < S < 34.44\n",
    "- Warm Deep Water (WDW): 0.0˚C < $\\theta$ < 0.8 | 34.6 < S < 34.76\n",
    "- Weddell Sea Deep Water (WSDW): -0.7˚C < $\\theta$ < 0.0 | 34.64 < S < 34.68\n",
    "- Weddell Sea Bottom Water (WSBW): -1.4˚C < $\\theta$ < -0.7 | 34.64 < S < 34.68\n",
    "- Ice Shelf Water (ISW): -2.4˚C < $\\theta$ < -2.0 | 34.62 < S < 34.68"
   ]
  },
  {
   "cell_type": "code",
   "execution_count": 1,
   "metadata": {},
   "outputs": [],
   "source": [
    "pref = 2000"
   ]
  },
  {
   "cell_type": "code",
   "execution_count": 3,
   "metadata": {},
   "outputs": [],
   "source": [
    "ww = jmd95numba.rho(34.475, -1.3, pref)\n",
    "esw = jmd95numba.rho(34.36, -1.8, pref)\n",
    "wdw = jmd95numba.rho(34.68, 0.4, pref)\n",
    "wsdw = jmd95numba.rho(34.66, 0, pref) # changed to 0˚C for CDW values\n",
    "wsbw = jmd95numba.rho(34.63, -0.7, pref) # values from Gordon et al., 2019\n",
    "#isw = jmd95numba.rho(34.65, -2.2, pref) NO ISW IN ECCO\n",
    "hssw = jmd95numba.rho(34.65, -1.8, pref)"
   ]
  },
  {
   "cell_type": "code",
   "execution_count": 9,
   "metadata": {},
   "outputs": [],
   "source": [
    "cdw_upper = jmd95numba.rho(34.68, 0, pref)\n",
    "cdw_lower = jmd95numba.rho(34.64, -0.7, pref)"
   ]
  },
  {
   "cell_type": "code",
   "execution_count": 17,
   "metadata": {},
   "outputs": [],
   "source": [
    "hssw = jmd95numba.rho(34.65, -1.8, pref)"
   ]
  },
  {
   "cell_type": "code",
   "execution_count": 18,
   "metadata": {},
   "outputs": [
    {
     "data": {
      "text/plain": [
       "1037.322074394528"
      ]
     },
     "execution_count": 18,
     "metadata": {},
     "output_type": "execute_result"
    }
   ],
   "source": [
    "hssw"
   ]
  },
  {
   "cell_type": "code",
   "execution_count": 15,
   "metadata": {},
   "outputs": [],
   "source": [
    "wdw = jmd95numba.rho(34.68, 0.4, pref)"
   ]
  },
  {
   "cell_type": "code",
   "execution_count": 16,
   "metadata": {},
   "outputs": [
    {
     "data": {
      "text/plain": [
       "1037.1180032747486"
      ]
     },
     "execution_count": 16,
     "metadata": {},
     "output_type": "execute_result"
    }
   ],
   "source": [
    "wdw"
   ]
  },
  {
   "cell_type": "code",
   "execution_count": 10,
   "metadata": {},
   "outputs": [
    {
     "data": {
      "text/plain": [
       "1037.2074303505287"
      ]
     },
     "execution_count": 10,
     "metadata": {},
     "output_type": "execute_result"
    }
   ],
   "source": [
    "cdw_lower"
   ]
  },
  {
   "cell_type": "code",
   "execution_count": 11,
   "metadata": {},
   "outputs": [
    {
     "data": {
      "text/plain": [
       "1037.1636722463336"
      ]
     },
     "execution_count": 11,
     "metadata": {},
     "output_type": "execute_result"
    }
   ],
   "source": [
    "cdw_upper"
   ]
  },
  {
   "cell_type": "code",
   "execution_count": 12,
   "metadata": {},
   "outputs": [],
   "source": [
    "aabw_upper = jmd95numba.rho(34.68, -0.7, pref)\n",
    "aabw_lower = jmd95numba.rho(34.66, -1.4, pref)"
   ]
  },
  {
   "cell_type": "code",
   "execution_count": 13,
   "metadata": {},
   "outputs": [
    {
     "data": {
      "text/plain": [
       "1037.2928972323807"
      ]
     },
     "execution_count": 13,
     "metadata": {},
     "output_type": "execute_result"
    }
   ],
   "source": [
    "aabw_lower"
   ]
  },
  {
   "cell_type": "code",
   "execution_count": 14,
   "metadata": {},
   "outputs": [
    {
     "data": {
      "text/plain": [
       "1037.2391248350518"
      ]
     },
     "execution_count": 14,
     "metadata": {},
     "output_type": "execute_result"
    }
   ],
   "source": [
    "aabw_upper"
   ]
  },
  {
   "cell_type": "code",
   "execution_count": 7,
   "metadata": {},
   "outputs": [],
   "source": [
    "avg_tmp = np.mean([-2.4, -1.8, 0, -0.7, -0.7])\n",
    "avg_slt = np.mean([34.64, 35, 34.66, 34.63, 34.63])"
   ]
  },
  {
   "cell_type": "code",
   "execution_count": 6,
   "metadata": {},
   "outputs": [
    {
     "data": {
      "text/plain": [
       "-1.12"
      ]
     },
     "execution_count": 6,
     "metadata": {},
     "output_type": "execute_result"
    }
   ],
   "source": [
    "avg_tmp"
   ]
  },
  {
   "cell_type": "code",
   "execution_count": 8,
   "metadata": {},
   "outputs": [
    {
     "data": {
      "text/plain": [
       "34.712"
      ]
     },
     "execution_count": 8,
     "metadata": {},
     "output_type": "execute_result"
    }
   ],
   "source": [
    "avg_slt"
   ]
  },
  {
   "cell_type": "code",
   "execution_count": 9,
   "metadata": {},
   "outputs": [],
   "source": [
    "aabw = jmd95numba.rho(avg_slt, avg_tmp, 2000)"
   ]
  },
  {
   "cell_type": "code",
   "execution_count": 10,
   "metadata": {},
   "outputs": [
    {
     "data": {
      "text/plain": [
       "1037.3070199601975"
      ]
     },
     "execution_count": 10,
     "metadata": {},
     "output_type": "execute_result"
    }
   ],
   "source": [
    "aabw"
   ]
  },
  {
   "cell_type": "code",
   "execution_count": null,
   "metadata": {},
   "outputs": [],
   "source": [
    "water_masses = pd.Series(data={'ww':ww, 'esw':esw, \n",
    "                               'wdw':wdw, 'wsdw':wsdw, \n",
    "                               'wsbw':wsbw, 'hssw':hssw})"
   ]
  },
  {
   "cell_type": "code",
   "execution_count": 17,
   "metadata": {},
   "outputs": [
    {
     "data": {
      "text/plain": [
       "ww      1037.136401\n",
       "esw     1037.091351\n",
       "wdw     1037.118003\n",
       "wsdw    1037.147865\n",
       "wsbw    1037.199507\n",
       "hssw    1037.322074\n",
       "dtype: float64"
      ]
     },
     "execution_count": 17,
     "metadata": {},
     "output_type": "execute_result"
    }
   ],
   "source": [
    "water_masses"
   ]
  },
  {
   "cell_type": "code",
   "execution_count": null,
   "metadata": {},
   "outputs": [],
   "source": []
  }
 ],
 "metadata": {
  "kernelspec": {
   "display_name": "Python 3",
   "language": "python",
   "name": "python3"
  },
  "language_info": {
   "codemirror_mode": {
    "name": "ipython",
    "version": 3
   },
   "file_extension": ".py",
   "mimetype": "text/x-python",
   "name": "python",
   "nbconvert_exporter": "python",
   "pygments_lexer": "ipython3",
   "version": "3.7.3"
  }
 },
 "nbformat": 4,
 "nbformat_minor": 4
}
