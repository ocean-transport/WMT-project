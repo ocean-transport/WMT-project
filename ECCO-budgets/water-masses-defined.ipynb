{
 "cells": [
  {
   "cell_type": "markdown",
   "metadata": {},
   "source": [
    "# <span style='color:Green'> Water Masses defined for WG region </span>\n",
    "https://agupubs-onlinelibrary-wiley-com.ezproxy.cul.columbia.edu/doi/epdf/10.1029/95PA03840\n",
    "\n",
    "Fahrbach et al. (1995); Carmack (1974); Foldvik et al. (1985); Carmack and Foster (1977); Foldvile et al. (1985); Carmack (1974); Foldvik et al. (1985); Carmack and Foster (1977) and Foldvile et al. (1985)."
   ]
  },
  {
   "cell_type": "code",
   "execution_count": 1,
   "metadata": {},
   "outputs": [],
   "source": [
    "from fastjmd95 import jmd95numba"
   ]
  },
  {
   "cell_type": "code",
   "execution_count": null,
   "metadata": {},
   "outputs": [],
   "source": []
  }
 ],
 "metadata": {
  "kernelspec": {
   "display_name": "Python 3",
   "language": "python",
   "name": "python3"
  },
  "language_info": {
   "codemirror_mode": {
    "name": "ipython",
    "version": 3
   },
   "file_extension": ".py",
   "mimetype": "text/x-python",
   "name": "python",
   "nbconvert_exporter": "python",
   "pygments_lexer": "ipython3",
   "version": "3.7.3"
  }
 },
 "nbformat": 4,
 "nbformat_minor": 4
}
