{
 "cells": [
  {
   "cell_type": "markdown",
   "metadata": {},
   "source": [
    "# <span style='color:Green'> Water Masses defined for WG region </span>\n",
    "https://agupubs-onlinelibrary-wiley-com.ezproxy.cul.columbia.edu/doi/epdf/10.1029/95PA03840\n",
    "\n",
    "Fahrbach et al. (1995); Carmack (1974); Foldvik et al. (1985); Carmack and Foster (1977); Foldvile et al. (1985); Carmack (1974); Foldvik et al. (1985); Carmack and Foster (1977) and Foldvile et al. (1985)."
   ]
  },
  {
   "cell_type": "code",
   "execution_count": 1,
   "metadata": {},
   "outputs": [],
   "source": [
    "from fastjmd95 import jmd95numba\n",
    "import pandas as pd\n",
    "import numpy as np"
   ]
  },
  {
   "cell_type": "markdown",
   "metadata": {},
   "source": [
    "- Winter Water (WW): -1.8˚C < $\\theta$ < -0.8 | 34.45 < S < 34.5\n",
    "- Eastern Shelf Water (ESW): -2.0˚C < $\\theta$ < -1.6 | 34.28 < S < 34.44\n",
    "- Warm Deep Water (WDW): 0.0˚C < $\\theta$ < 0.8 | 34.6 < S < 34.76\n",
    "- Weddell Sea Deep Water (WSDW): -0.7˚C < $\\theta$ < 0.0 | 34.64 < S < 34.68\n",
    "- Weddell Sea Bottom Water (WSBW): -1.4˚C < $\\theta$ < -0.7 | 34.64 < S < 34.68\n",
    "- Ice Shelf Water (ISW): -2.4˚C < $\\theta$ < -2.0 | 34.62 < S < 34.68"
   ]
  },
  {
   "cell_type": "code",
   "execution_count": 2,
   "metadata": {},
   "outputs": [],
   "source": [
    "pref = 2000"
   ]
  },
  {
   "cell_type": "markdown",
   "metadata": {},
   "source": [
    "## WW Range: 1037.06713 - 1037.20273"
   ]
  },
  {
   "cell_type": "code",
   "execution_count": 3,
   "metadata": {},
   "outputs": [],
   "source": [
    "ww_LθLS = jmd95numba.rho(34.45, -1.8, pref)\n",
    "ww_HθLS = jmd95numba.rho(34.45, -0.8, pref)\n",
    "\n",
    "ww_LθHS = jmd95numba.rho(34.5, -1.8, pref)\n",
    "ww_HθHS = jmd95numba.rho(34.5, -0.8, pref)"
   ]
  },
  {
   "cell_type": "code",
   "execution_count": 10,
   "metadata": {},
   "outputs": [
    {
     "name": "stdout",
     "output_type": "stream",
     "text": [
      "1037.162952039187 1037.0671298099378 1037.2027315549813 1037.1067597984065\n"
     ]
    }
   ],
   "source": [
    "print(ww_LθLS, ww_HθLS, ww_LθHS, ww_HθHS)"
   ]
  },
  {
   "cell_type": "code",
   "execution_count": 24,
   "metadata": {},
   "outputs": [],
   "source": [
    "ww_l = 1037.06713\n",
    "ww_h = 1037.20273"
   ]
  },
  {
   "cell_type": "markdown",
   "metadata": {},
   "source": [
    "## ESW Range: 1037.00961 - 1037.172696"
   ]
  },
  {
   "cell_type": "code",
   "execution_count": 11,
   "metadata": {},
   "outputs": [],
   "source": [
    "esw_LθLS = jmd95numba.rho(34.28, -2.0, pref)\n",
    "esw_HθLS = jmd95numba.rho(34.28, -1.6, pref)\n",
    "\n",
    "esw_LθHS = jmd95numba.rho(34.44, -2.0, pref)\n",
    "esw_HθHS = jmd95numba.rho(34.44, -1.6, pref)"
   ]
  },
  {
   "cell_type": "code",
   "execution_count": 12,
   "metadata": {},
   "outputs": [
    {
     "name": "stdout",
     "output_type": "stream",
     "text": [
      "1037.0453089884102 1037.0096140788125 1037.1726961579977 1037.1368060782215\n"
     ]
    }
   ],
   "source": [
    "print(esw_LθLS, esw_HθLS, esw_LθHS, esw_HθHS)"
   ]
  },
  {
   "cell_type": "code",
   "execution_count": 25,
   "metadata": {},
   "outputs": [],
   "source": [
    "esw_l = 1037.00961\n",
    "esw_h = 1037.17270"
   ]
  },
  {
   "cell_type": "markdown",
   "metadata": {},
   "source": [
    "## WDW Range: 1037.00746 - 1037.22690"
   ]
  },
  {
   "cell_type": "code",
   "execution_count": 13,
   "metadata": {},
   "outputs": [],
   "source": [
    "wdw_LθLS = jmd95numba.rho(34.6, 0., pref)\n",
    "wdw_HθLS = jmd95numba.rho(34.6, 0.8, pref)\n",
    "\n",
    "wdw_LθHS = jmd95numba.rho(34.76, 0., pref)\n",
    "wdw_HθHS = jmd95numba.rho(34.76, 0.8, pref)"
   ]
  },
  {
   "cell_type": "code",
   "execution_count": 14,
   "metadata": {},
   "outputs": [
    {
     "name": "stdout",
     "output_type": "stream",
     "text": [
      "1037.100445124421 1037.0074571996147 1037.2269013289947 1037.1335551000961\n"
     ]
    }
   ],
   "source": [
    "print(wdw_LθLS, wdw_HθLS, wdw_LθHS, wdw_HθHS)"
   ]
  },
  {
   "cell_type": "code",
   "execution_count": 26,
   "metadata": {},
   "outputs": [],
   "source": [
    "wdw_l = 1037.00746\n",
    "wdw_h = 1037.22690"
   ]
  },
  {
   "cell_type": "markdown",
   "metadata": {},
   "source": [
    "## WSDW Range: 1037.13206 - 1037.23912"
   ]
  },
  {
   "cell_type": "code",
   "execution_count": 17,
   "metadata": {},
   "outputs": [],
   "source": [
    "wsdw_LθLS = jmd95numba.rho(34.64, -0.7, pref) \n",
    "wsdw_HθLS = jmd95numba.rho(34.64, 0, pref) # 0˚C is also CDW values\n",
    "\n",
    "wsdw_LθHS = jmd95numba.rho(34.68, -0.7, pref) \n",
    "wsdw_HθHS = jmd95numba.rho(34.68, 0, pref) "
   ]
  },
  {
   "cell_type": "code",
   "execution_count": 18,
   "metadata": {},
   "outputs": [
    {
     "name": "stdout",
     "output_type": "stream",
     "text": [
      "1037.2074303505287 1037.1320584406199 1037.2391248350518 1037.1636722463336\n"
     ]
    }
   ],
   "source": [
    "print(wsdw_LθLS, wsdw_HθLS, wsdw_LθHS, wsdw_HθHS)"
   ]
  },
  {
   "cell_type": "code",
   "execution_count": 27,
   "metadata": {},
   "outputs": [],
   "source": [
    "wsdw_l = 1037.13206\n",
    "wsdw_h = 1037.23912"
   ]
  },
  {
   "cell_type": "markdown",
   "metadata": {},
   "source": [
    "## WSBW Range: 1037.20743 - 1037.30879"
   ]
  },
  {
   "cell_type": "code",
   "execution_count": 19,
   "metadata": {},
   "outputs": [],
   "source": [
    "wsbw_LθLS = jmd95numba.rho(34.64, -1.4, pref) \n",
    "wsbw_HθLS = jmd95numba.rho(34.64, -0.7, pref) \n",
    "\n",
    "wsbw_LθHS = jmd95numba.rho(34.68, -1.4, pref) \n",
    "wsbw_HθHS = jmd95numba.rho(34.68, -0.7, pref) \n",
    "#wsbw = jmd95numba.rho(34.63, -0.7, pref) # values from Gordon et al., 2019"
   ]
  },
  {
   "cell_type": "code",
   "execution_count": 20,
   "metadata": {},
   "outputs": [
    {
     "name": "stdout",
     "output_type": "stream",
     "text": [
      "1037.2770086089326 1037.2074303505287 1037.3087859725165 1037.2391248350518\n"
     ]
    }
   ],
   "source": [
    "print(wsbw_LθLS, wsbw_HθLS, wsbw_LθHS, wsbw_HθHS)"
   ]
  },
  {
   "cell_type": "code",
   "execution_count": 28,
   "metadata": {},
   "outputs": [],
   "source": [
    "wsbw_l = 1037.20743\n",
    "wsbw_h = 1037.30879"
   ]
  },
  {
   "cell_type": "markdown",
   "metadata": {},
   "source": [
    "## ISW Range: 1037.31602 - 1037.39800\n",
    "## HHSW Range: 1037.32207"
   ]
  },
  {
   "cell_type": "code",
   "execution_count": 21,
   "metadata": {},
   "outputs": [],
   "source": [
    "isw_LθLS = jmd95numba.rho(34.62, -2.4, pref)\n",
    "isw_HθLS = jmd95numba.rho(34.62, -2.0, pref)\n",
    "\n",
    "isw_LθHS = jmd95numba.rho(34.68, -2.4, pref)\n",
    "isw_HθHS = jmd95numba.rho(34.68, -2.0, pref)\n",
    "\n",
    "#isw = jmd95numba.rho(34.65, -2.2, pref) NO ISW IN ECCO\n",
    "hssw = jmd95numba.rho(34.65, -1.8, pref)"
   ]
  },
  {
   "cell_type": "code",
   "execution_count": 22,
   "metadata": {},
   "outputs": [
    {
     "name": "stdout",
     "output_type": "stream",
     "text": [
      "1037.350155132542 1037.31601538599 1037.398004502198 1037.3637905106386\n"
     ]
    }
   ],
   "source": [
    "print(isw_LθLS, isw_HθLS, isw_LθHS, isw_HθHS)"
   ]
  },
  {
   "cell_type": "code",
   "execution_count": 23,
   "metadata": {},
   "outputs": [
    {
     "name": "stdout",
     "output_type": "stream",
     "text": [
      "1037.322074394528\n"
     ]
    }
   ],
   "source": [
    "print(hssw)"
   ]
  },
  {
   "cell_type": "code",
   "execution_count": 29,
   "metadata": {},
   "outputs": [],
   "source": [
    "isw_l = 1037.31602\n",
    "isw_h = 1037.39800\n",
    "hssw = 1037.32207"
   ]
  },
  {
   "cell_type": "code",
   "execution_count": 32,
   "metadata": {},
   "outputs": [],
   "source": [
    "water_masses = pd.Series(data={'ww_l':ww_l, 'ww_h':ww_h,\n",
    "                               'esw_l':esw_l, 'esw_h':esw_h,\n",
    "                               'wdw_l':wdw_l, 'wdw_h':wdw_h,\n",
    "                               'wsdw_l':wsdw_l, 'wsdw_h':wsdw_h,\n",
    "                               'wsbw_l':wsbw_l, 'wsbw_h':wsbw_h,\n",
    "                               'isw_l':isw_l, 'isw_h':isw_h,\n",
    "                               'hssw':hssw})"
   ]
  },
  {
   "cell_type": "code",
   "execution_count": 33,
   "metadata": {},
   "outputs": [
    {
     "data": {
      "text/plain": [
       "ww_l      1037.06713\n",
       "ww_h      1037.20273\n",
       "esw_l     1037.00961\n",
       "esw_h     1037.17270\n",
       "wdw_l     1037.00746\n",
       "wdw_h     1037.22690\n",
       "wsdw_l    1037.13206\n",
       "wsdw_h    1037.23912\n",
       "wsbw_l    1037.20743\n",
       "wsbw_h    1037.30879\n",
       "isw_l     1037.31602\n",
       "isw_h     1037.39800\n",
       "hssw      1037.32207\n",
       "dtype: float64"
      ]
     },
     "execution_count": 33,
     "metadata": {},
     "output_type": "execute_result"
    }
   ],
   "source": [
    "water_masses"
   ]
  },
  {
   "cell_type": "code",
   "execution_count": 9,
   "metadata": {},
   "outputs": [],
   "source": [
    "cdw_upper = jmd95numba.rho(34.68, 0, pref)\n",
    "cdw_lower = jmd95numba.rho(34.64, -0.7, pref)"
   ]
  },
  {
   "cell_type": "code",
   "execution_count": 17,
   "metadata": {},
   "outputs": [],
   "source": [
    "hssw = jmd95numba.rho(34.65, -1.8, pref)"
   ]
  },
  {
   "cell_type": "code",
   "execution_count": 18,
   "metadata": {},
   "outputs": [
    {
     "data": {
      "text/plain": [
       "1037.322074394528"
      ]
     },
     "execution_count": 18,
     "metadata": {},
     "output_type": "execute_result"
    }
   ],
   "source": [
    "hssw"
   ]
  },
  {
   "cell_type": "code",
   "execution_count": 15,
   "metadata": {},
   "outputs": [],
   "source": [
    "wdw = jmd95numba.rho(34.68, 0.4, pref)"
   ]
  },
  {
   "cell_type": "code",
   "execution_count": 16,
   "metadata": {},
   "outputs": [
    {
     "data": {
      "text/plain": [
       "1037.1180032747486"
      ]
     },
     "execution_count": 16,
     "metadata": {},
     "output_type": "execute_result"
    }
   ],
   "source": [
    "wdw"
   ]
  },
  {
   "cell_type": "code",
   "execution_count": 10,
   "metadata": {},
   "outputs": [
    {
     "data": {
      "text/plain": [
       "1037.2074303505287"
      ]
     },
     "execution_count": 10,
     "metadata": {},
     "output_type": "execute_result"
    }
   ],
   "source": [
    "cdw_lower"
   ]
  },
  {
   "cell_type": "code",
   "execution_count": 11,
   "metadata": {},
   "outputs": [
    {
     "data": {
      "text/plain": [
       "1037.1636722463336"
      ]
     },
     "execution_count": 11,
     "metadata": {},
     "output_type": "execute_result"
    }
   ],
   "source": [
    "cdw_upper"
   ]
  },
  {
   "cell_type": "code",
   "execution_count": 12,
   "metadata": {},
   "outputs": [],
   "source": [
    "aabw_upper = jmd95numba.rho(34.68, -0.7, pref)\n",
    "aabw_lower = jmd95numba.rho(34.66, -1.4, pref)"
   ]
  },
  {
   "cell_type": "code",
   "execution_count": 13,
   "metadata": {},
   "outputs": [
    {
     "data": {
      "text/plain": [
       "1037.2928972323807"
      ]
     },
     "execution_count": 13,
     "metadata": {},
     "output_type": "execute_result"
    }
   ],
   "source": [
    "aabw_lower"
   ]
  },
  {
   "cell_type": "code",
   "execution_count": 14,
   "metadata": {},
   "outputs": [
    {
     "data": {
      "text/plain": [
       "1037.2391248350518"
      ]
     },
     "execution_count": 14,
     "metadata": {},
     "output_type": "execute_result"
    }
   ],
   "source": [
    "aabw_upper"
   ]
  },
  {
   "cell_type": "code",
   "execution_count": 7,
   "metadata": {},
   "outputs": [],
   "source": [
    "avg_tmp = np.mean([-2.4, -1.8, 0, -0.7, -0.7])\n",
    "avg_slt = np.mean([34.64, 35, 34.66, 34.63, 34.63])"
   ]
  },
  {
   "cell_type": "code",
   "execution_count": 6,
   "metadata": {},
   "outputs": [
    {
     "data": {
      "text/plain": [
       "-1.12"
      ]
     },
     "execution_count": 6,
     "metadata": {},
     "output_type": "execute_result"
    }
   ],
   "source": [
    "avg_tmp"
   ]
  },
  {
   "cell_type": "code",
   "execution_count": 8,
   "metadata": {},
   "outputs": [
    {
     "data": {
      "text/plain": [
       "34.712"
      ]
     },
     "execution_count": 8,
     "metadata": {},
     "output_type": "execute_result"
    }
   ],
   "source": [
    "avg_slt"
   ]
  },
  {
   "cell_type": "code",
   "execution_count": 9,
   "metadata": {},
   "outputs": [],
   "source": [
    "aabw = jmd95numba.rho(avg_slt, avg_tmp, 2000)"
   ]
  },
  {
   "cell_type": "code",
   "execution_count": 10,
   "metadata": {},
   "outputs": [
    {
     "data": {
      "text/plain": [
       "1037.3070199601975"
      ]
     },
     "execution_count": 10,
     "metadata": {},
     "output_type": "execute_result"
    }
   ],
   "source": [
    "aabw"
   ]
  },
  {
   "cell_type": "code",
   "execution_count": null,
   "metadata": {},
   "outputs": [],
   "source": [
    "water_masses = pd.Series(data={'ww':ww, 'esw':esw, \n",
    "                               'wdw':wdw, 'wsdw':wsdw, \n",
    "                               'wsbw':wsbw, 'hssw':hssw})"
   ]
  },
  {
   "cell_type": "code",
   "execution_count": 17,
   "metadata": {},
   "outputs": [
    {
     "data": {
      "text/plain": [
       "ww      1037.136401\n",
       "esw     1037.091351\n",
       "wdw     1037.118003\n",
       "wsdw    1037.147865\n",
       "wsbw    1037.199507\n",
       "hssw    1037.322074\n",
       "dtype: float64"
      ]
     },
     "execution_count": 17,
     "metadata": {},
     "output_type": "execute_result"
    }
   ],
   "source": [
    "water_masses"
   ]
  },
  {
   "cell_type": "code",
   "execution_count": null,
   "metadata": {},
   "outputs": [],
   "source": []
  }
 ],
 "metadata": {
  "kernelspec": {
   "display_name": "Python 3",
   "language": "python",
   "name": "python3"
  },
  "language_info": {
   "codemirror_mode": {
    "name": "ipython",
    "version": 3
   },
   "file_extension": ".py",
   "mimetype": "text/x-python",
   "name": "python",
   "nbconvert_exporter": "python",
   "pygments_lexer": "ipython3",
   "version": "3.8.6"
  }
 },
 "nbformat": 4,
 "nbformat_minor": 4
}
