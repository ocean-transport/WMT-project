{
 "cells": [
  {
   "cell_type": "markdown",
   "metadata": {},
   "source": [
    "# SIGMA \\begin{equation*} \\frac{\\partial V}{\\partial t} = \\Psi + \\Omega \\end{equation*}\n",
    "## **ECCO**"
   ]
  },
  {
   "cell_type": "code",
   "execution_count": 2,
   "metadata": {},
   "outputs": [
    {
     "data": {
      "text/html": [
       "<table style=\"border: 2px solid white;\">\n",
       "<tr>\n",
       "<td style=\"vertical-align: top; border: 0px solid white\">\n",
       "<h3 style=\"text-align: left;\">Client</h3>\n",
       "<ul style=\"text-align: left; list-style: none; margin: 0; padding: 0;\">\n",
       "  <li><b>Scheduler: </b>tcp://10.32.16.15:34943</li>\n",
       "  <li><b>Dashboard: </b><a href='/user/0000-0002-8176-9465/proxy/8787/status' target='_blank'>/user/0000-0002-8176-9465/proxy/8787/status</a>\n",
       "</ul>\n",
       "</td>\n",
       "<td style=\"vertical-align: top; border: 0px solid white\">\n",
       "<h3 style=\"text-align: left;\">Cluster</h3>\n",
       "<ul style=\"text-align: left; list-style:none; margin: 0; padding: 0;\">\n",
       "  <li><b>Workers: </b>30</li>\n",
       "  <li><b>Cores: </b>60</li>\n",
       "  <li><b>Memory: </b>345.00 GB</li>\n",
       "</ul>\n",
       "</td>\n",
       "</tr>\n",
       "</table>"
      ],
      "text/plain": [
       "<Client: 'tcp://10.32.16.15:34943' processes=30 threads=60, memory=345.00 GB>"
      ]
     },
     "execution_count": 2,
     "metadata": {},
     "output_type": "execute_result"
    }
   ],
   "source": [
    "from dask.distributed import Client\n",
    "\n",
    "client = Client(\"tcp://10.32.16.15:34943\")\n",
    "client"
   ]
  },
  {
   "cell_type": "code",
   "execution_count": 3,
   "metadata": {},
   "outputs": [
    {
     "name": "stderr",
     "output_type": "stream",
     "text": [
      "/srv/conda/envs/notebook/lib/python3.7/site-packages/intake/source/discovery.py:136: FutureWarning: The drivers ['geojson', 'postgis', 'shapefile', 'spatialite'] do not specify entry_points and were only discovered via a package scan. This may break in a future release of intake. The packages should be updated.\n",
      "  FutureWarning)\n"
     ]
    }
   ],
   "source": [
    "import xarray as xr\n",
    "from matplotlib import pyplot as plt\n",
    "import gcsfs\n",
    "import dask\n",
    "import dask.array as dsa\n",
    "import numpy as np\n",
    "import intake\n",
    "import fsspec\n",
    "import xmitgcm\n",
    "from xhistogram.xarray import histogram\n",
    "from xmitgcm.llcreader.llcmodel import faces_dataset_to_latlon\n",
    "%matplotlib inline\n",
    "from fastjmd95 import jmd95numba"
   ]
  },
  {
   "cell_type": "code",
   "execution_count": 4,
   "metadata": {},
   "outputs": [
    {
     "data": {
      "text/plain": [
       "<xarray.core.options.set_options at 0x7f089e057048>"
      ]
     },
     "execution_count": 4,
     "metadata": {},
     "output_type": "execute_result"
    }
   ],
   "source": [
    "xr.set_options(display_style='text')"
   ]
  },
  {
   "cell_type": "code",
   "execution_count": 5,
   "metadata": {},
   "outputs": [
    {
     "data": {
      "text/html": [
       "<pre>&lt;xarray.Dataset&gt;\n",
       "Dimensions:                   (i: 95, i_g: 96, j: 50, j_g: 51, k: 50, k_l: 50, time: 288, time_snp: 287)\n",
       "Coordinates:\n",
       "  * k                         (k) int64 0 1 2 3 4 5 6 7 ... 43 44 45 46 47 48 49\n",
       "  * time                      (time) datetime64[ns] 1992-01-15 ... 2015-12-14\n",
       "  * time_snp                  (time_snp) datetime64[ns] 1992-02-01 ... 2015-12-01\n",
       "  * k_l                       (k_l) int64 0 1 2 3 4 5 6 ... 43 44 45 46 47 48 49\n",
       "Dimensions without coordinates: i, i_g, j, j_g\n",
       "Data variables:\n",
       "    SALT                      (time, k, j, i) float32 dask.array&lt;chunksize=(1, 50, 50, 67), meta=np.ndarray&gt;\n",
       "    SALT_snp                  (time_snp, k, j, i) float32 dask.array&lt;chunksize=(1, 50, 50, 67), meta=np.ndarray&gt;\n",
       "    THETA                     (time, k, j, i) float32 dask.array&lt;chunksize=(1, 50, 50, 67), meta=np.ndarray&gt;\n",
       "    THETA_snp                 (time_snp, k, j, i) float32 dask.array&lt;chunksize=(1, 50, 50, 67), meta=np.ndarray&gt;\n",
       "    dt                        (time) float32 dask.array&lt;chunksize=(288,), meta=np.ndarray&gt;\n",
       "    conv_horiz_adv_flux_SLT   (time, k, j, i) float32 dask.array&lt;chunksize=(1, 50, 50, 95), meta=np.ndarray&gt;\n",
       "    conv_horiz_diff_flux_SLT  (time, k, j, i) float32 dask.array&lt;chunksize=(1, 50, 50, 95), meta=np.ndarray&gt;\n",
       "    conv_vert_adv_flux_SLT    (time, k, j, i) float32 dask.array&lt;chunksize=(1, 50, 50, 95), meta=np.ndarray&gt;\n",
       "    conv_vert_diff_flux_SLT   (time, k, j, i) float32 dask.array&lt;chunksize=(1, 50, 50, 95), meta=np.ndarray&gt;\n",
       "    salt_plume                (time, k, j, i) float32 dask.array&lt;chunksize=(1, 50, 50, 95), meta=np.ndarray&gt;\n",
       "    surface_flux_SLT          (k, time, j, i) float32 dask.array&lt;chunksize=(50, 1, 50, 95), meta=np.ndarray&gt;\n",
       "    total_tendency_SLT_truth  (time, k, j, i) float32 dask.array&lt;chunksize=(1, 50, 50, 95), meta=np.ndarray&gt;\n",
       "    conv_horiz_adv_flux_TH    (time, k, j, i) float32 dask.array&lt;chunksize=(1, 50, 50, 95), meta=np.ndarray&gt;\n",
       "    conv_horiz_diff_flux_TH   (time, k, j, i) float32 dask.array&lt;chunksize=(1, 50, 50, 95), meta=np.ndarray&gt;\n",
       "    conv_vert_adv_flux_TH     (time, k, j, i) float32 dask.array&lt;chunksize=(1, 50, 50, 95), meta=np.ndarray&gt;\n",
       "    conv_vert_diff_flux_TH    (time, k, j, i) float32 dask.array&lt;chunksize=(1, 50, 50, 95), meta=np.ndarray&gt;\n",
       "    surface_flux_conv_TH      (k, time, j, i) float32 dask.array&lt;chunksize=(50, 1, 50, 95), meta=np.ndarray&gt;\n",
       "    sw_flux_conv_TH           (time, j, i, k) float32 dask.array&lt;chunksize=(1, 50, 95, 50), meta=np.ndarray&gt;\n",
       "    total_tendency_TH_truth   (time, k, j, i) float32 dask.array&lt;chunksize=(1, 50, 50, 95), meta=np.ndarray&gt;\n",
       "    UVEL                      (time, k, j, i_g) float32 dask.array&lt;chunksize=(1, 50, 50, 67), meta=np.ndarray&gt;\n",
       "    VVEL                      (time, k, j_g, i) float32 dask.array&lt;chunksize=(1, 50, 51, 67), meta=np.ndarray&gt;\n",
       "    WVEL                      (time, k_l, j, i) float32 dask.array&lt;chunksize=(1, 50, 50, 67), meta=np.ndarray&gt;</pre>"
      ],
      "text/plain": [
       "<xarray.Dataset>\n",
       "Dimensions:                   (i: 95, i_g: 96, j: 50, j_g: 51, k: 50, k_l: 50, time: 288, time_snp: 287)\n",
       "Coordinates:\n",
       "  * k                         (k) int64 0 1 2 3 4 5 6 7 ... 43 44 45 46 47 48 49\n",
       "  * time                      (time) datetime64[ns] 1992-01-15 ... 2015-12-14\n",
       "  * time_snp                  (time_snp) datetime64[ns] 1992-02-01 ... 2015-12-01\n",
       "  * k_l                       (k_l) int64 0 1 2 3 4 5 6 ... 43 44 45 46 47 48 49\n",
       "Dimensions without coordinates: i, i_g, j, j_g\n",
       "Data variables:\n",
       "    SALT                      (time, k, j, i) float32 dask.array<chunksize=(1, 50, 50, 67), meta=np.ndarray>\n",
       "    SALT_snp                  (time_snp, k, j, i) float32 dask.array<chunksize=(1, 50, 50, 67), meta=np.ndarray>\n",
       "    THETA                     (time, k, j, i) float32 dask.array<chunksize=(1, 50, 50, 67), meta=np.ndarray>\n",
       "    THETA_snp                 (time_snp, k, j, i) float32 dask.array<chunksize=(1, 50, 50, 67), meta=np.ndarray>\n",
       "    dt                        (time) float32 dask.array<chunksize=(288,), meta=np.ndarray>\n",
       "    conv_horiz_adv_flux_SLT   (time, k, j, i) float32 dask.array<chunksize=(1, 50, 50, 95), meta=np.ndarray>\n",
       "    conv_horiz_diff_flux_SLT  (time, k, j, i) float32 dask.array<chunksize=(1, 50, 50, 95), meta=np.ndarray>\n",
       "    conv_vert_adv_flux_SLT    (time, k, j, i) float32 dask.array<chunksize=(1, 50, 50, 95), meta=np.ndarray>\n",
       "    conv_vert_diff_flux_SLT   (time, k, j, i) float32 dask.array<chunksize=(1, 50, 50, 95), meta=np.ndarray>\n",
       "    salt_plume                (time, k, j, i) float32 dask.array<chunksize=(1, 50, 50, 95), meta=np.ndarray>\n",
       "    surface_flux_SLT          (k, time, j, i) float32 dask.array<chunksize=(50, 1, 50, 95), meta=np.ndarray>\n",
       "    total_tendency_SLT_truth  (time, k, j, i) float32 dask.array<chunksize=(1, 50, 50, 95), meta=np.ndarray>\n",
       "    conv_horiz_adv_flux_TH    (time, k, j, i) float32 dask.array<chunksize=(1, 50, 50, 95), meta=np.ndarray>\n",
       "    conv_horiz_diff_flux_TH   (time, k, j, i) float32 dask.array<chunksize=(1, 50, 50, 95), meta=np.ndarray>\n",
       "    conv_vert_adv_flux_TH     (time, k, j, i) float32 dask.array<chunksize=(1, 50, 50, 95), meta=np.ndarray>\n",
       "    conv_vert_diff_flux_TH    (time, k, j, i) float32 dask.array<chunksize=(1, 50, 50, 95), meta=np.ndarray>\n",
       "    surface_flux_conv_TH      (k, time, j, i) float32 dask.array<chunksize=(50, 1, 50, 95), meta=np.ndarray>\n",
       "    sw_flux_conv_TH           (time, j, i, k) float32 dask.array<chunksize=(1, 50, 95, 50), meta=np.ndarray>\n",
       "    total_tendency_TH_truth   (time, k, j, i) float32 dask.array<chunksize=(1, 50, 50, 95), meta=np.ndarray>\n",
       "    UVEL                      (time, k, j, i_g) float32 dask.array<chunksize=(1, 50, 50, 67), meta=np.ndarray>\n",
       "    VVEL                      (time, k, j_g, i) float32 dask.array<chunksize=(1, 50, 51, 67), meta=np.ndarray>\n",
       "    WVEL                      (time, k_l, j, i) float32 dask.array<chunksize=(1, 50, 50, 67), meta=np.ndarray>"
      ]
     },
     "execution_count": 5,
     "metadata": {},
     "output_type": "execute_result"
    }
   ],
   "source": [
    "coords = xr.open_zarr(gcsfs.GCSMap('pangeo-tmp/stb2145/ECCO/datasets/coords_wg.zarr')) #didn't upload wg region\n",
    "ds_tns = xr.open_zarr(gcsfs.GCSMap('pangeo-tmp/stb2145/ECCO/datasets/ds_tns.zarr'))\n",
    "ds_slt = xr.open_zarr(gcsfs.GCSMap('pangeo-tmp/stb2145/ECCO/datasets/ds_slt_wg.zarr'))\n",
    "ds_tmp = xr.open_zarr(gcsfs.GCSMap('pangeo-tmp/stb2145/ECCO/datasets/ds_tmp_wg.zarr'))\n",
    "ds_vel = xr.open_zarr(gcsfs.GCSMap('pangeo-tmp/stb2145/ECCO/datasets/ds_vel.zarr'))\n",
    "ds = xr.merge([ds_tns, ds_slt, ds_tmp, ds_vel])\n",
    "ds"
   ]
  },
  {
   "cell_type": "code",
   "execution_count": 6,
   "metadata": {},
   "outputs": [],
   "source": [
    "#WG boundaries (65˚W, 30˚E; 80˚S, 62˚S)\n",
    "left_lon = 23 #~-64.5˚ #used to be 20\n",
    "right_lon = 118 #30.5˚ #used to be 115\n",
    "lower_lat = 30 #~-80˚ #used to be 38\n",
    "upper_lat = 80 #-61.755745˚ instead of #79:-62.216576˚ to fill upper projection plot row\n",
    "j_g_upper = 81\n",
    "i_g_right = 119\n",
    "i_g_left = 22"
   ]
  },
  {
   "cell_type": "code",
   "execution_count": 7,
   "metadata": {},
   "outputs": [],
   "source": [
    "#set the boundaries\n",
    "lat_range = dict(j=slice(lower_lat, upper_lat), j_g=slice(lower_lat, j_g_upper))\n",
    "lon_range = dict(i=slice(left_lon, right_lon), i_g=slice(left_lon, i_g_right))"
   ]
  },
  {
   "cell_type": "code",
   "execution_count": 8,
   "metadata": {},
   "outputs": [],
   "source": [
    "#set the boundaries\n",
    "lat_range_noface = dict(j=slice(lower_lat, upper_lat))\n",
    "lon_range_noface = dict(i=slice(left_lon, right_lon))"
   ]
  },
  {
   "cell_type": "markdown",
   "metadata": {},
   "source": [
    "# <font color='Green'> \\begin{equation*} Temperature \\end{equation*} </font>"
   ]
  },
  {
   "cell_type": "markdown",
   "metadata": {},
   "source": [
    "## <font color='Green'> \\begin{equation*} \\alpha \\approx - \\frac{1}{\\rho} \\frac{\\partial \\rho}{\\partial \\theta} \\end{equation*} </font>"
   ]
  },
  {
   "cell_type": "code",
   "execution_count": 9,
   "metadata": {},
   "outputs": [],
   "source": [
    "runit2mass = 1.035e3 #rho_0\n",
    "heat_capacity_cp = 3.994e3 #J/˚K/kg"
   ]
  },
  {
   "cell_type": "code",
   "execution_count": 10,
   "metadata": {},
   "outputs": [],
   "source": [
    "drhodt = xr.apply_ufunc(jmd95numba.drhodt, ds.SALT, ds.THETA, 2000,\n",
    "                        output_dtypes=[ds.SALT.dtype],\n",
    "                        dask='parallelized').reset_coords(drop=True).load()"
   ]
  },
  {
   "cell_type": "code",
   "execution_count": 11,
   "metadata": {},
   "outputs": [],
   "source": [
    "alpha = - drhodt / runit2mass"
   ]
  },
  {
   "cell_type": "raw",
   "metadata": {},
   "source": [
    "coords.Z.sel(k=37).values"
   ]
  },
  {
   "cell_type": "code",
   "execution_count": 12,
   "metadata": {},
   "outputs": [
    {
     "data": {
      "image/png": "[encoded data removed]",
      "text/plain": [
       "<Figure size 864x288 with 4 Axes>"
      ]
     },
     "metadata": {
      "needs_background": "light"
     },
     "output_type": "display_data"
    }
   ],
   "source": [
    "fig, (ax0,ax1) = plt.subplots(1,2, figsize=(12,4))\n",
    "alpha.mean(dim='time')[0].plot(ax=ax0)\n",
    "ax1.set_title('surface')\n",
    "\n",
    "alpha.mean(dim='time')[37].plot(ax=ax1)\n",
    "ax1.set_title('2084.053m deep')\n",
    "plt.tight_layout();"
   ]
  },
  {
   "cell_type": "markdown",
   "metadata": {},
   "source": [
    "# <font color='Green'>\\begin{equation*} \\frac{\\partial V}{\\partial t} == \\Omega_{tottend-SLT-truth} + R1 \\end{equation*} </font>"
   ]
  },
  {
   "cell_type": "code",
   "execution_count": 13,
   "metadata": {},
   "outputs": [],
   "source": [
    "# define bins\n",
    "delta_theta = 0.1\n",
    "theta_bins = np.arange(-2, 4, delta_theta)\n",
    "#define theta_bins for WG range\n",
    "vol = (coords.drF * coords.rA * coords.hFacC)"
   ]
  },
  {
   "cell_type": "raw",
   "metadata": {},
   "source": [
    "vol = vol.expand_dims(dim={'time':ds.time})"
   ]
  },
  {
   "cell_type": "raw",
   "metadata": {},
   "source": [
    "alpha_dsa = dsa.array(alpha)"
   ]
  },
  {
   "cell_type": "raw",
   "metadata": {},
   "source": [
    "type(vol)"
   ]
  },
  {
   "cell_type": "raw",
   "metadata": {},
   "source": [
    "type(alpha)"
   ]
  },
  {
   "cell_type": "raw",
   "metadata": {},
   "source": [
    "vol_alpha = alpha * vol"
   ]
  },
  {
   "cell_type": "raw",
   "metadata": {},
   "source": [
    "vol_alpha"
   ]
  },
  {
   "cell_type": "code",
   "execution_count": 71,
   "metadata": {},
   "outputs": [],
   "source": [
    "_, vol_alpha = xr.broadcast(alpha, vol)"
   ]
  },
  {
   "cell_type": "raw",
   "metadata": {},
   "source": [
    "vol_alpha[0,0].plot()"
   ]
  },
  {
   "cell_type": "code",
   "execution_count": 14,
   "metadata": {},
   "outputs": [
    {
     "data": {
      "text/plain": [
       "<matplotlib.collections.QuadMesh at 0x7f087a08d2b0>"
      ]
     },
     "execution_count": 14,
     "metadata": {},
     "output_type": "execute_result"
    },
    {
     "data": {
      "image/png": "[encoded data removed]",
      "text/plain": [
       "<Figure size 432x288 with 2 Axes>"
      ]
     },
     "metadata": {
      "needs_background": "light"
     },
     "output_type": "display_data"
    }
   ],
   "source": [
    "alpha[0,0].plot()"
   ]
  },
  {
   "cell_type": "code",
   "execution_count": 15,
   "metadata": {},
   "outputs": [
    {
     "data": {
      "text/plain": [
       "('time', 'k', 'j', 'i')"
      ]
     },
     "execution_count": 15,
     "metadata": {},
     "output_type": "execute_result"
    }
   ],
   "source": [
    "alpha.dims"
   ]
  },
  {
   "cell_type": "code",
   "execution_count": 16,
   "metadata": {},
   "outputs": [
    {
     "data": {
      "text/plain": [
       "Coordinates:\n",
       "  * k        (k) int64 0 1 2 3 4 5 6 7 8 9 10 ... 40 41 42 43 44 45 46 47 48 49\n",
       "  * time     (time) datetime64[ns] 1992-01-15 1992-02-13 ... 2015-12-14"
      ]
     },
     "execution_count": 16,
     "metadata": {},
     "output_type": "execute_result"
    }
   ],
   "source": [
    "alpha.coords"
   ]
  },
  {
   "cell_type": "code",
   "execution_count": 17,
   "metadata": {},
   "outputs": [
    {
     "data": {
      "text/plain": [
       "(288, 50, 50, 95)"
      ]
     },
     "execution_count": 17,
     "metadata": {},
     "output_type": "execute_result"
    }
   ],
   "source": [
    "alpha.shape"
   ]
  },
  {
   "cell_type": "code",
   "execution_count": 19,
   "metadata": {},
   "outputs": [
    {
     "data": {
      "text/html": [
       "<pre>&lt;xarray.DataArray &#x27;time_snp&#x27; (time_snp: 287)&gt;\n",
       "array([&#x27;1992-02-01T00:00:00.000000000&#x27;, &#x27;1992-03-01T00:00:00.000000000&#x27;,\n",
       "       &#x27;1992-04-01T00:00:00.000000000&#x27;, ..., &#x27;2015-10-01T00:00:00.000000000&#x27;,\n",
       "       &#x27;2015-11-01T00:00:00.000000000&#x27;, &#x27;2015-12-01T00:00:00.000000000&#x27;],\n",
       "      dtype=&#x27;datetime64[ns]&#x27;)\n",
       "Coordinates:\n",
       "  * time_snp  (time_snp) datetime64[ns] 1992-02-01 1992-03-01 ... 2015-12-01\n",
       "Attributes:\n",
       "    axis:               T\n",
       "    c_grid_axis_shift:  0.5\n",
       "    long_name:          Time\n",
       "    standard_name:      time</pre>"
      ],
      "text/plain": [
       "<xarray.DataArray 'time_snp' (time_snp: 287)>\n",
       "array(['1992-02-01T00:00:00.000000000', '1992-03-01T00:00:00.000000000',\n",
       "       '1992-04-01T00:00:00.000000000', ..., '2015-10-01T00:00:00.000000000',\n",
       "       '2015-11-01T00:00:00.000000000', '2015-12-01T00:00:00.000000000'],\n",
       "      dtype='datetime64[ns]')\n",
       "Coordinates:\n",
       "  * time_snp  (time_snp) datetime64[ns] 1992-02-01 1992-03-01 ... 2015-12-01\n",
       "Attributes:\n",
       "    axis:               T\n",
       "    c_grid_axis_shift:  0.5\n",
       "    long_name:          Time\n",
       "    standard_name:      time"
      ]
     },
     "execution_count": 19,
     "metadata": {},
     "output_type": "execute_result"
    }
   ],
   "source": [
    "ds.time_snp"
   ]
  },
  {
   "cell_type": "code",
   "execution_count": 20,
   "metadata": {},
   "outputs": [],
   "source": [
    "alpha_snp = alpha.interp(coords={'time':ds.time_snp})"
   ]
  },
  {
   "cell_type": "code",
   "execution_count": 25,
   "metadata": {},
   "outputs": [
    {
     "data": {
      "text/plain": [
       "<matplotlib.collections.QuadMesh at 0x7f086844bd68>"
      ]
     },
     "execution_count": 25,
     "metadata": {},
     "output_type": "execute_result"
    },
    {
     "data": {
      "image/png": "[encoded data removed]",
      "text/plain": [
       "<Figure size 432x288 with 2 Axes>"
      ]
     },
     "metadata": {
      "needs_background": "light"
     },
     "output_type": "display_data"
    }
   ],
   "source": [
    "(alpha.mean(dim='time')[0] - alpha_snp.mean(dim='time_snp')[0]).plot()"
   ]
  },
  {
   "cell_type": "raw",
   "metadata": {},
   "source": [
    "alpha = alpha.expand_dims(dim={'time_snp':ds.time_snp}).drop('time')"
   ]
  },
  {
   "cell_type": "code",
   "execution_count": 26,
   "metadata": {},
   "outputs": [
    {
     "data": {
      "text/html": [
       "<pre>&lt;xarray.DataArray &#x27;THETA_snp&#x27; (time_snp: 287, k: 50, j: 50, i: 95)&gt;\n",
       "dask.array&lt;zarr, shape=(287, 50, 50, 95), dtype=float32, chunksize=(1, 50, 50, 67), chunktype=numpy.ndarray&gt;\n",
       "Coordinates:\n",
       "  * k         (k) int64 0 1 2 3 4 5 6 7 8 9 10 ... 40 41 42 43 44 45 46 47 48 49\n",
       "  * time_snp  (time_snp) datetime64[ns] 1992-02-01 1992-03-01 ... 2015-12-01\n",
       "Dimensions without coordinates: j, i\n",
       "Attributes:\n",
       "    long_name:      Potential Temperature\n",
       "    standard_name:  THETA\n",
       "    units:          degC</pre>"
      ],
      "text/plain": [
       "<xarray.DataArray 'THETA_snp' (time_snp: 287, k: 50, j: 50, i: 95)>\n",
       "dask.array<zarr, shape=(287, 50, 50, 95), dtype=float32, chunksize=(1, 50, 50, 67), chunktype=numpy.ndarray>\n",
       "Coordinates:\n",
       "  * k         (k) int64 0 1 2 3 4 5 6 7 8 9 10 ... 40 41 42 43 44 45 46 47 48 49\n",
       "  * time_snp  (time_snp) datetime64[ns] 1992-02-01 1992-03-01 ... 2015-12-01\n",
       "Dimensions without coordinates: j, i\n",
       "Attributes:\n",
       "    long_name:      Potential Temperature\n",
       "    standard_name:  THETA\n",
       "    units:          degC"
      ]
     },
     "execution_count": 26,
     "metadata": {},
     "output_type": "execute_result"
    }
   ],
   "source": [
    "ds.THETA_snp"
   ]
  },
  {
   "cell_type": "code",
   "execution_count": 43,
   "metadata": {},
   "outputs": [],
   "source": [
    "# theta distribution in WG region\n",
    "theta_dist = histogram(ds.THETA_snp.rename('theta').chunk({'i':-1, 'j':-1, 'k':-1, 'time_snp':1}), \n",
    "                       bins=[theta_bins],\n",
    "                       weights=(alpha_snp.chunk({'i':-1, 'j':-1, 'k':-1, 'time_snp':1})*vol.chunk({'i':-1, 'j':-1, 'k':-1})),\n",
    "                       dim=['i', 'j', 'k'])"
   ]
  },
  {
   "cell_type": "code",
   "execution_count": 44,
   "metadata": {},
   "outputs": [],
   "source": [
    "# cumulative volume\n",
    "V = theta_dist.cumsum(dim='theta_bin')"
   ]
  },
  {
   "cell_type": "code",
   "execution_count": 45,
   "metadata": {},
   "outputs": [
    {
     "data": {
      "text/html": [
       "<pre>&lt;xarray.DataArray &#x27;histogram_theta&#x27; (time_snp: 287, theta_bin: 59)&gt;\n",
       "dask.array&lt;nancumsum, shape=(287, 59), dtype=float64, chunksize=(1, 59), chunktype=numpy.ndarray&gt;\n",
       "Coordinates:\n",
       "  * time_snp   (time_snp) datetime64[ns] 1992-02-01 1992-03-01 ... 2015-12-01\n",
       "  * theta_bin  (theta_bin) float64 -1.95 -1.85 -1.75 -1.65 ... 3.65 3.75 3.85</pre>"
      ],
      "text/plain": [
       "<xarray.DataArray 'histogram_theta' (time_snp: 287, theta_bin: 59)>\n",
       "dask.array<nancumsum, shape=(287, 59), dtype=float64, chunksize=(1, 59), chunktype=numpy.ndarray>\n",
       "Coordinates:\n",
       "  * time_snp   (time_snp) datetime64[ns] 1992-02-01 1992-03-01 ... 2015-12-01\n",
       "  * theta_bin  (theta_bin) float64 -1.95 -1.85 -1.75 -1.65 ... 3.65 3.75 3.85"
      ]
     },
     "execution_count": 45,
     "metadata": {},
     "output_type": "execute_result"
    }
   ],
   "source": [
    "V"
   ]
  },
  {
   "cell_type": "code",
   "execution_count": 46,
   "metadata": {},
   "outputs": [],
   "source": [
    "delta_V = V.diff(dim='time_snp')\n",
    "delta_V.coords['time'] = 'time_snp', ds.time[1:-1].values"
   ]
  },
  {
   "cell_type": "markdown",
   "metadata": {},
   "source": [
    "## $\\frac{\\partial \\mathcal{V}}{\\partial t}$"
   ]
  },
  {
   "cell_type": "code",
   "execution_count": 47,
   "metadata": {},
   "outputs": [
    {
     "data": {
      "text/html": [
       "<pre>&lt;xarray.DataArray (time: 286, theta_bin: 59)&gt;\n",
       "array([[  218.24083569,  -327.86819044,  -617.2160587 , ...,\n",
       "          265.46107469,   265.46107469,   265.46107469],\n",
       "       [  480.55300687,   361.96247301,   583.90118535, ...,\n",
       "         -232.53395171,  -232.53395171,  -232.53395171],\n",
       "       [  412.46377746,  1185.43493535,  1560.09406225, ...,\n",
       "         -380.24972738,  -380.24972738,  -380.24972738],\n",
       "       ...,\n",
       "       [ -286.0741058 ,   114.48103356,   443.74439676, ...,\n",
       "         -120.20635502,  -120.20635502,  -120.20635502],\n",
       "       [  374.39642979,  1118.40092381,  2040.32767447, ...,\n",
       "          -46.17235046,   -46.17235046,   -46.17235046],\n",
       "       [ -709.96680179, -1928.20848332, -2315.50912541, ...,\n",
       "          304.15679786,   304.15679786,   304.15679786]])\n",
       "Coordinates:\n",
       "    time_snp   (time) datetime64[ns] 1992-03-01 1992-04-01 ... 2015-12-01\n",
       "  * theta_bin  (theta_bin) float64 -1.95 -1.85 -1.75 -1.65 ... 3.65 3.75 3.85\n",
       "  * time       (time) datetime64[ns] 1992-02-13 1992-03-15 ... 2015-11-14</pre>"
      ],
      "text/plain": [
       "<xarray.DataArray (time: 286, theta_bin: 59)>\n",
       "array([[  218.24083569,  -327.86819044,  -617.2160587 , ...,\n",
       "          265.46107469,   265.46107469,   265.46107469],\n",
       "       [  480.55300687,   361.96247301,   583.90118535, ...,\n",
       "         -232.53395171,  -232.53395171,  -232.53395171],\n",
       "       [  412.46377746,  1185.43493535,  1560.09406225, ...,\n",
       "         -380.24972738,  -380.24972738,  -380.24972738],\n",
       "       ...,\n",
       "       [ -286.0741058 ,   114.48103356,   443.74439676, ...,\n",
       "         -120.20635502,  -120.20635502,  -120.20635502],\n",
       "       [  374.39642979,  1118.40092381,  2040.32767447, ...,\n",
       "          -46.17235046,   -46.17235046,   -46.17235046],\n",
       "       [ -709.96680179, -1928.20848332, -2315.50912541, ...,\n",
       "          304.15679786,   304.15679786,   304.15679786]])\n",
       "Coordinates:\n",
       "    time_snp   (time) datetime64[ns] 1992-03-01 1992-04-01 ... 2015-12-01\n",
       "  * theta_bin  (theta_bin) float64 -1.95 -1.85 -1.75 -1.65 ... 3.65 3.75 3.85\n",
       "  * time       (time) datetime64[ns] 1992-02-13 1992-03-15 ... 2015-11-14"
      ]
     },
     "execution_count": 47,
     "metadata": {},
     "output_type": "execute_result"
    }
   ],
   "source": [
    "dVdt = delta_V.swap_dims({'time_snp': 'time'}) / ds.dt[1:-1]\n",
    "dVdt.load()"
   ]
  },
  {
   "cell_type": "markdown",
   "metadata": {},
   "source": [
    "## $\\Omega_{total}$"
   ]
  },
  {
   "cell_type": "code",
   "execution_count": 48,
   "metadata": {},
   "outputs": [],
   "source": [
    "omega_total = -histogram(ds.THETA.rename('theta').chunk({'i':-1}), bins=[theta_bins],\n",
    "                         weights=(alpha*ds.total_tendency_TH_truth.fillna(0.)),\n",
    "                         dim=['i', 'j', 'k']) / delta_theta"
   ]
  },
  {
   "cell_type": "code",
   "execution_count": 49,
   "metadata": {},
   "outputs": [
    {
     "data": {
      "text/html": [
       "<pre>&lt;xarray.DataArray &#x27;histogram_theta&#x27; (time: 288, theta_bin: 59)&gt;\n",
       "array([[   -0.        ,    -0.        ,    -0.        , ...,\n",
       "           -0.        ,    -0.        ,    -0.        ],\n",
       "       [  208.73611358,  -109.98684075,  -448.60588214, ...,\n",
       "           -0.        ,    -0.        ,    -0.        ],\n",
       "       [  113.67753052,   301.60214146,   284.38693913, ...,\n",
       "           -0.        ,    -0.        ,    -0.        ],\n",
       "       ...,\n",
       "       [   76.19848298,  1021.82326382,  2364.89114531, ...,\n",
       "           -0.        ,    -0.        ,    -0.        ],\n",
       "       [ -204.54671417, -1456.22128393, -3147.69934596, ...,\n",
       "           -0.        ,    -0.        ,    -0.        ],\n",
       "       [   -0.        ,    -0.        ,    -0.        , ...,\n",
       "           -0.        ,    -0.        ,    -0.        ]])\n",
       "Coordinates:\n",
       "  * time       (time) datetime64[ns] 1992-01-15 1992-02-13 ... 2015-12-14\n",
       "  * theta_bin  (theta_bin) float64 -1.95 -1.85 -1.75 -1.65 ... 3.65 3.75 3.85</pre>"
      ],
      "text/plain": [
       "<xarray.DataArray 'histogram_theta' (time: 288, theta_bin: 59)>\n",
       "array([[   -0.        ,    -0.        ,    -0.        , ...,\n",
       "           -0.        ,    -0.        ,    -0.        ],\n",
       "       [  208.73611358,  -109.98684075,  -448.60588214, ...,\n",
       "           -0.        ,    -0.        ,    -0.        ],\n",
       "       [  113.67753052,   301.60214146,   284.38693913, ...,\n",
       "           -0.        ,    -0.        ,    -0.        ],\n",
       "       ...,\n",
       "       [   76.19848298,  1021.82326382,  2364.89114531, ...,\n",
       "           -0.        ,    -0.        ,    -0.        ],\n",
       "       [ -204.54671417, -1456.22128393, -3147.69934596, ...,\n",
       "           -0.        ,    -0.        ,    -0.        ],\n",
       "       [   -0.        ,    -0.        ,    -0.        , ...,\n",
       "           -0.        ,    -0.        ,    -0.        ]])\n",
       "Coordinates:\n",
       "  * time       (time) datetime64[ns] 1992-01-15 1992-02-13 ... 2015-12-14\n",
       "  * theta_bin  (theta_bin) float64 -1.95 -1.85 -1.75 -1.65 ... 3.65 3.75 3.85"
      ]
     },
     "execution_count": 49,
     "metadata": {},
     "output_type": "execute_result"
    }
   ],
   "source": [
    "omega_total.load()"
   ]
  },
  {
   "cell_type": "code",
   "execution_count": 50,
   "metadata": {},
   "outputs": [
    {
     "data": {
      "text/plain": [
       "<matplotlib.collections.QuadMesh at 0x7f0862e80fd0>"
      ]
     },
     "execution_count": 50,
     "metadata": {},
     "output_type": "execute_result"
    },
    {
     "data": {
      "image/png": "[encoded data removed]",
      "text/plain": [
       "<Figure size 432x288 with 2 Axes>"
      ]
     },
     "metadata": {
      "needs_background": "light"
     },
     "output_type": "display_data"
    }
   ],
   "source": [
    "omega_total.plot(x='time')"
   ]
  },
  {
   "cell_type": "code",
   "execution_count": 22,
   "metadata": {},
   "outputs": [
    {
     "data": {
      "text/plain": [
       "<matplotlib.collections.QuadMesh at 0x7f6c6501b0b8>"
      ]
     },
     "execution_count": 22,
     "metadata": {},
     "output_type": "execute_result"
    },
    {
     "data": {
      "image/png": "[encoded data removed]",
      "text/plain": [
       "<Figure size 432x288 with 2 Axes>"
      ]
     },
     "metadata": {
      "needs_background": "light"
     },
     "output_type": "display_data"
    }
   ],
   "source": [
    "alpha.mean(dim='time')[0].plot()"
   ]
  },
  {
   "cell_type": "markdown",
   "metadata": {},
   "source": [
    "## <font color='Green'>\\begin{equation*} R1 = \\frac{\\partial \\mathcal{V}}{\\partial t} - \\Omega_{total} \\end{equation*} (Discretization of salt layers) </font>"
   ]
  },
  {
   "cell_type": "code",
   "execution_count": 51,
   "metadata": {},
   "outputs": [
    {
     "data": {
      "text/plain": [
       "<matplotlib.collections.QuadMesh at 0x7f0862dd9470>"
      ]
     },
     "execution_count": 51,
     "metadata": {},
     "output_type": "execute_result"
    },
    {
     "data": {
      "image/png": "[encoded data removed]",
      "text/plain": [
       "<Figure size 432x288 with 2 Axes>"
      ]
     },
     "metadata": {
      "needs_background": "light"
     },
     "output_type": "display_data"
    }
   ],
   "source": [
    "R1 = dVdt - omega_total[1:-1]\n",
    "R1.plot(x='time', vmax=5e7)"
   ]
  },
  {
   "cell_type": "code",
   "execution_count": 52,
   "metadata": {},
   "outputs": [
    {
     "data": {
      "image/png": "[encoded data removed]",
      "text/plain": [
       "<Figure size 1080x288 with 6 Axes>"
      ]
     },
     "metadata": {
      "needs_background": "light"
     },
     "output_type": "display_data"
    }
   ],
   "source": [
    "fig, (ax0, ax1, ax2) = plt.subplots(1, 3, figsize=(15, 4), sharex=True)\n",
    "\n",
    "(dVdt/1e6).resample(time='AS').mean(dim='time').plot(x='time', ax=ax0,\n",
    "                                                     cbar_kwargs={'shrink': 0.8, 'label':r'Sverdrup [$\\frac{m^3}{s}$]'})\n",
    "ax0.set_ylabel('Potential Temperature [˚C]', fontsize=14)\n",
    "ax0.set_xlabel('Time', fontsize=14)\n",
    "ax0.set_title(r'$\\frac{\\partial \\mathcal{V}}{\\partial t}$', fontsize=24)\n",
    "\n",
    "(omega_total[1:-1]/1e6).resample(time='AS').mean(dim='time').plot(x='time', ax=ax1, \n",
    "                                                            cbar_kwargs={'shrink': 0.8, 'label':r'Sverdrup [$\\frac{m^3}{s}$]'})\n",
    "ax1.set_ylabel('Potential Temperature [˚C]', fontsize=14)\n",
    "ax1.set_xlabel('Time', fontsize=14)\n",
    "ax1.set_title('$\\Omega$ (total_tendency)', fontsize=20)\n",
    "\n",
    "(R1/1e6).resample(time='AS').mean(dim='time').plot(x='time', ax=ax2, \n",
    "                                                   cbar_kwargs={'shrink': 0.8, 'label':r'Sverdrup [$\\frac{m^3}{s}$]'})\n",
    "ax2.set_ylabel('Potential Temperature [˚C]', fontsize=14)\n",
    "ax2.set_xlabel('Time', fontsize=14)\n",
    "ax2.set_title(r'Residual of $\\frac{\\partial \\mathcal{V}}{\\partial t}$ and $\\Omega$', fontsize=20)\n",
    "\n",
    "plt.tight_layout();"
   ]
  },
  {
   "cell_type": "code",
   "execution_count": 53,
   "metadata": {},
   "outputs": [
    {
     "data": {
      "image/png": "[encoded data removed]",
      "text/plain": [
       "<Figure size 1080x288 with 2 Axes>"
      ]
     },
     "metadata": {
      "needs_background": "light"
     },
     "output_type": "display_data"
    }
   ],
   "source": [
    "fig, (ax0, ax1) = plt.subplots(1, 2, figsize=(15, 4), sharex=True)\n",
    "\n",
    "(dVdt/1e6).mean(dim='time').plot(label='dVdt', ax=ax0)\n",
    "(omega_total/1e6).mean(dim='time').plot(label=r'$\\Omega_{tottend}$', ax=ax0)\n",
    "(R1/1e6).mean(dim='time').plot(label='residual', ax=ax0)\n",
    "ax0.set_ylabel(r'Sverdrup [$\\frac{m^3}{s}$]')\n",
    "ax0.set_xlabel('Potential Temperature [˚C]')\n",
    "ax0.legend()\n",
    "ax0.set_title(r'$\\frac{\\partial \\mathcal{V}}{\\partial t} = \\Omega + R1$', fontsize=20)\n",
    "\n",
    "(dVdt/1e6).mean(dim='time').plot(label='dVdt', ax=ax1)\n",
    "((omega_total + R1)/1e6).mean(dim='time').plot(label=r'$\\Omega_{tottend} + R1$', ax=ax1)\n",
    "ax1.set_ylabel(r'Sverdrup [$\\frac{m^3}{s}$]')\n",
    "ax1.set_xlabel('Potential Temperature [˚C]')\n",
    "ax1.legend()\n",
    "ax1.set_title(r'$\\frac{\\partial \\mathcal{V}}{\\partial t} = \\Omega_{total} + R1$', fontsize=20)\n",
    "\n",
    "plt.tight_layout();"
   ]
  },
  {
   "cell_type": "markdown",
   "metadata": {},
   "source": [
    "## <span style='color:Green'> \\begin{equation*} \\Omega_{transformation-rate} \\end{equation*}"
   ]
  },
  {
   "cell_type": "code",
   "execution_count": 54,
   "metadata": {},
   "outputs": [],
   "source": [
    "ds_tmp = ds_tmp * alpha"
   ]
  },
  {
   "cell_type": "code",
   "execution_count": 55,
   "metadata": {},
   "outputs": [],
   "source": [
    "def histogram_func(variable):\n",
    "    \"\"\"Generalized xhistogram's histogram function \n",
    "    for adv and diff flux terms\"\"\"\n",
    "    hist = histogram(ds.THETA.rename('theta').chunk({'i':-1}), bins=[theta_bins],\n",
    "                     weights=(variable.fillna(0.)), dim=['i', 'j', 'k'])\n",
    "    return hist / delta_theta"
   ]
  },
  {
   "cell_type": "code",
   "execution_count": 56,
   "metadata": {},
   "outputs": [
    {
     "data": {
      "text/plain": [
       "['conv_horiz_adv_flux_TH',\n",
       " 'conv_horiz_diff_flux_TH',\n",
       " 'conv_vert_adv_flux_TH',\n",
       " 'conv_vert_diff_flux_TH',\n",
       " 'surface_flux_conv_TH',\n",
       " 'sw_flux_conv_TH',\n",
       " 'total_tendency_TH_truth']"
      ]
     },
     "execution_count": 56,
     "metadata": {},
     "output_type": "execute_result"
    }
   ],
   "source": [
    "all_tendencies = list(ds_tmp)\n",
    "all_tendencies"
   ]
  },
  {
   "cell_type": "code",
   "execution_count": 57,
   "metadata": {},
   "outputs": [
    {
     "data": {
      "text/html": [
       "<pre>&lt;xarray.Dataset&gt;\n",
       "Dimensions:                        (theta_bin: 59, time: 288)\n",
       "Coordinates:\n",
       "  * time                           (time) datetime64[ns] 1992-01-15 ... 2015-12-14\n",
       "  * theta_bin                      (theta_bin) float64 -1.95 -1.85 ... 3.75 3.85\n",
       "Data variables:\n",
       "    OMEGA_conv_horiz_adv_flux_TH   (time, theta_bin) float64 dask.array&lt;chunksize=(1, 59), meta=np.ndarray&gt;\n",
       "    OMEGA_conv_horiz_diff_flux_TH  (time, theta_bin) float64 dask.array&lt;chunksize=(1, 59), meta=np.ndarray&gt;\n",
       "    OMEGA_conv_vert_adv_flux_TH    (time, theta_bin) float64 dask.array&lt;chunksize=(1, 59), meta=np.ndarray&gt;\n",
       "    OMEGA_conv_vert_diff_flux_TH   (time, theta_bin) float64 dask.array&lt;chunksize=(1, 59), meta=np.ndarray&gt;\n",
       "    OMEGA_surface_flux_conv_TH     (time, theta_bin) float64 dask.array&lt;chunksize=(1, 59), meta=np.ndarray&gt;\n",
       "    OMEGA_sw_flux_conv_TH          (time, theta_bin) float64 dask.array&lt;chunksize=(1, 59), meta=np.ndarray&gt;\n",
       "    OMEGA_total_tendency_TH_truth  (time, theta_bin) float64 dask.array&lt;chunksize=(1, 59), meta=np.ndarray&gt;</pre>"
      ],
      "text/plain": [
       "<xarray.Dataset>\n",
       "Dimensions:                        (theta_bin: 59, time: 288)\n",
       "Coordinates:\n",
       "  * time                           (time) datetime64[ns] 1992-01-15 ... 2015-12-14\n",
       "  * theta_bin                      (theta_bin) float64 -1.95 -1.85 ... 3.75 3.85\n",
       "Data variables:\n",
       "    OMEGA_conv_horiz_adv_flux_TH   (time, theta_bin) float64 dask.array<chunksize=(1, 59), meta=np.ndarray>\n",
       "    OMEGA_conv_horiz_diff_flux_TH  (time, theta_bin) float64 dask.array<chunksize=(1, 59), meta=np.ndarray>\n",
       "    OMEGA_conv_vert_adv_flux_TH    (time, theta_bin) float64 dask.array<chunksize=(1, 59), meta=np.ndarray>\n",
       "    OMEGA_conv_vert_diff_flux_TH   (time, theta_bin) float64 dask.array<chunksize=(1, 59), meta=np.ndarray>\n",
       "    OMEGA_surface_flux_conv_TH     (time, theta_bin) float64 dask.array<chunksize=(1, 59), meta=np.ndarray>\n",
       "    OMEGA_sw_flux_conv_TH          (time, theta_bin) float64 dask.array<chunksize=(1, 59), meta=np.ndarray>\n",
       "    OMEGA_total_tendency_TH_truth  (time, theta_bin) float64 dask.array<chunksize=(1, 59), meta=np.ndarray>"
      ]
     },
     "execution_count": 57,
     "metadata": {},
     "output_type": "execute_result"
    }
   ],
   "source": [
    "all_dsets = xr.merge([histogram_func(ds_tmp[var]).rename('OMEGA_' + var)\n",
    "                      for var in all_tendencies])\n",
    "all_dsets"
   ]
  },
  {
   "cell_type": "code",
   "execution_count": 52,
   "metadata": {},
   "outputs": [
    {
     "data": {
      "text/plain": [
       "<matplotlib.collections.QuadMesh at 0x7f6c3336d828>"
      ]
     },
     "execution_count": 52,
     "metadata": {},
     "output_type": "execute_result"
    },
    {
     "data": {
      "image/png": "[encoded data removed]",
      "text/plain": [
       "<Figure size 432x288 with 2 Axes>"
      ]
     },
     "metadata": {
      "needs_background": "light"
     },
     "output_type": "display_data"
    }
   ],
   "source": [
    "#checking to see if it looks the same as omega_total subplot above (and it does!)\n",
    "(-all_dsets.OMEGA_total_tendency_TH_truth/1e6).resample(time='AS').mean(dim='time').plot(x='time')"
   ]
  },
  {
   "cell_type": "code",
   "execution_count": 58,
   "metadata": {},
   "outputs": [
    {
     "data": {
      "text/html": [
       "<pre>&lt;xarray.DataArray (time: 288, theta_bin: 59)&gt;\n",
       "array([[  -43.41277403,  -596.42448363, -1311.15308723, ...,\n",
       "           -0.        ,    -0.        ,    -0.        ],\n",
       "       [  200.96498857,   -60.77196626,  -364.12208573, ...,\n",
       "           -0.        ,    -0.        ,    -0.        ],\n",
       "       [   13.39192103,   297.75516159,   377.1716997 , ...,\n",
       "           -0.        ,    -0.        ,    -0.        ],\n",
       "       ...,\n",
       "       [   68.07987849,   969.9807851 ,  2371.05982437, ...,\n",
       "           -0.        ,    -0.        ,    -0.        ],\n",
       "       [ -213.95865575, -1341.92557154, -2855.75028322, ...,\n",
       "           -0.        ,    -0.        ,    -0.        ],\n",
       "       [  -70.38137999, -1167.84871897, -2892.59386925, ...,\n",
       "           -0.        ,    -0.        ,    -0.        ]])\n",
       "Coordinates:\n",
       "  * time       (time) datetime64[ns] 1992-01-15 1992-02-13 ... 2015-12-14\n",
       "  * theta_bin  (theta_bin) float64 -1.95 -1.85 -1.75 -1.65 ... 3.65 3.75 3.85</pre>"
      ],
      "text/plain": [
       "<xarray.DataArray (time: 288, theta_bin: 59)>\n",
       "array([[  -43.41277403,  -596.42448363, -1311.15308723, ...,\n",
       "           -0.        ,    -0.        ,    -0.        ],\n",
       "       [  200.96498857,   -60.77196626,  -364.12208573, ...,\n",
       "           -0.        ,    -0.        ,    -0.        ],\n",
       "       [   13.39192103,   297.75516159,   377.1716997 , ...,\n",
       "           -0.        ,    -0.        ,    -0.        ],\n",
       "       ...,\n",
       "       [   68.07987849,   969.9807851 ,  2371.05982437, ...,\n",
       "           -0.        ,    -0.        ,    -0.        ],\n",
       "       [ -213.95865575, -1341.92557154, -2855.75028322, ...,\n",
       "           -0.        ,    -0.        ,    -0.        ],\n",
       "       [  -70.38137999, -1167.84871897, -2892.59386925, ...,\n",
       "           -0.        ,    -0.        ,    -0.        ]])\n",
       "Coordinates:\n",
       "  * time       (time) datetime64[ns] 1992-01-15 1992-02-13 ... 2015-12-14\n",
       "  * theta_bin  (theta_bin) float64 -1.95 -1.85 -1.75 -1.65 ... 3.65 3.75 3.85"
      ]
     },
     "execution_count": 58,
     "metadata": {},
     "output_type": "execute_result"
    }
   ],
   "source": [
    "omega_trans_rate = - (all_dsets.OMEGA_conv_horiz_diff_flux_TH + \n",
    "                      all_dsets.OMEGA_conv_vert_diff_flux_TH +\n",
    "                      all_dsets.OMEGA_sw_flux_conv_TH + \n",
    "                      all_dsets.OMEGA_surface_flux_conv_TH)\n",
    "omega_trans_rate.load()"
   ]
  },
  {
   "cell_type": "code",
   "execution_count": 59,
   "metadata": {},
   "outputs": [
    {
     "data": {
      "image/png": "[encoded data removed]",
      "text/plain": [
       "<Figure size 792x288 with 2 Axes>"
      ]
     },
     "metadata": {
      "needs_background": "light"
     },
     "output_type": "display_data"
    }
   ],
   "source": [
    "(omega_trans_rate.resample(time='AS').mean()/1e6).plot(x='time', figsize=(11,4), \n",
    "                                                       cbar_kwargs={'shrink': 0.8, 'label':r'Sverdrup [$\\frac{m^3}{s}$]'})\n",
    "plt.ylabel('Potential Temperature [˚C]', fontsize=14)\n",
    "plt.xlabel('Time', fontsize=14)\n",
    "plt.title(r'$\\Omega_{Transformation\\ Rate}$', fontsize=20);"
   ]
  },
  {
   "cell_type": "markdown",
   "metadata": {},
   "source": [
    "## <font color='Green'> \\begin{equation*} \\Psi_{adv} = \\Psi_{vel} + R2 \\end{equation*} (Numerical Mixing) </font>"
   ]
  },
  {
   "cell_type": "markdown",
   "metadata": {},
   "source": [
    "## $\\Psi_{adv}$"
   ]
  },
  {
   "cell_type": "code",
   "execution_count": 55,
   "metadata": {},
   "outputs": [],
   "source": [
    "psi_adv = -(all_dsets.OMEGA_conv_horiz_adv_flux_TH + all_dsets.OMEGA_conv_vert_adv_flux_TH)"
   ]
  },
  {
   "cell_type": "code",
   "execution_count": 56,
   "metadata": {},
   "outputs": [
    {
     "data": {
      "image/png": "[encoded data removed]",
      "text/plain": [
       "<Figure size 792x288 with 2 Axes>"
      ]
     },
     "metadata": {
      "needs_background": "light"
     },
     "output_type": "display_data"
    }
   ],
   "source": [
    "(psi_adv/1e6).resample(time='AS').mean(dim='time').plot(x='time', figsize=(11,4), \n",
    "                                                        cbar_kwargs={'shrink': 0.8, 'label':r'Sverdrup [$\\frac{m^3}{s}$]'})\n",
    "plt.ylabel('Potential Temperature [˚C]', fontsize=14)\n",
    "plt.xlabel('Time', fontsize=14)\n",
    "plt.title(r'$\\Psi_{adv}$', fontsize=20);"
   ]
  },
  {
   "cell_type": "markdown",
   "metadata": {},
   "source": [
    "## $\\Psi_{vel}$"
   ]
  },
  {
   "cell_type": "code",
   "execution_count": 58,
   "metadata": {},
   "outputs": [],
   "source": [
    "#this is the \"dA\" part of the equation\n",
    "u_transport_right = (ds.UVEL * coords.dyG * coords.drF).isel(i_g=-1) #m^3/s #(-) values -> westward, (+) values -> east\n",
    "u_transport_left = (ds.UVEL * coords.dyG * coords.drF).isel(i_g=0)\n",
    "v_transport = (ds.VVEL * coords.dxG * coords.drF).isel(j_g=-1) #m^3/s #(-) values -> south, (+) values -> north\n",
    "w_transport = ds.WVEL.isel(k_l=0) * coords.rA #m^3/s #(-) values are massflux into the ocean, (+) values are massflux out of the ocean"
   ]
  },
  {
   "cell_type": "code",
   "execution_count": 59,
   "metadata": {},
   "outputs": [
    {
     "data": {
      "text/html": [
       "<pre>&lt;xarray.DataArray ()&gt;\n",
       "array(-38.406273, dtype=float32)</pre>"
      ],
      "text/plain": [
       "<xarray.DataArray ()>\n",
       "array(-38.406273, dtype=float32)"
      ]
     },
     "execution_count": 59,
     "metadata": {},
     "output_type": "execute_result"
    }
   ],
   "source": [
    "u_transport_mean_value = (u_transport_right.sum(dim=['j', 'k']) -\n",
    "                          u_transport_left.sum(dim=['j', 'k'])).mean(dim='time')/1e6\n",
    "u_transport_mean_value.load()"
   ]
  },
  {
   "cell_type": "code",
   "execution_count": 60,
   "metadata": {},
   "outputs": [
    {
     "data": {
      "text/html": [
       "<pre>&lt;xarray.DataArray ()&gt;\n",
       "array(38.4216, dtype=float32)</pre>"
      ],
      "text/plain": [
       "<xarray.DataArray ()>\n",
       "array(38.4216, dtype=float32)"
      ]
     },
     "execution_count": 60,
     "metadata": {},
     "output_type": "execute_result"
    }
   ],
   "source": [
    "v_transport_mean_value = v_transport.mean(dim='time').sum()/1e6\n",
    "v_transport_mean_value.load()"
   ]
  },
  {
   "cell_type": "code",
   "execution_count": 61,
   "metadata": {},
   "outputs": [
    {
     "data": {
      "text/html": [
       "<pre>&lt;xarray.DataArray ()&gt;\n",
       "array(-0.01507538, dtype=float32)\n",
       "Coordinates:\n",
       "    k_l      int64 0</pre>"
      ],
      "text/plain": [
       "<xarray.DataArray ()>\n",
       "array(-0.01507538, dtype=float32)\n",
       "Coordinates:\n",
       "    k_l      int64 0"
      ]
     },
     "execution_count": 61,
     "metadata": {},
     "output_type": "execute_result"
    }
   ],
   "source": [
    "w_transport_mean_value = w_transport.mean(dim='time').sum()/1e6\n",
    "w_transport_mean_value.load()"
   ]
  },
  {
   "cell_type": "code",
   "execution_count": 62,
   "metadata": {},
   "outputs": [
    {
     "data": {
      "text/html": [
       "<pre>&lt;xarray.DataArray ()&gt;\n",
       "array(0.00025208, dtype=float32)\n",
       "Coordinates:\n",
       "    k_l      int64 0</pre>"
      ],
      "text/plain": [
       "<xarray.DataArray ()>\n",
       "array(0.00025208, dtype=float32)\n",
       "Coordinates:\n",
       "    k_l      int64 0"
      ]
     },
     "execution_count": 62,
     "metadata": {},
     "output_type": "execute_result"
    }
   ],
   "source": [
    "residual = u_transport_mean_value + v_transport_mean_value + w_transport_mean_value\n",
    "residual"
   ]
  },
  {
   "cell_type": "code",
   "execution_count": 63,
   "metadata": {},
   "outputs": [],
   "source": [
    "# hack theta to be on same grid pt as velocity components\n",
    "theta_at_u_right = ds.THETA.isel(i=-1)\n",
    "theta_at_u_left = ds.THETA.isel(i=0)\n",
    "theta_at_v = ds.THETA.isel(j=-1)\n",
    "theta_at_w = ds.THETA.isel(k=0)"
   ]
  },
  {
   "cell_type": "code",
   "execution_count": 121,
   "metadata": {},
   "outputs": [],
   "source": [
    "#this is the delta function part of the equation above\n",
    "u_binned_right = histogram(theta_at_u_right.rename('theta'), bins=[theta_bins],\n",
    "                     weights=(alpha.isel(i=-1)*u_transport_right), dim=['k', 'j'])\n",
    "u_binned_left = histogram(theta_at_u_left.rename('theta'), bins=[theta_bins],\n",
    "                     weights=(alpha.isel(i=0)*u_transport_left), dim=['k', 'j'])\n",
    "v_binned = histogram(theta_at_v.rename('theta'), bins=[theta_bins],\n",
    "                     weights=(alpha.isel(j=-1)*v_transport), dim=['k', 'i'])\n",
    "w_binned = histogram(theta_at_w.rename('theta'), bins=[theta_bins],\n",
    "                     weights=(alpha.isel(k=0)*w_transport), dim=['i', 'j'])"
   ]
  },
  {
   "cell_type": "code",
   "execution_count": 122,
   "metadata": {},
   "outputs": [],
   "source": [
    "psi_vel = -(u_binned_right + u_binned_left + v_binned).cumsum(dim='theta_bin')"
   ]
  },
  {
   "cell_type": "code",
   "execution_count": 123,
   "metadata": {},
   "outputs": [
    {
     "data": {
      "text/html": [
       "<pre>&lt;xarray.DataArray &#x27;histogram_theta&#x27; (time: 288, theta_bin: 59)&gt;\n",
       "array([[   -0.        ,    -0.        ,     7.32738005, ...,\n",
       "        -3624.29538735, -3624.29538735, -3624.29538735],\n",
       "       [   -0.        ,    -0.        ,    -0.        , ...,\n",
       "        -3268.85675915, -3268.85675915, -3268.85675915],\n",
       "       [   -0.        ,    -0.        ,    -0.        , ...,\n",
       "        -3808.42969512, -3808.42969512, -3808.42969512],\n",
       "       ...,\n",
       "       [   -0.        ,   -99.18285894,  -204.71392435, ...,\n",
       "        -3848.989518  , -3848.989518  , -3848.989518  ],\n",
       "       [   -0.        ,    15.24223919,  -251.4370353 , ...,\n",
       "        -3440.79961367, -3440.79961367, -3440.79961367],\n",
       "       [   -0.        ,    -0.        ,    -7.04319287, ...,\n",
       "        -3304.13731826, -3304.13731826, -3304.13731826]])\n",
       "Coordinates:\n",
       "  * time       (time) datetime64[ns] 1992-01-15 1992-02-13 ... 2015-12-14\n",
       "  * theta_bin  (theta_bin) float64 -1.95 -1.85 -1.75 -1.65 ... 3.65 3.75 3.85</pre>"
      ],
      "text/plain": [
       "<xarray.DataArray 'histogram_theta' (time: 288, theta_bin: 59)>\n",
       "array([[   -0.        ,    -0.        ,     7.32738005, ...,\n",
       "        -3624.29538735, -3624.29538735, -3624.29538735],\n",
       "       [   -0.        ,    -0.        ,    -0.        , ...,\n",
       "        -3268.85675915, -3268.85675915, -3268.85675915],\n",
       "       [   -0.        ,    -0.        ,    -0.        , ...,\n",
       "        -3808.42969512, -3808.42969512, -3808.42969512],\n",
       "       ...,\n",
       "       [   -0.        ,   -99.18285894,  -204.71392435, ...,\n",
       "        -3848.989518  , -3848.989518  , -3848.989518  ],\n",
       "       [   -0.        ,    15.24223919,  -251.4370353 , ...,\n",
       "        -3440.79961367, -3440.79961367, -3440.79961367],\n",
       "       [   -0.        ,    -0.        ,    -7.04319287, ...,\n",
       "        -3304.13731826, -3304.13731826, -3304.13731826]])\n",
       "Coordinates:\n",
       "  * time       (time) datetime64[ns] 1992-01-15 1992-02-13 ... 2015-12-14\n",
       "  * theta_bin  (theta_bin) float64 -1.95 -1.85 -1.75 -1.65 ... 3.65 3.75 3.85"
      ]
     },
     "execution_count": 123,
     "metadata": {},
     "output_type": "execute_result"
    }
   ],
   "source": [
    "psi_vel.load()"
   ]
  },
  {
   "cell_type": "code",
   "execution_count": null,
   "metadata": {},
   "outputs": [],
   "source": [
    "(psi_vel/1e6).resample(time='AS').mean(dim='time').plot(x='time', figsize=(11,4), \n",
    "                                                        cbar_kwargs={'shrink': 0.8, 'label':r'Sverdrup [$\\frac{m^3}{s}$]'})\n",
    "plt.ylabel('Potential Temperature [˚C]', fontsize=14)\n",
    "plt.xlabel('Time', fontsize=14)\n",
    "plt.title('$\\Psi_{vel}$', fontsize=20);"
   ]
  },
  {
   "cell_type": "code",
   "execution_count": null,
   "metadata": {},
   "outputs": [],
   "source": [
    "(psi_vel/1e6).resample(time='AS').mean(dim='time').plot.line(y='theta_bin', add_legend=False);"
   ]
  },
  {
   "cell_type": "markdown",
   "metadata": {},
   "source": [
    "## R2 = $\\Psi_{adv} - \\Psi_{vel}$ (Numerical Mixing)"
   ]
  },
  {
   "cell_type": "code",
   "execution_count": null,
   "metadata": {},
   "outputs": [],
   "source": [
    "R2 = psi_adv - psi_vel\n",
    "(R2/1e6).resample(time='AS').mean(dim='time').plot(x='time', figsize=(11,4), cbar_kwargs={'shrink': 0.8, 'label':r'Sverdrup [$\\frac{m^3}{s}$]'})\n",
    "plt.ylabel('Potential Temperature [˚C]', fontsize=14)\n",
    "plt.xlabel('Time', fontsize=14)\n",
    "plt.title(r'Residual of $\\Psi_{adv}$ and $\\Psi_{vel}$', fontsize=20);"
   ]
  },
  {
   "cell_type": "code",
   "execution_count": null,
   "metadata": {},
   "outputs": [],
   "source": [
    "fig, (ax0, ax1, ax2) = plt.subplots(1, 3, figsize=(15, 4), sharex=True)\n",
    "\n",
    "(psi_adv/1e6).resample(time='AS').mean(dim='time').plot(x='time', ax=ax0,\n",
    "                                                     cbar_kwargs={'shrink': 0.8, 'label':r'Sverdrup [$\\frac{m^3}{s}$]'})\n",
    "ax0.set_ylabel('Potential Temperature [˚C]', fontsize=14)\n",
    "ax0.set_xlabel('Time', fontsize=14)\n",
    "ax0.set_title(r'$\\Psi_{adv}$', fontsize=24)\n",
    "\n",
    "(psi_vel/1e6).resample(time='AS').mean(dim='time').plot(x='time', ax=ax1, \n",
    "                                                            cbar_kwargs={'shrink': 0.8, 'label':r'Sverdrup [$\\frac{m^3}{s}$]'})\n",
    "ax1.set_ylabel('Potential Temperature [˚C]', fontsize=14)\n",
    "ax1.set_xlabel('Time', fontsize=14)\n",
    "ax1.set_title('$\\Psi_{vel}$', fontsize=20)\n",
    "\n",
    "(R2/1e6).resample(time='AS').mean(dim='time').plot(x='time', ax=ax2, \n",
    "                                                   cbar_kwargs={'shrink': 0.8, 'label':r'Sverdrup [$\\frac{m^3}{s}$]'})\n",
    "ax2.set_ylabel('Potential Temperature [˚C]', fontsize=14)\n",
    "ax2.set_xlabel('Time', fontsize=14)\n",
    "ax2.set_title(r'Residual of $\\Psi_{adv} - \\Psi_{vel}$', fontsize=20)\n",
    "\n",
    "plt.tight_layout();"
   ]
  },
  {
   "cell_type": "code",
   "execution_count": null,
   "metadata": {},
   "outputs": [],
   "source": [
    "fig, (ax0, ax1) = plt.subplots(1, 2, figsize=(15, 4), sharex=True)\n",
    "\n",
    "(psi_adv/1e6).mean(dim='time').plot(label=r'$\\Psi_{adv}$', ax=ax0)\n",
    "(psi_vel/1e6).mean(dim='time').plot(label=r'$\\Psi_{vel}$', ax=ax0)\n",
    "(R2/1e6).mean(dim='time').plot(label='residual', ax=ax0)\n",
    "ax0.set_ylabel(r'Sverdrup [$\\frac{m^3}{s}$]')\n",
    "ax0.set_xlabel('Potential Temperature [˚C]')\n",
    "ax0.legend()\n",
    "ax0.set_title(r'$\\Psi_{adv} = \\Psi_{vel} + R2$', fontsize=20)\n",
    "\n",
    "(psi_adv/1e6).mean(dim='time').plot(label='dVdt', ax=ax1)\n",
    "((psi_vel + R2)/1e6).mean(dim='time').plot(label=r'$\\Omega_{tottend} + R1$', ax=ax1)\n",
    "ax1.set_ylabel(r'Sverdrup [$\\frac{m^3}{s}$]')\n",
    "ax1.set_xlabel('Potential Temperature [˚C]')\n",
    "ax1.legend()\n",
    "ax1.set_title(r'$\\Psi_{adv} = \\Psi_{vel} + R2$', fontsize=20)\n",
    "\n",
    "plt.tight_layout();"
   ]
  },
  {
   "cell_type": "markdown",
   "metadata": {},
   "source": [
    "# <font color='Green'>\\begin{equation*} \\Omega_{tottend-truth} = \\Psi_{adv} + \\Omega_{trans-rate} + R3 \\end{equation*} </font>"
   ]
  },
  {
   "cell_type": "code",
   "execution_count": null,
   "metadata": {},
   "outputs": [],
   "source": [
    "R3 = omega_total - (psi_adv + omega_trans_rate)\n",
    "R3.load()"
   ]
  },
  {
   "cell_type": "code",
   "execution_count": null,
   "metadata": {},
   "outputs": [],
   "source": [
    "fig, ax = plt.subplots(2, 2, figsize=(15, 8), sharex=True)\n",
    "\n",
    "(omega_total/1e6).resample(time='AS').mean(dim='time').plot(x='time', ax=ax[0,0],\n",
    "                                                     cbar_kwargs={'shrink': 0.8, 'label':r'Sverdrup [$\\frac{m^3}{s}$]'})\n",
    "ax[0,0].set_ylabel('Potential Temperature [˚C]', fontsize=14)\n",
    "ax[0,0].set_xlabel('Time', fontsize=14)\n",
    "ax[0,0].set_title(r'$\\Omega{tottend-truth}$', fontsize=20)\n",
    "\n",
    "(psi_adv/1e6).resample(time='AS').mean(dim='time').plot(x='time', ax=ax[0,1], \n",
    "                                                            cbar_kwargs={'shrink': 0.8, 'label':r'Sverdrup [$\\frac{m^3}{s}$]'})\n",
    "ax[0,1].set_ylabel('Potential Temperature [˚C]', fontsize=14)\n",
    "ax[0,1].set_xlabel('Time', fontsize=14)\n",
    "ax[0,1].set_title('$\\Psi_{adv}$', fontsize=20)\n",
    "\n",
    "(R3/1e6).resample(time='AS').mean(dim='time').plot(x='time', ax=ax[1,0], \n",
    "                                                   cbar_kwargs={'shrink': 0.8, 'label':r'Sverdrup [$\\frac{m^3}{s}$]'})\n",
    "ax[1,0].set_ylabel('Potential Temperature [˚C]', fontsize=14)\n",
    "ax[1,0].set_xlabel('Time', fontsize=14)\n",
    "ax[1,0].set_title(r'R3$', fontsize=20)\n",
    "\n",
    "(omega_trans_rate/1e6).resample(time='AS').mean(dim='time').plot(x='time', ax=ax[1,1], \n",
    "                                                            cbar_kwargs={'shrink': 0.8, 'label':r'Sverdrup [$\\frac{m^3}{s}$]'})\n",
    "ax[1,1].set_ylabel('Potential Temperature [˚C]', fontsize=14)\n",
    "ax[1,1].set_xlabel('Time', fontsize=14)\n",
    "ax[1,1].set_title('$\\Omega_{trans-rate}$', fontsize=20)\n",
    "\n",
    "plt.tight_layout();"
   ]
  },
  {
   "cell_type": "code",
   "execution_count": null,
   "metadata": {},
   "outputs": [],
   "source": [
    "fig, (ax0, ax1) = plt.subplots(1, 2, figsize=(15, 4), sharex=True)\n",
    "\n",
    "(psi_adv/1e6).mean(dim='time').plot(label=r'$\\Psi_{adv}$', ax=ax0)\n",
    "(omega_total/1e6).mean(dim='time').plot(label=r'$\\Omega_{tottend}$', ax=ax0)\n",
    "(omega_trans_rate/1e6).mean(dim='time').plot(label=r'$\\Omega_{trans-rate}$', ax=ax0)\n",
    "(R3/1e6).mean(dim='time').plot(label='residual', ax=ax0)\n",
    "ax0.set_ylabel(r'Sverdrup [$\\frac{m^3}{s}$]')\n",
    "ax0.set_xlabel('Potential Temperature [˚C]')\n",
    "ax0.legend()\n",
    "ax0.set_title(r'$\\Omega_{tottend} = \\Psi_{adv} + \\Omega_{trans-rate} + R3$', fontsize=20)\n",
    "\n",
    "(omega_total/1e6).mean(dim='time').plot(label='\\Omega_{tottend}', ax=ax1)\n",
    "((psi_adv + omega_trans_rate + R3)/1e6).mean(dim='time').plot(label=r'$\\Psi_{adv}+\\Omega_{trans-rate}+R3$', ax=ax1)\n",
    "ax1.set_ylabel(r'Sverdrup [$\\frac{m^3}{s}$]')\n",
    "ax1.set_xlabel('Potential Temperature [˚C]')\n",
    "ax1.legend()\n",
    "ax1.set_title(r'$\\Omega_{tottend} = \\Psi_{adv} + \\Omega_{trans-rate} + R3$', fontsize=20)\n",
    "\n",
    "plt.tight_layout();"
   ]
  },
  {
   "cell_type": "code",
   "execution_count": null,
   "metadata": {},
   "outputs": [],
   "source": [
    "n = 200\n",
    "omega_total.isel(time=n).plot()\n",
    "(omega_trans_rate + psi_adv).isel(time=n).plot()\n"
   ]
  },
  {
   "cell_type": "code",
   "execution_count": null,
   "metadata": {},
   "outputs": [],
   "source": [
    "omega_total.isel(time=slice(1, -1)).mean(dim='time').plot()\n",
    "(omega_trans_rate + psi_adv).isel(time=slice(1, -1)).mean(dim='time').plot()"
   ]
  },
  {
   "cell_type": "markdown",
   "metadata": {},
   "source": [
    "# <font color='Green'>\\begin{equation*} \\frac{\\partial V}{\\partial t} = \\Psi_{adv} + \\Omega_{trans-rate} + R3 + R1 \\end{equation*} </font>"
   ]
  },
  {
   "cell_type": "code",
   "execution_count": null,
   "metadata": {},
   "outputs": [],
   "source": [
    "(omega_trans_rate[1:-1]/1e6).mean(dim='time').plot(label=r'$\\Omega$')\n",
    "(psi_vel[1:-1]/1e6).mean(dim='time').plot(label=r'$\\Psi$')\n",
    "(dVdt/1e6).mean(dim='time').plot(label='dV/dt', color='k')\n",
    "(R1/1e6).mean(dim='time').plot(label='R1')\n",
    "(R2[1:-1]/1e6).mean(dim='time').plot(label='R2')\n",
    "(R3[1:-1]/1e6).mean(dim='time').plot(label='R3')\n",
    "plt.legend()\n",
    "plt.grid()\n",
    "plt.xlim(2, -2.5)"
   ]
  },
  {
   "cell_type": "code",
   "execution_count": null,
   "metadata": {},
   "outputs": [],
   "source": [
    "omega_mix = -(all_dsets.OMEGA_conv_horiz_diff_flux_TH + \n",
    "                      all_dsets.OMEGA_conv_vert_diff_flux_TH)\n",
    "omega_surf = - (all_dsets.OMEGA_sw_flux_conv_TH + \n",
    "                      all_dsets.OMEGA_surface_flux_conv_TH)"
   ]
  },
  {
   "cell_type": "code",
   "execution_count": null,
   "metadata": {},
   "outputs": [],
   "source": [
    "(omega_trans_rate/1e6).mean(dim='time').plot(figsize=(11,4), label='total transformation', color='k')\n",
    "(omega_mix/1e6).mean(dim='time').plot(label='mixing')\n",
    "(omega_surf/1e6).mean(dim='time').plot(label='surf')\n",
    "plt.legend()\n",
    "plt.grid()\n",
    "plt.xlim(2, -2.5);"
   ]
  },
  {
   "cell_type": "code",
   "execution_count": null,
   "metadata": {},
   "outputs": [],
   "source": [
    "omega_surf.plot(x='time')"
   ]
  },
  {
   "cell_type": "code",
   "execution_count": null,
   "metadata": {},
   "outputs": [],
   "source": [
    "omega_surf.groupby('time.month').mean(dim='time').plot(x='month')"
   ]
  },
  {
   "cell_type": "code",
   "execution_count": null,
   "metadata": {},
   "outputs": [],
   "source": [
    "fig, (ax0,ax1) = plt.subplots(1, 2, figsize=(15,4))\n",
    "\n",
    "(dVdt/1e6).mean(dim='time').plot(label='lhs', ax=ax0) \n",
    "((omega_trans_rate[1:-1] + psi_adv[1:-1] + R3[1:-1] + R1)/1e6).mean(dim='time').plot(label='rhs', ax=ax0)\n",
    "ax0.set_title(r'$\\frac{\\partial \\mathcal{V}}{\\partial t} = \\Omega_{trans-rate} + \\Psi_{adv} + R3 + R1$', fontsize=20, fontweight='bold')\n",
    "ax0.legend()\n",
    "\n",
    "(dVdt/1e6).mean(dim='time').plot(label='lhs', ax=ax1) \n",
    "((omega_trans_rate[1:-1] + R1 + psi_vel[1:-1] + R2[1:-1] + R3[1:-1])/1e6).mean(dim='time').plot(label='rhs', ax=ax1)\n",
    "ax1.set_title(r'$\\frac{\\partial \\mathcal{V}}{\\partial t} = R2 + \\Omega_{trans-rate} + \\Psi_{vel} + R2 + R3$', fontsize=20, fontweight='bold')\n",
    "ax1.legend()\n",
    "\n",
    "plt.tight_layout();"
   ]
  },
  {
   "cell_type": "markdown",
   "metadata": {},
   "source": [
    "# <font color='Green'> \\begin{equation*} Salinity \\end{equation*} </font>"
   ]
  },
  {
   "cell_type": "code",
   "execution_count": null,
   "metadata": {},
   "outputs": [],
   "source": []
  }
 ],
 "metadata": {
  "kernelspec": {
   "display_name": "Python 3",
   "language": "python",
   "name": "python3"
  },
  "language_info": {
   "codemirror_mode": {
    "name": "ipython",
    "version": 3
   },
   "file_extension": ".py",
   "mimetype": "text/x-python",
   "name": "python",
   "nbconvert_exporter": "python",
   "pygments_lexer": "ipython3",
   "version": "3.7.3"
  }
 },
 "nbformat": 4,
 "nbformat_minor": 4
}
