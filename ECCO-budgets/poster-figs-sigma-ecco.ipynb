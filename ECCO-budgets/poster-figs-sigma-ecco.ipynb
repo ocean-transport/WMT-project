{
 "cells": [
  {
   "cell_type": "markdown",
   "metadata": {},
   "source": [
    "# SIGMA \\begin{equation*} \\frac{\\partial V}{\\partial t} = \\Psi + \\Omega \\end{equation*}\n",
    "## **ECCO**"
   ]
  },
  {
   "cell_type": "code",
   "execution_count": 1,
   "metadata": {},
   "outputs": [
    {
     "data": {
      "text/html": [
       "<table style=\"border: 2px solid white;\">\n",
       "<tr>\n",
       "<td style=\"vertical-align: top; border: 0px solid white\">\n",
       "<h3 style=\"text-align: left;\">Client</h3>\n",
       "<ul style=\"text-align: left; list-style: none; margin: 0; padding: 0;\">\n",
       "  <li><b>Scheduler: </b>tcp://10.32.16.15:34943</li>\n",
       "  <li><b>Dashboard: </b><a href='/user/0000-0002-8176-9465/proxy/8787/status' target='_blank'>/user/0000-0002-8176-9465/proxy/8787/status</a>\n",
       "</ul>\n",
       "</td>\n",
       "<td style=\"vertical-align: top; border: 0px solid white\">\n",
       "<h3 style=\"text-align: left;\">Cluster</h3>\n",
       "<ul style=\"text-align: left; list-style:none; margin: 0; padding: 0;\">\n",
       "  <li><b>Workers: </b>30</li>\n",
       "  <li><b>Cores: </b>60</li>\n",
       "  <li><b>Memory: </b>345.00 GB</li>\n",
       "</ul>\n",
       "</td>\n",
       "</tr>\n",
       "</table>"
      ],
      "text/plain": [
       "<Client: 'tcp://10.32.16.15:34943' processes=30 threads=60, memory=345.00 GB>"
      ]
     },
     "execution_count": 1,
     "metadata": {},
     "output_type": "execute_result"
    }
   ],
   "source": [
    "from dask.distributed import Client\n",
    "\n",
    "client = Client(\"tcp://10.32.16.15:34943\")\n",
    "client"
   ]
  },
  {
   "cell_type": "code",
   "execution_count": 2,
   "metadata": {},
   "outputs": [
    {
     "name": "stderr",
     "output_type": "stream",
     "text": [
      "/srv/conda/envs/notebook/lib/python3.7/site-packages/intake/source/discovery.py:136: FutureWarning: The drivers ['geojson', 'postgis', 'shapefile', 'spatialite'] do not specify entry_points and were only discovered via a package scan. This may break in a future release of intake. The packages should be updated.\n",
      "  FutureWarning)\n"
     ]
    }
   ],
   "source": [
    "import xarray as xr\n",
    "from matplotlib import pyplot as plt\n",
    "import gcsfs\n",
    "import dask\n",
    "import dask.array as dsa\n",
    "import numpy as np\n",
    "import intake\n",
    "import fsspec\n",
    "import xmitgcm\n",
    "from xhistogram.xarray import histogram\n",
    "from xmitgcm.llcreader.llcmodel import faces_dataset_to_latlon\n",
    "%matplotlib inline\n",
    "from fastjmd95 import jmd95numba"
   ]
  },
  {
   "cell_type": "code",
   "execution_count": 3,
   "metadata": {},
   "outputs": [
    {
     "data": {
      "text/plain": [
       "<xarray.core.options.set_options at 0x7fbef804aac8>"
      ]
     },
     "execution_count": 3,
     "metadata": {},
     "output_type": "execute_result"
    }
   ],
   "source": [
    "xr.set_options(display_style='text')"
   ]
  },
  {
   "cell_type": "code",
   "execution_count": 4,
   "metadata": {},
   "outputs": [
    {
     "data": {
      "text/html": [
       "<pre>&lt;xarray.Dataset&gt;\n",
       "Dimensions:                   (i: 95, i_g: 96, j: 50, j_g: 51, k: 50, k_l: 50, time: 288)\n",
       "Coordinates:\n",
       "  * k                         (k) int64 0 1 2 3 4 5 6 7 ... 43 44 45 46 47 48 49\n",
       "  * time                      (time) datetime64[ns] 1992-01-15 ... 2015-12-14\n",
       "  * k_l                       (k_l) int64 0 1 2 3 4 5 6 ... 43 44 45 46 47 48 49\n",
       "Dimensions without coordinates: i, i_g, j, j_g\n",
       "Data variables:\n",
       "    conv_horiz_adv_flux_TH    (time, k, j, i) float64 dask.array&lt;chunksize=(1, 50, 50, 95), meta=np.ndarray&gt;\n",
       "    conv_horiz_diff_flux_TH   (time, k, j, i) float64 dask.array&lt;chunksize=(1, 50, 50, 95), meta=np.ndarray&gt;\n",
       "    conv_vert_adv_flux_TH     (time, k, j, i) float64 dask.array&lt;chunksize=(1, 50, 50, 95), meta=np.ndarray&gt;\n",
       "    conv_vert_diff_flux_TH    (time, k, j, i) float64 dask.array&lt;chunksize=(1, 50, 50, 95), meta=np.ndarray&gt;\n",
       "    surface_flux_conv_TH      (time, k, j, i) float64 dask.array&lt;chunksize=(1, 50, 50, 95), meta=np.ndarray&gt;\n",
       "    sw_flux_conv_TH           (time, k, j, i) float64 dask.array&lt;chunksize=(1, 50, 50, 95), meta=np.ndarray&gt;\n",
       "    total_tendency_TH_truth   (time, k, j, i) float64 dask.array&lt;chunksize=(72, 13, 13, 24), meta=np.ndarray&gt;\n",
       "    conv_horiz_adv_flux_SLT   (time, k, j, i) float64 dask.array&lt;chunksize=(1, 50, 50, 95), meta=np.ndarray&gt;\n",
       "    conv_horiz_diff_flux_SLT  (time, k, j, i) float64 dask.array&lt;chunksize=(1, 50, 50, 95), meta=np.ndarray&gt;\n",
       "    conv_vert_adv_flux_SLT    (time, k, j, i) float64 dask.array&lt;chunksize=(1, 50, 50, 95), meta=np.ndarray&gt;\n",
       "    conv_vert_diff_flux_SLT   (time, k, j, i) float64 dask.array&lt;chunksize=(1, 50, 50, 95), meta=np.ndarray&gt;\n",
       "    salt_plume                (time, k, j, i) float64 dask.array&lt;chunksize=(1, 50, 50, 95), meta=np.ndarray&gt;\n",
       "    surface_flux_SLT          (time, k, j, i) float64 dask.array&lt;chunksize=(1, 50, 50, 95), meta=np.ndarray&gt;\n",
       "    total_tendency_SLT_truth  (time, k, j, i) float64 dask.array&lt;chunksize=(72, 13, 13, 24), meta=np.ndarray&gt;\n",
       "    drhods                    (time, k, j, i) float64 dask.array&lt;chunksize=(72, 13, 13, 24), meta=np.ndarray&gt;\n",
       "    drhodt                    (time, k, j, i) float64 dask.array&lt;chunksize=(72, 13, 13, 24), meta=np.ndarray&gt;\n",
       "    UVEL                      (time, k, j, i_g) float32 dask.array&lt;chunksize=(1, 50, 50, 67), meta=np.ndarray&gt;\n",
       "    VVEL                      (time, k, j_g, i) float32 dask.array&lt;chunksize=(1, 50, 51, 67), meta=np.ndarray&gt;\n",
       "    WVEL                      (time, k_l, j, i) float32 dask.array&lt;chunksize=(1, 50, 50, 67), meta=np.ndarray&gt;</pre>"
      ],
      "text/plain": [
       "<xarray.Dataset>\n",
       "Dimensions:                   (i: 95, i_g: 96, j: 50, j_g: 51, k: 50, k_l: 50, time: 288)\n",
       "Coordinates:\n",
       "  * k                         (k) int64 0 1 2 3 4 5 6 7 ... 43 44 45 46 47 48 49\n",
       "  * time                      (time) datetime64[ns] 1992-01-15 ... 2015-12-14\n",
       "  * k_l                       (k_l) int64 0 1 2 3 4 5 6 ... 43 44 45 46 47 48 49\n",
       "Dimensions without coordinates: i, i_g, j, j_g\n",
       "Data variables:\n",
       "    conv_horiz_adv_flux_TH    (time, k, j, i) float64 dask.array<chunksize=(1, 50, 50, 95), meta=np.ndarray>\n",
       "    conv_horiz_diff_flux_TH   (time, k, j, i) float64 dask.array<chunksize=(1, 50, 50, 95), meta=np.ndarray>\n",
       "    conv_vert_adv_flux_TH     (time, k, j, i) float64 dask.array<chunksize=(1, 50, 50, 95), meta=np.ndarray>\n",
       "    conv_vert_diff_flux_TH    (time, k, j, i) float64 dask.array<chunksize=(1, 50, 50, 95), meta=np.ndarray>\n",
       "    surface_flux_conv_TH      (time, k, j, i) float64 dask.array<chunksize=(1, 50, 50, 95), meta=np.ndarray>\n",
       "    sw_flux_conv_TH           (time, k, j, i) float64 dask.array<chunksize=(1, 50, 50, 95), meta=np.ndarray>\n",
       "    total_tendency_TH_truth   (time, k, j, i) float64 dask.array<chunksize=(72, 13, 13, 24), meta=np.ndarray>\n",
       "    conv_horiz_adv_flux_SLT   (time, k, j, i) float64 dask.array<chunksize=(1, 50, 50, 95), meta=np.ndarray>\n",
       "    conv_horiz_diff_flux_SLT  (time, k, j, i) float64 dask.array<chunksize=(1, 50, 50, 95), meta=np.ndarray>\n",
       "    conv_vert_adv_flux_SLT    (time, k, j, i) float64 dask.array<chunksize=(1, 50, 50, 95), meta=np.ndarray>\n",
       "    conv_vert_diff_flux_SLT   (time, k, j, i) float64 dask.array<chunksize=(1, 50, 50, 95), meta=np.ndarray>\n",
       "    salt_plume                (time, k, j, i) float64 dask.array<chunksize=(1, 50, 50, 95), meta=np.ndarray>\n",
       "    surface_flux_SLT          (time, k, j, i) float64 dask.array<chunksize=(1, 50, 50, 95), meta=np.ndarray>\n",
       "    total_tendency_SLT_truth  (time, k, j, i) float64 dask.array<chunksize=(72, 13, 13, 24), meta=np.ndarray>\n",
       "    drhods                    (time, k, j, i) float64 dask.array<chunksize=(72, 13, 13, 24), meta=np.ndarray>\n",
       "    drhodt                    (time, k, j, i) float64 dask.array<chunksize=(72, 13, 13, 24), meta=np.ndarray>\n",
       "    UVEL                      (time, k, j, i_g) float32 dask.array<chunksize=(1, 50, 50, 67), meta=np.ndarray>\n",
       "    VVEL                      (time, k, j_g, i) float32 dask.array<chunksize=(1, 50, 51, 67), meta=np.ndarray>\n",
       "    WVEL                      (time, k_l, j, i) float32 dask.array<chunksize=(1, 50, 50, 67), meta=np.ndarray>"
      ]
     },
     "execution_count": 4,
     "metadata": {},
     "output_type": "execute_result"
    }
   ],
   "source": [
    "coords = xr.open_zarr(gcsfs.GCSMap('pangeo-tmp/stb2145/ECCO/datasets/coords_wg.zarr')) #didn't upload wg region\n",
    "ds_tns = xr.open_zarr(gcsfs.GCSMap('pangeo-tmp/stb2145/ECCO/datasets/ds_tns.zarr'))\n",
    "#ds_slt = xr.open_zarr(gcsfs.GCSMap('pangeo-tmp/stb2145/ECCO/datasets/ds_slt_wg.zarr'))\n",
    "#ds_tmp = xr.open_zarr(gcsfs.GCSMap('pangeo-tmp/stb2145/ECCO/datasets/ds_tmp_wg.zarr'))\n",
    "ds_vel = xr.open_zarr(gcsfs.GCSMap('pangeo-tmp/stb2145/ECCO/datasets/ds_vel.zarr'))\n",
    "ds_sig_theta = xr.open_zarr(gcsfs.GCSMap('pangeo-tmp/stb2145/ECCO/datasets/ds_sig_theta.zarr'))\n",
    "ds_sig_salt = xr.open_zarr(gcsfs.GCSMap('pangeo-tmp/stb2145/ECCO/datasets/ds_sig_salt.zarr'))\n",
    "ds_drhodts = xr.open_zarr(gcsfs.GCSMap('pangeo-tmp/stb2145/ECCO/datasets/ds_rhodts.zarr')) #typo in filename - should be 'drhodts'\n",
    "ds = xr.merge([ds_sig_theta, ds_sig_salt, ds_drhodts, ds_vel])\n",
    "ds"
   ]
  },
  {
   "cell_type": "code",
   "execution_count": 5,
   "metadata": {},
   "outputs": [],
   "source": [
    "#WG boundaries (65˚W, 30˚E; 80˚S, 62˚S)\n",
    "left_lon = 23 #~-64.5˚ #used to be 20\n",
    "right_lon = 118 #30.5˚ #used to be 115\n",
    "lower_lat = 30 #~-80˚ #used to be 38\n",
    "upper_lat = 80 #-61.755745˚ instead of #79:-62.216576˚ to fill upper projection plot row\n",
    "j_g_upper = 81\n",
    "i_g_right = 119\n",
    "i_g_left = 22"
   ]
  },
  {
   "cell_type": "code",
   "execution_count": 6,
   "metadata": {},
   "outputs": [],
   "source": [
    "#set the boundaries\n",
    "lat_range = dict(j=slice(lower_lat, upper_lat), j_g=slice(lower_lat, j_g_upper))\n",
    "lon_range = dict(i=slice(left_lon, right_lon), i_g=slice(left_lon, i_g_right))"
   ]
  },
  {
   "cell_type": "code",
   "execution_count": 7,
   "metadata": {},
   "outputs": [],
   "source": [
    "#set the boundaries\n",
    "lat_range_noface = dict(j=slice(lower_lat, upper_lat))\n",
    "lon_range_noface = dict(i=slice(left_lon, right_lon))"
   ]
  },
  {
   "cell_type": "code",
   "execution_count": 8,
   "metadata": {},
   "outputs": [],
   "source": [
    "pref=2000"
   ]
  },
  {
   "cell_type": "markdown",
   "metadata": {},
   "source": [
    "### Checking if `rhs` and `lhs` seem to match"
   ]
  },
  {
   "cell_type": "code",
   "execution_count": 9,
   "metadata": {},
   "outputs": [],
   "source": [
    "rhs_vars_theta = [dvar for dvar in ds_sig_theta.data_vars\n",
    "                  if dvar != 'total_tendency_TH_truth']\n",
    "rhs_vars_salt = [dvar for dvar in ds_sig_salt.data_vars\n",
    "                  if dvar != 'total_tendency_SLT_truth']"
   ]
  },
  {
   "cell_type": "code",
   "execution_count": 10,
   "metadata": {},
   "outputs": [
    {
     "data": {
      "text/html": [
       "<pre>&lt;xarray.DataArray (time: 288, k: 50, j: 50, i: 95)&gt;\n",
       "dask.array&lt;add, shape=(288, 50, 50, 95), dtype=float64, chunksize=(1, 50, 50, 95), chunktype=numpy.ndarray&gt;\n",
       "Coordinates:\n",
       "  * k        (k) int64 0 1 2 3 4 5 6 7 8 9 10 ... 40 41 42 43 44 45 46 47 48 49\n",
       "  * time     (time) datetime64[ns] 1992-01-15 1992-02-13 ... 2015-12-14\n",
       "Dimensions without coordinates: j, i</pre>"
      ],
      "text/plain": [
       "<xarray.DataArray (time: 288, k: 50, j: 50, i: 95)>\n",
       "dask.array<add, shape=(288, 50, 50, 95), dtype=float64, chunksize=(1, 50, 50, 95), chunktype=numpy.ndarray>\n",
       "Coordinates:\n",
       "  * k        (k) int64 0 1 2 3 4 5 6 7 8 9 10 ... 40 41 42 43 44 45 46 47 48 49\n",
       "  * time     (time) datetime64[ns] 1992-01-15 1992-02-13 ... 2015-12-14\n",
       "Dimensions without coordinates: j, i"
      ]
     },
     "execution_count": 10,
     "metadata": {},
     "output_type": "execute_result"
    }
   ],
   "source": [
    "theta_sum = sum([ds_sig_theta[dvar] for dvar in rhs_vars_theta])\n",
    "salt_sum = sum([ds_sig_salt[dvar] for dvar in rhs_vars_salt])\n",
    "total_tendency_check = theta_sum + salt_sum\n",
    "total_tendency_check"
   ]
  },
  {
   "cell_type": "code",
   "execution_count": 11,
   "metadata": {},
   "outputs": [
    {
     "data": {
      "image/png": "[encoded data removed]",
      "text/plain": [
       "<Figure size 576x216 with 4 Axes>"
      ]
     },
     "metadata": {
      "needs_background": "light"
     },
     "output_type": "display_data"
    }
   ],
   "source": [
    "fig, (ax0, ax1) = plt.subplots(1,2, figsize=(8, 3))\n",
    "total_tendency_check[1, 0].plot(ax=ax0, robust=True, vmax=4e3)\n",
    "ax0.set_title('RHS')\n",
    "\n",
    "(ds.total_tendency_TH_truth + ds.total_tendency_SLT_truth)[1, 0].plot(ax=ax1, robust=True, vmax=4e3)\n",
    "ax1.set_title('LHS')\n",
    "plt.tight_layout();"
   ]
  },
  {
   "cell_type": "markdown",
   "metadata": {},
   "source": [
    "# <font color='Green'>\\begin{equation*} Combined\\ terms\\ for\\ sigma\\ ds \\end{equation*} </font>"
   ]
  },
  {
   "cell_type": "raw",
   "metadata": {},
   "source": [
    "#Attempt at efficiently combing datasets\n",
    "theta_vars = list(ds_sig_theta.data_vars)\n",
    "salt_vars = list(ds_sig_salt.data_vars)\n",
    "\n",
    "for i in theta_vars:\n",
    "    for j in salt_vars:\n",
    "        new_ds = xr.Dataset([(ds_sig_theta.data_vars[i] + ds_sig_salt.data_vars[j]).rename('test')])"
   ]
  },
  {
   "cell_type": "code",
   "execution_count": 12,
   "metadata": {},
   "outputs": [],
   "source": [
    "conv_horiz_adv_flux_SIG = ds_sig_theta.conv_horiz_adv_flux_TH + ds_sig_salt.conv_horiz_adv_flux_SLT\n",
    "conv_horiz_diff_flux_SIG = ds_sig_theta.conv_horiz_diff_flux_TH + ds_sig_salt.conv_horiz_diff_flux_SLT\n",
    "conv_vert_adv_flux_SIG = ds_sig_theta.conv_vert_adv_flux_TH + ds_sig_salt.conv_vert_adv_flux_SLT\n",
    "conv_vert_diff_flux_SIG = ds_sig_theta.conv_vert_diff_flux_TH + ds_sig_salt.conv_vert_diff_flux_SLT\n",
    "surface_flux_conv_SIG = ds_sig_theta.surface_flux_conv_TH + ds_sig_salt.surface_flux_SLT\n",
    "sw_flux_salt_plume = ds_sig_theta.sw_flux_conv_TH + ds_sig_salt.salt_plume"
   ]
  },
  {
   "cell_type": "code",
   "execution_count": 13,
   "metadata": {},
   "outputs": [],
   "source": [
    "ds_sig_flux_tems = xr.merge([conv_horiz_adv_flux_SIG.rename('conv_horiz_adv_flux_SIG'),\n",
    "                             conv_horiz_diff_flux_SIG.rename('conv_horiz_diff_flux_SIG'),\n",
    "                             conv_vert_adv_flux_SIG.rename('conv_vert_adv_flux_SIG'),\n",
    "                             conv_vert_diff_flux_SIG.rename('conv_vert_diff_flux_SIG'),\n",
    "                             surface_flux_conv_SIG.rename('surface_flux_conv_SIG'),\n",
    "                             sw_flux_salt_plume.rename('sw_flux_salt_plume')])"
   ]
  },
  {
   "cell_type": "code",
   "execution_count": 14,
   "metadata": {},
   "outputs": [
    {
     "data": {
      "text/html": [
       "<pre>&lt;xarray.Dataset&gt;\n",
       "Dimensions:                   (i: 95, i_g: 96, j: 50, j_g: 51, k: 50, k_l: 50, time: 288)\n",
       "Coordinates:\n",
       "  * k                         (k) int64 0 1 2 3 4 5 6 7 ... 43 44 45 46 47 48 49\n",
       "  * time                      (time) datetime64[ns] 1992-01-15 ... 2015-12-14\n",
       "  * k_l                       (k_l) int64 0 1 2 3 4 5 6 ... 43 44 45 46 47 48 49\n",
       "Dimensions without coordinates: i, i_g, j, j_g\n",
       "Data variables:\n",
       "    conv_horiz_adv_flux_SIG   (time, k, j, i) float64 dask.array&lt;chunksize=(1, 50, 50, 95), meta=np.ndarray&gt;\n",
       "    conv_horiz_diff_flux_SIG  (time, k, j, i) float64 dask.array&lt;chunksize=(1, 50, 50, 95), meta=np.ndarray&gt;\n",
       "    conv_vert_adv_flux_SIG    (time, k, j, i) float64 dask.array&lt;chunksize=(1, 50, 50, 95), meta=np.ndarray&gt;\n",
       "    conv_vert_diff_flux_SIG   (time, k, j, i) float64 dask.array&lt;chunksize=(1, 50, 50, 95), meta=np.ndarray&gt;\n",
       "    surface_flux_conv_SIG     (time, k, j, i) float64 dask.array&lt;chunksize=(1, 50, 50, 95), meta=np.ndarray&gt;\n",
       "    sw_flux_salt_plume        (time, k, j, i) float64 dask.array&lt;chunksize=(1, 50, 50, 95), meta=np.ndarray&gt;\n",
       "    UVEL                      (time, k, j, i_g) float32 dask.array&lt;chunksize=(1, 50, 50, 67), meta=np.ndarray&gt;\n",
       "    VVEL                      (time, k, j_g, i) float32 dask.array&lt;chunksize=(1, 50, 51, 67), meta=np.ndarray&gt;\n",
       "    WVEL                      (time, k_l, j, i) float32 dask.array&lt;chunksize=(1, 50, 50, 67), meta=np.ndarray&gt;\n",
       "    drhods                    (time, k, j, i) float64 dask.array&lt;chunksize=(72, 13, 13, 24), meta=np.ndarray&gt;\n",
       "    drhodt                    (time, k, j, i) float64 dask.array&lt;chunksize=(72, 13, 13, 24), meta=np.ndarray&gt;</pre>"
      ],
      "text/plain": [
       "<xarray.Dataset>\n",
       "Dimensions:                   (i: 95, i_g: 96, j: 50, j_g: 51, k: 50, k_l: 50, time: 288)\n",
       "Coordinates:\n",
       "  * k                         (k) int64 0 1 2 3 4 5 6 7 ... 43 44 45 46 47 48 49\n",
       "  * time                      (time) datetime64[ns] 1992-01-15 ... 2015-12-14\n",
       "  * k_l                       (k_l) int64 0 1 2 3 4 5 6 ... 43 44 45 46 47 48 49\n",
       "Dimensions without coordinates: i, i_g, j, j_g\n",
       "Data variables:\n",
       "    conv_horiz_adv_flux_SIG   (time, k, j, i) float64 dask.array<chunksize=(1, 50, 50, 95), meta=np.ndarray>\n",
       "    conv_horiz_diff_flux_SIG  (time, k, j, i) float64 dask.array<chunksize=(1, 50, 50, 95), meta=np.ndarray>\n",
       "    conv_vert_adv_flux_SIG    (time, k, j, i) float64 dask.array<chunksize=(1, 50, 50, 95), meta=np.ndarray>\n",
       "    conv_vert_diff_flux_SIG   (time, k, j, i) float64 dask.array<chunksize=(1, 50, 50, 95), meta=np.ndarray>\n",
       "    surface_flux_conv_SIG     (time, k, j, i) float64 dask.array<chunksize=(1, 50, 50, 95), meta=np.ndarray>\n",
       "    sw_flux_salt_plume        (time, k, j, i) float64 dask.array<chunksize=(1, 50, 50, 95), meta=np.ndarray>\n",
       "    UVEL                      (time, k, j, i_g) float32 dask.array<chunksize=(1, 50, 50, 67), meta=np.ndarray>\n",
       "    VVEL                      (time, k, j_g, i) float32 dask.array<chunksize=(1, 50, 51, 67), meta=np.ndarray>\n",
       "    WVEL                      (time, k_l, j, i) float32 dask.array<chunksize=(1, 50, 50, 67), meta=np.ndarray>\n",
       "    drhods                    (time, k, j, i) float64 dask.array<chunksize=(72, 13, 13, 24), meta=np.ndarray>\n",
       "    drhodt                    (time, k, j, i) float64 dask.array<chunksize=(72, 13, 13, 24), meta=np.ndarray>"
      ]
     },
     "execution_count": 14,
     "metadata": {},
     "output_type": "execute_result"
    }
   ],
   "source": [
    "ds_sig = xr.merge([ds_sig_flux_tems, ds_vel, ds_drhodts])\n",
    "ds_sig"
   ]
  },
  {
   "cell_type": "code",
   "execution_count": 15,
   "metadata": {},
   "outputs": [],
   "source": [
    "sigma2_snp = xr.apply_ufunc(jmd95numba.rho, ds_tns.SALT_snp, ds_tns.THETA_snp, pref,\n",
    "                            output_dtypes=[ds_tns.SALT_snp.dtype],\n",
    "                            dask='parallelized').reset_coords(drop=True).load()\n",
    "sigma2 = xr.apply_ufunc(jmd95numba.rho, ds_tns.SALT, ds_tns.THETA, pref,\n",
    "                            output_dtypes=[ds_tns.SALT.dtype],\n",
    "                            dask='parallelized').reset_coords(drop=True).load()"
   ]
  },
  {
   "cell_type": "code",
   "execution_count": 16,
   "metadata": {},
   "outputs": [
    {
     "data": {
      "text/plain": [
       "<matplotlib.collections.QuadMesh at 0x7fbe9f5f5550>"
      ]
     },
     "execution_count": 16,
     "metadata": {},
     "output_type": "execute_result"
    },
    {
     "data": {
      "image/png": "[encoded data removed]",
      "text/plain": [
       "<Figure size 432x288 with 2 Axes>"
      ]
     },
     "metadata": {
      "needs_background": "light"
     },
     "output_type": "display_data"
    }
   ],
   "source": [
    "sigma2_snp[0,0].plot()"
   ]
  },
  {
   "cell_type": "code",
   "execution_count": 23,
   "metadata": {},
   "outputs": [
    {
     "data": {
      "text/plain": [
       "<matplotlib.collections.QuadMesh at 0x7fbe98104f28>"
      ]
     },
     "execution_count": 23,
     "metadata": {},
     "output_type": "execute_result"
    },
    {
     "data": {
      "image/png": "[encoded data removed]",
      "text/plain": [
       "<Figure size 432x288 with 2 Axes>"
      ]
     },
     "metadata": {
      "needs_background": "light"
     },
     "output_type": "display_data"
    }
   ],
   "source": [
    "(sigma2.mean(dim='time')[0] - sigma2_snp.mean(dim='time_snp')[0]).plot()"
   ]
  },
  {
   "cell_type": "code",
   "execution_count": null,
   "metadata": {},
   "outputs": [],
   "source": [
    "sigma_dist = histogram(sigma2.rename('sigma2'), bins=[salt_bins],\n",
    "                       weights=vol, dim=['i', 'j', 'k'])"
   ]
  },
  {
   "cell_type": "code",
   "execution_count": null,
   "metadata": {},
   "outputs": [],
   "source": [
    "delta_theta = ds.THETA_snp.isel(time_snp=-1) - ds.THETA_snp.isel(time_snp=0)\n",
    "total_time = (ds.time_snp[-1] - ds.time_snp[0]).astype('f8')*1e-9\n",
    "\n",
    "vol = (coords.drF * coords.rA * coords.hFacC)\n",
    "((delta_theta * vol).sum(dim=['j', 'i'])/ total_time).plot(y='k', yincrease=False)\n",
    "ds.total_tendency_TH_truth.sum(dim=['j', 'i']).mean(dim='time').plot(y='k', yincrease=False)"
   ]
  },
  {
   "cell_type": "markdown",
   "metadata": {},
   "source": [
    "# <font color='Green'>\\begin{equation*} \\frac{\\partial V}{\\partial t} == \\Omega_{tottend-SLT-truth} + R1 \\end{equation*} </font>"
   ]
  },
  {
   "cell_type": "code",
   "execution_count": null,
   "metadata": {},
   "outputs": [],
   "source": []
  }
 ],
 "metadata": {
  "kernelspec": {
   "display_name": "Python 3",
   "language": "python",
   "name": "python3"
  },
  "language_info": {
   "codemirror_mode": {
    "name": "ipython",
    "version": 3
   },
   "file_extension": ".py",
   "mimetype": "text/x-python",
   "name": "python",
   "nbconvert_exporter": "python",
   "pygments_lexer": "ipython3",
   "version": "3.7.3"
  }
 },
 "nbformat": 4,
 "nbformat_minor": 4
}
