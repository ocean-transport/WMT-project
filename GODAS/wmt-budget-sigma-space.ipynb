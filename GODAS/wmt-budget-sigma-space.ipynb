{
 "cells": [
  {
   "cell_type": "markdown",
   "id": "imported-edward",
   "metadata": {},
   "source": [
    "# SIGMA \\begin{equation*} \\frac{\\partial V}{\\partial t} = \\Psi + \\Omega \\end{equation*}\n",
    "## **GODAS**"
   ]
  },
  {
   "cell_type": "code",
   "execution_count": 1,
   "id": "alpine-brush",
   "metadata": {},
   "outputs": [],
   "source": [
    "from dask_gateway import GatewayCluster\n",
    "\n",
    "cluster = GatewayCluster()\n",
    "cluster.scale(10)\n",
    "#cluster.adapt(minimum=2, maximum=10)  # or cluster.scale(n) to a fixed size.\n",
    "client = cluster.get_client()"
   ]
  },
  {
   "cell_type": "code",
   "execution_count": 2,
   "id": "american-candidate",
   "metadata": {},
   "outputs": [
    {
     "data": {
      "text/html": [
       "<table style=\"border: 2px solid white;\">\n",
       "<tr>\n",
       "<td style=\"vertical-align: top; border: 0px solid white\">\n",
       "<h3 style=\"text-align: left;\">Client</h3>\n",
       "<ul style=\"text-align: left; list-style: none; margin: 0; padding: 0;\">\n",
       "  <li><b>Scheduler: </b>gateway://traefik-gcp-uscentral1b-prod-dask-gateway.prod:80/prod.878c27058e2e4fc481ee60d2803c05af</li>\n",
       "  <li><b>Dashboard: </b><a href='/services/dask-gateway/clusters/prod.878c27058e2e4fc481ee60d2803c05af/status' target='_blank'>/services/dask-gateway/clusters/prod.878c27058e2e4fc481ee60d2803c05af/status</a></li>\n",
       "</ul>\n",
       "</td>\n",
       "<td style=\"vertical-align: top; border: 0px solid white\">\n",
       "<h3 style=\"text-align: left;\">Cluster</h3>\n",
       "<ul style=\"text-align: left; list-style:none; margin: 0; padding: 0;\">\n",
       "  <li><b>Workers: </b>10</li>\n",
       "  <li><b>Cores: </b>20</li>\n",
       "  <li><b>Memory: </b>85.90 GB</li>\n",
       "</ul>\n",
       "</td>\n",
       "</tr>\n",
       "</table>"
      ],
      "text/plain": [
       "<Client: 'tls://10.38.139.20:8786' processes=10 threads=20, memory=85.90 GB>"
      ]
     },
     "execution_count": 2,
     "metadata": {},
     "output_type": "execute_result"
    }
   ],
   "source": [
    "client"
   ]
  },
  {
   "cell_type": "code",
   "execution_count": 66,
   "id": "roman-jumping",
   "metadata": {},
   "outputs": [],
   "source": [
    "client.close()\n",
    "cluster.close()"
   ]
  },
  {
   "cell_type": "code",
   "execution_count": 3,
   "id": "forward-composite",
   "metadata": {},
   "outputs": [],
   "source": [
    "import xarray as xr\n",
    "from matplotlib import pyplot as plt\n",
    "import gcsfs\n",
    "import dask\n",
    "import dask.array as dsa\n",
    "import numpy as np\n",
    "import intake\n",
    "import fsspec\n",
    "import xmitgcm\n",
    "from xhistogram.xarray import histogram\n",
    "from xmitgcm.llcreader.llcmodel import faces_dataset_to_latlon\n",
    "%matplotlib inline\n",
    "from fastjmd95 import jmd95numba"
   ]
  },
  {
   "cell_type": "code",
   "execution_count": 4,
   "id": "happy-fleece",
   "metadata": {},
   "outputs": [
    {
     "data": {
      "text/plain": [
       "<xarray.core.options.set_options at 0x7f1dc4a7c4c0>"
      ]
     },
     "execution_count": 4,
     "metadata": {},
     "output_type": "execute_result"
    }
   ],
   "source": [
    "xr.set_options(display_style='text')"
   ]
  },
  {
   "cell_type": "code",
   "execution_count": 5,
   "id": "progressive-prescription",
   "metadata": {},
   "outputs": [],
   "source": [
    "path = 'pangeo-tmp/stb2145/GODAS/datasets/'\n",
    "ds = xr.open_zarr(gcsfs.GCSMap(path + 'ds_wg.zarr'))\n",
    "coords = xr.open_zarr(gcsfs.GCSMap(path + 'coords_wg.zarr'))\n",
    "cell_coords = xr.open_zarr(gcsfs.GCSMap(path + 'cell_coords_wg.zarr'))\n",
    "cell_elements = xr.open_zarr(gcsfs.GCSMap(path + 'cell_elements_wg.zarr'))\n",
    "surf_flux = xr.open_zarr(gcsfs.GCSMap(path + 'surf_flux.zarr'))\n",
    "total_tend = xr.open_zarr(gcsfs.GCSMap(path + 'total_tend.zarr'))\n",
    "vel = xr.open_zarr(gcsfs.GCSMap(path + 'vel.zarr'))"
   ]
  },
  {
   "cell_type": "code",
   "execution_count": 6,
   "id": "minor-seller",
   "metadata": {},
   "outputs": [],
   "source": [
    "fs = gcsfs.GCSFileSystem(requester_pays=True)\n",
    "mapping = fs.get_mapper('gs://pangeo-ncep-godas')\n",
    "globe = xr.open_zarr(mapping, consolidated=True)"
   ]
  },
  {
   "cell_type": "code",
   "execution_count": 57,
   "id": "fluid-ocean",
   "metadata": {},
   "outputs": [
    {
     "data": {
      "text/html": [
       "<pre>&lt;xarray.Dataset&gt;\n",
       "Dimensions:    (lat: 37, lat_u: 37, level: 40, level_w: 40, lon: 96, lon_u: 96, time: 469)\n",
       "Coordinates:\n",
       "  * lat        (lat) float32 -74.17 -73.83 -73.5 -73.17 ... -62.83 -62.5 -62.17\n",
       "  * lat_u      (lat_u) float32 -74.0 -73.67 -73.33 -73.0 ... -62.67 -62.33 -62.0\n",
       "  * level      (level) float32 5.0 15.0 25.0 ... 3.483e+03 3.972e+03 4.478e+03\n",
       "  * level_w    (level_w) float32 10.0 20.0 30.0 ... 4.225e+03 4.736e+03\n",
       "  * lon        (lon) float32 -65.5 -64.5 -63.5 -62.5 ... 26.5 27.5 28.5 29.5\n",
       "  * lon_u      (lon_u) float32 -65.0 -64.0 -63.0 -62.0 ... 27.0 28.0 29.0 30.0\n",
       "  * time       (time) datetime64[ns] 1980-01-01 1980-02-01 ... 2019-01-01\n",
       "Data variables:\n",
       "    dbss_obil  (time, lat, lon) float32 dask.array&lt;chunksize=(12, 37, 96), meta=np.ndarray&gt;\n",
       "    dbss_obml  (time, lat, lon) float32 dask.array&lt;chunksize=(12, 37, 96), meta=np.ndarray&gt;\n",
       "    dzdt       (time, level_w, lat, lon) float32 dask.array&lt;chunksize=(4, 40, 37, 96), meta=np.ndarray&gt;\n",
       "    pottmp     (time, level, lat, lon) float32 dask.array&lt;chunksize=(4, 40, 37, 96), meta=np.ndarray&gt;\n",
       "    salt       (time, level, lat, lon) float32 dask.array&lt;chunksize=(4, 40, 37, 96), meta=np.ndarray&gt;\n",
       "    sltfl      (time, lat, lon) float32 dask.array&lt;chunksize=(12, 37, 96), meta=np.ndarray&gt;\n",
       "    sshg       (time, lat, lon) float32 dask.array&lt;chunksize=(12, 37, 96), meta=np.ndarray&gt;\n",
       "    thflx      (time, lat, lon) float32 dask.array&lt;chunksize=(12, 37, 96), meta=np.ndarray&gt;\n",
       "    ucur       (time, level, lat_u, lon_u) float32 dask.array&lt;chunksize=(4, 40, 37, 96), meta=np.ndarray&gt;\n",
       "    uflx       (time, lat_u, lon_u) float32 dask.array&lt;chunksize=(12, 37, 96), meta=np.ndarray&gt;\n",
       "    vcur       (time, level, lat_u, lon_u) float32 dask.array&lt;chunksize=(4, 40, 37, 96), meta=np.ndarray&gt;\n",
       "    vflx       (time, lat_u, lon_u) float32 dask.array&lt;chunksize=(12, 37, 96), meta=np.ndarray&gt;\n",
       "Attributes:\n",
       "    Conventions:      COARDS\n",
       "    References:       https://www.esrl.noaa.gov/psd/data/gridded/data.godas.html\n",
       "    comment:          NOTE:  THESE ARE THE BIAS CORRECTED GODAS FILES.\n",
       "    creation_date:    Sat Dec 16 20:00:00 MDT 2006\n",
       "    dataset_title:    NCEP Global Ocean Data Assimilation System (GODAS)\n",
       "    grib_file:        godas.M.198001-12.grb\n",
       "    history:          Created 2006/12 by Hoop\n",
       "    html_BACKGROUND:  http://www.cpc.ncep.noaa.gov/products/GODAS/background....\n",
       "    html_GODAS:       www.cpc.ncep.noaa.gov/products/GODAS\n",
       "    html_REFERENCES:  http://www.cpc.ncep.noaa.gov/products/GODAS/background....\n",
       "    sfcHeatFlux:      \\nNote that the net surface heat flux are the total sur...\n",
       "    time_comment:     The internal time stamp indicates the FIRST day of the ...\n",
       "    title:            GODAS: Global Ocean Data Assimilation System</pre>"
      ],
      "text/plain": [
       "<xarray.Dataset>\n",
       "Dimensions:    (lat: 37, lat_u: 37, level: 40, level_w: 40, lon: 96, lon_u: 96, time: 469)\n",
       "Coordinates:\n",
       "  * lat        (lat) float32 -74.17 -73.83 -73.5 -73.17 ... -62.83 -62.5 -62.17\n",
       "  * lat_u      (lat_u) float32 -74.0 -73.67 -73.33 -73.0 ... -62.67 -62.33 -62.0\n",
       "  * level      (level) float32 5.0 15.0 25.0 ... 3.483e+03 3.972e+03 4.478e+03\n",
       "  * level_w    (level_w) float32 10.0 20.0 30.0 ... 4.225e+03 4.736e+03\n",
       "  * lon        (lon) float32 -65.5 -64.5 -63.5 -62.5 ... 26.5 27.5 28.5 29.5\n",
       "  * lon_u      (lon_u) float32 -65.0 -64.0 -63.0 -62.0 ... 27.0 28.0 29.0 30.0\n",
       "  * time       (time) datetime64[ns] 1980-01-01 1980-02-01 ... 2019-01-01\n",
       "Data variables:\n",
       "    dbss_obil  (time, lat, lon) float32 dask.array<chunksize=(12, 37, 96), meta=np.ndarray>\n",
       "    dbss_obml  (time, lat, lon) float32 dask.array<chunksize=(12, 37, 96), meta=np.ndarray>\n",
       "    dzdt       (time, level_w, lat, lon) float32 dask.array<chunksize=(4, 40, 37, 96), meta=np.ndarray>\n",
       "    pottmp     (time, level, lat, lon) float32 dask.array<chunksize=(4, 40, 37, 96), meta=np.ndarray>\n",
       "    salt       (time, level, lat, lon) float32 dask.array<chunksize=(4, 40, 37, 96), meta=np.ndarray>\n",
       "    sltfl      (time, lat, lon) float32 dask.array<chunksize=(12, 37, 96), meta=np.ndarray>\n",
       "    sshg       (time, lat, lon) float32 dask.array<chunksize=(12, 37, 96), meta=np.ndarray>\n",
       "    thflx      (time, lat, lon) float32 dask.array<chunksize=(12, 37, 96), meta=np.ndarray>\n",
       "    ucur       (time, level, lat_u, lon_u) float32 dask.array<chunksize=(4, 40, 37, 96), meta=np.ndarray>\n",
       "    uflx       (time, lat_u, lon_u) float32 dask.array<chunksize=(12, 37, 96), meta=np.ndarray>\n",
       "    vcur       (time, level, lat_u, lon_u) float32 dask.array<chunksize=(4, 40, 37, 96), meta=np.ndarray>\n",
       "    vflx       (time, lat_u, lon_u) float32 dask.array<chunksize=(12, 37, 96), meta=np.ndarray>\n",
       "Attributes:\n",
       "    Conventions:      COARDS\n",
       "    References:       https://www.esrl.noaa.gov/psd/data/gridded/data.godas.html\n",
       "    comment:          NOTE:  THESE ARE THE BIAS CORRECTED GODAS FILES.\n",
       "    creation_date:    Sat Dec 16 20:00:00 MDT 2006\n",
       "    dataset_title:    NCEP Global Ocean Data Assimilation System (GODAS)\n",
       "    grib_file:        godas.M.198001-12.grb\n",
       "    history:          Created 2006/12 by Hoop\n",
       "    html_BACKGROUND:  http://www.cpc.ncep.noaa.gov/products/GODAS/background....\n",
       "    html_GODAS:       www.cpc.ncep.noaa.gov/products/GODAS\n",
       "    html_REFERENCES:  http://www.cpc.ncep.noaa.gov/products/GODAS/background....\n",
       "    sfcHeatFlux:      \\nNote that the net surface heat flux are the total sur...\n",
       "    time_comment:     The internal time stamp indicates the FIRST day of the ...\n",
       "    title:            GODAS: Global Ocean Data Assimilation System"
      ]
     },
     "execution_count": 57,
     "metadata": {},
     "output_type": "execute_result"
    }
   ],
   "source": [
    "ds.isel(time=slice(0,-2))"
   ]
  },
  {
   "cell_type": "code",
   "execution_count": 56,
   "id": "colored-jaguar",
   "metadata": {},
   "outputs": [
    {
     "data": {
      "text/html": [
       "<pre>&lt;xarray.DataArray &#x27;time&#x27; (time: 471)&gt;\n",
       "array([&#x27;1980-01-01T00:00:00.000000000&#x27;, &#x27;1980-02-01T00:00:00.000000000&#x27;,\n",
       "       &#x27;1980-03-01T00:00:00.000000000&#x27;, ..., &#x27;2019-01-01T00:00:00.000000000&#x27;,\n",
       "       &#x27;2019-02-01T00:00:00.000000000&#x27;, &#x27;2019-03-01T00:00:00.000000000&#x27;],\n",
       "      dtype=&#x27;datetime64[ns]&#x27;)\n",
       "Coordinates:\n",
       "  * time     (time) datetime64[ns] 1980-01-01 1980-02-01 ... 2019-03-01</pre>"
      ],
      "text/plain": [
       "<xarray.DataArray 'time' (time: 471)>\n",
       "array(['1980-01-01T00:00:00.000000000', '1980-02-01T00:00:00.000000000',\n",
       "       '1980-03-01T00:00:00.000000000', ..., '2019-01-01T00:00:00.000000000',\n",
       "       '2019-02-01T00:00:00.000000000', '2019-03-01T00:00:00.000000000'],\n",
       "      dtype='datetime64[ns]')\n",
       "Coordinates:\n",
       "  * time     (time) datetime64[ns] 1980-01-01 1980-02-01 ... 2019-03-01"
      ]
     },
     "execution_count": 56,
     "metadata": {},
     "output_type": "execute_result"
    }
   ],
   "source": [
    "ds = ds.isel(time=slice(0,-2))"
   ]
  },
  {
   "cell_type": "markdown",
   "id": "inclusive-lloyd",
   "metadata": {},
   "source": [
    "# <font color='Green'>\\begin{equation*} \\sigma_2\\ term \\end{equation*} </font>"
   ]
  },
  {
   "cell_type": "code",
   "execution_count": 29,
   "id": "capable-viking",
   "metadata": {},
   "outputs": [],
   "source": [
    "temp = (ds.pottmp - 273.15).load() #K to C\n",
    "salt = (ds.salt * 1000).load() #kg/kg to g/kg"
   ]
  },
  {
   "cell_type": "code",
   "execution_count": 9,
   "id": "brief-contribution",
   "metadata": {},
   "outputs": [],
   "source": [
    "pref = 2000"
   ]
  },
  {
   "cell_type": "code",
   "execution_count": 24,
   "id": "alien-davis",
   "metadata": {},
   "outputs": [],
   "source": [
    "sigma2 = xr.apply_ufunc(jmd95numba.rho, salt, temp, pref,\n",
    "                            output_dtypes=[salt.dtype],\n",
    "                            dask='parallelized').reset_coords(drop=True).load()"
   ]
  },
  {
   "cell_type": "code",
   "execution_count": 26,
   "id": "passing-protection",
   "metadata": {},
   "outputs": [
    {
     "data": {
      "text/plain": [
       "<matplotlib.collections.QuadMesh at 0x7f1dc4bd4e80>"
      ]
     },
     "execution_count": 26,
     "metadata": {},
     "output_type": "execute_result"
    },
    {
     "data": {
      "image/png": "[encoded data removed]",
      "text/plain": [
       "<Figure size 432x288 with 2 Axes>"
      ]
     },
     "metadata": {
      "needs_background": "light"
     },
     "output_type": "display_data"
    }
   ],
   "source": [
    "sigma2[0,0].plot()"
   ]
  },
  {
   "cell_type": "code",
   "execution_count": 27,
   "id": "future-wrist",
   "metadata": {},
   "outputs": [
    {
     "data": {
      "text/plain": [
       "<matplotlib.collections.QuadMesh at 0x7f1dc4b38f70>"
      ]
     },
     "execution_count": 27,
     "metadata": {},
     "output_type": "execute_result"
    },
    {
     "data": {
      "image/png": "[encoded data removed]",
      "text/plain": [
       "<Figure size 432x288 with 2 Axes>"
      ]
     },
     "metadata": {
      "needs_background": "light"
     },
     "output_type": "display_data"
    }
   ],
   "source": [
    "sigma2.mean(dim=['time', 'level']).plot()"
   ]
  },
  {
   "cell_type": "code",
   "execution_count": 28,
   "id": "blessed-circus",
   "metadata": {},
   "outputs": [
    {
     "data": {
      "text/plain": [
       "(array([ 10.,  25.,  19.,  33., 100., 183., 494., 597., 694., 587.]),\n",
       " array([1036.73323119, 1036.76783441, 1036.80243762, 1036.83704084,\n",
       "        1036.87164406, 1036.90624727, 1036.94085049, 1036.97545371,\n",
       "        1037.01005692, 1037.04466014, 1037.07926335]),\n",
       " <BarContainer object of 10 artists>)"
      ]
     },
     "execution_count": 28,
     "metadata": {},
     "output_type": "execute_result"
    },
    {
     "data": {
      "image/png": "[encoded data removed]",
      "text/plain": [
       "<Figure size 432x288 with 1 Axes>"
      ]
     },
     "metadata": {
      "needs_background": "light"
     },
     "output_type": "display_data"
    }
   ],
   "source": [
    "sigma2.mean(dim=['time', 'level']).plot.hist()"
   ]
  },
  {
   "cell_type": "markdown",
   "id": "manual-banking",
   "metadata": {},
   "source": [
    "### Volume-weighted $\\frac{\\partial{\\sigma_2}}{\\partial t} =$ _tottend_truth_"
   ]
  },
  {
   "cell_type": "code",
   "execution_count": 42,
   "id": "postal-digit",
   "metadata": {},
   "outputs": [
    {
     "data": {
      "text/plain": [
       "Coordinates:\n",
       "  * lat      (lat) float32 -73.83 -73.5 -73.17 -72.83 ... -62.83 -62.5 -62.17\n",
       "  * level    (level) float32 15.0 25.0 35.0 ... 3.483e+03 3.972e+03 4.478e+03\n",
       "  * lon      (lon) float32 -64.5 -63.5 -62.5 -61.5 -60.5 ... 26.5 27.5 28.5 29.5\n",
       "  * time     (time) datetime64[ns] 1980-01-01 1980-02-01 ... 2019-03-01"
      ]
     },
     "execution_count": 42,
     "metadata": {},
     "output_type": "execute_result"
    }
   ],
   "source": [
    "sigma2[:,1:,1:,1:].coords"
   ]
  },
  {
   "cell_type": "code",
   "execution_count": 50,
   "id": "cloudy-sailing",
   "metadata": {},
   "outputs": [
    {
     "data": {
      "text/plain": [
       "Coordinates:\n",
       "  * lat      (lat) float32 -73.83 -73.5 -73.17 -72.83 ... -62.83 -62.5 -62.17\n",
       "  * level    (level) float32 15.0 25.0 35.0 ... 3.483e+03 3.972e+03 4.478e+03\n",
       "  * lon      (lon) float32 -64.5 -63.5 -62.5 -61.5 -60.5 ... 26.5 27.5 28.5 29.5"
      ]
     },
     "execution_count": 50,
     "metadata": {},
     "output_type": "execute_result"
    }
   ],
   "source": [
    "delta_sigma[1:,1:,1:].coords"
   ]
  },
  {
   "cell_type": "code",
   "execution_count": 51,
   "id": "agreed-priority",
   "metadata": {},
   "outputs": [
    {
     "data": {
      "text/html": [
       "<pre>&lt;xarray.DataArray &#x27;time&#x27; ()&gt;\n",
       "array(1.230768e+09)</pre>"
      ],
      "text/plain": [
       "<xarray.DataArray 'time' ()>\n",
       "array(1.230768e+09)"
      ]
     },
     "execution_count": 51,
     "metadata": {},
     "output_type": "execute_result"
    }
   ],
   "source": [
    "total_time"
   ]
  },
  {
   "cell_type": "code",
   "execution_count": 43,
   "id": "intelligent-indonesia",
   "metadata": {},
   "outputs": [
    {
     "data": {
      "text/html": [
       "<pre>&lt;xarray.DataArray &#x27;cell_volume_wg&#x27; (lon: 95, lat: 36, level: 39)&gt;\n",
       "dask.array&lt;getitem, shape=(95, 36, 39), dtype=float32, chunksize=(48, 36, 39), chunktype=numpy.ndarray&gt;\n",
       "Coordinates:\n",
       "  * lat      (lat) float32 -73.83 -73.5 -73.17 -72.83 ... -62.83 -62.5 -62.17\n",
       "  * level    (level) float32 15.0 25.0 35.0 ... 3.483e+03 3.972e+03 4.478e+03\n",
       "  * lon      (lon) float32 -64.5 -63.5 -62.5 -61.5 -60.5 ... 26.5 27.5 28.5 29.5</pre>"
      ],
      "text/plain": [
       "<xarray.DataArray 'cell_volume_wg' (lon: 95, lat: 36, level: 39)>\n",
       "dask.array<getitem, shape=(95, 36, 39), dtype=float32, chunksize=(48, 36, 39), chunktype=numpy.ndarray>\n",
       "Coordinates:\n",
       "  * lat      (lat) float32 -73.83 -73.5 -73.17 -72.83 ... -62.83 -62.5 -62.17\n",
       "  * level    (level) float32 15.0 25.0 35.0 ... 3.483e+03 3.972e+03 4.478e+03\n",
       "  * lon      (lon) float32 -64.5 -63.5 -62.5 -61.5 -60.5 ... 26.5 27.5 28.5 29.5"
      ]
     },
     "execution_count": 43,
     "metadata": {},
     "output_type": "execute_result"
    }
   ],
   "source": [
    "cell_coords.cell_volume_wg[:-1, :-1, :]"
   ]
  },
  {
   "cell_type": "code",
   "execution_count": 45,
   "id": "referenced-crisis",
   "metadata": {},
   "outputs": [],
   "source": [
    "delta_sigma = sigma2.isel(time=-3) - sigma2.isel(time=0)\n",
    "total_time = (sigma2.time[-3] - sigma2.time[0]).astype('f8')*1e-9"
   ]
  },
  {
   "cell_type": "code",
   "execution_count": 52,
   "id": "minus-sigma",
   "metadata": {},
   "outputs": [
    {
     "ename": "ValueError",
     "evalue": "'YC' not found in array dimensions ('level', 'lat', 'lon')",
     "output_type": "error",
     "traceback": [
      "\u001b[0;31m---------------------------------------------------------------------------\u001b[0m",
      "\u001b[0;31mValueError\u001b[0m                                Traceback (most recent call last)",
      "\u001b[0;32m/srv/conda/envs/notebook/lib/python3.8/site-packages/xarray/core/common.py\u001b[0m in \u001b[0;36m_get_axis_num\u001b[0;34m(self, dim)\u001b[0m\n\u001b[1;32m    171\u001b[0m         \u001b[0;32mtry\u001b[0m\u001b[0;34m:\u001b[0m\u001b[0;34m\u001b[0m\u001b[0;34m\u001b[0m\u001b[0m\n\u001b[0;32m--> 172\u001b[0;31m             \u001b[0;32mreturn\u001b[0m \u001b[0mself\u001b[0m\u001b[0;34m.\u001b[0m\u001b[0mdims\u001b[0m\u001b[0;34m.\u001b[0m\u001b[0mindex\u001b[0m\u001b[0;34m(\u001b[0m\u001b[0mdim\u001b[0m\u001b[0;34m)\u001b[0m\u001b[0;34m\u001b[0m\u001b[0;34m\u001b[0m\u001b[0m\n\u001b[0m\u001b[1;32m    173\u001b[0m         \u001b[0;32mexcept\u001b[0m \u001b[0mValueError\u001b[0m\u001b[0;34m:\u001b[0m\u001b[0;34m\u001b[0m\u001b[0;34m\u001b[0m\u001b[0m\n",
      "\u001b[0;31mValueError\u001b[0m: tuple.index(x): x not in tuple",
      "\nDuring handling of the above exception, another exception occurred:\n",
      "\u001b[0;31mValueError\u001b[0m                                Traceback (most recent call last)",
      "\u001b[0;32m<ipython-input-52-772bdb9c8d9c>\u001b[0m in \u001b[0;36m<module>\u001b[0;34m\u001b[0m\n\u001b[1;32m      1\u001b[0m \u001b[0mvol\u001b[0m \u001b[0;34m=\u001b[0m \u001b[0mcell_coords\u001b[0m\u001b[0;34m.\u001b[0m\u001b[0mcell_volume_wg\u001b[0m\u001b[0;34m[\u001b[0m\u001b[0;34m:\u001b[0m\u001b[0;34m-\u001b[0m\u001b[0;36m1\u001b[0m\u001b[0;34m,\u001b[0m \u001b[0;34m:\u001b[0m\u001b[0;34m-\u001b[0m\u001b[0;36m1\u001b[0m\u001b[0;34m,\u001b[0m \u001b[0;34m:\u001b[0m\u001b[0;34m]\u001b[0m\u001b[0;34m\u001b[0m\u001b[0;34m\u001b[0m\u001b[0m\n\u001b[0;32m----> 2\u001b[0;31m \u001b[0;34m(\u001b[0m\u001b[0;34m(\u001b[0m\u001b[0mdelta_sigma\u001b[0m\u001b[0;34m[\u001b[0m\u001b[0;36m1\u001b[0m\u001b[0;34m:\u001b[0m\u001b[0;34m,\u001b[0m\u001b[0;36m1\u001b[0m\u001b[0;34m:\u001b[0m\u001b[0;34m,\u001b[0m\u001b[0;36m1\u001b[0m\u001b[0;34m:\u001b[0m\u001b[0;34m]\u001b[0m \u001b[0;34m*\u001b[0m \u001b[0mvol\u001b[0m\u001b[0;34m)\u001b[0m\u001b[0;34m.\u001b[0m\u001b[0msum\u001b[0m\u001b[0;34m(\u001b[0m\u001b[0mdim\u001b[0m\u001b[0;34m=\u001b[0m\u001b[0;34m[\u001b[0m\u001b[0;34m'YC'\u001b[0m\u001b[0;34m,\u001b[0m \u001b[0;34m'XC'\u001b[0m\u001b[0;34m]\u001b[0m\u001b[0;34m)\u001b[0m\u001b[0;34m/\u001b[0m \u001b[0mtotal_time\u001b[0m\u001b[0;34m)\u001b[0m\u001b[0;34m.\u001b[0m\u001b[0mplot\u001b[0m\u001b[0;34m(\u001b[0m\u001b[0my\u001b[0m\u001b[0;34m=\u001b[0m\u001b[0;34m'Z'\u001b[0m\u001b[0;34m,\u001b[0m \u001b[0myincrease\u001b[0m\u001b[0;34m=\u001b[0m\u001b[0;32mFalse\u001b[0m\u001b[0;34m,\u001b[0m \u001b[0mcolor\u001b[0m\u001b[0;34m=\u001b[0m\u001b[0;34m'y'\u001b[0m\u001b[0;34m)\u001b[0m\u001b[0;34m\u001b[0m\u001b[0;34m\u001b[0m\u001b[0m\n\u001b[0m\u001b[1;32m      3\u001b[0m \u001b[0;34m(\u001b[0m\u001b[0mds\u001b[0m\u001b[0;34m.\u001b[0m\u001b[0mtotal_tendency_SLT_truth\u001b[0m \u001b[0;34m+\u001b[0m \u001b[0mds\u001b[0m\u001b[0;34m.\u001b[0m\u001b[0mtotal_tendency_TH_truth\u001b[0m\u001b[0;34m)\u001b[0m\u001b[0;34m.\u001b[0m\u001b[0msum\u001b[0m\u001b[0;34m(\u001b[0m\u001b[0mdim\u001b[0m\u001b[0;34m=\u001b[0m\u001b[0;34m[\u001b[0m\u001b[0;34m'YC'\u001b[0m\u001b[0;34m,\u001b[0m \u001b[0;34m'XC'\u001b[0m\u001b[0;34m]\u001b[0m\u001b[0;34m)\u001b[0m\u001b[0;34m.\u001b[0m\u001b[0mmean\u001b[0m\u001b[0;34m(\u001b[0m\u001b[0mdim\u001b[0m\u001b[0;34m=\u001b[0m\u001b[0;34m'time'\u001b[0m\u001b[0;34m)\u001b[0m\u001b[0;34m.\u001b[0m\u001b[0mplot\u001b[0m\u001b[0;34m(\u001b[0m\u001b[0my\u001b[0m\u001b[0;34m=\u001b[0m\u001b[0;34m'Z'\u001b[0m\u001b[0;34m,\u001b[0m \u001b[0myincrease\u001b[0m\u001b[0;34m=\u001b[0m\u001b[0;32mFalse\u001b[0m\u001b[0;34m,\u001b[0m \u001b[0mcolor\u001b[0m\u001b[0;34m=\u001b[0m\u001b[0;34m'k'\u001b[0m\u001b[0;34m)\u001b[0m\u001b[0;34m\u001b[0m\u001b[0;34m\u001b[0m\u001b[0m\n",
      "\u001b[0;32m/srv/conda/envs/notebook/lib/python3.8/site-packages/xarray/core/common.py\u001b[0m in \u001b[0;36mwrapped_func\u001b[0;34m(self, dim, axis, skipna, **kwargs)\u001b[0m\n\u001b[1;32m     44\u001b[0m \u001b[0;34m\u001b[0m\u001b[0m\n\u001b[1;32m     45\u001b[0m             \u001b[0;32mdef\u001b[0m \u001b[0mwrapped_func\u001b[0m\u001b[0;34m(\u001b[0m\u001b[0mself\u001b[0m\u001b[0;34m,\u001b[0m \u001b[0mdim\u001b[0m\u001b[0;34m=\u001b[0m\u001b[0;32mNone\u001b[0m\u001b[0;34m,\u001b[0m \u001b[0maxis\u001b[0m\u001b[0;34m=\u001b[0m\u001b[0;32mNone\u001b[0m\u001b[0;34m,\u001b[0m \u001b[0mskipna\u001b[0m\u001b[0;34m=\u001b[0m\u001b[0;32mNone\u001b[0m\u001b[0;34m,\u001b[0m \u001b[0;34m**\u001b[0m\u001b[0mkwargs\u001b[0m\u001b[0;34m)\u001b[0m\u001b[0;34m:\u001b[0m\u001b[0;34m\u001b[0m\u001b[0;34m\u001b[0m\u001b[0m\n\u001b[0;32m---> 46\u001b[0;31m                 \u001b[0;32mreturn\u001b[0m \u001b[0mself\u001b[0m\u001b[0;34m.\u001b[0m\u001b[0mreduce\u001b[0m\u001b[0;34m(\u001b[0m\u001b[0mfunc\u001b[0m\u001b[0;34m,\u001b[0m \u001b[0mdim\u001b[0m\u001b[0;34m,\u001b[0m \u001b[0maxis\u001b[0m\u001b[0;34m,\u001b[0m \u001b[0mskipna\u001b[0m\u001b[0;34m=\u001b[0m\u001b[0mskipna\u001b[0m\u001b[0;34m,\u001b[0m \u001b[0;34m**\u001b[0m\u001b[0mkwargs\u001b[0m\u001b[0;34m)\u001b[0m\u001b[0;34m\u001b[0m\u001b[0;34m\u001b[0m\u001b[0m\n\u001b[0m\u001b[1;32m     47\u001b[0m \u001b[0;34m\u001b[0m\u001b[0m\n\u001b[1;32m     48\u001b[0m         \u001b[0;32melse\u001b[0m\u001b[0;34m:\u001b[0m\u001b[0;34m\u001b[0m\u001b[0;34m\u001b[0m\u001b[0m\n",
      "\u001b[0;32m/srv/conda/envs/notebook/lib/python3.8/site-packages/xarray/core/dataarray.py\u001b[0m in \u001b[0;36mreduce\u001b[0;34m(self, func, dim, axis, keep_attrs, keepdims, **kwargs)\u001b[0m\n\u001b[1;32m   2516\u001b[0m         \"\"\"\n\u001b[1;32m   2517\u001b[0m \u001b[0;34m\u001b[0m\u001b[0m\n\u001b[0;32m-> 2518\u001b[0;31m         \u001b[0mvar\u001b[0m \u001b[0;34m=\u001b[0m \u001b[0mself\u001b[0m\u001b[0;34m.\u001b[0m\u001b[0mvariable\u001b[0m\u001b[0;34m.\u001b[0m\u001b[0mreduce\u001b[0m\u001b[0;34m(\u001b[0m\u001b[0mfunc\u001b[0m\u001b[0;34m,\u001b[0m \u001b[0mdim\u001b[0m\u001b[0;34m,\u001b[0m \u001b[0maxis\u001b[0m\u001b[0;34m,\u001b[0m \u001b[0mkeep_attrs\u001b[0m\u001b[0;34m,\u001b[0m \u001b[0mkeepdims\u001b[0m\u001b[0;34m,\u001b[0m \u001b[0;34m**\u001b[0m\u001b[0mkwargs\u001b[0m\u001b[0;34m)\u001b[0m\u001b[0;34m\u001b[0m\u001b[0;34m\u001b[0m\u001b[0m\n\u001b[0m\u001b[1;32m   2519\u001b[0m         \u001b[0;32mreturn\u001b[0m \u001b[0mself\u001b[0m\u001b[0;34m.\u001b[0m\u001b[0m_replace_maybe_drop_dims\u001b[0m\u001b[0;34m(\u001b[0m\u001b[0mvar\u001b[0m\u001b[0;34m)\u001b[0m\u001b[0;34m\u001b[0m\u001b[0;34m\u001b[0m\u001b[0m\n\u001b[1;32m   2520\u001b[0m \u001b[0;34m\u001b[0m\u001b[0m\n",
      "\u001b[0;32m/srv/conda/envs/notebook/lib/python3.8/site-packages/xarray/core/variable.py\u001b[0m in \u001b[0;36mreduce\u001b[0;34m(self, func, dim, axis, keep_attrs, keepdims, **kwargs)\u001b[0m\n\u001b[1;32m   1622\u001b[0m \u001b[0;34m\u001b[0m\u001b[0m\n\u001b[1;32m   1623\u001b[0m         \u001b[0;32mif\u001b[0m \u001b[0mdim\u001b[0m \u001b[0;32mis\u001b[0m \u001b[0;32mnot\u001b[0m \u001b[0;32mNone\u001b[0m\u001b[0;34m:\u001b[0m\u001b[0;34m\u001b[0m\u001b[0;34m\u001b[0m\u001b[0m\n\u001b[0;32m-> 1624\u001b[0;31m             \u001b[0maxis\u001b[0m \u001b[0;34m=\u001b[0m \u001b[0mself\u001b[0m\u001b[0;34m.\u001b[0m\u001b[0mget_axis_num\u001b[0m\u001b[0;34m(\u001b[0m\u001b[0mdim\u001b[0m\u001b[0;34m)\u001b[0m\u001b[0;34m\u001b[0m\u001b[0;34m\u001b[0m\u001b[0m\n\u001b[0m\u001b[1;32m   1625\u001b[0m \u001b[0;34m\u001b[0m\u001b[0m\n\u001b[1;32m   1626\u001b[0m         \u001b[0;32mwith\u001b[0m \u001b[0mwarnings\u001b[0m\u001b[0;34m.\u001b[0m\u001b[0mcatch_warnings\u001b[0m\u001b[0;34m(\u001b[0m\u001b[0;34m)\u001b[0m\u001b[0;34m:\u001b[0m\u001b[0;34m\u001b[0m\u001b[0;34m\u001b[0m\u001b[0m\n",
      "\u001b[0;32m/srv/conda/envs/notebook/lib/python3.8/site-packages/xarray/core/common.py\u001b[0m in \u001b[0;36mget_axis_num\u001b[0;34m(self, dim)\u001b[0m\n\u001b[1;32m    164\u001b[0m         \"\"\"\n\u001b[1;32m    165\u001b[0m         \u001b[0;32mif\u001b[0m \u001b[0misinstance\u001b[0m\u001b[0;34m(\u001b[0m\u001b[0mdim\u001b[0m\u001b[0;34m,\u001b[0m \u001b[0mIterable\u001b[0m\u001b[0;34m)\u001b[0m \u001b[0;32mand\u001b[0m \u001b[0;32mnot\u001b[0m \u001b[0misinstance\u001b[0m\u001b[0;34m(\u001b[0m\u001b[0mdim\u001b[0m\u001b[0;34m,\u001b[0m \u001b[0mstr\u001b[0m\u001b[0;34m)\u001b[0m\u001b[0;34m:\u001b[0m\u001b[0;34m\u001b[0m\u001b[0;34m\u001b[0m\u001b[0m\n\u001b[0;32m--> 166\u001b[0;31m             \u001b[0;32mreturn\u001b[0m \u001b[0mtuple\u001b[0m\u001b[0;34m(\u001b[0m\u001b[0mself\u001b[0m\u001b[0;34m.\u001b[0m\u001b[0m_get_axis_num\u001b[0m\u001b[0;34m(\u001b[0m\u001b[0md\u001b[0m\u001b[0;34m)\u001b[0m \u001b[0;32mfor\u001b[0m \u001b[0md\u001b[0m \u001b[0;32min\u001b[0m \u001b[0mdim\u001b[0m\u001b[0;34m)\u001b[0m\u001b[0;34m\u001b[0m\u001b[0;34m\u001b[0m\u001b[0m\n\u001b[0m\u001b[1;32m    167\u001b[0m         \u001b[0;32melse\u001b[0m\u001b[0;34m:\u001b[0m\u001b[0;34m\u001b[0m\u001b[0;34m\u001b[0m\u001b[0m\n\u001b[1;32m    168\u001b[0m             \u001b[0;32mreturn\u001b[0m \u001b[0mself\u001b[0m\u001b[0;34m.\u001b[0m\u001b[0m_get_axis_num\u001b[0m\u001b[0;34m(\u001b[0m\u001b[0mdim\u001b[0m\u001b[0;34m)\u001b[0m\u001b[0;34m\u001b[0m\u001b[0;34m\u001b[0m\u001b[0m\n",
      "\u001b[0;32m/srv/conda/envs/notebook/lib/python3.8/site-packages/xarray/core/common.py\u001b[0m in \u001b[0;36m<genexpr>\u001b[0;34m(.0)\u001b[0m\n\u001b[1;32m    164\u001b[0m         \"\"\"\n\u001b[1;32m    165\u001b[0m         \u001b[0;32mif\u001b[0m \u001b[0misinstance\u001b[0m\u001b[0;34m(\u001b[0m\u001b[0mdim\u001b[0m\u001b[0;34m,\u001b[0m \u001b[0mIterable\u001b[0m\u001b[0;34m)\u001b[0m \u001b[0;32mand\u001b[0m \u001b[0;32mnot\u001b[0m \u001b[0misinstance\u001b[0m\u001b[0;34m(\u001b[0m\u001b[0mdim\u001b[0m\u001b[0;34m,\u001b[0m \u001b[0mstr\u001b[0m\u001b[0;34m)\u001b[0m\u001b[0;34m:\u001b[0m\u001b[0;34m\u001b[0m\u001b[0;34m\u001b[0m\u001b[0m\n\u001b[0;32m--> 166\u001b[0;31m             \u001b[0;32mreturn\u001b[0m \u001b[0mtuple\u001b[0m\u001b[0;34m(\u001b[0m\u001b[0mself\u001b[0m\u001b[0;34m.\u001b[0m\u001b[0m_get_axis_num\u001b[0m\u001b[0;34m(\u001b[0m\u001b[0md\u001b[0m\u001b[0;34m)\u001b[0m \u001b[0;32mfor\u001b[0m \u001b[0md\u001b[0m \u001b[0;32min\u001b[0m \u001b[0mdim\u001b[0m\u001b[0;34m)\u001b[0m\u001b[0;34m\u001b[0m\u001b[0;34m\u001b[0m\u001b[0m\n\u001b[0m\u001b[1;32m    167\u001b[0m         \u001b[0;32melse\u001b[0m\u001b[0;34m:\u001b[0m\u001b[0;34m\u001b[0m\u001b[0;34m\u001b[0m\u001b[0m\n\u001b[1;32m    168\u001b[0m             \u001b[0;32mreturn\u001b[0m \u001b[0mself\u001b[0m\u001b[0;34m.\u001b[0m\u001b[0m_get_axis_num\u001b[0m\u001b[0;34m(\u001b[0m\u001b[0mdim\u001b[0m\u001b[0;34m)\u001b[0m\u001b[0;34m\u001b[0m\u001b[0;34m\u001b[0m\u001b[0m\n",
      "\u001b[0;32m/srv/conda/envs/notebook/lib/python3.8/site-packages/xarray/core/common.py\u001b[0m in \u001b[0;36m_get_axis_num\u001b[0;34m(self, dim)\u001b[0m\n\u001b[1;32m    172\u001b[0m             \u001b[0;32mreturn\u001b[0m \u001b[0mself\u001b[0m\u001b[0;34m.\u001b[0m\u001b[0mdims\u001b[0m\u001b[0;34m.\u001b[0m\u001b[0mindex\u001b[0m\u001b[0;34m(\u001b[0m\u001b[0mdim\u001b[0m\u001b[0;34m)\u001b[0m\u001b[0;34m\u001b[0m\u001b[0;34m\u001b[0m\u001b[0m\n\u001b[1;32m    173\u001b[0m         \u001b[0;32mexcept\u001b[0m \u001b[0mValueError\u001b[0m\u001b[0;34m:\u001b[0m\u001b[0;34m\u001b[0m\u001b[0;34m\u001b[0m\u001b[0m\n\u001b[0;32m--> 174\u001b[0;31m             \u001b[0;32mraise\u001b[0m \u001b[0mValueError\u001b[0m\u001b[0;34m(\u001b[0m\u001b[0;34mf\"{dim!r} not found in array dimensions {self.dims!r}\"\u001b[0m\u001b[0;34m)\u001b[0m\u001b[0;34m\u001b[0m\u001b[0;34m\u001b[0m\u001b[0m\n\u001b[0m\u001b[1;32m    175\u001b[0m \u001b[0;34m\u001b[0m\u001b[0m\n\u001b[1;32m    176\u001b[0m     \u001b[0;34m@\u001b[0m\u001b[0mproperty\u001b[0m\u001b[0;34m\u001b[0m\u001b[0;34m\u001b[0m\u001b[0m\n",
      "\u001b[0;31mValueError\u001b[0m: 'YC' not found in array dimensions ('level', 'lat', 'lon')"
     ]
    }
   ],
   "source": [
    "vol = cell_coords.cell_volume_wg[:-1, :-1, :]\n",
    "((delta_sigma[1:,1:,1:] * vol).sum(dim=['lat', 'lon'])/ total_time).plot(y='level', yincrease=False, color='y')\n",
    "(ds.total_tendency_SLT_truth + ds.total_tendency_TH_truth).sum(dim=['lat', 'lon']).mean(dim='time').plot(y='level', yincrease=False, color='k')"
   ]
  },
  {
   "cell_type": "code",
   "execution_count": 18,
   "id": "valuable-sport",
   "metadata": {},
   "outputs": [
    {
     "data": {
      "text/plain": [
       "[<matplotlib.lines.Line2D at 0x7f990f4a0b50>]"
      ]
     },
     "execution_count": 18,
     "metadata": {},
     "output_type": "execute_result"
    },
    {
     "data": {
      "image/png": "[encoded data removed]",
      "text/plain": [
       "<Figure size 432x288 with 1 Axes>"
      ]
     },
     "metadata": {
      "needs_background": "light"
     },
     "output_type": "display_data"
    }
   ],
   "source": [
    "vol = cell_coords.cell_volume_wg[:-1, :-1, :]\n",
    "((delta_sigma[1:,1:,1:] * vol).sum(dim=['YC', 'XC'])/ total_time).plot(y='Z', yincrease=False, color='y')\n",
    "(ds.total_tendency_SLT_truth + ds.total_tendency_TH_truth).sum(dim=['YC', 'XC']).mean(dim='time').plot(y='Z', yincrease=False, color='k')"
   ]
  },
  {
   "cell_type": "markdown",
   "id": "white-navigation",
   "metadata": {},
   "source": [
    "# <font color='Green'>\\begin{equation*} \\frac{\\partial V}{\\partial t} == \\Omega_{tottend-\\sigma-truth} + R1 \\end{equation*} </font>"
   ]
  },
  {
   "cell_type": "code",
   "execution_count": null,
   "id": "underlying-suite",
   "metadata": {},
   "outputs": [],
   "source": []
  }
 ],
 "metadata": {
  "kernelspec": {
   "display_name": "Python 3",
   "language": "python",
   "name": "python3"
  },
  "language_info": {
   "codemirror_mode": {
    "name": "ipython",
    "version": 3
   },
   "file_extension": ".py",
   "mimetype": "text/x-python",
   "name": "python",
   "nbconvert_exporter": "python",
   "pygments_lexer": "ipython3",
   "version": "3.8.6"
  }
 },
 "nbformat": 4,
 "nbformat_minor": 5
}
