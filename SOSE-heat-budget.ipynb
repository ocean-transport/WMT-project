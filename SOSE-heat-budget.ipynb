{
 "cells": [
  {
   "cell_type": "markdown",
   "metadata": {},
   "source": [
    "# SOSE HEAT BUDGET"
   ]
  },
  {
   "cell_type": "code",
   "execution_count": null,
   "metadata": {},
   "outputs": [],
   "source": [
    "import xarray as xr\n",
    "from matplotlib import pyplot as plt\n",
    "import gcsfs\n",
    "import dask\n",
    "import dask.array as dsa\n",
    "import numpy as np\n",
    "import intake\n",
    "%matplotlib inline"
   ]
  },
  {
   "cell_type": "raw",
   "metadata": {},
   "source": [
    "#One way to use this, but Ryan said in general using Dask lab extension is more efficient\n",
    "from dask_kubernetes import KubeCluster\n",
    "from dask.distributed import Client\n",
    "cluster = KubeCluster()\n",
    "cluster.scale(10)\n",
    "client = Client(cluster)\n",
    "cluster"
   ]
  },
  {
   "cell_type": "code",
   "execution_count": null,
   "metadata": {},
   "outputs": [],
   "source": [
    "#example\n",
    "cat_url = 'https://raw.githubusercontent.com/pangeo-data/pangeo-datastore/master/intake-catalogs/master.yaml'\n",
    "cat = intake.Catalog(cat_url)\n",
    "ds = cat.atmosphere.gmet_v1.to_dask()"
   ]
  },
  {
   "cell_type": "code",
   "execution_count": null,
   "metadata": {},
   "outputs": [],
   "source": [
    "ocean_url = 'https://raw.githubusercontent.com/pangeo-data/pangeo-datastore/master/intake-catalogs/ocean.yaml'\n",
    "ocean_cat = intake.Catalog(ocean_url)\n",
    "ds = ocean_cat[\"SOSE\"].to_dask()\n",
    "ds"
   ]
  },
  {
   "cell_type": "markdown",
   "metadata": {},
   "source": [
    "##### Another way to load (but slower)\n",
    "ds = xr.open_zarr(gcsfs.GCSMap('pangeo-data/SOSE'))\n",
    "\n",
    "ds"
   ]
  },
  {
   "cell_type": "code",
   "execution_count": null,
   "metadata": {},
   "outputs": [],
   "source": [
    "ocean_cat.walk(depth=5)"
   ]
  },
  {
   "cell_type": "code",
   "execution_count": null,
   "metadata": {},
   "outputs": [],
   "source": [
    "coords = ds.coords.to_dataset().reset_coords() #ds split into coords\n",
    "dsr = ds.reset_coords(drop=True) #ds dropping coords so it just holds data variables\n",
    "dsr"
   ]
  },
  {
   "cell_type": "code",
   "execution_count": null,
   "metadata": {},
   "outputs": [],
   "source": [
    "import xgcm\n",
    "grid = xgcm.Grid(ds, periodic=('XC', 'YC'))\n",
    "grid"
   ]
  },
  {
   "cell_type": "markdown",
   "metadata": {},
   "source": [
    "# Heat budget for Weddell Gyre"
   ]
  },
  {
   "cell_type": "code",
   "execution_count": null,
   "metadata": {},
   "outputs": [],
   "source": [
    " dsr.THETA[:,-5,:,10].plot()"
   ]
  },
  {
   "cell_type": "code",
   "execution_count": null,
   "metadata": {},
   "outputs": [],
   "source": [
    "#why does 'isel' take so long to compute with"
   ]
  },
  {
   "cell_type": "code",
   "execution_count": null,
   "metadata": {},
   "outputs": [],
   "source": [
    "dsr.THETA"
   ]
  },
  {
   "cell_type": "code",
   "execution_count": null,
   "metadata": {},
   "outputs": [],
   "source": [
    "sst_mean = dsr.THETA.isel(Z=0).mean(dim='time').load()"
   ]
  },
  {
   "cell_type": "code",
   "execution_count": null,
   "metadata": {},
   "outputs": [],
   "source": [
    "surface_mask = (coords.hFacC[0]>0).load()"
   ]
  },
  {
   "cell_type": "code",
   "execution_count": null,
   "metadata": {},
   "outputs": [],
   "source": [
    "left_lon = 298\n",
    "upper_lat = -65\n",
    "right_lon = 360\n",
    "lower_lat =-80"
   ]
  },
  {
   "cell_type": "code",
   "execution_count": null,
   "metadata": {},
   "outputs": [],
   "source": [
    "fig, ax = plt.subplots(figsize=(12, 8), subplot_kw={'facecolor': '0.5'})\n",
    "(sst_mean.where(surface_mask)).plot(ax=ax, vmin=-2, vmax=10)\n",
    "ax.plot([left_lon, right_lon], [upper_lat, upper_lat], color='w')\n",
    "ax.plot([right_lon, right_lon], [lower_lat, upper_lat], color='w')\n",
    "ax.plot([left_lon, left_lon], [lower_lat, upper_lat], color='w')\n",
    "ax.plot([left_lon, right_lon], [lower_lat, lower_lat], color='w')\n",
    "#ax.patch(xy=(-80, 290), width=70, height=20)\n",
    "#ax.patch(xy=(295,-80), width = 1, height = 1)\n",
    "ax.set_xlim([287, 362])\n",
    "ax.set_ylim([-80, -55])\n",
    "plt.title('Surface Mask @ surface\\nLat[290,360]\\nLon[-80,-63.5]');"
   ]
  },
  {
   "cell_type": "code",
   "execution_count": null,
   "metadata": {},
   "outputs": [],
   "source": [
    "#set the boundaries\n",
    "lat_range = dict(YC=slice(lower_lat, upper_lat))\n",
    "lon_range = dict(XC=slice(left_lon, right_lon))"
   ]
  },
  {
   "cell_type": "code",
   "execution_count": null,
   "metadata": {},
   "outputs": [],
   "source": [
    "dsr.ADVy_TH.sel(YG=upper_lat, method='nearest')"
   ]
  },
  {
   "cell_type": "code",
   "execution_count": null,
   "metadata": {},
   "outputs": [],
   "source": [
    "#advective flux\n",
    "adv_flux_y = dsr.ADVy_TH.sel(**lon_range).sel(YG=upper_lat, method='nearest').sum(dim=['XC', 'Z']).load()\n",
    "adv_flux_x = dsr.ADVx_TH.sel(**lat_range).sel(XG=right_lon, method='nearest').sum(dim=['YC', 'Z']).load()\n",
    "adv_flux = adv_flux_x + adv_flux_y\n",
    "adv_flux.load()\n",
    "#units: (˚C m^3)/s"
   ]
  },
  {
   "cell_type": "code",
   "execution_count": null,
   "metadata": {},
   "outputs": [],
   "source": [
    "yg_index = dsr.indexes['YG']\n",
    "yg_index.get_loc(-60, method='nearest')"
   ]
  },
  {
   "cell_type": "code",
   "execution_count": null,
   "metadata": {},
   "outputs": [],
   "source": [
    "adv_flux_y"
   ]
  },
  {
   "cell_type": "code",
   "execution_count": null,
   "metadata": {},
   "outputs": [],
   "source": [
    "#diffusive flux\n",
    "diff_flux_y = dsr.DFyE_TH.sel(**lon_range).sel(YG=upper_lat, method='nearest').sum(dim=['XC', 'Z']).load()\n",
    "diff_flux_x = dsr.DFxE_TH.sel(**lat_range).sel(XG=360, method='nearest').sum(dim=['YC', 'Z']).load()\n",
    "diff_flux = diff_flux_x + diff_flux_y\n",
    "diff_flux.load()\n",
    "#units: (˚C m^3)/s"
   ]
  },
  {
   "cell_type": "code",
   "execution_count": null,
   "metadata": {},
   "outputs": [],
   "source": [
    "#vertical flux\n",
    "t_flux_z = (dsr.TFLUX.sel(**lat_range, **lon_range) * coords.rA).sum(dim=['XC','YC'])\n",
    "t_flux_z.load()\n",
    "#units: W = (kg*m^2)/s^3"
   ]
  },
  {
   "cell_type": "code",
   "execution_count": null,
   "metadata": {},
   "outputs": [],
   "source": [
    "coords.rA.sel(YC=-63.5, method='nearest')"
   ]
  },
  {
   "cell_type": "code",
   "execution_count": null,
   "metadata": {},
   "outputs": [],
   "source": [
    "dsr.WTHMASS.sel(YC=-63.4583, method='nearest')"
   ]
  },
  {
   "cell_type": "code",
   "execution_count": null,
   "metadata": {},
   "outputs": [],
   "source": [
    "#linear free surface correction\n",
    "heat_capacity_cp = 3.994e3 #J/kg*˚C\n",
    "runit2mass = 1.035e3 #kg/m^3\n",
    "surface_term = t_flux_z / (heat_capacity_cp * runit2mass)\n",
    "#units: (˚C m^3)/s\n",
    "\n",
    "lin_fs_correction = -(dsr.WTHMASS.isel(Zl=0, drop=True) * coords.rA\n",
    "                     ).sel(YC=slice(lower_lat, upper_lat)).sum(dim=['XC', 'YC'])\n",
    "#lin_fs_correction longitude window is slightly different than other terms\n",
    "#units: (˚C m^3)/s"
   ]
  },
  {
   "cell_type": "code",
   "execution_count": null,
   "metadata": {},
   "outputs": [],
   "source": [
    "surface_term.load()\n",
    "lin_fs_correction.load()"
   ]
  },
  {
   "cell_type": "code",
   "execution_count": null,
   "metadata": {},
   "outputs": [],
   "source": [
    "surface_term.plot()\n",
    "lin_fs_correction.plot()"
   ]
  },
  {
   "cell_type": "code",
   "execution_count": null,
   "metadata": {},
   "outputs": [],
   "source": [
    "#is it hFacC or hFacS\n",
    "total_volume = (coords.rA + coords.drF + coords.hFacC).sum().load()\n",
    "total_volume"
   ]
  },
  {
   "cell_type": "code",
   "execution_count": null,
   "metadata": {},
   "outputs": [],
   "source": [
    "dsr.TOTTTEND.sel(YC=upper_lat, method='nearest')"
   ]
  },
  {
   "cell_type": "code",
   "execution_count": null,
   "metadata": {},
   "outputs": [],
   "source": [
    "tottend_weddell = (dsr.TOTTTEND * coords.rA * coords.drF * coords.hFacC\n",
    "          ).sel(**lon_range, YC=slice(lower_lat, upper_lat)).sum(dim=['XC', 'YC', 'Z']) / (24*60*60)\n",
    "tottend_weddell.load()\n",
    "#same longitudinal window as lin_fs_correction (63.541634)\n",
    "#units: (˚C m^3)/s"
   ]
  },
  {
   "cell_type": "code",
   "execution_count": null,
   "metadata": {},
   "outputs": [],
   "source": [
    "adv_flux_y.plot(label='meridional')\n",
    "adv_flux_x.plot(label='zonal')\n",
    "plt.legend();"
   ]
  },
  {
   "cell_type": "code",
   "execution_count": null,
   "metadata": {},
   "outputs": [],
   "source": [
    "rhs = + adv_flux + diff_flux + lin_fs_correction + surface_term\n",
    "lhs = tottend_weddell\n",
    "rhs.plot()\n",
    "lhs.plot()"
   ]
  },
  {
   "cell_type": "code",
   "execution_count": null,
   "metadata": {},
   "outputs": [],
   "source": [
    "(rhs - lhs).plot()"
   ]
  },
  {
   "cell_type": "code",
   "execution_count": null,
   "metadata": {},
   "outputs": [],
   "source": [
    "(rhs - lhs).mean().load()"
   ]
  },
  {
   "cell_type": "code",
   "execution_count": null,
   "metadata": {},
   "outputs": [],
   "source": [
    "all_terms = xr.merge([tottend_weddell.rename('tottend'),\n",
    "                      adv_flux.rename('adv_flux'),\n",
    "                      diff_flux.rename('diff_flux'),\n",
    "                      lin_fs_correction.rename('lin_fs'),\n",
    "                      surface_term.rename('surface')])\n",
    "all_terms"
   ]
  },
  {
   "cell_type": "code",
   "execution_count": null,
   "metadata": {},
   "outputs": [],
   "source": [
    "all_terms.to_array().plot.line(x='time')"
   ]
  },
  {
   "cell_type": "code",
   "execution_count": null,
   "metadata": {},
   "outputs": [],
   "source": [
    "df = all_terms.mean(dim='time').reset_coords(drop=True).to_array().to_dataframe(name='budget')\n",
    "df"
   ]
  },
  {
   "cell_type": "code",
   "execution_count": null,
   "metadata": {},
   "outputs": [],
   "source": [
    "rhs_minus_lhs = df.iloc[0] - df.iloc[1:].sum()\n",
    "rhs_minus_lhs"
   ]
  },
  {
   "cell_type": "code",
   "execution_count": null,
   "metadata": {},
   "outputs": [],
   "source": [
    "budget_diff = rhs.sum() + lhs.sum()\n",
    "budget_diff.load()"
   ]
  },
  {
   "cell_type": "code",
   "execution_count": null,
   "metadata": {},
   "outputs": [],
   "source": [
    "df.plot(kind='bar')"
   ]
  },
  {
   "cell_type": "code",
   "execution_count": null,
   "metadata": {},
   "outputs": [],
   "source": [
    "tottend_weddell.plot(label='dT/dt')\n",
    "adv_flux.plot(label='advective term')\n",
    "surface_term.plot(label='surface term')\n",
    "lin_fs_correction.plot(label='lin-surf-correction')\n",
    "diff_flux.plot(label='diffusive term')\n",
    "plt.legend();"
   ]
  },
  {
   "cell_type": "code",
   "execution_count": null,
   "metadata": {},
   "outputs": [],
   "source": [
    "adv_flux_y.plot()"
   ]
  },
  {
   "cell_type": "code",
   "execution_count": null,
   "metadata": {},
   "outputs": [],
   "source": [
    "(surface_term - tottend_weddell).plot()\n",
    "adv_flux_y.plot(label='adv flux y')"
   ]
  },
  {
   "cell_type": "code",
   "execution_count": null,
   "metadata": {},
   "outputs": [],
   "source": [
    "test = surface_term - tottend_weddell\n",
    "test"
   ]
  },
  {
   "cell_type": "code",
   "execution_count": null,
   "metadata": {},
   "outputs": [],
   "source": [
    "dsr.TOTTTEND"
   ]
  },
  {
   "cell_type": "code",
   "execution_count": null,
   "metadata": {},
   "outputs": [],
   "source": []
  }
 ],
 "metadata": {
  "kernelspec": {
   "display_name": "Python 3",
   "language": "python",
   "name": "python3"
  },
  "language_info": {
   "codemirror_mode": {
    "name": "ipython",
    "version": 3
   },
   "file_extension": ".py",
   "mimetype": "text/x-python",
   "name": "python",
   "nbconvert_exporter": "python",
   "pygments_lexer": "ipython3",
   "version": "3.6.7"
  }
 },
 "nbformat": 4,
 "nbformat_minor": 2
}
