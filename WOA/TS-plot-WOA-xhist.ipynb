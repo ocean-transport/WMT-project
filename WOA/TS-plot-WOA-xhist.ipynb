{
 "cells": [
  {
   "cell_type": "markdown",
   "metadata": {},
   "source": [
    "# Volume-weighted T/S Diagram from WOA"
   ]
  },
  {
   "cell_type": "code",
   "execution_count": 1,
   "metadata": {},
   "outputs": [],
   "source": [
    "import pandas as pd\n",
    "import numpy as np\n",
    "from matplotlib import pyplot as plt\n",
    "%matplotlib inline\n",
    "import xarray as xr\n",
    "import gsw"
   ]
  },
  {
   "cell_type": "code",
   "execution_count": 2,
   "metadata": {},
   "outputs": [
    {
     "data": {
      "text/html": [
       "<pre>&lt;xarray.Dataset&gt;\n",
       "Dimensions:  (lat: 180, lev: 102, lon: 360, time: 1)\n",
       "Coordinates:\n",
       "  * time     (time) datetime64[ns] 2000-01-15\n",
       "  * lev      (lev) float64 0.0 5.0 10.0 15.0 ... 5.2e+03 5.3e+03 5.4e+03 5.5e+03\n",
       "  * lat      (lat) float64 -89.5 -88.5 -87.5 -86.5 -85.5 ... 86.5 87.5 88.5 89.5\n",
       "  * lon      (lon) float64 -179.5 -178.5 -177.5 -176.5 ... 177.5 178.5 179.5\n",
       "Data variables:\n",
       "    san      (time, lev, lat, lon) float32 ...\n",
       "    smn      (time, lev, lat, lon) float32 ...\n",
       "    sdd      (time, lev, lat, lon) float32 ...\n",
       "    ssd      (time, lev, lat, lon) float32 ...\n",
       "    sse      (time, lev, lat, lon) float32 ...\n",
       "    soa      (time, lev, lat, lon) float32 ...\n",
       "    sgp      (time, lev, lat, lon) float32 ...\n",
       "    tan      (time, lev, lat, lon) float32 ...\n",
       "    tmn      (time, lev, lat, lon) float32 ...\n",
       "    tdd      (time, lev, lat, lon) float32 ...\n",
       "    tsd      (time, lev, lat, lon) float32 ...\n",
       "    tse      (time, lev, lat, lon) float32 ...\n",
       "    toa      (time, lev, lat, lon) float32 ...\n",
       "    tgp      (time, lev, lat, lon) float32 ...</pre>"
      ],
      "text/plain": [
       "<xarray.Dataset>\n",
       "Dimensions:  (lat: 180, lev: 102, lon: 360, time: 1)\n",
       "Coordinates:\n",
       "  * time     (time) datetime64[ns] 2000-01-15\n",
       "  * lev      (lev) float64 0.0 5.0 10.0 15.0 ... 5.2e+03 5.3e+03 5.4e+03 5.5e+03\n",
       "  * lat      (lat) float64 -89.5 -88.5 -87.5 -86.5 -85.5 ... 86.5 87.5 88.5 89.5\n",
       "  * lon      (lon) float64 -179.5 -178.5 -177.5 -176.5 ... 177.5 178.5 179.5\n",
       "Data variables:\n",
       "    san      (time, lev, lat, lon) float32 ...\n",
       "    smn      (time, lev, lat, lon) float32 ...\n",
       "    sdd      (time, lev, lat, lon) float32 ...\n",
       "    ssd      (time, lev, lat, lon) float32 ...\n",
       "    sse      (time, lev, lat, lon) float32 ...\n",
       "    soa      (time, lev, lat, lon) float32 ...\n",
       "    sgp      (time, lev, lat, lon) float32 ...\n",
       "    tan      (time, lev, lat, lon) float32 ...\n",
       "    tmn      (time, lev, lat, lon) float32 ...\n",
       "    tdd      (time, lev, lat, lon) float32 ...\n",
       "    tsd      (time, lev, lat, lon) float32 ...\n",
       "    tse      (time, lev, lat, lon) float32 ...\n",
       "    toa      (time, lev, lat, lon) float32 ...\n",
       "    tgp      (time, lev, lat, lon) float32 ..."
      ]
     },
     "execution_count": 2,
     "metadata": {},
     "output_type": "execute_result"
    }
   ],
   "source": [
    "ds_salt = xr.open_dataset('http://apdrc.soest.hawaii.edu:80/dods/public_data/WOA/WOA18/1_deg/annual/Avg_Decades_1981-2010/salt')\n",
    "ds_temp = xr.open_dataset('http://apdrc.soest.hawaii.edu:80/dods/public_data/WOA/WOA18/1_deg/annual/Avg_Decades_1981-2010/temp')\n",
    "ds = xr.merge([ds_salt, ds_temp])\n",
    "ds"
   ]
  },
  {
   "cell_type": "code",
   "execution_count": 3,
   "metadata": {},
   "outputs": [],
   "source": [
    "sbins = np.arange(31,38, 0.025)\n",
    "tbins = np.arange(-2, 32, 0.1)"
   ]
  },
  {
   "cell_type": "code",
   "execution_count": null,
   "metadata": {},
   "outputs": [],
   "source": [
    "sst = ds.tan[0].load()\n",
    "sss = ds.san[0].load()\n",
    "ds_surf = xr.merge([sst, sss])"
   ]
  },
  {
   "cell_type": "code",
   "execution_count": null,
   "metadata": {},
   "outputs": [],
   "source": [
    "ds_surf"
   ]
  },
  {
   "cell_type": "code",
   "execution_count": 4,
   "metadata": {},
   "outputs": [],
   "source": [
    "from xhistogram.xarray import histogram\n",
    "from matplotlib.colors import LogNorm"
   ]
  },
  {
   "cell_type": "code",
   "execution_count": 5,
   "metadata": {},
   "outputs": [
    {
     "ename": "NameError",
     "evalue": "name 'ds_surf' is not defined",
     "output_type": "error",
     "traceback": [
      "\u001b[0;31m---------------------------------------------------------------------------\u001b[0m",
      "\u001b[0;31mNameError\u001b[0m                                 Traceback (most recent call last)",
      "\u001b[0;32m<ipython-input-5-eb374c54fc80>\u001b[0m in \u001b[0;36m<module>\u001b[0;34m\u001b[0m\n\u001b[1;32m      1\u001b[0m \u001b[0msalt_bins\u001b[0m \u001b[0;34m=\u001b[0m \u001b[0mnp\u001b[0m\u001b[0;34m.\u001b[0m\u001b[0mlinspace\u001b[0m\u001b[0;34m(\u001b[0m\u001b[0;36m30\u001b[0m\u001b[0;34m,\u001b[0m \u001b[0;36m37\u001b[0m\u001b[0;34m,\u001b[0m \u001b[0;36m100\u001b[0m\u001b[0;34m)\u001b[0m\u001b[0;34m\u001b[0m\u001b[0;34m\u001b[0m\u001b[0m\n\u001b[1;32m      2\u001b[0m \u001b[0mtheta_bins\u001b[0m \u001b[0;34m=\u001b[0m \u001b[0mnp\u001b[0m\u001b[0;34m.\u001b[0m\u001b[0mlinspace\u001b[0m\u001b[0;34m(\u001b[0m\u001b[0;34m-\u001b[0m\u001b[0;36m2\u001b[0m\u001b[0;34m,\u001b[0m \u001b[0;36m32\u001b[0m\u001b[0;34m,\u001b[0m \u001b[0;36m100\u001b[0m\u001b[0;34m)\u001b[0m\u001b[0;34m\u001b[0m\u001b[0;34m\u001b[0m\u001b[0m\n\u001b[0;32m----> 3\u001b[0;31m \u001b[0mts_hist\u001b[0m \u001b[0;34m=\u001b[0m \u001b[0mhistogram\u001b[0m\u001b[0;34m(\u001b[0m\u001b[0mds_surf\u001b[0m\u001b[0;34m.\u001b[0m\u001b[0mtan\u001b[0m\u001b[0;34m,\u001b[0m \u001b[0mds_surf\u001b[0m\u001b[0;34m.\u001b[0m\u001b[0msan\u001b[0m\u001b[0;34m,\u001b[0m \u001b[0mbins\u001b[0m\u001b[0;34m=\u001b[0m\u001b[0;34m[\u001b[0m\u001b[0mtheta_bins\u001b[0m\u001b[0;34m,\u001b[0m \u001b[0msalt_bins\u001b[0m\u001b[0;34m]\u001b[0m\u001b[0;34m)\u001b[0m\u001b[0;34m\u001b[0m\u001b[0;34m\u001b[0m\u001b[0m\n\u001b[0m\u001b[1;32m      4\u001b[0m \u001b[0mts_hist\u001b[0m\u001b[0;34m.\u001b[0m\u001b[0mwhere\u001b[0m\u001b[0;34m(\u001b[0m\u001b[0mts_hist\u001b[0m\u001b[0;34m>\u001b[0m\u001b[0;36m0\u001b[0m\u001b[0;34m)\u001b[0m\u001b[0;34m.\u001b[0m\u001b[0mplot\u001b[0m\u001b[0;34m(\u001b[0m\u001b[0mnorm\u001b[0m\u001b[0;34m=\u001b[0m\u001b[0mLogNorm\u001b[0m\u001b[0;34m(\u001b[0m\u001b[0;34m)\u001b[0m\u001b[0;34m)\u001b[0m\u001b[0;34m\u001b[0m\u001b[0;34m\u001b[0m\u001b[0m\n",
      "\u001b[0;31mNameError\u001b[0m: name 'ds_surf' is not defined"
     ]
    }
   ],
   "source": [
    "salt_bins = np.linspace(30, 37, 100)\n",
    "theta_bins = np.linspace(-2, 32, 100)\n",
    "ts_hist = histogram(ds_surf.tan, ds_surf.san, bins=[theta_bins, salt_bins])\n",
    "ts_hist.where(ts_hist>0).plot(norm=LogNorm())"
   ]
  },
  {
   "cell_type": "code",
   "execution_count": 7,
   "metadata": {},
   "outputs": [],
   "source": [
    "lower_lat = -79.88\n",
    "upper_lat = -59.88\n",
    "left_lon = -74.88\n",
    "right_lon = 30.12"
   ]
  },
  {
   "cell_type": "code",
   "execution_count": 8,
   "metadata": {},
   "outputs": [],
   "source": [
    "#set the boundaries\n",
    "lat_range = dict(lat=slice(lower_lat, upper_lat))\n",
    "lon_range = dict(lon=slice(left_lon, right_lon))"
   ]
  },
  {
   "cell_type": "code",
   "execution_count": 9,
   "metadata": {},
   "outputs": [],
   "source": [
    "temp = ds.tan.sel(**lat_range, **lon_range)\n",
    "salt = ds.san.sel(**lat_range, **lon_range)"
   ]
  },
  {
   "cell_type": "code",
   "execution_count": 18,
   "metadata": {},
   "outputs": [],
   "source": [
    "# Create a dz variable\n",
    "dz = np.diff(ds.lev)\n",
    "dz = np.insert(dz, 0, dz[0]) #inserts 1st value of original dz into the first index to make it same size as ds.lev\n",
    "dz = xr.DataArray(dz, coords= {'lev':ds.lev}, dims='lev')"
   ]
  },
  {
   "cell_type": "code",
   "execution_count": 20,
   "metadata": {},
   "outputs": [],
   "source": [
    "rad_earth = 6378.1e3 #meters\n",
    "\n",
    "# Create a dy variable\n",
    "dy = np.diff(ds.lat*np.pi*rad_earth/180)\n",
    "dy = np.insert(dy, 0, dy[0]) #inserts 1st value of original dy into the first index to make it same size as ds.lat\n",
    "dy = xr.DataArray(dy, coords= {'lat':ds.lat}, dims='lat')"
   ]
  },
  {
   "cell_type": "code",
   "execution_count": 26,
   "metadata": {},
   "outputs": [],
   "source": [
    "dx = 2*np.pi*rad_earth*np.cos(ds.lat)/360"
   ]
  },
  {
   "cell_type": "code",
   "execution_count": 27,
   "metadata": {},
   "outputs": [
    {
     "data": {
      "text/html": [
       "<pre>&lt;xarray.DataArray &#x27;lat&#x27; (lat: 180)&gt;\n",
       "array([   3938.8214098 ,   95741.07689858,   99519.42781941,\n",
       "         11800.07576042,  -86768.21153385, -105562.20529602,\n",
       "        -27302.79433407,   76058.67982533,  109492.1545159 ,\n",
       "         42259.04729349,  -63826.83312297, -111230.61751869,\n",
       "        -56369.485134  ,   50317.49192169,  110742.79895558,\n",
       "         69351.6873463 ,  -35801.04577748, -108038.46251843,\n",
       "        -80945.81506483,   20568.04145862,  103171.7355194 ,\n",
       "         90919.81174447,   -4923.36765012,  -96240.02553247,\n",
       "        -99074.04777388,  -10819.84739537,   87382.07078017,\n",
       "        105245.31606348,   26346.50312167,  -76775.16328708,\n",
       "       -109310.09863649,  -41345.83340887,   64631.60037879,\n",
       "        111187.03884209,   55517.62655927,  -51194.43554949,\n",
       "       -110838.56970928,  -68578.23403661,   36732.61374459,\n",
       "        108271.66585014,   80266.24769344,  -21535.58842584,\n",
       "       -103537.70386286,  -90347.73185695,    5907.52815832,\n",
       "         96731.4340288 ,   98620.90555306,    9838.77132545,\n",
       "        -87989.08388497, -104920.18115399,  -25388.14773424,\n",
       "         77485.63162893,  109119.47861576,   40429.38019352,\n",
       "        -65431.303929  , -111134.74897112,  -54661.41833334,\n",
       "         52067.36823606,  110925.6565702 ,   67799.40781357,\n",
       "        -37661.30381387, -108496.38639884,  -79580.39168544,\n",
       "         22501.44813977,  103895.56031602,   89768.57347664,\n",
       "         -6891.22582817,  -97215.26388708,  -98160.03665937,\n",
       "         -8856.92441523,   88589.20329047,  104586.82604096,\n",
       "         24427.80325625,  -78190.02918767, -108920.30938824,\n",
       "        -39509.759449  ,   66225.88111905,  111073.75200255,\n",
       "         53800.92753776,  -52936.22158956, -111004.05271533,\n",
       "        -67015.26969604,   38587.04322504,  108712.60655828,\n",
       "         78888.30077571,  -23465.54492801, -104245.27684182,\n",
       "        -89182.38197899,    7874.3835897 ,   97691.4772006 ,\n",
       "         97691.4772006 ,    7874.3835897 ,  -89182.38197899,\n",
       "       -104245.27684182,  -23465.54492801,   78888.30077571,\n",
       "        108712.60655828,   38587.04322504,  -67015.26969604,\n",
       "       -111004.05271533,  -52936.22158956,   53800.92753776,\n",
       "        111073.75200255,   66225.88111905,  -39509.759449  ,\n",
       "       -108920.30938824,  -78190.02918767,   24427.80325625,\n",
       "        104586.82604096,   88589.20329047,   -8856.92441523,\n",
       "        -98160.03665937,  -97215.26388708,   -6891.22582817,\n",
       "         89768.57347664,  103895.56031602,   22501.44813977,\n",
       "        -79580.39168544, -108496.38639884,  -37661.30381387,\n",
       "         67799.40781357,  110925.6565702 ,   52067.36823606,\n",
       "        -54661.41833334, -111134.74897112,  -65431.303929  ,\n",
       "         40429.38019352,  109119.47861576,   77485.63162893,\n",
       "        -25388.14773424, -104920.18115399,  -87989.08388497,\n",
       "          9838.77132545,   98620.90555306,   96731.4340288 ,\n",
       "          5907.52815832,  -90347.73185695, -103537.70386286,\n",
       "        -21535.58842584,   80266.24769344,  108271.66585014,\n",
       "         36732.61374459,  -68578.23403661, -110838.56970928,\n",
       "        -51194.43554949,   55517.62655927,  111187.03884209,\n",
       "         64631.60037879,  -41345.83340887, -109310.09863649,\n",
       "        -76775.16328708,   26346.50312167,  105245.31606348,\n",
       "         87382.07078017,  -10819.84739537,  -99074.04777388,\n",
       "        -96240.02553247,   -4923.36765012,   90919.81174447,\n",
       "        103171.7355194 ,   20568.04145862,  -80945.81506483,\n",
       "       -108038.46251843,  -35801.04577748,   69351.6873463 ,\n",
       "        110742.79895558,   50317.49192169,  -56369.485134  ,\n",
       "       -111230.61751869,  -63826.83312297,   42259.04729349,\n",
       "        109492.1545159 ,   76058.67982533,  -27302.79433407,\n",
       "       -105562.20529602,  -86768.21153385,   11800.07576042,\n",
       "         99519.42781941,   95741.07689858,    3938.8214098 ])\n",
       "Coordinates:\n",
       "  * lat      (lat) float64 -89.5 -88.5 -87.5 -86.5 -85.5 ... 86.5 87.5 88.5 89.5</pre>"
      ],
      "text/plain": [
       "<xarray.DataArray 'lat' (lat: 180)>\n",
       "array([   3938.8214098 ,   95741.07689858,   99519.42781941,\n",
       "         11800.07576042,  -86768.21153385, -105562.20529602,\n",
       "        -27302.79433407,   76058.67982533,  109492.1545159 ,\n",
       "         42259.04729349,  -63826.83312297, -111230.61751869,\n",
       "        -56369.485134  ,   50317.49192169,  110742.79895558,\n",
       "         69351.6873463 ,  -35801.04577748, -108038.46251843,\n",
       "        -80945.81506483,   20568.04145862,  103171.7355194 ,\n",
       "         90919.81174447,   -4923.36765012,  -96240.02553247,\n",
       "        -99074.04777388,  -10819.84739537,   87382.07078017,\n",
       "        105245.31606348,   26346.50312167,  -76775.16328708,\n",
       "       -109310.09863649,  -41345.83340887,   64631.60037879,\n",
       "        111187.03884209,   55517.62655927,  -51194.43554949,\n",
       "       -110838.56970928,  -68578.23403661,   36732.61374459,\n",
       "        108271.66585014,   80266.24769344,  -21535.58842584,\n",
       "       -103537.70386286,  -90347.73185695,    5907.52815832,\n",
       "         96731.4340288 ,   98620.90555306,    9838.77132545,\n",
       "        -87989.08388497, -104920.18115399,  -25388.14773424,\n",
       "         77485.63162893,  109119.47861576,   40429.38019352,\n",
       "        -65431.303929  , -111134.74897112,  -54661.41833334,\n",
       "         52067.36823606,  110925.6565702 ,   67799.40781357,\n",
       "        -37661.30381387, -108496.38639884,  -79580.39168544,\n",
       "         22501.44813977,  103895.56031602,   89768.57347664,\n",
       "         -6891.22582817,  -97215.26388708,  -98160.03665937,\n",
       "         -8856.92441523,   88589.20329047,  104586.82604096,\n",
       "         24427.80325625,  -78190.02918767, -108920.30938824,\n",
       "        -39509.759449  ,   66225.88111905,  111073.75200255,\n",
       "         53800.92753776,  -52936.22158956, -111004.05271533,\n",
       "        -67015.26969604,   38587.04322504,  108712.60655828,\n",
       "         78888.30077571,  -23465.54492801, -104245.27684182,\n",
       "        -89182.38197899,    7874.3835897 ,   97691.4772006 ,\n",
       "         97691.4772006 ,    7874.3835897 ,  -89182.38197899,\n",
       "       -104245.27684182,  -23465.54492801,   78888.30077571,\n",
       "        108712.60655828,   38587.04322504,  -67015.26969604,\n",
       "       -111004.05271533,  -52936.22158956,   53800.92753776,\n",
       "        111073.75200255,   66225.88111905,  -39509.759449  ,\n",
       "       -108920.30938824,  -78190.02918767,   24427.80325625,\n",
       "        104586.82604096,   88589.20329047,   -8856.92441523,\n",
       "        -98160.03665937,  -97215.26388708,   -6891.22582817,\n",
       "         89768.57347664,  103895.56031602,   22501.44813977,\n",
       "        -79580.39168544, -108496.38639884,  -37661.30381387,\n",
       "         67799.40781357,  110925.6565702 ,   52067.36823606,\n",
       "        -54661.41833334, -111134.74897112,  -65431.303929  ,\n",
       "         40429.38019352,  109119.47861576,   77485.63162893,\n",
       "        -25388.14773424, -104920.18115399,  -87989.08388497,\n",
       "          9838.77132545,   98620.90555306,   96731.4340288 ,\n",
       "          5907.52815832,  -90347.73185695, -103537.70386286,\n",
       "        -21535.58842584,   80266.24769344,  108271.66585014,\n",
       "         36732.61374459,  -68578.23403661, -110838.56970928,\n",
       "        -51194.43554949,   55517.62655927,  111187.03884209,\n",
       "         64631.60037879,  -41345.83340887, -109310.09863649,\n",
       "        -76775.16328708,   26346.50312167,  105245.31606348,\n",
       "         87382.07078017,  -10819.84739537,  -99074.04777388,\n",
       "        -96240.02553247,   -4923.36765012,   90919.81174447,\n",
       "        103171.7355194 ,   20568.04145862,  -80945.81506483,\n",
       "       -108038.46251843,  -35801.04577748,   69351.6873463 ,\n",
       "        110742.79895558,   50317.49192169,  -56369.485134  ,\n",
       "       -111230.61751869,  -63826.83312297,   42259.04729349,\n",
       "        109492.1545159 ,   76058.67982533,  -27302.79433407,\n",
       "       -105562.20529602,  -86768.21153385,   11800.07576042,\n",
       "         99519.42781941,   95741.07689858,    3938.8214098 ])\n",
       "Coordinates:\n",
       "  * lat      (lat) float64 -89.5 -88.5 -87.5 -86.5 -85.5 ... 86.5 87.5 88.5 89.5"
      ]
     },
     "execution_count": 27,
     "metadata": {},
     "output_type": "execute_result"
    }
   ],
   "source": [
    "dx"
   ]
  },
  {
   "cell_type": "code",
   "execution_count": 25,
   "metadata": {},
   "outputs": [
    {
     "ename": "ValueError",
     "evalue": "conflicting sizes for dimension 'lon': length 180 on the data but length 360 on coordinate 'lon'",
     "output_type": "error",
     "traceback": [
      "\u001b[0;31m---------------------------------------------------------------------------\u001b[0m",
      "\u001b[0;31mValueError\u001b[0m                                Traceback (most recent call last)",
      "\u001b[0;32m<ipython-input-25-bf5c4d5338a1>\u001b[0m in \u001b[0;36m<module>\u001b[0;34m\u001b[0m\n\u001b[1;32m      1\u001b[0m \u001b[0;31m# Create a dx variable\u001b[0m\u001b[0;34m\u001b[0m\u001b[0;34m\u001b[0m\u001b[0;34m\u001b[0m\u001b[0m\n\u001b[1;32m      2\u001b[0m \u001b[0mdx\u001b[0m \u001b[0;34m=\u001b[0m \u001b[0mnp\u001b[0m\u001b[0;34m.\u001b[0m\u001b[0mcos\u001b[0m\u001b[0;34m(\u001b[0m\u001b[0mds\u001b[0m\u001b[0;34m.\u001b[0m\u001b[0mlat\u001b[0m\u001b[0;34m)\u001b[0m\u001b[0;34m*\u001b[0m\u001b[0mnp\u001b[0m\u001b[0;34m.\u001b[0m\u001b[0mpi\u001b[0m\u001b[0;34m*\u001b[0m\u001b[0mrad_earth\u001b[0m\u001b[0;34m/\u001b[0m\u001b[0;36m360\u001b[0m\u001b[0;34m\u001b[0m\u001b[0;34m\u001b[0m\u001b[0m\n\u001b[0;32m----> 3\u001b[0;31m \u001b[0mdx\u001b[0m \u001b[0;34m=\u001b[0m \u001b[0mxr\u001b[0m\u001b[0;34m.\u001b[0m\u001b[0mDataArray\u001b[0m\u001b[0;34m(\u001b[0m\u001b[0mdx\u001b[0m\u001b[0;34m,\u001b[0m \u001b[0mcoords\u001b[0m\u001b[0;34m=\u001b[0m\u001b[0;34m{\u001b[0m\u001b[0;34m'lon'\u001b[0m\u001b[0;34m:\u001b[0m\u001b[0mds\u001b[0m\u001b[0;34m.\u001b[0m\u001b[0mlon\u001b[0m\u001b[0;34m}\u001b[0m\u001b[0;34m,\u001b[0m \u001b[0mdims\u001b[0m\u001b[0;34m=\u001b[0m\u001b[0;34m'lon'\u001b[0m\u001b[0;34m)\u001b[0m\u001b[0;34m\u001b[0m\u001b[0;34m\u001b[0m\u001b[0m\n\u001b[0m",
      "\u001b[0;32m/srv/conda/envs/notebook/lib/python3.7/site-packages/xarray/core/dataarray.py\u001b[0m in \u001b[0;36m__init__\u001b[0;34m(self, data, coords, dims, name, attrs, encoding, indexes, fastpath)\u001b[0m\n\u001b[1;32m    366\u001b[0m             \u001b[0mdata\u001b[0m \u001b[0;34m=\u001b[0m \u001b[0m_check_data_shape\u001b[0m\u001b[0;34m(\u001b[0m\u001b[0mdata\u001b[0m\u001b[0;34m,\u001b[0m \u001b[0mcoords\u001b[0m\u001b[0;34m,\u001b[0m \u001b[0mdims\u001b[0m\u001b[0;34m)\u001b[0m\u001b[0;34m\u001b[0m\u001b[0;34m\u001b[0m\u001b[0m\n\u001b[1;32m    367\u001b[0m             \u001b[0mdata\u001b[0m \u001b[0;34m=\u001b[0m \u001b[0mas_compatible_data\u001b[0m\u001b[0;34m(\u001b[0m\u001b[0mdata\u001b[0m\u001b[0;34m)\u001b[0m\u001b[0;34m\u001b[0m\u001b[0;34m\u001b[0m\u001b[0m\n\u001b[0;32m--> 368\u001b[0;31m             \u001b[0mcoords\u001b[0m\u001b[0;34m,\u001b[0m \u001b[0mdims\u001b[0m \u001b[0;34m=\u001b[0m \u001b[0m_infer_coords_and_dims\u001b[0m\u001b[0;34m(\u001b[0m\u001b[0mdata\u001b[0m\u001b[0;34m.\u001b[0m\u001b[0mshape\u001b[0m\u001b[0;34m,\u001b[0m \u001b[0mcoords\u001b[0m\u001b[0;34m,\u001b[0m \u001b[0mdims\u001b[0m\u001b[0;34m)\u001b[0m\u001b[0;34m\u001b[0m\u001b[0;34m\u001b[0m\u001b[0m\n\u001b[0m\u001b[1;32m    369\u001b[0m             \u001b[0mvariable\u001b[0m \u001b[0;34m=\u001b[0m \u001b[0mVariable\u001b[0m\u001b[0;34m(\u001b[0m\u001b[0mdims\u001b[0m\u001b[0;34m,\u001b[0m \u001b[0mdata\u001b[0m\u001b[0;34m,\u001b[0m \u001b[0mattrs\u001b[0m\u001b[0;34m,\u001b[0m \u001b[0mencoding\u001b[0m\u001b[0;34m,\u001b[0m \u001b[0mfastpath\u001b[0m\u001b[0;34m=\u001b[0m\u001b[0;32mTrue\u001b[0m\u001b[0;34m)\u001b[0m\u001b[0;34m\u001b[0m\u001b[0;34m\u001b[0m\u001b[0m\n\u001b[1;32m    370\u001b[0m \u001b[0;34m\u001b[0m\u001b[0m\n",
      "\u001b[0;32m/srv/conda/envs/notebook/lib/python3.7/site-packages/xarray/core/dataarray.py\u001b[0m in \u001b[0;36m_infer_coords_and_dims\u001b[0;34m(shape, coords, dims)\u001b[0m\n\u001b[1;32m    150\u001b[0m                     \u001b[0;34m\"conflicting sizes for dimension %r: \"\u001b[0m\u001b[0;34m\u001b[0m\u001b[0;34m\u001b[0m\u001b[0m\n\u001b[1;32m    151\u001b[0m                     \u001b[0;34m\"length %s on the data but length %s on \"\u001b[0m\u001b[0;34m\u001b[0m\u001b[0;34m\u001b[0m\u001b[0m\n\u001b[0;32m--> 152\u001b[0;31m                     \u001b[0;34m\"coordinate %r\"\u001b[0m \u001b[0;34m%\u001b[0m \u001b[0;34m(\u001b[0m\u001b[0md\u001b[0m\u001b[0;34m,\u001b[0m \u001b[0msizes\u001b[0m\u001b[0;34m[\u001b[0m\u001b[0md\u001b[0m\u001b[0;34m]\u001b[0m\u001b[0;34m,\u001b[0m \u001b[0ms\u001b[0m\u001b[0;34m,\u001b[0m \u001b[0mk\u001b[0m\u001b[0;34m)\u001b[0m\u001b[0;34m\u001b[0m\u001b[0;34m\u001b[0m\u001b[0m\n\u001b[0m\u001b[1;32m    153\u001b[0m                 )\n\u001b[1;32m    154\u001b[0m \u001b[0;34m\u001b[0m\u001b[0m\n",
      "\u001b[0;31mValueError\u001b[0m: conflicting sizes for dimension 'lon': length 180 on the data but length 360 on coordinate 'lon'"
     ]
    }
   ],
   "source": [
    "# Create a dx variable\n",
    "dx = 2*np.cos(ds.lat)*np.pi*rad_earth/360\n",
    "dx = xr.DataArray(dx, coords={'lon':ds.lon}, dims='lon')"
   ]
  },
  {
   "cell_type": "code",
   "execution_count": 28,
   "metadata": {},
   "outputs": [],
   "source": [
    "dV = dx * dy * dz"
   ]
  },
  {
   "cell_type": "raw",
   "metadata": {},
   "source": [
    "# weight by volume of grid cell (resolution = 5degree, 1degree=110km)\n",
    "dVol = dz * (5*110e3) * (5*110e3*np.cos(ds.lat*np.pi/180))"
   ]
  },
  {
   "cell_type": "code",
   "execution_count": 29,
   "metadata": {},
   "outputs": [
    {
     "ename": "ValueError",
     "evalue": "indexes along dimension 'lat' are not equal",
     "output_type": "error",
     "traceback": [
      "\u001b[0;31m---------------------------------------------------------------------------\u001b[0m",
      "\u001b[0;31mValueError\u001b[0m                                Traceback (most recent call last)",
      "\u001b[0;32m<ipython-input-29-d718c646ac3e>\u001b[0m in \u001b[0;36m<module>\u001b[0;34m\u001b[0m\n\u001b[1;32m      7\u001b[0m ts_hist = histogram(temp, salt, \n\u001b[1;32m      8\u001b[0m                     \u001b[0mbins\u001b[0m\u001b[0;34m=\u001b[0m\u001b[0;34m[\u001b[0m\u001b[0mtheta_bins\u001b[0m\u001b[0;34m,\u001b[0m \u001b[0msalt_bins\u001b[0m\u001b[0;34m]\u001b[0m\u001b[0;34m,\u001b[0m\u001b[0;34m\u001b[0m\u001b[0;34m\u001b[0m\u001b[0m\n\u001b[0;32m----> 9\u001b[0;31m                     weights=dV, dim=['lon', 'lat', 'lev']) / (delta_salt * delta_theta)\n\u001b[0m\u001b[1;32m     10\u001b[0m \u001b[0;34m\u001b[0m\u001b[0m\n\u001b[1;32m     11\u001b[0m ts_hist.where(ts_hist>0).plot(norm=LogNorm(), figsize=(12,8), \n",
      "\u001b[0;32m/srv/conda/envs/notebook/lib/python3.7/site-packages/xhistogram/xarray.py\u001b[0m in \u001b[0;36mhistogram\u001b[0;34m(bins, dim, weights, density, block_size, bin_dim_suffix, bin_edge_suffix, *args)\u001b[0m\n\u001b[1;32m     86\u001b[0m     \u001b[0;31m# explicitly broadcast so we understand what is going into apply_ufunc\u001b[0m\u001b[0;34m\u001b[0m\u001b[0;34m\u001b[0m\u001b[0;34m\u001b[0m\u001b[0m\n\u001b[1;32m     87\u001b[0m     \u001b[0;31m# (apply_ufunc might be doing this by itself again)\u001b[0m\u001b[0;34m\u001b[0m\u001b[0;34m\u001b[0m\u001b[0;34m\u001b[0m\u001b[0m\n\u001b[0;32m---> 88\u001b[0;31m     \u001b[0margs\u001b[0m \u001b[0;34m=\u001b[0m \u001b[0mlist\u001b[0m\u001b[0;34m(\u001b[0m\u001b[0mxr\u001b[0m\u001b[0;34m.\u001b[0m\u001b[0malign\u001b[0m\u001b[0;34m(\u001b[0m\u001b[0;34m*\u001b[0m\u001b[0margs\u001b[0m\u001b[0;34m,\u001b[0m \u001b[0mjoin\u001b[0m\u001b[0;34m=\u001b[0m\u001b[0;34m'exact'\u001b[0m\u001b[0;34m)\u001b[0m\u001b[0;34m)\u001b[0m\u001b[0;34m\u001b[0m\u001b[0;34m\u001b[0m\u001b[0m\n\u001b[0m\u001b[1;32m     89\u001b[0m \u001b[0;34m\u001b[0m\u001b[0m\n\u001b[1;32m     90\u001b[0m \u001b[0;34m\u001b[0m\u001b[0m\n",
      "\u001b[0;32m/srv/conda/envs/notebook/lib/python3.7/site-packages/xarray/core/alignment.py\u001b[0m in \u001b[0;36malign\u001b[0;34m(join, copy, indexes, exclude, fill_value, *objects)\u001b[0m\n\u001b[1;32m    295\u001b[0m             ):\n\u001b[1;32m    296\u001b[0m                 \u001b[0;32mif\u001b[0m \u001b[0mjoin\u001b[0m \u001b[0;34m==\u001b[0m \u001b[0;34m\"exact\"\u001b[0m\u001b[0;34m:\u001b[0m\u001b[0;34m\u001b[0m\u001b[0;34m\u001b[0m\u001b[0m\n\u001b[0;32m--> 297\u001b[0;31m                     \u001b[0;32mraise\u001b[0m \u001b[0mValueError\u001b[0m\u001b[0;34m(\u001b[0m\u001b[0;34mf\"indexes along dimension {dim!r} are not equal\"\u001b[0m\u001b[0;34m)\u001b[0m\u001b[0;34m\u001b[0m\u001b[0;34m\u001b[0m\u001b[0m\n\u001b[0m\u001b[1;32m    298\u001b[0m                 \u001b[0mindex\u001b[0m \u001b[0;34m=\u001b[0m \u001b[0mjoiner\u001b[0m\u001b[0;34m(\u001b[0m\u001b[0mmatching_indexes\u001b[0m\u001b[0;34m)\u001b[0m\u001b[0;34m\u001b[0m\u001b[0;34m\u001b[0m\u001b[0m\n\u001b[1;32m    299\u001b[0m                 \u001b[0mjoined_indexes\u001b[0m\u001b[0;34m[\u001b[0m\u001b[0mdim\u001b[0m\u001b[0;34m]\u001b[0m \u001b[0;34m=\u001b[0m \u001b[0mindex\u001b[0m\u001b[0;34m\u001b[0m\u001b[0;34m\u001b[0m\u001b[0m\n",
      "\u001b[0;31mValueError\u001b[0m: indexes along dimension 'lat' are not equal"
     ]
    }
   ],
   "source": [
    "salt_bins = np.linspace(33, 35, 100)\n",
    "theta_bins = np.linspace(-2.2, 4.2, 100)\n",
    "\n",
    "delta_salt = salt_bins[1] - salt_bins[0]\n",
    "delta_theta = theta_bins[1] - theta_bins[0]\n",
    "\n",
    "ts_hist = histogram(temp, salt, \n",
    "                    bins=[theta_bins, salt_bins], \n",
    "                    weights=dV, dim=['lon', 'lat', 'lev']) / (delta_salt * delta_theta)\n",
    "\n",
    "ts_hist.where(ts_hist>0).plot(norm=LogNorm(), figsize=(12,8), \n",
    "                              cbar_kwargs={'shrink':0.8, 'label': r'volume [$\\frac{m^3}{psu ˚C}$]'})\n",
    "\n",
    "plt.xlabel('Salinity [psu]')\n",
    "plt.ylabel('Potential Temperature [˚C]')\n",
    "plt.title('Volume-weighted mean histogram, T-S Diagram of Weddell Gyre \\n 1981-2010 (WOA data)', fontsize=20);"
   ]
  },
  {
   "cell_type": "markdown",
   "metadata": {},
   "source": [
    "* You can take the difference between the scatter plots (ex: SOSE-WOA) and compare does the model have enough points\n",
    "* this is a naive way - there is no weights involved, you have to figure that out yourself for WOA data - refer back to notes in Slack by Ryan and maybe xgcm package by Julius"
   ]
  },
  {
   "cell_type": "markdown",
   "metadata": {},
   "source": [
    "## 2005 - 2017"
   ]
  },
  {
   "cell_type": "code",
   "execution_count": null,
   "metadata": {},
   "outputs": [],
   "source": [
    "ds_salt_0517 = xr.open_dataset('http://apdrc.soest.hawaii.edu:80/dods/public_data/WOA/WOA18/1_deg/annual/2005-2017/salt')\n",
    "ds_temp_0517 = xr.open_dataset('http://apdrc.soest.hawaii.edu:80/dods/public_data/WOA/WOA18/1_deg/annual/2005-2017/temp')\n",
    "ds_0517 = xr.merge([ds_salt_0517, ds_temp_0517])\n",
    "ds_0517"
   ]
  },
  {
   "cell_type": "code",
   "execution_count": null,
   "metadata": {},
   "outputs": [],
   "source": [
    "temp_0517 = ds_0517.tan.sel(**lat_range, **lon_range)\n",
    "salt_0517 = ds_0517.san.sel(**lat_range, **lon_range)"
   ]
  },
  {
   "cell_type": "code",
   "execution_count": null,
   "metadata": {},
   "outputs": [],
   "source": [
    "ts_hist_0517 = histogram(temp_0517, salt_0517, bins=[theta_bins, salt_bins]) / (delta_salt * delta_theta)\n",
    "ts_hist_0517.where(ts_hist_0517>0).plot(norm=LogNorm(), figsize=(12,8), \n",
    "                                        cbar_kwargs={'shrink':0.8, 'label': r'volume [$\\frac{m^3}{psu ˚C}$]'})\n",
    "\n",
    "plt.xlabel('Salinity [psu]')\n",
    "plt.ylabel('Potential Temperature [˚C]')\n",
    "plt.title('Volume-weighted mean histogram, T-S Diagram of Weddell Gyre \\n 2005-2017 (WOA data)', fontsize=20);"
   ]
  },
  {
   "cell_type": "code",
   "execution_count": null,
   "metadata": {},
   "outputs": [],
   "source": []
  }
 ],
 "metadata": {
  "kernelspec": {
   "display_name": "Python 3",
   "language": "python",
   "name": "python3"
  },
  "language_info": {
   "codemirror_mode": {
    "name": "ipython",
    "version": 3
   },
   "file_extension": ".py",
   "mimetype": "text/x-python",
   "name": "python",
   "nbconvert_exporter": "python",
   "pygments_lexer": "ipython3",
   "version": "3.7.3"
  }
 },
 "nbformat": 4,
 "nbformat_minor": 4
}
