{
 "cells": [
  {
   "cell_type": "markdown",
   "metadata": {},
   "source": [
    "# Volume-weighted T/S Diagram from WOA"
   ]
  },
  {
   "cell_type": "code",
   "execution_count": 1,
   "metadata": {},
   "outputs": [],
   "source": [
    "import pandas as pd\n",
    "import numpy as np\n",
    "from matplotlib import pyplot as plt\n",
    "%matplotlib inline\n",
    "import xarray as xr\n",
    "import gsw"
   ]
  },
  {
   "cell_type": "code",
   "execution_count": 2,
   "metadata": {},
   "outputs": [],
   "source": [
    "from xhistogram.xarray import histogram\n",
    "from matplotlib.colors import LogNorm"
   ]
  },
  {
   "cell_type": "code",
   "execution_count": 3,
   "metadata": {},
   "outputs": [
    {
     "data": {
      "text/html": [
       "<pre>&lt;xarray.Dataset&gt;\n",
       "Dimensions:  (lat: 180, lev: 102, lon: 360, time: 1)\n",
       "Coordinates:\n",
       "  * time     (time) datetime64[ns] 2000-01-15\n",
       "  * lev      (lev) float64 0.0 5.0 10.0 15.0 ... 5.2e+03 5.3e+03 5.4e+03 5.5e+03\n",
       "  * lat      (lat) float64 -89.5 -88.5 -87.5 -86.5 -85.5 ... 86.5 87.5 88.5 89.5\n",
       "  * lon      (lon) float64 -179.5 -178.5 -177.5 -176.5 ... 177.5 178.5 179.5\n",
       "Data variables:\n",
       "    san      (time, lev, lat, lon) float32 ...\n",
       "    smn      (time, lev, lat, lon) float32 ...\n",
       "    sdd      (time, lev, lat, lon) float32 ...\n",
       "    ssd      (time, lev, lat, lon) float32 ...\n",
       "    sse      (time, lev, lat, lon) float32 ...\n",
       "    soa      (time, lev, lat, lon) float32 ...\n",
       "    sgp      (time, lev, lat, lon) float32 ...\n",
       "    tan      (time, lev, lat, lon) float32 ...\n",
       "    tmn      (time, lev, lat, lon) float32 ...\n",
       "    tdd      (time, lev, lat, lon) float32 ...\n",
       "    tsd      (time, lev, lat, lon) float32 ...\n",
       "    tse      (time, lev, lat, lon) float32 ...\n",
       "    toa      (time, lev, lat, lon) float32 ...\n",
       "    tgp      (time, lev, lat, lon) float32 ...</pre>"
      ],
      "text/plain": [
       "<xarray.Dataset>\n",
       "Dimensions:  (lat: 180, lev: 102, lon: 360, time: 1)\n",
       "Coordinates:\n",
       "  * time     (time) datetime64[ns] 2000-01-15\n",
       "  * lev      (lev) float64 0.0 5.0 10.0 15.0 ... 5.2e+03 5.3e+03 5.4e+03 5.5e+03\n",
       "  * lat      (lat) float64 -89.5 -88.5 -87.5 -86.5 -85.5 ... 86.5 87.5 88.5 89.5\n",
       "  * lon      (lon) float64 -179.5 -178.5 -177.5 -176.5 ... 177.5 178.5 179.5\n",
       "Data variables:\n",
       "    san      (time, lev, lat, lon) float32 ...\n",
       "    smn      (time, lev, lat, lon) float32 ...\n",
       "    sdd      (time, lev, lat, lon) float32 ...\n",
       "    ssd      (time, lev, lat, lon) float32 ...\n",
       "    sse      (time, lev, lat, lon) float32 ...\n",
       "    soa      (time, lev, lat, lon) float32 ...\n",
       "    sgp      (time, lev, lat, lon) float32 ...\n",
       "    tan      (time, lev, lat, lon) float32 ...\n",
       "    tmn      (time, lev, lat, lon) float32 ...\n",
       "    tdd      (time, lev, lat, lon) float32 ...\n",
       "    tsd      (time, lev, lat, lon) float32 ...\n",
       "    tse      (time, lev, lat, lon) float32 ...\n",
       "    toa      (time, lev, lat, lon) float32 ...\n",
       "    tgp      (time, lev, lat, lon) float32 ..."
      ]
     },
     "execution_count": 3,
     "metadata": {},
     "output_type": "execute_result"
    }
   ],
   "source": [
    "ds_salt = xr.open_dataset('http://apdrc.soest.hawaii.edu:80/dods/public_data/WOA/WOA18/1_deg/annual/Avg_Decades_1981-2010/salt')\n",
    "ds_temp = xr.open_dataset('http://apdrc.soest.hawaii.edu:80/dods/public_data/WOA/WOA18/1_deg/annual/Avg_Decades_1981-2010/temp')\n",
    "ds = xr.merge([ds_salt, ds_temp])\n",
    "ds"
   ]
  },
  {
   "cell_type": "raw",
   "metadata": {},
   "source": [
    "sbins = np.arange(31,38, 0.025)\n",
    "tbins = np.arange(-2, 32, 0.1)"
   ]
  },
  {
   "cell_type": "raw",
   "metadata": {},
   "source": [
    "sst = ds.tan[0].load()\n",
    "sss = ds.san[0].load()\n",
    "ds_surf = xr.merge([sst, sss])"
   ]
  },
  {
   "cell_type": "raw",
   "metadata": {},
   "source": [
    "ds_surf"
   ]
  },
  {
   "cell_type": "raw",
   "metadata": {},
   "source": [
    "salt_bins = np.linspace(30, 37, 100)\n",
    "theta_bins = np.linspace(-2, 32, 100)\n",
    "ts_hist = histogram(ds_surf.tan, ds_surf.san, bins=[theta_bins, salt_bins])\n",
    "ts_hist.where(ts_hist>0).plot(norm=LogNorm())"
   ]
  },
  {
   "cell_type": "raw",
   "metadata": {},
   "source": [
    "lower_lat = -79.88\n",
    "upper_lat = -59.88\n",
    "left_lon = -74.88\n",
    "right_lon = 30.12"
   ]
  },
  {
   "cell_type": "code",
   "execution_count": 4,
   "metadata": {},
   "outputs": [],
   "source": [
    "#WG boundaries (65˚W, 30˚E; 80˚S, 55˚S)\n",
    "lower_lat = -79.5\n",
    "upper_lat = -54.5\n",
    "left_lon = -64.5\n",
    "right_lon = 30.5"
   ]
  },
  {
   "cell_type": "code",
   "execution_count": 5,
   "metadata": {},
   "outputs": [],
   "source": [
    "#set the boundaries\n",
    "lat_range = dict(lat=slice(lower_lat, upper_lat))\n",
    "lon_range = dict(lon=slice(left_lon, right_lon))"
   ]
  },
  {
   "cell_type": "code",
   "execution_count": 6,
   "metadata": {},
   "outputs": [],
   "source": [
    "temp = ds.tan.sel(**lat_range, **lon_range)\n",
    "salt = ds.san.sel(**lat_range, **lon_range)"
   ]
  },
  {
   "cell_type": "code",
   "execution_count": 7,
   "metadata": {},
   "outputs": [
    {
     "data": {
      "text/plain": [
       "<matplotlib.collections.QuadMesh at 0x7f067035a278>"
      ]
     },
     "execution_count": 7,
     "metadata": {},
     "output_type": "execute_result"
    },
    {
     "data": {
      "image/png": "[encoded data removed]",
      "text/plain": [
       "<Figure size 432x288 with 2 Axes>"
      ]
     },
     "metadata": {
      "needs_background": "light"
     },
     "output_type": "display_data"
    }
   ],
   "source": [
    "temp[0,0].plot()"
   ]
  },
  {
   "cell_type": "code",
   "execution_count": 8,
   "metadata": {},
   "outputs": [],
   "source": [
    "land_mask = ds.tan.isnull()"
   ]
  },
  {
   "cell_type": "code",
   "execution_count": 9,
   "metadata": {},
   "outputs": [
    {
     "data": {
      "text/plain": [
       "<matplotlib.collections.QuadMesh at 0x7f06702566a0>"
      ]
     },
     "execution_count": 9,
     "metadata": {},
     "output_type": "execute_result"
    },
    {
     "data": {
      "image/png": "[encoded data removed]",
      "text/plain": [
       "<Figure size 432x288 with 2 Axes>"
      ]
     },
     "metadata": {
      "needs_background": "light"
     },
     "output_type": "display_data"
    }
   ],
   "source": [
    "temp[0,0].where(~land_mask[0,0]).plot()"
   ]
  },
  {
   "cell_type": "code",
   "execution_count": 11,
   "metadata": {},
   "outputs": [],
   "source": [
    "# Create a dz variable\n",
    "dz = np.diff(ds.lev)\n",
    "dz = np.insert(dz, 0, dz[0]) #inserts 1st value of original dz into the first index to make it same size as ds.lev\n",
    "dz = xr.DataArray(dz, coords= {'lev':ds.lev}, dims='lev')"
   ]
  },
  {
   "cell_type": "raw",
   "metadata": {},
   "source": [
    "rad_earth = 6378.1e3 #meters\n",
    "\n",
    "# Create a dy variable\n",
    "dy = np.diff(ds.lat*np.pi*rad_earth/180)\n",
    "dy = np.insert(dy, 0, dy[0]) #inserts 1st value of original dy into the first index to make it same size as ds.lat\n",
    "dy = xr.DataArray(dy, coords= {'lat':ds.lat}, dims='lat')"
   ]
  },
  {
   "cell_type": "code",
   "execution_count": 12,
   "metadata": {},
   "outputs": [
    {
     "data": {
      "text/plain": [
       "(1.0, 1.0)"
      ]
     },
     "execution_count": 12,
     "metadata": {},
     "output_type": "execute_result"
    }
   ],
   "source": [
    "dlat = np.diff(ds.lat)[0]\n",
    "\n",
    "# check that spacing is uniform\n",
    "np.testing.assert_allclose(np.diff(ds.lat), dlat)\n",
    "dlon = np.diff(ds.lon)[0]\n",
    "np.testing.assert_allclose(np.diff(ds.lon), dlon)\n",
    "(dlon, dlat)"
   ]
  },
  {
   "cell_type": "code",
   "execution_count": 13,
   "metadata": {},
   "outputs": [
    {
     "data": {
      "text/plain": [
       "111318.84502145034"
      ]
     },
     "execution_count": 13,
     "metadata": {},
     "output_type": "execute_result"
    }
   ],
   "source": [
    "rad_earth = 6378.1e3 #meters\n",
    "\n",
    "#create a dy variable\n",
    "dy = rad_earth * np.deg2rad(dlat)\n",
    "dy"
   ]
  },
  {
   "cell_type": "code",
   "execution_count": 14,
   "metadata": {},
   "outputs": [],
   "source": [
    "#create a dx variable\n",
    "dx = rad_earth * np.deg2rad(dlon) * np.cos(np.deg2rad(ds.lat))"
   ]
  },
  {
   "cell_type": "code",
   "execution_count": 15,
   "metadata": {},
   "outputs": [
    {
     "data": {
      "text/html": [
       "<pre>&lt;xarray.DataArray &#x27;lat&#x27; (lat: 180, lon: 360)&gt;\n",
       "array([[1.08138227e+08, 1.08138227e+08, 1.08138227e+08, ...,\n",
       "        1.08138227e+08, 1.08138227e+08, 1.08138227e+08],\n",
       "       [3.24381740e+08, 3.24381740e+08, 3.24381740e+08, ...,\n",
       "        3.24381740e+08, 3.24381740e+08, 3.24381740e+08],\n",
       "       [5.40526443e+08, 5.40526443e+08, 5.40526443e+08, ...,\n",
       "        5.40526443e+08, 5.40526443e+08, 5.40526443e+08],\n",
       "       ...,\n",
       "       [5.40526443e+08, 5.40526443e+08, 5.40526443e+08, ...,\n",
       "        5.40526443e+08, 5.40526443e+08, 5.40526443e+08],\n",
       "       [3.24381740e+08, 3.24381740e+08, 3.24381740e+08, ...,\n",
       "        3.24381740e+08, 3.24381740e+08, 3.24381740e+08],\n",
       "       [1.08138227e+08, 1.08138227e+08, 1.08138227e+08, ...,\n",
       "        1.08138227e+08, 1.08138227e+08, 1.08138227e+08]])\n",
       "Coordinates:\n",
       "  * lat      (lat) float64 -89.5 -88.5 -87.5 -86.5 -85.5 ... 86.5 87.5 88.5 89.5\n",
       "  * lon      (lon) float64 -179.5 -178.5 -177.5 -176.5 ... 177.5 178.5 179.5</pre>"
      ],
      "text/plain": [
       "<xarray.DataArray 'lat' (lat: 180, lon: 360)>\n",
       "array([[1.08138227e+08, 1.08138227e+08, 1.08138227e+08, ...,\n",
       "        1.08138227e+08, 1.08138227e+08, 1.08138227e+08],\n",
       "       [3.24381740e+08, 3.24381740e+08, 3.24381740e+08, ...,\n",
       "        3.24381740e+08, 3.24381740e+08, 3.24381740e+08],\n",
       "       [5.40526443e+08, 5.40526443e+08, 5.40526443e+08, ...,\n",
       "        5.40526443e+08, 5.40526443e+08, 5.40526443e+08],\n",
       "       ...,\n",
       "       [5.40526443e+08, 5.40526443e+08, 5.40526443e+08, ...,\n",
       "        5.40526443e+08, 5.40526443e+08, 5.40526443e+08],\n",
       "       [3.24381740e+08, 3.24381740e+08, 3.24381740e+08, ...,\n",
       "        3.24381740e+08, 3.24381740e+08, 3.24381740e+08],\n",
       "       [1.08138227e+08, 1.08138227e+08, 1.08138227e+08, ...,\n",
       "        1.08138227e+08, 1.08138227e+08, 1.08138227e+08]])\n",
       "Coordinates:\n",
       "  * lat      (lat) float64 -89.5 -88.5 -87.5 -86.5 -85.5 ... 86.5 87.5 88.5 89.5\n",
       "  * lon      (lon) float64 -179.5 -178.5 -177.5 -176.5 ... 177.5 178.5 179.5"
      ]
     },
     "execution_count": 15,
     "metadata": {},
     "output_type": "execute_result"
    }
   ],
   "source": [
    "area, _, _ = xr.broadcast(dx * dy, ds.lat, ds.lon)\n",
    "area"
   ]
  },
  {
   "cell_type": "code",
   "execution_count": 19,
   "metadata": {},
   "outputs": [],
   "source": [
    "dV = area * dz\n",
    "dV_wg = dV.sel(**lat_range, **lon_range).where(~land_mask[0])"
   ]
  },
  {
   "cell_type": "code",
   "execution_count": 20,
   "metadata": {},
   "outputs": [
    {
     "data": {
      "text/html": [
       "<pre>&lt;xarray.DataArray ()&gt;\n",
       "array(3.77134558e+16)\n",
       "Coordinates:\n",
       "    time     datetime64[ns] 2000-01-15</pre>"
      ],
      "text/plain": [
       "<xarray.DataArray ()>\n",
       "array(3.77134558e+16)\n",
       "Coordinates:\n",
       "    time     datetime64[ns] 2000-01-15"
      ]
     },
     "execution_count": 20,
     "metadata": {},
     "output_type": "execute_result"
    }
   ],
   "source": [
    "dV_wg.sum()"
   ]
  },
  {
   "cell_type": "code",
   "execution_count": null,
   "metadata": {},
   "outputs": [],
   "source": [
    "#salt_bins = np.linspace(33, 35, 100)\n",
    "#theta_bins = np.linspace(-2.2, 4.2, 100)\n",
    "\n",
    "salt_bins = np.linspace(31, 35, 100) #to match model bins\n",
    "theta_bins = np.linspace(-2.5, 8, 100) #to match model bins\n",
    "\n",
    "delta_salt = salt_bins[1] - salt_bins[0]\n",
    "delta_theta = theta_bins[1] - theta_bins[0]"
   ]
  },
  {
   "cell_type": "code",
   "execution_count": null,
   "metadata": {},
   "outputs": [],
   "source": [
    "# open an issue on xhistogram that describes this error when not using [0]\n",
    "# xhistogram should be able to deal with it fine\n",
    "# (use synthetic example, not real data)\n",
    "ts_hist_8110 = histogram(temp[0], salt[0], \n",
    "                    bins=[theta_bins, salt_bins], \n",
    "                    weights=dV_wg,\n",
    "                    dim=['lon', 'lat', 'lev']) / (delta_salt * delta_theta)"
   ]
  },
  {
   "cell_type": "raw",
   "metadata": {},
   "source": [
    "ts_hist_8110.to_netcdf('/home/jovyan/WMT/WOA/ts_hist_8110.nc', mode='w')"
   ]
  },
  {
   "cell_type": "code",
   "execution_count": null,
   "metadata": {},
   "outputs": [],
   "source": [
    "ts_hist_8110.where(ts_hist_8110>0).plot(norm=LogNorm(), figsize=(12,8), cmap='Blues',\n",
    "                              cbar_kwargs={'shrink':0.8, 'label': r'volume [$\\frac{m^3}{psu ˚C}$]'},\n",
    "                              vmin=1e14, vmax=1e18)\n",
    "\n",
    "plt.xlabel('Salinity [psu]')\n",
    "plt.ylabel('Potential Temperature [˚C]')\n",
    "plt.title('Volume-weighted mean histogram, T-S Diagram of Weddell Gyre \\n 1981-2010 (WOA data)', fontsize=20);"
   ]
  },
  {
   "cell_type": "markdown",
   "metadata": {},
   "source": [
    "* You can take the difference between the scatter plots (ex: SOSE-WOA) and compare does the model have enough points\n",
    "* this is a naive way - there is no weights involved, you have to figure that out yourself for WOA data - refer back to notes in Slack by Ryan and maybe xgcm package by Julius"
   ]
  },
  {
   "cell_type": "markdown",
   "metadata": {},
   "source": [
    "## 2005 - 2017"
   ]
  },
  {
   "cell_type": "code",
   "execution_count": null,
   "metadata": {},
   "outputs": [],
   "source": [
    "ds_salt_0517 = xr.open_dataset('http://apdrc.soest.hawaii.edu:80/dods/public_data/WOA/WOA18/1_deg/annual/2005-2017/salt')\n",
    "ds_temp_0517 = xr.open_dataset('http://apdrc.soest.hawaii.edu:80/dods/public_data/WOA/WOA18/1_deg/annual/2005-2017/temp')\n",
    "ds_0517 = xr.merge([ds_salt_0517, ds_temp_0517])\n",
    "ds_0517"
   ]
  },
  {
   "cell_type": "code",
   "execution_count": null,
   "metadata": {},
   "outputs": [],
   "source": [
    "temp_0517 = ds_0517.tan.sel(**lat_range, **lon_range)\n",
    "salt_0517 = ds_0517.san.sel(**lat_range, **lon_range)"
   ]
  },
  {
   "cell_type": "code",
   "execution_count": null,
   "metadata": {},
   "outputs": [],
   "source": [
    "ts_hist_0517 = histogram(temp_0517[0], salt_0517[0], \n",
    "                         bins=[theta_bins, salt_bins],\n",
    "                         weights=dV_wg,\n",
    "                         dim=['lon', 'lat', 'lev']) / (delta_salt * delta_theta)"
   ]
  },
  {
   "cell_type": "raw",
   "metadata": {},
   "source": [
    "ts_hist_0517.to_netcdf('ts_hist_0517.nc', mode='w')"
   ]
  },
  {
   "cell_type": "code",
   "execution_count": null,
   "metadata": {},
   "outputs": [],
   "source": [
    "ts_hist_0517.where(ts_hist_0517>0).plot(norm=LogNorm(), figsize=(12,8), cmap='Blues',\n",
    "                                        cbar_kwargs={'shrink':0.8, 'label': r'volume [$\\frac{m^3}{psu ˚C}$]'},\n",
    "                                        vmin=1e14, vmax=1e18)\n",
    "\n",
    "plt.xlabel('Salinity [psu]')\n",
    "plt.ylabel('Potential Temperature [˚C]')\n",
    "plt.title('Volume-weighted mean histogram, T-S Diagram of Weddell Gyre \\n 2005-2017 (WOA data)', fontsize=20);"
   ]
  },
  {
   "cell_type": "code",
   "execution_count": null,
   "metadata": {},
   "outputs": [],
   "source": []
  }
 ],
 "metadata": {
  "kernelspec": {
   "display_name": "Python 3",
   "language": "python",
   "name": "python3"
  },
  "language_info": {
   "codemirror_mode": {
    "name": "ipython",
    "version": 3
   },
   "file_extension": ".py",
   "mimetype": "text/x-python",
   "name": "python",
   "nbconvert_exporter": "python",
   "pygments_lexer": "ipython3",
   "version": "3.7.3"
  }
 },
 "nbformat": 4,
 "nbformat_minor": 4
}
